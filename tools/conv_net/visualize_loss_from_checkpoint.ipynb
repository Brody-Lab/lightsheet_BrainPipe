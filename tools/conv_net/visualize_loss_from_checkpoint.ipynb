{
 "cells": [
  {
   "cell_type": "code",
   "execution_count": 2,
   "metadata": {},
   "outputs": [],
   "source": [
    "import pandas as pd\n",
    "import os\n",
    "import torch\n",
    "from torch.utils.data import DataLoader\n",
    "import torchvision.transforms as transforms\n",
    "import glob\n",
    "import matplotlib.pyplot as plt\n",
    "import h5py\n",
    "import numpy as np\n",
    "from scipy.stats import linregress\n",
    "import torch.nn as nn\n",
    "import tensorboard"
   ]
  },
  {
   "cell_type": "code",
   "execution_count": 3,
   "metadata": {},
   "outputs": [
    {
     "name": "stdout",
     "output_type": "stream",
     "text": [
      "/Users/emilydennis/Desktop/GitHub/python_code\n"
     ]
    }
   ],
   "source": [
    "print(os.getcwd())"
   ]
  },
  {
   "cell_type": "code",
   "execution_count": 8,
   "metadata": {},
   "outputs": [],
   "source": [
    "def save_stats_h5(fname):\n",
    "    '''Function to extract test loss and training loss values from h5 files saved in training.\n",
    "    '''\n",
    "\n",
    "    with h5py.File(fname) as f:\n",
    "        print('keys of file:\\n {}'.format(list(f.keys())))\n",
    "        print('base lr value: {}'.format(f['base_lr'][()]))\n",
    "        test = list(f['test'].keys())\n",
    "        print('contents of test dict: \\n {}'.format(test))\n",
    "        train = list(f['train'].keys())\n",
    "        print('contents of train dict: \\n {}'.format(train))\n",
    "        test_loss_arr = f['test'][test[2]][()] \n",
    "        train_loss_arr = f['train'][train[2]][()]\n",
    "        \n",
    "    return test_loss_arr, train_loss_arr\n",
    "\n",
    "    \n"
   ]
  },
  {
   "cell_type": "code",
   "execution_count": 9,
   "metadata": {},
   "outputs": [],
   "source": [
    "f=h5py.File('/Users/emilydennis/Desktop/stats99000.h5')"
   ]
  },
  {
   "cell_type": "code",
   "execution_count": 10,
   "metadata": {},
   "outputs": [
    {
     "name": "stdout",
     "output_type": "stream",
     "text": [
      "keys of file:\n",
      " ['base_lr', 'elapsed', 'test', 'train']\n"
     ]
    }
   ],
   "source": [
    "print('keys of file:\\n {}'.format(list(f.keys())))"
   ]
  },
  {
   "cell_type": "code",
   "execution_count": 11,
   "metadata": {},
   "outputs": [
    {
     "data": {
      "text/plain": [
       "991"
      ]
     },
     "execution_count": 11,
     "metadata": {},
     "output_type": "execute_result"
    }
   ],
   "source": [
    "test=list(f['test'])\n",
    "test_loss_arr = f['test'][test[2]][()] \n",
    "test_iter = f['test'][test[0]][()]\n",
    "len(test_iter)"
   ]
  },
  {
   "cell_type": "code",
   "execution_count": 12,
   "metadata": {},
   "outputs": [
    {
     "data": {
      "text/plain": [
       "2029"
      ]
     },
     "execution_count": 12,
     "metadata": {},
     "output_type": "execute_result"
    }
   ],
   "source": [
    "train=list(f['train'])\n",
    "train_loss_arr = f['train'][train[2]][()] \n",
    "train_iter = f['train'][train[0]][()]\n",
    "len(train_iter)"
   ]
  },
  {
   "cell_type": "code",
   "execution_count": 35,
   "metadata": {},
   "outputs": [
    {
     "data": {
      "text/plain": [
       "<matplotlib.collections.PathCollection at 0x7ff49b89a710>"
      ]
     },
     "execution_count": 35,
     "metadata": {},
     "output_type": "execute_result"
    },
    {
     "data": {
      "image/png": "[encoded data removed]",
      "text/plain": [
       "<Figure size 432x288 with 1 Axes>"
      ]
     },
     "metadata": {
      "needs_background": "light"
     },
     "output_type": "display_data"
    }
   ],
   "source": [
    "plt.scatter(test_iter/1000,np.log(test_loss_arr),s=1)"
   ]
  },
  {
   "cell_type": "code",
   "execution_count": 15,
   "metadata": {},
   "outputs": [
    {
     "name": "stdout",
     "output_type": "stream",
     "text": [
      "keys of file:\n",
      " ['base_lr', 'elapsed', 'test', 'train']\n",
      "base lr value: 0\n",
      "contents of test dict: \n",
      " ['iter', 'iter_time', 'soma_label']\n",
      "contents of train dict: \n",
      " ['iter', 'iter_time', 'soma_label']\n"
     ]
    }
   ],
   "source": [
    "test, train = save_stats_h5('/Users/emilydennis/Desktop/stats99000.h5')"
   ]
  },
  {
   "cell_type": "code",
   "execution_count": 18,
   "metadata": {},
   "outputs": [
    {
     "data": {
      "text/plain": [
       "991"
      ]
     },
     "execution_count": 18,
     "metadata": {},
     "output_type": "execute_result"
    }
   ],
   "source": [
    "len(test)"
   ]
  },
  {
   "cell_type": "code",
   "execution_count": 20,
   "metadata": {},
   "outputs": [],
   "source": [
    "end_iter = 99000"
   ]
  },
  {
   "cell_type": "code",
   "execution_count": 21,
   "metadata": {},
   "outputs": [],
   "source": [
    "start_iter = 2000"
   ]
  },
  {
   "cell_type": "code",
   "execution_count": 214,
   "metadata": {},
   "outputs": [],
   "source": [
    "dst=\"/Users/emilydennis/Desktop/\""
   ]
  },
  {
   "cell_type": "code",
   "execution_count": 100,
   "metadata": {},
   "outputs": [],
   "source": [
    "iters = np.take(test_iter, np.arange(20, len(test_iter)))"
   ]
  },
  {
   "cell_type": "code",
   "execution_count": 101,
   "metadata": {},
   "outputs": [],
   "source": [
    "loss=np.take(test_loss_arr, np.arange(20,len(test_loss_arr)))"
   ]
  },
  {
   "cell_type": "code",
   "execution_count": 92,
   "metadata": {},
   "outputs": [
    {
     "data": {
      "text/plain": [
       "941"
      ]
     },
     "execution_count": 92,
     "metadata": {},
     "output_type": "execute_result"
    }
   ],
   "source": [
    "len(loss)"
   ]
  },
  {
   "cell_type": "code",
   "execution_count": 93,
   "metadata": {},
   "outputs": [
    {
     "data": {
      "text/plain": [
       "941"
      ]
     },
     "execution_count": 93,
     "metadata": {},
     "output_type": "execute_result"
    }
   ],
   "source": [
    "len(iters)"
   ]
  },
  {
   "cell_type": "code",
   "execution_count": 94,
   "metadata": {},
   "outputs": [],
   "source": [
    " #linear regression\n",
    "fit = np.polyfit(iters, loss, 1)"
   ]
  },
  {
   "cell_type": "code",
   "execution_count": 95,
   "metadata": {},
   "outputs": [
    {
     "data": {
      "text/plain": [
       "poly1d([2.27053469e-08, 1.21842587e-02])"
      ]
     },
     "execution_count": 95,
     "metadata": {},
     "output_type": "execute_result"
    }
   ],
   "source": [
    "p=np.poly1d(fit)\n",
    "p"
   ]
  },
  {
   "cell_type": "code",
   "execution_count": 96,
   "metadata": {},
   "outputs": [
    {
     "data": {
      "text/plain": [
       "LinregressResult(slope=2.270534690213933e-08, intercept=0.01218425870336011, rvalue=0.18515736575109848, pvalue=1.0538193455332456e-08, stderr=3.9325951034847055e-09)"
      ]
     },
     "execution_count": 96,
     "metadata": {},
     "output_type": "execute_result"
    }
   ],
   "source": [
    "linreg_stats = linregress(iters,loss)\n",
    "linreg_stats"
   ]
  },
  {
   "cell_type": "code",
   "execution_count": 216,
   "metadata": {},
   "outputs": [
    {
     "data": {
      "image/png": "[encoded data removed]",
      "text/plain": [
       "<Figure size 432x288 with 1 Axes>"
      ]
     },
     "metadata": {
      "needs_background": "light"
     },
     "output_type": "display_data"
    }
   ],
   "source": [
    "plt.plot(test_iter,np.log(test_loss_arr),'k.')\n",
    "plt.plot(train_iter,np.log(train_loss_arr),'r.')\n",
    "plt.plot(6500,np.log(test_loss_arr[65]),'yo')\n",
    "plt.savefig(os.path.join(dst, \"loss_values.pdf\"))"
   ]
  },
  {
   "cell_type": "code",
   "execution_count": null,
   "metadata": {},
   "outputs": [],
   "source": [
    "plt.plot(test_iter,np.log(test_loss_arr),'k.')\n",
    "plt.plot(train_iter,np.log(train_loss_arr),'r.')"
   ]
  },
  {
   "cell_type": "code",
   "execution_count": 212,
   "metadata": {},
   "outputs": [
    {
     "data": {
      "text/plain": [
       "[<matplotlib.lines.Line2D at 0x7ff484e40310>]"
      ]
     },
     "execution_count": 212,
     "metadata": {},
     "output_type": "execute_result"
    },
    {
     "data": {
      "image/png": "[encoded data removed]",
      "text/plain": [
       "<Figure size 432x288 with 1 Axes>"
      ]
     },
     "metadata": {
      "needs_background": "light"
     },
     "output_type": "display_data"
    }
   ],
   "source": [
    "plt.figure()\n",
    "plt.plot(loss[0:1000:5],'ro',p(iters[0:1000:5]),'--k')\n",
    "plt.plot(10,loss[40],'yo')"
   ]
  },
  {
   "cell_type": "markdown",
   "metadata": {},
   "source": []
  },
  {
   "cell_type": "code",
   "execution_count": 210,
   "metadata": {},
   "outputs": [
    {
     "data": {
      "text/plain": [
       "6500"
      ]
     },
     "execution_count": 210,
     "metadata": {},
     "output_type": "execute_result"
    }
   ],
   "source": [
    "iters[40]"
   ]
  },
  {
   "cell_type": "code",
   "execution_count": 211,
   "metadata": {},
   "outputs": [
    {
     "data": {
      "text/plain": [
       "6500"
      ]
     },
     "execution_count": 211,
     "metadata": {},
     "output_type": "execute_result"
    }
   ],
   "source": [
    "test_iter[65]"
   ]
  },
  {
   "cell_type": "code",
   "execution_count": null,
   "metadata": {},
   "outputs": [],
   "source": []
  },
  {
   "cell_type": "code",
   "execution_count": null,
   "metadata": {},
   "outputs": [],
   "source": []
  },
  {
   "cell_type": "code",
   "execution_count": null,
   "metadata": {},
   "outputs": [],
   "source": []
  },
  {
   "cell_type": "code",
   "execution_count": null,
   "metadata": {},
   "outputs": [],
   "source": []
  },
  {
   "cell_type": "code",
   "execution_count": null,
   "metadata": {},
   "outputs": [],
   "source": []
  },
  {
   "cell_type": "code",
   "execution_count": 133,
   "metadata": {},
   "outputs": [
    {
     "data": {
      "image/png": "[encoded data removed]",
      "text/plain": [
       "<Figure size 432x288 with 1 Axes>"
      ]
     },
     "metadata": {
      "needs_background": "light"
     },
     "output_type": "display_data"
    }
   ],
   "source": [
    "\n",
    "    \n",
    "    #plot\n",
    "    plt.rcParams.update({'font.size': 8})\n",
    "    plt.figure()\n",
    "    plt.plot(test_loss_arr, 'ro')\n",
    "    plt.xlabel('# of iterations in thousands')\n",
    "    plt.ylabel('loss value')\n",
    "    plt.title('3D U-net validation curve for CTB tracing')          \n",
    "    plt.show()\n",
    "    \n",
    "\n",
    "    \n",
    "\n"
   ]
  },
  {
   "cell_type": "code",
   "execution_count": null,
   "metadata": {},
   "outputs": [],
   "source": []
  },
  {
   "cell_type": "code",
   "execution_count": null,
   "metadata": {},
   "outputs": [],
   "source": []
  },
  {
   "cell_type": "code",
   "execution_count": 134,
   "metadata": {},
   "outputs": [
    {
     "ename": "NameError",
     "evalue": "name 'plot_val_curve' is not defined",
     "output_type": "error",
     "traceback": [
      "\u001b[0;31m---------------------------------------------------------------------------\u001b[0m",
      "\u001b[0;31mNameError\u001b[0m                                 Traceback (most recent call last)",
      "\u001b[0;32m<ipython-input-134-43474f0cb0b8>\u001b[0m in \u001b[0;36m<module>\u001b[0;34m\u001b[0m\n\u001b[0;32m----> 1\u001b[0;31m \u001b[0mplot_val_curve\u001b[0m\u001b[0;34m(\u001b[0m\u001b[0mtrain\u001b[0m\u001b[0;34m,\u001b[0m \u001b[0mdst\u001b[0m\u001b[0;34m,\u001b[0m \u001b[0mm\u001b[0m\u001b[0;34m=\u001b[0m\u001b[0;36m2\u001b[0m\u001b[0;34m)\u001b[0m\u001b[0;34m\u001b[0m\u001b[0;34m\u001b[0m\u001b[0m\n\u001b[0m",
      "\u001b[0;31mNameError\u001b[0m: name 'plot_val_curve' is not defined"
     ]
    }
   ],
   "source": []
  },
  {
   "cell_type": "code",
   "execution_count": null,
   "metadata": {},
   "outputs": [],
   "source": []
  },
  {
   "cell_type": "code",
   "execution_count": 193,
   "metadata": {},
   "outputs": [
    {
     "data": {
      "text/plain": [
       "array([    0,     1,     2,     3,     4,     5,     6,     7,     8,\n",
       "           9,    10,    11,    12,    13,    14,    15,    16,    17,\n",
       "          18,    19,    20,    21,    22,    23,    24,    25,    26,\n",
       "          27,    28,    29,    30,    31,    32,    33,    34,    35,\n",
       "          36,    37,    38,    39,    40,    41,    42,    43,    44,\n",
       "          45,    46,    47,    48,    50,   100,   150,   200,   250,\n",
       "         300,   350,   400,   450,   500,   550,   600,   650,   700,\n",
       "         750,   800,   850,   900,   950,  1000,  1050,  1100,  1150,\n",
       "        1200,  1250,  1300,  1350,  1400,  1450,  1500,  1550,  1600,\n",
       "        1650,  1700,  1750,  1800,  1850,  1900,  1950,  2000,  2050,\n",
       "        2100,  2150,  2200,  2250,  2300,  2350,  2400,  2450,  2500,\n",
       "        2550,  2600,  2650,  2700,  2750,  2800,  2850,  2900,  2950,\n",
       "        3000,  3050,  3100,  3150,  3200,  3250,  3300,  3350,  3400,\n",
       "        3450,  3500,  3550,  3600,  3650,  3700,  3750,  3800,  3850,\n",
       "        3900,  3950,  4000,  4050,  4100,  4150,  4200,  4250,  4300,\n",
       "        4350,  4400,  4450,  4500,  4550,  4600,  4650,  4700,  4750,\n",
       "        4800,  4850,  4900,  4950,  5000,  5050,  5100,  5150,  5200,\n",
       "        5250,  5300,  5350,  5400,  5450,  5500,  5550,  5600,  5650,\n",
       "        5700,  5750,  5800,  5850,  5900,  5950,  6000,  6050,  6100,\n",
       "        6150,  6200,  6250,  6300,  6350,  6400,  6450,  6500,  6550,\n",
       "        6600,  6650,  6700,  6750,  6800,  6850,  6900,  6950,  7000,\n",
       "        7050,  7100,  7150,  7200,  7250,  7300,  7350,  7400,  7450,\n",
       "        7500,  7550,  7600,  7650,  7700,  7750,  7800,  7850,  7900,\n",
       "        7950,  8000,  8050,  8100,  8150,  8200,  8250,  8300,  8350,\n",
       "        8400,  8450,  8500,  8550,  8600,  8650,  8700,  8750,  8800,\n",
       "        8850,  8900,  8950,  9000,  9050,  9100,  9150,  9200,  9250,\n",
       "        9300,  9350,  9400,  9450,  9500,  9550,  9600,  9650,  9700,\n",
       "        9750,  9800,  9850,  9900,  9950, 10000, 10050, 10100, 10150,\n",
       "       10200, 10250, 10300, 10350, 10400, 10450, 10500, 10550, 10600,\n",
       "       10650, 10700, 10750, 10800, 10850, 10900, 10950, 11000, 11050,\n",
       "       11100, 11150, 11200, 11250, 11300, 11350, 11400, 11450, 11500,\n",
       "       11550, 11600, 11650, 11700, 11750, 11800, 11850, 11900, 11950,\n",
       "       12000, 12050, 12100, 12150, 12200, 12250, 12300, 12350, 12400,\n",
       "       12450, 12500, 12550, 12600, 12650, 12700, 12750, 12800, 12850,\n",
       "       12900, 12950, 13000, 13050, 13100, 13150, 13200, 13250, 13300,\n",
       "       13350, 13400, 13450, 13500, 13550, 13600, 13650, 13700, 13750,\n",
       "       13800, 13850, 13900, 13950, 14000, 14050, 14100, 14150, 14200,\n",
       "       14250, 14300, 14350, 14400, 14450, 14500, 14550, 14600, 14650,\n",
       "       14700, 14750, 14800, 14850, 14900, 14950, 15000, 15050, 15100,\n",
       "       15150, 15200, 15250, 15300, 15350, 15400, 15450, 15500, 15550,\n",
       "       15600, 15650, 15700, 15750, 15800, 15850, 15900, 15950, 16000,\n",
       "       16050, 16100, 16150, 16200, 16250, 16300, 16350, 16400, 16450,\n",
       "       16500, 16550, 16600, 16650, 16700, 16750, 16800, 16850, 16900,\n",
       "       16950, 17000, 17050, 17100, 17150, 17200, 17250, 17300, 17350,\n",
       "       17400, 17450, 17500, 17550, 17600, 17650, 17700, 17750, 17800,\n",
       "       17850, 17900, 17950, 18000, 18050, 18100, 18150, 18200, 18250,\n",
       "       18300, 18350, 18400, 18450, 18500, 18550, 18600, 18650, 18700,\n",
       "       18750, 18800, 18850, 18900, 18950, 19000, 19050, 19100, 19150,\n",
       "       19200, 19250, 19300, 19350, 19400, 19450, 19500, 19550, 19600,\n",
       "       19650, 19700, 19750, 19800, 19850, 19900, 19950, 20000, 20050,\n",
       "       20100, 20150, 20200, 20250, 20300, 20350, 20400, 20450, 20500,\n",
       "       20550, 20600, 20650, 20700, 20750, 20800, 20850, 20900, 20950,\n",
       "       21000, 21050, 21100, 21150, 21200, 21250, 21300, 21350, 21400,\n",
       "       21450, 21500, 21550, 21600, 21650, 21700, 21750, 21800, 21850,\n",
       "       21900, 21950, 22000, 22050, 22100, 22150, 22200, 22250, 22300,\n",
       "       22350, 22400, 22450, 22500, 22550, 22600, 22650, 22700, 22750,\n",
       "       22800, 22850, 22900, 22950, 23000, 23050, 23100, 23150, 23200,\n",
       "       23250, 23300, 23350, 23400, 23450, 23500, 23550, 23600, 23650,\n",
       "       23700, 23750, 23800, 23850, 23900, 23950, 24000, 24050, 24100,\n",
       "       24150, 24200, 24250, 24300, 24350, 24400, 24450, 24500, 24550,\n",
       "       24600, 24650, 24700, 24750, 24800, 24850, 24900, 24950, 25000,\n",
       "       25050, 25100, 25150, 25200, 25250, 25300, 25350, 25400, 25450,\n",
       "       25500, 25550, 25600, 25650, 25700, 25750, 25800, 25850, 25900,\n",
       "       25950, 26000, 26050, 26100, 26150, 26200, 26250, 26300, 26350,\n",
       "       26400, 26450, 26500, 26550, 26600, 26650, 26700, 26750, 26800,\n",
       "       26850, 26900, 26950, 27000, 27050, 27100, 27150, 27200, 27250,\n",
       "       27300, 27350, 27400, 27450, 27500, 27550, 27600, 27650, 27700,\n",
       "       27750, 27800, 27850, 27900, 27950, 28000, 28050, 28100, 28150,\n",
       "       28200, 28250, 28300, 28350, 28400, 28450, 28500, 28550, 28600,\n",
       "       28650, 28700, 28750, 28800, 28850, 28900, 28950, 29000, 29050,\n",
       "       29100, 29150, 29200, 29250, 29300, 29350, 29400, 29450, 29500,\n",
       "       29550, 29600, 29650, 29700, 29750, 29800, 29850, 29900, 29950,\n",
       "       30000, 30050, 30100, 30150, 30200, 30250, 30300, 30350, 30400,\n",
       "       30450, 30500, 30550, 30600, 30650, 30700, 30750, 30800, 30850,\n",
       "       30900, 30950, 31000, 31050, 31100, 31150, 31200, 31250, 31300,\n",
       "       31350, 31400, 31450, 31500, 31550, 31600, 31650, 31700, 31750,\n",
       "       31800, 31850, 31900, 31950, 32000, 32050, 32100, 32150, 32200,\n",
       "       32250, 32300, 32350, 32400, 32450, 32500, 32550, 32600, 32650,\n",
       "       32700, 32750, 32800, 32850, 32900, 32950, 33000, 33050, 33100,\n",
       "       33150, 33200, 33250, 33300, 33350, 33400, 33450, 33500, 33550,\n",
       "       33600, 33650, 33700, 33750, 33800, 33850, 33900, 33950, 34000,\n",
       "       34050, 34100, 34150, 34200, 34250, 34300, 34350, 34400, 34450,\n",
       "       34500, 34550, 34600, 34650, 34700, 34750, 34800, 34850, 34900,\n",
       "       34950, 35000, 35050, 35100, 35150, 35200, 35250, 35300, 35350,\n",
       "       35400, 35450, 35500, 35550, 35600, 35650, 35700, 35750, 35800,\n",
       "       35850, 35900, 35950, 36000, 36050, 36100, 36150, 36200, 36250,\n",
       "       36300, 36350, 36400, 36450, 36500, 36550, 36600, 36650, 36700,\n",
       "       36750, 36800, 36850, 36900, 36950, 37000, 37050, 37100, 37150,\n",
       "       37200, 37250, 37300, 37350, 37400, 37450, 37500, 37550, 37600,\n",
       "       37650, 37700, 37750, 37800, 37850, 37900, 37950, 38000, 38050,\n",
       "       38100, 38150, 38200, 38250, 38300, 38350, 38400, 38450, 38500,\n",
       "       38550, 38600, 38650, 38700, 38750, 38800, 38850, 38900, 38950,\n",
       "       39000, 39050, 39100, 39150, 39200, 39250, 39300, 39350, 39400,\n",
       "       39450, 39500, 39550, 39600, 39650, 39700, 39750, 39800, 39850,\n",
       "       39900, 39950, 40000])"
      ]
     },
     "execution_count": 193,
     "metadata": {},
     "output_type": "execute_result"
    }
   ],
   "source": [
    "train_iter"
   ]
  },
  {
   "cell_type": "code",
   "execution_count": 197,
   "metadata": {},
   "outputs": [
    {
     "data": {
      "text/plain": [
       "array([0.9237861 , 0.56841804, 0.37754025, 0.29749654, 0.23847745,\n",
       "       0.20097901, 0.17132633, 0.14488399, 0.1307755 , 0.1091423 ,\n",
       "       0.10403863, 0.08680532, 0.08512312, 0.07123096, 0.06642648,\n",
       "       0.06110476, 0.05901455, 0.05575073, 0.04931815, 0.04576459,\n",
       "       0.03963513, 0.04286655, 0.03350606, 0.0341278 , 0.03533351,\n",
       "       0.03254201, 0.03151043, 0.02975441, 0.02703018, 0.02416357,\n",
       "       0.02736393, 0.02143667, 0.0241547 , 0.02128537, 0.02526782,\n",
       "       0.02246368, 0.02158535, 0.02201472, 0.02433088, 0.02406626,\n",
       "       0.02060174, 0.01755463, 0.01962135, 0.01079675, 0.01652137,\n",
       "       0.01908344, 0.02128703, 0.01578816, 0.01208719, 0.01859131,\n",
       "       0.01814049, 0.02043848, 0.0192172 , 0.01697859, 0.01703593,\n",
       "       0.0148516 , 0.01558272, 0.01186714, 0.01409191, 0.01581101,\n",
       "       0.01451247, 0.01424381, 0.01571834, 0.01412218, 0.0088266 ,\n",
       "       0.01265865, 0.01200096, 0.0104165 , 0.0154345 , 0.01434548,\n",
       "       0.01338627, 0.01733566, 0.01679743, 0.01588626, 0.01324988,\n",
       "       0.01328226, 0.01227366, 0.00804041, 0.01772454, 0.01279781,\n",
       "       0.01005575, 0.01445433, 0.01262121, 0.01399897, 0.01240403,\n",
       "       0.01071423, 0.01672312, 0.01526075, 0.00752781, 0.01087851,\n",
       "       0.01459682, 0.00830286, 0.01179095, 0.0159495 , 0.01029704,\n",
       "       0.00808711, 0.01309038, 0.01503697, 0.01463765, 0.01520365,\n",
       "       0.0110918 , 0.0157322 , 0.01460897, 0.01461504, 0.01127893,\n",
       "       0.01216031, 0.00828413, 0.01044603, 0.01534374, 0.01388406,\n",
       "       0.01705209, 0.0160909 , 0.01616169, 0.01523263, 0.01299673,\n",
       "       0.00897   , 0.01210691, 0.00600436, 0.01101247, 0.02020017,\n",
       "       0.01072962, 0.01025994, 0.00702362, 0.01271268, 0.01452953,\n",
       "       0.00829165, 0.01172612, 0.00986529, 0.01333134, 0.01551464,\n",
       "       0.01061768, 0.01313383, 0.01230503, 0.01628917, 0.01208893,\n",
       "       0.01396395, 0.00741222, 0.00502176, 0.01274064, 0.01409671,\n",
       "       0.01557625, 0.01192392, 0.00958682, 0.00821759, 0.01338734,\n",
       "       0.01452158, 0.00619182, 0.00760832, 0.01298315, 0.01010379,\n",
       "       0.01455454, 0.00853958, 0.01150161, 0.01034796, 0.01362082,\n",
       "       0.01482095, 0.01326187, 0.01311261, 0.01392085, 0.0102626 ,\n",
       "       0.01607255, 0.01538001, 0.0118737 , 0.01055545, 0.01232481,\n",
       "       0.01336391, 0.00991414, 0.01557722, 0.01506286, 0.01881836,\n",
       "       0.01125736, 0.00746316, 0.01307454, 0.0139436 , 0.01207233,\n",
       "       0.01239333, 0.00904788, 0.00631682, 0.01197581, 0.01276156,\n",
       "       0.01512239, 0.01280626, 0.01206541, 0.01074561, 0.01119137,\n",
       "       0.01038234, 0.01490888, 0.01315266, 0.01541484, 0.01396055,\n",
       "       0.01153006, 0.01245123, 0.01433502, 0.01098323, 0.01139012,\n",
       "       0.00785359, 0.01168132, 0.01590656, 0.00916165, 0.01459233,\n",
       "       0.01067135, 0.01146752, 0.01343924, 0.00874877, 0.01053399,\n",
       "       0.01218246, 0.00847742, 0.01449542, 0.01797358, 0.01037426,\n",
       "       0.01560636, 0.00843412, 0.01155121, 0.01124168, 0.01002606,\n",
       "       0.01473101, 0.01705371, 0.01740461, 0.01368027, 0.01338189,\n",
       "       0.01235716, 0.01493558, 0.01059462, 0.00911235, 0.01074448,\n",
       "       0.01531839, 0.0103468 , 0.00780353, 0.00888461, 0.00851522,\n",
       "       0.01108165, 0.01393784, 0.01466227, 0.01100812, 0.01149125,\n",
       "       0.00975214, 0.01536384, 0.0127242 , 0.00861792, 0.01381247,\n",
       "       0.01061076, 0.01231253, 0.01525712, 0.01590993, 0.0126067 ,\n",
       "       0.01316732, 0.00937901, 0.01082819, 0.01142757, 0.01040663,\n",
       "       0.01621852, 0.00778838, 0.00936016, 0.01751971, 0.01330276,\n",
       "       0.01559588, 0.01290673, 0.01770035, 0.01331422, 0.00992305,\n",
       "       0.01464542, 0.01620218, 0.01617562, 0.01131904, 0.01152047,\n",
       "       0.01340522, 0.0129954 , 0.01286781, 0.01311201, 0.01187749,\n",
       "       0.01038265, 0.00894894, 0.0111538 , 0.01294172, 0.00995789,\n",
       "       0.00624276, 0.01389259, 0.01490963, 0.01440535, 0.01309559,\n",
       "       0.01114749, 0.01235136, 0.01135361, 0.00978725, 0.01043444,\n",
       "       0.01481704, 0.01128416, 0.00947201, 0.01002433, 0.00815564,\n",
       "       0.01359733, 0.01965257, 0.0168963 , 0.014097  , 0.01631329,\n",
       "       0.01275114, 0.01220801, 0.01249445, 0.01288527, 0.01710958,\n",
       "       0.01596831, 0.01527983, 0.0138313 , 0.01152279, 0.01206612,\n",
       "       0.01746091, 0.01087935, 0.01383202, 0.01415049, 0.01967942,\n",
       "       0.01536566, 0.01340061, 0.01449204, 0.01225715, 0.01441653,\n",
       "       0.00939875, 0.00879486, 0.01232926, 0.01354061, 0.00892287,\n",
       "       0.0144604 , 0.01496532, 0.02332783, 0.01333537, 0.00863992,\n",
       "       0.01051083, 0.017589  , 0.00948123, 0.01614562, 0.01323132,\n",
       "       0.01677361, 0.01228578, 0.0124862 , 0.01302024, 0.01999618,\n",
       "       0.00985664, 0.00879224, 0.0124411 , 0.01041309, 0.01015364,\n",
       "       0.00900724, 0.01510429, 0.00826179, 0.0072372 , 0.01653445,\n",
       "       0.01515896, 0.01142064, 0.0123985 , 0.01350019, 0.00994235,\n",
       "       0.01219682, 0.01472215, 0.00659706, 0.01145117, 0.00971979,\n",
       "       0.01064202, 0.00784482, 0.00776584, 0.01067139, 0.01503581,\n",
       "       0.01274938, 0.01298481, 0.00889904, 0.00916329, 0.00952927,\n",
       "       0.00883917, 0.01396362, 0.01339989, 0.01276698, 0.00831565,\n",
       "       0.00960611, 0.01395508, 0.01794406, 0.0141719 , 0.0148372 ,\n",
       "       0.0127948 , 0.01252344, 0.01595083, 0.01252642, 0.01147184,\n",
       "       0.0094764 , 0.01078016, 0.00903287, 0.01212467, 0.0098669 ,\n",
       "       0.01778538, 0.01669616, 0.01591398, 0.01098723, 0.00775199,\n",
       "       0.0115377 , 0.01134217, 0.01055597, 0.01452542, 0.01003182,\n",
       "       0.00805292, 0.0113115 , 0.01516443, 0.0119444 , 0.01180154,\n",
       "       0.01494343])"
      ]
     },
     "execution_count": 197,
     "metadata": {},
     "output_type": "execute_result"
    }
   ],
   "source": [
    "test_loss_arr"
   ]
  },
  {
   "cell_type": "code",
   "execution_count": 198,
   "metadata": {},
   "outputs": [
    {
     "data": {
      "text/plain": [
       "-4.605170185988091"
      ]
     },
     "execution_count": 198,
     "metadata": {},
     "output_type": "execute_result"
    }
   ],
   "source": [
    "np.log(0.01)"
   ]
  },
  {
   "cell_type": "code",
   "execution_count": 201,
   "metadata": {},
   "outputs": [
    {
     "data": {
      "text/plain": [
       "0.006737946999085469"
      ]
     },
     "execution_count": 201,
     "metadata": {},
     "output_type": "execute_result"
    }
   ],
   "source": [
    "np.e**-5"
   ]
  },
  {
   "cell_type": "code",
   "execution_count": 202,
   "metadata": {},
   "outputs": [
    {
     "data": {
      "text/plain": [
       "0.018315638888734186"
      ]
     },
     "execution_count": 202,
     "metadata": {},
     "output_type": "execute_result"
    }
   ],
   "source": [
    "np.e**-4"
   ]
  },
  {
   "cell_type": "code",
   "execution_count": 203,
   "metadata": {},
   "outputs": [
    {
     "data": {
      "text/plain": [
       "0.04978706836786395"
      ]
     },
     "execution_count": 203,
     "metadata": {},
     "output_type": "execute_result"
    }
   ],
   "source": [
    "np.e**-3"
   ]
  },
  {
   "cell_type": "code",
   "execution_count": 204,
   "metadata": {},
   "outputs": [
    {
     "data": {
      "text/plain": [
       "0.1353352832366127"
      ]
     },
     "execution_count": 204,
     "metadata": {},
     "output_type": "execute_result"
    }
   ],
   "source": [
    "np.e**-2"
   ]
  },
  {
   "cell_type": "code",
   "execution_count": 205,
   "metadata": {},
   "outputs": [
    {
     "data": {
      "text/plain": [
       "0.36787944117144233"
      ]
     },
     "execution_count": 205,
     "metadata": {},
     "output_type": "execute_result"
    }
   ],
   "source": [
    "np.e**-1"
   ]
  },
  {
   "cell_type": "code",
   "execution_count": null,
   "metadata": {},
   "outputs": [],
   "source": []
  }
 ],
 "metadata": {
  "kernelspec": {
   "display_name": "Python 3",
   "language": "python",
   "name": "python3"
  },
  "language_info": {
   "codemirror_mode": {
    "name": "ipython",
    "version": 3
   },
   "file_extension": ".py",
   "mimetype": "text/x-python",
   "name": "python",
   "nbconvert_exporter": "python",
   "pygments_lexer": "ipython3",
   "version": "3.7.4"
  }
 },
 "nbformat": 4,
 "nbformat_minor": 2
}

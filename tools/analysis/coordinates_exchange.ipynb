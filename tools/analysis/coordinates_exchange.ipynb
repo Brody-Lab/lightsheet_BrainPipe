{
 "cells": [
  {
   "cell_type": "code",
   "execution_count": 112,
   "metadata": {},
   "outputs": [],
   "source": [
    "import os, sys, time\n",
    "import tifffile as tif\n",
    "from scipy.ndimage.interpolation import zoom\n",
    "import matplotlib.pyplot as plt\n",
    "import numpy as np\n",
    "import pandas as pd\n",
    "import csv\n",
    "import IPython"
   ]
  },
  {
   "cell_type": "code",
   "execution_count": 113,
   "metadata": {},
   "outputs": [],
   "source": [
    "test = np.load('/home/emilyjanedennis/Desktop/forpeter_PRA-new-to_WHS/posttransformed_zyx_voxels.npy')\n",
    "\n",
    "# initialize\n",
    "# in zyx\n",
    "resample_dims = (455,774,302) #whs\n",
    "original_dims = (865,1610,539) #largewhs\n",
    "d1, d2 = test.shape\n",
    "nx4centers = np.ones((d1, d2+1))\n",
    "nx4centers[:, :-1] = test\n",
    "\n",
    "# acount for resampling by creating transformmatrix\n",
    "zr, yr, xr = resample_dims\n",
    "z, y, x = original_dims\n",
    "\n",
    "# apply scale diff\n",
    "trnsfrmmatrix = np.identity(4)*(zr/float(z), yr/float(y), xr/float(x), 1)\n",
    "\n",
    "# nx4 * 4x4 to give transform\n",
    "trnsfmdpnts = nx4centers.dot(trnsfrmmatrix)  # z,y,x\n"
   ]
  },
  {
   "cell_type": "code",
   "execution_count": 114,
   "metadata": {},
   "outputs": [
    {
     "name": "stdout",
     "output_type": "stream",
     "text": [
      "9.6484375 6.0546875 -3.90625\n"
     ]
    }
   ],
   "source": [
    "#if you're in downloaded waxholm space (WHS_SD_rat_T2star_v1.01.nii)\n",
    "# and you want to get bregma coordinates\n",
    "# using info from jukebox/LightSheetData/brodyatlas/atlas/original/coordinates_v1-v1.01\n",
    "\n",
    "#voxel coordinates in ITKsnap or FIJI coordinates\n",
    "# z slices 1-512 range from ventral to dorsal (- to 0/+)\n",
    "# x is ML 1-512 from animal's right (-) to left (+)\n",
    "# y is 1-1024 AP from cerebellum to nose (- to +)\n",
    "# original waxholm bregma 0 0 0 is at (x245,y653,z440) \n",
    "# each voxel is 0.0390625 mm\n",
    "\n",
    "x,y,z =[400,900,340]\n",
    "meas=0.0390625\n",
    "AP = (y-653)*meas\n",
    "ML = (x-245)*meas\n",
    "DV = (z-440)*meas\n",
    "\n",
    "print(AP,ML,DV)"
   ]
  },
  {
   "cell_type": "code",
   "execution_count": 115,
   "metadata": {},
   "outputs": [
    {
     "data": {
      "text/plain": [
       "array([[183.97469895, 157.64823731, 107.24809906,   1.        ],\n",
       "       [283.23851783, 159.98507984,  92.98720018,   1.        ],\n",
       "       [280.59540916, 179.74589597,  75.97439774,   1.        ],\n",
       "       [262.77530417, 178.44197903, 115.12023389,   1.        ],\n",
       "       [291.90303497, 180.63370377, 130.41132481,   1.        ],\n",
       "       [230.38154972, 191.90627583,  81.37307524,   1.        ],\n",
       "       [232.24437653, 193.12523978, 136.6989015 ,   1.        ],\n",
       "       [232.30957934, 201.73047755, 135.96917201,   1.        ],\n",
       "       [282.96146176, 202.34901989, 132.78745801,   1.        ],\n",
       "       [252.83083154, 204.00128827, 104.76184961,   1.        ],\n",
       "       [308.43220869, 221.18505841, 109.41864534,   1.        ],\n",
       "       [324.91362319, 244.72306328,  74.68570266,   1.        ],\n",
       "       [ 69.27435649, 323.19277984, 169.4708775 ,   1.        ],\n",
       "       [249.83642499, 366.31463751,  27.45983858,   1.        ],\n",
       "       [ 60.35826434, 388.2234719 , 162.12417   ,   1.        ],\n",
       "       [374.13968289, 409.06388053,  68.83369794,   1.        ],\n",
       "       [ 54.62530799, 434.09649382,  70.8198623 ,   1.        ],\n",
       "       [ 47.16371723, 427.2124109 , 132.46544029,   1.        ]])"
      ]
     },
     "execution_count": 115,
     "metadata": {},
     "output_type": "execute_result"
    }
   ],
   "source": [
    "trnsfmdpnts"
   ]
  },
  {
   "cell_type": "code",
   "execution_count": 116,
   "metadata": {},
   "outputs": [
    {
     "data": {
      "text/plain": [
       "(18, 4)"
      ]
     },
     "execution_count": 116,
     "metadata": {},
     "output_type": "execute_result"
    }
   ],
   "source": [
    "np.shape(trnsfmdpnts)"
   ]
  },
  {
   "cell_type": "code",
   "execution_count": 172,
   "metadata": {},
   "outputs": [
    {
     "name": "stdout",
     "output_type": "stream",
     "text": [
      "coordinates in original waxholm space (x,y,z)\n",
      "224.16357501156068 582.685362489441 422.5401614211503\n",
      "bregma coordinates (AP, ML, DV) **NOTE** DV is calculated from skull surface, add 0.899 to calculate from brain surface (this is done for you when making the image later on in this file)\n",
      "-2.7466655277562113 -0.8139228511109109 -0.6820249444863173\n"
     ]
    }
   ],
   "source": [
    "#if you're in 'tiff space' -- \n",
    "# WHS_SD_rat_T2star_v1.01_atlas.tiff\n",
    "# or WHS_SD_rat_atlas_v3_annotation.tiff\n",
    "pt = 13\n",
    "# enter your x,y,z coordinates from FIJI/ImageJ:\n",
    "xt, yt, zt =[trnsfmdpnts[pt][2],trnsfmdpnts[pt][1],trnsfmdpnts[pt][0]]\n",
    "\n",
    "\n",
    "# and you want to know where you are in original waxholm space\n",
    "\n",
    "# z slices 1-455 are ML left(+) to right (-)\n",
    "    # and cropped at 18 to 473 of original x1-512\n",
    "# y is 1-774 AP nose to cerebellum (+ to -)\n",
    "    # and cropped at  y192-948\n",
    "# x is DV 1-302 dorsal to ventral (0/+ to -)\n",
    "    # and cropped at z148-450\n",
    "\n",
    "meas=0.0390625\n",
    "x = 474-zt\n",
    "#zt 1-455 == x473-19 because crop doesn't include 'first frame'\n",
    "y = 949-yt\n",
    "#yt 1-774 == y948-193\n",
    "z = 450 - xt\n",
    "#xt 1-302 == z450-149\n",
    "print(\"coordinates in original waxholm space (x,y,z)\")\n",
    "print(x,y,z)\n",
    "\n",
    "# or if you want to get bregma coordinates\n",
    "\n",
    "AP = (296-yt)*meas\n",
    "ML = (229-zt)*meas\n",
    "DV = (10-xt)*meas\n",
    "print(\"bregma coordinates (AP, ML, DV) **NOTE** DV is calculated from skull surface, add 0.899 to calculate from brain surface (this is done for you when making the image later on in this file)\")\n",
    "print(AP,ML,DV)"
   ]
  },
  {
   "cell_type": "code",
   "execution_count": 173,
   "metadata": {},
   "outputs": [],
   "source": [
    "# to do - make a user-friendly PRA conversion for mPRA and fPRA"
   ]
  },
  {
   "cell_type": "code",
   "execution_count": 174,
   "metadata": {},
   "outputs": [
    {
     "data": {
      "text/plain": [
       "13"
      ]
     },
     "execution_count": 174,
     "metadata": {},
     "output_type": "execute_result"
    }
   ],
   "source": [
    "#here's a nice image\n",
    "# this is adjusted for brain surface (what paxinos watson uses) instead of skull surface (which waxholm uses)\n",
    "linktosite = \"http://labs.gaidi.ca/rat-brain-atlas/?ml={}&ap={}&dv={}\".format(ML,AP,DV+0.899)\n",
    "pt"
   ]
  },
  {
   "cell_type": "code",
   "execution_count": 175,
   "metadata": {},
   "outputs": [
    {
     "data": {
      "text/html": [
       "\n",
       "        <iframe\n",
       "            width=\"800\"\n",
       "            height=\"800\"\n",
       "            src=\"http://labs.gaidi.ca/rat-brain-atlas/?ml=-0.8139228511109109&ap=-2.7466655277562113&dv=0.21697505551368268?embed=True\"\n",
       "            frameborder=\"0\"\n",
       "            allowfullscreen\n",
       "        ></iframe>\n",
       "        "
      ],
      "text/plain": [
       "<IPython.lib.display.IFrame at 0x7f23fbd87400>"
      ]
     },
     "execution_count": 175,
     "metadata": {},
     "output_type": "execute_result"
    }
   ],
   "source": [
    "IPython.display.IFrame(linktosite,width=800,height=800,embed=True)"
   ]
  },
  {
   "cell_type": "code",
   "execution_count": null,
   "metadata": {},
   "outputs": [],
   "source": []
  },
  {
   "cell_type": "code",
   "execution_count": null,
   "metadata": {},
   "outputs": [],
   "source": []
  },
  {
   "cell_type": "code",
   "execution_count": null,
   "metadata": {},
   "outputs": [],
   "source": []
  }
 ],
 "metadata": {
  "kernelspec": {
   "display_name": "Python 3",
   "language": "python",
   "name": "python3"
  },
  "language_info": {
   "codemirror_mode": {
    "name": "ipython",
    "version": 3
   },
   "file_extension": ".py",
   "mimetype": "text/x-python",
   "name": "python",
   "nbconvert_exporter": "python",
   "pygments_lexer": "ipython3",
   "version": "3.8.3"
  }
 },
 "nbformat": 4,
 "nbformat_minor": 2
}

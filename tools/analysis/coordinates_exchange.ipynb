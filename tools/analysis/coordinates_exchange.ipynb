{
 "cells": [
  {
   "cell_type": "code",
   "execution_count": 24,
   "metadata": {},
   "outputs": [],
   "source": [
    "import os, sys, time\n",
    "import tifffile as tif\n",
    "from scipy.ndimage.interpolation import zoom\n",
    "import matplotlib.pyplot as plt\n",
    "import numpy as np\n",
    "import pandas as pd\n",
    "import csv\n",
    "import IPython"
   ]
  },
  {
   "cell_type": "markdown",
   "metadata": {},
   "source": [
    "\n",
    "used info in jukebox/LightSheetData/brodyatlas/atlas/original/coordinates_v1-v1.01\n",
    "waxholm -> waxholm as tiff - > voxel space\n",
    "\n",
    "waxholm z\n",
    "waxholm top to bottom           = 512   0      DV\n",
    "waxholm as tiff bottom to top   = 0     512    DV\n",
    "    cropped 148 450\n",
    "voxel x\n",
    "voxel space top to bottom       = 0     302\n",
    "\n",
    "when\n",
    "xv (x in voxel) x       = 0     10     302\n",
    "zwt (z in waxholm tiff) = 450   440    148\n",
    "zwt = 450 - xv\n",
    "\n",
    "\n",
    "waxholm y\n",
    "waxholm A to P                  =   1024  0\n",
    "waxholm as tiff P to A          =   0     1024\n",
    "    cropped 192 948\n",
    "voxel y\n",
    "voxel A to P                    =   0   774\n",
    "\n",
    "when\n",
    "yv =    0   774\n",
    "ywt=    948 192\n",
    "ywt =   948 - yv\n",
    "\n",
    "waxholm x\n",
    "waxholm L to R                  = 512   0    ML\n",
    "waxholm as tiff R to L          = 0     512\n",
    "    cropped 18  473\n",
    "voxel z\n",
    "voxel L to R                    = 0     455\n",
    "\n",
    "when\n",
    "zv =    0  455\n",
    "xwt =   473 18\n",
    "xwt = 473 - zv\n",
    "------------\n",
    "voxel is a subspace of waxholm\n",
    "to get from original waxholm:\n",
    "Crop waxholm tiff at:\n",
    "\txw\t(ML) \t18\t473\n",
    "\tyw\t(AP)\t192\t948\n",
    "\tzw\t(DV)\t148 450\n",
    "\n",
    "*and* reorient\n",
    "\n",
    "to get bregma coordinates, need to know that\n",
    "original waxholm bregma 0 0 0 is at (245,653,440)\n",
    "and each voxel is 0.0390625 mm\n",
    "\n",
    "so to get bregma coords in mm from xwt,ywt,zwt\n",
    "when meas = 0.0390625 need\n",
    "AP              ML              DV\n",
    "(653-ywt)*meas  (245-xwt)*meas  (440-zwt)*meas\n",
    "\n",
    "so to get bregma coords from waxholm atlas space:\n",
    "\n",
    "AP              ML              DV\n",
    "(yv -295)*meas  (zv - 228)*meas (xv - 10)*meas"
   ]
  },
  {
   "cell_type": "code",
   "execution_count": 5,
   "metadata": {},
   "outputs": [
    {
     "name": "stdout",
     "output_type": "stream",
     "text": [
      "9.6484375 6.0546875 -3.90625\n"
     ]
    }
   ],
   "source": [
    "#if you're in downloaded waxholm space (WHS_SD_rat_T2star_v1.01.nii)\n",
    "# and you want to get bregma coordinates\n",
    "# using info from jukebox/LightSheetData/brodyatlas/atlas/original/coordinates_v1-v1.01\n",
    "\n",
    "#voxel coordinates in ITKsnap or FIJI coordinates\n",
    "# z slices 1-512 range from ventral to dorsal (- to 0/+)\n",
    "# x is ML 1-512 from animal's right (-) to left (+)\n",
    "# y is 1-1024 AP from cerebellum to nose (- to +)\n",
    "# original waxholm bregma 0 0 0 is at (x245,y653,z440) \n",
    "# each voxel is 0.0390625 mm\n",
    "\n",
    "x,y,z =[400,900,340]\n",
    "meas=0.0390625\n",
    "AP = (y-653)*meas\n",
    "ML = (x-245)*meas\n",
    "DV = (z-440)*meas\n",
    "\n",
    "print(AP,ML,DV)"
   ]
  },
  {
   "cell_type": "code",
   "execution_count": 6,
   "metadata": {},
   "outputs": [
    {
     "data": {
      "text/plain": [
       "19"
      ]
     },
     "execution_count": 6,
     "metadata": {},
     "output_type": "execute_result"
    }
   ],
   "source": []
  },
  {
   "cell_type": "code",
   "execution_count": 20,
   "metadata": {},
   "outputs": [
    {
     "name": "stdout",
     "output_type": "stream",
     "text": [
      "coordinates in original waxholm space (x,y,z)\n",
      "412 511 341\n",
      "bregma coordinates (AP, ML, DV)\n",
      "-5.546875 6.5234375 -3.8671875\n"
     ]
    }
   ],
   "source": [
    "#if you're in 'tiff space' -- \n",
    "# WHS_SD_rat_T2star_v1.01_atlas.tiff\n",
    "# or WHS_SD_rat_atlas_v3_annotation.tiff\n",
    "# enter your x,y,z coordinates from FIJI/ImageJ:\n",
    "xt, yt, zt =[109,438,62]\n",
    "\n",
    "\n",
    "# and you want to know where you are in original waxholm space\n",
    "\n",
    "# z slices 1-455 are ML left(+) to right (-)\n",
    "    # and cropped at 18 to 473 of original x1-512\n",
    "# y is 1-774 AP nose to cerebellum (+ to -)\n",
    "    # and cropped at  y192-948\n",
    "# x is DV 1-302 dorsal to ventral (0/+ to -)\n",
    "    # and cropped at z148-450\n",
    "\n",
    "meas=0.0390625\n",
    "x = 474-zt\n",
    "#zt 1-455 == x473-19 because crop doesn't include 'first frame'\n",
    "y = 949-yt\n",
    "#yt 1-774 == y948-193\n",
    "z = 450 - xt\n",
    "#xt 1-302 == z450-149\n",
    "print(\"coordinates in original waxholm space (x,y,z)\")\n",
    "print(x,y,z)\n",
    "\n",
    "# or if you want to get bregma coordinates\n",
    "\n",
    "AP = (296-yt)*meas\n",
    "ML = (229-zt)*meas\n",
    "DV = (10-xt)*meas\n",
    "print(\"bregma coordinates (AP, ML, DV)\")\n",
    "print(AP,ML,DV)"
   ]
  },
  {
   "cell_type": "code",
   "execution_count": null,
   "metadata": {},
   "outputs": [],
   "source": [
    "# to do - make a user-friendly PRA conversion for mPRA and fPRA"
   ]
  },
  {
   "cell_type": "code",
   "execution_count": null,
   "metadata": {},
   "outputs": [],
   "source": []
  },
  {
   "cell_type": "code",
   "execution_count": 21,
   "metadata": {},
   "outputs": [
    {
     "name": "stdout",
     "output_type": "stream",
     "text": [
      "-5.546875 6.5234375 -3.8671875\n"
     ]
    }
   ],
   "source": [
    "#here are your bregma coordinates!\n",
    "print(AP, ML, DV)"
   ]
  },
  {
   "cell_type": "code",
   "execution_count": 22,
   "metadata": {},
   "outputs": [],
   "source": [
    "#here's a nice image\n",
    "linktosite = \"http://labs.gaidi.ca/rat-brain-atlas/?ml={}&ap={}&dv={}\".format(ML,AP,DV)"
   ]
  },
  {
   "cell_type": "code",
   "execution_count": 25,
   "metadata": {},
   "outputs": [
    {
     "data": {
      "text/html": [
       "\n",
       "        <iframe\n",
       "            width=\"800\"\n",
       "            height=\"800\"\n",
       "            src=\"http://labs.gaidi.ca/rat-brain-atlas/?ml=6.5234375&ap=-5.546875&dv=-3.8671875?embed=True\"\n",
       "            frameborder=\"0\"\n",
       "            allowfullscreen\n",
       "        ></iframe>\n",
       "        "
      ],
      "text/plain": [
       "<IPython.lib.display.IFrame at 0x7f75be6c4c10>"
      ]
     },
     "execution_count": 25,
     "metadata": {},
     "output_type": "execute_result"
    }
   ],
   "source": [
    "IPython.display.IFrame(linktosite,width=800,height=800,embed=True)"
   ]
  },
  {
   "cell_type": "code",
   "execution_count": null,
   "metadata": {},
   "outputs": [],
   "source": []
  }
 ],
 "metadata": {
  "kernelspec": {
   "display_name": "Python 3",
   "language": "python",
   "name": "python3"
  },
  "language_info": {
   "codemirror_mode": {
    "name": "ipython",
    "version": 3
   },
   "file_extension": ".py",
   "mimetype": "text/x-python",
   "name": "python",
   "nbconvert_exporter": "python",
   "pygments_lexer": "ipython3",
   "version": "3.8.3"
  }
 },
 "nbformat": 4,
 "nbformat_minor": 2
}

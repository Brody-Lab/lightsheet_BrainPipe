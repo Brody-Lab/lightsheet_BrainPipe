{
 "cells": [
  {
   "cell_type": "code",
   "execution_count": 2,
   "metadata": {},
   "outputs": [],
   "source": [
    "import os, sys, time\n",
    "import tifffile as tif\n",
    "from scipy.ndimage.interpolation import zoom\n",
    "import matplotlib.pyplot as plt\n",
    "import numpy as np\n",
    "import pandas as pd\n",
    "import csv"
   ]
  },
  {
   "cell_type": "code",
   "execution_count": 28,
   "metadata": {},
   "outputs": [],
   "source": [
    "#what are your voxel coordinates \n",
    "# after aligning to waxholm MRI atlas?\n",
    "x, y, z = [10,269,228]\n",
    "\n",
    "# Emily to update when we have final Princeton Rat Atlas"
   ]
  },
  {
   "cell_type": "code",
   "execution_count": 31,
   "metadata": {},
   "outputs": [],
   "source": [
    "#voxel size inin mm\n",
    "meas = 0.03906\n",
    "\n",
    "# calculate AP, ML, DV separately\n",
    "AP = (y-295)*meas\n",
    "ML = (z-228)*meas\n",
    "DV = (x-10)*meas"
   ]
  },
  {
   "cell_type": "code",
   "execution_count": 32,
   "metadata": {},
   "outputs": [
    {
     "name": "stdout",
     "output_type": "stream",
     "text": [
      "-1.01556 0.0 0.0\n"
     ]
    }
   ],
   "source": [
    "#here are your bregma coordinates!\n",
    "print(AP, ML, DV)"
   ]
  },
  {
   "cell_type": "code",
   "execution_count": null,
   "metadata": {},
   "outputs": [],
   "source": []
  }
 ],
 "metadata": {
  "kernelspec": {
   "display_name": "Python 3",
   "language": "python",
   "name": "python3"
  },
  "language_info": {
   "codemirror_mode": {
    "name": "ipython",
    "version": 3
   },
   "file_extension": ".py",
   "mimetype": "text/x-python",
   "name": "python",
   "nbconvert_exporter": "python",
   "pygments_lexer": "ipython3",
   "version": "3.7.4"
  }
 },
 "nbformat": 4,
 "nbformat_minor": 2
}

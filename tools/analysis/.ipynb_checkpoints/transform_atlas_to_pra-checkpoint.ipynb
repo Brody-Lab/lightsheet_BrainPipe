{
 "cells": [
  {
   "cell_type": "code",
   "execution_count": 1,
   "metadata": {},
   "outputs": [],
   "source": [
    "import os, sys, time\n",
    "import tifffile as tif\n",
    "sys.path.append(\"/home/emilyjanedennis/Desktop/GitHub/rat_BrainPipe\")\n",
    "from tools.utils.io import makedir\n",
    "from tools.registration.register import change_interpolation_order, transformix_command_line_call\n",
    "from tools.registration.transform_list_of_points import modify_transform_files\n",
    "from scipy.ndimage.interpolation import zoom"
   ]
  },
  {
   "cell_type": "code",
   "execution_count": 2,
   "metadata": {},
   "outputs": [],
   "source": [
    "# setting paths\n",
    "src = \"/home/emilyjanedennis/Desktop/for_registration_to_lightsheet\"\n",
    "ann = os.path.join(src, \"schwarz_brain_for_pra.tif\")\n",
    "fx = \"/home/emilyjanedennis/Desktop/for_registration_to_lightsheet/median_image.tif\""
   ]
  },
  {
   "cell_type": "code",
   "execution_count": 4,
   "metadata": {},
   "outputs": [
    {
     "name": "stdout",
     "output_type": "stream",
     "text": [
      "\n",
      "zooming...\n"
     ]
    }
   ],
   "source": [
    "# need to make MRI annotation larger (~140% of atlas?) to transform to PRA\n",
    "annvol = tif.imread(ann)\n",
    "pra = tif.imread(fx)\n",
    "zf,yf,xf = (pra.shape[0]/annvol.shape[0])*1.4, (pra.shape[1]/annvol.shape[1])*1.4, (pra.shape[2]/annvol.shape[2])*1.4\n",
    "print(\"\\nzooming...\")\n",
    "annvol_for_pra = zoom(annvol, (zf,yf,xf), order = 1)"
   ]
  },
  {
   "cell_type": "code",
   "execution_count": null,
   "metadata": {},
   "outputs": [],
   "source": [
    "# saved out annotation volume\n",
    "print(\"\\nsaving zoomed volume...\")\n",
    "tif.imsave(os.path.join(src, \"schwarz2_for_pra_reg.tif\"),\n",
    "           annvol_for_pra.astype(\"uint16\"))"
   ]
  },
  {
   "cell_type": "code",
   "execution_count": 3,
   "metadata": {},
   "outputs": [],
   "source": [
    "reg = os.path.join(src, \"schwarz_to_pra\")\n",
    "a2r = [os.path.join(reg, xx) for xx in os.listdir(reg) if \"Transform\" in xx]; a2r.sort()\n",
    "\n",
    "dst = os.path.join(src, \"transformed_schwarz_annotation_volume\")\n",
    "makedir(dst)"
   ]
  },
  {
   "cell_type": "code",
   "execution_count": 4,
   "metadata": {},
   "outputs": [
    {
     "data": {
      "text/plain": [
       "['/home/emilyjanedennis/Desktop/for_registration_to_lightsheet/transformed_schwarz_annotation_volume/order0_TransformParameters.0.txt',\n",
       " '/home/emilyjanedennis/Desktop/for_registration_to_lightsheet/transformed_schwarz_annotation_volume/order1_TransformParameters.1.txt',\n",
       " '/home/emilyjanedennis/Desktop/for_registration_to_lightsheet/transformed_schwarz_annotation_volume/order2_TransformParameters.2.txt',\n",
       " '/home/emilyjanedennis/Desktop/for_registration_to_lightsheet/transformed_schwarz_annotation_volume/order3_TransformParameters.3.txt']"
      ]
     },
     "execution_count": 4,
     "metadata": {},
     "output_type": "execute_result"
    }
   ],
   "source": [
    "# transformix\n",
    "transformfiles = modify_transform_files(transformfiles=a2r, dst=dst)\n",
    "[change_interpolation_order(xx,0) for xx in transformfiles]"
   ]
  },
  {
   "cell_type": "code",
   "execution_count": 5,
   "metadata": {},
   "outputs": [],
   "source": [
    "# change the parameter in the transform files that outputs 16bit images instead\n",
    "for fl in transformfiles:# Read in the file\n",
    "    with open(fl, \"r\") as file:\n",
    "        filedata = file.read()\n",
    "    # Replace the target string\n",
    "    filedata = filedata.replace('(ResultImagePixelType \"float\")', '(ResultImagePixelType \"short\")')\n",
    "    # Write the file out again\n",
    "    with open(fl, \"w\") as file:\n",
    "      file.write(filedata)"
   ]
  },
  {
   "cell_type": "code",
   "execution_count": 7,
   "metadata": {
    "scrolled": true
   },
   "outputs": [
    {
     "name": "stdout",
     "output_type": "stream",
     "text": [
      "Running transformix, this can take some time....\n",
      "\n",
      "b'\\ntransformix is started at Sat Aug 15 16:44:16 2020.\\n\\nwhich transformix:   transformix\\ntransformix runs at: emilyjanedennis-System-Product-Name\\n  Linux 5.4.0-26-generic (x64), #30-Ubuntu SMP Mon Apr 20 16:58:30 UTC 2020\\n  with 128513 MB memory, and 1 cores @ 1200 MHz.\\nRunning transformix with parameter file \"/home/emilyjanedennis/Desktop/for_registration_to_lightsheet/transformed_schwarz_annotation_volume/order3_TransformParameters.3.txt\".\\n\\nReading the elastix parameters from file ...\\n\\nInstalling all components.\\nInstallingComponents was successful.\\n\\nERROR: OpenCL-enabled device is not present!\\nOpenCL processing is disabled.\\nELASTIX version: 4.800\\nCommand line options from ElastixBase:\\n-in       /home/emilyjanedennis/Desktop/for_registration_to_lightsheet/schwarz_for_pra_reg.tif\\n-out      /home/emilyjanedennis/Desktop/for_registration_to_lightsheet/transformed_schwarz_annotation_volume/\\n-threads  unspecified, so all available threads are used\\n-tp       /home/emilyjanedennis/Desktop/for_registration_to_lightsheet/transformed_schwarz_annotation_volume/order3_TransformParameters.3.txt\\n-def      unspecified, so no input points transformed\\n-jac      unspecified, so no det(dT/dx) computed\\n-jacmat   unspecified, so no dT/dx computed\\n\\nReading input image ...\\n  Reading input image took 3.008648 s\\nCalling all ReadFromFile()\\'s ...\\nReading the elastix parameters from file ...\\n\\nReading the elastix parameters from file ...\\n\\nReading the elastix parameters from file ...\\n\\n  Calling all ReadFromFile()\\'s took 0.220820 s\\nTransforming points ...\\n  The command-line option \"-def\" is not used, so no points are transformed\\n  Transforming points done, it took 0.00s\\nCompute determinant of spatial Jacobian ...\\n  The command-line option \"-jac\" is not used, so no det(dT/dx) computed.\\n  Computing determinant of spatial Jacobian done, it took 0.00s\\nCompute spatial Jacobian (full matrix) ...\\n  The command-line option \"-jacmat\" is not used, so no dT/dx computed.\\n  Computing spatial Jacobian done, it took 0.00s\\nResampling image and writing to disk ...\\n\\r  Progress: 0%\\r  Progress: 1%\\r  Progress: 2%\\r  Progress: 3%\\r  Progress: 4%\\r  Progress: 5%\\r  Progress: 6%\\r  Progress: 7%\\r  Progress: 8%\\r  Progress: 9%\\r  Progress: 10%\\r  Progress: 11%\\r  Progress: 12%\\r  Progress: 13%\\r  Progress: 14%\\r  Progress: 15%\\r  Progress: 16%\\r  Progress: 17%\\r  Progress: 18%\\r  Progress: 19%\\r  Progress: 20%\\r  Progress: 21%\\r  Progress: 22%\\r  Progress: 23%\\r  Progress: 24%\\r  Progress: 25%\\r  Progress: 26%\\r  Progress: 27%\\r  Progress: 28%\\r  Progress: 29%\\r  Progress: 30%\\r  Progress: 31%\\r  Progress: 32%\\r  Progress: 33%\\r  Progress: 34%\\r  Progress: 35%\\r  Progress: 36%\\r  Progress: 37%\\r  Progress: 38%\\r  Progress: 39%\\r  Progress: 40%\\r  Progress: 41%\\r  Progress: 42%\\r  Progress: 43%\\r  Progress: 44%\\r  Progress: 45%\\r  Progress: 46%\\r  Progress: 47%\\r  Progress: 48%\\r  Progress: 49%\\r  Progress: 50%\\r  Progress: 51%\\r  Progress: 52%\\r  Progress: 53%\\r  Progress: 54%\\r  Progress: 55%\\r  Progress: 56%\\r  Progress: 57%\\r  Progress: 58%\\r  Progress: 59%\\r  Progress: 60%\\r  Progress: 61%\\r  Progress: 62%\\r  Progress: 63%\\r  Progress: 64%\\r  Progress: 65%\\r  Progress: 66%\\r  Progress: 67%\\r  Progress: 68%\\r  Progress: 69%\\r  Progress: 70%\\r  Progress: 71%\\r  Progress: 72%\\r  Progress: 73%\\r  Progress: 74%\\r  Progress: 75%\\r  Progress: 76%\\r  Progress: 77%\\r  Progress: 78%\\r  Progress: 79%\\r  Progress: 80%\\r  Progress: 81%\\r  Progress: 82%\\r  Progress: 83%\\r  Progress: 84%\\r  Progress: 85%\\r  Progress: 86%\\r  Progress: 87%\\r  Progress: 88%\\r  Progress: 89%\\r  Progress: 90%\\r  Progress: 91%\\r  Progress: 92%\\r  Progress: 93%\\r  Progress: 94%\\r  Progress: 95%\\r  Progress: 96%\\r  Progress: 97%\\r  Progress: 98%\\r  Progress: 99%\\r  Progress: 100%\\r  Progress: 100%\\n  Writing image ...\\n  Resampling took 1m53.29s\\n\\ntransformix has finished at Sat Aug 15 16:46:13 2020.\\nTotal time elapsed: 1m56.7s.\\n\\n'\n",
      "Past transformix command line Call\n"
     ]
    }
   ],
   "source": [
    "# run transformix  \n",
    "transformix_command_line_call(\"/home/emilyjanedennis/Desktop/for_registration_to_lightsheet/schwarz_for_pra_reg.tif\",dst, transformfiles[-1])  "
   ]
  },
  {
   "cell_type": "code",
   "execution_count": 6,
   "metadata": {},
   "outputs": [
    {
     "ename": "SyntaxError",
     "evalue": "invalid syntax (<ipython-input-6-c78f95a5303f>, line 1)",
     "output_type": "error",
     "traceback": [
      "\u001b[0;36m  File \u001b[0;32m\"<ipython-input-6-c78f95a5303f>\"\u001b[0;36m, line \u001b[0;32m1\u001b[0m\n\u001b[0;31m    which transformix\u001b[0m\n\u001b[0m          ^\u001b[0m\n\u001b[0;31mSyntaxError\u001b[0m\u001b[0;31m:\u001b[0m invalid syntax\n"
     ]
    }
   ],
   "source": []
  },
  {
   "cell_type": "code",
   "execution_count": null,
   "metadata": {},
   "outputs": [],
   "source": []
  }
 ],
 "metadata": {
  "kernelspec": {
   "display_name": "Python 3",
   "language": "python",
   "name": "python3"
  },
  "language_info": {
   "codemirror_mode": {
    "name": "ipython",
    "version": 3
   },
   "file_extension": ".py",
   "mimetype": "text/x-python",
   "name": "python",
   "nbconvert_exporter": "python",
   "pygments_lexer": "ipython3",
   "version": "3.8.3"
  }
 },
 "nbformat": 4,
 "nbformat_minor": 4
}

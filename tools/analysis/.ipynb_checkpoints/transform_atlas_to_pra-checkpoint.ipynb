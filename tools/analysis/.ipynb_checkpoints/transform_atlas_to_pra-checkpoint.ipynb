{
 "cells": [
  {
   "cell_type": "code",
   "execution_count": 1,
   "metadata": {},
   "outputs": [],
   "source": [
    "import os, sys, time\n",
    "import tifffile as tif\n",
    "sys.path.append(\"/home/emilyjanedennis/Desktop/GitHub/rat_BrainPipe\")\n",
    "from tools.utils.io import makedir\n",
    "from tools.registration.register import change_interpolation_order, transformix_command_line_call\n",
    "from tools.registration.transform_list_of_points import modify_transform_files\n",
    "from scipy.ndimage.interpolation import zoom"
   ]
  },
  {
   "cell_type": "code",
   "execution_count": 2,
   "metadata": {},
   "outputs": [],
   "source": [
    "# setting paths\n",
    "src = \"/home/emilyjanedennis/Desktop/for_registration_to_lightsheet\"\n",
    "ann = os.path.join(src, \"schwarz_for_pra_reg.tif\")\n",
    "fx = \"/home/emilyjanedennis/Desktop/for_registration_to_lightsheet/median_image.tif\""
   ]
  },
  {
   "cell_type": "code",
   "execution_count": 3,
   "metadata": {},
   "outputs": [
    {
     "name": "stdout",
     "output_type": "stream",
     "text": [
      "\n",
      "zooming...\n"
     ]
    }
   ],
   "source": [
    "# need to make annotation larger (~140% of atlas?) to transform to PRA\n",
    "annvol = tif.imread(ann)\n",
    "pra = tif.imread(fx)\n",
    "zf,yf,xf = (pra.shape[0]/annvol.shape[0])*1.4, (pra.shape[1]/annvol.shape[1])*1.4, (pra.shape[2]/annvol.shape[2])*1.4\n",
    "print(\"\\nzooming...\")\n",
    "annvol_for_pra = zoom(annvol, (zf,yf,xf), order = 1)"
   ]
  },
  {
   "cell_type": "code",
   "execution_count": 4,
   "metadata": {},
   "outputs": [
    {
     "name": "stdout",
     "output_type": "stream",
     "text": [
      "\n",
      "saving zoomed volume...\n"
     ]
    }
   ],
   "source": [
    "# saved out annotation volume\n",
    "print(\"\\nsaving zoomed volume...\")\n",
    "tif.imsave(os.path.join(src, \"schwarz_zoomed_for_pra_reg.tif\"),\n",
    "           annvol_for_pra.astype(\"uint16\"))"
   ]
  },
  {
   "cell_type": "code",
   "execution_count": 5,
   "metadata": {},
   "outputs": [],
   "source": [
    "pra = tif.imread(fx)\n",
    "annvol_for_pra = tif.imread(\"/home/emilyjanedennis/Desktop/for_registration_to_lightsheet/schwarz_zoomed_for_pra_reg.tif\")\n",
    "reg = os.path.join(src, \"schwarz_out\")\n",
    "a2r = [os.path.join(reg, xx) for xx in os.listdir(reg) if \"Transform\" in xx]; a2r.sort()\n",
    "\n",
    "dst = os.path.join(src, \"transformed_schwarz_annotation_volume\")\n",
    "makedir(dst)"
   ]
  },
  {
   "cell_type": "code",
   "execution_count": 6,
   "metadata": {},
   "outputs": [
    {
     "data": {
      "text/plain": [
       "['/home/emilyjanedennis/Desktop/for_registration_to_lightsheet/transformed_schwarz_annotation_volume/order0_TransformParameters.0.txt',\n",
       " '/home/emilyjanedennis/Desktop/for_registration_to_lightsheet/transformed_schwarz_annotation_volume/order1_TransformParameters.1.txt',\n",
       " '/home/emilyjanedennis/Desktop/for_registration_to_lightsheet/transformed_schwarz_annotation_volume/order2_TransformParameters.2.txt',\n",
       " '/home/emilyjanedennis/Desktop/for_registration_to_lightsheet/transformed_schwarz_annotation_volume/order3_TransformParameters.3.txt']"
      ]
     },
     "execution_count": 6,
     "metadata": {},
     "output_type": "execute_result"
    }
   ],
   "source": [
    "# transformix\n",
    "transformfiles = modify_transform_files(transformfiles=a2r, dst=dst)\n",
    "[change_interpolation_order(xx,0) for xx in transformfiles]"
   ]
  },
  {
   "cell_type": "code",
   "execution_count": 7,
   "metadata": {},
   "outputs": [],
   "source": [
    "# change the parameter in the transform files that outputs 16bit images instead\n",
    "for fl in transformfiles:# Read in the file\n",
    "    with open(fl, \"r\") as file:\n",
    "        filedata = file.read()\n",
    "    # Replace the target string\n",
    "    filedata = filedata.replace('(ResultImagePixelType \"float\")', '(ResultImagePixelType \"short\")')\n",
    "    # Write the file out again\n",
    "    with open(fl, \"w\") as file:\n",
    "      file.write(filedata)"
   ]
  },
  {
   "cell_type": "code",
   "execution_count": null,
   "metadata": {
    "scrolled": true
   },
   "outputs": [
    {
     "name": "stdout",
     "output_type": "stream",
     "text": [
      "Running transformix, this can take some time....\n",
      "\n"
     ]
    }
   ],
   "source": [
    "# run transformix  \n",
    "transformix_command_line_call(\"/home/emilyjanedennis/Desktop/for_registration_to_lightsheet/schwarz_zoomed_for_pra_reg.tif\",dst, transformfiles[-1])  "
   ]
  },
  {
   "cell_type": "code",
   "execution_count": 6,
   "metadata": {},
   "outputs": [
    {
     "ename": "SyntaxError",
     "evalue": "invalid syntax (<ipython-input-6-c78f95a5303f>, line 1)",
     "output_type": "error",
     "traceback": [
      "\u001b[0;36m  File \u001b[0;32m\"<ipython-input-6-c78f95a5303f>\"\u001b[0;36m, line \u001b[0;32m1\u001b[0m\n\u001b[0;31m    which transformix\u001b[0m\n\u001b[0m          ^\u001b[0m\n\u001b[0;31mSyntaxError\u001b[0m\u001b[0;31m:\u001b[0m invalid syntax\n"
     ]
    }
   ],
   "source": []
  },
  {
   "cell_type": "code",
   "execution_count": null,
   "metadata": {},
   "outputs": [],
   "source": []
  }
 ],
 "metadata": {
  "kernelspec": {
   "display_name": "Python 3",
   "language": "python",
   "name": "python3"
  },
  "language_info": {
   "codemirror_mode": {
    "name": "ipython",
    "version": 3
   },
   "file_extension": ".py",
   "mimetype": "text/x-python",
   "name": "python",
   "nbconvert_exporter": "python",
   "pygments_lexer": "ipython3",
   "version": "3.7.3"
  }
 },
 "nbformat": 4,
 "nbformat_minor": 4
}

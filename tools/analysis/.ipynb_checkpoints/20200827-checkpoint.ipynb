{
 "cells": [
  {
   "cell_type": "code",
   "execution_count": 1,
   "metadata": {},
   "outputs": [],
   "source": [
    "import os, sys, time\n",
    "import tifffile as tif\n",
    "sys.path.append(\"/home/emilyjanedennis/Desktop/GitHub/rat_BrainPipe\")\n",
    "from tools.utils.io import makedir\n",
    "from tools.registration.register import change_interpolation_order, transformix_command_line_call\n",
    "from tools.registration.transform_list_of_points import modify_transform_files\n",
    "from scipy.ndimage.interpolation import zoom\n",
    "import matplotlib.pyplot as plt\n",
    "import numpy as np\n",
    "import pandas as pd\n",
    "import csv"
   ]
  },
  {
   "cell_type": "code",
   "execution_count": 2,
   "metadata": {},
   "outputs": [],
   "source": [
    "affinefile = \"/home/emilyjanedennis/Desktop/mouseann_to_rat_AFFINE.tif\"\n",
    "mouseratfile=\"/home/emilyjanedennis/Desktop/mouseann_to_rat.tif\""
   ]
  },
  {
   "cell_type": "code",
   "execution_count": 3,
   "metadata": {},
   "outputs": [],
   "source": [
    "affine = tif.imread(affinefile)\n",
    "mouserat = tif.imread(mouseratfile)"
   ]
  },
  {
   "cell_type": "code",
   "execution_count": 4,
   "metadata": {},
   "outputs": [],
   "source": [
    "csvfilename=\"/home/emilyjanedennis/Desktop/ls_id_table_w_voxelcounts.csv\"\n",
    "anns=pd.read_csv(csvfilename,usecols=[1,2,3])"
   ]
  },
  {
   "cell_type": "code",
   "execution_count": 5,
   "metadata": {},
   "outputs": [],
   "source": [
    "df=anns"
   ]
  },
  {
   "cell_type": "code",
   "execution_count": 6,
   "metadata": {},
   "outputs": [],
   "source": [
    "df.insert(3,'affine_vox',0)\n",
    "df.insert(4,'mouserat_vox',0)"
   ]
  },
  {
   "cell_type": "code",
   "execution_count": 7,
   "metadata": {},
   "outputs": [
    {
     "data": {
      "text/html": [
       "<div>\n",
       "<style scoped>\n",
       "    .dataframe tbody tr th:only-of-type {\n",
       "        vertical-align: middle;\n",
       "    }\n",
       "\n",
       "    .dataframe tbody tr th {\n",
       "        vertical-align: top;\n",
       "    }\n",
       "\n",
       "    .dataframe thead th {\n",
       "        text-align: right;\n",
       "    }\n",
       "</style>\n",
       "<table border=\"1\" class=\"dataframe\">\n",
       "  <thead>\n",
       "    <tr style=\"text-align: right;\">\n",
       "      <th></th>\n",
       "      <th>name</th>\n",
       "      <th>acronym</th>\n",
       "      <th>id</th>\n",
       "      <th>affine_vox</th>\n",
       "      <th>mouserat_vox</th>\n",
       "    </tr>\n",
       "  </thead>\n",
       "  <tbody>\n",
       "    <tr>\n",
       "      <th>0</th>\n",
       "      <td>root</td>\n",
       "      <td>root</td>\n",
       "      <td>997</td>\n",
       "      <td>0</td>\n",
       "      <td>0</td>\n",
       "    </tr>\n",
       "    <tr>\n",
       "      <th>1</th>\n",
       "      <td>Basic cell groups and regions</td>\n",
       "      <td>grey</td>\n",
       "      <td>8</td>\n",
       "      <td>0</td>\n",
       "      <td>0</td>\n",
       "    </tr>\n",
       "    <tr>\n",
       "      <th>2</th>\n",
       "      <td>Cerebrum</td>\n",
       "      <td>CH</td>\n",
       "      <td>567</td>\n",
       "      <td>0</td>\n",
       "      <td>0</td>\n",
       "    </tr>\n",
       "    <tr>\n",
       "      <th>3</th>\n",
       "      <td>Cerebral cortex</td>\n",
       "      <td>CTX</td>\n",
       "      <td>688</td>\n",
       "      <td>0</td>\n",
       "      <td>0</td>\n",
       "    </tr>\n",
       "    <tr>\n",
       "      <th>4</th>\n",
       "      <td>Cortical plate</td>\n",
       "      <td>CTXpl</td>\n",
       "      <td>695</td>\n",
       "      <td>0</td>\n",
       "      <td>0</td>\n",
       "    </tr>\n",
       "    <tr>\n",
       "      <th>...</th>\n",
       "      <td>...</td>\n",
       "      <td>...</td>\n",
       "      <td>...</td>\n",
       "      <td>...</td>\n",
       "      <td>...</td>\n",
       "    </tr>\n",
       "    <tr>\n",
       "      <th>1325</th>\n",
       "      <td>parafloccular sulcus</td>\n",
       "      <td>pfs</td>\n",
       "      <td>65</td>\n",
       "      <td>0</td>\n",
       "      <td>0</td>\n",
       "    </tr>\n",
       "    <tr>\n",
       "      <th>1326</th>\n",
       "      <td>Interpeduncular fossa</td>\n",
       "      <td>IPF</td>\n",
       "      <td>624</td>\n",
       "      <td>0</td>\n",
       "      <td>0</td>\n",
       "    </tr>\n",
       "    <tr>\n",
       "      <th>1327</th>\n",
       "      <td>retina</td>\n",
       "      <td>retina</td>\n",
       "      <td>304325711</td>\n",
       "      <td>0</td>\n",
       "      <td>0</td>\n",
       "    </tr>\n",
       "    <tr>\n",
       "      <th>1328</th>\n",
       "      <td>Primary somatosensory area, unassigned, layer ...</td>\n",
       "      <td>SSp-un1</td>\n",
       "      <td>182305696</td>\n",
       "      <td>0</td>\n",
       "      <td>0</td>\n",
       "    </tr>\n",
       "    <tr>\n",
       "      <th>1329</th>\n",
       "      <td>Primary somatosensory area, unassigned, layer ...</td>\n",
       "      <td>SSp-un4</td>\n",
       "      <td>182305712</td>\n",
       "      <td>0</td>\n",
       "      <td>0</td>\n",
       "    </tr>\n",
       "  </tbody>\n",
       "</table>\n",
       "<p>1330 rows × 5 columns</p>\n",
       "</div>"
      ],
      "text/plain": [
       "                                                   name  acronym         id  \\\n",
       "0                                                  root     root        997   \n",
       "1                         Basic cell groups and regions     grey          8   \n",
       "2                                              Cerebrum       CH        567   \n",
       "3                                       Cerebral cortex      CTX        688   \n",
       "4                                        Cortical plate    CTXpl        695   \n",
       "...                                                 ...      ...        ...   \n",
       "1325                               parafloccular sulcus      pfs         65   \n",
       "1326                              Interpeduncular fossa      IPF        624   \n",
       "1327                                             retina   retina  304325711   \n",
       "1328  Primary somatosensory area, unassigned, layer ...  SSp-un1  182305696   \n",
       "1329  Primary somatosensory area, unassigned, layer ...  SSp-un4  182305712   \n",
       "\n",
       "      affine_vox  mouserat_vox  \n",
       "0              0             0  \n",
       "1              0             0  \n",
       "2              0             0  \n",
       "3              0             0  \n",
       "4              0             0  \n",
       "...          ...           ...  \n",
       "1325           0             0  \n",
       "1326           0             0  \n",
       "1327           0             0  \n",
       "1328           0             0  \n",
       "1329           0             0  \n",
       "\n",
       "[1330 rows x 5 columns]"
      ]
     },
     "execution_count": 7,
     "metadata": {},
     "output_type": "execute_result"
    }
   ],
   "source": [
    "df"
   ]
  },
  {
   "cell_type": "code",
   "execution_count": 18,
   "metadata": {},
   "outputs": [
    {
     "data": {
      "text/plain": [
       "0          997\n",
       "1            8\n",
       "2          567\n",
       "3          688\n",
       "4          695\n",
       "5          315\n",
       "6          184\n",
       "7           68\n",
       "8          667\n",
       "9    526157192\n",
       "Name: id, dtype: int64"
      ]
     },
     "execution_count": 18,
     "metadata": {},
     "output_type": "execute_result"
    }
   ],
   "source": []
  },
  {
   "cell_type": "code",
   "execution_count": 19,
   "metadata": {},
   "outputs": [
    {
     "name": "stderr",
     "output_type": "stream",
     "text": [
      "/home/emilyjanedennis/.local/lib/python3.7/site-packages/ipykernel_launcher.py:2: SettingWithCopyWarning: \n",
      "A value is trying to be set on a copy of a slice from a DataFrame\n",
      "\n",
      "See the caveats in the documentation: https://pandas.pydata.org/pandas-docs/stable/user_guide/indexing.html#returning-a-view-versus-a-copy\n",
      "  \n",
      "/home/emilyjanedennis/.local/lib/python3.7/site-packages/ipykernel_launcher.py:3: SettingWithCopyWarning: \n",
      "A value is trying to be set on a copy of a slice from a DataFrame\n",
      "\n",
      "See the caveats in the documentation: https://pandas.pydata.org/pandas-docs/stable/user_guide/indexing.html#returning-a-view-versus-a-copy\n",
      "  This is separate from the ipykernel package so we can avoid doing imports until\n"
     ]
    }
   ],
   "source": [
    "for i in range(0,np.size(df['id']-1)):\n",
    "    df.mouserat_vox[i] = np.size(mouserat[mouserat==df.id[i]])\n",
    "    df.affine_vox[i] = np.size(affine[affine==df.id[i]])"
   ]
  },
  {
   "cell_type": "code",
   "execution_count": 20,
   "metadata": {},
   "outputs": [],
   "source": [
    "df.to_csv(r\"/home/emilyjanedennis/Desktop/test.csv\")"
   ]
  },
  {
   "cell_type": "code",
   "execution_count": 21,
   "metadata": {},
   "outputs": [],
   "source": [
    "df['change'] = df['affine_vox']-df['mouserat_vox']"
   ]
  },
  {
   "cell_type": "code",
   "execution_count": 22,
   "metadata": {},
   "outputs": [
    {
     "data": {
      "text/html": [
       "<div>\n",
       "<style scoped>\n",
       "    .dataframe tbody tr th:only-of-type {\n",
       "        vertical-align: middle;\n",
       "    }\n",
       "\n",
       "    .dataframe tbody tr th {\n",
       "        vertical-align: top;\n",
       "    }\n",
       "\n",
       "    .dataframe thead th {\n",
       "        text-align: right;\n",
       "    }\n",
       "</style>\n",
       "<table border=\"1\" class=\"dataframe\">\n",
       "  <thead>\n",
       "    <tr style=\"text-align: right;\">\n",
       "      <th></th>\n",
       "      <th>name</th>\n",
       "      <th>acronym</th>\n",
       "      <th>id</th>\n",
       "      <th>affine_vox</th>\n",
       "      <th>mouserat_vox</th>\n",
       "      <th>change</th>\n",
       "    </tr>\n",
       "  </thead>\n",
       "  <tbody>\n",
       "    <tr>\n",
       "      <th>0</th>\n",
       "      <td>root</td>\n",
       "      <td>root</td>\n",
       "      <td>997</td>\n",
       "      <td>13155</td>\n",
       "      <td>13429</td>\n",
       "      <td>-274</td>\n",
       "    </tr>\n",
       "    <tr>\n",
       "      <th>1</th>\n",
       "      <td>Basic cell groups and regions</td>\n",
       "      <td>grey</td>\n",
       "      <td>8</td>\n",
       "      <td>10084</td>\n",
       "      <td>10361</td>\n",
       "      <td>-277</td>\n",
       "    </tr>\n",
       "    <tr>\n",
       "      <th>2</th>\n",
       "      <td>Cerebrum</td>\n",
       "      <td>CH</td>\n",
       "      <td>567</td>\n",
       "      <td>17749</td>\n",
       "      <td>17340</td>\n",
       "      <td>409</td>\n",
       "    </tr>\n",
       "    <tr>\n",
       "      <th>3</th>\n",
       "      <td>Cerebral cortex</td>\n",
       "      <td>CTX</td>\n",
       "      <td>688</td>\n",
       "      <td>20489</td>\n",
       "      <td>20859</td>\n",
       "      <td>-370</td>\n",
       "    </tr>\n",
       "    <tr>\n",
       "      <th>4</th>\n",
       "      <td>Cortical plate</td>\n",
       "      <td>CTXpl</td>\n",
       "      <td>695</td>\n",
       "      <td>23022</td>\n",
       "      <td>22532</td>\n",
       "      <td>490</td>\n",
       "    </tr>\n",
       "    <tr>\n",
       "      <th>...</th>\n",
       "      <td>...</td>\n",
       "      <td>...</td>\n",
       "      <td>...</td>\n",
       "      <td>...</td>\n",
       "      <td>...</td>\n",
       "      <td>...</td>\n",
       "    </tr>\n",
       "    <tr>\n",
       "      <th>1325</th>\n",
       "      <td>parafloccular sulcus</td>\n",
       "      <td>pfs</td>\n",
       "      <td>65</td>\n",
       "      <td>8422</td>\n",
       "      <td>8410</td>\n",
       "      <td>12</td>\n",
       "    </tr>\n",
       "    <tr>\n",
       "      <th>1326</th>\n",
       "      <td>Interpeduncular fossa</td>\n",
       "      <td>IPF</td>\n",
       "      <td>624</td>\n",
       "      <td>20052</td>\n",
       "      <td>20026</td>\n",
       "      <td>26</td>\n",
       "    </tr>\n",
       "    <tr>\n",
       "      <th>1327</th>\n",
       "      <td>retina</td>\n",
       "      <td>retina</td>\n",
       "      <td>304325711</td>\n",
       "      <td>0</td>\n",
       "      <td>0</td>\n",
       "      <td>0</td>\n",
       "    </tr>\n",
       "    <tr>\n",
       "      <th>1328</th>\n",
       "      <td>Primary somatosensory area, unassigned, layer ...</td>\n",
       "      <td>SSp-un1</td>\n",
       "      <td>182305696</td>\n",
       "      <td>0</td>\n",
       "      <td>0</td>\n",
       "      <td>0</td>\n",
       "    </tr>\n",
       "    <tr>\n",
       "      <th>1329</th>\n",
       "      <td>Primary somatosensory area, unassigned, layer ...</td>\n",
       "      <td>SSp-un4</td>\n",
       "      <td>182305712</td>\n",
       "      <td>0</td>\n",
       "      <td>0</td>\n",
       "      <td>0</td>\n",
       "    </tr>\n",
       "  </tbody>\n",
       "</table>\n",
       "<p>1330 rows × 6 columns</p>\n",
       "</div>"
      ],
      "text/plain": [
       "                                                   name  acronym         id  \\\n",
       "0                                                  root     root        997   \n",
       "1                         Basic cell groups and regions     grey          8   \n",
       "2                                              Cerebrum       CH        567   \n",
       "3                                       Cerebral cortex      CTX        688   \n",
       "4                                        Cortical plate    CTXpl        695   \n",
       "...                                                 ...      ...        ...   \n",
       "1325                               parafloccular sulcus      pfs         65   \n",
       "1326                              Interpeduncular fossa      IPF        624   \n",
       "1327                                             retina   retina  304325711   \n",
       "1328  Primary somatosensory area, unassigned, layer ...  SSp-un1  182305696   \n",
       "1329  Primary somatosensory area, unassigned, layer ...  SSp-un4  182305712   \n",
       "\n",
       "      affine_vox  mouserat_vox  change  \n",
       "0          13155         13429    -274  \n",
       "1          10084         10361    -277  \n",
       "2          17749         17340     409  \n",
       "3          20489         20859    -370  \n",
       "4          23022         22532     490  \n",
       "...          ...           ...     ...  \n",
       "1325        8422          8410      12  \n",
       "1326       20052         20026      26  \n",
       "1327           0             0       0  \n",
       "1328           0             0       0  \n",
       "1329           0             0       0  \n",
       "\n",
       "[1330 rows x 6 columns]"
      ]
     },
     "execution_count": 22,
     "metadata": {},
     "output_type": "execute_result"
    }
   ],
   "source": [
    "df"
   ]
  },
  {
   "cell_type": "code",
   "execution_count": 23,
   "metadata": {},
   "outputs": [
    {
     "data": {
      "text/plain": [
       "22532"
      ]
     },
     "execution_count": 23,
     "metadata": {},
     "output_type": "execute_result"
    }
   ],
   "source": []
  },
  {
   "cell_type": "code",
   "execution_count": 24,
   "metadata": {},
   "outputs": [
    {
     "data": {
      "text/plain": [
       "23022"
      ]
     },
     "execution_count": 24,
     "metadata": {},
     "output_type": "execute_result"
    }
   ],
   "source": []
  },
  {
   "cell_type": "code",
   "execution_count": 25,
   "metadata": {},
   "outputs": [
    {
     "data": {
      "text/plain": [
       "0      -2.040360\n",
       "1      -2.673487\n",
       "2       2.358708\n",
       "3      -1.773815\n",
       "4       2.174685\n",
       "          ...   \n",
       "1325    0.142687\n",
       "1326    0.129831\n",
       "1327         NaN\n",
       "1328         NaN\n",
       "1329         NaN\n",
       "Length: 1330, dtype: float64"
      ]
     },
     "execution_count": 25,
     "metadata": {},
     "output_type": "execute_result"
    }
   ],
   "source": [
    "dfpercent = df['change']/df['mouserat_vox']*100\n",
    "dfpercent[np.isinf(dfpercent)]=0\n",
    "df['percent'] = dfpercent\n",
    "dfpercent.replace(0,np.nan)"
   ]
  },
  {
   "cell_type": "code",
   "execution_count": 26,
   "metadata": {},
   "outputs": [
    {
     "data": {
      "image/png": "[encoded data removed]",
      "text/plain": [
       "<Figure size 432x288 with 1 Axes>"
      ]
     },
     "metadata": {
      "needs_background": "light"
     },
     "output_type": "display_data"
    }
   ],
   "source": [
    "plt.hist(dfpercent,bins=100)\n",
    "plt.show()"
   ]
  },
  {
   "cell_type": "code",
   "execution_count": 27,
   "metadata": {},
   "outputs": [],
   "source": [
    "mp = np.nanmedian(df['percent'])\n",
    "sp = np.nanstd(df['percent'])"
   ]
  },
  {
   "cell_type": "code",
   "execution_count": 28,
   "metadata": {},
   "outputs": [],
   "source": [
    "highmp = mp+2*sp"
   ]
  },
  {
   "cell_type": "code",
   "execution_count": 29,
   "metadata": {},
   "outputs": [],
   "source": [
    "lowmp = mp-2*sp"
   ]
  },
  {
   "cell_type": "code",
   "execution_count": 30,
   "metadata": {},
   "outputs": [],
   "source": [
    "twoxh = df[df['percent']> highmp]\n",
    "twoxl = df[df['percent']< lowmp]\n",
    "toox = df[df['percent'] > lowmp]\n",
    "toox = toox[toox['percent']< highmp]"
   ]
  },
  {
   "cell_type": "code",
   "execution_count": 54,
   "metadata": {},
   "outputs": [
    {
     "data": {
      "text/plain": [
       "12998"
      ]
     },
     "execution_count": 54,
     "metadata": {},
     "output_type": "execute_result"
    }
   ],
   "source": [
    "# add list of unique values not in twoxh/twoxl but in mouserat"
   ]
  },
  {
   "cell_type": "code",
   "execution_count": 50,
   "metadata": {},
   "outputs": [],
   "source": [
    "mouserat_relative = mouserat"
   ]
  },
  {
   "cell_type": "code",
   "execution_count": 51,
   "metadata": {},
   "outputs": [],
   "source": [
    "xm,ym,zm = np.shape(mouserat)"
   ]
  },
  {
   "cell_type": "code",
   "execution_count": 33,
   "metadata": {},
   "outputs": [],
   "source": [
    "mouserat_relative[mouserat_relative>np.amax(twoxh)]=0"
   ]
  },
  {
   "cell_type": "code",
   "execution_count": 34,
   "metadata": {},
   "outputs": [],
   "source": [
    "for i in toox['id']:\n",
    "    mouserat_relative[mouserat_relative==i]=0"
   ]
  },
  {
   "cell_type": "code",
   "execution_count": 44,
   "metadata": {},
   "outputs": [
    {
     "name": "stdout",
     "output_type": "stream",
     "text": [
      "35\n",
      "36\n",
      "452\n",
      "1021\n",
      "1028\n",
      "1035\n",
      "1037\n",
      "1048\n",
      "1049\n",
      "1050\n",
      "1054\n",
      "1060\n",
      "1061\n",
      "1062\n",
      "1065\n",
      "1087\n"
     ]
    }
   ],
   "source": [
    "txhp = twoxh['percent']\n",
    "txlp = twoxl['percent']"
   ]
  },
  {
   "cell_type": "code",
   "execution_count": 45,
   "metadata": {},
   "outputs": [],
   "source": [
    "\n",
    "for i in txhp.index:\n",
    "    mouserat_relative[mouserat_relative==i]=txhp[i]\n",
    "    \n",
    "for i in txlp.index:\n",
    "    mouserat_relative[mouserat_relative==i]=txlp[i]"
   ]
  },
  {
   "cell_type": "code",
   "execution_count": 46,
   "metadata": {},
   "outputs": [],
   "source": [
    "tif.imsave(\"mouserat_relative.tif\",mouserat_relative.astype(\"uint16\"))"
   ]
  },
  {
   "cell_type": "code",
   "execution_count": 49,
   "metadata": {},
   "outputs": [
    {
     "data": {
      "text/plain": [
       "-32768"
      ]
     },
     "execution_count": 49,
     "metadata": {},
     "output_type": "execute_result"
    }
   ],
   "source": []
  },
  {
   "cell_type": "code",
   "execution_count": null,
   "metadata": {},
   "outputs": [],
   "source": []
  },
  {
   "cell_type": "code",
   "execution_count": null,
   "metadata": {},
   "outputs": [],
   "source": []
  },
  {
   "cell_type": "code",
   "execution_count": null,
   "metadata": {},
   "outputs": [],
   "source": []
  }
 ],
 "metadata": {
  "kernelspec": {
   "display_name": "Python 3",
   "language": "python",
   "name": "python3"
  },
  "language_info": {
   "codemirror_mode": {
    "name": "ipython",
    "version": 3
   },
   "file_extension": ".py",
   "mimetype": "text/x-python",
   "name": "python",
   "nbconvert_exporter": "python",
   "pygments_lexer": "ipython3",
   "version": "3.7.3"
  }
 },
 "nbformat": 4,
 "nbformat_minor": 4
}

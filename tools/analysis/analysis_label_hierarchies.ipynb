{
 "cells": [
  {
   "cell_type": "code",
   "execution_count": 2,
   "metadata": {},
   "outputs": [],
   "source": [
    "# import stuff\n",
    "import os, sys, time\n",
    "import tifffile as tif\n",
    "import matplotlib.pyplot as plt\n",
    "import numpy as np\n",
    "import pandas as pd\n",
    "import csv"
   ]
  },
  {
   "cell_type": "code",
   "execution_count": 17,
   "metadata": {},
   "outputs": [],
   "source": [
    "# for a given csv file, read in as a pandas df\n",
    "def csv_to_pd(filename):\n",
    "    fn=[]\n",
    "    with open(filename) as csvfile:\n",
    "        reader = csv.reader(csvfile,delimiter=',')\n",
    "        for row in reader:\n",
    "            fn.append(row)\n",
    "    fnd = pd.DataFrame(fn)\n",
    "    return fnd"
   ]
  },
  {
   "cell_type": "code",
   "execution_count": 38,
   "metadata": {},
   "outputs": [],
   "source": [
    "#for a column in a df, replace spaces with _ and make all lowercase\n",
    "def make_column_safe(df,num):\n",
    "    for idx in df.index:\n",
    "        strfx = df[num][idx]\n",
    "        strfx = strfx.replace(' ','_').lower()\n",
    "        df[num][idx] = strfx\n",
    "    return df"
   ]
  },
  {
   "cell_type": "code",
   "execution_count": 39,
   "metadata": {},
   "outputs": [],
   "source": [
    "# this will mean I need to make sure same labels are same across all files\n",
    "# but I might need to make each file separate"
   ]
  },
  {
   "cell_type": "code",
   "execution_count": 52,
   "metadata": {},
   "outputs": [],
   "source": [
    "whs = csv_to_pd(\"/Users/emilydennis/Desktop/today/WHS_labels.csv\")\n",
    "whs = make_column_safe(whs,2)"
   ]
  },
  {
   "cell_type": "code",
   "execution_count": 53,
   "metadata": {},
   "outputs": [],
   "source": [
    "ann = tif.imread('/Users/emilydennis/Desktop/today/WHS_ann_in_mPRA.tif')\n",
    "mpramask = tif.imread('/Users/emilydennis/Desktop/today/mPRA-mask.tif')"
   ]
  },
  {
   "cell_type": "code",
   "execution_count": 59,
   "metadata": {},
   "outputs": [
    {
     "data": {
      "text/plain": [
       "<matplotlib.image.AxesImage at 0x7feddcba5810>"
      ]
     },
     "execution_count": 59,
     "metadata": {},
     "output_type": "execute_result"
    },
    {
     "data": {
      "image/png": "[encoded data removed]",
      "text/plain": [
       "<Figure size 432x288 with 1 Axes>"
      ]
     },
     "metadata": {
      "needs_background": "light"
     },
     "output_type": "display_data"
    }
   ],
   "source": [
    "[xmax,ymax,zmax] = np.shape(mpramask)\n",
    "x=400\n",
    "for y in arange(0,ymax):\n",
    "    for z in arange(0,zmax):\n",
    "        if ann[400,x,y] > 0:\n",
    "            "
   ]
  },
  {
   "cell_type": "code",
   "execution_count": null,
   "metadata": {},
   "outputs": [],
   "source": []
  }
 ],
 "metadata": {
  "kernelspec": {
   "display_name": "Python 3",
   "language": "python",
   "name": "python3"
  },
  "language_info": {
   "codemirror_mode": {
    "name": "ipython",
    "version": 3
   },
   "file_extension": ".py",
   "mimetype": "text/x-python",
   "name": "python",
   "nbconvert_exporter": "python",
   "pygments_lexer": "ipython3",
   "version": "3.7.4"
  },
  "toc": {
   "base_numbering": 1,
   "nav_menu": {},
   "number_sections": true,
   "sideBar": true,
   "skip_h1_title": false,
   "title_cell": "Table of Contents",
   "title_sidebar": "Contents",
   "toc_cell": false,
   "toc_position": {},
   "toc_section_display": true,
   "toc_window_display": false
  }
 },
 "nbformat": 4,
 "nbformat_minor": 2
}

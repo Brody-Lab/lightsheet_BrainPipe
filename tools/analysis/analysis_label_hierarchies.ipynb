{
 "cells": [
  {
   "cell_type": "code",
   "execution_count": 2,
   "metadata": {},
   "outputs": [],
   "source": [
    "# import stuff\n",
    "import os, sys, time\n",
    "import tifffile as tif\n",
    "import matplotlib.pyplot as plt\n",
    "import numpy as np\n",
    "import pandas as pd\n",
    "import csv"
   ]
  },
  {
   "cell_type": "code",
   "execution_count": 17,
   "metadata": {},
   "outputs": [],
   "source": [
    "# for a given csv file, read in as a pandas df\n",
    "def csv_to_pd(filename):\n",
    "    fn=[]\n",
    "    with open(filename) as csvfile:\n",
    "        reader = csv.reader(csvfile,delimiter=',')\n",
    "        for row in reader:\n",
    "            fn.append(row)\n",
    "    fnd = pd.DataFrame(fn)\n",
    "    return fnd"
   ]
  },
  {
   "cell_type": "code",
   "execution_count": 38,
   "metadata": {},
   "outputs": [],
   "source": [
    "#for a column in a df, replace spaces with _ and make all lowercase\n",
    "def make_column_safe(df,num):\n",
    "    for idx in df.index:\n",
    "        strfx = df[num][idx]\n",
    "        strfx = strfx.replace(' ','_').lower()\n",
    "        df[num][idx] = strfx\n",
    "    return df"
   ]
  },
  {
   "cell_type": "code",
   "execution_count": 39,
   "metadata": {},
   "outputs": [],
   "source": [
    "# this will mean I need to make sure same labels are same across all files\n",
    "# but I might need to make each file separate"
   ]
  },
  {
   "cell_type": "code",
   "execution_count": 61,
   "metadata": {},
   "outputs": [],
   "source": [
    "whs = csv_to_pd(\"/Users/emilydennis/Desktop/today/WHS_labels.csv\")\n",
    "whs = make_column_safe(whs,1)\n",
    "\n",
    "sigma = csv_to_pd(\"/Users/emilydennis/Desktop/today/SIGMA_labels.csv\")\n",
    "sigma = make_column_safe(sigma,2)"
   ]
  },
  {
   "cell_type": "code",
   "execution_count": 62,
   "metadata": {},
   "outputs": [
    {
     "data": {
      "text/html": [
       "<div>\n",
       "<style scoped>\n",
       "    .dataframe tbody tr th:only-of-type {\n",
       "        vertical-align: middle;\n",
       "    }\n",
       "\n",
       "    .dataframe tbody tr th {\n",
       "        vertical-align: top;\n",
       "    }\n",
       "\n",
       "    .dataframe thead th {\n",
       "        text-align: right;\n",
       "    }\n",
       "</style>\n",
       "<table border=\"1\" class=\"dataframe\">\n",
       "  <thead>\n",
       "    <tr style=\"text-align: right;\">\n",
       "      <th></th>\n",
       "      <th>0</th>\n",
       "      <th>1</th>\n",
       "      <th>2</th>\n",
       "    </tr>\n",
       "  </thead>\n",
       "  <tbody>\n",
       "    <tr>\n",
       "      <td>0</td>\n",
       "      <td></td>\n",
       "      <td>name</td>\n",
       "      <td>id</td>\n",
       "    </tr>\n",
       "    <tr>\n",
       "      <td>1</td>\n",
       "      <td>0</td>\n",
       "      <td>clear_label</td>\n",
       "      <td>0</td>\n",
       "    </tr>\n",
       "    <tr>\n",
       "      <td>2</td>\n",
       "      <td>1</td>\n",
       "      <td>descending_corticofugal_pathways</td>\n",
       "      <td>1</td>\n",
       "    </tr>\n",
       "    <tr>\n",
       "      <td>3</td>\n",
       "      <td>2</td>\n",
       "      <td>substantia_nigra</td>\n",
       "      <td>2</td>\n",
       "    </tr>\n",
       "    <tr>\n",
       "      <td>4</td>\n",
       "      <td>3</td>\n",
       "      <td>subthalamic_nucleus</td>\n",
       "      <td>3</td>\n",
       "    </tr>\n",
       "    <tr>\n",
       "      <td>...</td>\n",
       "      <td>...</td>\n",
       "      <td>...</td>\n",
       "      <td>...</td>\n",
       "    </tr>\n",
       "    <tr>\n",
       "      <td>115</td>\n",
       "      <td>114</td>\n",
       "      <td>ventral_cochlear_nucleus,_posterior_part</td>\n",
       "      <td>159</td>\n",
       "    </tr>\n",
       "    <tr>\n",
       "      <td>116</td>\n",
       "      <td>115</td>\n",
       "      <td>ventral_cochlear_nucleus,_cap_area</td>\n",
       "      <td>160</td>\n",
       "    </tr>\n",
       "    <tr>\n",
       "      <td>117</td>\n",
       "      <td>116</td>\n",
       "      <td>spiral_ganglion</td>\n",
       "      <td>162</td>\n",
       "    </tr>\n",
       "    <tr>\n",
       "      <td>118</td>\n",
       "      <td>117</td>\n",
       "      <td>nucleus_sagulum</td>\n",
       "      <td>163</td>\n",
       "    </tr>\n",
       "    <tr>\n",
       "      <td>119</td>\n",
       "      <td>118</td>\n",
       "      <td>reticular_thalamic_nucleus,_auditory_segment</td>\n",
       "      <td>164</td>\n",
       "    </tr>\n",
       "  </tbody>\n",
       "</table>\n",
       "<p>120 rows × 3 columns</p>\n",
       "</div>"
      ],
      "text/plain": [
       "       0                                             1    2\n",
       "0                                                 name   id\n",
       "1      0                                   clear_label    0\n",
       "2      1              descending_corticofugal_pathways    1\n",
       "3      2                              substantia_nigra    2\n",
       "4      3                           subthalamic_nucleus    3\n",
       "..   ...                                           ...  ...\n",
       "115  114      ventral_cochlear_nucleus,_posterior_part  159\n",
       "116  115            ventral_cochlear_nucleus,_cap_area  160\n",
       "117  116                               spiral_ganglion  162\n",
       "118  117                               nucleus_sagulum  163\n",
       "119  118  reticular_thalamic_nucleus,_auditory_segment  164\n",
       "\n",
       "[120 rows x 3 columns]"
      ]
     },
     "execution_count": 62,
     "metadata": {},
     "output_type": "execute_result"
    }
   ],
   "source": []
  },
  {
   "cell_type": "code",
   "execution_count": 53,
   "metadata": {},
   "outputs": [],
   "source": [
    "ann = tif.imread('/Users/emilydennis/Desktop/today/WHS_ann_in_mPRA.tif')\n",
    "sigmaann = tif.imread('/Users/emilydennis/Desktop/mPRA_SIGMA_annotation-volume.tif')\n",
    "mpramask = tif.imread('/Users/emilydennis/Desktop/today/mPRA-mask.tif')"
   ]
  },
  {
   "cell_type": "code",
   "execution_count": 63,
   "metadata": {},
   "outputs": [
    {
     "ename": "SyntaxError",
     "evalue": "invalid syntax (<ipython-input-63-85abfc0d4536>, line 7)",
     "output_type": "error",
     "traceback": [
      "\u001b[0;36m  File \u001b[0;32m\"<ipython-input-63-85abfc0d4536>\"\u001b[0;36m, line \u001b[0;32m7\u001b[0m\n\u001b[0;31m    A =\u001b[0m\n\u001b[0m        ^\u001b[0m\n\u001b[0;31mSyntaxError\u001b[0m\u001b[0;31m:\u001b[0m invalid syntax\n"
     ]
    }
   ],
   "source": [
    "def get_a_b(A,Alab,Alabnum,Anamenum,B,Blab,mask)\n",
    "    [xmax,ymax,zmax] = np.shape(mask)\n",
    "    x=400\n",
    "    distlist = []\n",
    "    for y in arange(0,ymax):\n",
    "        for z in arange(0,zmax):\n",
    "            if mask[x,y,z] > 0:\n",
    "                "
   ]
  },
  {
   "cell_type": "code",
   "execution_count": null,
   "metadata": {},
   "outputs": [],
   "source": [
    "def get_nameandnum(volume,labeledvolume,labelcolumnnum,namecolumnnum):\n",
    "    val = volume[x,y,z]\n",
    "    namerow = labeledvolume[labeledvolume[labelcolumnnum]==val]\n",
    "    valname = namerow[namecolumnnum]\n",
    "    return valname\n"
   ]
  },
  {
   "cell_type": "code",
   "execution_count": null,
   "metadata": {},
   "outputs": [],
   "source": []
  }
 ],
 "metadata": {
  "kernelspec": {
   "display_name": "Python 3",
   "language": "python",
   "name": "python3"
  },
  "language_info": {
   "codemirror_mode": {
    "name": "ipython",
    "version": 3
   },
   "file_extension": ".py",
   "mimetype": "text/x-python",
   "name": "python",
   "nbconvert_exporter": "python",
   "pygments_lexer": "ipython3",
   "version": "3.7.4"
  },
  "toc": {
   "base_numbering": 1,
   "nav_menu": {},
   "number_sections": true,
   "sideBar": true,
   "skip_h1_title": false,
   "title_cell": "Table of Contents",
   "title_sidebar": "Contents",
   "toc_cell": false,
   "toc_position": {},
   "toc_section_display": true,
   "toc_window_display": false
  }
 },
 "nbformat": 4,
 "nbformat_minor": 2
}

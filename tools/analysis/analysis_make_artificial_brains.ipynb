{
 "cells": [
  {
   "cell_type": "markdown",
   "metadata": {},
   "source": [
    "# import"
   ]
  },
  {
   "cell_type": "code",
   "execution_count": 4,
   "metadata": {},
   "outputs": [],
   "source": [
    "import os\n",
    "import numpy as np\n",
    "import tifffile as tif\n",
    "import SimpleITK as sitk\n",
    "import sys\n",
    "from scipy import ndimage\n",
    "from scipy.ndimage import zoom\n",
    "import pandas as pd\n",
    "import matplotlib.pyplot as plt\n",
    "import seaborn as sns\n",
    "from collections import namedtuple\n",
    "from glob import glob\n",
    "import warnings\n",
    "import cv2 as cv2\n",
    "from PIL import Image"
   ]
  },
  {
   "cell_type": "markdown",
   "metadata": {},
   "source": [
    "# User inputs"
   ]
  },
  {
   "cell_type": "code",
   "execution_count": 8,
   "metadata": {},
   "outputs": [],
   "source": [
    "image_to_warp = tif.imread('/Users/emilydennis/Desktop/slicedir/A243/A243_XY05.ome.tif')[0]\n",
    "volume_to_warp = tif.imread('/Users/emilydennis/Desktop/atlasdir/mPRA_SIGMA_annotation-volume.tif')"
   ]
  },
  {
   "cell_type": "markdown",
   "metadata": {},
   "source": [
    "# define functions"
   ]
  },
  {
   "cell_type": "code",
   "execution_count": 178,
   "metadata": {},
   "outputs": [],
   "source": [
    "def rotated_imports(full_path_to_atlas,slice_direction):\n",
    "    if slice_direction == 'coronal':\n",
    "        atl = np.swapaxes(tif.imread(full_path_to_atlas),0,2)\n",
    "    elif slice_direction == 'sagittal':\n",
    "        atl = np.swapaxes(tif.imread(full_path_to_atlas),0,1)\n",
    "    elif slice_direction == 'axial':\n",
    "        atl = np.swapaxes(tif.imread(full_path_to_atlas),1,2).T\n",
    "    else:\n",
    "        print(\"OOPS you need to define slice_direction in the User inputs section as either 'coronal','sagittal', or 'axial'\")\n",
    "    return(atl)"
   ]
  },
  {
   "cell_type": "code",
   "execution_count": 17,
   "metadata": {},
   "outputs": [],
   "source": [
    "def get_triangulation_indices(points):\n",
    "    \"\"\"Get indices triples for every triangle\n",
    "    \"\"\"\n",
    "    # Bounding rectangle\n",
    "    bounding_rect = (*points.min(axis=0), *points.max(axis=0))\n",
    "\n",
    "    # Triangulate all points\n",
    "    subdiv = cv2.Subdiv2D(bounding_rect)\n",
    "    subdiv.insert(list(points))\n",
    "\n",
    "    # Iterate over all triangles\n",
    "    for x1, y1, x2, y2, x3, y3 in subdiv.getTriangleList():\n",
    "        # Get index of all points\n",
    "        yield [(points==point).all(axis=1).nonzero()[0][0] for point in [(x1,y1), (x2,y2), (x3,y3)]]\n",
    "    \n",
    "def crop_to_triangle(img, triangle):\n",
    "    \"\"\"Crop image to triangle\n",
    "    \"\"\"\n",
    "    # Get bounding rectangle\n",
    "    bounding_rect = cv2.boundingRect(triangle)\n",
    "    print(\"bounding rec is {}\".format(bounding_rect))\n",
    "    # Crop image to bounding box\n",
    "    img_cropped = img[bounding_rect[1]:bounding_rect[1] + bounding_rect[3],\n",
    "                      bounding_rect[0]:bounding_rect[0] + bounding_rect[2]]\n",
    "    # Move triangle to coordinates in cropped image\n",
    "    triangle_cropped = [(point[0]-bounding_rect[0], point[1]-bounding_rect[1]) for point in triangle]\n",
    "    return triangle_cropped, img_cropped\n",
    "\n",
    "def transform(src_img, src_points, dst_img, dst_points): \n",
    "    \"\"\"Transforms source image to target image, overwriting the target image.\n",
    "    \"\"\"\n",
    "    for indices in get_triangulation_indices(src_points):\n",
    "        # Get triangles from indices\n",
    "        src_triangle = src_points[indices]\n",
    "        dst_triangle = dst_points[indices]\n",
    "\n",
    "        # Crop to triangle, to make calculations more efficient\n",
    "        src_triangle_cropped, src_img_cropped = crop_to_triangle(src_img, src_triangle)\n",
    "        dst_triangle_cropped, dst_img_cropped = crop_to_triangle(dst_img, dst_triangle)\n",
    "\n",
    "        # Calculate transfrom to warp from old image to new\n",
    "        transform = cv2.getAffineTransform(np.float32(src_triangle_cropped), np.float32(dst_triangle_cropped))\n",
    "\n",
    "        # Warp image\n",
    "        dst_img_warped = cv2.warpAffine(src_img_cropped, transform, (dst_img_cropped.shape[1], dst_img_cropped.shape[0]), None, flags=cv2.INTER_LINEAR, borderMode=cv2.BORDER_REFLECT_101 )\n",
    "\n",
    "        # Create mask for the triangle we want to transform\n",
    "        mask = np.zeros(dst_img_cropped.shape, dtype = np.uint8)\n",
    "        cv2.fillConvexPoly(mask, np.int32(dst_triangle_cropped), (1.0, 1.0, 1.0), 16, 0);\n",
    "\n",
    "        # Delete all existing pixels at given mask\n",
    "        dst_img_cropped*=1-mask\n",
    "        # Add new pixels to masked area\n",
    "        dst_img_cropped+=dst_img_warped*mask"
   ]
  },
  {
   "cell_type": "code",
   "execution_count": 19,
   "metadata": {},
   "outputs": [],
   "source": [
    "src_points = np.array([(0,0),(0,2000),(2500,2000)])\n",
    "dst_points = np.array([(1000,1000),(0,3000),(2000,3000)])\n",
    "warped_image = image_to_warp.copy()"
   ]
  },
  {
   "cell_type": "code",
   "execution_count": 23,
   "metadata": {},
   "outputs": [
    {
     "name": "stdout",
     "output_type": "stream",
     "text": [
      "bounding rec is (63, 19, 27, 28)\n",
      "bounding rec is (41, 15, 33, 9)\n",
      "bounding rec is (38, 19, 38, 47)\n",
      "bounding rec is (0, 15, 57, 46)\n",
      "bounding rec is (107, 150, 894, 851)\n",
      "bounding rec is (2, 16, 207, 166)\n",
      "bounding rec is (147, 118, 854, 883)\n",
      "bounding rec is (2, 16, 243, 166)\n",
      "bounding rec is (38, 65, 58, 51)\n",
      "bounding rec is (0, 60, 95, 84)\n",
      "bounding rec is (84, 96, 23, 28)\n",
      "bounding rec is (83, 128, 40, 47)\n",
      "bounding rec is (95, 91, 13, 27)\n",
      "bounding rec is (94, 122, 29, 43)\n",
      "bounding rec is (47, 115, 38, 33)\n",
      "bounding rec is (2, 143, 82, 39)\n",
      "bounding rec is (66, 137, 42, 30)\n",
      "bounding rec is (47, 174, 75, 8)\n",
      "bounding rec is (47, 96, 49, 28)\n",
      "bounding rec is (2, 128, 93, 47)\n",
      "bounding rec is (107, 135, 41, 32)\n",
      "bounding rec is (121, 175, 88, 7)\n",
      "bounding rec is (75, 46, 35, 46)\n",
      "bounding rec is (56, 23, 65, 100)\n",
      "bounding rec is (107, 48, 14, 50)\n",
      "bounding rec is (120, 48, 31, 77)\n",
      "bounding rec is (172, 75, 829, 926)\n",
      "bounding rec is (2, 16, 243, 118)\n",
      "bounding rec is (132, 118, 41, 33)\n",
      "bounding rec is (159, 133, 86, 49)\n",
      "bounding rec is (75, 46, 33, 51)\n",
      "bounding rec is (56, 23, 65, 106)\n",
      "bounding rec is (38, 46, 58, 51)\n",
      "bounding rec is (0, 23, 95, 106)\n",
      "bounding rec is (173, 26, 828, 975)\n",
      "bounding rec is (2, 16, 240, 72)\n",
      "bounding rec is (120, 75, 58, 44)\n",
      "bounding rec is (150, 87, 95, 47)\n",
      "bounding rec is (89, 30, 40, 19)\n",
      "bounding rec is (73, 16, 102, 33)\n",
      "bounding rec is (75, 30, 35, 19)\n",
      "bounding rec is (56, 20, 65, 29)\n",
      "bounding rec is (142, 26, 36, 50)\n",
      "bounding rec is (191, 18, 51, 70)\n",
      "bounding rec is (63, 19, 111, 9)\n",
      "bounding rec is (41, 15, 201, 4)\n",
      "bounding rec is (109, 34, 34, 15)\n",
      "bounding rec is (120, 16, 72, 33)\n",
      "bounding rec is (63, 19, 90, 12)\n",
      "bounding rec is (41, 15, 178, 6)\n",
      "bounding rec is (89, 27, 64, 8)\n",
      "bounding rec is (73, 16, 146, 5)\n",
      "bounding rec is (142, 26, 32, 21)\n",
      "bounding rec is (191, 16, 51, 8)\n",
      "bounding rec is (128, 27, 25, 20)\n",
      "bounding rec is (174, 16, 45, 8)\n",
      "bounding rec is (120, 46, 58, 52)\n",
      "bounding rec is (150, 23, 92, 102)\n",
      "bounding rec is (109, 46, 34, 52)\n",
      "bounding rec is (120, 23, 72, 102)\n",
      "bounding rec is (106, 91, 15, 27)\n",
      "bounding rec is (120, 122, 31, 43)\n",
      "bounding rec is (106, 117, 15, 23)\n",
      "bounding rec is (121, 164, 17, 12)\n",
      "bounding rec is (97, 117, 11, 23)\n",
      "bounding rec is (110, 164, 13, 11)\n",
      "bounding rec is (120, 97, 53, 25)\n",
      "bounding rec is (150, 124, 95, 50)\n",
      "bounding rec is (66, 123, 32, 25)\n",
      "bounding rec is (47, 174, 64, 8)\n",
      "bounding rec is (84, 117, 23, 21)\n",
      "bounding rec is (83, 164, 40, 11)\n",
      "bounding rec is (106, 97, 27, 25)\n",
      "bounding rec is (122, 124, 38, 50)\n",
      "bounding rec is (107, 135, 14, 32)\n",
      "bounding rec is (121, 174, 17, 5)\n",
      "bounding rec is (106, 117, 27, 19)\n",
      "bounding rec is (122, 164, 38, 12)\n",
      "bounding rec is (120, 121, 28, 30)\n",
      "bounding rec is (137, 173, 72, 9)\n",
      "bounding rec is (97, 137, 11, 30)\n",
      "bounding rec is (110, 174, 12, 5)\n"
     ]
    },
    {
     "ename": "AttributeError",
     "evalue": "'cv2.Subdiv2D' object has no attribute 'get_TriangleList'",
     "output_type": "error",
     "traceback": [
      "\u001b[0;31m---------------------------------------------------------------------------\u001b[0m",
      "\u001b[0;31mAttributeError\u001b[0m                            Traceback (most recent call last)",
      "\u001b[0;32m<ipython-input-23-8320a48b0582>\u001b[0m in \u001b[0;36m<module>\u001b[0;34m\u001b[0m\n\u001b[1;32m      1\u001b[0m \u001b[0msrc_points\u001b[0m \u001b[0;34m=\u001b[0m \u001b[0mnp\u001b[0m\u001b[0;34m.\u001b[0m\u001b[0marray\u001b[0m\u001b[0;34m(\u001b[0m\u001b[0;34m[\u001b[0m\u001b[0;34m(\u001b[0m\u001b[0;36m1000\u001b[0m\u001b[0;34m,\u001b[0m \u001b[0;36m1000\u001b[0m\u001b[0;34m)\u001b[0m\u001b[0;34m,\u001b[0m \u001b[0;34m(\u001b[0m\u001b[0;36m38\u001b[0m\u001b[0;34m,\u001b[0m \u001b[0;36m65\u001b[0m\u001b[0;34m)\u001b[0m\u001b[0;34m,\u001b[0m \u001b[0;34m(\u001b[0m\u001b[0;36m47\u001b[0m\u001b[0;34m,\u001b[0m \u001b[0;36m115\u001b[0m\u001b[0;34m)\u001b[0m\u001b[0;34m,\u001b[0m \u001b[0;34m(\u001b[0m\u001b[0;36m66\u001b[0m\u001b[0;34m,\u001b[0m \u001b[0;36m147\u001b[0m\u001b[0;34m)\u001b[0m\u001b[0;34m,\u001b[0m \u001b[0;34m(\u001b[0m\u001b[0;36m107\u001b[0m\u001b[0;34m,\u001b[0m \u001b[0;36m166\u001b[0m\u001b[0;34m)\u001b[0m\u001b[0;34m,\u001b[0m \u001b[0;34m(\u001b[0m\u001b[0;36m147\u001b[0m\u001b[0;34m,\u001b[0m \u001b[0;36m150\u001b[0m\u001b[0;34m)\u001b[0m\u001b[0;34m,\u001b[0m \u001b[0;34m(\u001b[0m\u001b[0;36m172\u001b[0m\u001b[0;34m,\u001b[0m \u001b[0;36m118\u001b[0m\u001b[0;34m)\u001b[0m\u001b[0;34m,\u001b[0m \u001b[0;34m(\u001b[0m\u001b[0;36m177\u001b[0m\u001b[0;34m,\u001b[0m \u001b[0;36m75\u001b[0m\u001b[0;34m)\u001b[0m\u001b[0;34m,\u001b[0m \u001b[0;34m(\u001b[0m\u001b[0;36m173\u001b[0m\u001b[0;34m,\u001b[0m \u001b[0;36m26\u001b[0m\u001b[0;34m)\u001b[0m\u001b[0;34m,\u001b[0m \u001b[0;34m(\u001b[0m\u001b[0;36m63\u001b[0m\u001b[0;34m,\u001b[0m \u001b[0;36m19\u001b[0m\u001b[0;34m)\u001b[0m\u001b[0;34m,\u001b[0m \u001b[0;34m(\u001b[0m\u001b[0;36m89\u001b[0m\u001b[0;34m,\u001b[0m \u001b[0;36m30\u001b[0m\u001b[0;34m)\u001b[0m\u001b[0;34m,\u001b[0m \u001b[0;34m(\u001b[0m\u001b[0;36m128\u001b[0m\u001b[0;34m,\u001b[0m \u001b[0;36m34\u001b[0m\u001b[0;34m)\u001b[0m\u001b[0;34m,\u001b[0m \u001b[0;34m(\u001b[0m\u001b[0;36m152\u001b[0m\u001b[0;34m,\u001b[0m \u001b[0;36m27\u001b[0m\u001b[0;34m)\u001b[0m\u001b[0;34m,\u001b[0m \u001b[0;34m(\u001b[0m\u001b[0;36m75\u001b[0m\u001b[0;34m,\u001b[0m \u001b[0;36m46\u001b[0m\u001b[0;34m)\u001b[0m\u001b[0;34m,\u001b[0m \u001b[0;34m(\u001b[0m\u001b[0;36m142\u001b[0m\u001b[0;34m,\u001b[0m \u001b[0;36m46\u001b[0m\u001b[0;34m)\u001b[0m\u001b[0;34m,\u001b[0m \u001b[0;34m(\u001b[0m\u001b[0;36m109\u001b[0m\u001b[0;34m,\u001b[0m \u001b[0;36m48\u001b[0m\u001b[0;34m)\u001b[0m\u001b[0;34m,\u001b[0m \u001b[0;34m(\u001b[0m\u001b[0;36m95\u001b[0m\u001b[0;34m,\u001b[0m \u001b[0;36m96\u001b[0m\u001b[0;34m)\u001b[0m\u001b[0;34m,\u001b[0m \u001b[0;34m(\u001b[0m\u001b[0;36m107\u001b[0m\u001b[0;34m,\u001b[0m \u001b[0;36m91\u001b[0m\u001b[0;34m)\u001b[0m\u001b[0;34m,\u001b[0m \u001b[0;34m(\u001b[0m\u001b[0;36m120\u001b[0m\u001b[0;34m,\u001b[0m \u001b[0;36m97\u001b[0m\u001b[0;34m)\u001b[0m\u001b[0;34m,\u001b[0m \u001b[0;34m(\u001b[0m\u001b[0;36m84\u001b[0m\u001b[0;34m,\u001b[0m \u001b[0;36m123\u001b[0m\u001b[0;34m)\u001b[0m\u001b[0;34m,\u001b[0m \u001b[0;34m(\u001b[0m\u001b[0;36m106\u001b[0m\u001b[0;34m,\u001b[0m \u001b[0;36m117\u001b[0m\u001b[0;34m)\u001b[0m\u001b[0;34m,\u001b[0m \u001b[0;34m(\u001b[0m\u001b[0;36m132\u001b[0m\u001b[0;34m,\u001b[0m \u001b[0;36m121\u001b[0m\u001b[0;34m)\u001b[0m\u001b[0;34m,\u001b[0m \u001b[0;34m(\u001b[0m\u001b[0;36m97\u001b[0m\u001b[0;34m,\u001b[0m \u001b[0;36m137\u001b[0m\u001b[0;34m)\u001b[0m\u001b[0;34m,\u001b[0m \u001b[0;34m(\u001b[0m\u001b[0;36m107\u001b[0m\u001b[0;34m,\u001b[0m \u001b[0;36m139\u001b[0m\u001b[0;34m)\u001b[0m\u001b[0;34m,\u001b[0m \u001b[0;34m(\u001b[0m\u001b[0;36m120\u001b[0m\u001b[0;34m,\u001b[0m \u001b[0;36m135\u001b[0m\u001b[0;34m)\u001b[0m\u001b[0;34m]\u001b[0m\u001b[0;34m)\u001b[0m\u001b[0;34m\u001b[0m\u001b[0;34m\u001b[0m\u001b[0m\n\u001b[1;32m      2\u001b[0m \u001b[0mdst_points\u001b[0m \u001b[0;34m=\u001b[0m \u001b[0mnp\u001b[0m\u001b[0;34m.\u001b[0m\u001b[0marray\u001b[0m\u001b[0;34m(\u001b[0m\u001b[0;34m[\u001b[0m\u001b[0;34m(\u001b[0m\u001b[0;36m2\u001b[0m\u001b[0;34m,\u001b[0m \u001b[0;36m16\u001b[0m\u001b[0;34m)\u001b[0m\u001b[0;34m,\u001b[0m \u001b[0;34m(\u001b[0m\u001b[0;36m0\u001b[0m\u001b[0;34m,\u001b[0m \u001b[0;36m60\u001b[0m\u001b[0;34m)\u001b[0m\u001b[0;34m,\u001b[0m \u001b[0;34m(\u001b[0m\u001b[0;36m2\u001b[0m\u001b[0;34m,\u001b[0m \u001b[0;36m143\u001b[0m\u001b[0;34m)\u001b[0m\u001b[0;34m,\u001b[0m \u001b[0;34m(\u001b[0m\u001b[0;36m47\u001b[0m\u001b[0;34m,\u001b[0m \u001b[0;36m181\u001b[0m\u001b[0;34m)\u001b[0m\u001b[0;34m,\u001b[0m \u001b[0;34m(\u001b[0m\u001b[0;36m121\u001b[0m\u001b[0;34m,\u001b[0m \u001b[0;36m178\u001b[0m\u001b[0;34m)\u001b[0m\u001b[0;34m,\u001b[0m \u001b[0;34m(\u001b[0m\u001b[0;36m208\u001b[0m\u001b[0;34m,\u001b[0m \u001b[0;36m181\u001b[0m\u001b[0;34m)\u001b[0m\u001b[0;34m,\u001b[0m \u001b[0;34m(\u001b[0m\u001b[0;36m244\u001b[0m\u001b[0;34m,\u001b[0m \u001b[0;36m133\u001b[0m\u001b[0;34m)\u001b[0m\u001b[0;34m,\u001b[0m \u001b[0;34m(\u001b[0m\u001b[0;36m241\u001b[0m\u001b[0;34m,\u001b[0m \u001b[0;36m87\u001b[0m\u001b[0;34m)\u001b[0m\u001b[0;34m,\u001b[0m \u001b[0;34m(\u001b[0m\u001b[0;36m241\u001b[0m\u001b[0;34m,\u001b[0m \u001b[0;36m18\u001b[0m\u001b[0;34m)\u001b[0m\u001b[0;34m,\u001b[0m \u001b[0;34m(\u001b[0m\u001b[0;36m41\u001b[0m\u001b[0;34m,\u001b[0m \u001b[0;36m15\u001b[0m\u001b[0;34m)\u001b[0m\u001b[0;34m,\u001b[0m \u001b[0;34m(\u001b[0m\u001b[0;36m73\u001b[0m\u001b[0;34m,\u001b[0m \u001b[0;36m20\u001b[0m\u001b[0;34m)\u001b[0m\u001b[0;34m,\u001b[0m \u001b[0;34m(\u001b[0m\u001b[0;36m174\u001b[0m\u001b[0;34m,\u001b[0m \u001b[0;36m16\u001b[0m\u001b[0;34m)\u001b[0m\u001b[0;34m,\u001b[0m \u001b[0;34m(\u001b[0m\u001b[0;36m218\u001b[0m\u001b[0;34m,\u001b[0m \u001b[0;36m16\u001b[0m\u001b[0;34m)\u001b[0m\u001b[0;34m,\u001b[0m \u001b[0;34m(\u001b[0m\u001b[0;36m56\u001b[0m\u001b[0;34m,\u001b[0m \u001b[0;36m23\u001b[0m\u001b[0;34m)\u001b[0m\u001b[0;34m,\u001b[0m \u001b[0;34m(\u001b[0m\u001b[0;36m191\u001b[0m\u001b[0;34m,\u001b[0m \u001b[0;36m23\u001b[0m\u001b[0;34m)\u001b[0m\u001b[0;34m,\u001b[0m \u001b[0;34m(\u001b[0m\u001b[0;36m120\u001b[0m\u001b[0;34m,\u001b[0m \u001b[0;36m48\u001b[0m\u001b[0;34m)\u001b[0m\u001b[0;34m,\u001b[0m \u001b[0;34m(\u001b[0m\u001b[0;36m94\u001b[0m\u001b[0;34m,\u001b[0m \u001b[0;36m128\u001b[0m\u001b[0;34m)\u001b[0m\u001b[0;34m,\u001b[0m \u001b[0;34m(\u001b[0m\u001b[0;36m120\u001b[0m\u001b[0;34m,\u001b[0m \u001b[0;36m122\u001b[0m\u001b[0;34m)\u001b[0m\u001b[0;34m,\u001b[0m \u001b[0;34m(\u001b[0m\u001b[0;36m150\u001b[0m\u001b[0;34m,\u001b[0m \u001b[0;36m124\u001b[0m\u001b[0;34m)\u001b[0m\u001b[0;34m,\u001b[0m \u001b[0;34m(\u001b[0m\u001b[0;36m83\u001b[0m\u001b[0;34m,\u001b[0m \u001b[0;36m174\u001b[0m\u001b[0;34m)\u001b[0m\u001b[0;34m,\u001b[0m \u001b[0;34m(\u001b[0m\u001b[0;36m122\u001b[0m\u001b[0;34m,\u001b[0m \u001b[0;36m164\u001b[0m\u001b[0;34m)\u001b[0m\u001b[0;34m,\u001b[0m \u001b[0;34m(\u001b[0m\u001b[0;36m159\u001b[0m\u001b[0;34m,\u001b[0m \u001b[0;36m173\u001b[0m\u001b[0;34m)\u001b[0m\u001b[0;34m,\u001b[0m \u001b[0;34m(\u001b[0m\u001b[0;36m110\u001b[0m\u001b[0;34m,\u001b[0m \u001b[0;36m174\u001b[0m\u001b[0;34m)\u001b[0m\u001b[0;34m,\u001b[0m \u001b[0;34m(\u001b[0m\u001b[0;36m121\u001b[0m\u001b[0;34m,\u001b[0m \u001b[0;36m174\u001b[0m\u001b[0;34m)\u001b[0m\u001b[0;34m,\u001b[0m \u001b[0;34m(\u001b[0m\u001b[0;36m137\u001b[0m\u001b[0;34m,\u001b[0m \u001b[0;36m175\u001b[0m\u001b[0;34m)\u001b[0m\u001b[0;34m]\u001b[0m\u001b[0;34m)\u001b[0m\u001b[0;34m\u001b[0m\u001b[0;34m\u001b[0m\u001b[0m\n\u001b[0;32m----> 3\u001b[0;31m \u001b[0mtransform\u001b[0m\u001b[0;34m(\u001b[0m\u001b[0mimage_to_warp\u001b[0m\u001b[0;34m,\u001b[0m\u001b[0msrc_points\u001b[0m\u001b[0;34m,\u001b[0m\u001b[0mwarped_image\u001b[0m\u001b[0;34m,\u001b[0m\u001b[0mdst_points\u001b[0m\u001b[0;34m)\u001b[0m\u001b[0;34m\u001b[0m\u001b[0;34m\u001b[0m\u001b[0m\n\u001b[0m",
      "\u001b[0;32m<ipython-input-17-db6bb5c9e578>\u001b[0m in \u001b[0;36mtransform\u001b[0;34m(src_img, src_points, dst_img, dst_points)\u001b[0m\n\u001b[1;32m     31\u001b[0m     \"\"\"Transforms source image to target image, overwriting the target image.\n\u001b[1;32m     32\u001b[0m     \"\"\"\n\u001b[0;32m---> 33\u001b[0;31m     \u001b[0;32mfor\u001b[0m \u001b[0mindices\u001b[0m \u001b[0;32min\u001b[0m \u001b[0mget_triangulation_indices\u001b[0m\u001b[0;34m(\u001b[0m\u001b[0msrc_points\u001b[0m\u001b[0;34m)\u001b[0m\u001b[0;34m:\u001b[0m\u001b[0;34m\u001b[0m\u001b[0;34m\u001b[0m\u001b[0m\n\u001b[0m\u001b[1;32m     34\u001b[0m         \u001b[0;31m# Get triangles from indices\u001b[0m\u001b[0;34m\u001b[0m\u001b[0;34m\u001b[0m\u001b[0;34m\u001b[0m\u001b[0m\n\u001b[1;32m     35\u001b[0m         \u001b[0msrc_triangle\u001b[0m \u001b[0;34m=\u001b[0m \u001b[0msrc_points\u001b[0m\u001b[0;34m[\u001b[0m\u001b[0mindices\u001b[0m\u001b[0;34m]\u001b[0m\u001b[0;34m\u001b[0m\u001b[0;34m\u001b[0m\u001b[0m\n",
      "\u001b[0;32m<ipython-input-17-db6bb5c9e578>\u001b[0m in \u001b[0;36mget_triangulation_indices\u001b[0;34m(points)\u001b[0m\n\u001b[1;32m     13\u001b[0m         \u001b[0;31m# Get index of all points\u001b[0m\u001b[0;34m\u001b[0m\u001b[0;34m\u001b[0m\u001b[0;34m\u001b[0m\u001b[0m\n\u001b[1;32m     14\u001b[0m         \u001b[0;32myield\u001b[0m \u001b[0;34m[\u001b[0m\u001b[0;34m(\u001b[0m\u001b[0mpoints\u001b[0m\u001b[0;34m==\u001b[0m\u001b[0mpoint\u001b[0m\u001b[0;34m)\u001b[0m\u001b[0;34m.\u001b[0m\u001b[0mall\u001b[0m\u001b[0;34m(\u001b[0m\u001b[0maxis\u001b[0m\u001b[0;34m=\u001b[0m\u001b[0;36m1\u001b[0m\u001b[0;34m)\u001b[0m\u001b[0;34m.\u001b[0m\u001b[0mnonzero\u001b[0m\u001b[0;34m(\u001b[0m\u001b[0;34m)\u001b[0m\u001b[0;34m[\u001b[0m\u001b[0;36m0\u001b[0m\u001b[0;34m]\u001b[0m\u001b[0;34m[\u001b[0m\u001b[0;36m0\u001b[0m\u001b[0;34m]\u001b[0m \u001b[0;32mfor\u001b[0m \u001b[0mpoint\u001b[0m \u001b[0;32min\u001b[0m \u001b[0;34m[\u001b[0m\u001b[0;34m(\u001b[0m\u001b[0mx1\u001b[0m\u001b[0;34m,\u001b[0m\u001b[0my1\u001b[0m\u001b[0;34m)\u001b[0m\u001b[0;34m,\u001b[0m \u001b[0;34m(\u001b[0m\u001b[0mx2\u001b[0m\u001b[0;34m,\u001b[0m\u001b[0my2\u001b[0m\u001b[0;34m)\u001b[0m\u001b[0;34m,\u001b[0m \u001b[0;34m(\u001b[0m\u001b[0mx3\u001b[0m\u001b[0;34m,\u001b[0m\u001b[0my3\u001b[0m\u001b[0;34m)\u001b[0m\u001b[0;34m]\u001b[0m\u001b[0;34m]\u001b[0m\u001b[0;34m\u001b[0m\u001b[0;34m\u001b[0m\u001b[0m\n\u001b[0;32m---> 15\u001b[0;31m     \u001b[0mprint\u001b[0m\u001b[0;34m(\u001b[0m\u001b[0msubdiv\u001b[0m\u001b[0;34m.\u001b[0m\u001b[0mget_TriangleList\u001b[0m\u001b[0;34m(\u001b[0m\u001b[0;34m)\u001b[0m\u001b[0;34m)\u001b[0m\u001b[0;34m\u001b[0m\u001b[0;34m\u001b[0m\u001b[0m\n\u001b[0m\u001b[1;32m     16\u001b[0m \u001b[0;34m\u001b[0m\u001b[0m\n\u001b[1;32m     17\u001b[0m \u001b[0;32mdef\u001b[0m \u001b[0mcrop_to_triangle\u001b[0m\u001b[0;34m(\u001b[0m\u001b[0mimg\u001b[0m\u001b[0;34m,\u001b[0m \u001b[0mtriangle\u001b[0m\u001b[0;34m)\u001b[0m\u001b[0;34m:\u001b[0m\u001b[0;34m\u001b[0m\u001b[0;34m\u001b[0m\u001b[0m\n",
      "\u001b[0;31mAttributeError\u001b[0m: 'cv2.Subdiv2D' object has no attribute 'get_TriangleList'"
     ]
    }
   ],
   "source": [
    "src_points = np.array([(1000, 1000), (38, 65), (47, 115), (66, 147), (107, 166), (147, 150), (172, 118), (177, 75), (173, 26), (63, 19), (89, 30), (128, 34), (152, 27), (75, 46), (142, 46), (109, 48), (95, 96), (107, 91), (120, 97), (84, 123), (106, 117), (132, 121), (97, 137), (107, 139), (120, 135)])\n",
    "dst_points = np.array([(2, 16), (0, 60), (2, 143), (47, 181), (121, 178), (208, 181), (244, 133), (241, 87), (241, 18), (41, 15), (73, 20), (174, 16), (218, 16), (56, 23), (191, 23), (120, 48), (94, 128), (120, 122), (150, 124), (83, 174), (122, 164), (159, 173), (110, 174), (121, 174), (137, 175)])\n",
    "transform(image_to_warp,src_points,warped_image,dst_points)"
   ]
  },
  {
   "cell_type": "code",
   "execution_count": 45,
   "metadata": {},
   "outputs": [
    {
     "name": "stdout",
     "output_type": "stream",
     "text": [
      "75.0 63.0 19.0 89.0 30.0\n",
      "63.0 75.0 46.0 38.0 65.0\n",
      "147.0 1000.0 1000.0 107.0 166.0\n",
      "1000.0 147.0 150.0 172.0 118.0\n",
      "47.0 38.0 65.0 95.0 96.0\n",
      "95.0 106.0 117.0 84.0 123.0\n",
      "106.0 95.0 96.0 107.0 91.0\n",
      "66.0 47.0 115.0 84.0 123.0\n",
      "107.0 66.0 147.0 97.0 137.0\n",
      "47.0 95.0 96.0 84.0 123.0\n",
      "147.0 107.0 166.0 120.0 135.0\n",
      "109.0 107.0 91.0 75.0 46.0\n",
      "107.0 109.0 48.0 120.0 97.0\n",
      "1000.0 172.0 118.0 177.0 75.0\n",
      "172.0 147.0 150.0 132.0 121.0\n",
      "95.0 75.0 46.0 107.0 91.0\n",
      "75.0 95.0 96.0 38.0 65.0\n",
      "1000.0 177.0 75.0 173.0 26.0\n",
      "177.0 172.0 118.0 120.0 97.0\n",
      "109.0 89.0 30.0 128.0 34.0\n",
      "89.0 109.0 48.0 75.0 46.0\n",
      "173.0 177.0 75.0 142.0 46.0\n",
      "63.0 173.0 26.0 152.0 27.0\n",
      "109.0 128.0 34.0 142.0 46.0\n",
      "89.0 63.0 19.0 152.0 27.0\n",
      "89.0 152.0 27.0 128.0 34.0\n",
      "142.0 152.0 27.0 173.0 26.0\n",
      "152.0 142.0 46.0 128.0 34.0\n",
      "177.0 120.0 97.0 142.0 46.0\n",
      "109.0 142.0 46.0 120.0 97.0\n",
      "106.0 107.0 91.0 120.0 97.0\n",
      "107.0 106.0 117.0 120.0 135.0\n",
      "106.0 107.0 139.0 97.0 137.0\n",
      "120.0 172.0 118.0 132.0 121.0\n",
      "97.0 66.0 147.0 84.0 123.0\n",
      "84.0 106.0 117.0 97.0 137.0\n",
      "106.0 120.0 97.0 132.0 121.0\n",
      "120.0 107.0 166.0 107.0 139.0\n",
      "106.0 132.0 121.0 120.0 135.0\n",
      "132.0 147.0 150.0 120.0 135.0\n",
      "107.0 97.0 137.0 107.0 139.0\n"
     ]
    }
   ],
   "source": [
    "# Bounding rectangle\n",
    "bounding_rect = (*src_points.min(axis=0), *src_points.max(axis=0))\n",
    "\n",
    "ls('/Users/emilydennis/Desktop/GitHub/FaceChanger/')\n",
    "\n",
    "# Triangulate all points\n",
    "subdiv = cv2.Subdiv2D(bounding_rect)\n",
    "subdiv.insert(list(src_points))\n",
    "\n",
    "# Iterate over all triangles\n",
    "for x1, y1, x2, y2, x3, y3 in subdiv.getTriangleList():\n",
    "    print(x1,x2,y2,x3,y3)\n",
    "    # Get index of all points\n",
    "    #yield [(points==point).all(axis=1).nonzero()[0][0] for point in [(x1,y1), (x2,y2), (x3,y3)]]\n"
   ]
  },
  {
   "cell_type": "code",
   "execution_count": 24,
   "metadata": {},
   "outputs": [
    {
     "data": {
      "text/plain": [
       "<matplotlib.image.AxesImage at 0x7fd214d36e10>"
      ]
     },
     "execution_count": 24,
     "metadata": {},
     "output_type": "execute_result"
    },
    {
     "data": {
      "image/png": "[encoded data removed]",
      "text/plain": [
       "<Figure size 432x288 with 3 Axes>"
      ]
     },
     "metadata": {
      "needs_background": "light"
     },
     "output_type": "display_data"
    }
   ],
   "source": [
    "fig, (ax1,ax2,ax3) = plt.subplots(1,3)\n",
    "ax1.imshow(image_to_warp,'gray')\n",
    "ax2.imshow(image_to_warp-warped_image,'gray')\n",
    "ax3.imshow(image_to_warp,'gray')"
   ]
  },
  {
   "cell_type": "code",
   "execution_count": null,
   "metadata": {},
   "outputs": [],
   "source": []
  },
  {
   "cell_type": "code",
   "execution_count": null,
   "metadata": {},
   "outputs": [],
   "source": []
  },
  {
   "cell_type": "code",
   "execution_count": null,
   "metadata": {},
   "outputs": [],
   "source": []
  }
 ],
 "metadata": {
  "kernelspec": {
   "display_name": "Python 3",
   "language": "python",
   "name": "python3"
  },
  "language_info": {
   "codemirror_mode": {
    "name": "ipython",
    "version": 3
   },
   "file_extension": ".py",
   "mimetype": "text/x-python",
   "name": "python",
   "nbconvert_exporter": "python",
   "pygments_lexer": "ipython3",
   "version": "3.7.3"
  },
  "toc": {
   "base_numbering": 1,
   "nav_menu": {},
   "number_sections": true,
   "sideBar": true,
   "skip_h1_title": false,
   "title_cell": "Table of Contents",
   "title_sidebar": "Contents",
   "toc_cell": false,
   "toc_position": {},
   "toc_section_display": true,
   "toc_window_display": false
  }
 },
 "nbformat": 4,
 "nbformat_minor": 2
}

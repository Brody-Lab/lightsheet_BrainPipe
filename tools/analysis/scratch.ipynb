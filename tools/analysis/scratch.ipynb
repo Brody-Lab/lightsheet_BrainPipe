{
 "cells": [
  {
   "cell_type": "code",
   "execution_count": 1,
   "metadata": {},
   "outputs": [],
   "source": [
    "import os\n",
    "import numpy as np\n",
    "import tifffile as tif\n",
    "import SimpleITK as sitk\n",
    "import cv2\n",
    "import sys\n",
    "from scipy.ndimage import zoom"
   ]
  },
  {
   "cell_type": "code",
   "execution_count": 10,
   "metadata": {},
   "outputs": [],
   "source": [
    "x=np.array([[227,230,150],[227,235,150],[227,270,150],[227,280,330],[227,330,150],[227,335,150]])\n",
    "np.save('/home/emilyjanedennis/Desktop/whs_forpeter.npy',x)"
   ]
  },
  {
   "cell_type": "code",
   "execution_count": null,
   "metadata": {},
   "outputs": [],
   "source": []
  },
  {
   "cell_type": "code",
   "execution_count": 17,
   "metadata": {},
   "outputs": [],
   "source": [
    "def fast_scandir(dirname):\n",
    "    \"\"\" gets all folders recursively \"\"\"\n",
    "    subfolders = [f.path for f in os.scandir(dirname) if f.is_dir()]\n",
    "    for dirname in list(subfolders):\n",
    "        subfolders.extend(fast_scandir(dirname))\n",
    "    return subfolders\n",
    "\n",
    "def get_folderstructure(dirname):\n",
    "    folderstructure = []\n",
    "    for i in os.walk(dirname):\n",
    "        folderstructure.append(i)\n",
    "    return folderstructure\n",
    "\n",
    "def get_onlyfolders(dirname):\n",
    "    folderstructure = []\n",
    "    for i in os.walk(dirname):\n",
    "        if i.is_dir():\n",
    "            folderstructure.append(i)\n",
    "    return folderstructure"
   ]
  },
  {
   "cell_type": "code",
   "execution_count": 3,
   "metadata": {},
   "outputs": [
    {
     "data": {
      "text/plain": [
       "'/home/emilyjanedennis/Desktop/GitHub/rat_BrainPipe/tools/analysis'"
      ]
     },
     "execution_count": 3,
     "metadata": {},
     "output_type": "execute_result"
    }
   ],
   "source": [
    "pwd"
   ]
  },
  {
   "cell_type": "code",
   "execution_count": 25,
   "metadata": {},
   "outputs": [
    {
     "name": "stdout",
     "output_type": "stream",
     "text": [
      "/home/emilyjanedennis/LightSheetData/lightserv/pbibawi/pb_udisco_647_488_4x/pb_udisco_647_488_4x-004/imaging_request_1/rawdata/resolution_3.6x/Ex_642_Em_2/corrected/050940\n",
      "/home/emilyjanedennis/LightSheetData/lightserv/pbibawi/pb_udisco_647_488_4x/pb_udisco_647_488_4x-004/imaging_request_1/rawdata/resolution_3.6x/Ex_642_Em_2/corrected/050940/050940_090361\n"
     ]
    }
   ],
   "source": [
    "x=fast_scandir(\"/home/emilyjanedennis/LightSheetData/lightserv/pbibawi/pb_udisco_647_488_4x/pb_udisco_647_488_4x-004/imaging_request_1/rawdata/resolution_3.6x/Ex_642_Em_2/corrected/\")"
   ]
  },
  {
   "cell_type": "code",
   "execution_count": 26,
   "metadata": {},
   "outputs": [
    {
     "data": {
      "text/plain": [
       "2"
      ]
     },
     "execution_count": 26,
     "metadata": {},
     "output_type": "execute_result"
    }
   ],
   "source": [
    "len(x)"
   ]
  },
  {
   "cell_type": "markdown",
   "metadata": {
    "code_folding": []
   },
   "source": [
    "/jukebox/LightSheetData/lightserv/pbibawi/pb_udisco_647_488_4x/\n",
    "    \n",
    "    pb_udisco_647_488_4x-001/\n",
    "      \n",
    "      imaging_request_1/\n",
    "         \n",
    "         rawdata\n",
    "             \n",
    "             resolution*\n",
    "                \n",
    "                in resolution, there should be 1+ folders. Each of these is a channel\n",
    "                    \n",
    "                    488, 64*\n",
    "                        \n",
    "                        corrected (there are lots of other folders)\n",
    "                             \n",
    "                             tiffs"
   ]
  },
  {
   "cell_type": "code",
   "execution_count": 64,
   "metadata": {},
   "outputs": [],
   "source": [
    "\n",
    "def get_folderstructure(dirname):\n",
    "    folderstructure = []\n",
    "    for i in os.walk(src):\n",
    "        folderstructure.append(i)\n",
    "    return folderstructure\n",
    "\n",
    "src=\"/Users/emilydennis/Desktop/test\"\n",
    "\n",
    "for directory, subdirectories, files in get_folderstructure(src):\n",
    "    if \"rawdata\" in directory:\n",
    "        for ls in subdirectories:\n",
    "            if 'resolution' in ls:\n",
    "                rawdata=os.path.join(directory,ls)\n",
    "\n",
    "for i in os.listdir(rawdata):\n",
    "    if '488' in i:\n",
    "        for j in os.listdir(os.path.join(rawdata,i)):\n",
    "            if 'corrected' in j:\n",
    "                reg_ch = os.path.join(rawdata,i,j)\n",
    "    if '64' in i:\n",
    "        for j in os.listdir(os.path.join(rawdata,i)):\n",
    "            if 'corrected' in j:\n",
    "                cell_ch = os.path.join(rawdata,i,j)"
   ]
  },
  {
   "cell_type": "code",
   "execution_count": 57,
   "metadata": {},
   "outputs": [],
   "source": []
  },
  {
   "cell_type": "code",
   "execution_count": null,
   "metadata": {},
   "outputs": [],
   "source": []
  },
  {
   "cell_type": "code",
   "execution_count": null,
   "metadata": {},
   "outputs": [],
   "source": []
  },
  {
   "cell_type": "code",
   "execution_count": 62,
   "metadata": {},
   "outputs": [],
   "source": []
  },
  {
   "cell_type": "code",
   "execution_count": 63,
   "metadata": {},
   "outputs": [
    {
     "data": {
      "text/plain": [
       "'/Users/emilydennis/Desktop/test/rawdata/resolution_10/xx_642_ch2/corrected'"
      ]
     },
     "execution_count": 63,
     "metadata": {},
     "output_type": "execute_result"
    }
   ],
   "source": []
  },
  {
   "cell_type": "code",
   "execution_count": 22,
   "metadata": {},
   "outputs": [
    {
     "data": {
      "text/plain": [
       "['/Users/emilydennis/Desktop/test/a',\n",
       " '/Users/emilydennis/Desktop/test/rawdata',\n",
       " '/Users/emilydennis/Desktop/test/rawdata/resolution_10',\n",
       " '/Users/emilydennis/Desktop/test/rawdata/b',\n",
       " '/Users/emilydennis/Desktop/test/rawdata/resolution_10/xx_642_ch2',\n",
       " '/Users/emilydennis/Desktop/test/rawdata/resolution_10/ch1_488_xx',\n",
       " '/Users/emilydennis/Desktop/test/rawdata/resolution_10/xx_642_ch2/killerbee',\n",
       " '/Users/emilydennis/Desktop/test/rawdata/resolution_10/xx_642_ch2/naruto',\n",
       " '/Users/emilydennis/Desktop/test/rawdata/resolution_10/xx_642_ch2/corrected',\n",
       " '/Users/emilydennis/Desktop/test/rawdata/resolution_10/xx_642_ch2/killerbee/not',\n",
       " '/Users/emilydennis/Desktop/test/rawdata/resolution_10/xx_642_ch2/killerbee/other',\n",
       " '/Users/emilydennis/Desktop/test/rawdata/resolution_10/xx_642_ch2/killerbee/good',\n",
       " '/Users/emilydennis/Desktop/test/rawdata/resolution_10/xx_642_ch2/naruto/not',\n",
       " '/Users/emilydennis/Desktop/test/rawdata/resolution_10/xx_642_ch2/naruto/other',\n",
       " '/Users/emilydennis/Desktop/test/rawdata/resolution_10/xx_642_ch2/naruto/good',\n",
       " '/Users/emilydennis/Desktop/test/rawdata/resolution_10/ch1_488_xx/killerbee',\n",
       " '/Users/emilydennis/Desktop/test/rawdata/resolution_10/ch1_488_xx/naruto',\n",
       " '/Users/emilydennis/Desktop/test/rawdata/resolution_10/ch1_488_xx/corrected',\n",
       " '/Users/emilydennis/Desktop/test/rawdata/resolution_10/ch1_488_xx/killerbee/not',\n",
       " '/Users/emilydennis/Desktop/test/rawdata/resolution_10/ch1_488_xx/killerbee/other',\n",
       " '/Users/emilydennis/Desktop/test/rawdata/resolution_10/ch1_488_xx/killerbee/good',\n",
       " '/Users/emilydennis/Desktop/test/rawdata/resolution_10/ch1_488_xx/naruto/not',\n",
       " '/Users/emilydennis/Desktop/test/rawdata/resolution_10/ch1_488_xx/naruto/other',\n",
       " '/Users/emilydennis/Desktop/test/rawdata/resolution_10/ch1_488_xx/naruto/good']"
      ]
     },
     "execution_count": 22,
     "metadata": {},
     "output_type": "execute_result"
    }
   ],
   "source": [
    "x"
   ]
  },
  {
   "cell_type": "code",
   "execution_count": 23,
   "metadata": {},
   "outputs": [
    {
     "name": "stdout",
     "output_type": "stream",
     "text": [
      "/Users/emilydennis/Desktop/test/rawdata/resolution_10\n",
      "/Users/emilydennis/Desktop/test/rawdata/resolution_10/xx_642_ch2\n",
      "/Users/emilydennis/Desktop/test/rawdata/resolution_10/ch1_488_xx\n",
      "/Users/emilydennis/Desktop/test/rawdata/resolution_10/xx_642_ch2/killerbee\n",
      "/Users/emilydennis/Desktop/test/rawdata/resolution_10/xx_642_ch2/naruto\n",
      "/Users/emilydennis/Desktop/test/rawdata/resolution_10/xx_642_ch2/corrected\n",
      "/Users/emilydennis/Desktop/test/rawdata/resolution_10/xx_642_ch2/killerbee/not\n",
      "/Users/emilydennis/Desktop/test/rawdata/resolution_10/xx_642_ch2/killerbee/other\n",
      "/Users/emilydennis/Desktop/test/rawdata/resolution_10/xx_642_ch2/killerbee/good\n",
      "/Users/emilydennis/Desktop/test/rawdata/resolution_10/xx_642_ch2/naruto/not\n",
      "/Users/emilydennis/Desktop/test/rawdata/resolution_10/xx_642_ch2/naruto/other\n",
      "/Users/emilydennis/Desktop/test/rawdata/resolution_10/xx_642_ch2/naruto/good\n",
      "/Users/emilydennis/Desktop/test/rawdata/resolution_10/ch1_488_xx/killerbee\n",
      "/Users/emilydennis/Desktop/test/rawdata/resolution_10/ch1_488_xx/naruto\n",
      "/Users/emilydennis/Desktop/test/rawdata/resolution_10/ch1_488_xx/corrected\n",
      "/Users/emilydennis/Desktop/test/rawdata/resolution_10/ch1_488_xx/killerbee/not\n",
      "/Users/emilydennis/Desktop/test/rawdata/resolution_10/ch1_488_xx/killerbee/other\n",
      "/Users/emilydennis/Desktop/test/rawdata/resolution_10/ch1_488_xx/killerbee/good\n",
      "/Users/emilydennis/Desktop/test/rawdata/resolution_10/ch1_488_xx/naruto/not\n",
      "/Users/emilydennis/Desktop/test/rawdata/resolution_10/ch1_488_xx/naruto/other\n",
      "/Users/emilydennis/Desktop/test/rawdata/resolution_10/ch1_488_xx/naruto/good\n"
     ]
    }
   ],
   "source": [
    "for dirname in x:\n",
    "    if \"resolution\" in dirname:\n",
    "        print(dirname)"
   ]
  },
  {
   "cell_type": "code",
   "execution_count": null,
   "metadata": {},
   "outputs": [],
   "source": []
  }
 ],
 "metadata": {
  "kernelspec": {
   "display_name": "Python 3",
   "language": "python",
   "name": "python3"
  },
  "language_info": {
   "codemirror_mode": {
    "name": "ipython",
    "version": 3
   },
   "file_extension": ".py",
   "mimetype": "text/x-python",
   "name": "python",
   "nbconvert_exporter": "python",
   "pygments_lexer": "ipython3",
   "version": "3.8.3"
  },
  "toc": {
   "base_numbering": 1,
   "nav_menu": {},
   "number_sections": true,
   "sideBar": true,
   "skip_h1_title": false,
   "title_cell": "Table of Contents",
   "title_sidebar": "Contents",
   "toc_cell": false,
   "toc_position": {},
   "toc_section_display": true,
   "toc_window_display": false
  }
 },
 "nbformat": 4,
 "nbformat_minor": 2
}

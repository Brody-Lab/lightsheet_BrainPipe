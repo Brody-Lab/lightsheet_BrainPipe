{
 "cells": [
  {
   "cell_type": "markdown",
   "metadata": {},
   "source": [
    "Purpose of this notebook is to take a csv file from the allen institute (already subsetted to include just results we want for a primary injection site), subset further as needed, and run some grouped analyses. This may be best to do not-in-python long-term but we're starting here.\n",
    "\n",
    "written by Emily Jane Dennis September 2020, during covid pandemic!\n",
    "\n",
    "inputs \n",
    "    - requires a csv file with Allen data **TODO** add link\n",
    "    - and a series of extracted folders from Allen (links in spreadsheet)\n",
    "    - starting with grid ones, tbd\n",
    "   "
   ]
  },
  {
   "cell_type": "code",
   "execution_count": 1,
   "metadata": {},
   "outputs": [
    {
     "name": "stderr",
     "output_type": "stream",
     "text": [
      "<frozen importlib._bootstrap>:219: RuntimeWarning: numpy.ufunc size changed, may indicate binary incompatibility. Expected 192 from C header, got 216 from PyObject\n",
      "<frozen importlib._bootstrap>:219: RuntimeWarning: numpy.ufunc size changed, may indicate binary incompatibility. Expected 192 from C header, got 216 from PyObject\n"
     ]
    }
   ],
   "source": [
    "import os, sys, time\n",
    "import tifffile as tif\n",
    "from scipy.ndimage.interpolation import zoom\n",
    "import matplotlib.pyplot as plt\n",
    "import numpy as np\n",
    "import pandas as pd\n",
    "import csv"
   ]
  },
  {
   "cell_type": "code",
   "execution_count": 2,
   "metadata": {},
   "outputs": [],
   "source": [
    "# location of your repo clone\n",
    "sys.path.append(\"/home/emilyjanedennis/Desktop/GitHub/rat_BrainPipe\")"
   ]
  },
  {
   "cell_type": "code",
   "execution_count": 3,
   "metadata": {},
   "outputs": [],
   "source": [
    "# base path\n",
    "src = \"/home/emilyjanedennis/Desktop/allen_for_PPC/\""
   ]
  },
  {
   "cell_type": "code",
   "execution_count": null,
   "metadata": {},
   "outputs": [],
   "source": [
    "# if you need to generate a subset from the Allen csv\n",
    "fulldatasets = pd.read_csv(os.path.join(src,\"mouse_projection_data_sets.csv\"))\n",
    "ppc = fulldatasets[fulldatasets.primary_injection_structure_acronym==\"PTLp\"]\n",
    "ppc.to_csv(os.path.join(src,\"ppc.csv\"))\n",
    "\n",
    "# else uncomment the following line if you've already run this step\n",
    "# ppc = pd.read_csv(os.path.join(src,\"ppc.csv\"))"
   ]
  },
  {
   "cell_type": "code",
   "execution_count": 10,
   "metadata": {},
   "outputs": [],
   "source": [
    "listsrc = os.listdir(os.path.join(src,\"grids/\"))"
   ]
  },
  {
   "cell_type": "code",
   "execution_count": 16,
   "metadata": {},
   "outputs": [],
   "source": [
    "ppconly = ppc[ppc.secondary_injection_acronym==\"{PTLp}\"]"
   ]
  },
  {
   "cell_type": "code",
   "execution_count": 23,
   "metadata": {},
   "outputs": [],
   "source": [
    "filenames=[]\n",
    "\n",
    "for i in ppconly.index:\n",
    "    filenames.append(ppconly.grid_file_url[i])"
   ]
  },
  {
   "cell_type": "code",
   "execution_count": 51,
   "metadata": {},
   "outputs": [],
   "source": [
    "ppconlyfilenames=[]\n",
    "for file in filenames:\n",
    "    ppconlyfilenames.append(os.path.join(src,\"{test}_grid\".format(test=file[-18:-9])))"
   ]
  },
  {
   "cell_type": "code",
   "execution_count": 52,
   "metadata": {},
   "outputs": [
    {
     "data": {
      "text/plain": [
       "['/home/emilyjanedennis/Desktop/allen_for_PPC/112229103_grid',\n",
       " '/home/emilyjanedennis/Desktop/allen_for_PPC/157769139_grid',\n",
       " '/home/emilyjanedennis/Desktop/allen_for_PPC/168165712_grid',\n",
       " '/home/emilyjanedennis/Desktop/allen_for_PPC/287225041_grid',\n",
       " '/home/emilyjanedennis/Desktop/allen_for_PPC/287601808_grid',\n",
       " '/home/emilyjanedennis/Desktop/allen_for_PPC/292792724_grid',\n",
       " '/home/emilyjanedennis/Desktop/allen_for_PPC/293821389_grid',\n",
       " '/home/emilyjanedennis/Desktop/allen_for_PPC/294533406_grid']"
      ]
     },
     "execution_count": 52,
     "metadata": {},
     "output_type": "execute_result"
    }
   ],
   "source": [
    "ppc1=tif.imread(ppconlyfilenames[0])"
   ]
  },
  {
   "cell_type": "code",
   "execution_count": null,
   "metadata": {},
   "outputs": [],
   "source": []
  }
 ],
 "metadata": {
  "kernelspec": {
   "display_name": "Python 3",
   "language": "python",
   "name": "python3"
  },
  "language_info": {
   "codemirror_mode": {
    "name": "ipython",
    "version": 3
   },
   "file_extension": ".py",
   "mimetype": "text/x-python",
   "name": "python",
   "nbconvert_exporter": "python",
   "pygments_lexer": "ipython3",
   "version": "3.7.4"
  }
 },
 "nbformat": 4,
 "nbformat_minor": 4
}

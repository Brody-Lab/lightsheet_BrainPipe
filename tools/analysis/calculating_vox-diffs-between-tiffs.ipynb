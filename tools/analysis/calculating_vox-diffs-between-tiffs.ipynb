{
 "cells": [
  {
   "cell_type": "code",
   "execution_count": 2,
   "metadata": {},
   "outputs": [],
   "source": [
    "import os, sys, time\n",
    "import tifffile as tif\n",
    "sys.path.append(\"/home/emilyjanedennis/Desktop/GitHub/rat_BrainPipe\")\n",
    "from tools.utils.io import makedir\n",
    "from tools.registration.register import change_interpolation_order, transformix_command_line_call\n",
    "from tools.registration.transform_list_of_points import modify_transform_files\n",
    "from scipy.ndimage.interpolation import zoom\n",
    "import matplotlib.pyplot as plt\n",
    "import numpy as np\n",
    "import pandas as pd\n",
    "import csv"
   ]
  },
  {
   "cell_type": "code",
   "execution_count": 3,
   "metadata": {},
   "outputs": [],
   "source": [
    "src = \"/home/emilyjanedennis/Desktop/for_registration_to_lightsheet\"\n",
    "affinefile = os.path.join(src, \"output_dirs/PRAfMRIr_to_PRAm_affine/result.tif\")\n",
    "transformixedfile = os.path.join(src, \"output_dirs/PRAfMRIr_to_PRAm/result.tif\")\n",
    "annotationsfilename = os.path.join(src,\"labels/labels_v3.csv\")\n",
    "output= \"/home/emilyjanedennis/Desktop/PRAfMRIr_to_PRAm_affine_vs_full.tiff\"\n",
    "percentcsv=\"/home/emilyjanedennis/Desktop/PRAfPRAminMRIrpercent.csv\""
   ]
  },
  {
   "cell_type": "markdown",
   "metadata": {},
   "source": [
    "# If you need to determine the percent voxel change between two images follow these steps first. \n",
    "\n",
    "## If you already have a \"percent.csv\" file, skip to next section"
   ]
  },
  {
   "cell_type": "code",
   "execution_count": 4,
   "metadata": {},
   "outputs": [
    {
     "name": "stdout",
     "output_type": "stream",
     "text": [
      "read affine tiff\n",
      "read transformixed tiff\n"
     ]
    }
   ],
   "source": [
    "affine = tif.imread(affinefile)\n",
    "print(\"read affine tiff\")\n",
    "transformixed = tif.imread(transformixedfile)\n",
    "print(\"read transformixed tiff\")"
   ]
  },
  {
   "cell_type": "code",
   "execution_count": 5,
   "metadata": {},
   "outputs": [
    {
     "name": "stdout",
     "output_type": "stream",
     "text": [
      "read annotations\n"
     ]
    }
   ],
   "source": [
    "# make sure your annotations have the first column as id number, 2nd as abbreviation, or else change the input below\n",
    "anns=pd.read_csv(annotationsfilename,usecols=[0,1],header=0,names=['id','abbr'])\n",
    "print(\"read annotations\")"
   ]
  },
  {
   "cell_type": "code",
   "execution_count": 6,
   "metadata": {},
   "outputs": [
    {
     "data": {
      "text/html": [
       "<div>\n",
       "<style scoped>\n",
       "    .dataframe tbody tr th:only-of-type {\n",
       "        vertical-align: middle;\n",
       "    }\n",
       "\n",
       "    .dataframe tbody tr th {\n",
       "        vertical-align: top;\n",
       "    }\n",
       "\n",
       "    .dataframe thead th {\n",
       "        text-align: right;\n",
       "    }\n",
       "</style>\n",
       "<table border=\"1\" class=\"dataframe\">\n",
       "  <thead>\n",
       "    <tr style=\"text-align: right;\">\n",
       "      <th></th>\n",
       "      <th>id</th>\n",
       "      <th>abbr</th>\n",
       "    </tr>\n",
       "  </thead>\n",
       "  <tbody>\n",
       "    <tr>\n",
       "      <th>0</th>\n",
       "      <td>0</td>\n",
       "      <td>Clear Label</td>\n",
       "    </tr>\n",
       "    <tr>\n",
       "      <th>1</th>\n",
       "      <td>1</td>\n",
       "      <td>descending corticofugal pathways</td>\n",
       "    </tr>\n",
       "    <tr>\n",
       "      <th>2</th>\n",
       "      <td>2</td>\n",
       "      <td>substantia nigra</td>\n",
       "    </tr>\n",
       "    <tr>\n",
       "      <th>3</th>\n",
       "      <td>3</td>\n",
       "      <td>subthalamic nucleus</td>\n",
       "    </tr>\n",
       "    <tr>\n",
       "      <th>4</th>\n",
       "      <td>4</td>\n",
       "      <td>molecular layer of the cerebellum</td>\n",
       "    </tr>\n",
       "    <tr>\n",
       "      <th>...</th>\n",
       "      <td>...</td>\n",
       "      <td>...</td>\n",
       "    </tr>\n",
       "    <tr>\n",
       "      <th>114</th>\n",
       "      <td>114</td>\n",
       "      <td>ventral cochlear nucleus, posterior part</td>\n",
       "    </tr>\n",
       "    <tr>\n",
       "      <th>115</th>\n",
       "      <td>115</td>\n",
       "      <td>ventral cochlear nucleus, cap area</td>\n",
       "    </tr>\n",
       "    <tr>\n",
       "      <th>116</th>\n",
       "      <td>116</td>\n",
       "      <td>spiral ganglion</td>\n",
       "    </tr>\n",
       "    <tr>\n",
       "      <th>117</th>\n",
       "      <td>117</td>\n",
       "      <td>nucleus sagulum</td>\n",
       "    </tr>\n",
       "    <tr>\n",
       "      <th>118</th>\n",
       "      <td>118</td>\n",
       "      <td>reticular thalamic nucleus, auditory segment</td>\n",
       "    </tr>\n",
       "  </tbody>\n",
       "</table>\n",
       "<p>119 rows × 2 columns</p>\n",
       "</div>"
      ],
      "text/plain": [
       "      id                                          abbr\n",
       "0      0                                   Clear Label\n",
       "1      1              descending corticofugal pathways\n",
       "2      2                              substantia nigra\n",
       "3      3                           subthalamic nucleus\n",
       "4      4             molecular layer of the cerebellum\n",
       "..   ...                                           ...\n",
       "114  114      ventral cochlear nucleus, posterior part\n",
       "115  115            ventral cochlear nucleus, cap area\n",
       "116  116                               spiral ganglion\n",
       "117  117                               nucleus sagulum\n",
       "118  118  reticular thalamic nucleus, auditory segment\n",
       "\n",
       "[119 rows x 2 columns]"
      ]
     },
     "execution_count": 6,
     "metadata": {},
     "output_type": "execute_result"
    }
   ],
   "source": [
    "df=anns.dropna()\n",
    "df"
   ]
  },
  {
   "cell_type": "code",
   "execution_count": 7,
   "metadata": {},
   "outputs": [],
   "source": [
    "df.insert(2,'affine_vox',0)\n",
    "df.insert(3,'transformixed_vox',0)\n"
   ]
  },
  {
   "cell_type": "code",
   "execution_count": 8,
   "metadata": {
    "scrolled": true
   },
   "outputs": [
    {
     "name": "stderr",
     "output_type": "stream",
     "text": [
      "<ipython-input-8-ec990ef16611>:2: SettingWithCopyWarning: \n",
      "A value is trying to be set on a copy of a slice from a DataFrame\n",
      "\n",
      "See the caveats in the documentation: https://pandas.pydata.org/pandas-docs/stable/user_guide/indexing.html#returning-a-view-versus-a-copy\n",
      "  df.transformixed_vox[df.index[df.id==i]] = np.size(transformixed[transformixed==i])\n",
      "<ipython-input-8-ec990ef16611>:3: SettingWithCopyWarning: \n",
      "A value is trying to be set on a copy of a slice from a DataFrame\n",
      "\n",
      "See the caveats in the documentation: https://pandas.pydata.org/pandas-docs/stable/user_guide/indexing.html#returning-a-view-versus-a-copy\n",
      "  df.affine_vox[df.index[df.id==i]] = np.size(affine[affine==i])\n"
     ]
    }
   ],
   "source": [
    "for i in df['id']:\n",
    "    df.transformixed_vox[df.index[df.id==i]] = np.size(transformixed[transformixed==i])\n",
    "    df.affine_vox[df.index[df.id==i]] = np.size(affine[affine==i])\n"
   ]
  },
  {
   "cell_type": "code",
   "execution_count": 9,
   "metadata": {},
   "outputs": [
    {
     "data": {
      "text/html": [
       "<div>\n",
       "<style scoped>\n",
       "    .dataframe tbody tr th:only-of-type {\n",
       "        vertical-align: middle;\n",
       "    }\n",
       "\n",
       "    .dataframe tbody tr th {\n",
       "        vertical-align: top;\n",
       "    }\n",
       "\n",
       "    .dataframe thead th {\n",
       "        text-align: right;\n",
       "    }\n",
       "</style>\n",
       "<table border=\"1\" class=\"dataframe\">\n",
       "  <thead>\n",
       "    <tr style=\"text-align: right;\">\n",
       "      <th></th>\n",
       "      <th>id</th>\n",
       "      <th>abbr</th>\n",
       "      <th>affine_vox</th>\n",
       "      <th>transformixed_vox</th>\n",
       "    </tr>\n",
       "  </thead>\n",
       "  <tbody>\n",
       "    <tr>\n",
       "      <th>0</th>\n",
       "      <td>0</td>\n",
       "      <td>Clear Label</td>\n",
       "      <td>214025008</td>\n",
       "      <td>213135410</td>\n",
       "    </tr>\n",
       "    <tr>\n",
       "      <th>1</th>\n",
       "      <td>1</td>\n",
       "      <td>descending corticofugal pathways</td>\n",
       "      <td>872434</td>\n",
       "      <td>860624</td>\n",
       "    </tr>\n",
       "    <tr>\n",
       "      <th>2</th>\n",
       "      <td>2</td>\n",
       "      <td>substantia nigra</td>\n",
       "      <td>233850</td>\n",
       "      <td>229708</td>\n",
       "    </tr>\n",
       "    <tr>\n",
       "      <th>3</th>\n",
       "      <td>3</td>\n",
       "      <td>subthalamic nucleus</td>\n",
       "      <td>8808</td>\n",
       "      <td>8554</td>\n",
       "    </tr>\n",
       "    <tr>\n",
       "      <th>4</th>\n",
       "      <td>4</td>\n",
       "      <td>molecular layer of the cerebellum</td>\n",
       "      <td>4423603</td>\n",
       "      <td>4285318</td>\n",
       "    </tr>\n",
       "    <tr>\n",
       "      <th>...</th>\n",
       "      <td>...</td>\n",
       "      <td>...</td>\n",
       "      <td>...</td>\n",
       "      <td>...</td>\n",
       "    </tr>\n",
       "    <tr>\n",
       "      <th>114</th>\n",
       "      <td>114</td>\n",
       "      <td>ventral cochlear nucleus, posterior part</td>\n",
       "      <td>858931</td>\n",
       "      <td>869670</td>\n",
       "    </tr>\n",
       "    <tr>\n",
       "      <th>115</th>\n",
       "      <td>115</td>\n",
       "      <td>ventral cochlear nucleus, cap area</td>\n",
       "      <td>990117</td>\n",
       "      <td>964664</td>\n",
       "    </tr>\n",
       "    <tr>\n",
       "      <th>116</th>\n",
       "      <td>116</td>\n",
       "      <td>spiral ganglion</td>\n",
       "      <td>0</td>\n",
       "      <td>0</td>\n",
       "    </tr>\n",
       "    <tr>\n",
       "      <th>117</th>\n",
       "      <td>117</td>\n",
       "      <td>nucleus sagulum</td>\n",
       "      <td>0</td>\n",
       "      <td>0</td>\n",
       "    </tr>\n",
       "    <tr>\n",
       "      <th>118</th>\n",
       "      <td>118</td>\n",
       "      <td>reticular thalamic nucleus, auditory segment</td>\n",
       "      <td>0</td>\n",
       "      <td>0</td>\n",
       "    </tr>\n",
       "  </tbody>\n",
       "</table>\n",
       "<p>119 rows × 4 columns</p>\n",
       "</div>"
      ],
      "text/plain": [
       "      id                                          abbr  affine_vox  \\\n",
       "0      0                                   Clear Label   214025008   \n",
       "1      1              descending corticofugal pathways      872434   \n",
       "2      2                              substantia nigra      233850   \n",
       "3      3                           subthalamic nucleus        8808   \n",
       "4      4             molecular layer of the cerebellum     4423603   \n",
       "..   ...                                           ...         ...   \n",
       "114  114      ventral cochlear nucleus, posterior part      858931   \n",
       "115  115            ventral cochlear nucleus, cap area      990117   \n",
       "116  116                               spiral ganglion           0   \n",
       "117  117                               nucleus sagulum           0   \n",
       "118  118  reticular thalamic nucleus, auditory segment           0   \n",
       "\n",
       "     transformixed_vox  \n",
       "0            213135410  \n",
       "1               860624  \n",
       "2               229708  \n",
       "3                 8554  \n",
       "4              4285318  \n",
       "..                 ...  \n",
       "114             869670  \n",
       "115             964664  \n",
       "116                  0  \n",
       "117                  0  \n",
       "118                  0  \n",
       "\n",
       "[119 rows x 4 columns]"
      ]
     },
     "execution_count": 9,
     "metadata": {},
     "output_type": "execute_result"
    }
   ],
   "source": [
    "df"
   ]
  },
  {
   "cell_type": "code",
   "execution_count": 10,
   "metadata": {
    "scrolled": true
   },
   "outputs": [],
   "source": [
    "df['change'] = df['affine_vox']-df['transformixed_vox']"
   ]
  },
  {
   "cell_type": "code",
   "execution_count": 11,
   "metadata": {},
   "outputs": [
    {
     "data": {
      "text/html": [
       "<div>\n",
       "<style scoped>\n",
       "    .dataframe tbody tr th:only-of-type {\n",
       "        vertical-align: middle;\n",
       "    }\n",
       "\n",
       "    .dataframe tbody tr th {\n",
       "        vertical-align: top;\n",
       "    }\n",
       "\n",
       "    .dataframe thead th {\n",
       "        text-align: right;\n",
       "    }\n",
       "</style>\n",
       "<table border=\"1\" class=\"dataframe\">\n",
       "  <thead>\n",
       "    <tr style=\"text-align: right;\">\n",
       "      <th></th>\n",
       "      <th>id</th>\n",
       "      <th>abbr</th>\n",
       "      <th>affine_vox</th>\n",
       "      <th>transformixed_vox</th>\n",
       "      <th>change</th>\n",
       "    </tr>\n",
       "  </thead>\n",
       "  <tbody>\n",
       "    <tr>\n",
       "      <th>0</th>\n",
       "      <td>0</td>\n",
       "      <td>Clear Label</td>\n",
       "      <td>214025008</td>\n",
       "      <td>213135410</td>\n",
       "      <td>889598</td>\n",
       "    </tr>\n",
       "    <tr>\n",
       "      <th>1</th>\n",
       "      <td>1</td>\n",
       "      <td>descending corticofugal pathways</td>\n",
       "      <td>872434</td>\n",
       "      <td>860624</td>\n",
       "      <td>11810</td>\n",
       "    </tr>\n",
       "    <tr>\n",
       "      <th>2</th>\n",
       "      <td>2</td>\n",
       "      <td>substantia nigra</td>\n",
       "      <td>233850</td>\n",
       "      <td>229708</td>\n",
       "      <td>4142</td>\n",
       "    </tr>\n",
       "    <tr>\n",
       "      <th>3</th>\n",
       "      <td>3</td>\n",
       "      <td>subthalamic nucleus</td>\n",
       "      <td>8808</td>\n",
       "      <td>8554</td>\n",
       "      <td>254</td>\n",
       "    </tr>\n",
       "    <tr>\n",
       "      <th>4</th>\n",
       "      <td>4</td>\n",
       "      <td>molecular layer of the cerebellum</td>\n",
       "      <td>4423603</td>\n",
       "      <td>4285318</td>\n",
       "      <td>138285</td>\n",
       "    </tr>\n",
       "    <tr>\n",
       "      <th>...</th>\n",
       "      <td>...</td>\n",
       "      <td>...</td>\n",
       "      <td>...</td>\n",
       "      <td>...</td>\n",
       "      <td>...</td>\n",
       "    </tr>\n",
       "    <tr>\n",
       "      <th>110</th>\n",
       "      <td>110</td>\n",
       "      <td>secondary auditory cortex, dorsal area</td>\n",
       "      <td>268270</td>\n",
       "      <td>273572</td>\n",
       "      <td>-5302</td>\n",
       "    </tr>\n",
       "    <tr>\n",
       "      <th>112</th>\n",
       "      <td>112</td>\n",
       "      <td>auditory radiation</td>\n",
       "      <td>220677</td>\n",
       "      <td>218261</td>\n",
       "      <td>2416</td>\n",
       "    </tr>\n",
       "    <tr>\n",
       "      <th>113</th>\n",
       "      <td>113</td>\n",
       "      <td>ventral cochlear nucleus, anterior part</td>\n",
       "      <td>326085</td>\n",
       "      <td>327245</td>\n",
       "      <td>-1160</td>\n",
       "    </tr>\n",
       "    <tr>\n",
       "      <th>114</th>\n",
       "      <td>114</td>\n",
       "      <td>ventral cochlear nucleus, posterior part</td>\n",
       "      <td>858931</td>\n",
       "      <td>869670</td>\n",
       "      <td>-10739</td>\n",
       "    </tr>\n",
       "    <tr>\n",
       "      <th>115</th>\n",
       "      <td>115</td>\n",
       "      <td>ventral cochlear nucleus, cap area</td>\n",
       "      <td>990117</td>\n",
       "      <td>964664</td>\n",
       "      <td>25453</td>\n",
       "    </tr>\n",
       "  </tbody>\n",
       "</table>\n",
       "<p>72 rows × 5 columns</p>\n",
       "</div>"
      ],
      "text/plain": [
       "      id                                      abbr  affine_vox  \\\n",
       "0      0                               Clear Label   214025008   \n",
       "1      1          descending corticofugal pathways      872434   \n",
       "2      2                          substantia nigra      233850   \n",
       "3      3                       subthalamic nucleus        8808   \n",
       "4      4         molecular layer of the cerebellum     4423603   \n",
       "..   ...                                       ...         ...   \n",
       "110  110    secondary auditory cortex, dorsal area      268270   \n",
       "112  112                        auditory radiation      220677   \n",
       "113  113   ventral cochlear nucleus, anterior part      326085   \n",
       "114  114  ventral cochlear nucleus, posterior part      858931   \n",
       "115  115        ventral cochlear nucleus, cap area      990117   \n",
       "\n",
       "     transformixed_vox  change  \n",
       "0            213135410  889598  \n",
       "1               860624   11810  \n",
       "2               229708    4142  \n",
       "3                 8554     254  \n",
       "4              4285318  138285  \n",
       "..                 ...     ...  \n",
       "110             273572   -5302  \n",
       "112             218261    2416  \n",
       "113             327245   -1160  \n",
       "114             869670  -10739  \n",
       "115             964664   25453  \n",
       "\n",
       "[72 rows x 5 columns]"
      ]
     },
     "execution_count": 11,
     "metadata": {},
     "output_type": "execute_result"
    }
   ],
   "source": [
    "df = df[df.transformixed_vox > 0]\n",
    "df"
   ]
  },
  {
   "cell_type": "code",
   "execution_count": 12,
   "metadata": {},
   "outputs": [
    {
     "name": "stderr",
     "output_type": "stream",
     "text": [
      "<ipython-input-12-fce1c83d1c49>:3: SettingWithCopyWarning: \n",
      "A value is trying to be set on a copy of a slice from a DataFrame.\n",
      "Try using .loc[row_indexer,col_indexer] = value instead\n",
      "\n",
      "See the caveats in the documentation: https://pandas.pydata.org/pandas-docs/stable/user_guide/indexing.html#returning-a-view-versus-a-copy\n",
      "  df['percent'] = dfpercent\n"
     ]
    },
    {
     "data": {
      "text/plain": [
       "0      0.417386\n",
       "1      1.372260\n",
       "2      1.803159\n",
       "3      2.969371\n",
       "4      3.226948\n",
       "         ...   \n",
       "110   -1.938064\n",
       "112    1.106932\n",
       "113   -0.354474\n",
       "114   -1.234836\n",
       "115    2.638535\n",
       "Length: 72, dtype: float64"
      ]
     },
     "execution_count": 12,
     "metadata": {},
     "output_type": "execute_result"
    }
   ],
   "source": [
    "dfpercent = (df['change']/df['transformixed_vox'])*100\n",
    "dfpercent[np.isinf(dfpercent)]=0\n",
    "df['percent'] = dfpercent\n",
    "dfpercent.replace(0,np.nan)"
   ]
  },
  {
   "cell_type": "code",
   "execution_count": 13,
   "metadata": {},
   "outputs": [
    {
     "data": {
      "image/png": "[encoded data removed]",
      "text/plain": [
       "<Figure size 432x288 with 1 Axes>"
      ]
     },
     "metadata": {
      "needs_background": "light"
     },
     "output_type": "display_data"
    }
   ],
   "source": [
    "plt.hist(df.percent,bins=100)\n",
    "plt.show()"
   ]
  },
  {
   "cell_type": "code",
   "execution_count": 14,
   "metadata": {},
   "outputs": [],
   "source": [
    "mp = np.nanmedian(df.percent)\n",
    "sp = np.nanstd(df.percent)"
   ]
  },
  {
   "cell_type": "code",
   "execution_count": 15,
   "metadata": {},
   "outputs": [
    {
     "data": {
      "text/plain": [
       "118.6933632445605"
      ]
     },
     "execution_count": 15,
     "metadata": {},
     "output_type": "execute_result"
    }
   ],
   "source": [
    "highmp = mp+sp\n",
    "highmp"
   ]
  },
  {
   "cell_type": "code",
   "execution_count": 16,
   "metadata": {},
   "outputs": [
    {
     "data": {
      "text/plain": [
       "-122.81388906998312"
      ]
     },
     "execution_count": 16,
     "metadata": {},
     "output_type": "execute_result"
    }
   ],
   "source": [
    "lowmp = mp-sp\n",
    "lowmp"
   ]
  },
  {
   "cell_type": "code",
   "execution_count": 17,
   "metadata": {},
   "outputs": [],
   "source": [
    "df.to_csv(percentcsv)"
   ]
  },
  {
   "cell_type": "code",
   "execution_count": 18,
   "metadata": {},
   "outputs": [],
   "source": [
    "df=pd.read_csv(percentcsv)"
   ]
  },
  {
   "cell_type": "code",
   "execution_count": 19,
   "metadata": {
    "scrolled": true
   },
   "outputs": [
    {
     "data": {
      "text/html": [
       "<div>\n",
       "<style scoped>\n",
       "    .dataframe tbody tr th:only-of-type {\n",
       "        vertical-align: middle;\n",
       "    }\n",
       "\n",
       "    .dataframe tbody tr th {\n",
       "        vertical-align: top;\n",
       "    }\n",
       "\n",
       "    .dataframe thead th {\n",
       "        text-align: right;\n",
       "    }\n",
       "</style>\n",
       "<table border=\"1\" class=\"dataframe\">\n",
       "  <thead>\n",
       "    <tr style=\"text-align: right;\">\n",
       "      <th></th>\n",
       "      <th>Unnamed: 0</th>\n",
       "      <th>id</th>\n",
       "      <th>abbr</th>\n",
       "      <th>affine_vox</th>\n",
       "      <th>transformixed_vox</th>\n",
       "      <th>change</th>\n",
       "      <th>percent</th>\n",
       "    </tr>\n",
       "  </thead>\n",
       "  <tbody>\n",
       "    <tr>\n",
       "      <th>0</th>\n",
       "      <td>0</td>\n",
       "      <td>0</td>\n",
       "      <td>Clear Label</td>\n",
       "      <td>214025008</td>\n",
       "      <td>213135410</td>\n",
       "      <td>889598</td>\n",
       "      <td>0.417386</td>\n",
       "    </tr>\n",
       "    <tr>\n",
       "      <th>1</th>\n",
       "      <td>1</td>\n",
       "      <td>1</td>\n",
       "      <td>descending corticofugal pathways</td>\n",
       "      <td>872434</td>\n",
       "      <td>860624</td>\n",
       "      <td>11810</td>\n",
       "      <td>1.372260</td>\n",
       "    </tr>\n",
       "    <tr>\n",
       "      <th>2</th>\n",
       "      <td>2</td>\n",
       "      <td>2</td>\n",
       "      <td>substantia nigra</td>\n",
       "      <td>233850</td>\n",
       "      <td>229708</td>\n",
       "      <td>4142</td>\n",
       "      <td>1.803159</td>\n",
       "    </tr>\n",
       "    <tr>\n",
       "      <th>3</th>\n",
       "      <td>3</td>\n",
       "      <td>3</td>\n",
       "      <td>subthalamic nucleus</td>\n",
       "      <td>8808</td>\n",
       "      <td>8554</td>\n",
       "      <td>254</td>\n",
       "      <td>2.969371</td>\n",
       "    </tr>\n",
       "    <tr>\n",
       "      <th>4</th>\n",
       "      <td>4</td>\n",
       "      <td>4</td>\n",
       "      <td>molecular layer of the cerebellum</td>\n",
       "      <td>4423603</td>\n",
       "      <td>4285318</td>\n",
       "      <td>138285</td>\n",
       "      <td>3.226948</td>\n",
       "    </tr>\n",
       "    <tr>\n",
       "      <th>...</th>\n",
       "      <td>...</td>\n",
       "      <td>...</td>\n",
       "      <td>...</td>\n",
       "      <td>...</td>\n",
       "      <td>...</td>\n",
       "      <td>...</td>\n",
       "      <td>...</td>\n",
       "    </tr>\n",
       "    <tr>\n",
       "      <th>67</th>\n",
       "      <td>110</td>\n",
       "      <td>110</td>\n",
       "      <td>secondary auditory cortex, dorsal area</td>\n",
       "      <td>268270</td>\n",
       "      <td>273572</td>\n",
       "      <td>-5302</td>\n",
       "      <td>-1.938064</td>\n",
       "    </tr>\n",
       "    <tr>\n",
       "      <th>68</th>\n",
       "      <td>112</td>\n",
       "      <td>112</td>\n",
       "      <td>auditory radiation</td>\n",
       "      <td>220677</td>\n",
       "      <td>218261</td>\n",
       "      <td>2416</td>\n",
       "      <td>1.106932</td>\n",
       "    </tr>\n",
       "    <tr>\n",
       "      <th>69</th>\n",
       "      <td>113</td>\n",
       "      <td>113</td>\n",
       "      <td>ventral cochlear nucleus, anterior part</td>\n",
       "      <td>326085</td>\n",
       "      <td>327245</td>\n",
       "      <td>-1160</td>\n",
       "      <td>-0.354474</td>\n",
       "    </tr>\n",
       "    <tr>\n",
       "      <th>70</th>\n",
       "      <td>114</td>\n",
       "      <td>114</td>\n",
       "      <td>ventral cochlear nucleus, posterior part</td>\n",
       "      <td>858931</td>\n",
       "      <td>869670</td>\n",
       "      <td>-10739</td>\n",
       "      <td>-1.234836</td>\n",
       "    </tr>\n",
       "    <tr>\n",
       "      <th>71</th>\n",
       "      <td>115</td>\n",
       "      <td>115</td>\n",
       "      <td>ventral cochlear nucleus, cap area</td>\n",
       "      <td>990117</td>\n",
       "      <td>964664</td>\n",
       "      <td>25453</td>\n",
       "      <td>2.638535</td>\n",
       "    </tr>\n",
       "  </tbody>\n",
       "</table>\n",
       "<p>72 rows × 7 columns</p>\n",
       "</div>"
      ],
      "text/plain": [
       "    Unnamed: 0   id                                      abbr  affine_vox  \\\n",
       "0            0    0                               Clear Label   214025008   \n",
       "1            1    1          descending corticofugal pathways      872434   \n",
       "2            2    2                          substantia nigra      233850   \n",
       "3            3    3                       subthalamic nucleus        8808   \n",
       "4            4    4         molecular layer of the cerebellum     4423603   \n",
       "..         ...  ...                                       ...         ...   \n",
       "67         110  110    secondary auditory cortex, dorsal area      268270   \n",
       "68         112  112                        auditory radiation      220677   \n",
       "69         113  113   ventral cochlear nucleus, anterior part      326085   \n",
       "70         114  114  ventral cochlear nucleus, posterior part      858931   \n",
       "71         115  115        ventral cochlear nucleus, cap area      990117   \n",
       "\n",
       "    transformixed_vox  change   percent  \n",
       "0           213135410  889598  0.417386  \n",
       "1              860624   11810  1.372260  \n",
       "2              229708    4142  1.803159  \n",
       "3                8554     254  2.969371  \n",
       "4             4285318  138285  3.226948  \n",
       "..                ...     ...       ...  \n",
       "67             273572   -5302 -1.938064  \n",
       "68             218261    2416  1.106932  \n",
       "69             327245   -1160 -0.354474  \n",
       "70             869670  -10739 -1.234836  \n",
       "71             964664   25453  2.638535  \n",
       "\n",
       "[72 rows x 7 columns]"
      ]
     },
     "execution_count": 19,
     "metadata": {},
     "output_type": "execute_result"
    }
   ],
   "source": [
    "df"
   ]
  },
  {
   "cell_type": "code",
   "execution_count": 20,
   "metadata": {},
   "outputs": [],
   "source": [
    "too = df.id\n"
   ]
  },
  {
   "cell_type": "code",
   "execution_count": 21,
   "metadata": {},
   "outputs": [],
   "source": [
    "transformixed_relative = transformixed"
   ]
  },
  {
   "cell_type": "code",
   "execution_count": 23,
   "metadata": {},
   "outputs": [
    {
     "data": {
      "image/png": "[encoded data removed]",
      "text/plain": [
       "<Figure size 432x288 with 1 Axes>"
      ]
     },
     "metadata": {
      "needs_background": "light"
     },
     "output_type": "display_data"
    }
   ],
   "source": [
    "# add list of unique values not in twoxh/twoxl but in transformixed\n",
    "x = np.unique(transformixed)\n",
    "plt.hist(x)\n",
    "plt.show()"
   ]
  },
  {
   "cell_type": "code",
   "execution_count": 24,
   "metadata": {},
   "outputs": [
    {
     "data": {
      "text/plain": [
       "array([120, 121, 122, 123, 125, 126, 127, 128, 129, 130, 131, 132, 133,\n",
       "       134, 135, 136, 137, 138, 139], dtype=int16)"
      ]
     },
     "execution_count": 24,
     "metadata": {},
     "output_type": "execute_result"
    }
   ],
   "source": [
    "test = np.setdiff1d(x,too)\n",
    "test[1:20]"
   ]
  },
  {
   "cell_type": "code",
   "execution_count": 25,
   "metadata": {},
   "outputs": [],
   "source": [
    "for i in test:\n",
    "    transformixed_relative[transformixed_relative==i]=0"
   ]
  },
  {
   "cell_type": "code",
   "execution_count": null,
   "metadata": {},
   "outputs": [],
   "source": []
  },
  {
   "cell_type": "code",
   "execution_count": 26,
   "metadata": {},
   "outputs": [],
   "source": [
    "for i in too:\n",
    "    transformixed_relative[transformixed_relative==i]=df.loc[df['id']==i,'percent'].iloc[0]"
   ]
  },
  {
   "cell_type": "code",
   "execution_count": 27,
   "metadata": {},
   "outputs": [],
   "source": [
    "tif.imsave(output,transformixed_relative)\n"
   ]
  },
  {
   "cell_type": "markdown",
   "metadata": {},
   "source": [
    "# If you already have a percent file"
   ]
  },
  {
   "cell_type": "code",
   "execution_count": 28,
   "metadata": {},
   "outputs": [],
   "source": [
    "df=pd.read_csv(percentcsv)"
   ]
  },
  {
   "cell_type": "code",
   "execution_count": 29,
   "metadata": {},
   "outputs": [
    {
     "data": {
      "image/png": "[encoded data removed]",
      "text/plain": [
       "<Figure size 432x288 with 1 Axes>"
      ]
     },
     "metadata": {
      "needs_background": "light"
     },
     "output_type": "display_data"
    }
   ],
   "source": [
    "plt.hist(df.percent[df.affine_vox>5],bins=100)\n",
    "\n",
    "dfmean = np.nanmean(df.percent[df.affine_vox>5])\n",
    "dfmedian = np.nanmedian(df.percent[df.affine_vox>5])\n",
    "dfstd = np.std(df.percent[df.affine_vox>5])\n",
    "mp = dfmean + dfstd\n",
    "mm = dfmean - dfstd\n",
    "\n",
    "mp2 = dfmean + 2*dfstd\n",
    "mp3 = dfmean + 3*dfstd\n",
    "mm2 = dfmean - 2*dfstd\n",
    "mm3 = dfmean - 3*dfstd\n",
    "\n",
    "\n",
    "plt.plot([dfmean, dfmean],[0,25],'r')\n",
    "plt.plot([dfmedian, dfmedian],[0,25],'k')\n",
    "plt.plot([mp,mp],[0,25],'c')\n",
    "plt.plot([mm,mm],[0,25],'c')\n",
    "plt.plot([mp2,mp2],[0,25],'c')\n",
    "plt.plot([mm2,mm2],[0,25],'c')\n",
    "plt.show()"
   ]
  },
  {
   "cell_type": "code",
   "execution_count": 30,
   "metadata": {},
   "outputs": [
    {
     "data": {
      "text/html": [
       "<div>\n",
       "<style scoped>\n",
       "    .dataframe tbody tr th:only-of-type {\n",
       "        vertical-align: middle;\n",
       "    }\n",
       "\n",
       "    .dataframe tbody tr th {\n",
       "        vertical-align: top;\n",
       "    }\n",
       "\n",
       "    .dataframe thead th {\n",
       "        text-align: right;\n",
       "    }\n",
       "</style>\n",
       "<table border=\"1\" class=\"dataframe\">\n",
       "  <thead>\n",
       "    <tr style=\"text-align: right;\">\n",
       "      <th></th>\n",
       "      <th>Unnamed: 0</th>\n",
       "      <th>id</th>\n",
       "      <th>abbr</th>\n",
       "      <th>affine_vox</th>\n",
       "      <th>transformixed_vox</th>\n",
       "      <th>change</th>\n",
       "      <th>percent</th>\n",
       "    </tr>\n",
       "  </thead>\n",
       "  <tbody>\n",
       "    <tr>\n",
       "      <th>0</th>\n",
       "      <td>0</td>\n",
       "      <td>0</td>\n",
       "      <td>Clear Label</td>\n",
       "      <td>214025008</td>\n",
       "      <td>213135410</td>\n",
       "      <td>889598</td>\n",
       "      <td>0.417386</td>\n",
       "    </tr>\n",
       "    <tr>\n",
       "      <th>1</th>\n",
       "      <td>1</td>\n",
       "      <td>1</td>\n",
       "      <td>descending corticofugal pathways</td>\n",
       "      <td>872434</td>\n",
       "      <td>860624</td>\n",
       "      <td>11810</td>\n",
       "      <td>1.372260</td>\n",
       "    </tr>\n",
       "    <tr>\n",
       "      <th>2</th>\n",
       "      <td>2</td>\n",
       "      <td>2</td>\n",
       "      <td>substantia nigra</td>\n",
       "      <td>233850</td>\n",
       "      <td>229708</td>\n",
       "      <td>4142</td>\n",
       "      <td>1.803159</td>\n",
       "    </tr>\n",
       "    <tr>\n",
       "      <th>3</th>\n",
       "      <td>3</td>\n",
       "      <td>3</td>\n",
       "      <td>subthalamic nucleus</td>\n",
       "      <td>8808</td>\n",
       "      <td>8554</td>\n",
       "      <td>254</td>\n",
       "      <td>2.969371</td>\n",
       "    </tr>\n",
       "    <tr>\n",
       "      <th>4</th>\n",
       "      <td>4</td>\n",
       "      <td>4</td>\n",
       "      <td>molecular layer of the cerebellum</td>\n",
       "      <td>4423603</td>\n",
       "      <td>4285318</td>\n",
       "      <td>138285</td>\n",
       "      <td>3.226948</td>\n",
       "    </tr>\n",
       "    <tr>\n",
       "      <th>...</th>\n",
       "      <td>...</td>\n",
       "      <td>...</td>\n",
       "      <td>...</td>\n",
       "      <td>...</td>\n",
       "      <td>...</td>\n",
       "      <td>...</td>\n",
       "      <td>...</td>\n",
       "    </tr>\n",
       "    <tr>\n",
       "      <th>67</th>\n",
       "      <td>110</td>\n",
       "      <td>110</td>\n",
       "      <td>secondary auditory cortex, dorsal area</td>\n",
       "      <td>268270</td>\n",
       "      <td>273572</td>\n",
       "      <td>-5302</td>\n",
       "      <td>-1.938064</td>\n",
       "    </tr>\n",
       "    <tr>\n",
       "      <th>68</th>\n",
       "      <td>112</td>\n",
       "      <td>112</td>\n",
       "      <td>auditory radiation</td>\n",
       "      <td>220677</td>\n",
       "      <td>218261</td>\n",
       "      <td>2416</td>\n",
       "      <td>1.106932</td>\n",
       "    </tr>\n",
       "    <tr>\n",
       "      <th>69</th>\n",
       "      <td>113</td>\n",
       "      <td>113</td>\n",
       "      <td>ventral cochlear nucleus, anterior part</td>\n",
       "      <td>326085</td>\n",
       "      <td>327245</td>\n",
       "      <td>-1160</td>\n",
       "      <td>-0.354474</td>\n",
       "    </tr>\n",
       "    <tr>\n",
       "      <th>70</th>\n",
       "      <td>114</td>\n",
       "      <td>114</td>\n",
       "      <td>ventral cochlear nucleus, posterior part</td>\n",
       "      <td>858931</td>\n",
       "      <td>869670</td>\n",
       "      <td>-10739</td>\n",
       "      <td>-1.234836</td>\n",
       "    </tr>\n",
       "    <tr>\n",
       "      <th>71</th>\n",
       "      <td>115</td>\n",
       "      <td>115</td>\n",
       "      <td>ventral cochlear nucleus, cap area</td>\n",
       "      <td>990117</td>\n",
       "      <td>964664</td>\n",
       "      <td>25453</td>\n",
       "      <td>2.638535</td>\n",
       "    </tr>\n",
       "  </tbody>\n",
       "</table>\n",
       "<p>72 rows × 7 columns</p>\n",
       "</div>"
      ],
      "text/plain": [
       "    Unnamed: 0   id                                      abbr  affine_vox  \\\n",
       "0            0    0                               Clear Label   214025008   \n",
       "1            1    1          descending corticofugal pathways      872434   \n",
       "2            2    2                          substantia nigra      233850   \n",
       "3            3    3                       subthalamic nucleus        8808   \n",
       "4            4    4         molecular layer of the cerebellum     4423603   \n",
       "..         ...  ...                                       ...         ...   \n",
       "67         110  110    secondary auditory cortex, dorsal area      268270   \n",
       "68         112  112                        auditory radiation      220677   \n",
       "69         113  113   ventral cochlear nucleus, anterior part      326085   \n",
       "70         114  114  ventral cochlear nucleus, posterior part      858931   \n",
       "71         115  115        ventral cochlear nucleus, cap area      990117   \n",
       "\n",
       "    transformixed_vox  change   percent  \n",
       "0           213135410  889598  0.417386  \n",
       "1              860624   11810  1.372260  \n",
       "2              229708    4142  1.803159  \n",
       "3                8554     254  2.969371  \n",
       "4             4285318  138285  3.226948  \n",
       "..                ...     ...       ...  \n",
       "67             273572   -5302 -1.938064  \n",
       "68             218261    2416  1.106932  \n",
       "69             327245   -1160 -0.354474  \n",
       "70             869670  -10739 -1.234836  \n",
       "71             964664   25453  2.638535  \n",
       "\n",
       "[72 rows x 7 columns]"
      ]
     },
     "execution_count": 30,
     "metadata": {},
     "output_type": "execute_result"
    }
   ],
   "source": [
    "# want to make summary -- ideally show a ranked 3, 2, 1std>mean \n",
    "# in diff colors, and then the \n",
    "# values either written or in bar form on the right\n",
    "df"
   ]
  },
  {
   "cell_type": "code",
   "execution_count": 33,
   "metadata": {},
   "outputs": [
    {
     "data": {
      "text/html": [
       "<div>\n",
       "<style scoped>\n",
       "    .dataframe tbody tr th:only-of-type {\n",
       "        vertical-align: middle;\n",
       "    }\n",
       "\n",
       "    .dataframe tbody tr th {\n",
       "        vertical-align: top;\n",
       "    }\n",
       "\n",
       "    .dataframe thead th {\n",
       "        text-align: right;\n",
       "    }\n",
       "</style>\n",
       "<table border=\"1\" class=\"dataframe\">\n",
       "  <thead>\n",
       "    <tr style=\"text-align: right;\">\n",
       "      <th></th>\n",
       "      <th>Unnamed: 0</th>\n",
       "      <th>id</th>\n",
       "      <th>abbr</th>\n",
       "      <th>affine_vox</th>\n",
       "      <th>transformixed_vox</th>\n",
       "      <th>change</th>\n",
       "      <th>percent</th>\n",
       "    </tr>\n",
       "  </thead>\n",
       "  <tbody>\n",
       "    <tr>\n",
       "      <th>45</th>\n",
       "      <td>72</td>\n",
       "      <td>72</td>\n",
       "      <td>postrhinal cortex</td>\n",
       "      <td>491</td>\n",
       "      <td>45</td>\n",
       "      <td>446</td>\n",
       "      <td>991.111111</td>\n",
       "    </tr>\n",
       "    <tr>\n",
       "      <th>33</th>\n",
       "      <td>57</td>\n",
       "      <td>57</td>\n",
       "      <td>habenular commissure</td>\n",
       "      <td>1917</td>\n",
       "      <td>798</td>\n",
       "      <td>1119</td>\n",
       "      <td>140.225564</td>\n",
       "    </tr>\n",
       "  </tbody>\n",
       "</table>\n",
       "</div>"
      ],
      "text/plain": [
       "    Unnamed: 0  id                  abbr  affine_vox  transformixed_vox  \\\n",
       "45          72  72     postrhinal cortex         491                 45   \n",
       "33          57  57  habenular commissure        1917                798   \n",
       "\n",
       "    change     percent  \n",
       "45     446  991.111111  \n",
       "33    1119  140.225564  "
      ]
     },
     "execution_count": 33,
     "metadata": {},
     "output_type": "execute_result"
    }
   ],
   "source": [
    "df2p = df[df.percent>mp]\n",
    "df2p = df2p.sort_values('percent',ascending=False)\n",
    "df2m = df[df.percent < mm]\n",
    "df2m = df2m.sort_values('percent',ascending=False)\n",
    "df2p"
   ]
  },
  {
   "cell_type": "code",
   "execution_count": 78,
   "metadata": {},
   "outputs": [],
   "source": [
    "df2m=df2m.drop_duplicates('id')"
   ]
  },
  {
   "cell_type": "code",
   "execution_count": 79,
   "metadata": {},
   "outputs": [],
   "source": [
    "df2p=df2p.drop_duplicates('id')"
   ]
  },
  {
   "cell_type": "code",
   "execution_count": 35,
   "metadata": {},
   "outputs": [
    {
     "data": {
      "image/png": "[encoded data removed]",
      "text/plain": [
       "<Figure size 432x288 with 1 Axes>"
      ]
     },
     "metadata": {
      "needs_background": "light"
     },
     "output_type": "display_data"
    }
   ],
   "source": [
    "dfforplot = df[df.percent>5]\n",
    "dfforplot2 = df[df.percent<-5]\n",
    "dfforplot= dfforplot.sort_values('percent',ascending=False)\n",
    "dfforplot2 = dfforplot2.sort_values('percent',ascending=True)\n",
    "dfforplot2 = dfforplot2.drop_duplicates('id')\n",
    "dfforplot = dfforplot.drop_duplicates('id')\n",
    "plt.bar(dfforplot2.abbr,dfforplot2.percent,color='c')\n",
    "plt.bar(dfforplot.abbr,dfforplot.percent,color='r')\n",
    "\n",
    "plt.xticks(rotation=90)\n",
    "plt.ylim([-25,25])\n",
    "plt.show()"
   ]
  },
  {
   "cell_type": "code",
   "execution_count": 36,
   "metadata": {},
   "outputs": [
    {
     "data": {
      "image/png": "[encoded data removed]",
      "text/plain": [
       "<Figure size 432x288 with 1 Axes>"
      ]
     },
     "metadata": {
      "needs_background": "light"
     },
     "output_type": "display_data"
    }
   ],
   "source": []
  },
  {
   "cell_type": "code",
   "execution_count": null,
   "metadata": {},
   "outputs": [],
   "source": []
  }
 ],
 "metadata": {
  "kernelspec": {
   "display_name": "Python 3",
   "language": "python",
   "name": "python3"
  },
  "language_info": {
   "codemirror_mode": {
    "name": "ipython",
    "version": 3
   },
   "file_extension": ".py",
   "mimetype": "text/x-python",
   "name": "python",
   "nbconvert_exporter": "python",
   "pygments_lexer": "ipython3",
   "version": "3.8.3"
  }
 },
 "nbformat": 4,
 "nbformat_minor": 4
}

{
 "cells": [
  {
   "cell_type": "code",
   "execution_count": 55,
   "metadata": {},
   "outputs": [],
   "source": [
    "import os, sys, time\n",
    "import tifffile as tif\n",
    "sys.path.append(\"/home/emilyjanedennis/Desktop/GitHub/rat_BrainPipe\")\n",
    "from tools.utils.io import makedir\n",
    "from tools.registration.register import change_interpolation_order, transformix_command_line_call\n",
    "from tools.registration.transform_list_of_points import modify_transform_files\n",
    "from scipy.ndimage.interpolation import zoom\n",
    "import matplotlib.pyplot as plt\n",
    "import numpy as np\n",
    "import pandas as pd\n",
    "import csv"
   ]
  },
  {
   "cell_type": "markdown",
   "metadata": {},
   "source": [
    "# If you need to determine the percent voxel change between two images follow these steps first. \n",
    "\n",
    "## If you already have a \"percent.csv\" file, skip to next section"
   ]
  },
  {
   "cell_type": "code",
   "execution_count": 251,
   "metadata": {},
   "outputs": [],
   "source": [
    "src = \"/home/emilyjanedennis/Desktop/for_registration_to_lightsheet\"\n",
    "affinefile = os.path.join(src, \"output_dirs/Chon_to_PRA_affine/result.tif\")\n",
    "transformixedfile = os.path.join(src, \"output_dirs/Chon_for_PRA/result.tif\")\n",
    "annotationsfilename = os.path.join(src,\"labels/chon_label_ids.csv\")\n",
    "voxcsv = os.path.join(src,\"Chon_to_PRA_vox.csv\")\n",
    "percentcsv = os.path.join(src,\"Chon_to_PRA_percent.csv\")\n",
    "transformixed_relative_ZEROED_tiff = os.path.join(src,\"Chon_to_PRA_relative_ZEROED_tiff.tif\")\n",
    "transformixed_relative_tiff = os.path.join(src,\"Chon_to_PRA_relative_tiff.tif\")"
   ]
  },
  {
   "cell_type": "code",
   "execution_count": 252,
   "metadata": {},
   "outputs": [
    {
     "name": "stdout",
     "output_type": "stream",
     "text": [
      "read affine tiff\n",
      "read transformixed tiff\n"
     ]
    }
   ],
   "source": [
    "affine = tif.imread(affinefile)\n",
    "print(\"read affine tiff\")\n",
    "transformixed = tif.imread(transformixedfile)\n",
    "print(\"read transformixed tiff\")"
   ]
  },
  {
   "cell_type": "code",
   "execution_count": null,
   "metadata": {},
   "outputs": [],
   "source": []
  },
  {
   "cell_type": "code",
   "execution_count": 253,
   "metadata": {},
   "outputs": [
    {
     "name": "stdout",
     "output_type": "stream",
     "text": [
      "read annotations\n"
     ]
    }
   ],
   "source": [
    "# make sure your annotations have the first column as id number, 2nd as abbreviation, or else change the input below\n",
    "anns=pd.read_csv(annotationsfilename,usecols=[0,1],header=0,names=['id','abbr'])\n",
    "print(\"read annotations\")"
   ]
  },
  {
   "cell_type": "code",
   "execution_count": 254,
   "metadata": {},
   "outputs": [
    {
     "data": {
      "text/html": [
       "<div>\n",
       "<style scoped>\n",
       "    .dataframe tbody tr th:only-of-type {\n",
       "        vertical-align: middle;\n",
       "    }\n",
       "\n",
       "    .dataframe tbody tr th {\n",
       "        vertical-align: top;\n",
       "    }\n",
       "\n",
       "    .dataframe thead th {\n",
       "        text-align: right;\n",
       "    }\n",
       "</style>\n",
       "<table border=\"1\" class=\"dataframe\">\n",
       "  <thead>\n",
       "    <tr style=\"text-align: right;\">\n",
       "      <th></th>\n",
       "      <th>id</th>\n",
       "      <th>abbr</th>\n",
       "    </tr>\n",
       "  </thead>\n",
       "  <tbody>\n",
       "    <tr>\n",
       "      <th>0</th>\n",
       "      <td>1</td>\n",
       "      <td>VTM</td>\n",
       "    </tr>\n",
       "    <tr>\n",
       "      <th>1</th>\n",
       "      <td>2</td>\n",
       "      <td>S1ULp-6b</td>\n",
       "    </tr>\n",
       "    <tr>\n",
       "      <th>2</th>\n",
       "      <td>3</td>\n",
       "      <td>sf</td>\n",
       "    </tr>\n",
       "    <tr>\n",
       "      <th>3</th>\n",
       "      <td>4</td>\n",
       "      <td>IC</td>\n",
       "    </tr>\n",
       "    <tr>\n",
       "      <th>4</th>\n",
       "      <td>6</td>\n",
       "      <td>ic</td>\n",
       "    </tr>\n",
       "    <tr>\n",
       "      <th>...</th>\n",
       "      <td>...</td>\n",
       "      <td>...</td>\n",
       "    </tr>\n",
       "    <tr>\n",
       "      <th>4284</th>\n",
       "      <td>58500</td>\n",
       "      <td>8Cb-mo</td>\n",
       "    </tr>\n",
       "    <tr>\n",
       "      <th>4285</th>\n",
       "      <td>59100</td>\n",
       "      <td>9Cb-gr</td>\n",
       "    </tr>\n",
       "    <tr>\n",
       "      <th>4286</th>\n",
       "      <td>58900</td>\n",
       "      <td>9Cb-mo</td>\n",
       "    </tr>\n",
       "    <tr>\n",
       "      <th>4287</th>\n",
       "      <td>59500</td>\n",
       "      <td>10Cb-gr</td>\n",
       "    </tr>\n",
       "    <tr>\n",
       "      <th>4288</th>\n",
       "      <td>59300</td>\n",
       "      <td>10Cb-mo</td>\n",
       "    </tr>\n",
       "  </tbody>\n",
       "</table>\n",
       "<p>4289 rows × 2 columns</p>\n",
       "</div>"
      ],
      "text/plain": [
       "         id      abbr\n",
       "0         1       VTM\n",
       "1         2  S1ULp-6b\n",
       "2         3        sf\n",
       "3         4        IC\n",
       "4         6        ic\n",
       "...     ...       ...\n",
       "4284  58500    8Cb-mo\n",
       "4285  59100    9Cb-gr\n",
       "4286  58900    9Cb-mo\n",
       "4287  59500   10Cb-gr\n",
       "4288  59300   10Cb-mo\n",
       "\n",
       "[4289 rows x 2 columns]"
      ]
     },
     "execution_count": 254,
     "metadata": {},
     "output_type": "execute_result"
    }
   ],
   "source": [
    "df=anns.dropna()\n",
    "df"
   ]
  },
  {
   "cell_type": "code",
   "execution_count": 255,
   "metadata": {},
   "outputs": [],
   "source": [
    "df.insert(2,'affine_vox',0)\n",
    "df.insert(3,'transformixed_vox',0)\n"
   ]
  },
  {
   "cell_type": "code",
   "execution_count": null,
   "metadata": {
    "scrolled": true
   },
   "outputs": [
    {
     "name": "stderr",
     "output_type": "stream",
     "text": [
      "<ipython-input-271-ec990ef16611>:2: SettingWithCopyWarning: \n",
      "A value is trying to be set on a copy of a slice from a DataFrame\n",
      "\n",
      "See the caveats in the documentation: https://pandas.pydata.org/pandas-docs/stable/user_guide/indexing.html#returning-a-view-versus-a-copy\n",
      "  df.transformixed_vox[df.index[df.id==i]] = np.size(transformixed[transformixed==i])\n",
      "<ipython-input-271-ec990ef16611>:3: SettingWithCopyWarning: \n",
      "A value is trying to be set on a copy of a slice from a DataFrame\n",
      "\n",
      "See the caveats in the documentation: https://pandas.pydata.org/pandas-docs/stable/user_guide/indexing.html#returning-a-view-versus-a-copy\n",
      "  df.affine_vox[df.index[df.id==i]] = np.size(affine[affine==i])\n"
     ]
    }
   ],
   "source": [
    "for i in df['id']:\n",
    "    df.transformixed_vox[df.index[df.id==i]] = np.size(transformixed[transformixed==i])\n",
    "    df.affine_vox[df.index[df.id==i]] = np.size(affine[affine==i])\n"
   ]
  },
  {
   "cell_type": "code",
   "execution_count": null,
   "metadata": {},
   "outputs": [],
   "source": [
    "df"
   ]
  },
  {
   "cell_type": "code",
   "execution_count": 167,
   "metadata": {
    "scrolled": true
   },
   "outputs": [],
   "source": [
    "df['change'] = df['affine_vox']-df['transformixed_vox']"
   ]
  },
  {
   "cell_type": "code",
   "execution_count": 168,
   "metadata": {},
   "outputs": [],
   "source": [
    "dfwithzero=df"
   ]
  },
  {
   "cell_type": "code",
   "execution_count": 182,
   "metadata": {},
   "outputs": [
    {
     "data": {
      "text/plain": [
       "1294"
      ]
     },
     "execution_count": 182,
     "metadata": {},
     "output_type": "execute_result"
    }
   ],
   "source": [
    "df = df[df.transformixed_vox > 0]\n",
    "zs = dfwithzero.id\n"
   ]
  },
  {
   "cell_type": "code",
   "execution_count": 144,
   "metadata": {},
   "outputs": [
    {
     "data": {
      "text/plain": [
       "0       -4.234743\n",
       "1        1.645973\n",
       "2       -4.921634\n",
       "3       -0.619586\n",
       "4        5.729901\n",
       "          ...    \n",
       "2985    23.456790\n",
       "2986   -10.416667\n",
       "2987    19.791667\n",
       "2988     8.571429\n",
       "2989    -5.050505\n",
       "Length: 2990, dtype: float64"
      ]
     },
     "execution_count": 144,
     "metadata": {},
     "output_type": "execute_result"
    }
   ],
   "source": [
    "dfpercent = (df['change']/df['transformixed_vox'])*100\n",
    "dfpercent[np.isinf(dfpercent)]=0\n",
    "df['percent'] = dfpercent\n",
    "dfpercent.replace(0,np.nan)"
   ]
  },
  {
   "cell_type": "code",
   "execution_count": 145,
   "metadata": {},
   "outputs": [
    {
     "data": {
      "image/png": "[encoded data removed]",
      "text/plain": [
       "<Figure size 432x288 with 1 Axes>"
      ]
     },
     "metadata": {
      "needs_background": "light"
     },
     "output_type": "display_data"
    }
   ],
   "source": [
    "plt.hist(df.percent,bins=100)\n",
    "plt.show()"
   ]
  },
  {
   "cell_type": "code",
   "execution_count": 146,
   "metadata": {},
   "outputs": [],
   "source": [
    "mp = np.nanmedian(df.percent)\n",
    "sp = np.nanstd(df.percent)"
   ]
  },
  {
   "cell_type": "code",
   "execution_count": 147,
   "metadata": {},
   "outputs": [
    {
     "data": {
      "text/plain": [
       "5.244225240041913"
      ]
     },
     "execution_count": 147,
     "metadata": {},
     "output_type": "execute_result"
    }
   ],
   "source": [
    "highmp = mp+sp\n",
    "highmp"
   ]
  },
  {
   "cell_type": "code",
   "execution_count": 148,
   "metadata": {},
   "outputs": [
    {
     "data": {
      "text/plain": [
       "-8.964993574142763"
      ]
     },
     "execution_count": 148,
     "metadata": {},
     "output_type": "execute_result"
    }
   ],
   "source": [
    "lowmp = mp-sp\n",
    "lowmp"
   ]
  },
  {
   "cell_type": "code",
   "execution_count": 129,
   "metadata": {},
   "outputs": [],
   "source": [
    "df.to_csv(percentcsv)"
   ]
  },
  {
   "cell_type": "code",
   "execution_count": 130,
   "metadata": {},
   "outputs": [],
   "source": [
    "df=pd.read_csv(percentcsv)"
   ]
  },
  {
   "cell_type": "code",
   "execution_count": 133,
   "metadata": {
    "scrolled": true
   },
   "outputs": [
    {
     "data": {
      "text/html": [
       "<div>\n",
       "<style scoped>\n",
       "    .dataframe tbody tr th:only-of-type {\n",
       "        vertical-align: middle;\n",
       "    }\n",
       "\n",
       "    .dataframe tbody tr th {\n",
       "        vertical-align: top;\n",
       "    }\n",
       "\n",
       "    .dataframe thead th {\n",
       "        text-align: right;\n",
       "    }\n",
       "</style>\n",
       "<table border=\"1\" class=\"dataframe\">\n",
       "  <thead>\n",
       "    <tr style=\"text-align: right;\">\n",
       "      <th></th>\n",
       "      <th>Unnamed: 0</th>\n",
       "      <th>id</th>\n",
       "      <th>abbr</th>\n",
       "      <th>affine_vox</th>\n",
       "      <th>transformixed_vox</th>\n",
       "      <th>change</th>\n",
       "      <th>percent</th>\n",
       "    </tr>\n",
       "  </thead>\n",
       "  <tbody>\n",
       "    <tr>\n",
       "      <th>0</th>\n",
       "      <td>0</td>\n",
       "      <td>1</td>\n",
       "      <td>VTM</td>\n",
       "      <td>21687</td>\n",
       "      <td>22646</td>\n",
       "      <td>-959</td>\n",
       "      <td>-4.234743</td>\n",
       "    </tr>\n",
       "    <tr>\n",
       "      <th>1</th>\n",
       "      <td>1</td>\n",
       "      <td>2</td>\n",
       "      <td>S1ULp-6b</td>\n",
       "      <td>35694</td>\n",
       "      <td>35116</td>\n",
       "      <td>578</td>\n",
       "      <td>1.645973</td>\n",
       "    </tr>\n",
       "    <tr>\n",
       "      <th>2</th>\n",
       "      <td>2</td>\n",
       "      <td>3</td>\n",
       "      <td>sf</td>\n",
       "      <td>16015</td>\n",
       "      <td>16844</td>\n",
       "      <td>-829</td>\n",
       "      <td>-4.921634</td>\n",
       "    </tr>\n",
       "    <tr>\n",
       "      <th>3</th>\n",
       "      <td>3</td>\n",
       "      <td>4</td>\n",
       "      <td>IC</td>\n",
       "      <td>17323</td>\n",
       "      <td>17431</td>\n",
       "      <td>-108</td>\n",
       "      <td>-0.619586</td>\n",
       "    </tr>\n",
       "    <tr>\n",
       "      <th>4</th>\n",
       "      <td>4</td>\n",
       "      <td>6</td>\n",
       "      <td>ic</td>\n",
       "      <td>294831</td>\n",
       "      <td>278853</td>\n",
       "      <td>15978</td>\n",
       "      <td>5.729901</td>\n",
       "    </tr>\n",
       "    <tr>\n",
       "      <th>...</th>\n",
       "      <td>...</td>\n",
       "      <td>...</td>\n",
       "      <td>...</td>\n",
       "      <td>...</td>\n",
       "      <td>...</td>\n",
       "      <td>...</td>\n",
       "      <td>...</td>\n",
       "    </tr>\n",
       "    <tr>\n",
       "      <th>2985</th>\n",
       "      <td>4097</td>\n",
       "      <td>6222</td>\n",
       "      <td>S1DZO-2/3</td>\n",
       "      <td>100</td>\n",
       "      <td>81</td>\n",
       "      <td>19</td>\n",
       "      <td>23.456790</td>\n",
       "    </tr>\n",
       "    <tr>\n",
       "      <th>2986</th>\n",
       "      <td>4098</td>\n",
       "      <td>6223</td>\n",
       "      <td>S1DZO-4</td>\n",
       "      <td>86</td>\n",
       "      <td>96</td>\n",
       "      <td>-10</td>\n",
       "      <td>-10.416667</td>\n",
       "    </tr>\n",
       "    <tr>\n",
       "      <th>2987</th>\n",
       "      <td>4099</td>\n",
       "      <td>6224</td>\n",
       "      <td>S1DZO-5</td>\n",
       "      <td>460</td>\n",
       "      <td>384</td>\n",
       "      <td>76</td>\n",
       "      <td>19.791667</td>\n",
       "    </tr>\n",
       "    <tr>\n",
       "      <th>2988</th>\n",
       "      <td>4100</td>\n",
       "      <td>6225</td>\n",
       "      <td>S1DZO-6a</td>\n",
       "      <td>76</td>\n",
       "      <td>70</td>\n",
       "      <td>6</td>\n",
       "      <td>8.571429</td>\n",
       "    </tr>\n",
       "    <tr>\n",
       "      <th>2989</th>\n",
       "      <td>4101</td>\n",
       "      <td>6226</td>\n",
       "      <td>S1DZO-6b</td>\n",
       "      <td>94</td>\n",
       "      <td>99</td>\n",
       "      <td>-5</td>\n",
       "      <td>-5.050505</td>\n",
       "    </tr>\n",
       "  </tbody>\n",
       "</table>\n",
       "<p>2990 rows × 7 columns</p>\n",
       "</div>"
      ],
      "text/plain": [
       "      Unnamed: 0    id       abbr  affine_vox  transformixed_vox  change  \\\n",
       "0              0     1        VTM       21687              22646    -959   \n",
       "1              1     2   S1ULp-6b       35694              35116     578   \n",
       "2              2     3         sf       16015              16844    -829   \n",
       "3              3     4         IC       17323              17431    -108   \n",
       "4              4     6         ic      294831             278853   15978   \n",
       "...          ...   ...        ...         ...                ...     ...   \n",
       "2985        4097  6222  S1DZO-2/3         100                 81      19   \n",
       "2986        4098  6223    S1DZO-4          86                 96     -10   \n",
       "2987        4099  6224    S1DZO-5         460                384      76   \n",
       "2988        4100  6225   S1DZO-6a          76                 70       6   \n",
       "2989        4101  6226   S1DZO-6b          94                 99      -5   \n",
       "\n",
       "        percent  \n",
       "0     -4.234743  \n",
       "1      1.645973  \n",
       "2     -4.921634  \n",
       "3     -0.619586  \n",
       "4      5.729901  \n",
       "...         ...  \n",
       "2985  23.456790  \n",
       "2986 -10.416667  \n",
       "2987  19.791667  \n",
       "2988   8.571429  \n",
       "2989  -5.050505  \n",
       "\n",
       "[2990 rows x 7 columns]"
      ]
     },
     "execution_count": 133,
     "metadata": {},
     "output_type": "execute_result"
    }
   ],
   "source": [
    "df"
   ]
  },
  {
   "cell_type": "code",
   "execution_count": 186,
   "metadata": {},
   "outputs": [],
   "source": [
    "too = df.id\n",
    "zeroed = dfwithzero.id"
   ]
  },
  {
   "cell_type": "code",
   "execution_count": 187,
   "metadata": {},
   "outputs": [],
   "source": [
    "transformixed_relative = transformixed"
   ]
  },
  {
   "cell_type": "code",
   "execution_count": 217,
   "metadata": {},
   "outputs": [
    {
     "data": {
      "text/plain": [
       "10738"
      ]
     },
     "execution_count": 217,
     "metadata": {},
     "output_type": "execute_result"
    }
   ],
   "source": [
    "# add list of unique values not in twoxh/twoxl but in transformixed\n",
    "transformixed = tif.imread(transformixedfile)\n",
    "x = np.unique(testvol)\n",
    "np.size(x)"
   ]
  },
  {
   "cell_type": "code",
   "execution_count": 200,
   "metadata": {},
   "outputs": [
    {
     "data": {
      "text/plain": [
       "array([ 5, 13, 18, 24, 25, 29, 32, 40, 47, 49, 53, 57, 61, 69, 70, 72, 76,\n",
       "       77, 80], dtype=int16)"
      ]
     },
     "execution_count": 200,
     "metadata": {},
     "output_type": "execute_result"
    }
   ],
   "source": [
    "test = np.setdiff1d(x,too)\n",
    "test[1:20]"
   ]
  },
  {
   "cell_type": "code",
   "execution_count": 77,
   "metadata": {},
   "outputs": [],
   "source": [
    "for i in test:\n",
    "    transformixed_relative[transformixed_relative==i]=0"
   ]
  },
  {
   "cell_type": "code",
   "execution_count": 78,
   "metadata": {},
   "outputs": [],
   "source": [
    "tif.imsave(transformixed_relative_ZEROED_tiff,transformixed_relative)"
   ]
  },
  {
   "cell_type": "code",
   "execution_count": 79,
   "metadata": {},
   "outputs": [],
   "source": [
    "for i in too:\n",
    "    transformixed_relative[transformixed_relative==i]=df.loc[df['id']==i,'percent'].iloc[0]"
   ]
  },
  {
   "cell_type": "code",
   "execution_count": 80,
   "metadata": {},
   "outputs": [],
   "source": [
    "tif.imsave(transformixed_relative_tiff,transformixed_relative)"
   ]
  },
  {
   "cell_type": "markdown",
   "metadata": {},
   "source": [
    "# If you already have a percent file"
   ]
  },
  {
   "cell_type": "code",
   "execution_count": 81,
   "metadata": {},
   "outputs": [],
   "source": [
    "df=pd.read_csv(percentcsv)"
   ]
  },
  {
   "cell_type": "code",
   "execution_count": 82,
   "metadata": {},
   "outputs": [
    {
     "data": {
      "image/png": "[encoded data removed]",
      "text/plain": [
       "<Figure size 432x288 with 1 Axes>"
      ]
     },
     "metadata": {
      "needs_background": "light"
     },
     "output_type": "display_data"
    }
   ],
   "source": [
    "plt.hist(df.percent[df.affine_vox>5],bins=100)\n",
    "\n",
    "dfmean = np.nanmean(df.percent[df.affine_vox>5])\n",
    "dfmedian = np.nanmedian(df.percent[df.affine_vox>5])\n",
    "dfstd = np.std(df.percent[df.affine_vox>5])\n",
    "mp = dfmean + dfstd\n",
    "mm = dfmean - dfstd\n",
    "\n",
    "mp2 = dfmean + 2*dfstd\n",
    "mp3 = dfmean + 3*dfstd\n",
    "mm2 = dfmean - 2*dfstd\n",
    "mm3 = dfmean - 3*dfstd\n",
    "\n",
    "\n",
    "plt.plot([dfmean, dfmean],[0,25],'r')\n",
    "plt.plot([dfmedian, dfmedian],[0,25],'k')\n",
    "plt.plot([mp,mp],[0,25],'c')\n",
    "plt.plot([mm,mm],[0,25],'c')\n",
    "plt.plot([mp2,mp2],[0,25],'c')\n",
    "plt.plot([mm2,mm2],[0,25],'c')\n",
    "plt.show()"
   ]
  },
  {
   "cell_type": "code",
   "execution_count": 83,
   "metadata": {},
   "outputs": [
    {
     "data": {
      "text/html": [
       "<div>\n",
       "<style scoped>\n",
       "    .dataframe tbody tr th:only-of-type {\n",
       "        vertical-align: middle;\n",
       "    }\n",
       "\n",
       "    .dataframe tbody tr th {\n",
       "        vertical-align: top;\n",
       "    }\n",
       "\n",
       "    .dataframe thead th {\n",
       "        text-align: right;\n",
       "    }\n",
       "</style>\n",
       "<table border=\"1\" class=\"dataframe\">\n",
       "  <thead>\n",
       "    <tr style=\"text-align: right;\">\n",
       "      <th></th>\n",
       "      <th>Unnamed: 0</th>\n",
       "      <th>id</th>\n",
       "      <th>abbr</th>\n",
       "      <th>affine_vox</th>\n",
       "      <th>transformixed_vox</th>\n",
       "      <th>change</th>\n",
       "      <th>percent</th>\n",
       "    </tr>\n",
       "  </thead>\n",
       "  <tbody>\n",
       "    <tr>\n",
       "      <th>0</th>\n",
       "      <td>1</td>\n",
       "      <td>2</td>\n",
       "      <td>AIP</td>\n",
       "      <td>389370</td>\n",
       "      <td>370564</td>\n",
       "      <td>18806</td>\n",
       "      <td>5.074967</td>\n",
       "    </tr>\n",
       "    <tr>\n",
       "      <th>1</th>\n",
       "      <td>2</td>\n",
       "      <td>3</td>\n",
       "      <td>AIV</td>\n",
       "      <td>283199</td>\n",
       "      <td>281826</td>\n",
       "      <td>1373</td>\n",
       "      <td>0.487180</td>\n",
       "    </tr>\n",
       "    <tr>\n",
       "      <th>2</th>\n",
       "      <td>3</td>\n",
       "      <td>4</td>\n",
       "      <td>APir</td>\n",
       "      <td>258438</td>\n",
       "      <td>246453</td>\n",
       "      <td>11985</td>\n",
       "      <td>4.862996</td>\n",
       "    </tr>\n",
       "    <tr>\n",
       "      <th>3</th>\n",
       "      <td>4</td>\n",
       "      <td>5</td>\n",
       "      <td>Au1</td>\n",
       "      <td>634157</td>\n",
       "      <td>589051</td>\n",
       "      <td>45106</td>\n",
       "      <td>7.657401</td>\n",
       "    </tr>\n",
       "    <tr>\n",
       "      <th>4</th>\n",
       "      <td>5</td>\n",
       "      <td>6</td>\n",
       "      <td>AuD</td>\n",
       "      <td>310826</td>\n",
       "      <td>290206</td>\n",
       "      <td>20620</td>\n",
       "      <td>7.105298</td>\n",
       "    </tr>\n",
       "    <tr>\n",
       "      <th>...</th>\n",
       "      <td>...</td>\n",
       "      <td>...</td>\n",
       "      <td>...</td>\n",
       "      <td>...</td>\n",
       "      <td>...</td>\n",
       "      <td>...</td>\n",
       "      <td>...</td>\n",
       "    </tr>\n",
       "    <tr>\n",
       "      <th>149</th>\n",
       "      <td>150</td>\n",
       "      <td>132</td>\n",
       "      <td>FimbriaL</td>\n",
       "      <td>630631</td>\n",
       "      <td>658444</td>\n",
       "      <td>-27813</td>\n",
       "      <td>-4.224049</td>\n",
       "    </tr>\n",
       "    <tr>\n",
       "      <th>150</th>\n",
       "      <td>151</td>\n",
       "      <td>134</td>\n",
       "      <td>CorpColloL</td>\n",
       "      <td>988558</td>\n",
       "      <td>1045616</td>\n",
       "      <td>-57058</td>\n",
       "      <td>-5.456879</td>\n",
       "    </tr>\n",
       "    <tr>\n",
       "      <th>151</th>\n",
       "      <td>152</td>\n",
       "      <td>136</td>\n",
       "      <td>AmygL</td>\n",
       "      <td>1047422</td>\n",
       "      <td>990460</td>\n",
       "      <td>56962</td>\n",
       "      <td>5.751065</td>\n",
       "    </tr>\n",
       "    <tr>\n",
       "      <th>152</th>\n",
       "      <td>153</td>\n",
       "      <td>138</td>\n",
       "      <td>PreopAreaL</td>\n",
       "      <td>426088</td>\n",
       "      <td>422010</td>\n",
       "      <td>4078</td>\n",
       "      <td>0.966328</td>\n",
       "    </tr>\n",
       "    <tr>\n",
       "      <th>153</th>\n",
       "      <td>154</td>\n",
       "      <td>140</td>\n",
       "      <td>IsocorL</td>\n",
       "      <td>924815</td>\n",
       "      <td>959900</td>\n",
       "      <td>-35085</td>\n",
       "      <td>-3.655068</td>\n",
       "    </tr>\n",
       "  </tbody>\n",
       "</table>\n",
       "<p>154 rows × 7 columns</p>\n",
       "</div>"
      ],
      "text/plain": [
       "     Unnamed: 0   id        abbr  affine_vox  transformixed_vox  change  \\\n",
       "0             1    2        AIP       389370             370564   18806   \n",
       "1             2    3        AIV       283199             281826    1373   \n",
       "2             3    4       APir       258438             246453   11985   \n",
       "3             4    5        Au1       634157             589051   45106   \n",
       "4             5    6        AuD       310826             290206   20620   \n",
       "..          ...  ...         ...         ...                ...     ...   \n",
       "149         150  132    FimbriaL      630631             658444  -27813   \n",
       "150         151  134  CorpColloL      988558            1045616  -57058   \n",
       "151         152  136       AmygL     1047422             990460   56962   \n",
       "152         153  138  PreopAreaL      426088             422010    4078   \n",
       "153         154  140     IsocorL      924815             959900  -35085   \n",
       "\n",
       "      percent  \n",
       "0    5.074967  \n",
       "1    0.487180  \n",
       "2    4.862996  \n",
       "3    7.657401  \n",
       "4    7.105298  \n",
       "..        ...  \n",
       "149 -4.224049  \n",
       "150 -5.456879  \n",
       "151  5.751065  \n",
       "152  0.966328  \n",
       "153 -3.655068  \n",
       "\n",
       "[154 rows x 7 columns]"
      ]
     },
     "execution_count": 83,
     "metadata": {},
     "output_type": "execute_result"
    }
   ],
   "source": [
    "# want to make summary -- ideally show a ranked 3, 2, 1std>mean \n",
    "# in diff colors, and then the \n",
    "# values either written or in bar form on the right\n",
    "\n",
    "df"
   ]
  },
  {
   "cell_type": "code",
   "execution_count": 84,
   "metadata": {},
   "outputs": [],
   "source": [
    "df2p = df[df.percent>mp2]\n",
    "df2p = df2p.sort_values('percent',ascending=False)\n",
    "df2m = df[df.percent < mm2]\n",
    "df2m = df2m.sort_values('percent',ascending=False)"
   ]
  },
  {
   "cell_type": "code",
   "execution_count": 85,
   "metadata": {},
   "outputs": [
    {
     "data": {
      "text/html": [
       "<div>\n",
       "<style scoped>\n",
       "    .dataframe tbody tr th:only-of-type {\n",
       "        vertical-align: middle;\n",
       "    }\n",
       "\n",
       "    .dataframe tbody tr th {\n",
       "        vertical-align: top;\n",
       "    }\n",
       "\n",
       "    .dataframe thead th {\n",
       "        text-align: right;\n",
       "    }\n",
       "</style>\n",
       "<table border=\"1\" class=\"dataframe\">\n",
       "  <thead>\n",
       "    <tr style=\"text-align: right;\">\n",
       "      <th></th>\n",
       "      <th>Unnamed: 0</th>\n",
       "      <th>id</th>\n",
       "      <th>abbr</th>\n",
       "      <th>affine_vox</th>\n",
       "      <th>transformixed_vox</th>\n",
       "      <th>change</th>\n",
       "      <th>percent</th>\n",
       "    </tr>\n",
       "  </thead>\n",
       "  <tbody>\n",
       "    <tr>\n",
       "      <th>150</th>\n",
       "      <td>151</td>\n",
       "      <td>134</td>\n",
       "      <td>CorpColloL</td>\n",
       "      <td>988558</td>\n",
       "      <td>1045616</td>\n",
       "      <td>-57058</td>\n",
       "      <td>-5.456879</td>\n",
       "    </tr>\n",
       "    <tr>\n",
       "      <th>69</th>\n",
       "      <td>70</td>\n",
       "      <td>133</td>\n",
       "      <td>CorpCollo</td>\n",
       "      <td>1057553</td>\n",
       "      <td>1122489</td>\n",
       "      <td>-64936</td>\n",
       "      <td>-5.785001</td>\n",
       "    </tr>\n",
       "    <tr>\n",
       "      <th>146</th>\n",
       "      <td>147</td>\n",
       "      <td>126</td>\n",
       "      <td>HippFormL</td>\n",
       "      <td>2226512</td>\n",
       "      <td>2387175</td>\n",
       "      <td>-160663</td>\n",
       "      <td>-6.730256</td>\n",
       "    </tr>\n",
       "    <tr>\n",
       "      <th>77</th>\n",
       "      <td>78</td>\n",
       "      <td>149</td>\n",
       "      <td>Ventricles</td>\n",
       "      <td>52591</td>\n",
       "      <td>57498</td>\n",
       "      <td>-4907</td>\n",
       "      <td>-8.534210</td>\n",
       "    </tr>\n",
       "    <tr>\n",
       "      <th>65</th>\n",
       "      <td>66</td>\n",
       "      <td>125</td>\n",
       "      <td>HippForm</td>\n",
       "      <td>2269373</td>\n",
       "      <td>2482259</td>\n",
       "      <td>-212886</td>\n",
       "      <td>-8.576301</td>\n",
       "    </tr>\n",
       "    <tr>\n",
       "      <th>139</th>\n",
       "      <td>140</td>\n",
       "      <td>112</td>\n",
       "      <td>HindbrL</td>\n",
       "      <td>4298318</td>\n",
       "      <td>4762565</td>\n",
       "      <td>-464247</td>\n",
       "      <td>-9.747835</td>\n",
       "    </tr>\n",
       "    <tr>\n",
       "      <th>58</th>\n",
       "      <td>59</td>\n",
       "      <td>111</td>\n",
       "      <td>Hindbr</td>\n",
       "      <td>4091615</td>\n",
       "      <td>4604107</td>\n",
       "      <td>-512492</td>\n",
       "      <td>-11.131192</td>\n",
       "    </tr>\n",
       "  </tbody>\n",
       "</table>\n",
       "</div>"
      ],
      "text/plain": [
       "     Unnamed: 0   id        abbr  affine_vox  transformixed_vox  change  \\\n",
       "150         151  134  CorpColloL      988558            1045616  -57058   \n",
       "69           70  133   CorpCollo     1057553            1122489  -64936   \n",
       "146         147  126   HippFormL     2226512            2387175 -160663   \n",
       "77           78  149  Ventricles       52591              57498   -4907   \n",
       "65           66  125    HippForm     2269373            2482259 -212886   \n",
       "139         140  112     HindbrL     4298318            4762565 -464247   \n",
       "58           59  111      Hindbr     4091615            4604107 -512492   \n",
       "\n",
       "       percent  \n",
       "150  -5.456879  \n",
       "69   -5.785001  \n",
       "146  -6.730256  \n",
       "77   -8.534210  \n",
       "65   -8.576301  \n",
       "139  -9.747835  \n",
       "58  -11.131192  "
      ]
     },
     "execution_count": 85,
     "metadata": {},
     "output_type": "execute_result"
    }
   ],
   "source": [
    "df2m"
   ]
  },
  {
   "cell_type": "code",
   "execution_count": 86,
   "metadata": {},
   "outputs": [
    {
     "data": {
      "text/html": [
       "<div>\n",
       "<style scoped>\n",
       "    .dataframe tbody tr th:only-of-type {\n",
       "        vertical-align: middle;\n",
       "    }\n",
       "\n",
       "    .dataframe tbody tr th {\n",
       "        vertical-align: top;\n",
       "    }\n",
       "\n",
       "    .dataframe thead th {\n",
       "        text-align: right;\n",
       "    }\n",
       "</style>\n",
       "<table border=\"1\" class=\"dataframe\">\n",
       "  <thead>\n",
       "    <tr style=\"text-align: right;\">\n",
       "      <th></th>\n",
       "      <th>Unnamed: 0</th>\n",
       "      <th>id</th>\n",
       "      <th>abbr</th>\n",
       "      <th>affine_vox</th>\n",
       "      <th>transformixed_vox</th>\n",
       "      <th>change</th>\n",
       "      <th>percent</th>\n",
       "    </tr>\n",
       "  </thead>\n",
       "  <tbody>\n",
       "    <tr>\n",
       "      <th>118</th>\n",
       "      <td>119</td>\n",
       "      <td>87</td>\n",
       "      <td>S1ULpL</td>\n",
       "      <td>563086</td>\n",
       "      <td>493930</td>\n",
       "      <td>69156</td>\n",
       "      <td>14.001174</td>\n",
       "    </tr>\n",
       "    <tr>\n",
       "      <th>110</th>\n",
       "      <td>111</td>\n",
       "      <td>79</td>\n",
       "      <td>S1BFL</td>\n",
       "      <td>926206</td>\n",
       "      <td>818878</td>\n",
       "      <td>107328</td>\n",
       "      <td>13.106714</td>\n",
       "    </tr>\n",
       "    <tr>\n",
       "      <th>29</th>\n",
       "      <td>30</td>\n",
       "      <td>31</td>\n",
       "      <td>S1BF</td>\n",
       "      <td>897201</td>\n",
       "      <td>802626</td>\n",
       "      <td>94575</td>\n",
       "      <td>11.783197</td>\n",
       "    </tr>\n",
       "  </tbody>\n",
       "</table>\n",
       "</div>"
      ],
      "text/plain": [
       "     Unnamed: 0  id    abbr  affine_vox  transformixed_vox  change    percent\n",
       "118         119  87  S1ULpL      563086             493930   69156  14.001174\n",
       "110         111  79   S1BFL      926206             818878  107328  13.106714\n",
       "29           30  31   S1BF       897201             802626   94575  11.783197"
      ]
     },
     "execution_count": 86,
     "metadata": {},
     "output_type": "execute_result"
    }
   ],
   "source": [
    "df2p"
   ]
  },
  {
   "cell_type": "code",
   "execution_count": 87,
   "metadata": {},
   "outputs": [
    {
     "data": {
      "image/png": "[encoded data removed]",
      "text/plain": [
       "<Figure size 432x288 with 1 Axes>"
      ]
     },
     "metadata": {
      "needs_background": "light"
     },
     "output_type": "display_data"
    }
   ],
   "source": [
    "plt.bar(df2p.abbr,df2p.percent,color='r')\n",
    "plt.bar(df2m.abbr,df2m.percent,color='c')\n",
    "plt.xticks(rotation=90,fontsize=8)\n",
    "plt.ylim([-25,25])\n",
    "plt.show()"
   ]
  },
  {
   "cell_type": "code",
   "execution_count": 54,
   "metadata": {
    "scrolled": true
   },
   "outputs": [
    {
     "data": {
      "image/png": "[encoded data removed]",
      "text/plain": [
       "<Figure size 432x288 with 1 Axes>"
      ]
     },
     "metadata": {
      "needs_background": "light"
     },
     "output_type": "display_data"
    }
   ],
   "source": [
    "plt.bar(df2p.abbr,df2p.percent,color='r')\n",
    "plt.bar(df2m.abbr,df2m.percent,color='c')\n",
    "plt.xticks(rotation=90,fontsize=8)\n",
    "plt.ylim([-25,25])\n",
    "plt.show()"
   ]
  },
  {
   "cell_type": "code",
   "execution_count": null,
   "metadata": {},
   "outputs": [],
   "source": []
  }
 ],
 "metadata": {
  "kernelspec": {
   "display_name": "Python 3",
   "language": "python",
   "name": "python3"
  },
  "language_info": {
   "codemirror_mode": {
    "name": "ipython",
    "version": 3
   },
   "file_extension": ".py",
   "mimetype": "text/x-python",
   "name": "python",
   "nbconvert_exporter": "python",
   "pygments_lexer": "ipython3",
   "version": "3.8.3"
  }
 },
 "nbformat": 4,
 "nbformat_minor": 4
}

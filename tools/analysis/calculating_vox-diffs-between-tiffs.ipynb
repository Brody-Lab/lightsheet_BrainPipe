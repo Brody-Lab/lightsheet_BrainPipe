{
 "cells": [
  {
   "cell_type": "code",
   "execution_count": 2,
   "metadata": {},
   "outputs": [],
   "source": [
    "import os, sys, time\n",
    "import tifffile as tif\n",
    "sys.path.append(\"/home/emilyjanedennis/Desktop/GitHub/rat_BrainPipe\")\n",
    "from tools.utils.io import makedir\n",
    "from tools.registration.register import change_interpolation_order, transformix_command_line_call\n",
    "from tools.registration.transform_list_of_points import modify_transform_files\n",
    "from scipy.ndimage.interpolation import zoom\n",
    "import matplotlib.pyplot as plt\n",
    "import numpy as np\n",
    "import pandas as pd\n",
    "import csv"
   ]
  },
  {
   "cell_type": "markdown",
   "metadata": {},
   "source": [
    "# If you need to determine the percent voxel change between two images follow these steps first. \n",
    "\n",
    "## If you already have a \"percent.csv\" file, skip to next section"
   ]
  },
  {
   "cell_type": "code",
   "execution_count": 34,
   "metadata": {},
   "outputs": [],
   "source": [
    "src = \"/home/emilyjanedennis/Desktop/for_registration_to_lightsheet\"\n",
    "affinefile = os.path.join(src, \"output_dirs/Chon_PRA_affine_1/result.tif\")\n",
    "transformixedfile = os.path.join(src, \"output_dirs/Chon_1_PRA/result.tif\")\n",
    "annotationsfilename = os.path.join(src,\"labels/chon_label_ids.csv\")"
   ]
  },
  {
   "cell_type": "code",
   "execution_count": 35,
   "metadata": {},
   "outputs": [
    {
     "name": "stdout",
     "output_type": "stream",
     "text": [
      "read affine tiff\n",
      "read transformixed tiff\n"
     ]
    }
   ],
   "source": [
    "affine = tif.imread(affinefile)\n",
    "print(\"read affine tiff\")\n",
    "transformixed = tif.imread(transformixedfile)\n",
    "print(\"read transformixed tiff\")"
   ]
  },
  {
   "cell_type": "code",
   "execution_count": 36,
   "metadata": {},
   "outputs": [
    {
     "name": "stdout",
     "output_type": "stream",
     "text": [
      "read annotations\n"
     ]
    }
   ],
   "source": [
    "# make sure your annotations have the first column as id number, 2nd as abbreviation, or else change the input below\n",
    "anns=pd.read_csv(annotationsfilename,usecols=[0,1],header=0,names=['id','abbr'])\n",
    "print(\"read annotations\")"
   ]
  },
  {
   "cell_type": "code",
   "execution_count": 37,
   "metadata": {},
   "outputs": [
    {
     "data": {
      "text/html": [
       "<div>\n",
       "<style scoped>\n",
       "    .dataframe tbody tr th:only-of-type {\n",
       "        vertical-align: middle;\n",
       "    }\n",
       "\n",
       "    .dataframe tbody tr th {\n",
       "        vertical-align: top;\n",
       "    }\n",
       "\n",
       "    .dataframe thead th {\n",
       "        text-align: right;\n",
       "    }\n",
       "</style>\n",
       "<table border=\"1\" class=\"dataframe\">\n",
       "  <thead>\n",
       "    <tr style=\"text-align: right;\">\n",
       "      <th></th>\n",
       "      <th>id</th>\n",
       "      <th>abbr</th>\n",
       "    </tr>\n",
       "  </thead>\n",
       "  <tbody>\n",
       "    <tr>\n",
       "      <th>0</th>\n",
       "      <td>1</td>\n",
       "      <td>VTM</td>\n",
       "    </tr>\n",
       "    <tr>\n",
       "      <th>1</th>\n",
       "      <td>2</td>\n",
       "      <td>S1ULp-6b</td>\n",
       "    </tr>\n",
       "    <tr>\n",
       "      <th>2</th>\n",
       "      <td>3</td>\n",
       "      <td>sf</td>\n",
       "    </tr>\n",
       "    <tr>\n",
       "      <th>3</th>\n",
       "      <td>4</td>\n",
       "      <td>IC</td>\n",
       "    </tr>\n",
       "    <tr>\n",
       "      <th>4</th>\n",
       "      <td>6</td>\n",
       "      <td>ic</td>\n",
       "    </tr>\n",
       "    <tr>\n",
       "      <th>...</th>\n",
       "      <td>...</td>\n",
       "      <td>...</td>\n",
       "    </tr>\n",
       "    <tr>\n",
       "      <th>4284</th>\n",
       "      <td>58500</td>\n",
       "      <td>8Cb-mo</td>\n",
       "    </tr>\n",
       "    <tr>\n",
       "      <th>4285</th>\n",
       "      <td>59100</td>\n",
       "      <td>9Cb-gr</td>\n",
       "    </tr>\n",
       "    <tr>\n",
       "      <th>4286</th>\n",
       "      <td>58900</td>\n",
       "      <td>9Cb-mo</td>\n",
       "    </tr>\n",
       "    <tr>\n",
       "      <th>4287</th>\n",
       "      <td>59500</td>\n",
       "      <td>10Cb-gr</td>\n",
       "    </tr>\n",
       "    <tr>\n",
       "      <th>4288</th>\n",
       "      <td>59300</td>\n",
       "      <td>10Cb-mo</td>\n",
       "    </tr>\n",
       "  </tbody>\n",
       "</table>\n",
       "<p>4289 rows × 2 columns</p>\n",
       "</div>"
      ],
      "text/plain": [
       "         id      abbr\n",
       "0         1       VTM\n",
       "1         2  S1ULp-6b\n",
       "2         3        sf\n",
       "3         4        IC\n",
       "4         6        ic\n",
       "...     ...       ...\n",
       "4284  58500    8Cb-mo\n",
       "4285  59100    9Cb-gr\n",
       "4286  58900    9Cb-mo\n",
       "4287  59500   10Cb-gr\n",
       "4288  59300   10Cb-mo\n",
       "\n",
       "[4289 rows x 2 columns]"
      ]
     },
     "execution_count": 37,
     "metadata": {},
     "output_type": "execute_result"
    }
   ],
   "source": [
    "df=anns.dropna()\n",
    "df"
   ]
  },
  {
   "cell_type": "code",
   "execution_count": 38,
   "metadata": {},
   "outputs": [],
   "source": [
    "df.insert(2,'affine_vox',0)\n",
    "df.insert(3,'transformixed_vox',0)\n"
   ]
  },
  {
   "cell_type": "code",
   "execution_count": 39,
   "metadata": {
    "scrolled": true
   },
   "outputs": [
    {
     "name": "stderr",
     "output_type": "stream",
     "text": [
      "<ipython-input-39-ec990ef16611>:2: SettingWithCopyWarning: \n",
      "A value is trying to be set on a copy of a slice from a DataFrame\n",
      "\n",
      "See the caveats in the documentation: https://pandas.pydata.org/pandas-docs/stable/user_guide/indexing.html#returning-a-view-versus-a-copy\n",
      "  df.transformixed_vox[df.index[df.id==i]] = np.size(transformixed[transformixed==i])\n",
      "<ipython-input-39-ec990ef16611>:3: SettingWithCopyWarning: \n",
      "A value is trying to be set on a copy of a slice from a DataFrame\n",
      "\n",
      "See the caveats in the documentation: https://pandas.pydata.org/pandas-docs/stable/user_guide/indexing.html#returning-a-view-versus-a-copy\n",
      "  df.affine_vox[df.index[df.id==i]] = np.size(affine[affine==i])\n"
     ]
    }
   ],
   "source": [
    "for i in df['id']:\n",
    "    df.transformixed_vox[df.index[df.id==i]] = np.size(transformixed[transformixed==i])\n",
    "    df.affine_vox[df.index[df.id==i]] = np.size(affine[affine==i])\n"
   ]
  },
  {
   "cell_type": "code",
   "execution_count": 40,
   "metadata": {},
   "outputs": [
    {
     "data": {
      "text/html": [
       "<div>\n",
       "<style scoped>\n",
       "    .dataframe tbody tr th:only-of-type {\n",
       "        vertical-align: middle;\n",
       "    }\n",
       "\n",
       "    .dataframe tbody tr th {\n",
       "        vertical-align: top;\n",
       "    }\n",
       "\n",
       "    .dataframe thead th {\n",
       "        text-align: right;\n",
       "    }\n",
       "</style>\n",
       "<table border=\"1\" class=\"dataframe\">\n",
       "  <thead>\n",
       "    <tr style=\"text-align: right;\">\n",
       "      <th></th>\n",
       "      <th>id</th>\n",
       "      <th>abbr</th>\n",
       "      <th>affine_vox</th>\n",
       "      <th>transformixed_vox</th>\n",
       "    </tr>\n",
       "  </thead>\n",
       "  <tbody>\n",
       "    <tr>\n",
       "      <th>0</th>\n",
       "      <td>1</td>\n",
       "      <td>VTM</td>\n",
       "      <td>3966</td>\n",
       "      <td>4012</td>\n",
       "    </tr>\n",
       "    <tr>\n",
       "      <th>1</th>\n",
       "      <td>2</td>\n",
       "      <td>S1ULp-6b</td>\n",
       "      <td>58899</td>\n",
       "      <td>55267</td>\n",
       "    </tr>\n",
       "    <tr>\n",
       "      <th>2</th>\n",
       "      <td>3</td>\n",
       "      <td>sf</td>\n",
       "      <td>0</td>\n",
       "      <td>0</td>\n",
       "    </tr>\n",
       "    <tr>\n",
       "      <th>3</th>\n",
       "      <td>4</td>\n",
       "      <td>IC</td>\n",
       "      <td>0</td>\n",
       "      <td>0</td>\n",
       "    </tr>\n",
       "    <tr>\n",
       "      <th>4</th>\n",
       "      <td>6</td>\n",
       "      <td>ic</td>\n",
       "      <td>456051</td>\n",
       "      <td>427816</td>\n",
       "    </tr>\n",
       "    <tr>\n",
       "      <th>...</th>\n",
       "      <td>...</td>\n",
       "      <td>...</td>\n",
       "      <td>...</td>\n",
       "      <td>...</td>\n",
       "    </tr>\n",
       "    <tr>\n",
       "      <th>4284</th>\n",
       "      <td>58500</td>\n",
       "      <td>8Cb-mo</td>\n",
       "      <td>0</td>\n",
       "      <td>0</td>\n",
       "    </tr>\n",
       "    <tr>\n",
       "      <th>4285</th>\n",
       "      <td>59100</td>\n",
       "      <td>9Cb-gr</td>\n",
       "      <td>0</td>\n",
       "      <td>0</td>\n",
       "    </tr>\n",
       "    <tr>\n",
       "      <th>4286</th>\n",
       "      <td>58900</td>\n",
       "      <td>9Cb-mo</td>\n",
       "      <td>0</td>\n",
       "      <td>0</td>\n",
       "    </tr>\n",
       "    <tr>\n",
       "      <th>4287</th>\n",
       "      <td>59500</td>\n",
       "      <td>10Cb-gr</td>\n",
       "      <td>0</td>\n",
       "      <td>0</td>\n",
       "    </tr>\n",
       "    <tr>\n",
       "      <th>4288</th>\n",
       "      <td>59300</td>\n",
       "      <td>10Cb-mo</td>\n",
       "      <td>0</td>\n",
       "      <td>0</td>\n",
       "    </tr>\n",
       "  </tbody>\n",
       "</table>\n",
       "<p>4289 rows × 4 columns</p>\n",
       "</div>"
      ],
      "text/plain": [
       "         id      abbr  affine_vox  transformixed_vox\n",
       "0         1       VTM        3966               4012\n",
       "1         2  S1ULp-6b       58899              55267\n",
       "2         3        sf           0                  0\n",
       "3         4        IC           0                  0\n",
       "4         6        ic      456051             427816\n",
       "...     ...       ...         ...                ...\n",
       "4284  58500    8Cb-mo           0                  0\n",
       "4285  59100    9Cb-gr           0                  0\n",
       "4286  58900    9Cb-mo           0                  0\n",
       "4287  59500   10Cb-gr           0                  0\n",
       "4288  59300   10Cb-mo           0                  0\n",
       "\n",
       "[4289 rows x 4 columns]"
      ]
     },
     "execution_count": 40,
     "metadata": {},
     "output_type": "execute_result"
    }
   ],
   "source": [
    "df"
   ]
  },
  {
   "cell_type": "code",
   "execution_count": 41,
   "metadata": {
    "scrolled": true
   },
   "outputs": [],
   "source": [
    "df['change'] = df['affine_vox']-df['transformixed_vox']"
   ]
  },
  {
   "cell_type": "code",
   "execution_count": 42,
   "metadata": {},
   "outputs": [],
   "source": [
    "dfwithzero=df"
   ]
  },
  {
   "cell_type": "code",
   "execution_count": 43,
   "metadata": {},
   "outputs": [
    {
     "data": {
      "text/html": [
       "<div>\n",
       "<style scoped>\n",
       "    .dataframe tbody tr th:only-of-type {\n",
       "        vertical-align: middle;\n",
       "    }\n",
       "\n",
       "    .dataframe tbody tr th {\n",
       "        vertical-align: top;\n",
       "    }\n",
       "\n",
       "    .dataframe thead th {\n",
       "        text-align: right;\n",
       "    }\n",
       "</style>\n",
       "<table border=\"1\" class=\"dataframe\">\n",
       "  <thead>\n",
       "    <tr style=\"text-align: right;\">\n",
       "      <th></th>\n",
       "      <th>id</th>\n",
       "      <th>abbr</th>\n",
       "      <th>affine_vox</th>\n",
       "      <th>transformixed_vox</th>\n",
       "      <th>change</th>\n",
       "    </tr>\n",
       "  </thead>\n",
       "  <tbody>\n",
       "    <tr>\n",
       "      <th>0</th>\n",
       "      <td>1</td>\n",
       "      <td>VTM</td>\n",
       "      <td>3966</td>\n",
       "      <td>4012</td>\n",
       "      <td>-46</td>\n",
       "    </tr>\n",
       "    <tr>\n",
       "      <th>1</th>\n",
       "      <td>2</td>\n",
       "      <td>S1ULp-6b</td>\n",
       "      <td>58899</td>\n",
       "      <td>55267</td>\n",
       "      <td>3632</td>\n",
       "    </tr>\n",
       "    <tr>\n",
       "      <th>4</th>\n",
       "      <td>6</td>\n",
       "      <td>ic</td>\n",
       "      <td>456051</td>\n",
       "      <td>427816</td>\n",
       "      <td>28235</td>\n",
       "    </tr>\n",
       "    <tr>\n",
       "      <th>5</th>\n",
       "      <td>7</td>\n",
       "      <td>Pr5</td>\n",
       "      <td>51468</td>\n",
       "      <td>53286</td>\n",
       "      <td>-1818</td>\n",
       "    </tr>\n",
       "    <tr>\n",
       "      <th>7</th>\n",
       "      <td>9</td>\n",
       "      <td>S1Tr-6a</td>\n",
       "      <td>36807</td>\n",
       "      <td>40706</td>\n",
       "      <td>-3899</td>\n",
       "    </tr>\n",
       "    <tr>\n",
       "      <th>...</th>\n",
       "      <td>...</td>\n",
       "      <td>...</td>\n",
       "      <td>...</td>\n",
       "      <td>...</td>\n",
       "      <td>...</td>\n",
       "    </tr>\n",
       "    <tr>\n",
       "      <th>3767</th>\n",
       "      <td>2010</td>\n",
       "      <td>FrC3</td>\n",
       "      <td>28410</td>\n",
       "      <td>28258</td>\n",
       "      <td>152</td>\n",
       "    </tr>\n",
       "    <tr>\n",
       "      <th>4068</th>\n",
       "      <td>810</td>\n",
       "      <td>FrA-5</td>\n",
       "      <td>25593</td>\n",
       "      <td>26181</td>\n",
       "      <td>-588</td>\n",
       "    </tr>\n",
       "    <tr>\n",
       "      <th>4079</th>\n",
       "      <td>2040</td>\n",
       "      <td>FrC3-5</td>\n",
       "      <td>42111</td>\n",
       "      <td>41675</td>\n",
       "      <td>436</td>\n",
       "    </tr>\n",
       "    <tr>\n",
       "      <th>4080</th>\n",
       "      <td>2050</td>\n",
       "      <td>FrC3-6a</td>\n",
       "      <td>54567</td>\n",
       "      <td>45119</td>\n",
       "      <td>9448</td>\n",
       "    </tr>\n",
       "    <tr>\n",
       "      <th>4094</th>\n",
       "      <td>2060</td>\n",
       "      <td>FrC3-6b</td>\n",
       "      <td>30281</td>\n",
       "      <td>24543</td>\n",
       "      <td>5738</td>\n",
       "    </tr>\n",
       "  </tbody>\n",
       "</table>\n",
       "<p>1589 rows × 5 columns</p>\n",
       "</div>"
      ],
      "text/plain": [
       "        id      abbr  affine_vox  transformixed_vox  change\n",
       "0        1       VTM        3966               4012     -46\n",
       "1        2  S1ULp-6b       58899              55267    3632\n",
       "4        6        ic      456051             427816   28235\n",
       "5        7       Pr5       51468              53286   -1818\n",
       "7        9   S1Tr-6a       36807              40706   -3899\n",
       "...    ...       ...         ...                ...     ...\n",
       "3767  2010      FrC3       28410              28258     152\n",
       "4068   810     FrA-5       25593              26181    -588\n",
       "4079  2040    FrC3-5       42111              41675     436\n",
       "4080  2050   FrC3-6a       54567              45119    9448\n",
       "4094  2060   FrC3-6b       30281              24543    5738\n",
       "\n",
       "[1589 rows x 5 columns]"
      ]
     },
     "execution_count": 43,
     "metadata": {},
     "output_type": "execute_result"
    }
   ],
   "source": [
    "df = df[df.transformixed_vox > 0]\n",
    "df"
   ]
  },
  {
   "cell_type": "code",
   "execution_count": 44,
   "metadata": {},
   "outputs": [
    {
     "name": "stderr",
     "output_type": "stream",
     "text": [
      "<ipython-input-44-fce1c83d1c49>:3: SettingWithCopyWarning: \n",
      "A value is trying to be set on a copy of a slice from a DataFrame.\n",
      "Try using .loc[row_indexer,col_indexer] = value instead\n",
      "\n",
      "See the caveats in the documentation: https://pandas.pydata.org/pandas-docs/stable/user_guide/indexing.html#returning-a-view-versus-a-copy\n",
      "  df['percent'] = dfpercent\n"
     ]
    },
    {
     "data": {
      "text/plain": [
       "0       -1.146560\n",
       "1        6.571734\n",
       "4        6.599800\n",
       "5       -3.411778\n",
       "7       -9.578441\n",
       "          ...    \n",
       "3767     0.537901\n",
       "4068    -2.245904\n",
       "4079     1.046191\n",
       "4080    20.940180\n",
       "4094    23.379375\n",
       "Length: 1589, dtype: float64"
      ]
     },
     "execution_count": 44,
     "metadata": {},
     "output_type": "execute_result"
    }
   ],
   "source": [
    "dfpercent = (df['change']/df['transformixed_vox'])*100\n",
    "dfpercent[np.isinf(dfpercent)]=0\n",
    "df['percent'] = dfpercent\n",
    "dfpercent.replace(0,np.nan)"
   ]
  },
  {
   "cell_type": "code",
   "execution_count": 45,
   "metadata": {},
   "outputs": [
    {
     "data": {
      "image/png": "[encoded data removed]",
      "text/plain": [
       "<Figure size 432x288 with 1 Axes>"
      ]
     },
     "metadata": {
      "needs_background": "light"
     },
     "output_type": "display_data"
    }
   ],
   "source": [
    "plt.hist(df.percent,bins=100)\n",
    "plt.show()"
   ]
  },
  {
   "cell_type": "code",
   "execution_count": 46,
   "metadata": {},
   "outputs": [],
   "source": [
    "mp = np.nanmedian(df.percent)\n",
    "sp = np.nanstd(df.percent)"
   ]
  },
  {
   "cell_type": "code",
   "execution_count": 47,
   "metadata": {},
   "outputs": [
    {
     "data": {
      "text/plain": [
       "6.041034408049766"
      ]
     },
     "execution_count": 47,
     "metadata": {},
     "output_type": "execute_result"
    }
   ],
   "source": [
    "highmp = mp+sp\n",
    "highmp"
   ]
  },
  {
   "cell_type": "code",
   "execution_count": 48,
   "metadata": {},
   "outputs": [
    {
     "data": {
      "text/plain": [
       "-9.831121871606618"
      ]
     },
     "execution_count": 48,
     "metadata": {},
     "output_type": "execute_result"
    }
   ],
   "source": [
    "lowmp = mp-sp\n",
    "lowmp"
   ]
  },
  {
   "cell_type": "code",
   "execution_count": 50,
   "metadata": {},
   "outputs": [],
   "source": [
    "percentcsv=\"/home/emilyjanedennis/Desktop/percent.csv\"\n",
    "df.to_csv(percentcsv)"
   ]
  },
  {
   "cell_type": "code",
   "execution_count": 51,
   "metadata": {},
   "outputs": [],
   "source": [
    "df=pd.read_csv(percentcsv)"
   ]
  },
  {
   "cell_type": "code",
   "execution_count": 52,
   "metadata": {
    "scrolled": true
   },
   "outputs": [
    {
     "data": {
      "text/html": [
       "<div>\n",
       "<style scoped>\n",
       "    .dataframe tbody tr th:only-of-type {\n",
       "        vertical-align: middle;\n",
       "    }\n",
       "\n",
       "    .dataframe tbody tr th {\n",
       "        vertical-align: top;\n",
       "    }\n",
       "\n",
       "    .dataframe thead th {\n",
       "        text-align: right;\n",
       "    }\n",
       "</style>\n",
       "<table border=\"1\" class=\"dataframe\">\n",
       "  <thead>\n",
       "    <tr style=\"text-align: right;\">\n",
       "      <th></th>\n",
       "      <th>Unnamed: 0</th>\n",
       "      <th>id</th>\n",
       "      <th>abbr</th>\n",
       "      <th>affine_vox</th>\n",
       "      <th>transformixed_vox</th>\n",
       "      <th>change</th>\n",
       "      <th>percent</th>\n",
       "    </tr>\n",
       "  </thead>\n",
       "  <tbody>\n",
       "    <tr>\n",
       "      <th>0</th>\n",
       "      <td>0</td>\n",
       "      <td>1</td>\n",
       "      <td>VTM</td>\n",
       "      <td>3966</td>\n",
       "      <td>4012</td>\n",
       "      <td>-46</td>\n",
       "      <td>-1.146560</td>\n",
       "    </tr>\n",
       "    <tr>\n",
       "      <th>1</th>\n",
       "      <td>1</td>\n",
       "      <td>2</td>\n",
       "      <td>S1ULp-6b</td>\n",
       "      <td>58899</td>\n",
       "      <td>55267</td>\n",
       "      <td>3632</td>\n",
       "      <td>6.571734</td>\n",
       "    </tr>\n",
       "    <tr>\n",
       "      <th>2</th>\n",
       "      <td>4</td>\n",
       "      <td>6</td>\n",
       "      <td>ic</td>\n",
       "      <td>456051</td>\n",
       "      <td>427816</td>\n",
       "      <td>28235</td>\n",
       "      <td>6.599800</td>\n",
       "    </tr>\n",
       "    <tr>\n",
       "      <th>3</th>\n",
       "      <td>5</td>\n",
       "      <td>7</td>\n",
       "      <td>Pr5</td>\n",
       "      <td>51468</td>\n",
       "      <td>53286</td>\n",
       "      <td>-1818</td>\n",
       "      <td>-3.411778</td>\n",
       "    </tr>\n",
       "    <tr>\n",
       "      <th>4</th>\n",
       "      <td>7</td>\n",
       "      <td>9</td>\n",
       "      <td>S1Tr-6a</td>\n",
       "      <td>36807</td>\n",
       "      <td>40706</td>\n",
       "      <td>-3899</td>\n",
       "      <td>-9.578441</td>\n",
       "    </tr>\n",
       "    <tr>\n",
       "      <th>...</th>\n",
       "      <td>...</td>\n",
       "      <td>...</td>\n",
       "      <td>...</td>\n",
       "      <td>...</td>\n",
       "      <td>...</td>\n",
       "      <td>...</td>\n",
       "      <td>...</td>\n",
       "    </tr>\n",
       "    <tr>\n",
       "      <th>1584</th>\n",
       "      <td>3767</td>\n",
       "      <td>2010</td>\n",
       "      <td>FrC3</td>\n",
       "      <td>28410</td>\n",
       "      <td>28258</td>\n",
       "      <td>152</td>\n",
       "      <td>0.537901</td>\n",
       "    </tr>\n",
       "    <tr>\n",
       "      <th>1585</th>\n",
       "      <td>4068</td>\n",
       "      <td>810</td>\n",
       "      <td>FrA-5</td>\n",
       "      <td>25593</td>\n",
       "      <td>26181</td>\n",
       "      <td>-588</td>\n",
       "      <td>-2.245904</td>\n",
       "    </tr>\n",
       "    <tr>\n",
       "      <th>1586</th>\n",
       "      <td>4079</td>\n",
       "      <td>2040</td>\n",
       "      <td>FrC3-5</td>\n",
       "      <td>42111</td>\n",
       "      <td>41675</td>\n",
       "      <td>436</td>\n",
       "      <td>1.046191</td>\n",
       "    </tr>\n",
       "    <tr>\n",
       "      <th>1587</th>\n",
       "      <td>4080</td>\n",
       "      <td>2050</td>\n",
       "      <td>FrC3-6a</td>\n",
       "      <td>54567</td>\n",
       "      <td>45119</td>\n",
       "      <td>9448</td>\n",
       "      <td>20.940180</td>\n",
       "    </tr>\n",
       "    <tr>\n",
       "      <th>1588</th>\n",
       "      <td>4094</td>\n",
       "      <td>2060</td>\n",
       "      <td>FrC3-6b</td>\n",
       "      <td>30281</td>\n",
       "      <td>24543</td>\n",
       "      <td>5738</td>\n",
       "      <td>23.379375</td>\n",
       "    </tr>\n",
       "  </tbody>\n",
       "</table>\n",
       "<p>1589 rows × 7 columns</p>\n",
       "</div>"
      ],
      "text/plain": [
       "      Unnamed: 0    id      abbr  affine_vox  transformixed_vox  change  \\\n",
       "0              0     1       VTM        3966               4012     -46   \n",
       "1              1     2  S1ULp-6b       58899              55267    3632   \n",
       "2              4     6        ic      456051             427816   28235   \n",
       "3              5     7       Pr5       51468              53286   -1818   \n",
       "4              7     9   S1Tr-6a       36807              40706   -3899   \n",
       "...          ...   ...       ...         ...                ...     ...   \n",
       "1584        3767  2010      FrC3       28410              28258     152   \n",
       "1585        4068   810     FrA-5       25593              26181    -588   \n",
       "1586        4079  2040    FrC3-5       42111              41675     436   \n",
       "1587        4080  2050   FrC3-6a       54567              45119    9448   \n",
       "1588        4094  2060   FrC3-6b       30281              24543    5738   \n",
       "\n",
       "        percent  \n",
       "0     -1.146560  \n",
       "1      6.571734  \n",
       "2      6.599800  \n",
       "3     -3.411778  \n",
       "4     -9.578441  \n",
       "...         ...  \n",
       "1584   0.537901  \n",
       "1585  -2.245904  \n",
       "1586   1.046191  \n",
       "1587  20.940180  \n",
       "1588  23.379375  \n",
       "\n",
       "[1589 rows x 7 columns]"
      ]
     },
     "execution_count": 52,
     "metadata": {},
     "output_type": "execute_result"
    }
   ],
   "source": [
    "df"
   ]
  },
  {
   "cell_type": "code",
   "execution_count": 53,
   "metadata": {},
   "outputs": [],
   "source": [
    "too = df.id\n",
    "zeroed = dfwithzero.id"
   ]
  },
  {
   "cell_type": "code",
   "execution_count": 54,
   "metadata": {},
   "outputs": [],
   "source": [
    "transformixed_relative = transformixed"
   ]
  },
  {
   "cell_type": "code",
   "execution_count": 55,
   "metadata": {},
   "outputs": [
    {
     "data": {
      "image/png": "[encoded data removed]",
      "text/plain": [
       "<Figure size 432x288 with 1 Axes>"
      ]
     },
     "metadata": {
      "needs_background": "light"
     },
     "output_type": "display_data"
    }
   ],
   "source": [
    "# add list of unique values not in twoxh/twoxl but in transformixed\n",
    "x = np.unique(affine)\n",
    "plt.hist(x,bins=1000)\n",
    "plt.show()"
   ]
  },
  {
   "cell_type": "code",
   "execution_count": 56,
   "metadata": {},
   "outputs": [
    {
     "data": {
      "text/plain": [
       "array([], dtype=int16)"
      ]
     },
     "execution_count": 56,
     "metadata": {},
     "output_type": "execute_result"
    }
   ],
   "source": [
    "test = np.setdiff1d(x,too)\n",
    "test[1:20]"
   ]
  },
  {
   "cell_type": "code",
   "execution_count": 57,
   "metadata": {},
   "outputs": [],
   "source": [
    "for i in test:\n",
    "    transformixed_relative[transformixed_relative==i]=0"
   ]
  },
  {
   "cell_type": "code",
   "execution_count": null,
   "metadata": {},
   "outputs": [],
   "source": []
  },
  {
   "cell_type": "code",
   "execution_count": 58,
   "metadata": {},
   "outputs": [],
   "source": [
    "for i in too:\n",
    "    transformixed_relative[transformixed_relative==i]=df.loc[df['id']==i,'percent'].iloc[0]"
   ]
  },
  {
   "cell_type": "code",
   "execution_count": 59,
   "metadata": {},
   "outputs": [],
   "source": [
    "tif.imsave(\"/home/emilyjanedennis/Desktop/transformixed_relative_tiff.tiff\",transformixed_relative)"
   ]
  },
  {
   "cell_type": "markdown",
   "metadata": {},
   "source": [
    "# If you already have a percent file"
   ]
  },
  {
   "cell_type": "code",
   "execution_count": 60,
   "metadata": {},
   "outputs": [],
   "source": [
    "df=pd.read_csv(percentcsv)"
   ]
  },
  {
   "cell_type": "code",
   "execution_count": 61,
   "metadata": {},
   "outputs": [
    {
     "data": {
      "image/png": "[encoded data removed]",
      "text/plain": [
       "<Figure size 432x288 with 1 Axes>"
      ]
     },
     "metadata": {
      "needs_background": "light"
     },
     "output_type": "display_data"
    }
   ],
   "source": [
    "plt.hist(df.percent[df.affine_vox>5],bins=100)\n",
    "\n",
    "dfmean = np.nanmean(df.percent[df.affine_vox>5])\n",
    "dfmedian = np.nanmedian(df.percent[df.affine_vox>5])\n",
    "dfstd = np.std(df.percent[df.affine_vox>5])\n",
    "mp = dfmean + dfstd\n",
    "mm = dfmean - dfstd\n",
    "\n",
    "mp2 = dfmean + 2*dfstd\n",
    "mp3 = dfmean + 3*dfstd\n",
    "mm2 = dfmean - 2*dfstd\n",
    "mm3 = dfmean - 3*dfstd\n",
    "\n",
    "\n",
    "plt.plot([dfmean, dfmean],[0,25],'r')\n",
    "plt.plot([dfmedian, dfmedian],[0,25],'k')\n",
    "plt.plot([mp,mp],[0,25],'c')\n",
    "plt.plot([mm,mm],[0,25],'c')\n",
    "plt.plot([mp2,mp2],[0,25],'c')\n",
    "plt.plot([mm2,mm2],[0,25],'c')\n",
    "plt.show()"
   ]
  },
  {
   "cell_type": "code",
   "execution_count": 62,
   "metadata": {},
   "outputs": [
    {
     "data": {
      "text/html": [
       "<div>\n",
       "<style scoped>\n",
       "    .dataframe tbody tr th:only-of-type {\n",
       "        vertical-align: middle;\n",
       "    }\n",
       "\n",
       "    .dataframe tbody tr th {\n",
       "        vertical-align: top;\n",
       "    }\n",
       "\n",
       "    .dataframe thead th {\n",
       "        text-align: right;\n",
       "    }\n",
       "</style>\n",
       "<table border=\"1\" class=\"dataframe\">\n",
       "  <thead>\n",
       "    <tr style=\"text-align: right;\">\n",
       "      <th></th>\n",
       "      <th>Unnamed: 0</th>\n",
       "      <th>id</th>\n",
       "      <th>abbr</th>\n",
       "      <th>affine_vox</th>\n",
       "      <th>transformixed_vox</th>\n",
       "      <th>change</th>\n",
       "      <th>percent</th>\n",
       "    </tr>\n",
       "  </thead>\n",
       "  <tbody>\n",
       "    <tr>\n",
       "      <th>0</th>\n",
       "      <td>0</td>\n",
       "      <td>1</td>\n",
       "      <td>VTM</td>\n",
       "      <td>3966</td>\n",
       "      <td>4012</td>\n",
       "      <td>-46</td>\n",
       "      <td>-1.146560</td>\n",
       "    </tr>\n",
       "    <tr>\n",
       "      <th>1</th>\n",
       "      <td>1</td>\n",
       "      <td>2</td>\n",
       "      <td>S1ULp-6b</td>\n",
       "      <td>58899</td>\n",
       "      <td>55267</td>\n",
       "      <td>3632</td>\n",
       "      <td>6.571734</td>\n",
       "    </tr>\n",
       "    <tr>\n",
       "      <th>2</th>\n",
       "      <td>4</td>\n",
       "      <td>6</td>\n",
       "      <td>ic</td>\n",
       "      <td>456051</td>\n",
       "      <td>427816</td>\n",
       "      <td>28235</td>\n",
       "      <td>6.599800</td>\n",
       "    </tr>\n",
       "    <tr>\n",
       "      <th>3</th>\n",
       "      <td>5</td>\n",
       "      <td>7</td>\n",
       "      <td>Pr5</td>\n",
       "      <td>51468</td>\n",
       "      <td>53286</td>\n",
       "      <td>-1818</td>\n",
       "      <td>-3.411778</td>\n",
       "    </tr>\n",
       "    <tr>\n",
       "      <th>4</th>\n",
       "      <td>7</td>\n",
       "      <td>9</td>\n",
       "      <td>S1Tr-6a</td>\n",
       "      <td>36807</td>\n",
       "      <td>40706</td>\n",
       "      <td>-3899</td>\n",
       "      <td>-9.578441</td>\n",
       "    </tr>\n",
       "    <tr>\n",
       "      <th>...</th>\n",
       "      <td>...</td>\n",
       "      <td>...</td>\n",
       "      <td>...</td>\n",
       "      <td>...</td>\n",
       "      <td>...</td>\n",
       "      <td>...</td>\n",
       "      <td>...</td>\n",
       "    </tr>\n",
       "    <tr>\n",
       "      <th>1584</th>\n",
       "      <td>3767</td>\n",
       "      <td>2010</td>\n",
       "      <td>FrC3</td>\n",
       "      <td>28410</td>\n",
       "      <td>28258</td>\n",
       "      <td>152</td>\n",
       "      <td>0.537901</td>\n",
       "    </tr>\n",
       "    <tr>\n",
       "      <th>1585</th>\n",
       "      <td>4068</td>\n",
       "      <td>810</td>\n",
       "      <td>FrA-5</td>\n",
       "      <td>25593</td>\n",
       "      <td>26181</td>\n",
       "      <td>-588</td>\n",
       "      <td>-2.245904</td>\n",
       "    </tr>\n",
       "    <tr>\n",
       "      <th>1586</th>\n",
       "      <td>4079</td>\n",
       "      <td>2040</td>\n",
       "      <td>FrC3-5</td>\n",
       "      <td>42111</td>\n",
       "      <td>41675</td>\n",
       "      <td>436</td>\n",
       "      <td>1.046191</td>\n",
       "    </tr>\n",
       "    <tr>\n",
       "      <th>1587</th>\n",
       "      <td>4080</td>\n",
       "      <td>2050</td>\n",
       "      <td>FrC3-6a</td>\n",
       "      <td>54567</td>\n",
       "      <td>45119</td>\n",
       "      <td>9448</td>\n",
       "      <td>20.940180</td>\n",
       "    </tr>\n",
       "    <tr>\n",
       "      <th>1588</th>\n",
       "      <td>4094</td>\n",
       "      <td>2060</td>\n",
       "      <td>FrC3-6b</td>\n",
       "      <td>30281</td>\n",
       "      <td>24543</td>\n",
       "      <td>5738</td>\n",
       "      <td>23.379375</td>\n",
       "    </tr>\n",
       "  </tbody>\n",
       "</table>\n",
       "<p>1589 rows × 7 columns</p>\n",
       "</div>"
      ],
      "text/plain": [
       "      Unnamed: 0    id      abbr  affine_vox  transformixed_vox  change  \\\n",
       "0              0     1       VTM        3966               4012     -46   \n",
       "1              1     2  S1ULp-6b       58899              55267    3632   \n",
       "2              4     6        ic      456051             427816   28235   \n",
       "3              5     7       Pr5       51468              53286   -1818   \n",
       "4              7     9   S1Tr-6a       36807              40706   -3899   \n",
       "...          ...   ...       ...         ...                ...     ...   \n",
       "1584        3767  2010      FrC3       28410              28258     152   \n",
       "1585        4068   810     FrA-5       25593              26181    -588   \n",
       "1586        4079  2040    FrC3-5       42111              41675     436   \n",
       "1587        4080  2050   FrC3-6a       54567              45119    9448   \n",
       "1588        4094  2060   FrC3-6b       30281              24543    5738   \n",
       "\n",
       "        percent  \n",
       "0     -1.146560  \n",
       "1      6.571734  \n",
       "2      6.599800  \n",
       "3     -3.411778  \n",
       "4     -9.578441  \n",
       "...         ...  \n",
       "1584   0.537901  \n",
       "1585  -2.245904  \n",
       "1586   1.046191  \n",
       "1587  20.940180  \n",
       "1588  23.379375  \n",
       "\n",
       "[1589 rows x 7 columns]"
      ]
     },
     "execution_count": 62,
     "metadata": {},
     "output_type": "execute_result"
    }
   ],
   "source": [
    "# want to make summary -- ideally show a ranked 3, 2, 1std>mean \n",
    "# in diff colors, and then the \n",
    "# values either written or in bar form on the right\n",
    "\n",
    "df"
   ]
  },
  {
   "cell_type": "code",
   "execution_count": 63,
   "metadata": {},
   "outputs": [],
   "source": [
    "df2p = df[df.percent>mp2]\n",
    "df2p = df2p.sort_values('percent',ascending=False)\n",
    "df2m = df[df.percent < mm2]\n",
    "df2m = df2m.sort_values('percent',ascending=False)"
   ]
  },
  {
   "cell_type": "code",
   "execution_count": 74,
   "metadata": {},
   "outputs": [],
   "source": [
    "df2m=df2m.drop_duplicates('id')"
   ]
  },
  {
   "cell_type": "code",
   "execution_count": 75,
   "metadata": {},
   "outputs": [],
   "source": [
    "df2p=df2p.drop_duplicates('id')"
   ]
  },
  {
   "cell_type": "code",
   "execution_count": 77,
   "metadata": {},
   "outputs": [
    {
     "data": {
      "image/png": "[encoded data removed]",
      "text/plain": [
       "<Figure size 432x288 with 1 Axes>"
      ]
     },
     "metadata": {
      "needs_background": "light"
     },
     "output_type": "display_data"
    }
   ],
   "source": [
    "plt.bar(df2p.abbr,df2p.percent,color='r')\n",
    "plt.bar(df2m.abbr,df2m.percent,color='c')\n",
    "plt.xticks(rotation=90,fontsize=6)\n",
    "plt.ylim([-25,25])\n",
    "plt.show()"
   ]
  },
  {
   "cell_type": "code",
   "execution_count": null,
   "metadata": {},
   "outputs": [],
   "source": []
  }
 ],
 "metadata": {
  "kernelspec": {
   "display_name": "Python 3",
   "language": "python",
   "name": "python3"
  },
  "language_info": {
   "codemirror_mode": {
    "name": "ipython",
    "version": 3
   },
   "file_extension": ".py",
   "mimetype": "text/x-python",
   "name": "python",
   "nbconvert_exporter": "python",
   "pygments_lexer": "ipython3",
   "version": "3.7.4"
  }
 },
 "nbformat": 4,
 "nbformat_minor": 4
}

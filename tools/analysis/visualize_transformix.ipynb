{
 "cells": [
  {
   "cell_type": "markdown",
   "metadata": {},
   "source": [
    "# Purpose\n",
    "The goal of this notebook is to try out visualizing the transformations happening during warping brains to the atlas -- I'm particularly interested in using this to look at the rat/mouse comparisons and eventually breaking down by brain region but for now I'm just trying it with an existing e137 brain\n",
    "\n",
    "# TODO \n",
    "everything"
   ]
  },
  {
   "cell_type": "code",
   "execution_count": 1,
   "metadata": {},
   "outputs": [],
   "source": [
    "import os, sys, time\n",
    "import tifffile as tif\n",
    "sys.path.append(\"/home/emilyjanedennis/Desktop/GitHub/rat_BrainPipe\")\n",
    "from scipy.ndimage.interpolation import zoom\n",
    "import numpy as np\n",
    "import pandas as pd\n",
    "import matplotlib.pyplot as plt"
   ]
  },
  {
   "cell_type": "code",
   "execution_count": 2,
   "metadata": {},
   "outputs": [],
   "source": [
    "# set paths\n",
    "\n",
    "#  transform parameter from affine transform, may use this later\n",
    "affine0 = \"/home/emilyjanedennis/Desktop/brains/e137/TransformParameters.0.txt\"\n",
    "\n",
    "# mv image used\n",
    "mvfile = \"/home/emilyjanedennis/Desktop/for_registration_to_lightsheet/median_image.tif\"\n",
    "# fx image used\n",
    "fxfile = \"/home/emilyjanedennis/Desktop/for_registration_to_lightsheet/PMA.tif\""
   ]
  },
  {
   "cell_type": "code",
   "execution_count": 3,
   "metadata": {},
   "outputs": [],
   "source": [
    "# make a grid the same size as the mv image you used\n",
    "# first find size of image you used\n",
    "# need to make annotation larger (~140% of atlas?) to transform to PRA\n",
    "mvvol = tif.imread(mvfile)\n",
    "fxvol = tif.imread(fxfile)\n",
    "zm, ym, xm = (mvvol.shape[0], mvvol.shape[1], mvvol.shape[2])\n",
    "zf, yf, xf = (fxvol.shape[0], fxvol.shape[1], fxvol.shape[2])"
   ]
  },
  {
   "cell_type": "code",
   "execution_count": 4,
   "metadata": {},
   "outputs": [],
   "source": [
    "# try different resolutions of grids\n",
    "# make two different one d arrays\n",
    "m = np.zeros([zm,ym,xm])"
   ]
  },
  {
   "cell_type": "code",
   "execution_count": 16,
   "metadata": {},
   "outputs": [
    {
     "data": {
      "text/plain": [
       "390"
      ]
     },
     "execution_count": 16,
     "metadata": {},
     "output_type": "execute_result"
    }
   ],
   "source": [
    "xsp = 10\n",
    "xsubvector=np.repeat(0,xsp-1)\n",
    "xsubvector = np.concatenate(([1],xsubvector),axis=0)\n",
    "xlength = np.floor(xm/xsp)\n",
    "xvector = np.tile(xsubvector,xlength.astype(int))\n",
    "(xvector.shape[0])"
   ]
  },
  {
   "cell_type": "code",
   "execution_count": 17,
   "metadata": {},
   "outputs": [],
   "source": [
    "for i in range(0,zm):\n",
    "    if i in np.arange(0,zm,xsp):\n",
    "        m[i,:,:] = np.ones([ym,xm])\n",
    "    else:\n",
    "        for j in range(0,ym):\n",
    "            if j in np.arange(0,ym,xsp):\n",
    "                m[i,j,:]=np.ones(xm)\n",
    "            else:\n",
    "                m[i,j,0:xvector.shape[0]]=xvector\n"
   ]
  },
  {
   "cell_type": "code",
   "execution_count": 18,
   "metadata": {},
   "outputs": [],
   "source": [
    "tif.imsave('/home/emilyjanedennis/Desktop/for_registration_to_lightsheet/10grid.tif',m.astype('int32'))"
   ]
  },
  {
   "cell_type": "code",
   "execution_count": 117,
   "metadata": {},
   "outputs": [
    {
     "data": {
      "text/plain": [
       "array([[1., 1., 1., ..., 1., 1., 1.],\n",
       "       [1., 1., 1., ..., 1., 1., 1.],\n",
       "       [1., 1., 1., ..., 1., 1., 1.],\n",
       "       ...,\n",
       "       [1., 1., 1., ..., 1., 1., 1.],\n",
       "       [1., 1., 1., ..., 1., 1., 1.],\n",
       "       [1., 1., 1., ..., 1., 1., 1.]])"
      ]
     },
     "execution_count": 117,
     "metadata": {},
     "output_type": "execute_result"
    }
   ],
   "source": []
  },
  {
   "cell_type": "code",
   "execution_count": null,
   "metadata": {},
   "outputs": [],
   "source": []
  },
  {
   "cell_type": "code",
   "execution_count": null,
   "metadata": {},
   "outputs": [],
   "source": []
  },
  {
   "cell_type": "code",
   "execution_count": null,
   "metadata": {},
   "outputs": [],
   "source": []
  },
  {
   "cell_type": "code",
   "execution_count": null,
   "metadata": {},
   "outputs": [],
   "source": []
  }
 ],
 "metadata": {
  "kernelspec": {
   "display_name": "Python 3",
   "language": "python",
   "name": "python3"
  },
  "language_info": {
   "codemirror_mode": {
    "name": "ipython",
    "version": 3
   },
   "file_extension": ".py",
   "mimetype": "text/x-python",
   "name": "python",
   "nbconvert_exporter": "python",
   "pygments_lexer": "ipython3",
   "version": "3.8.3"
  }
 },
 "nbformat": 4,
 "nbformat_minor": 4
}

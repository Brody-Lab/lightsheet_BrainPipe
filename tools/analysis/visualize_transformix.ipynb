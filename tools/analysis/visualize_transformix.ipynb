{
 "cells": [
  {
   "cell_type": "markdown",
   "metadata": {},
   "source": [
    "# Purpose\n",
    "The goal of this notebook is to try out visualizing the transformations happening during warping brains to the atlas -- I'm particularly interested in using this to look at the rat/mouse comparisons and eventually breaking down by brain region but for now I'm just trying it with an existing e137 brain\n",
    "\n",
    "# TODO \n",
    "everything"
   ]
  },
  {
   "cell_type": "code",
   "execution_count": 21,
   "metadata": {},
   "outputs": [],
   "source": [
    "import os, sys, time\n",
    "import tifffile as tif\n",
    "sys.path.append(\"/home/emilyjanedennis/Desktop/GitHub/rat_BrainPipe\")\n",
    "from scipy.ndimage.interpolation import zoom\n",
    "import numpy as np\n",
    "import pandas as pd\n",
    "import matplotlib.pyplot as plt"
   ]
  },
  {
   "cell_type": "code",
   "execution_count": 22,
   "metadata": {},
   "outputs": [],
   "source": [
    "# set paths\n",
    "\n",
    "#  transform parameter from affine transform, may use this later\n",
    "affine0 = \"/home/emilyjanedennis/Desktop/for_registration_to_lightsheet/output_dirs/a235_in_mPRA_affine/order0_TransformParameters.0.txt\"\n",
    "#brains/e137/TransformParameters.0.txt\"\n",
    "\n",
    "# mv image used\n",
    "mvfile = \"/home/emilyjanedennis/Desktop/for_registration_to_lightsheet/tiffs/a235.tif\"\n",
    "# fx image used\n",
    "fxfile = \"/home/emilyjanedennis/Desktop/for_registration_to_lightsheet/tiffs/mPRA.tif\""
   ]
  },
  {
   "cell_type": "code",
   "execution_count": 23,
   "metadata": {},
   "outputs": [],
   "source": [
    "# make a grid the same size as the mv image you used\n",
    "# first find size of image you used\n",
    "# need to make annotation larger (~140% of atlas?) to transform to PRA\n",
    "mvvol = tif.imread(mvfile)\n",
    "fxvol = tif.imread(fxfile)\n",
    "zm, ym, xm = (mvvol.shape[0], mvvol.shape[1], mvvol.shape[2])\n",
    "zf, yf, xf = (fxvol.shape[0], fxvol.shape[1], fxvol.shape[2])"
   ]
  },
  {
   "cell_type": "code",
   "execution_count": 24,
   "metadata": {},
   "outputs": [],
   "source": [
    "# try different resolutions of grids\n",
    "# make two different one d arrays\n",
    "m = np.zeros([zm,ym,xm])"
   ]
  },
  {
   "cell_type": "code",
   "execution_count": 25,
   "metadata": {},
   "outputs": [
    {
     "data": {
      "text/plain": [
       "320"
      ]
     },
     "execution_count": 25,
     "metadata": {},
     "output_type": "execute_result"
    }
   ],
   "source": [
    "xsp = 40\n",
    "xsubvector=np.repeat(0,xsp-1)\n",
    "xsubvector = np.concatenate(([1],xsubvector),axis=0)\n",
    "xlength = np.floor(xm/xsp)\n",
    "xvector = np.tile(xsubvector,xlength.astype(int))\n",
    "(xvector.shape[0])"
   ]
  },
  {
   "cell_type": "code",
   "execution_count": 78,
   "metadata": {},
   "outputs": [],
   "source": [
    "for i in range(0,zm):\n",
    "    if i in np.arange(0,zm,xsp):\n",
    "        m[i,:,:] = np.ones([ym,xm])\n",
    "    else:\n",
    "        for j in range(0,ym):\n",
    "            if j in np.arange(0,ym,xsp):\n",
    "                m[i,j,:]=np.ones(xm)\n",
    "            else:\n",
    "                m[i,j,0:xvector.shape[0]]=xvector\n"
   ]
  },
  {
   "cell_type": "code",
   "execution_count": 93,
   "metadata": {},
   "outputs": [],
   "source": [
    "m[280:321,80:120,80:120]=1"
   ]
  },
  {
   "cell_type": "code",
   "execution_count": 76,
   "metadata": {},
   "outputs": [],
   "source": []
  },
  {
   "cell_type": "code",
   "execution_count": 94,
   "metadata": {},
   "outputs": [],
   "source": [
    "tif.imsave('/home/emilyjanedennis/Desktop/for_registration_to_lightsheet/tiffs/100grid_with_sq.tif',m.astype('int32'))"
   ]
  },
  {
   "cell_type": "code",
   "execution_count": 97,
   "metadata": {},
   "outputs": [],
   "source": [
    "mvtiffs=[]\n",
    "\n",
    "for i in np.arange(1,24):\n",
    "\tmvtiffs.append(\"A243_XY{0:0=2d}_brightfield.tif\".format(i))"
   ]
  },
  {
   "cell_type": "code",
   "execution_count": 98,
   "metadata": {
    "scrolled": true
   },
   "outputs": [
    {
     "data": {
      "text/plain": [
       "['A243_XY01_brightfield.tif',\n",
       " 'A243_XY02_brightfield.tif',\n",
       " 'A243_XY03_brightfield.tif',\n",
       " 'A243_XY04_brightfield.tif',\n",
       " 'A243_XY05_brightfield.tif',\n",
       " 'A243_XY06_brightfield.tif',\n",
       " 'A243_XY07_brightfield.tif',\n",
       " 'A243_XY08_brightfield.tif',\n",
       " 'A243_XY09_brightfield.tif',\n",
       " 'A243_XY10_brightfield.tif',\n",
       " 'A243_XY11_brightfield.tif',\n",
       " 'A243_XY12_brightfield.tif',\n",
       " 'A243_XY13_brightfield.tif',\n",
       " 'A243_XY14_brightfield.tif',\n",
       " 'A243_XY15_brightfield.tif',\n",
       " 'A243_XY16_brightfield.tif',\n",
       " 'A243_XY17_brightfield.tif',\n",
       " 'A243_XY18_brightfield.tif',\n",
       " 'A243_XY19_brightfield.tif',\n",
       " 'A243_XY20_brightfield.tif',\n",
       " 'A243_XY21_brightfield.tif',\n",
       " 'A243_XY22_brightfield.tif',\n",
       " 'A243_XY23_brightfield.tif']"
      ]
     },
     "execution_count": 98,
     "metadata": {},
     "output_type": "execute_result"
    }
   ],
   "source": [
    "mvtiffs"
   ]
  },
  {
   "cell_type": "code",
   "execution_count": 99,
   "metadata": {},
   "outputs": [
    {
     "data": {
      "text/plain": [
       "'10'"
      ]
     },
     "execution_count": 99,
     "metadata": {},
     "output_type": "execute_result"
    }
   ],
   "source": [
    "str(10)"
   ]
  },
  {
   "cell_type": "code",
   "execution_count": 101,
   "metadata": {},
   "outputs": [],
   "source": [
    "cp allen_experiment_import.ipynb test.ipynb"
   ]
  },
  {
   "cell_type": "code",
   "execution_count": 102,
   "metadata": {
    "scrolled": true
   },
   "outputs": [
    {
     "name": "stdout",
     "output_type": "stream",
     "text": [
      "allen_experiment_import.ipynb\r\n",
      "analysis_group_cellcounts.ipynb\r\n",
      "analysis_mouserat.ipynb\r\n",
      "\u001b[0m\u001b[01;32manalyze_injection_inverse_transform.py\u001b[0m*\r\n",
      "analyze_injection.ipynb\r\n",
      "\u001b[01;32manalyze_injection.py\u001b[0m*\r\n",
      "analyze_injection_wo_kwargs.py\r\n",
      "atlas_to_pra_labels.ipynb\r\n",
      "brodylab_MRI_atlas_customizations.ipynb\r\n",
      "calculating_sexual-dimorphisms.ipynb\r\n",
      "calculating_vox-diffs-between-tiffs.ipynb\r\n",
      "CellMap2_spotdetection.ipynb\r\n",
      "check_cell_center_mapping_array.py\r\n",
      "check_cell_center_mapping_array.sh\r\n",
      "check_cell_center_mapping.py\r\n",
      "check_cell_center_mapping.sh\r\n",
      "clearmap2_plotting_filtered.ipynb\r\n",
      "clearmap_celldetection_visualization.py\r\n",
      "\u001b[01;34mconnectivity\u001b[0m/\r\n",
      "coordinates_exchange.ipynb\r\n",
      "create_PMA_ontology_JSON.ipynb\r\n",
      "Create_PMA_ontology_JSON.py\r\n",
      "csvslice.py\r\n",
      "\u001b[01;32mdendrogram.py\u001b[0m*\r\n",
      "\u001b[01;32meffectsize.py\u001b[0m*\r\n",
      "elastix_general.py\r\n",
      "elastix_inverse.py\r\n",
      "elastix_mvs_to_fxs.py\r\n",
      "elastix_rigid.py\r\n",
      "elastix_to_pra.py\r\n",
      "elastix_to_pra.py.save\r\n",
      "erode_atlas_tp_version.py\r\n",
      "\u001b[01;32mfor_kelly_transform_cell_centers_and_qc_multiple_brains_py3.py\u001b[0m*\r\n",
      "\u001b[01;32mhiveplot.py\u001b[0m*\r\n",
      "humanvselastix.ipynb\r\n",
      "\u001b[01;32m__init__.py\u001b[0m*\r\n",
      "\u001b[01;34mlogs\u001b[0m/\r\n",
      "\u001b[01;34mls_atlas\u001b[0m/\r\n",
      "make_checkerboard.ipynb\r\n",
      "make_precomputed_brodyatlas_2019_meta_w128.py\r\n",
      "make_vol_for_ng.ipynb\r\n",
      "manual_CM2_to_SIGMAspace.ipynb\r\n",
      "manual_CNN_output_evaluation.ipynb\r\n",
      "median_for_PRA_atlas.ipynb\r\n",
      "\u001b[01;32mnetwork_analysis.py\u001b[0m*\r\n",
      "\u001b[01;34m__pycache__\u001b[0m/\r\n",
      "quantify_clearness.ipynb\r\n",
      "region_specific_map_in_PRA.ipynb\r\n",
      "\u001b[01;32mroi_to_atlas.py\u001b[0m*\r\n",
      "scratch.ipynb\r\n",
      "scratch.py\r\n",
      "test.ipynb\r\n",
      "transform_atlas_to_pra.ipynb\r\n",
      "transform_grids.py\r\n",
      "transforming_coords\r\n",
      "transformix_image_without_zoom_affine.py\r\n",
      "transformix_image_without_zoom.py\r\n",
      "transformix_image_with_zoom_affine.py\r\n",
      "transformix_image_with_zoom.py\r\n",
      "transformix_nozoom_and_affine.py\r\n",
      "transformix_zoom_and_affine.py\r\n",
      "transform_points.py\r\n",
      "transform_points_short.py\r\n",
      "unpickle.ipynb\r\n",
      "visualize_transformix.ipynb\r\n",
      "vox_diffs_between_tiffs.py\r\n",
      "zoom_tiff.py\r\n"
     ]
    }
   ],
   "source": [
    "ls"
   ]
  },
  {
   "cell_type": "code",
   "execution_count": 103,
   "metadata": {},
   "outputs": [],
   "source": [
    "mv test.ipynb testing.ipynb"
   ]
  },
  {
   "cell_type": "code",
   "execution_count": 104,
   "metadata": {},
   "outputs": [
    {
     "name": "stdout",
     "output_type": "stream",
     "text": [
      "allen_experiment_import.ipynb\r\n",
      "analysis_group_cellcounts.ipynb\r\n",
      "analysis_mouserat.ipynb\r\n",
      "\u001b[0m\u001b[01;32manalyze_injection_inverse_transform.py\u001b[0m*\r\n",
      "analyze_injection.ipynb\r\n",
      "\u001b[01;32manalyze_injection.py\u001b[0m*\r\n",
      "analyze_injection_wo_kwargs.py\r\n",
      "atlas_to_pra_labels.ipynb\r\n",
      "brodylab_MRI_atlas_customizations.ipynb\r\n",
      "calculating_sexual-dimorphisms.ipynb\r\n",
      "calculating_vox-diffs-between-tiffs.ipynb\r\n",
      "CellMap2_spotdetection.ipynb\r\n",
      "check_cell_center_mapping_array.py\r\n",
      "check_cell_center_mapping_array.sh\r\n",
      "check_cell_center_mapping.py\r\n",
      "check_cell_center_mapping.sh\r\n",
      "clearmap2_plotting_filtered.ipynb\r\n",
      "clearmap_celldetection_visualization.py\r\n",
      "\u001b[01;34mconnectivity\u001b[0m/\r\n",
      "coordinates_exchange.ipynb\r\n",
      "create_PMA_ontology_JSON.ipynb\r\n",
      "Create_PMA_ontology_JSON.py\r\n",
      "csvslice.py\r\n",
      "\u001b[01;32mdendrogram.py\u001b[0m*\r\n",
      "\u001b[01;32meffectsize.py\u001b[0m*\r\n",
      "elastix_general.py\r\n",
      "elastix_inverse.py\r\n",
      "elastix_mvs_to_fxs.py\r\n",
      "elastix_rigid.py\r\n",
      "elastix_to_pra.py\r\n",
      "elastix_to_pra.py.save\r\n",
      "erode_atlas_tp_version.py\r\n",
      "\u001b[01;32mfor_kelly_transform_cell_centers_and_qc_multiple_brains_py3.py\u001b[0m*\r\n",
      "\u001b[01;32mhiveplot.py\u001b[0m*\r\n",
      "humanvselastix.ipynb\r\n",
      "\u001b[01;32m__init__.py\u001b[0m*\r\n",
      "\u001b[01;34mlogs\u001b[0m/\r\n",
      "\u001b[01;34mls_atlas\u001b[0m/\r\n",
      "make_checkerboard.ipynb\r\n",
      "make_precomputed_brodyatlas_2019_meta_w128.py\r\n",
      "make_vol_for_ng.ipynb\r\n",
      "manual_CM2_to_SIGMAspace.ipynb\r\n",
      "manual_CNN_output_evaluation.ipynb\r\n",
      "median_for_PRA_atlas.ipynb\r\n",
      "\u001b[01;32mnetwork_analysis.py\u001b[0m*\r\n",
      "\u001b[01;34m__pycache__\u001b[0m/\r\n",
      "quantify_clearness.ipynb\r\n",
      "region_specific_map_in_PRA.ipynb\r\n",
      "\u001b[01;32mroi_to_atlas.py\u001b[0m*\r\n",
      "scratch.ipynb\r\n",
      "scratch.py\r\n",
      "testing.ipynb\r\n",
      "transform_atlas_to_pra.ipynb\r\n",
      "transform_grids.py\r\n",
      "transforming_coords\r\n",
      "transformix_image_without_zoom_affine.py\r\n",
      "transformix_image_without_zoom.py\r\n",
      "transformix_image_with_zoom_affine.py\r\n",
      "transformix_image_with_zoom.py\r\n",
      "transformix_nozoom_and_affine.py\r\n",
      "transformix_zoom_and_affine.py\r\n",
      "transform_points.py\r\n",
      "transform_points_short.py\r\n",
      "unpickle.ipynb\r\n",
      "visualize_transformix.ipynb\r\n",
      "vox_diffs_between_tiffs.py\r\n",
      "zoom_tiff.py\r\n"
     ]
    }
   ],
   "source": [
    "ls"
   ]
  },
  {
   "cell_type": "code",
   "execution_count": null,
   "metadata": {},
   "outputs": [],
   "source": []
  }
 ],
 "metadata": {
  "kernelspec": {
   "display_name": "Python 3",
   "language": "python",
   "name": "python3"
  },
  "language_info": {
   "codemirror_mode": {
    "name": "ipython",
    "version": 3
   },
   "file_extension": ".py",
   "mimetype": "text/x-python",
   "name": "python",
   "nbconvert_exporter": "python",
   "pygments_lexer": "ipython3",
   "version": "3.7.3"
  }
 },
 "nbformat": 4,
 "nbformat_minor": 4
}

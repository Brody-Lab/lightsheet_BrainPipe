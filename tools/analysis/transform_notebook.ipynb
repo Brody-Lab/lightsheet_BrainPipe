{
 "cells": [
  {
   "cell_type": "code",
   "execution_count": 1,
   "metadata": {},
   "outputs": [],
   "source": [
    "import os, sys, time\n",
    "\n",
    "from skimage.external import tifffile as tif\n",
    "\n",
    "sys.path.append(\"/home/emilyjanedennis/Desktop/GitHub/rat_BrainPipe\")\n",
    "\n",
    "from tools.utils.io import makedir\n",
    "\n",
    "from tools.registration.register import change_interpolation_order, transformix_command_line_call\n",
    "\n",
    "from tools.registration.transform_list_of_points import modify_transform_files\n",
    "\n",
    "from scipy.ndimage.interpolation import zoom\n",
    "\n"
   ]
  },
  {
   "cell_type": "code",
   "execution_count": 2,
   "metadata": {},
   "outputs": [],
   "source": [
    "\n",
    "\n",
    "#setting paths\n",
    "\n",
    "src = \"/home/emilyjanedennis/LightSheetData/brodyatlas/atlas/for_registration_to_lightsheet/\"\n",
    "\n",
    "ann = os.path.join(src, \"WHS_SD_rat_atlas_v3_annotation.tif\")\n",
    "\n",
    "fx = \"/home/emilyjanedennis/LightSheetData/brodyatlas/atlas/2019_meta_atlas/median_image.tif\""
   ]
  },
  {
   "cell_type": "code",
   "execution_count": null,
   "metadata": {},
   "outputs": [],
   "source": [
    "\n",
    "#need to make MRI annotation larger (~140% of atlas?) to transform to PRA\n",
    "\n",
    "watl = tif.imread(ann)\n",
    "\n",
    "pra = tif.imread(fx)\n",
    "\n",
    "zf,yf,xf = (pra.shape[0]/watl.shape[0])*1.4, (pra.shape[1]/watl.shape[1])*1.4, (pra.shape[2]/watl.shape[2])*1.4\n",
    "\n",
    "print(\"\\nzooming...\")\n",
    "\n",
    "watl_for_pra = zoom(watl, (zf,yf,xf), order = 1)\n",
    "\n"
   ]
  },
  {
   "cell_type": "code",
   "execution_count": null,
   "metadata": {},
   "outputs": [],
   "source": [
    "\n",
    "\n",
    "#saved out annotation volume\n",
    "\n",
    "print(\"\\nsaving zoomed volume...\")\n",
    "\n",
    "tif.imsave(\"/home/emilyjanedennis/Desktop/clearmap_out/WHS_SD_rat_atlas_v3_annotation_for_pra_reg.tif\",\n",
    "\n",
    "           watl_for_pra.astype(\"uint16\"))\n",
    "\n"
   ]
  },
  {
   "cell_type": "code",
   "execution_count": null,
   "metadata": {},
   "outputs": [],
   "source": [
    "reg = os.path.join(src, \"waxholm_to_pra\")\n",
    "\n",
    "a2r = [os.path.join(reg, xx) for xx in os.listdir(reg) if \"Transform\" in xx]; a2r.sort()\n"
   ]
  },
  {
   "cell_type": "code",
   "execution_count": null,
   "metadata": {},
   "outputs": [],
   "source": [
    "dst = os.path.join(src, \"transformed_annotation_volume\")\n",
    "\n",
    "makedir(dst)"
   ]
  },
  {
   "cell_type": "code",
   "execution_count": null,
   "metadata": {},
   "outputs": [],
   "source": [
    "\n",
    "\n",
    "#transformix\n",
    "\n",
    "transformfiles = modify_transform_files(transformfiles=a2r, dst=dst)\n",
    "\n",
    "[change_interpolation_order(xx,0) for xx in transformfiles]\n"
   ]
  },
  {
   "cell_type": "code",
   "execution_count": null,
   "metadata": {},
   "outputs": [],
   "source": [
    "\n",
    "\n",
    "\n",
    "#change the parameter in the transform files that outputs 16bit images instead\n",
    "\n",
    "for fl in transformfiles:# Read in the file\n",
    "\n",
    "    with open(fl, \"r\") as file:\n",
    "\n",
    "        filedata = file.read()\n",
    "\n",
    "    # Replace the target string\n",
    "\n",
    "    filedata = filedata.replace('(ResultImagePixelType \"float\")', '(ResultImagePixelType \"short\")')\n",
    "\n",
    "    # Write the file out again\n",
    "\n",
    "    with open(fl, \"w\") as file:\n",
    "\n",
    "      file.write(filedata)\n"
   ]
  },
  {
   "cell_type": "code",
   "execution_count": null,
   "metadata": {},
   "outputs": [],
   "source": [
    "#run transformix  \n",
    "\n",
    "transformix_command_line_call(\"/home/emilyjanedennis/Desktop/clearmap_out/WHS_SD_rat_atlas_v3_annotation_for_pra_reg.tif\", \n",
    "\n",
    "                              dst, transformfiles[-1])\n"
   ]
  },
  {
   "cell_type": "code",
   "execution_count": null,
   "metadata": {},
   "outputs": [],
   "source": []
  },
  {
   "cell_type": "code",
   "execution_count": null,
   "metadata": {},
   "outputs": [],
   "source": []
  }
 ],
 "metadata": {
  "kernelspec": {
   "display_name": "Python 3",
   "language": "python",
   "name": "python3"
  },
  "language_info": {
   "codemirror_mode": {
    "name": "ipython",
    "version": 3
   },
   "file_extension": ".py",
   "mimetype": "text/x-python",
   "name": "python",
   "nbconvert_exporter": "python",
   "pygments_lexer": "ipython3",
   "version": "3.8.3"
  }
 },
 "nbformat": 4,
 "nbformat_minor": 4
}

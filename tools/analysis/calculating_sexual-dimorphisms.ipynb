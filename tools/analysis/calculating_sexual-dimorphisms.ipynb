{
 "cells": [
  {
   "cell_type": "code",
   "execution_count": 1,
   "metadata": {},
   "outputs": [],
   "source": [
    "import os, sys, time\n",
    "import tifffile as tif\n",
    "sys.path.append(\"/home/emilyjanedennis/Desktop/GitHub/rat_BrainPipe\")\n",
    "from tools.utils.io import makedir\n",
    "from tools.registration.register import change_interpolation_order, transformix_command_line_call\n",
    "from tools.registration.transform_list_of_points import modify_transform_files\n",
    "from scipy.ndimage.interpolation import zoom\n",
    "import matplotlib.pyplot as plt\n",
    "import numpy as np\n",
    "import pandas as pd\n",
    "import csv"
   ]
  },
  {
   "cell_type": "code",
   "execution_count": 90,
   "metadata": {},
   "outputs": [],
   "source": [
    "src = \"/home/emilyjanedennis/Desktop/for_registration_to_lightsheet\"\n",
    "\n",
    "fann = os.path.join(src, \"output_dirs/SIGMA_fPRA_in_PRA_affine/result.tif\")\n",
    "mann = os.path.join(src, \"output_dirs/SIGMA_ann_in_PRA_25/result.tif\")\n",
    "\n",
    "#fann = os.path.join(src, \"tiffs/WHS_ann_in_fPRA.tif\")\n",
    "#mann = os.path.join(src, \"output_dirs/WHS_ann_in_PRA25/WHS_anns_in_PRA25.tif\")\n",
    "\n",
    "#annotationsfilename=os.path.join(src,\"labels/labels_v3.csv\")\n",
    "\n",
    "annotationsfilename = os.path.join(src,\"labels/SIGMA_labels.csv\")\n",
    "output= \"/home/emilyjanedennis/Desktop/mf_SIGMA.tiff\"\n",
    "percentcsv=\"/home/emilyjanedennis/Desktop/mf_percent_SIGMA.csv\""
   ]
  },
  {
   "cell_type": "markdown",
   "metadata": {},
   "source": [
    "## get percent of each brain for a given 'value' or label"
   ]
  },
  {
   "cell_type": "code",
   "execution_count": 4,
   "metadata": {},
   "outputs": [
    {
     "name": "stdout",
     "output_type": "stream",
     "text": [
      "read annotations\n"
     ]
    }
   ],
   "source": [
    "# make sure your annotations have the first column as id number, 2nd as abbreviation, or else change the input below\n",
    "anns=pd.read_csv(annotationsfilename,usecols=[0,1,2],header=0)\n",
    "print(\"read annotations\")"
   ]
  },
  {
   "cell_type": "code",
   "execution_count": 5,
   "metadata": {},
   "outputs": [
    {
     "data": {
      "text/html": [
       "<div>\n",
       "<style scoped>\n",
       "    .dataframe tbody tr th:only-of-type {\n",
       "        vertical-align: middle;\n",
       "    }\n",
       "\n",
       "    .dataframe tbody tr th {\n",
       "        vertical-align: top;\n",
       "    }\n",
       "\n",
       "    .dataframe thead th {\n",
       "        text-align: right;\n",
       "    }\n",
       "</style>\n",
       "<table border=\"1\" class=\"dataframe\">\n",
       "  <thead>\n",
       "    <tr style=\"text-align: right;\">\n",
       "      <th></th>\n",
       "      <th>atlas</th>\n",
       "      <th>ID</th>\n",
       "      <th>label</th>\n",
       "    </tr>\n",
       "  </thead>\n",
       "  <tbody>\n",
       "    <tr>\n",
       "      <th>0</th>\n",
       "      <td>SIGMA</td>\n",
       "      <td>1171</td>\n",
       "      <td>Ventricular System</td>\n",
       "    </tr>\n",
       "    <tr>\n",
       "      <th>1</th>\n",
       "      <td>Waxholm</td>\n",
       "      <td>171</td>\n",
       "      <td>Globus Pallidus</td>\n",
       "    </tr>\n",
       "    <tr>\n",
       "      <th>2</th>\n",
       "      <td>Waxholm</td>\n",
       "      <td>731</td>\n",
       "      <td>Striatum</td>\n",
       "    </tr>\n",
       "    <tr>\n",
       "      <th>3</th>\n",
       "      <td>Waxholm</td>\n",
       "      <td>221</td>\n",
       "      <td>Granule Cell Level of the Cerebellum</td>\n",
       "    </tr>\n",
       "    <tr>\n",
       "      <th>4</th>\n",
       "      <td>Waxholm</td>\n",
       "      <td>341</td>\n",
       "      <td>Molecular Layer of the Cerebellum</td>\n",
       "    </tr>\n",
       "    <tr>\n",
       "      <th>...</th>\n",
       "      <td>...</td>\n",
       "      <td>...</td>\n",
       "      <td>...</td>\n",
       "    </tr>\n",
       "    <tr>\n",
       "      <th>229</th>\n",
       "      <td>Waxholm</td>\n",
       "      <td>882</td>\n",
       "      <td>Commissure of the Superior Colliculus</td>\n",
       "    </tr>\n",
       "    <tr>\n",
       "      <th>230</th>\n",
       "      <td>Waxholm</td>\n",
       "      <td>902</td>\n",
       "      <td>Deeper Layers of the Superior Colliculus</td>\n",
       "    </tr>\n",
       "    <tr>\n",
       "      <th>231</th>\n",
       "      <td>Waxholm</td>\n",
       "      <td>1082</td>\n",
       "      <td>SP5</td>\n",
       "    </tr>\n",
       "    <tr>\n",
       "      <th>232</th>\n",
       "      <td>Waxholm</td>\n",
       "      <td>792</td>\n",
       "      <td>Anterior Commissure Intrabulbar part</td>\n",
       "    </tr>\n",
       "    <tr>\n",
       "      <th>233</th>\n",
       "      <td>Waxholm</td>\n",
       "      <td>1122</td>\n",
       "      <td>Optic Pathways</td>\n",
       "    </tr>\n",
       "  </tbody>\n",
       "</table>\n",
       "<p>234 rows × 3 columns</p>\n",
       "</div>"
      ],
      "text/plain": [
       "       atlas    ID                                     label\n",
       "0      SIGMA  1171                        Ventricular System\n",
       "1    Waxholm   171                           Globus Pallidus\n",
       "2    Waxholm   731                                  Striatum\n",
       "3    Waxholm   221      Granule Cell Level of the Cerebellum\n",
       "4    Waxholm   341         Molecular Layer of the Cerebellum\n",
       "..       ...   ...                                       ...\n",
       "229  Waxholm   882     Commissure of the Superior Colliculus\n",
       "230  Waxholm   902  Deeper Layers of the Superior Colliculus\n",
       "231  Waxholm  1082                                       SP5\n",
       "232  Waxholm   792      Anterior Commissure Intrabulbar part\n",
       "233  Waxholm  1122                           Optic Pathways \n",
       "\n",
       "[234 rows x 3 columns]"
      ]
     },
     "execution_count": 5,
     "metadata": {},
     "output_type": "execute_result"
    }
   ],
   "source": [
    "df=anns.dropna()\n",
    "df"
   ]
  },
  {
   "cell_type": "code",
   "execution_count": 6,
   "metadata": {},
   "outputs": [],
   "source": [
    "df.insert(3,'fvox',0)\n",
    "df.insert(4,'mvox',0)\n"
   ]
  },
  {
   "cell_type": "code",
   "execution_count": 92,
   "metadata": {},
   "outputs": [
    {
     "name": "stdout",
     "output_type": "stream",
     "text": [
      "read affine tiff\n",
      "/home/emilyjanedennis/Desktop/for_registration_to_lightsheet/output_dirs/SIGMA_ann_in_PRA_25/result.tif\n"
     ]
    }
   ],
   "source": [
    "ftiff = tif.imread(fann)\n",
    "print(\"read affine tiff\")\n",
    "mtiff = tif.imread(mann)\n",
    "print(mann)\n"
   ]
  },
  {
   "cell_type": "code",
   "execution_count": 8,
   "metadata": {
    "scrolled": true
   },
   "outputs": [
    {
     "name": "stderr",
     "output_type": "stream",
     "text": [
      "<ipython-input-8-8efd60b5d6b6>:2: SettingWithCopyWarning: \n",
      "A value is trying to be set on a copy of a slice from a DataFrame\n",
      "\n",
      "See the caveats in the documentation: https://pandas.pydata.org/pandas-docs/stable/user_guide/indexing.html#returning-a-view-versus-a-copy\n",
      "  df.fvox[df.index[df.ID==i]] = np.size(ftiff[ftiff==i])\n",
      "<ipython-input-8-8efd60b5d6b6>:3: SettingWithCopyWarning: \n",
      "A value is trying to be set on a copy of a slice from a DataFrame\n",
      "\n",
      "See the caveats in the documentation: https://pandas.pydata.org/pandas-docs/stable/user_guide/indexing.html#returning-a-view-versus-a-copy\n",
      "  df.mvox[df.index[df.ID==i]] = np.size(mtiff[mtiff==i])\n"
     ]
    }
   ],
   "source": [
    "for i in df['ID']:\n",
    "    df.fvox[df.index[df.ID==i]] = np.size(ftiff[ftiff==i])\n",
    "    df.mvox[df.index[df.ID==i]] = np.size(mtiff[mtiff==i])\n"
   ]
  },
  {
   "cell_type": "code",
   "execution_count": 9,
   "metadata": {},
   "outputs": [],
   "source": [
    "df = df[df.mvox > 0]\n"
   ]
  },
  {
   "cell_type": "code",
   "execution_count": 10,
   "metadata": {},
   "outputs": [
    {
     "data": {
      "text/html": [
       "<div>\n",
       "<style scoped>\n",
       "    .dataframe tbody tr th:only-of-type {\n",
       "        vertical-align: middle;\n",
       "    }\n",
       "\n",
       "    .dataframe tbody tr th {\n",
       "        vertical-align: top;\n",
       "    }\n",
       "\n",
       "    .dataframe thead th {\n",
       "        text-align: right;\n",
       "    }\n",
       "</style>\n",
       "<table border=\"1\" class=\"dataframe\">\n",
       "  <thead>\n",
       "    <tr style=\"text-align: right;\">\n",
       "      <th></th>\n",
       "      <th>atlas</th>\n",
       "      <th>ID</th>\n",
       "      <th>label</th>\n",
       "      <th>fvox</th>\n",
       "      <th>mvox</th>\n",
       "    </tr>\n",
       "  </thead>\n",
       "  <tbody>\n",
       "    <tr>\n",
       "      <th>1</th>\n",
       "      <td>Waxholm</td>\n",
       "      <td>171</td>\n",
       "      <td>Globus Pallidus</td>\n",
       "      <td>3265</td>\n",
       "      <td>2844</td>\n",
       "    </tr>\n",
       "    <tr>\n",
       "      <th>2</th>\n",
       "      <td>Waxholm</td>\n",
       "      <td>731</td>\n",
       "      <td>Striatum</td>\n",
       "      <td>1813067</td>\n",
       "      <td>1664466</td>\n",
       "    </tr>\n",
       "    <tr>\n",
       "      <th>3</th>\n",
       "      <td>Waxholm</td>\n",
       "      <td>221</td>\n",
       "      <td>Granule Cell Level of the Cerebellum</td>\n",
       "      <td>1259382</td>\n",
       "      <td>1265190</td>\n",
       "    </tr>\n",
       "    <tr>\n",
       "      <th>4</th>\n",
       "      <td>Waxholm</td>\n",
       "      <td>341</td>\n",
       "      <td>Molecular Layer of the Cerebellum</td>\n",
       "      <td>4238434</td>\n",
       "      <td>4095170</td>\n",
       "    </tr>\n",
       "    <tr>\n",
       "      <th>5</th>\n",
       "      <td>Tohoku</td>\n",
       "      <td>31</td>\n",
       "      <td>Amygdalohyppocampic Area</td>\n",
       "      <td>32843</td>\n",
       "      <td>35191</td>\n",
       "    </tr>\n",
       "    <tr>\n",
       "      <th>...</th>\n",
       "      <td>...</td>\n",
       "      <td>...</td>\n",
       "      <td>...</td>\n",
       "      <td>...</td>\n",
       "      <td>...</td>\n",
       "    </tr>\n",
       "    <tr>\n",
       "      <th>229</th>\n",
       "      <td>Waxholm</td>\n",
       "      <td>882</td>\n",
       "      <td>Commissure of the Superior Colliculus</td>\n",
       "      <td>3297</td>\n",
       "      <td>2401</td>\n",
       "    </tr>\n",
       "    <tr>\n",
       "      <th>230</th>\n",
       "      <td>Waxholm</td>\n",
       "      <td>902</td>\n",
       "      <td>Deeper Layers of the Superior Colliculus</td>\n",
       "      <td>535986</td>\n",
       "      <td>440010</td>\n",
       "    </tr>\n",
       "    <tr>\n",
       "      <th>231</th>\n",
       "      <td>Waxholm</td>\n",
       "      <td>1082</td>\n",
       "      <td>SP5</td>\n",
       "      <td>30876</td>\n",
       "      <td>29813</td>\n",
       "    </tr>\n",
       "    <tr>\n",
       "      <th>232</th>\n",
       "      <td>Waxholm</td>\n",
       "      <td>792</td>\n",
       "      <td>Anterior Commissure Intrabulbar part</td>\n",
       "      <td>46420</td>\n",
       "      <td>45913</td>\n",
       "    </tr>\n",
       "    <tr>\n",
       "      <th>233</th>\n",
       "      <td>Waxholm</td>\n",
       "      <td>1122</td>\n",
       "      <td>Optic Pathways</td>\n",
       "      <td>38663</td>\n",
       "      <td>37760</td>\n",
       "    </tr>\n",
       "  </tbody>\n",
       "</table>\n",
       "<p>232 rows × 5 columns</p>\n",
       "</div>"
      ],
      "text/plain": [
       "       atlas    ID                                     label     fvox     mvox\n",
       "1    Waxholm   171                           Globus Pallidus     3265     2844\n",
       "2    Waxholm   731                                  Striatum  1813067  1664466\n",
       "3    Waxholm   221      Granule Cell Level of the Cerebellum  1259382  1265190\n",
       "4    Waxholm   341         Molecular Layer of the Cerebellum  4238434  4095170\n",
       "5     Tohoku    31                  Amygdalohyppocampic Area    32843    35191\n",
       "..       ...   ...                                       ...      ...      ...\n",
       "229  Waxholm   882     Commissure of the Superior Colliculus     3297     2401\n",
       "230  Waxholm   902  Deeper Layers of the Superior Colliculus   535986   440010\n",
       "231  Waxholm  1082                                       SP5    30876    29813\n",
       "232  Waxholm   792      Anterior Commissure Intrabulbar part    46420    45913\n",
       "233  Waxholm  1122                           Optic Pathways     38663    37760\n",
       "\n",
       "[232 rows x 5 columns]"
      ]
     },
     "execution_count": 10,
     "metadata": {},
     "output_type": "execute_result"
    }
   ],
   "source": [
    "df"
   ]
  },
  {
   "cell_type": "code",
   "execution_count": 11,
   "metadata": {},
   "outputs": [
    {
     "name": "stderr",
     "output_type": "stream",
     "text": [
      "<ipython-input-11-44d5a020bd85>:1: SettingWithCopyWarning: \n",
      "A value is trying to be set on a copy of a slice from a DataFrame.\n",
      "Try using .loc[row_indexer,col_indexer] = value instead\n",
      "\n",
      "See the caveats in the documentation: https://pandas.pydata.org/pandas-docs/stable/user_guide/indexing.html#returning-a-view-versus-a-copy\n",
      "  df['fpct'] = (df['fvox']/np.sum(df.fvox))*100\n",
      "<ipython-input-11-44d5a020bd85>:2: SettingWithCopyWarning: \n",
      "A value is trying to be set on a copy of a slice from a DataFrame.\n",
      "Try using .loc[row_indexer,col_indexer] = value instead\n",
      "\n",
      "See the caveats in the documentation: https://pandas.pydata.org/pandas-docs/stable/user_guide/indexing.html#returning-a-view-versus-a-copy\n",
      "  df['mpct'] = (df['mvox']/np.sum(df.mvox))*100\n",
      "<ipython-input-11-44d5a020bd85>:3: SettingWithCopyWarning: \n",
      "A value is trying to be set on a copy of a slice from a DataFrame.\n",
      "Try using .loc[row_indexer,col_indexer] = value instead\n",
      "\n",
      "See the caveats in the documentation: https://pandas.pydata.org/pandas-docs/stable/user_guide/indexing.html#returning-a-view-versus-a-copy\n",
      "  df['fg']= (df['fpct']-df['mpct'])/(df['fpct']+df['mpct'])\n"
     ]
    },
    {
     "data": {
      "text/html": [
       "<div>\n",
       "<style scoped>\n",
       "    .dataframe tbody tr th:only-of-type {\n",
       "        vertical-align: middle;\n",
       "    }\n",
       "\n",
       "    .dataframe tbody tr th {\n",
       "        vertical-align: top;\n",
       "    }\n",
       "\n",
       "    .dataframe thead th {\n",
       "        text-align: right;\n",
       "    }\n",
       "</style>\n",
       "<table border=\"1\" class=\"dataframe\">\n",
       "  <thead>\n",
       "    <tr style=\"text-align: right;\">\n",
       "      <th></th>\n",
       "      <th>atlas</th>\n",
       "      <th>ID</th>\n",
       "      <th>label</th>\n",
       "      <th>fvox</th>\n",
       "      <th>mvox</th>\n",
       "      <th>fpct</th>\n",
       "      <th>mpct</th>\n",
       "      <th>fg</th>\n",
       "    </tr>\n",
       "  </thead>\n",
       "  <tbody>\n",
       "    <tr>\n",
       "      <th>1</th>\n",
       "      <td>Waxholm</td>\n",
       "      <td>171</td>\n",
       "      <td>Globus Pallidus</td>\n",
       "      <td>3265</td>\n",
       "      <td>2844</td>\n",
       "      <td>0.004364</td>\n",
       "      <td>0.004000</td>\n",
       "      <td>0.043506</td>\n",
       "    </tr>\n",
       "    <tr>\n",
       "      <th>2</th>\n",
       "      <td>Waxholm</td>\n",
       "      <td>731</td>\n",
       "      <td>Striatum</td>\n",
       "      <td>1813067</td>\n",
       "      <td>1664466</td>\n",
       "      <td>2.423155</td>\n",
       "      <td>2.340903</td>\n",
       "      <td>0.017265</td>\n",
       "    </tr>\n",
       "    <tr>\n",
       "      <th>3</th>\n",
       "      <td>Waxholm</td>\n",
       "      <td>221</td>\n",
       "      <td>Granule Cell Level of the Cerebellum</td>\n",
       "      <td>1259382</td>\n",
       "      <td>1265190</td>\n",
       "      <td>1.683158</td>\n",
       "      <td>1.779362</td>\n",
       "      <td>-0.027784</td>\n",
       "    </tr>\n",
       "    <tr>\n",
       "      <th>4</th>\n",
       "      <td>Waxholm</td>\n",
       "      <td>341</td>\n",
       "      <td>Molecular Layer of the Cerebellum</td>\n",
       "      <td>4238434</td>\n",
       "      <td>4095170</td>\n",
       "      <td>5.664646</td>\n",
       "      <td>5.759442</td>\n",
       "      <td>-0.008298</td>\n",
       "    </tr>\n",
       "    <tr>\n",
       "      <th>5</th>\n",
       "      <td>Tohoku</td>\n",
       "      <td>31</td>\n",
       "      <td>Amygdalohyppocampic Area</td>\n",
       "      <td>32843</td>\n",
       "      <td>35191</td>\n",
       "      <td>0.043895</td>\n",
       "      <td>0.049493</td>\n",
       "      <td>-0.059945</td>\n",
       "    </tr>\n",
       "    <tr>\n",
       "      <th>...</th>\n",
       "      <td>...</td>\n",
       "      <td>...</td>\n",
       "      <td>...</td>\n",
       "      <td>...</td>\n",
       "      <td>...</td>\n",
       "      <td>...</td>\n",
       "      <td>...</td>\n",
       "      <td>...</td>\n",
       "    </tr>\n",
       "    <tr>\n",
       "      <th>229</th>\n",
       "      <td>Waxholm</td>\n",
       "      <td>882</td>\n",
       "      <td>Commissure of the Superior Colliculus</td>\n",
       "      <td>3297</td>\n",
       "      <td>2401</td>\n",
       "      <td>0.004406</td>\n",
       "      <td>0.003377</td>\n",
       "      <td>0.132293</td>\n",
       "    </tr>\n",
       "    <tr>\n",
       "      <th>230</th>\n",
       "      <td>Waxholm</td>\n",
       "      <td>902</td>\n",
       "      <td>Deeper Layers of the Superior Colliculus</td>\n",
       "      <td>535986</td>\n",
       "      <td>440010</td>\n",
       "      <td>0.716343</td>\n",
       "      <td>0.618829</td>\n",
       "      <td>0.073034</td>\n",
       "    </tr>\n",
       "    <tr>\n",
       "      <th>231</th>\n",
       "      <td>Waxholm</td>\n",
       "      <td>1082</td>\n",
       "      <td>SP5</td>\n",
       "      <td>30876</td>\n",
       "      <td>29813</td>\n",
       "      <td>0.041266</td>\n",
       "      <td>0.041929</td>\n",
       "      <td>-0.007973</td>\n",
       "    </tr>\n",
       "    <tr>\n",
       "      <th>232</th>\n",
       "      <td>Waxholm</td>\n",
       "      <td>792</td>\n",
       "      <td>Anterior Commissure Intrabulbar part</td>\n",
       "      <td>46420</td>\n",
       "      <td>45913</td>\n",
       "      <td>0.062040</td>\n",
       "      <td>0.064572</td>\n",
       "      <td>-0.019997</td>\n",
       "    </tr>\n",
       "    <tr>\n",
       "      <th>233</th>\n",
       "      <td>Waxholm</td>\n",
       "      <td>1122</td>\n",
       "      <td>Optic Pathways</td>\n",
       "      <td>38663</td>\n",
       "      <td>37760</td>\n",
       "      <td>0.051673</td>\n",
       "      <td>0.053106</td>\n",
       "      <td>-0.013674</td>\n",
       "    </tr>\n",
       "  </tbody>\n",
       "</table>\n",
       "<p>232 rows × 8 columns</p>\n",
       "</div>"
      ],
      "text/plain": [
       "       atlas    ID                                     label     fvox  \\\n",
       "1    Waxholm   171                           Globus Pallidus     3265   \n",
       "2    Waxholm   731                                  Striatum  1813067   \n",
       "3    Waxholm   221      Granule Cell Level of the Cerebellum  1259382   \n",
       "4    Waxholm   341         Molecular Layer of the Cerebellum  4238434   \n",
       "5     Tohoku    31                  Amygdalohyppocampic Area    32843   \n",
       "..       ...   ...                                       ...      ...   \n",
       "229  Waxholm   882     Commissure of the Superior Colliculus     3297   \n",
       "230  Waxholm   902  Deeper Layers of the Superior Colliculus   535986   \n",
       "231  Waxholm  1082                                       SP5    30876   \n",
       "232  Waxholm   792      Anterior Commissure Intrabulbar part    46420   \n",
       "233  Waxholm  1122                           Optic Pathways     38663   \n",
       "\n",
       "        mvox      fpct      mpct        fg  \n",
       "1       2844  0.004364  0.004000  0.043506  \n",
       "2    1664466  2.423155  2.340903  0.017265  \n",
       "3    1265190  1.683158  1.779362 -0.027784  \n",
       "4    4095170  5.664646  5.759442 -0.008298  \n",
       "5      35191  0.043895  0.049493 -0.059945  \n",
       "..       ...       ...       ...       ...  \n",
       "229     2401  0.004406  0.003377  0.132293  \n",
       "230   440010  0.716343  0.618829  0.073034  \n",
       "231    29813  0.041266  0.041929 -0.007973  \n",
       "232    45913  0.062040  0.064572 -0.019997  \n",
       "233    37760  0.051673  0.053106 -0.013674  \n",
       "\n",
       "[232 rows x 8 columns]"
      ]
     },
     "execution_count": 11,
     "metadata": {},
     "output_type": "execute_result"
    }
   ],
   "source": [
    "df['fpct'] = (df['fvox']/np.sum(df.fvox))*100\n",
    "df['mpct'] = (df['mvox']/np.sum(df.mvox))*100\n",
    "df['fg']= (df['fpct']-df['mpct'])/(df['fpct']+df['mpct'])\n",
    "df"
   ]
  },
  {
   "cell_type": "code",
   "execution_count": 12,
   "metadata": {},
   "outputs": [],
   "source": [
    "df.to_csv(percentcsv)"
   ]
  },
  {
   "cell_type": "code",
   "execution_count": null,
   "metadata": {},
   "outputs": [],
   "source": []
  },
  {
   "cell_type": "code",
   "execution_count": 13,
   "metadata": {},
   "outputs": [
    {
     "data": {
      "image/png": "[encoded data removed]",
      "text/plain": [
       "<Figure size 432x288 with 1 Axes>"
      ]
     },
     "metadata": {
      "needs_background": "light"
     },
     "output_type": "display_data"
    }
   ],
   "source": [
    "plt.hist(df.fpct-df.mpct/sum(df.fpct,df.mpct),bins=10)\n",
    "plt.show()"
   ]
  },
  {
   "cell_type": "code",
   "execution_count": 70,
   "metadata": {},
   "outputs": [],
   "source": [
    "mp = 0\n",
    "sp = np.nanstd(df.fg)"
   ]
  },
  {
   "cell_type": "code",
   "execution_count": 71,
   "metadata": {},
   "outputs": [],
   "source": [
    "highmp = mp+sp\n",
    "highmp\n",
    "highermp = mp+(2*sp)"
   ]
  },
  {
   "cell_type": "code",
   "execution_count": 72,
   "metadata": {},
   "outputs": [],
   "source": [
    "lowmp = mp-(0.5*sp)\n",
    "lowmp\n",
    "lowermp=mp-(2*sp)"
   ]
  },
  {
   "cell_type": "code",
   "execution_count": 17,
   "metadata": {},
   "outputs": [],
   "source": [
    "df=pd.read_csv(percentcsv)"
   ]
  },
  {
   "cell_type": "code",
   "execution_count": 69,
   "metadata": {
    "scrolled": true
   },
   "outputs": [
    {
     "data": {
      "text/plain": [
       "-0.0045578046095393135"
      ]
     },
     "execution_count": 69,
     "metadata": {},
     "output_type": "execute_result"
    }
   ],
   "source": [
    "mp"
   ]
  },
  {
   "cell_type": "code",
   "execution_count": 147,
   "metadata": {},
   "outputs": [
    {
     "data": {
      "text/plain": [
       "1162"
      ]
     },
     "execution_count": 147,
     "metadata": {},
     "output_type": "execute_result"
    }
   ],
   "source": []
  },
  {
   "cell_type": "code",
   "execution_count": 148,
   "metadata": {},
   "outputs": [],
   "source": [
    "# want to take IDs and set all to 0 except fg > highmp == 800, fg > higher mp == 1000\n",
    "# fg < lowmp == 600, fg < lowermp == 500\n",
    "# then save the tiff\n",
    "sex_relative = tif.imread(mann)\n",
    "np.max(sex_relative)\n",
    "\n",
    "for i in df['ID']:\n",
    "    if df[df['ID']==i]['fg'].item() >.09:\n",
    "        sex_relative[sex_relative==i]=1000\n",
    "    else:\n",
    "        sex_relative[sex_relative==i]=0"
   ]
  },
  {
   "cell_type": "code",
   "execution_count": 149,
   "metadata": {},
   "outputs": [],
   "source": [
    "tif.imsave('/home/emilyjanedennis/Desktop/hi_sigma.tif',sex_relative)"
   ]
  },
  {
   "cell_type": "code",
   "execution_count": 104,
   "metadata": {},
   "outputs": [
    {
     "data": {
      "image/png": "[encoded data removed]",
      "text/plain": [
       "<Figure size 432x288 with 1 Axes>"
      ]
     },
     "metadata": {
      "needs_background": "light"
     },
     "output_type": "display_data"
    }
   ],
   "source": [
    "plt.hist(df['fg'])\n",
    "plt.show()"
   ]
  },
  {
   "cell_type": "code",
   "execution_count": 142,
   "metadata": {},
   "outputs": [
    {
     "data": {
      "text/plain": [
       "24"
      ]
     },
     "execution_count": 142,
     "metadata": {},
     "output_type": "execute_result"
    }
   ],
   "source": [
    "np.sum(df['fg']<-.06)"
   ]
  },
  {
   "cell_type": "code",
   "execution_count": 143,
   "metadata": {},
   "outputs": [
    {
     "data": {
      "text/plain": [
       "27"
      ]
     },
     "execution_count": 143,
     "metadata": {},
     "output_type": "execute_result"
    }
   ],
   "source": [
    "np.sum(df['fg']>.09)"
   ]
  },
  {
   "cell_type": "code",
   "execution_count": 124,
   "metadata": {},
   "outputs": [
    {
     "data": {
      "text/plain": [
       "-0.11149420498351735"
      ]
     },
     "execution_count": 124,
     "metadata": {},
     "output_type": "execute_result"
    }
   ],
   "source": []
  },
  {
   "cell_type": "code",
   "execution_count": null,
   "metadata": {},
   "outputs": [],
   "source": []
  }
 ],
 "metadata": {
  "kernelspec": {
   "display_name": "Python 3",
   "language": "python",
   "name": "python3"
  },
  "language_info": {
   "codemirror_mode": {
    "name": "ipython",
    "version": 3
   },
   "file_extension": ".py",
   "mimetype": "text/x-python",
   "name": "python",
   "nbconvert_exporter": "python",
   "pygments_lexer": "ipython3",
   "version": "3.8.3"
  }
 },
 "nbformat": 4,
 "nbformat_minor": 4
}

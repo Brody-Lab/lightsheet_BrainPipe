{
 "cells": [
  {
   "cell_type": "code",
   "execution_count": 1,
   "metadata": {},
   "outputs": [],
   "source": [
    "import os, sys, time\n",
    "import tifffile as tif\n",
    "sys.path.append(\"/home/emilyjanedennis/Desktop/GitHub/rat_BrainPipe\")\n",
    "from tools.utils.io import makedir\n",
    "from tools.registration.register import change_interpolation_order, transformix_command_line_call\n",
    "from tools.registration.transform_list_of_points import modify_transform_files\n",
    "from scipy.ndimage.interpolation import zoom\n",
    "import matplotlib.pyplot as plt\n",
    "import numpy as np\n",
    "import pandas as pd\n",
    "import csv"
   ]
  },
  {
   "cell_type": "markdown",
   "metadata": {},
   "source": [
    "## Purpose: to compare two separate annotations files and outputs from calculating_vox-diffs... notebook"
   ]
  },
  {
   "cell_type": "code",
   "execution_count": 5,
   "metadata": {},
   "outputs": [],
   "source": [
    "src = \"/home/emilyjanedennis/Desktop/for_registration_to_lightsheet\"\n",
    "# affinefile = os.path.join(src, \"output_dirs/valdes_to_PRA_affine/result.tif\")\n",
    "# transformixedfile = os.path.join(src, \"output_dirs/valdes_to_PRA/result.tif\")\n",
    "ann1filename = os.path.join(src,\"labels/valdes-hernandez_labels.csv\")\n",
    "ann2filename = os.path.join(src,\"labels/chon_label_ids.csv\")\n",
    "percent1csv = os.path.join(src,\"valdes_to_PRA_percent.csv\")\n",
    "percent2csv = os.path.join(src,\"Chon_to_PRA_percent.csv\")\n",
    "# transformixed_relative_ZEROED_tiff = os.path.join(src,\"valdes_to_PRA_relative_ZEROED_tiff.tif\")\n",
    "# transformixed_relative_tiff = os.path.join(src,\"valdes_to_PRA_relative_tiff.tif\")"
   ]
  },
  {
   "cell_type": "code",
   "execution_count": 6,
   "metadata": {},
   "outputs": [],
   "source": [
    "#affine = tif.imread(affinefile)\n",
    "#print(\"read affine tiff\")\n",
    "#transformixed = tif.imread(transformixedfile)\n",
    "#print(\"read transformixed tiff\")"
   ]
  },
  {
   "cell_type": "code",
   "execution_count": 7,
   "metadata": {},
   "outputs": [],
   "source": [
    "# make sure your annotations have the first column as id number, 2nd as abbreviation, or else change the input below\n",
    "ann1=pd.read_csv(ann1filename,usecols=[0,1],header=0,names=['id','abbr'])\n",
    "ann2=pd.read_csv(ann2filename,usecols=[0,1],header=0,names=['id','abbr'])"
   ]
  },
  {
   "cell_type": "code",
   "execution_count": 11,
   "metadata": {},
   "outputs": [],
   "source": [
    "df = ann1"
   ]
  },
  {
   "cell_type": "code",
   "execution_count": 12,
   "metadata": {},
   "outputs": [],
   "source": [
    "df.insert(2,'ann2id',ann2['id'])\n",
    "df.insert(3,'ann2abbr',ann2['abbr'])"
   ]
  },
  {
   "cell_type": "code",
   "execution_count": 13,
   "metadata": {},
   "outputs": [
    {
     "data": {
      "text/html": [
       "<div>\n",
       "<style scoped>\n",
       "    .dataframe tbody tr th:only-of-type {\n",
       "        vertical-align: middle;\n",
       "    }\n",
       "\n",
       "    .dataframe tbody tr th {\n",
       "        vertical-align: top;\n",
       "    }\n",
       "\n",
       "    .dataframe thead th {\n",
       "        text-align: right;\n",
       "    }\n",
       "</style>\n",
       "<table border=\"1\" class=\"dataframe\">\n",
       "  <thead>\n",
       "    <tr style=\"text-align: right;\">\n",
       "      <th></th>\n",
       "      <th>id</th>\n",
       "      <th>abbr</th>\n",
       "      <th>ann2id</th>\n",
       "      <th>ann2abbr</th>\n",
       "    </tr>\n",
       "  </thead>\n",
       "  <tbody>\n",
       "    <tr>\n",
       "      <th>0</th>\n",
       "      <td>1</td>\n",
       "      <td>AID</td>\n",
       "      <td>1</td>\n",
       "      <td>VTM</td>\n",
       "    </tr>\n",
       "    <tr>\n",
       "      <th>1</th>\n",
       "      <td>2</td>\n",
       "      <td>AIP</td>\n",
       "      <td>2</td>\n",
       "      <td>S1ULp-6b</td>\n",
       "    </tr>\n",
       "    <tr>\n",
       "      <th>2</th>\n",
       "      <td>3</td>\n",
       "      <td>AIV</td>\n",
       "      <td>3</td>\n",
       "      <td>sf</td>\n",
       "    </tr>\n",
       "    <tr>\n",
       "      <th>3</th>\n",
       "      <td>4</td>\n",
       "      <td>APir</td>\n",
       "      <td>4</td>\n",
       "      <td>IC</td>\n",
       "    </tr>\n",
       "    <tr>\n",
       "      <th>4</th>\n",
       "      <td>5</td>\n",
       "      <td>Au1</td>\n",
       "      <td>6</td>\n",
       "      <td>ic</td>\n",
       "    </tr>\n",
       "    <tr>\n",
       "      <th>...</th>\n",
       "      <td>...</td>\n",
       "      <td>...</td>\n",
       "      <td>...</td>\n",
       "      <td>...</td>\n",
       "    </tr>\n",
       "    <tr>\n",
       "      <th>157</th>\n",
       "      <td>146</td>\n",
       "      <td>BedNucofSTL</td>\n",
       "      <td>204</td>\n",
       "      <td>MiA</td>\n",
       "    </tr>\n",
       "    <tr>\n",
       "      <th>158</th>\n",
       "      <td>148</td>\n",
       "      <td>PituitL</td>\n",
       "      <td>206</td>\n",
       "      <td>RMg</td>\n",
       "    </tr>\n",
       "    <tr>\n",
       "      <th>159</th>\n",
       "      <td>150</td>\n",
       "      <td>VentriclesL</td>\n",
       "      <td>207</td>\n",
       "      <td>AP</td>\n",
       "    </tr>\n",
       "    <tr>\n",
       "      <th>160</th>\n",
       "      <td>152</td>\n",
       "      <td>OpticPthL</td>\n",
       "      <td>208</td>\n",
       "      <td>ACo-3</td>\n",
       "    </tr>\n",
       "    <tr>\n",
       "      <th>161</th>\n",
       "      <td>154</td>\n",
       "      <td>PinealL</td>\n",
       "      <td>209</td>\n",
       "      <td>LVe</td>\n",
       "    </tr>\n",
       "  </tbody>\n",
       "</table>\n",
       "<p>162 rows × 4 columns</p>\n",
       "</div>"
      ],
      "text/plain": [
       "      id         abbr  ann2id  ann2abbr\n",
       "0      1         AID        1       VTM\n",
       "1      2         AIP        2  S1ULp-6b\n",
       "2      3         AIV        3        sf\n",
       "3      4        APir        4        IC\n",
       "4      5         Au1        6        ic\n",
       "..   ...          ...     ...       ...\n",
       "157  146  BedNucofSTL     204       MiA\n",
       "158  148      PituitL     206       RMg\n",
       "159  150  VentriclesL     207        AP\n",
       "160  152    OpticPthL     208     ACo-3\n",
       "161  154      PinealL     209       LVe\n",
       "\n",
       "[162 rows x 4 columns]"
      ]
     },
     "execution_count": 13,
     "metadata": {},
     "output_type": "execute_result"
    }
   ],
   "source": [
    "df"
   ]
  },
  {
   "cell_type": "code",
   "execution_count": null,
   "metadata": {},
   "outputs": [],
   "source": []
  },
  {
   "cell_type": "code",
   "execution_count": 61,
   "metadata": {
    "scrolled": true
   },
   "outputs": [
    {
     "name": "stderr",
     "output_type": "stream",
     "text": [
      "<ipython-input-61-5b4b09f8b678>:2: SettingWithCopyWarning: \n",
      "A value is trying to be set on a copy of a slice from a DataFrame\n",
      "\n",
      "See the caveats in the documentation: https://pandas.pydata.org/pandas-docs/stable/user_guide/indexing.html#returning-a-view-versus-a-copy\n",
      "  df.transformixed_vox[i] = np.size(transformixed[transformixed==df.id[i]])\n",
      "<ipython-input-61-5b4b09f8b678>:3: SettingWithCopyWarning: \n",
      "A value is trying to be set on a copy of a slice from a DataFrame\n",
      "\n",
      "See the caveats in the documentation: https://pandas.pydata.org/pandas-docs/stable/user_guide/indexing.html#returning-a-view-versus-a-copy\n",
      "  df.affine_vox[i] = np.size(affine[affine==df.id[i]])\n"
     ]
    }
   ],
   "source": [
    "for i in df['id']:\n",
    "    df.transformixed_vox[i] = np.size(transformixed[transformixed==df.id[i]])\n",
    "    df.affine_vox[i] = np.size(affine[affine==df.id[i]])"
   ]
  },
  {
   "cell_type": "code",
   "execution_count": 62,
   "metadata": {
    "scrolled": true
   },
   "outputs": [],
   "source": [
    "df['change'] = df['affine_vox']-df['transformixed_vox']"
   ]
  },
  {
   "cell_type": "code",
   "execution_count": 63,
   "metadata": {},
   "outputs": [
    {
     "data": {
      "text/html": [
       "<div>\n",
       "<style scoped>\n",
       "    .dataframe tbody tr th:only-of-type {\n",
       "        vertical-align: middle;\n",
       "    }\n",
       "\n",
       "    .dataframe tbody tr th {\n",
       "        vertical-align: top;\n",
       "    }\n",
       "\n",
       "    .dataframe thead th {\n",
       "        text-align: right;\n",
       "    }\n",
       "</style>\n",
       "<table border=\"1\" class=\"dataframe\">\n",
       "  <thead>\n",
       "    <tr style=\"text-align: right;\">\n",
       "      <th></th>\n",
       "      <th>id</th>\n",
       "      <th>abbr</th>\n",
       "      <th>affine_vox</th>\n",
       "      <th>transformixed_vox</th>\n",
       "      <th>change</th>\n",
       "    </tr>\n",
       "  </thead>\n",
       "  <tbody>\n",
       "    <tr>\n",
       "      <th>0</th>\n",
       "      <td>1</td>\n",
       "      <td>AID</td>\n",
       "      <td>0</td>\n",
       "      <td>0</td>\n",
       "      <td>0</td>\n",
       "    </tr>\n",
       "    <tr>\n",
       "      <th>1</th>\n",
       "      <td>2</td>\n",
       "      <td>AIP</td>\n",
       "      <td>389370</td>\n",
       "      <td>370564</td>\n",
       "      <td>18806</td>\n",
       "    </tr>\n",
       "    <tr>\n",
       "      <th>2</th>\n",
       "      <td>3</td>\n",
       "      <td>AIV</td>\n",
       "      <td>283199</td>\n",
       "      <td>281826</td>\n",
       "      <td>1373</td>\n",
       "    </tr>\n",
       "    <tr>\n",
       "      <th>3</th>\n",
       "      <td>4</td>\n",
       "      <td>APir</td>\n",
       "      <td>258438</td>\n",
       "      <td>246453</td>\n",
       "      <td>11985</td>\n",
       "    </tr>\n",
       "    <tr>\n",
       "      <th>4</th>\n",
       "      <td>5</td>\n",
       "      <td>Au1</td>\n",
       "      <td>634157</td>\n",
       "      <td>589051</td>\n",
       "      <td>45106</td>\n",
       "    </tr>\n",
       "    <tr>\n",
       "      <th>...</th>\n",
       "      <td>...</td>\n",
       "      <td>...</td>\n",
       "      <td>...</td>\n",
       "      <td>...</td>\n",
       "      <td>...</td>\n",
       "    </tr>\n",
       "    <tr>\n",
       "      <th>157</th>\n",
       "      <td>146</td>\n",
       "      <td>BedNucofSTL</td>\n",
       "      <td>0</td>\n",
       "      <td>0</td>\n",
       "      <td>0</td>\n",
       "    </tr>\n",
       "    <tr>\n",
       "      <th>158</th>\n",
       "      <td>148</td>\n",
       "      <td>PituitL</td>\n",
       "      <td>0</td>\n",
       "      <td>0</td>\n",
       "      <td>0</td>\n",
       "    </tr>\n",
       "    <tr>\n",
       "      <th>159</th>\n",
       "      <td>150</td>\n",
       "      <td>VentriclesL</td>\n",
       "      <td>0</td>\n",
       "      <td>0</td>\n",
       "      <td>0</td>\n",
       "    </tr>\n",
       "    <tr>\n",
       "      <th>160</th>\n",
       "      <td>152</td>\n",
       "      <td>OpticPthL</td>\n",
       "      <td>0</td>\n",
       "      <td>0</td>\n",
       "      <td>0</td>\n",
       "    </tr>\n",
       "    <tr>\n",
       "      <th>161</th>\n",
       "      <td>154</td>\n",
       "      <td>PinealL</td>\n",
       "      <td>0</td>\n",
       "      <td>0</td>\n",
       "      <td>0</td>\n",
       "    </tr>\n",
       "  </tbody>\n",
       "</table>\n",
       "<p>162 rows × 5 columns</p>\n",
       "</div>"
      ],
      "text/plain": [
       "      id         abbr  affine_vox  transformixed_vox  change\n",
       "0      1         AID            0                  0       0\n",
       "1      2         AIP       389370             370564   18806\n",
       "2      3         AIV       283199             281826    1373\n",
       "3      4        APir       258438             246453   11985\n",
       "4      5         Au1       634157             589051   45106\n",
       "..   ...          ...         ...                ...     ...\n",
       "157  146  BedNucofSTL           0                  0       0\n",
       "158  148      PituitL           0                  0       0\n",
       "159  150  VentriclesL           0                  0       0\n",
       "160  152    OpticPthL           0                  0       0\n",
       "161  154      PinealL           0                  0       0\n",
       "\n",
       "[162 rows x 5 columns]"
      ]
     },
     "execution_count": 63,
     "metadata": {},
     "output_type": "execute_result"
    }
   ],
   "source": [
    "df"
   ]
  },
  {
   "cell_type": "code",
   "execution_count": 64,
   "metadata": {},
   "outputs": [
    {
     "data": {
      "text/html": [
       "<div>\n",
       "<style scoped>\n",
       "    .dataframe tbody tr th:only-of-type {\n",
       "        vertical-align: middle;\n",
       "    }\n",
       "\n",
       "    .dataframe tbody tr th {\n",
       "        vertical-align: top;\n",
       "    }\n",
       "\n",
       "    .dataframe thead th {\n",
       "        text-align: right;\n",
       "    }\n",
       "</style>\n",
       "<table border=\"1\" class=\"dataframe\">\n",
       "  <thead>\n",
       "    <tr style=\"text-align: right;\">\n",
       "      <th></th>\n",
       "      <th>id</th>\n",
       "      <th>abbr</th>\n",
       "      <th>affine_vox</th>\n",
       "      <th>transformixed_vox</th>\n",
       "      <th>change</th>\n",
       "    </tr>\n",
       "  </thead>\n",
       "  <tbody>\n",
       "    <tr>\n",
       "      <th>1</th>\n",
       "      <td>2</td>\n",
       "      <td>AIP</td>\n",
       "      <td>389370</td>\n",
       "      <td>370564</td>\n",
       "      <td>18806</td>\n",
       "    </tr>\n",
       "    <tr>\n",
       "      <th>2</th>\n",
       "      <td>3</td>\n",
       "      <td>AIV</td>\n",
       "      <td>283199</td>\n",
       "      <td>281826</td>\n",
       "      <td>1373</td>\n",
       "    </tr>\n",
       "    <tr>\n",
       "      <th>3</th>\n",
       "      <td>4</td>\n",
       "      <td>APir</td>\n",
       "      <td>258438</td>\n",
       "      <td>246453</td>\n",
       "      <td>11985</td>\n",
       "    </tr>\n",
       "    <tr>\n",
       "      <th>4</th>\n",
       "      <td>5</td>\n",
       "      <td>Au1</td>\n",
       "      <td>634157</td>\n",
       "      <td>589051</td>\n",
       "      <td>45106</td>\n",
       "    </tr>\n",
       "    <tr>\n",
       "      <th>5</th>\n",
       "      <td>6</td>\n",
       "      <td>AuD</td>\n",
       "      <td>310826</td>\n",
       "      <td>290206</td>\n",
       "      <td>20620</td>\n",
       "    </tr>\n",
       "    <tr>\n",
       "      <th>...</th>\n",
       "      <td>...</td>\n",
       "      <td>...</td>\n",
       "      <td>...</td>\n",
       "      <td>...</td>\n",
       "      <td>...</td>\n",
       "    </tr>\n",
       "    <tr>\n",
       "      <th>150</th>\n",
       "      <td>132</td>\n",
       "      <td>FimbriaL</td>\n",
       "      <td>630631</td>\n",
       "      <td>658444</td>\n",
       "      <td>-27813</td>\n",
       "    </tr>\n",
       "    <tr>\n",
       "      <th>151</th>\n",
       "      <td>134</td>\n",
       "      <td>CorpColloL</td>\n",
       "      <td>988558</td>\n",
       "      <td>1045616</td>\n",
       "      <td>-57058</td>\n",
       "    </tr>\n",
       "    <tr>\n",
       "      <th>152</th>\n",
       "      <td>136</td>\n",
       "      <td>AmygL</td>\n",
       "      <td>1047422</td>\n",
       "      <td>990460</td>\n",
       "      <td>56962</td>\n",
       "    </tr>\n",
       "    <tr>\n",
       "      <th>153</th>\n",
       "      <td>138</td>\n",
       "      <td>PreopAreaL</td>\n",
       "      <td>426088</td>\n",
       "      <td>422010</td>\n",
       "      <td>4078</td>\n",
       "    </tr>\n",
       "    <tr>\n",
       "      <th>154</th>\n",
       "      <td>140</td>\n",
       "      <td>IsocorL</td>\n",
       "      <td>924815</td>\n",
       "      <td>959900</td>\n",
       "      <td>-35085</td>\n",
       "    </tr>\n",
       "  </tbody>\n",
       "</table>\n",
       "<p>154 rows × 5 columns</p>\n",
       "</div>"
      ],
      "text/plain": [
       "      id        abbr  affine_vox  transformixed_vox  change\n",
       "1      2        AIP       389370             370564   18806\n",
       "2      3        AIV       283199             281826    1373\n",
       "3      4       APir       258438             246453   11985\n",
       "4      5        Au1       634157             589051   45106\n",
       "5      6        AuD       310826             290206   20620\n",
       "..   ...         ...         ...                ...     ...\n",
       "150  132    FimbriaL      630631             658444  -27813\n",
       "151  134  CorpColloL      988558            1045616  -57058\n",
       "152  136       AmygL     1047422             990460   56962\n",
       "153  138  PreopAreaL      426088             422010    4078\n",
       "154  140     IsocorL      924815             959900  -35085\n",
       "\n",
       "[154 rows x 5 columns]"
      ]
     },
     "execution_count": 64,
     "metadata": {},
     "output_type": "execute_result"
    }
   ],
   "source": [
    "df = df[df.transformixed_vox > 0]\n",
    "df"
   ]
  },
  {
   "cell_type": "code",
   "execution_count": 65,
   "metadata": {},
   "outputs": [
    {
     "name": "stderr",
     "output_type": "stream",
     "text": [
      "<ipython-input-65-fce1c83d1c49>:3: SettingWithCopyWarning: \n",
      "A value is trying to be set on a copy of a slice from a DataFrame.\n",
      "Try using .loc[row_indexer,col_indexer] = value instead\n",
      "\n",
      "See the caveats in the documentation: https://pandas.pydata.org/pandas-docs/stable/user_guide/indexing.html#returning-a-view-versus-a-copy\n",
      "  df['percent'] = dfpercent\n"
     ]
    },
    {
     "data": {
      "text/plain": [
       "1      5.074967\n",
       "2      0.487180\n",
       "3      4.862996\n",
       "4      7.657401\n",
       "5      7.105298\n",
       "         ...   \n",
       "150   -4.224049\n",
       "151   -5.456879\n",
       "152    5.751065\n",
       "153    0.966328\n",
       "154   -3.655068\n",
       "Length: 154, dtype: float64"
      ]
     },
     "execution_count": 65,
     "metadata": {},
     "output_type": "execute_result"
    }
   ],
   "source": [
    "dfpercent = (df['change']/df['transformixed_vox'])*100\n",
    "dfpercent[np.isinf(dfpercent)]=0\n",
    "df['percent'] = dfpercent\n",
    "dfpercent.replace(0,np.nan)"
   ]
  },
  {
   "cell_type": "code",
   "execution_count": 66,
   "metadata": {},
   "outputs": [
    {
     "data": {
      "image/png": "[encoded data removed]",
      "text/plain": [
       "<Figure size 432x288 with 1 Axes>"
      ]
     },
     "metadata": {
      "needs_background": "light"
     },
     "output_type": "display_data"
    }
   ],
   "source": [
    "plt.hist(df.percent,bins=100)\n",
    "plt.show()"
   ]
  },
  {
   "cell_type": "code",
   "execution_count": 67,
   "metadata": {},
   "outputs": [],
   "source": [
    "mp = np.nanmedian(df.percent)\n",
    "sp = np.nanstd(df.percent)"
   ]
  },
  {
   "cell_type": "code",
   "execution_count": 68,
   "metadata": {},
   "outputs": [
    {
     "data": {
      "text/plain": [
       "7.599382989196152"
      ]
     },
     "execution_count": 68,
     "metadata": {},
     "output_type": "execute_result"
    }
   ],
   "source": [
    "highmp = mp+sp\n",
    "highmp"
   ]
  },
  {
   "cell_type": "code",
   "execution_count": 69,
   "metadata": {},
   "outputs": [
    {
     "data": {
      "text/plain": [
       "-0.7200872153348401"
      ]
     },
     "execution_count": 69,
     "metadata": {},
     "output_type": "execute_result"
    }
   ],
   "source": [
    "lowmp = mp-sp\n",
    "lowmp"
   ]
  },
  {
   "cell_type": "code",
   "execution_count": 70,
   "metadata": {},
   "outputs": [],
   "source": [
    "df.to_csv(percentcsv)"
   ]
  },
  {
   "cell_type": "code",
   "execution_count": 71,
   "metadata": {},
   "outputs": [],
   "source": [
    "df=pd.read_csv(percentcsv)"
   ]
  },
  {
   "cell_type": "code",
   "execution_count": 72,
   "metadata": {
    "scrolled": true
   },
   "outputs": [
    {
     "data": {
      "text/html": [
       "<div>\n",
       "<style scoped>\n",
       "    .dataframe tbody tr th:only-of-type {\n",
       "        vertical-align: middle;\n",
       "    }\n",
       "\n",
       "    .dataframe tbody tr th {\n",
       "        vertical-align: top;\n",
       "    }\n",
       "\n",
       "    .dataframe thead th {\n",
       "        text-align: right;\n",
       "    }\n",
       "</style>\n",
       "<table border=\"1\" class=\"dataframe\">\n",
       "  <thead>\n",
       "    <tr style=\"text-align: right;\">\n",
       "      <th></th>\n",
       "      <th>Unnamed: 0</th>\n",
       "      <th>id</th>\n",
       "      <th>abbr</th>\n",
       "      <th>affine_vox</th>\n",
       "      <th>transformixed_vox</th>\n",
       "      <th>change</th>\n",
       "      <th>percent</th>\n",
       "    </tr>\n",
       "  </thead>\n",
       "  <tbody>\n",
       "    <tr>\n",
       "      <th>0</th>\n",
       "      <td>1</td>\n",
       "      <td>2</td>\n",
       "      <td>AIP</td>\n",
       "      <td>389370</td>\n",
       "      <td>370564</td>\n",
       "      <td>18806</td>\n",
       "      <td>5.074967</td>\n",
       "    </tr>\n",
       "    <tr>\n",
       "      <th>1</th>\n",
       "      <td>2</td>\n",
       "      <td>3</td>\n",
       "      <td>AIV</td>\n",
       "      <td>283199</td>\n",
       "      <td>281826</td>\n",
       "      <td>1373</td>\n",
       "      <td>0.487180</td>\n",
       "    </tr>\n",
       "    <tr>\n",
       "      <th>2</th>\n",
       "      <td>3</td>\n",
       "      <td>4</td>\n",
       "      <td>APir</td>\n",
       "      <td>258438</td>\n",
       "      <td>246453</td>\n",
       "      <td>11985</td>\n",
       "      <td>4.862996</td>\n",
       "    </tr>\n",
       "    <tr>\n",
       "      <th>3</th>\n",
       "      <td>4</td>\n",
       "      <td>5</td>\n",
       "      <td>Au1</td>\n",
       "      <td>634157</td>\n",
       "      <td>589051</td>\n",
       "      <td>45106</td>\n",
       "      <td>7.657401</td>\n",
       "    </tr>\n",
       "    <tr>\n",
       "      <th>4</th>\n",
       "      <td>5</td>\n",
       "      <td>6</td>\n",
       "      <td>AuD</td>\n",
       "      <td>310826</td>\n",
       "      <td>290206</td>\n",
       "      <td>20620</td>\n",
       "      <td>7.105298</td>\n",
       "    </tr>\n",
       "    <tr>\n",
       "      <th>...</th>\n",
       "      <td>...</td>\n",
       "      <td>...</td>\n",
       "      <td>...</td>\n",
       "      <td>...</td>\n",
       "      <td>...</td>\n",
       "      <td>...</td>\n",
       "      <td>...</td>\n",
       "    </tr>\n",
       "    <tr>\n",
       "      <th>149</th>\n",
       "      <td>150</td>\n",
       "      <td>132</td>\n",
       "      <td>FimbriaL</td>\n",
       "      <td>630631</td>\n",
       "      <td>658444</td>\n",
       "      <td>-27813</td>\n",
       "      <td>-4.224049</td>\n",
       "    </tr>\n",
       "    <tr>\n",
       "      <th>150</th>\n",
       "      <td>151</td>\n",
       "      <td>134</td>\n",
       "      <td>CorpColloL</td>\n",
       "      <td>988558</td>\n",
       "      <td>1045616</td>\n",
       "      <td>-57058</td>\n",
       "      <td>-5.456879</td>\n",
       "    </tr>\n",
       "    <tr>\n",
       "      <th>151</th>\n",
       "      <td>152</td>\n",
       "      <td>136</td>\n",
       "      <td>AmygL</td>\n",
       "      <td>1047422</td>\n",
       "      <td>990460</td>\n",
       "      <td>56962</td>\n",
       "      <td>5.751065</td>\n",
       "    </tr>\n",
       "    <tr>\n",
       "      <th>152</th>\n",
       "      <td>153</td>\n",
       "      <td>138</td>\n",
       "      <td>PreopAreaL</td>\n",
       "      <td>426088</td>\n",
       "      <td>422010</td>\n",
       "      <td>4078</td>\n",
       "      <td>0.966328</td>\n",
       "    </tr>\n",
       "    <tr>\n",
       "      <th>153</th>\n",
       "      <td>154</td>\n",
       "      <td>140</td>\n",
       "      <td>IsocorL</td>\n",
       "      <td>924815</td>\n",
       "      <td>959900</td>\n",
       "      <td>-35085</td>\n",
       "      <td>-3.655068</td>\n",
       "    </tr>\n",
       "  </tbody>\n",
       "</table>\n",
       "<p>154 rows × 7 columns</p>\n",
       "</div>"
      ],
      "text/plain": [
       "     Unnamed: 0   id        abbr  affine_vox  transformixed_vox  change  \\\n",
       "0             1    2        AIP       389370             370564   18806   \n",
       "1             2    3        AIV       283199             281826    1373   \n",
       "2             3    4       APir       258438             246453   11985   \n",
       "3             4    5        Au1       634157             589051   45106   \n",
       "4             5    6        AuD       310826             290206   20620   \n",
       "..          ...  ...         ...         ...                ...     ...   \n",
       "149         150  132    FimbriaL      630631             658444  -27813   \n",
       "150         151  134  CorpColloL      988558            1045616  -57058   \n",
       "151         152  136       AmygL     1047422             990460   56962   \n",
       "152         153  138  PreopAreaL      426088             422010    4078   \n",
       "153         154  140     IsocorL      924815             959900  -35085   \n",
       "\n",
       "      percent  \n",
       "0    5.074967  \n",
       "1    0.487180  \n",
       "2    4.862996  \n",
       "3    7.657401  \n",
       "4    7.105298  \n",
       "..        ...  \n",
       "149 -4.224049  \n",
       "150 -5.456879  \n",
       "151  5.751065  \n",
       "152  0.966328  \n",
       "153 -3.655068  \n",
       "\n",
       "[154 rows x 7 columns]"
      ]
     },
     "execution_count": 72,
     "metadata": {},
     "output_type": "execute_result"
    }
   ],
   "source": [
    "df"
   ]
  },
  {
   "cell_type": "code",
   "execution_count": 73,
   "metadata": {},
   "outputs": [
    {
     "data": {
      "text/plain": [
       "0        2\n",
       "1        3\n",
       "2        4\n",
       "3        5\n",
       "4        6\n",
       "      ... \n",
       "149    132\n",
       "150    134\n",
       "151    136\n",
       "152    138\n",
       "153    140\n",
       "Name: id, Length: 154, dtype: int64"
      ]
     },
     "execution_count": 73,
     "metadata": {},
     "output_type": "execute_result"
    }
   ],
   "source": [
    "too = df.id\n",
    "too"
   ]
  },
  {
   "cell_type": "code",
   "execution_count": 74,
   "metadata": {},
   "outputs": [],
   "source": [
    "transformixed_relative = transformixed"
   ]
  },
  {
   "cell_type": "code",
   "execution_count": 75,
   "metadata": {},
   "outputs": [
    {
     "data": {
      "text/plain": [
       "155"
      ]
     },
     "execution_count": 75,
     "metadata": {},
     "output_type": "execute_result"
    }
   ],
   "source": [
    "# add list of unique values not in twoxh/twoxl but in transformixed\n",
    "x = np.unique(transformixed)\n",
    "np.size(x)"
   ]
  },
  {
   "cell_type": "code",
   "execution_count": 76,
   "metadata": {},
   "outputs": [
    {
     "data": {
      "text/plain": [
       "9"
      ]
     },
     "execution_count": 76,
     "metadata": {},
     "output_type": "execute_result"
    }
   ],
   "source": [
    "test = np.setdiff1d(x,too)\n",
    "np.size(test)"
   ]
  },
  {
   "cell_type": "code",
   "execution_count": 77,
   "metadata": {},
   "outputs": [],
   "source": [
    "for i in test:\n",
    "    transformixed_relative[transformixed_relative==i]=0"
   ]
  },
  {
   "cell_type": "code",
   "execution_count": 78,
   "metadata": {},
   "outputs": [],
   "source": [
    "tif.imsave(transformixed_relative_ZEROED_tiff,transformixed_relative)"
   ]
  },
  {
   "cell_type": "code",
   "execution_count": 79,
   "metadata": {},
   "outputs": [],
   "source": [
    "for i in too:\n",
    "    transformixed_relative[transformixed_relative==i]=df.loc[df['id']==i,'percent'].iloc[0]"
   ]
  },
  {
   "cell_type": "code",
   "execution_count": 80,
   "metadata": {},
   "outputs": [],
   "source": [
    "tif.imsave(transformixed_relative_tiff,transformixed_relative)"
   ]
  },
  {
   "cell_type": "markdown",
   "metadata": {},
   "source": [
    "# If you already have a percent file"
   ]
  },
  {
   "cell_type": "code",
   "execution_count": 81,
   "metadata": {},
   "outputs": [],
   "source": [
    "df=pd.read_csv(percentcsv)"
   ]
  },
  {
   "cell_type": "code",
   "execution_count": 82,
   "metadata": {},
   "outputs": [
    {
     "data": {
      "image/png": "[encoded data removed]",
      "text/plain": [
       "<Figure size 432x288 with 1 Axes>"
      ]
     },
     "metadata": {
      "needs_background": "light"
     },
     "output_type": "display_data"
    }
   ],
   "source": [
    "plt.hist(df.percent[df.affine_vox>5],bins=100)\n",
    "\n",
    "dfmean = np.nanmean(df.percent[df.affine_vox>5])\n",
    "dfmedian = np.nanmedian(df.percent[df.affine_vox>5])\n",
    "dfstd = np.std(df.percent[df.affine_vox>5])\n",
    "mp = dfmean + dfstd\n",
    "mm = dfmean - dfstd\n",
    "\n",
    "mp2 = dfmean + 2*dfstd\n",
    "mp3 = dfmean + 3*dfstd\n",
    "mm2 = dfmean - 2*dfstd\n",
    "mm3 = dfmean - 3*dfstd\n",
    "\n",
    "\n",
    "plt.plot([dfmean, dfmean],[0,25],'r')\n",
    "plt.plot([dfmedian, dfmedian],[0,25],'k')\n",
    "plt.plot([mp,mp],[0,25],'c')\n",
    "plt.plot([mm,mm],[0,25],'c')\n",
    "plt.plot([mp2,mp2],[0,25],'c')\n",
    "plt.plot([mm2,mm2],[0,25],'c')\n",
    "plt.show()"
   ]
  },
  {
   "cell_type": "code",
   "execution_count": 83,
   "metadata": {},
   "outputs": [
    {
     "data": {
      "text/html": [
       "<div>\n",
       "<style scoped>\n",
       "    .dataframe tbody tr th:only-of-type {\n",
       "        vertical-align: middle;\n",
       "    }\n",
       "\n",
       "    .dataframe tbody tr th {\n",
       "        vertical-align: top;\n",
       "    }\n",
       "\n",
       "    .dataframe thead th {\n",
       "        text-align: right;\n",
       "    }\n",
       "</style>\n",
       "<table border=\"1\" class=\"dataframe\">\n",
       "  <thead>\n",
       "    <tr style=\"text-align: right;\">\n",
       "      <th></th>\n",
       "      <th>Unnamed: 0</th>\n",
       "      <th>id</th>\n",
       "      <th>abbr</th>\n",
       "      <th>affine_vox</th>\n",
       "      <th>transformixed_vox</th>\n",
       "      <th>change</th>\n",
       "      <th>percent</th>\n",
       "    </tr>\n",
       "  </thead>\n",
       "  <tbody>\n",
       "    <tr>\n",
       "      <th>0</th>\n",
       "      <td>1</td>\n",
       "      <td>2</td>\n",
       "      <td>AIP</td>\n",
       "      <td>389370</td>\n",
       "      <td>370564</td>\n",
       "      <td>18806</td>\n",
       "      <td>5.074967</td>\n",
       "    </tr>\n",
       "    <tr>\n",
       "      <th>1</th>\n",
       "      <td>2</td>\n",
       "      <td>3</td>\n",
       "      <td>AIV</td>\n",
       "      <td>283199</td>\n",
       "      <td>281826</td>\n",
       "      <td>1373</td>\n",
       "      <td>0.487180</td>\n",
       "    </tr>\n",
       "    <tr>\n",
       "      <th>2</th>\n",
       "      <td>3</td>\n",
       "      <td>4</td>\n",
       "      <td>APir</td>\n",
       "      <td>258438</td>\n",
       "      <td>246453</td>\n",
       "      <td>11985</td>\n",
       "      <td>4.862996</td>\n",
       "    </tr>\n",
       "    <tr>\n",
       "      <th>3</th>\n",
       "      <td>4</td>\n",
       "      <td>5</td>\n",
       "      <td>Au1</td>\n",
       "      <td>634157</td>\n",
       "      <td>589051</td>\n",
       "      <td>45106</td>\n",
       "      <td>7.657401</td>\n",
       "    </tr>\n",
       "    <tr>\n",
       "      <th>4</th>\n",
       "      <td>5</td>\n",
       "      <td>6</td>\n",
       "      <td>AuD</td>\n",
       "      <td>310826</td>\n",
       "      <td>290206</td>\n",
       "      <td>20620</td>\n",
       "      <td>7.105298</td>\n",
       "    </tr>\n",
       "    <tr>\n",
       "      <th>...</th>\n",
       "      <td>...</td>\n",
       "      <td>...</td>\n",
       "      <td>...</td>\n",
       "      <td>...</td>\n",
       "      <td>...</td>\n",
       "      <td>...</td>\n",
       "      <td>...</td>\n",
       "    </tr>\n",
       "    <tr>\n",
       "      <th>149</th>\n",
       "      <td>150</td>\n",
       "      <td>132</td>\n",
       "      <td>FimbriaL</td>\n",
       "      <td>630631</td>\n",
       "      <td>658444</td>\n",
       "      <td>-27813</td>\n",
       "      <td>-4.224049</td>\n",
       "    </tr>\n",
       "    <tr>\n",
       "      <th>150</th>\n",
       "      <td>151</td>\n",
       "      <td>134</td>\n",
       "      <td>CorpColloL</td>\n",
       "      <td>988558</td>\n",
       "      <td>1045616</td>\n",
       "      <td>-57058</td>\n",
       "      <td>-5.456879</td>\n",
       "    </tr>\n",
       "    <tr>\n",
       "      <th>151</th>\n",
       "      <td>152</td>\n",
       "      <td>136</td>\n",
       "      <td>AmygL</td>\n",
       "      <td>1047422</td>\n",
       "      <td>990460</td>\n",
       "      <td>56962</td>\n",
       "      <td>5.751065</td>\n",
       "    </tr>\n",
       "    <tr>\n",
       "      <th>152</th>\n",
       "      <td>153</td>\n",
       "      <td>138</td>\n",
       "      <td>PreopAreaL</td>\n",
       "      <td>426088</td>\n",
       "      <td>422010</td>\n",
       "      <td>4078</td>\n",
       "      <td>0.966328</td>\n",
       "    </tr>\n",
       "    <tr>\n",
       "      <th>153</th>\n",
       "      <td>154</td>\n",
       "      <td>140</td>\n",
       "      <td>IsocorL</td>\n",
       "      <td>924815</td>\n",
       "      <td>959900</td>\n",
       "      <td>-35085</td>\n",
       "      <td>-3.655068</td>\n",
       "    </tr>\n",
       "  </tbody>\n",
       "</table>\n",
       "<p>154 rows × 7 columns</p>\n",
       "</div>"
      ],
      "text/plain": [
       "     Unnamed: 0   id        abbr  affine_vox  transformixed_vox  change  \\\n",
       "0             1    2        AIP       389370             370564   18806   \n",
       "1             2    3        AIV       283199             281826    1373   \n",
       "2             3    4       APir       258438             246453   11985   \n",
       "3             4    5        Au1       634157             589051   45106   \n",
       "4             5    6        AuD       310826             290206   20620   \n",
       "..          ...  ...         ...         ...                ...     ...   \n",
       "149         150  132    FimbriaL      630631             658444  -27813   \n",
       "150         151  134  CorpColloL      988558            1045616  -57058   \n",
       "151         152  136       AmygL     1047422             990460   56962   \n",
       "152         153  138  PreopAreaL      426088             422010    4078   \n",
       "153         154  140     IsocorL      924815             959900  -35085   \n",
       "\n",
       "      percent  \n",
       "0    5.074967  \n",
       "1    0.487180  \n",
       "2    4.862996  \n",
       "3    7.657401  \n",
       "4    7.105298  \n",
       "..        ...  \n",
       "149 -4.224049  \n",
       "150 -5.456879  \n",
       "151  5.751065  \n",
       "152  0.966328  \n",
       "153 -3.655068  \n",
       "\n",
       "[154 rows x 7 columns]"
      ]
     },
     "execution_count": 83,
     "metadata": {},
     "output_type": "execute_result"
    }
   ],
   "source": [
    "# want to make summary -- ideally show a ranked 3, 2, 1std>mean \n",
    "# in diff colors, and then the \n",
    "# values either written or in bar form on the right\n",
    "\n",
    "df"
   ]
  },
  {
   "cell_type": "code",
   "execution_count": 84,
   "metadata": {},
   "outputs": [],
   "source": [
    "df2p = df[df.percent>mp2]\n",
    "df2p = df2p.sort_values('percent',ascending=False)\n",
    "df2m = df[df.percent < mm2]\n",
    "df2m = df2m.sort_values('percent',ascending=False)"
   ]
  },
  {
   "cell_type": "code",
   "execution_count": 85,
   "metadata": {},
   "outputs": [
    {
     "data": {
      "text/html": [
       "<div>\n",
       "<style scoped>\n",
       "    .dataframe tbody tr th:only-of-type {\n",
       "        vertical-align: middle;\n",
       "    }\n",
       "\n",
       "    .dataframe tbody tr th {\n",
       "        vertical-align: top;\n",
       "    }\n",
       "\n",
       "    .dataframe thead th {\n",
       "        text-align: right;\n",
       "    }\n",
       "</style>\n",
       "<table border=\"1\" class=\"dataframe\">\n",
       "  <thead>\n",
       "    <tr style=\"text-align: right;\">\n",
       "      <th></th>\n",
       "      <th>Unnamed: 0</th>\n",
       "      <th>id</th>\n",
       "      <th>abbr</th>\n",
       "      <th>affine_vox</th>\n",
       "      <th>transformixed_vox</th>\n",
       "      <th>change</th>\n",
       "      <th>percent</th>\n",
       "    </tr>\n",
       "  </thead>\n",
       "  <tbody>\n",
       "    <tr>\n",
       "      <th>150</th>\n",
       "      <td>151</td>\n",
       "      <td>134</td>\n",
       "      <td>CorpColloL</td>\n",
       "      <td>988558</td>\n",
       "      <td>1045616</td>\n",
       "      <td>-57058</td>\n",
       "      <td>-5.456879</td>\n",
       "    </tr>\n",
       "    <tr>\n",
       "      <th>69</th>\n",
       "      <td>70</td>\n",
       "      <td>133</td>\n",
       "      <td>CorpCollo</td>\n",
       "      <td>1057553</td>\n",
       "      <td>1122489</td>\n",
       "      <td>-64936</td>\n",
       "      <td>-5.785001</td>\n",
       "    </tr>\n",
       "    <tr>\n",
       "      <th>146</th>\n",
       "      <td>147</td>\n",
       "      <td>126</td>\n",
       "      <td>HippFormL</td>\n",
       "      <td>2226512</td>\n",
       "      <td>2387175</td>\n",
       "      <td>-160663</td>\n",
       "      <td>-6.730256</td>\n",
       "    </tr>\n",
       "    <tr>\n",
       "      <th>77</th>\n",
       "      <td>78</td>\n",
       "      <td>149</td>\n",
       "      <td>Ventricles</td>\n",
       "      <td>52591</td>\n",
       "      <td>57498</td>\n",
       "      <td>-4907</td>\n",
       "      <td>-8.534210</td>\n",
       "    </tr>\n",
       "    <tr>\n",
       "      <th>65</th>\n",
       "      <td>66</td>\n",
       "      <td>125</td>\n",
       "      <td>HippForm</td>\n",
       "      <td>2269373</td>\n",
       "      <td>2482259</td>\n",
       "      <td>-212886</td>\n",
       "      <td>-8.576301</td>\n",
       "    </tr>\n",
       "    <tr>\n",
       "      <th>139</th>\n",
       "      <td>140</td>\n",
       "      <td>112</td>\n",
       "      <td>HindbrL</td>\n",
       "      <td>4298318</td>\n",
       "      <td>4762565</td>\n",
       "      <td>-464247</td>\n",
       "      <td>-9.747835</td>\n",
       "    </tr>\n",
       "    <tr>\n",
       "      <th>58</th>\n",
       "      <td>59</td>\n",
       "      <td>111</td>\n",
       "      <td>Hindbr</td>\n",
       "      <td>4091615</td>\n",
       "      <td>4604107</td>\n",
       "      <td>-512492</td>\n",
       "      <td>-11.131192</td>\n",
       "    </tr>\n",
       "  </tbody>\n",
       "</table>\n",
       "</div>"
      ],
      "text/plain": [
       "     Unnamed: 0   id        abbr  affine_vox  transformixed_vox  change  \\\n",
       "150         151  134  CorpColloL      988558            1045616  -57058   \n",
       "69           70  133   CorpCollo     1057553            1122489  -64936   \n",
       "146         147  126   HippFormL     2226512            2387175 -160663   \n",
       "77           78  149  Ventricles       52591              57498   -4907   \n",
       "65           66  125    HippForm     2269373            2482259 -212886   \n",
       "139         140  112     HindbrL     4298318            4762565 -464247   \n",
       "58           59  111      Hindbr     4091615            4604107 -512492   \n",
       "\n",
       "       percent  \n",
       "150  -5.456879  \n",
       "69   -5.785001  \n",
       "146  -6.730256  \n",
       "77   -8.534210  \n",
       "65   -8.576301  \n",
       "139  -9.747835  \n",
       "58  -11.131192  "
      ]
     },
     "execution_count": 85,
     "metadata": {},
     "output_type": "execute_result"
    }
   ],
   "source": [
    "df2m"
   ]
  },
  {
   "cell_type": "code",
   "execution_count": 86,
   "metadata": {},
   "outputs": [
    {
     "data": {
      "text/html": [
       "<div>\n",
       "<style scoped>\n",
       "    .dataframe tbody tr th:only-of-type {\n",
       "        vertical-align: middle;\n",
       "    }\n",
       "\n",
       "    .dataframe tbody tr th {\n",
       "        vertical-align: top;\n",
       "    }\n",
       "\n",
       "    .dataframe thead th {\n",
       "        text-align: right;\n",
       "    }\n",
       "</style>\n",
       "<table border=\"1\" class=\"dataframe\">\n",
       "  <thead>\n",
       "    <tr style=\"text-align: right;\">\n",
       "      <th></th>\n",
       "      <th>Unnamed: 0</th>\n",
       "      <th>id</th>\n",
       "      <th>abbr</th>\n",
       "      <th>affine_vox</th>\n",
       "      <th>transformixed_vox</th>\n",
       "      <th>change</th>\n",
       "      <th>percent</th>\n",
       "    </tr>\n",
       "  </thead>\n",
       "  <tbody>\n",
       "    <tr>\n",
       "      <th>118</th>\n",
       "      <td>119</td>\n",
       "      <td>87</td>\n",
       "      <td>S1ULpL</td>\n",
       "      <td>563086</td>\n",
       "      <td>493930</td>\n",
       "      <td>69156</td>\n",
       "      <td>14.001174</td>\n",
       "    </tr>\n",
       "    <tr>\n",
       "      <th>110</th>\n",
       "      <td>111</td>\n",
       "      <td>79</td>\n",
       "      <td>S1BFL</td>\n",
       "      <td>926206</td>\n",
       "      <td>818878</td>\n",
       "      <td>107328</td>\n",
       "      <td>13.106714</td>\n",
       "    </tr>\n",
       "    <tr>\n",
       "      <th>29</th>\n",
       "      <td>30</td>\n",
       "      <td>31</td>\n",
       "      <td>S1BF</td>\n",
       "      <td>897201</td>\n",
       "      <td>802626</td>\n",
       "      <td>94575</td>\n",
       "      <td>11.783197</td>\n",
       "    </tr>\n",
       "  </tbody>\n",
       "</table>\n",
       "</div>"
      ],
      "text/plain": [
       "     Unnamed: 0  id    abbr  affine_vox  transformixed_vox  change    percent\n",
       "118         119  87  S1ULpL      563086             493930   69156  14.001174\n",
       "110         111  79   S1BFL      926206             818878  107328  13.106714\n",
       "29           30  31   S1BF       897201             802626   94575  11.783197"
      ]
     },
     "execution_count": 86,
     "metadata": {},
     "output_type": "execute_result"
    }
   ],
   "source": [
    "df2p"
   ]
  },
  {
   "cell_type": "code",
   "execution_count": 87,
   "metadata": {},
   "outputs": [
    {
     "data": {
      "image/png": "[encoded data removed]",
      "text/plain": [
       "<Figure size 432x288 with 1 Axes>"
      ]
     },
     "metadata": {
      "needs_background": "light"
     },
     "output_type": "display_data"
    }
   ],
   "source": [
    "plt.bar(df2p.abbr,df2p.percent,color='r')\n",
    "plt.bar(df2m.abbr,df2m.percent,color='c')\n",
    "plt.xticks(rotation=90,fontsize=8)\n",
    "plt.ylim([-25,25])\n",
    "plt.show()"
   ]
  },
  {
   "cell_type": "code",
   "execution_count": 54,
   "metadata": {
    "scrolled": true
   },
   "outputs": [
    {
     "data": {
      "image/png": "[encoded data removed]",
      "text/plain": [
       "<Figure size 432x288 with 1 Axes>"
      ]
     },
     "metadata": {
      "needs_background": "light"
     },
     "output_type": "display_data"
    }
   ],
   "source": [
    "plt.bar(df2p.abbr,df2p.percent,color='r')\n",
    "plt.bar(df2m.abbr,df2m.percent,color='c')\n",
    "plt.xticks(rotation=90,fontsize=8)\n",
    "plt.ylim([-25,25])\n",
    "plt.show()"
   ]
  },
  {
   "cell_type": "code",
   "execution_count": null,
   "metadata": {},
   "outputs": [],
   "source": []
  }
 ],
 "metadata": {
  "kernelspec": {
   "display_name": "Python 3",
   "language": "python",
   "name": "python3"
  },
  "language_info": {
   "codemirror_mode": {
    "name": "ipython",
    "version": 3
   },
   "file_extension": ".py",
   "mimetype": "text/x-python",
   "name": "python",
   "nbconvert_exporter": "python",
   "pygments_lexer": "ipython3",
   "version": "3.8.3"
  }
 },
 "nbformat": 4,
 "nbformat_minor": 4
}

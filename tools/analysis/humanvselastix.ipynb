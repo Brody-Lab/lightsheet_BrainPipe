{
 "cells": [
  {
   "cell_type": "code",
   "execution_count": 1,
   "metadata": {},
   "outputs": [],
   "source": [
    "import os,csv,json\n",
    "import numpy as np\n",
    "import matplotlib.pyplot as plt\n",
    "import pandas as pd\n",
    "import sys\n",
    "import seaborn as sns\n",
    "colorpalette = ['#65BADA','#87D0E2','#068E8C','#75B3A7','#00A757','#82BA4F','#E5BA52','#F3EA1F','#D86F27','#E89E23','#C82E6B','#D4668F','#991B37','#C30021','#364285','#5D5296','#7D5495']"
   ]
  },
  {
   "cell_type": "code",
   "execution_count": 40,
   "metadata": {},
   "outputs": [],
   "source": [
    "# import csv\n",
    "csv_file_name = \"/Users/emilydennis/Desktop/lightsheet/humanvselastix.csv\""
   ]
  },
  {
   "cell_type": "code",
   "execution_count": 83,
   "metadata": {},
   "outputs": [
    {
     "ename": "SyntaxError",
     "evalue": "invalid syntax (<ipython-input-83-5dffe3637fa3>, line 4)",
     "output_type": "error",
     "traceback": [
      "\u001b[0;36m  File \u001b[0;32m\"<ipython-input-83-5dffe3637fa3>\"\u001b[0;36m, line \u001b[0;32m4\u001b[0m\n\u001b[0;31m    fulldf[fulldf.annotator == 'Adrian' & fulldf.point = 1] = []\u001b[0m\n\u001b[0m                                                       ^\u001b[0m\n\u001b[0;31mSyntaxError\u001b[0m\u001b[0;31m:\u001b[0m invalid syntax\n"
     ]
    }
   ],
   "source": [
    "fulldf = pd.read_csv(csv_file_name)\n",
    "fulldf.keys()\n",
    "fulldf = fulldf[fulldf.annotator != 'Jorge']\n"
   ]
  },
  {
   "cell_type": "code",
   "execution_count": 42,
   "metadata": {},
   "outputs": [],
   "source": [
    "fulldf_nocomp = fulldf[fulldf.annotator != 'computer']\n",
    "fulldf_comp = fulldf[fulldf.annotator == 'computer']"
   ]
  },
  {
   "cell_type": "code",
   "execution_count": 70,
   "metadata": {},
   "outputs": [],
   "source": [
    "alldata = { } \n",
    "\n",
    "for name in np.unique(fulldf.annotator):\n",
    "    alldata[name] = {}\n",
    "    annotator = fulldf[fulldf.annotator==name]\n",
    "    for volume in [\"A\",\"B\",\"C\",\"D\",\"E\",\"F\",\"G\",\"H\"]:\n",
    "        annotatorvol = annotator[annotator.volume==volume]\n",
    "        alldata[name][volume]= {}\n",
    "        for point in range(1,5):\n",
    "            annotatorpt = annotatorvol[annotatorvol.point==point]\n",
    "            alldata[name][volume][point] = [annotatorpt.x.tolist(),annotatorpt.y.tolist(),annotatorpt.z.tolist()]\n",
    "\n"
   ]
  },
  {
   "cell_type": "code",
   "execution_count": 80,
   "metadata": {},
   "outputs": [],
   "source": [
    "# now that our data is easier to index, want to make different values for plotting\n",
    "toplot = { } \n",
    "\n",
    "for name in np.unique(fulldf_nocomp.annotator):\n",
    "    toplot[name] = {}\n",
    "    #want C vs G\n",
    "    toplot[name]['humanvar'] = {}\n",
    "    toplot[name]['before'] = {}\n",
    "    toplot[name]['affine'] = {}\n",
    "    toplot[name]['a1b'] = {}    \n",
    "    toplot[name]['final320'] = {}\n",
    "    toplot[name]['accuracy']={}\n",
    "    \n",
    "    for point in range(1,5):        \n",
    "        vals=(abs(np.subtract(alldata[name]['C'][point],alldata[name]['G'][point])))\n",
    "        val = np.add(vals[0],vals[1],vals[2])\n",
    "        toplot[name]['humanvar'][point] = val.item()\n",
    "        \n",
    "        vals=(abs(np.subtract(alldata[name]['B'][point],alldata[name]['F'][point])))\n",
    "        val = np.add(vals[0],vals[1],vals[2])\n",
    "        toplot[name]['before'][point] = val.item()\n",
    "        \n",
    "        vals=(abs(np.subtract(alldata[name]['D'][point],alldata[name]['F'][point])))\n",
    "        val = np.add(vals[0],vals[1],vals[2])\n",
    "        toplot[name]['affine'][point] = val.item()\n",
    "\n",
    "        vals=(abs(np.subtract(alldata[name]['E'][point],alldata[name]['F'][point])))\n",
    "        val = np.add(vals[0],vals[1],vals[2])\n",
    "        toplot[name]['a1b'][point] = val.item()\n",
    "\n",
    "        vals=(abs(np.subtract(alldata[name]['C'][point],alldata[name]['F'][point])))\n",
    "        val = np.add(vals[0],vals[1],vals[2])\n",
    "        toplot[name]['final320'][point] = val.item()\n",
    "        \n",
    "        vals=(abs(np.subtract(alldata[name]['F'][point],alldata['computer']['A'][point])))\n",
    "        val = np.add(vals[0],vals[1],vals[2])\n",
    "        toplot[name]['accuracy'][point] = val.item()        "
   ]
  },
  {
   "cell_type": "code",
   "execution_count": 135,
   "metadata": {},
   "outputs": [],
   "source": [
    "# calculate for each annotator, each point\n",
    "forplots = ['humanvar','before','affine','a1b','final320','accuracy']\n",
    "anns = ['Emily','Jess','Marino','Peter']\n",
    "#np.unique(fulldf_nocomp.annotator)\n",
    "points = [1,2,3,4]\n",
    "# want for each comparison, a value for each annotator and each point\n",
    "# columns = comparison, annotator, point\n",
    "# data = [{'comparison':'humanvar','annotator':'name','point':1,'value':}]\n"
   ]
  },
  {
   "cell_type": "code",
   "execution_count": 136,
   "metadata": {},
   "outputs": [],
   "source": [
    "collapsedpts=[]\n",
    "for comparison in forplots:\n",
    "    for name in anns:\n",
    "        collapsedpts.append([comparison,name,np.mean([*toplot[name][comparison].values()])])\n",
    "            \n",
    "pts=[]\n",
    "for comparison in forplots:\n",
    "    for name in anns:\n",
    "        for point in points:\n",
    "            pts.append([comparison,name,point,toplot[name][comparison][point]])"
   ]
  },
  {
   "cell_type": "code",
   "execution_count": 137,
   "metadata": {},
   "outputs": [],
   "source": [
    "pts_df = pd.DataFrame(pts,columns=['comparison','name','pts','value'])"
   ]
  },
  {
   "cell_type": "code",
   "execution_count": 138,
   "metadata": {},
   "outputs": [],
   "source": [
    "acc = pts_df[pts_df.comparison == 'accuracy']\n",
    "fail = acc[acc.value > 40]\n",
    "for idx in fail.index:\n",
    "    name = fail.name[fail.index==idx]\n",
    "    pts = float(fail.pts[fail.index==idx])\n",
    "    print(name)\n",
    "    print(pts)"
   ]
  },
  {
   "cell_type": "code",
   "execution_count": null,
   "metadata": {},
   "outputs": [],
   "source": []
  },
  {
   "cell_type": "code",
   "execution_count": 141,
   "metadata": {},
   "outputs": [
    {
     "data": {
      "text/plain": [
       "[(0.1, 200)]"
      ]
     },
     "execution_count": 141,
     "metadata": {},
     "output_type": "execute_result"
    },
    {
     "data": {
      "image/png": "[encoded data removed]",
      "text/plain": [
       "<Figure size 432x288 with 1 Axes>"
      ]
     },
     "metadata": {},
     "output_type": "display_data"
    }
   ],
   "source": [
    "\n",
    "ax = sns.set_style('whitegrid')\n",
    "ax=sns.set_palette(\"Paired\")\n",
    "ax= sns.swarmplot(x='comparison',y='value',data=pts_df,hue='name')\n",
    "ax.set(yscale='log')\n",
    "ax.set(ylim=(0.1,200))\n"
   ]
  },
  {
   "cell_type": "code",
   "execution_count": 164,
   "metadata": {},
   "outputs": [
    {
     "name": "stderr",
     "output_type": "stream",
     "text": [
      "The PostScript backend does not support transparency; partially transparent artists will be rendered opaque.\n",
      "The PostScript backend does not support transparency; partially transparent artists will be rendered opaque.\n"
     ]
    },
    {
     "data": {
      "image/png": "[encoded data removed]",
      "text/plain": [
       "<Figure size 842.4x595.44 with 1 Axes>"
      ]
     },
     "metadata": {},
     "output_type": "display_data"
    }
   ],
   "source": [
    "a4_dims = (11.7, 8.27)\n",
    "fig, ax = plt.subplots(figsize=a4_dims)\n",
    "\n",
    "ax = sns.set_style('whitegrid')\n",
    "ax=sns.set_palette(\"Paired\")\n",
    "ax= sns.swarmplot(ax=ax,x='comparison',y='value',data=pts_df,hue='name')\n",
    "ax = sns.violinplot(ax=ax,x='comparison',y='value',data=pts_df,color='white',cut=0, scale=\"width\")\n",
    "plt.savefig('/Users/emilydennis/Desktop/humanvselastix_log_byperson.eps')"
   ]
  },
  {
   "cell_type": "code",
   "execution_count": 168,
   "metadata": {},
   "outputs": [
    {
     "name": "stderr",
     "output_type": "stream",
     "text": [
      "The PostScript backend does not support transparency; partially transparent artists will be rendered opaque.\n",
      "The PostScript backend does not support transparency; partially transparent artists will be rendered opaque.\n"
     ]
    },
    {
     "data": {
      "image/png": "[encoded data removed]",
      "text/plain": [
       "<Figure size 842.4x595.44 with 1 Axes>"
      ]
     },
     "metadata": {},
     "output_type": "display_data"
    }
   ],
   "source": [
    "a4_dims = (11.7, 8.27)\n",
    "fig, ax2 = plt.subplots(figsize=a4_dims)\n",
    "collapsed_pts_df=collapsed_pts_df[collapsed_pts_df.name != 'Adrian']\n",
    "collapsed_pts_df=collapsed_pts_df[collapsed_pts_df.name != 'Chuck']\n",
    "collapsed_pts_df=collapsed_pts_df[collapsed_pts_df.name != 'Thomas']\n",
    "collapsed_pts_df=collapsed_pts_df[collapsed_pts_df.comparison != 'final315']\n",
    "collapsed_pts_df=collapsed_pts_df[collapsed_pts_df.comparison != 'final315v320']\n",
    "\n",
    "\n",
    "ax2 = sns.set_style('whitegrid')\n",
    "ax2=sns.set_palette(\"Paired\")\n",
    "ax2= sns.swarmplot(x='comparison',y='value',data=collapsed_pts_df,hue='name')\n",
    "ax2 = sns.violinplot(ax=ax2,x='comparison',y='value',data=collapsed_pts_df,color='white',cut=0, scale=\"width\")\n",
    "ax2.set(yscale='log')\n",
    "plt.savefig('/Users/emilydennis/Desktop/humanvselastix_notlog_collapsed.eps')"
   ]
  },
  {
   "cell_type": "code",
   "execution_count": null,
   "metadata": {},
   "outputs": [],
   "source": [
    "a4_dims = (11.7, 8.27)\n",
    "fig, ax2 = plt.subplots(figsize=a4_dims)\n",
    "\n",
    "ax2 = sns.set_style('whitegrid')\n",
    "ax2=sns.set_palette(\"Paired\")\n",
    "ax2= sns.swarmplot(x='comparison',y='value',data=collapsed_pts_df,hue='name')\n",
    "ax2 = sns.violinplot(ax=ax2,x='comparison',y='value',data=collapsed_pts_df,color='white',cut=0, scale=\"width\")\n",
    "ax2.set(y)\n",
    "plt.savefig('/Users/emilydennis/Desktop/humanvselastix_log_collapsed.eps')"
   ]
  },
  {
   "cell_type": "code",
   "execution_count": 55,
   "metadata": {},
   "outputs": [
    {
     "name": "stderr",
     "output_type": "stream",
     "text": [
      "/opt/anaconda3/lib/python3.7/site-packages/pandas/core/series.py:853: RuntimeWarning: divide by zero encountered in log10\n",
      "  result = getattr(ufunc, method)(*inputs, **kwargs)\n"
     ]
    }
   ],
   "source": [
    "pts_df['logval'] = np.log10(pts_df['value'])"
   ]
  },
  {
   "cell_type": "code",
   "execution_count": 134,
   "metadata": {},
   "outputs": [
    {
     "ename": "ValueError",
     "evalue": "Could not interpret input 'logval'",
     "output_type": "error",
     "traceback": [
      "\u001b[0;31m---------------------------------------------------------------------------\u001b[0m",
      "\u001b[0;31mValueError\u001b[0m                                Traceback (most recent call last)",
      "\u001b[0;32m<ipython-input-134-daecaef540d7>\u001b[0m in \u001b[0;36m<module>\u001b[0;34m\u001b[0m\n\u001b[1;32m      1\u001b[0m \u001b[0max\u001b[0m \u001b[0;34m=\u001b[0m \u001b[0msns\u001b[0m\u001b[0;34m.\u001b[0m\u001b[0mset_style\u001b[0m\u001b[0;34m(\u001b[0m\u001b[0;34m'whitegrid'\u001b[0m\u001b[0;34m)\u001b[0m\u001b[0;34m\u001b[0m\u001b[0;34m\u001b[0m\u001b[0m\n\u001b[1;32m      2\u001b[0m \u001b[0max\u001b[0m\u001b[0;34m=\u001b[0m\u001b[0msns\u001b[0m\u001b[0;34m.\u001b[0m\u001b[0mset_palette\u001b[0m\u001b[0;34m(\u001b[0m\u001b[0;34m\"Paired\"\u001b[0m\u001b[0;34m)\u001b[0m\u001b[0;34m\u001b[0m\u001b[0;34m\u001b[0m\u001b[0m\n\u001b[0;32m----> 3\u001b[0;31m \u001b[0max\u001b[0m\u001b[0;34m=\u001b[0m \u001b[0msns\u001b[0m\u001b[0;34m.\u001b[0m\u001b[0mswarmplot\u001b[0m\u001b[0;34m(\u001b[0m\u001b[0mx\u001b[0m\u001b[0;34m=\u001b[0m\u001b[0;34m'comparison'\u001b[0m\u001b[0;34m,\u001b[0m\u001b[0my\u001b[0m\u001b[0;34m=\u001b[0m\u001b[0;34m'logval'\u001b[0m\u001b[0;34m,\u001b[0m\u001b[0mdata\u001b[0m\u001b[0;34m=\u001b[0m\u001b[0mpts_df\u001b[0m\u001b[0;34m)\u001b[0m\u001b[0;34m\u001b[0m\u001b[0;34m\u001b[0m\u001b[0m\n\u001b[0m\u001b[1;32m      4\u001b[0m \u001b[0max\u001b[0m \u001b[0;34m=\u001b[0m \u001b[0mplt\u001b[0m\u001b[0;34m.\u001b[0m\u001b[0mylim\u001b[0m\u001b[0;34m(\u001b[0m\u001b[0;34m-\u001b[0m\u001b[0;36m1\u001b[0m\u001b[0;34m,\u001b[0m\u001b[0;36m3\u001b[0m\u001b[0;34m)\u001b[0m\u001b[0;34m\u001b[0m\u001b[0;34m\u001b[0m\u001b[0m\n\u001b[1;32m      5\u001b[0m \u001b[0;34m\u001b[0m\u001b[0m\n",
      "\u001b[0;32m/opt/anaconda3/lib/python3.7/site-packages/seaborn/categorical.py\u001b[0m in \u001b[0;36mswarmplot\u001b[0;34m(x, y, hue, data, order, hue_order, dodge, orient, color, palette, size, edgecolor, linewidth, ax, **kwargs)\u001b[0m\n\u001b[1;32m   2975\u001b[0m \u001b[0;34m\u001b[0m\u001b[0m\n\u001b[1;32m   2976\u001b[0m     plotter = _SwarmPlotter(x, y, hue, data, order, hue_order,\n\u001b[0;32m-> 2977\u001b[0;31m                             dodge, orient, color, palette)\n\u001b[0m\u001b[1;32m   2978\u001b[0m     \u001b[0;32mif\u001b[0m \u001b[0max\u001b[0m \u001b[0;32mis\u001b[0m \u001b[0;32mNone\u001b[0m\u001b[0;34m:\u001b[0m\u001b[0;34m\u001b[0m\u001b[0;34m\u001b[0m\u001b[0m\n\u001b[1;32m   2979\u001b[0m         \u001b[0max\u001b[0m \u001b[0;34m=\u001b[0m \u001b[0mplt\u001b[0m\u001b[0;34m.\u001b[0m\u001b[0mgca\u001b[0m\u001b[0;34m(\u001b[0m\u001b[0;34m)\u001b[0m\u001b[0;34m\u001b[0m\u001b[0;34m\u001b[0m\u001b[0m\n",
      "\u001b[0;32m/opt/anaconda3/lib/python3.7/site-packages/seaborn/categorical.py\u001b[0m in \u001b[0;36m__init__\u001b[0;34m(self, x, y, hue, data, order, hue_order, dodge, orient, color, palette)\u001b[0m\n\u001b[1;32m   1212\u001b[0m                  dodge, orient, color, palette):\n\u001b[1;32m   1213\u001b[0m         \u001b[0;34m\"\"\"Initialize the plotter.\"\"\"\u001b[0m\u001b[0;34m\u001b[0m\u001b[0;34m\u001b[0m\u001b[0m\n\u001b[0;32m-> 1214\u001b[0;31m         \u001b[0mself\u001b[0m\u001b[0;34m.\u001b[0m\u001b[0mestablish_variables\u001b[0m\u001b[0;34m(\u001b[0m\u001b[0mx\u001b[0m\u001b[0;34m,\u001b[0m \u001b[0my\u001b[0m\u001b[0;34m,\u001b[0m \u001b[0mhue\u001b[0m\u001b[0;34m,\u001b[0m \u001b[0mdata\u001b[0m\u001b[0;34m,\u001b[0m \u001b[0morient\u001b[0m\u001b[0;34m,\u001b[0m \u001b[0morder\u001b[0m\u001b[0;34m,\u001b[0m \u001b[0mhue_order\u001b[0m\u001b[0;34m)\u001b[0m\u001b[0;34m\u001b[0m\u001b[0;34m\u001b[0m\u001b[0m\n\u001b[0m\u001b[1;32m   1215\u001b[0m         \u001b[0mself\u001b[0m\u001b[0;34m.\u001b[0m\u001b[0mestablish_colors\u001b[0m\u001b[0;34m(\u001b[0m\u001b[0mcolor\u001b[0m\u001b[0;34m,\u001b[0m \u001b[0mpalette\u001b[0m\u001b[0;34m,\u001b[0m \u001b[0;36m1\u001b[0m\u001b[0;34m)\u001b[0m\u001b[0;34m\u001b[0m\u001b[0;34m\u001b[0m\u001b[0m\n\u001b[1;32m   1216\u001b[0m \u001b[0;34m\u001b[0m\u001b[0m\n",
      "\u001b[0;32m/opt/anaconda3/lib/python3.7/site-packages/seaborn/categorical.py\u001b[0m in \u001b[0;36mestablish_variables\u001b[0;34m(self, x, y, hue, data, orient, order, hue_order, units)\u001b[0m\n\u001b[1;32m    153\u001b[0m                 \u001b[0;32mif\u001b[0m \u001b[0misinstance\u001b[0m\u001b[0;34m(\u001b[0m\u001b[0minput\u001b[0m\u001b[0;34m,\u001b[0m \u001b[0mstring_types\u001b[0m\u001b[0;34m)\u001b[0m\u001b[0;34m:\u001b[0m\u001b[0;34m\u001b[0m\u001b[0;34m\u001b[0m\u001b[0m\n\u001b[1;32m    154\u001b[0m                     \u001b[0merr\u001b[0m \u001b[0;34m=\u001b[0m \u001b[0;34m\"Could not interpret input '{}'\"\u001b[0m\u001b[0;34m.\u001b[0m\u001b[0mformat\u001b[0m\u001b[0;34m(\u001b[0m\u001b[0minput\u001b[0m\u001b[0;34m)\u001b[0m\u001b[0;34m\u001b[0m\u001b[0;34m\u001b[0m\u001b[0m\n\u001b[0;32m--> 155\u001b[0;31m                     \u001b[0;32mraise\u001b[0m \u001b[0mValueError\u001b[0m\u001b[0;34m(\u001b[0m\u001b[0merr\u001b[0m\u001b[0;34m)\u001b[0m\u001b[0;34m\u001b[0m\u001b[0;34m\u001b[0m\u001b[0m\n\u001b[0m\u001b[1;32m    156\u001b[0m \u001b[0;34m\u001b[0m\u001b[0m\n\u001b[1;32m    157\u001b[0m             \u001b[0;31m# Figure out the plotting orientation\u001b[0m\u001b[0;34m\u001b[0m\u001b[0;34m\u001b[0m\u001b[0;34m\u001b[0m\u001b[0m\n",
      "\u001b[0;31mValueError\u001b[0m: Could not interpret input 'logval'"
     ]
    }
   ],
   "source": [
    "ax = sns.set_style('whitegrid')\n",
    "ax=sns.set_palette(\"Paired\")\n",
    "ax= sns.swarmplot(x='comparison',y='logval',data=pts_df)\n",
    "ax = plt.ylim(-1,3)\n",
    "\n",
    "plt.savefig('/Users/emilydennis/Desktop/humanvselastix_withJ.eps')"
   ]
  },
  {
   "cell_type": "code",
   "execution_count": 57,
   "metadata": {},
   "outputs": [],
   "source": [
    "import scipy.stats as stats"
   ]
  },
  {
   "cell_type": "code",
   "execution_count": 58,
   "metadata": {},
   "outputs": [
    {
     "data": {
      "text/html": [
       "<div>\n",
       "<style scoped>\n",
       "    .dataframe tbody tr th:only-of-type {\n",
       "        vertical-align: middle;\n",
       "    }\n",
       "\n",
       "    .dataframe tbody tr th {\n",
       "        vertical-align: top;\n",
       "    }\n",
       "\n",
       "    .dataframe thead th {\n",
       "        text-align: right;\n",
       "    }\n",
       "</style>\n",
       "<table border=\"1\" class=\"dataframe\">\n",
       "  <thead>\n",
       "    <tr style=\"text-align: right;\">\n",
       "      <th></th>\n",
       "      <th>comparison</th>\n",
       "      <th>name</th>\n",
       "      <th>pts</th>\n",
       "      <th>value</th>\n",
       "      <th>logval</th>\n",
       "    </tr>\n",
       "  </thead>\n",
       "  <tbody>\n",
       "    <tr>\n",
       "      <td>0</td>\n",
       "      <td>humanvar</td>\n",
       "      <td>Emily</td>\n",
       "      <td>1</td>\n",
       "      <td>0.0</td>\n",
       "      <td>-inf</td>\n",
       "    </tr>\n",
       "    <tr>\n",
       "      <td>1</td>\n",
       "      <td>humanvar</td>\n",
       "      <td>Emily</td>\n",
       "      <td>2</td>\n",
       "      <td>7.0</td>\n",
       "      <td>0.845098</td>\n",
       "    </tr>\n",
       "    <tr>\n",
       "      <td>2</td>\n",
       "      <td>humanvar</td>\n",
       "      <td>Emily</td>\n",
       "      <td>3</td>\n",
       "      <td>1.0</td>\n",
       "      <td>0.000000</td>\n",
       "    </tr>\n",
       "    <tr>\n",
       "      <td>3</td>\n",
       "      <td>humanvar</td>\n",
       "      <td>Emily</td>\n",
       "      <td>4</td>\n",
       "      <td>7.0</td>\n",
       "      <td>0.845098</td>\n",
       "    </tr>\n",
       "    <tr>\n",
       "      <td>4</td>\n",
       "      <td>humanvar</td>\n",
       "      <td>Peter</td>\n",
       "      <td>1</td>\n",
       "      <td>1.0</td>\n",
       "      <td>0.000000</td>\n",
       "    </tr>\n",
       "    <tr>\n",
       "      <td>...</td>\n",
       "      <td>...</td>\n",
       "      <td>...</td>\n",
       "      <td>...</td>\n",
       "      <td>...</td>\n",
       "      <td>...</td>\n",
       "    </tr>\n",
       "    <tr>\n",
       "      <td>123</td>\n",
       "      <td>accuracy</td>\n",
       "      <td>Jess</td>\n",
       "      <td>4</td>\n",
       "      <td>1.0</td>\n",
       "      <td>0.000000</td>\n",
       "    </tr>\n",
       "    <tr>\n",
       "      <td>124</td>\n",
       "      <td>accuracy</td>\n",
       "      <td>Marino</td>\n",
       "      <td>1</td>\n",
       "      <td>6.0</td>\n",
       "      <td>0.778151</td>\n",
       "    </tr>\n",
       "    <tr>\n",
       "      <td>125</td>\n",
       "      <td>accuracy</td>\n",
       "      <td>Marino</td>\n",
       "      <td>2</td>\n",
       "      <td>12.0</td>\n",
       "      <td>1.079181</td>\n",
       "    </tr>\n",
       "    <tr>\n",
       "      <td>126</td>\n",
       "      <td>accuracy</td>\n",
       "      <td>Marino</td>\n",
       "      <td>3</td>\n",
       "      <td>7.0</td>\n",
       "      <td>0.845098</td>\n",
       "    </tr>\n",
       "    <tr>\n",
       "      <td>127</td>\n",
       "      <td>accuracy</td>\n",
       "      <td>Marino</td>\n",
       "      <td>4</td>\n",
       "      <td>1.0</td>\n",
       "      <td>0.000000</td>\n",
       "    </tr>\n",
       "  </tbody>\n",
       "</table>\n",
       "<p>96 rows × 5 columns</p>\n",
       "</div>"
      ],
      "text/plain": [
       "    comparison    name  pts  value    logval\n",
       "0     humanvar   Emily    1    0.0      -inf\n",
       "1     humanvar   Emily    2    7.0  0.845098\n",
       "2     humanvar   Emily    3    1.0  0.000000\n",
       "3     humanvar   Emily    4    7.0  0.845098\n",
       "4     humanvar   Peter    1    1.0  0.000000\n",
       "..         ...     ...  ...    ...       ...\n",
       "123   accuracy    Jess    4    1.0  0.000000\n",
       "124   accuracy  Marino    1    6.0  0.778151\n",
       "125   accuracy  Marino    2   12.0  1.079181\n",
       "126   accuracy  Marino    3    7.0  0.845098\n",
       "127   accuracy  Marino    4    1.0  0.000000\n",
       "\n",
       "[96 rows x 5 columns]"
      ]
     },
     "execution_count": 58,
     "metadata": {},
     "output_type": "execute_result"
    }
   ],
   "source": [
    "pts_df_sub"
   ]
  },
  {
   "cell_type": "code",
   "execution_count": 59,
   "metadata": {},
   "outputs": [
    {
     "data": {
      "text/plain": [
       "F_onewayResult(statistic=1001.9869615289698, pvalue=3.026207162945164e-64)"
      ]
     },
     "execution_count": 59,
     "metadata": {},
     "output_type": "execute_result"
    }
   ],
   "source": [
    "stats.f_oneway(pts_df_sub['value'][pts_df_sub['comparison']=='humanvar'],\n",
    "              pts_df_sub['value'][pts_df_sub['comparison']=='before'],\n",
    "              pts_df_sub['value'][pts_df_sub['comparison']=='affine'],\n",
    "              pts_df_sub['value'][pts_df_sub['comparison']=='a1b'],\n",
    "              pts_df_sub['value'][pts_df_sub['comparison']=='final320'])"
   ]
  },
  {
   "cell_type": "code",
   "execution_count": 60,
   "metadata": {},
   "outputs": [],
   "source": [
    "hv = pts_df_sub[pts_df_sub['comparison']=='humanvar']\n",
    "b = pts_df_sub[pts_df_sub['comparison']=='before']\n",
    "a1b=pts_df_sub[pts_df_sub['comparison']=='a1b']\n",
    "f320 = pts_df_sub[pts_df_sub['comparison']=='final320']\n",
    "a = pts_df_sub[pts_df_sub['comparison']=='affine']"
   ]
  },
  {
   "cell_type": "code",
   "execution_count": 61,
   "metadata": {},
   "outputs": [
    {
     "data": {
      "text/plain": [
       "Ttest_indResult(statistic=-47.484316843601, pvalue=8.642905140622162e-30)"
      ]
     },
     "execution_count": 61,
     "metadata": {},
     "output_type": "execute_result"
    }
   ],
   "source": [
    "stats.ttest_ind(hv['value'],b['value']) #*"
   ]
  },
  {
   "cell_type": "code",
   "execution_count": 62,
   "metadata": {},
   "outputs": [
    {
     "data": {
      "text/plain": [
       "Ttest_indResult(statistic=-8.883301383959731, pvalue=6.688412135584031e-10)"
      ]
     },
     "execution_count": 62,
     "metadata": {},
     "output_type": "execute_result"
    }
   ],
   "source": [
    "stats.ttest_ind(hv['value'],a['value']) #*"
   ]
  },
  {
   "cell_type": "code",
   "execution_count": 63,
   "metadata": {},
   "outputs": [
    {
     "data": {
      "text/plain": [
       "Ttest_indResult(statistic=-2.830713514619314, pvalue=0.008211091388048803)"
      ]
     },
     "execution_count": 63,
     "metadata": {},
     "output_type": "execute_result"
    }
   ],
   "source": [
    "stats.ttest_ind(hv['value'],a1b['value'])"
   ]
  },
  {
   "cell_type": "code",
   "execution_count": 64,
   "metadata": {},
   "outputs": [
    {
     "data": {
      "text/plain": [
       "Ttest_indResult(statistic=-1.993841748739402, pvalue=0.055329209451954256)"
      ]
     },
     "execution_count": 64,
     "metadata": {},
     "output_type": "execute_result"
    }
   ],
   "source": [
    "stats.ttest_ind(hv['value'],f320['value'])"
   ]
  },
  {
   "cell_type": "code",
   "execution_count": 66,
   "metadata": {},
   "outputs": [
    {
     "data": {
      "text/plain": [
       "Ttest_indResult(statistic=-4.292754307520133, pvalue=0.00016984335065393027)"
      ]
     },
     "execution_count": 66,
     "metadata": {},
     "output_type": "execute_result"
    }
   ],
   "source": [
    "stats.ttest_ind(f320['value'],a['value']) #*"
   ]
  },
  {
   "cell_type": "code",
   "execution_count": 67,
   "metadata": {},
   "outputs": [
    {
     "data": {
      "text/plain": [
       "Ttest_indResult(statistic=-0.6682117319110139, pvalue=0.5091073266515916)"
      ]
     },
     "execution_count": 67,
     "metadata": {},
     "output_type": "execute_result"
    }
   ],
   "source": [
    "stats.ttest_ind(f320['value'],a1b['value'])"
   ]
  },
  {
   "cell_type": "code",
   "execution_count": 68,
   "metadata": {},
   "outputs": [
    {
     "data": {
      "text/plain": [
       "Ttest_indResult(statistic=-3.47985561617075, pvalue=0.0015578687468670682)"
      ]
     },
     "execution_count": 68,
     "metadata": {},
     "output_type": "execute_result"
    }
   ],
   "source": [
    "stats.ttest_ind(a1b['value'],a['value']) #*"
   ]
  },
  {
   "cell_type": "code",
   "execution_count": 69,
   "metadata": {},
   "outputs": [
    {
     "data": {
      "text/plain": [
       "0.0071428571428571435"
      ]
     },
     "execution_count": 69,
     "metadata": {},
     "output_type": "execute_result"
    }
   ],
   "source": []
  },
  {
   "cell_type": "code",
   "execution_count": null,
   "metadata": {},
   "outputs": [],
   "source": []
  }
 ],
 "metadata": {
  "kernelspec": {
   "display_name": "Python 3",
   "language": "python",
   "name": "python3"
  },
  "language_info": {
   "codemirror_mode": {
    "name": "ipython",
    "version": 3
   },
   "file_extension": ".py",
   "mimetype": "text/x-python",
   "name": "python",
   "nbconvert_exporter": "python",
   "pygments_lexer": "ipython3",
   "version": "3.7.4"
  },
  "toc": {
   "base_numbering": 1,
   "nav_menu": {},
   "number_sections": true,
   "sideBar": true,
   "skip_h1_title": false,
   "title_cell": "Table of Contents",
   "title_sidebar": "Contents",
   "toc_cell": false,
   "toc_position": {},
   "toc_section_display": true,
   "toc_window_display": false
  }
 },
 "nbformat": 4,
 "nbformat_minor": 2
}

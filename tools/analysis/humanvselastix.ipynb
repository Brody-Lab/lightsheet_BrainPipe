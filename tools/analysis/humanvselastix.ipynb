{
 "cells": [
  {
   "cell_type": "code",
   "execution_count": 224,
   "metadata": {},
   "outputs": [],
   "source": [
    "import os,csv,json\n",
    "import numpy as np\n",
    "import matplotlib.pyplot as plt\n",
    "import pandas as pd\n",
    "import sys"
   ]
  },
  {
   "cell_type": "code",
   "execution_count": 225,
   "metadata": {},
   "outputs": [],
   "source": [
    "# import csv\n",
    "csv_file_name = \"/Users/emilydennis/Desktop/lightsheet_inprogress/humanvselastix.csv\""
   ]
  },
  {
   "cell_type": "code",
   "execution_count": 226,
   "metadata": {},
   "outputs": [
    {
     "data": {
      "text/plain": [
       "Index(['volume', 'point', 'annotator', 'z', 'x', 'y', 'brainid'], dtype='object')"
      ]
     },
     "execution_count": 226,
     "metadata": {},
     "output_type": "execute_result"
    }
   ],
   "source": [
    "fulldf = pd.read_csv(csv_file_name)\n",
    "fulldf.keys()"
   ]
  },
  {
   "cell_type": "code",
   "execution_count": 227,
   "metadata": {},
   "outputs": [
    {
     "data": {
      "text/html": [
       "<div>\n",
       "<style scoped>\n",
       "    .dataframe tbody tr th:only-of-type {\n",
       "        vertical-align: middle;\n",
       "    }\n",
       "\n",
       "    .dataframe tbody tr th {\n",
       "        vertical-align: top;\n",
       "    }\n",
       "\n",
       "    .dataframe thead th {\n",
       "        text-align: right;\n",
       "    }\n",
       "</style>\n",
       "<table border=\"1\" class=\"dataframe\">\n",
       "  <thead>\n",
       "    <tr style=\"text-align: right;\">\n",
       "      <th></th>\n",
       "      <th>volume</th>\n",
       "      <th>point</th>\n",
       "      <th>annotator</th>\n",
       "      <th>z</th>\n",
       "      <th>x</th>\n",
       "      <th>y</th>\n",
       "      <th>brainid</th>\n",
       "    </tr>\n",
       "  </thead>\n",
       "  <tbody>\n",
       "    <tr>\n",
       "      <td>0</td>\n",
       "      <td>A</td>\n",
       "      <td>1</td>\n",
       "      <td>Adrian</td>\n",
       "      <td>57.0</td>\n",
       "      <td>141.0</td>\n",
       "      <td>222.0</td>\n",
       "      <td>k315_5</td>\n",
       "    </tr>\n",
       "    <tr>\n",
       "      <td>1</td>\n",
       "      <td>A</td>\n",
       "      <td>2</td>\n",
       "      <td>Adrian</td>\n",
       "      <td>339.0</td>\n",
       "      <td>111.0</td>\n",
       "      <td>221.0</td>\n",
       "      <td>k315_5</td>\n",
       "    </tr>\n",
       "    <tr>\n",
       "      <td>2</td>\n",
       "      <td>A</td>\n",
       "      <td>3</td>\n",
       "      <td>Adrian</td>\n",
       "      <td>408.0</td>\n",
       "      <td>111.0</td>\n",
       "      <td>221.0</td>\n",
       "      <td>k315_5</td>\n",
       "    </tr>\n",
       "    <tr>\n",
       "      <td>3</td>\n",
       "      <td>A</td>\n",
       "      <td>4</td>\n",
       "      <td>Adrian</td>\n",
       "      <td>440.0</td>\n",
       "      <td>126.0</td>\n",
       "      <td>222.0</td>\n",
       "      <td>k315_5</td>\n",
       "    </tr>\n",
       "    <tr>\n",
       "      <td>4</td>\n",
       "      <td>B</td>\n",
       "      <td>1</td>\n",
       "      <td>Adrian</td>\n",
       "      <td>98.0</td>\n",
       "      <td>151.0</td>\n",
       "      <td>312.0</td>\n",
       "      <td>k320_1</td>\n",
       "    </tr>\n",
       "    <tr>\n",
       "      <td>...</td>\n",
       "      <td>...</td>\n",
       "      <td>...</td>\n",
       "      <td>...</td>\n",
       "      <td>...</td>\n",
       "      <td>...</td>\n",
       "      <td>...</td>\n",
       "      <td>...</td>\n",
       "    </tr>\n",
       "    <tr>\n",
       "      <td>94</td>\n",
       "      <td>H</td>\n",
       "      <td>1</td>\n",
       "      <td>Chuck</td>\n",
       "      <td>13.0</td>\n",
       "      <td>73.0</td>\n",
       "      <td>131.0</td>\n",
       "      <td>schwarz</td>\n",
       "    </tr>\n",
       "    <tr>\n",
       "      <td>95</td>\n",
       "      <td>H</td>\n",
       "      <td>2</td>\n",
       "      <td>Chuck</td>\n",
       "      <td>71.0</td>\n",
       "      <td>57.0</td>\n",
       "      <td>133.0</td>\n",
       "      <td>schwarz</td>\n",
       "    </tr>\n",
       "    <tr>\n",
       "      <td>96</td>\n",
       "      <td>H</td>\n",
       "      <td>3</td>\n",
       "      <td>Chuck</td>\n",
       "      <td>111.0</td>\n",
       "      <td>60.0</td>\n",
       "      <td>133.0</td>\n",
       "      <td>schwarz</td>\n",
       "    </tr>\n",
       "    <tr>\n",
       "      <td>97</td>\n",
       "      <td>H</td>\n",
       "      <td>4</td>\n",
       "      <td>Chuck</td>\n",
       "      <td>122.0</td>\n",
       "      <td>79.0</td>\n",
       "      <td>133.0</td>\n",
       "      <td>schwarz</td>\n",
       "    </tr>\n",
       "    <tr>\n",
       "      <td>98</td>\n",
       "      <td>bregma</td>\n",
       "      <td>0</td>\n",
       "      <td>Chuck</td>\n",
       "      <td>NaN</td>\n",
       "      <td>NaN</td>\n",
       "      <td>NaN</td>\n",
       "      <td>skull</td>\n",
       "    </tr>\n",
       "  </tbody>\n",
       "</table>\n",
       "<p>99 rows × 7 columns</p>\n",
       "</div>"
      ],
      "text/plain": [
       "    volume  point annotator      z      x      y  brainid\n",
       "0        A      1    Adrian   57.0  141.0  222.0   k315_5\n",
       "1        A      2    Adrian  339.0  111.0  221.0   k315_5\n",
       "2        A      3    Adrian  408.0  111.0  221.0   k315_5\n",
       "3        A      4    Adrian  440.0  126.0  222.0   k315_5\n",
       "4        B      1    Adrian   98.0  151.0  312.0   k320_1\n",
       "..     ...    ...       ...    ...    ...    ...      ...\n",
       "94       H      1     Chuck   13.0   73.0  131.0  schwarz\n",
       "95       H      2     Chuck   71.0   57.0  133.0  schwarz\n",
       "96       H      3     Chuck  111.0   60.0  133.0  schwarz\n",
       "97       H      4     Chuck  122.0   79.0  133.0  schwarz\n",
       "98  bregma      0     Chuck    NaN    NaN    NaN    skull\n",
       "\n",
       "[99 rows x 7 columns]"
      ]
     },
     "execution_count": 227,
     "metadata": {},
     "output_type": "execute_result"
    }
   ],
   "source": [
    "fulldf"
   ]
  },
  {
   "cell_type": "code",
   "execution_count": 228,
   "metadata": {},
   "outputs": [],
   "source": [
    "alldata = { } \n",
    "\n",
    "for name in np.unique(fulldf.annotator):\n",
    "    alldata[name] = {}\n",
    "    annotator = fulldf[fulldf.annotator==name]\n",
    "    for volume in [\"A\",\"B\",\"C\",\"D\",\"E\",\"F\",\"G\",\"H\"]:\n",
    "        annotatorvol = annotator[annotator.volume==volume]\n",
    "        alldata[name][volume]= {}\n",
    "        for point in range(1,5):\n",
    "            annotatorpt = annotatorvol[annotatorvol.point==point]\n",
    "            alldata[name][volume][point] = [annotatorpt.x.tolist(),annotatorpt.y.tolist(),annotatorpt.z.tolist()]\n",
    "\n"
   ]
  },
  {
   "cell_type": "code",
   "execution_count": null,
   "metadata": {},
   "outputs": [],
   "source": []
  },
  {
   "cell_type": "code",
   "execution_count": 229,
   "metadata": {},
   "outputs": [],
   "source": [
    "# now that our data is easier to index, want to make different values for plotting\n",
    "toplot = { } \n",
    "\n",
    "for name in np.unique(fulldf.annotator):\n",
    "    toplot[name] = {}\n",
    "    #want C vs G\n",
    "    toplot[name]['humanvar'] = {}\n",
    "    for point in range(1,5):\n",
    "        vals=(abs(np.subtract(alldata[name]['C'][point],alldata[name]['G'][point])))\n",
    "        val = np.add(vals[0],vals[1],vals[2])\n",
    "        toplot[name]['humanvar'][point] = val.item()\n",
    "    toplot[name]['before'] = {}\n",
    "    for point in range(1,5):\n",
    "        vals=(abs(np.subtract(alldata[name]['B'][point],alldata[name]['F'][point])))\n",
    "        val = np.add(vals[0],vals[1],vals[2])\n",
    "        toplot[name]['before'][point] = val.item()\n",
    "    toplot[name]['affine'] = {}\n",
    "    for point in range(1,5):\n",
    "        vals=(abs(np.subtract(alldata[name]['D'][point],alldata[name]['F'][point])))\n",
    "        val = np.add(vals[0],vals[1],vals[2])\n",
    "        toplot[name]['affine'][point] = val.item()\n",
    "    toplot[name]['a1b'] = {}\n",
    "    for point in range(1,5):\n",
    "        vals=(abs(np.subtract(alldata[name]['E'][point],alldata[name]['F'][point])))\n",
    "        val = np.add(vals[0],vals[1],vals[2])\n",
    "        toplot[name]['a1b'][point] = val.item()\n",
    "    toplot[name]['final320'] = {}\n",
    "    for point in range(1,5):\n",
    "        vals=(abs(np.subtract(alldata[name]['C'][point],alldata[name]['F'][point])))\n",
    "        val = np.add(vals[0],vals[1],vals[2])\n",
    "        toplot[name]['final320'][point] = val.item()\n",
    "    toplot[name]['final315'] = {}\n",
    "    for point in range(1,5):\n",
    "        vals=(abs(np.subtract(alldata[name]['A'][point],alldata[name]['F'][point])))\n",
    "        val = np.add(vals[0],vals[1],vals[2])\n",
    "        toplot[name]['final315'][point] = val.item()\n",
    "        "
   ]
  },
  {
   "cell_type": "code",
   "execution_count": null,
   "metadata": {},
   "outputs": [],
   "source": []
  },
  {
   "cell_type": "code",
   "execution_count": 232,
   "metadata": {},
   "outputs": [
    {
     "name": "stdout",
     "output_type": "stream",
     "text": [
      "Adrian\n",
      "Chuck\n",
      "Emily\n",
      "Adrian\n",
      "Chuck\n",
      "Emily\n",
      "Adrian\n",
      "Chuck\n",
      "Emily\n",
      "Adrian\n",
      "Chuck\n",
      "Emily\n"
     ]
    },
    {
     "data": {
      "text/plain": [
       "{'humanvar': {1: [2.0, 1.0, 0.0],\n",
       "  2: [2.0, 2.0, 7.0],\n",
       "  3: [2.0, 1.0, 1.0],\n",
       "  4: [3.0, 1.0, 7.0]},\n",
       " 'before': {1: [151.0, 89.0, 92.0],\n",
       "  2: [98.0, 101.0, 109.0],\n",
       "  3: [97.0, 100.0, 110.0],\n",
       "  4: [112.0, 132.0, 110.0]},\n",
       " 'affine': {1: [46.0, 17.0, 19.0],\n",
       "  2: [6.0, 1.0, 15.0],\n",
       "  3: [6.0, 1.0, 10.0],\n",
       "  4: [3.0, 73.0, 13.0]},\n",
       " 'a1b': {1: [52.0, 10.0, 8.0],\n",
       "  2: [6.0, 5.0, 13.0],\n",
       "  3: [6.0, 5.0, 3.0],\n",
       "  4: [8.0, 69.0, 1.0]},\n",
       " 'final320': {1: [56.0, 4.0, 0.0],\n",
       "  2: [4.0, 9.0, 16.0],\n",
       "  3: [4.0, 9.0, 3.0],\n",
       "  4: [7.0, 67.0, 5.0]},\n",
       " 'final320g': {1: [56.0, 5.0, 0.0],\n",
       "  2: [2.0, 9.0, 9.0],\n",
       "  3: [2.0, 8.0, 2.0],\n",
       "  4: [4.0, 68.0, 2.0]},\n",
       " 'final315': {1: [51.0, 11.0, 10.0],\n",
       "  2: [19.0, 5.0, 8.0],\n",
       "  3: [19.0, 5.0, 4.0],\n",
       "  4: [25.0, 66.0, 1.0]},\n",
       " 'k315k320': {1: [5.0, 8.0, 10.0],\n",
       "  2: [17.0, 4.0, 3.0],\n",
       "  3: [17.0, 3.0, 4.0],\n",
       "  4: [21.0, 2.0, 3.0]}}"
      ]
     },
     "execution_count": 232,
     "metadata": {},
     "output_type": "execute_result"
    }
   ],
   "source": [
    "# now that our data is easier to index, want to make different values for plotting\n",
    "toplot = { } \n",
    "toplot['humanvar'] = {}\n",
    "toplot['before'] = {}\n",
    "toplot['affine'] = {}\n",
    "toplot['a1b'] = {}\n",
    "toplot['final320'] = {}\n",
    "toplot['final320g'] = {}\n",
    "toplot['final315'] = {}\n",
    "toplot['k315k320'] = {}\n",
    "\n",
    "\n",
    "for point in range(1,5):\n",
    "    hv=[]\n",
    "    b=[]\n",
    "    a=[]\n",
    "    a1b=[]\n",
    "    k320=[]\n",
    "    k320g=[]\n",
    "    k315=[]\n",
    "    k315k320=[]\n",
    "    for name in np.unique(fulldf.annotator):\n",
    "        print(name)\n",
    "        vals=(abs(np.subtract(alldata[name]['C'][point],alldata[name]['G'][point])))\n",
    "        val = np.add(vals[0],vals[1],vals[2])\n",
    "        hv.append(val.item())\n",
    "        vals=(abs(np.subtract(alldata[name]['B'][point],alldata[name]['F'][point])))\n",
    "        val = np.add(vals[0],vals[1],vals[2])\n",
    "        b.append(val.item())\n",
    "        vals=(abs(np.subtract(alldata[name]['D'][point],alldata[name]['F'][point])))\n",
    "        val = np.add(vals[0],vals[1],vals[2])\n",
    "        a.append(val.item())\n",
    "        vals=(abs(np.subtract(alldata[name]['E'][point],alldata[name]['F'][point])))\n",
    "        val = np.add(vals[0],vals[1],vals[2])\n",
    "        a1b.append(val.item())\n",
    "        vals=(abs(np.subtract(alldata[name]['C'][point],alldata[name]['F'][point])))\n",
    "        val = np.add(vals[0],vals[1],vals[2])\n",
    "        k320.append(val.item())\n",
    "        vals=(abs(np.subtract(alldata[name]['G'][point],alldata[name]['F'][point])))\n",
    "        val = np.add(vals[0],vals[1],vals[2])\n",
    "        k320g.append(val.item())\n",
    "        vals=(abs(np.subtract(alldata[name]['A'][point],alldata[name]['F'][point])))\n",
    "        val = np.add(vals[0],vals[1],vals[2])\n",
    "        k315.append(val.item())\n",
    "        vals=(abs(np.subtract(alldata[name]['A'][point],alldata[name]['G'][point])))\n",
    "        val = np.add(vals[0],vals[1],vals[2])\n",
    "        k315k320.append(val.item())\n",
    "\n",
    "    toplot['humanvar'][point] = hv\n",
    "    toplot['before'][point] = b\n",
    "    toplot['affine'][point] = a\n",
    "    toplot['a1b'][point] = a1b\n",
    "    toplot['final320'][point] = k320\n",
    "    toplot['final320g'][point] = k320g\n",
    "    toplot['final315'][point] = k315\n",
    "    toplot['k315k320'][point] = k315k320\n",
    "                      \n",
    "toplot"
   ]
  },
  {
   "cell_type": "code",
   "execution_count": 243,
   "metadata": {},
   "outputs": [
    {
     "data": {
      "image/png": "[encoded data removed]",
      "text/plain": [
       "<Figure size 432x288 with 1 Axes>"
      ]
     },
     "metadata": {
      "needs_background": "light"
     },
     "output_type": "display_data"
    }
   ],
   "source": [
    "plt.scatter([1,1,1],toplot['humanvar'][1],c=['b','c','m'],alpha=0.3)\n",
    "plt.scatter([1,1,1],toplot['humanvar'][2],c=['b','c','m'],alpha=0.3)\n",
    "plt.scatter([1,1,1],toplot['humanvar'][3],c=['b','c','m'],alpha=0.3)\n",
    "plt.scatter([1,1,1],toplot['humanvar'][4],c=['b','c','m'],alpha=0.3)\n",
    "\n",
    "\n",
    "plt.scatter([2,2,2],toplot['before'][1],c=['b','c','m'],alpha=0.3)\n",
    "plt.scatter([2,2,2],toplot['before'][2],c=['b','c','m'],alpha=0.3)\n",
    "plt.scatter([2,2,2],toplot['before'][3],c=['b','c','m'],alpha=0.3)\n",
    "plt.scatter([2,2,2],toplot['before'][4],c=['b','c','m'],alpha=0.3)\n",
    "\n",
    "plt.scatter([3,3,3],toplot['affine'][1],c=['b','c','m'],alpha=0.3)\n",
    "plt.scatter([3,3,3],toplot['affine'][2],c=['b','c','m'],alpha=0.3)\n",
    "plt.scatter([3,3,3],toplot['affine'][3],c=['b','c','m'],alpha=0.3)\n",
    "plt.scatter([3,3,3],toplot['affine'][4],c=['b','c','m'],alpha=0.3)\n",
    "\n",
    "plt.scatter([4,4,4],toplot['a1b'][1],c=['b','c','m'],alpha=0.3)\n",
    "plt.scatter([4,4,4],toplot['a1b'][2],c=['b','c','m'],alpha=0.3)\n",
    "plt.scatter([4,4,4],toplot['a1b'][3],c=['b','c','m'],alpha=0.3)\n",
    "plt.scatter([4,4,4],toplot['a1b'][4],c=['b','c','m'],alpha=0.3)\n",
    "\n",
    "plt.scatter([5,5,5],toplot['final320g'][1],c=['b','c','m'],alpha=0.3)\n",
    "plt.scatter([5,5,5],toplot['final320g'][2],c=['b','c','m'],alpha=0.3)\n",
    "plt.scatter([5,5,5],toplot['final320g'][3],c=['b','c','m'],alpha=0.3)\n",
    "plt.scatter([5,5,5],toplot['final320g'][4],c=['b','c','m'],alpha=0.3)\n",
    "\n",
    "plt.scatter([6,6,6],toplot['final315'][1],c=['b','c','m'],alpha=0.3)\n",
    "plt.scatter([6,6,6],toplot['final315'][2],c=['b','c','m'],alpha=0.3)\n",
    "plt.scatter([6,6,6],toplot['final315'][3],c=['b','c','m'],alpha=0.3)\n",
    "plt.scatter([6,6,6],toplot['final315'][4],c=['b','c','m'],alpha=0.3)\n",
    "\n",
    "plt.scatter([7,7,7],toplot['k315k320'][1],c=['b','c','m'],alpha=0.3)\n",
    "plt.scatter([7,7,7],toplot['k315k320'][2],c=['b','c','m'],alpha=0.3)\n",
    "plt.scatter([7,7,7],toplot['k315k320'][3],c=['b','c','m'],alpha=0.3)\n",
    "plt.scatter([7,7,7],toplot['k315k320'][4],c=['b','c','m'],alpha=0.3)\n",
    "plt.ylabel('voxels')\n",
    "plt.show()\n"
   ]
  },
  {
   "cell_type": "code",
   "execution_count": 139,
   "metadata": {},
   "outputs": [
    {
     "data": {
      "text/plain": [
       "dict_values([{'humanvar': {1: 2, 2: 2, 3: 2, 4: 3}, 'before': {1: 151, 2: 98, 3: 97, 4: 112}, 'affine': {1: 46, 2: 6, 3: 6, 4: 3}, 'a1b': {1: 52, 2: 6, 3: 6, 4: 8}, 'final320': {1: 56, 2: 4, 3: 4, 4: 7}, 'final315': {1: 51, 2: 19, 3: 19, 4: 25}}, {'humanvar': {1: 0, 2: 7, 3: 1, 4: 7}, 'before': {1: 92, 2: 109, 3: 110, 4: 110}, 'affine': {1: 19, 2: 15, 3: 10, 4: 13}, 'a1b': {1: 8, 2: 13, 3: 3, 4: 1}, 'final320': {1: 0, 2: 16, 3: 3, 4: 5}, 'final315': {1: 10, 2: 8, 3: 4, 4: 1}}])"
      ]
     },
     "execution_count": 139,
     "metadata": {},
     "output_type": "execute_result"
    }
   ],
   "source": []
  },
  {
   "cell_type": "code",
   "execution_count": 8,
   "metadata": {},
   "outputs": [
    {
     "data": {
      "text/plain": [
       "<matplotlib.colorbar.Colorbar at 0x7fc433f6c4d0>"
      ]
     },
     "execution_count": 8,
     "metadata": {},
     "output_type": "execute_result"
    },
    {
     "data": {
      "image/png": "[encoded data removed]",
      "text/plain": [
       "<Figure size 432x288 with 2 Axes>"
      ]
     },
     "metadata": {
      "needs_background": "light"
     },
     "output_type": "display_data"
    }
   ],
   "source": [
    "plt.imshow(pt4mat)\n",
    "plt.colorbar()"
   ]
  },
  {
   "cell_type": "code",
   "execution_count": 50,
   "metadata": {},
   "outputs": [
    {
     "data": {
      "text/plain": [
       "<matplotlib.colorbar.Colorbar at 0x7feea5dfe7d0>"
      ]
     },
     "execution_count": 50,
     "metadata": {},
     "output_type": "execute_result"
    },
    {
     "data": {
      "image/png": "[encoded data removed]",
      "text/plain": [
       "<Figure size 432x288 with 2 Axes>"
      ]
     },
     "metadata": {
      "needs_background": "light"
     },
     "output_type": "display_data"
    }
   ],
   "source": [
    "plt.imshow(pt3mat)\n",
    "plt.colorbar()"
   ]
  },
  {
   "cell_type": "code",
   "execution_count": 51,
   "metadata": {},
   "outputs": [
    {
     "data": {
      "text/plain": [
       "<matplotlib.colorbar.Colorbar at 0x7feea5ff6b10>"
      ]
     },
     "execution_count": 51,
     "metadata": {},
     "output_type": "execute_result"
    },
    {
     "data": {
      "image/png": "[encoded data removed]",
      "text/plain": [
       "<Figure size 432x288 with 2 Axes>"
      ]
     },
     "metadata": {
      "needs_background": "light"
     },
     "output_type": "display_data"
    }
   ],
   "source": [
    "plt.imshow(pt2mat)\n",
    "plt.colorbar()"
   ]
  },
  {
   "cell_type": "code",
   "execution_count": 52,
   "metadata": {},
   "outputs": [
    {
     "data": {
      "text/plain": [
       "<matplotlib.colorbar.Colorbar at 0x7feea61f7d90>"
      ]
     },
     "execution_count": 52,
     "metadata": {},
     "output_type": "execute_result"
    },
    {
     "data": {
      "image/png": "[encoded data removed]",
      "text/plain": [
       "<Figure size 432x288 with 2 Axes>"
      ]
     },
     "metadata": {
      "needs_background": "light"
     },
     "output_type": "display_data"
    }
   ],
   "source": [
    "plt.imshow(pt1mat)\n",
    "plt.colorbar()"
   ]
  },
  {
   "cell_type": "code",
   "execution_count": 57,
   "metadata": {},
   "outputs": [
    {
     "data": {
      "text/plain": [
       "<matplotlib.colorbar.Colorbar at 0x7feea6590e10>"
      ]
     },
     "execution_count": 57,
     "metadata": {},
     "output_type": "execute_result"
    },
    {
     "data": {
      "image/png": "[encoded data removed]",
      "text/plain": [
       "<Figure size 432x288 with 2 Axes>"
      ]
     },
     "metadata": {
      "needs_background": "light"
     },
     "output_type": "display_data"
    }
   ],
   "source": [
    "plt.imshow(pt4mat)\n",
    "plt.colorbar()"
   ]
  },
  {
   "cell_type": "code",
   "execution_count": 58,
   "metadata": {},
   "outputs": [
    {
     "data": {
      "text/plain": [
       "<matplotlib.colorbar.Colorbar at 0x7feea59fe990>"
      ]
     },
     "execution_count": 58,
     "metadata": {},
     "output_type": "execute_result"
    },
    {
     "data": {
      "image/png": "[encoded data removed]",
      "text/plain": [
       "<Figure size 432x288 with 2 Axes>"
      ]
     },
     "metadata": {
      "needs_background": "light"
     },
     "output_type": "display_data"
    }
   ],
   "source": [
    "plt.imshow(pt3mat)\n",
    "plt.colorbar()"
   ]
  },
  {
   "cell_type": "code",
   "execution_count": 59,
   "metadata": {},
   "outputs": [
    {
     "data": {
      "text/plain": [
       "<matplotlib.colorbar.Colorbar at 0x7feea6035c90>"
      ]
     },
     "execution_count": 59,
     "metadata": {},
     "output_type": "execute_result"
    },
    {
     "data": {
      "image/png": "[encoded data removed]",
      "text/plain": [
       "<Figure size 432x288 with 2 Axes>"
      ]
     },
     "metadata": {
      "needs_background": "light"
     },
     "output_type": "display_data"
    }
   ],
   "source": [
    "plt.imshow(pt2mat)\n",
    "plt.colorbar()"
   ]
  },
  {
   "cell_type": "code",
   "execution_count": 60,
   "metadata": {},
   "outputs": [
    {
     "data": {
      "text/plain": [
       "<matplotlib.colorbar.Colorbar at 0x7feea645e8d0>"
      ]
     },
     "execution_count": 60,
     "metadata": {},
     "output_type": "execute_result"
    },
    {
     "data": {
      "image/png": "[encoded data removed]",
      "text/plain": [
       "<Figure size 432x288 with 2 Axes>"
      ]
     },
     "metadata": {
      "needs_background": "light"
     },
     "output_type": "display_data"
    }
   ],
   "source": [
    "plt.imshow(pt1mat)\n",
    "plt.colorbar()\n"
   ]
  },
  {
   "cell_type": "code",
   "execution_count": 63,
   "metadata": {},
   "outputs": [
    {
     "data": {
      "text/plain": [
       "array([[  0., 143.,  10.,  16.,   6.,  10.,  10.],\n",
       "       [143.,   0., 133., 141., 137., 133., 133.],\n",
       "       [ 10., 133.,   0.,  20.,   8.,   0.,   0.],\n",
       "       [ 16., 141.,  20.,   0.,  12.,  20.,  20.],\n",
       "       [  6., 137.,   8.,  12.,   0.,   8.,   8.],\n",
       "       [ 10., 133.,   0.,  20.,   8.,   0.,   0.],\n",
       "       [ 10., 133.,   0.,  20.,   8.,   0.,   0.]])"
      ]
     },
     "execution_count": 63,
     "metadata": {},
     "output_type": "execute_result"
    }
   ],
   "source": [
    "pt1mat\n"
   ]
  },
  {
   "cell_type": "markdown",
   "metadata": {},
   "source": [
    "the plots I want will have\n",
    "\n",
    "x: human variability within brains:\n",
    "for each of the 4 points for each person, k320_5 vs k320_52\n",
    "plot each person's points in a color\n",
    "\n",
    "x: before reigstration\n",
    "for each of the 4 points for each person, k320_1 vs whs\n",
    "plot each person's points in a color\n",
    "ADD for the inverse registration, dist predicted by warping from whs to k320_1\n",
    "\n",
    "x: affine only\n",
    "for each of the 4 points for each person, k320_2 vs whs\n",
    "plot each person's points in a color\n",
    "ADD for the inverse registration, dist predicted by warping from whs to k320_2\n",
    "\n",
    "x: affine+1 bspline\n",
    "for each of the 4 points for each person, k320_3 vs whs\n",
    "plot each person's points in a color\n",
    "ADD for the inverse registration, dist predicted by warping from whs to k320_3\n",
    "\n",
    "x: affine+2 bspline\n",
    "for each of the 4 points for each person, k320_4 vs whs\n",
    "plot each person's points in a color\n",
    "ADD for the inverse registration, dist predicted by warping from whs to k320_4\n",
    "\n",
    "x: fully registered\n",
    "for each of the 4 points for each person, k320_5 vs whs\n",
    "plot each person's points in a color\n",
    "ADD for the inverse registration, dist predicted by warping from whs to k320_5 (this should be zero)\n",
    "\n",
    "x: human variability across brains:\n",
    "for each of the 4 points for each person, k315_5 vs whs\n",
    "\n",
    "so I want a data structure where I have a dict with indices of ['humanvar','beforereg','affine','affine1b','affine2b','affine3b','full','k315]\n",
    "\n",
    "nested dicts\n",
    "mydata = {1: {'name': 'Adrian', 'pt1':[],'pt2':[],'pt3':[],'pt4':[]},\n",
    "          2: {'name': 'Emily', 'pt1':[],'pt2':[],'pt3':[],'pt4':[]}}\n",
    "\n",
    "humanvar = C vs G   (2,6)\n",
    "before = B vs F     (1,5)\n",
    "affine = D vs F     (3,5)\n",
    "affine1b = E vs F   (4,5)\n",
    "final320 = C vs F   (2,5)\n",
    "final315 = A vs F   (0,5)\n",
    "\n",
    "0 1 2 3 4 5 6 7\n",
    "a b c d e f g h\n",
    "\n",
    "def findvalue(index):\n",
    "\n",
    "nested dicts {1: {'xlab': 'humanvar', 'A':[Apt1[2,6],Apt2[2,6],Apt3[2,6],Apt4[2,6],'E':[Ept1[2,6],Ept2[2,6],Ept3[2,6],Ept4[2,6]},\n",
    "          2: {'xlab': 'beforereg', 'A':[],'E':[]}}"
   ]
  }
 ],
 "metadata": {
  "kernelspec": {
   "display_name": "Python 3",
   "language": "python",
   "name": "python3"
  },
  "language_info": {
   "codemirror_mode": {
    "name": "ipython",
    "version": 3
   },
   "file_extension": ".py",
   "mimetype": "text/x-python",
   "name": "python",
   "nbconvert_exporter": "python",
   "pygments_lexer": "ipython3",
   "version": "3.7.4"
  }
 },
 "nbformat": 4,
 "nbformat_minor": 2
}

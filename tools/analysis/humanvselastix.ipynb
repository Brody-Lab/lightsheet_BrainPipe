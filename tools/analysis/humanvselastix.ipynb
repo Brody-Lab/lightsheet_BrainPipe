{
 "cells": [
  {
   "cell_type": "code",
   "execution_count": 1,
   "metadata": {},
   "outputs": [],
   "source": [
    "import os,csv,json\n",
    "import numpy as np\n",
    "import matplotlib.pyplot as plt\n",
    "import pandas as pd\n",
    "import sys\n",
    "import seaborn as sns\n",
    "colorpalette = ['#65BADA','#87D0E2','#068E8C','#75B3A7','#00A757','#82BA4F','#E5BA52','#F3EA1F','#D86F27','#E89E23','#C82E6B','#D4668F','#991B37','#C30021','#364285','#5D5296','#7D5495']"
   ]
  },
  {
   "cell_type": "code",
   "execution_count": 4,
   "metadata": {},
   "outputs": [],
   "source": [
    "# import csv\n",
    "csv_file_name = \"/Users/emilydennis/Desktop/lightsheet_inprogress/humanvselastix.csv\""
   ]
  },
  {
   "cell_type": "code",
   "execution_count": 5,
   "metadata": {},
   "outputs": [
    {
     "data": {
      "text/plain": [
       "Index(['volume', 'point', 'annotator', 'z', 'x', 'y', 'brainid'], dtype='object')"
      ]
     },
     "execution_count": 5,
     "metadata": {},
     "output_type": "execute_result"
    }
   ],
   "source": [
    "fulldf = pd.read_csv(csv_file_name)\n",
    "fulldf.keys()"
   ]
  },
  {
   "cell_type": "code",
   "execution_count": 6,
   "metadata": {},
   "outputs": [],
   "source": [
    "fulldf_nocomp = fulldf[fulldf.annotator != 'computer']\n",
    "fulldf_comp = fulldf[fulldf.annotator == 'computer']"
   ]
  },
  {
   "cell_type": "code",
   "execution_count": 7,
   "metadata": {},
   "outputs": [],
   "source": [
    "alldata = { } \n",
    "\n",
    "for name in np.unique(fulldf_nocomp.annotator):\n",
    "    alldata[name] = {}\n",
    "    annotator = fulldf[fulldf.annotator==name]\n",
    "    for volume in [\"A\",\"B\",\"C\",\"D\",\"E\",\"F\",\"G\",\"H\"]:\n",
    "        annotatorvol = annotator[annotator.volume==volume]\n",
    "        alldata[name][volume]= {}\n",
    "        for point in range(1,5):\n",
    "            annotatorpt = annotatorvol[annotatorvol.point==point]\n",
    "            alldata[name][volume][point] = [annotatorpt.x.tolist(),annotatorpt.y.tolist(),annotatorpt.z.tolist()]\n",
    "\n"
   ]
  },
  {
   "cell_type": "code",
   "execution_count": 8,
   "metadata": {},
   "outputs": [],
   "source": [
    "# now that our data is easier to index, want to make different values for plotting\n",
    "toplot = { } \n",
    "\n",
    "for name in np.unique(fulldf_nocomp.annotator):\n",
    "    toplot[name] = {}\n",
    "    #want C vs G\n",
    "    toplot[name]['humanvar'] = {}\n",
    "    for point in range(1,5):\n",
    "        vals=(abs(np.subtract(alldata[name]['C'][point],alldata[name]['G'][point])))\n",
    "        val = np.add(vals[0],vals[1],vals[2])\n",
    "        toplot[name]['humanvar'][point] = val.item()\n",
    "    toplot[name]['before'] = {}\n",
    "    for point in range(1,5):\n",
    "        vals=(abs(np.subtract(alldata[name]['B'][point],alldata[name]['F'][point])))\n",
    "        val = np.add(vals[0],vals[1],vals[2])\n",
    "        toplot[name]['before'][point] = val.item()\n",
    "    toplot[name]['affine'] = {}\n",
    "    for point in range(1,5):\n",
    "        vals=(abs(np.subtract(alldata[name]['D'][point],alldata[name]['F'][point])))\n",
    "        val = np.add(vals[0],vals[1],vals[2])\n",
    "        toplot[name]['affine'][point] = val.item()\n",
    "    toplot[name]['a1b'] = {}\n",
    "    for point in range(1,5):\n",
    "        vals=(abs(np.subtract(alldata[name]['E'][point],alldata[name]['F'][point])))\n",
    "        val = np.add(vals[0],vals[1],vals[2])\n",
    "        toplot[name]['a1b'][point] = val.item()\n",
    "    toplot[name]['final320'] = {}\n",
    "    for point in range(1,5):\n",
    "        vals=(abs(np.subtract(alldata[name]['C'][point],alldata[name]['F'][point])))\n",
    "        val = np.add(vals[0],vals[1],vals[2])\n",
    "        toplot[name]['final320'][point] = val.item()\n",
    "    toplot[name]['final315'] = {}\n",
    "    for point in range(1,5):\n",
    "        vals=(abs(np.subtract(alldata[name]['A'][point],alldata[name]['F'][point])))\n",
    "        val = np.add(vals[0],vals[1],vals[2])\n",
    "        toplot[name]['final315'][point] = val.item()\n",
    "    toplot[name]['final315v320'] = {}\n",
    "    for point in range(1,5):\n",
    "        vals=(abs(np.subtract(alldata[name]['A'][point],alldata[name]['C'][point])))\n",
    "        val = np.add(vals[0],vals[1],vals[2])\n",
    "        toplot[name]['final315v320'][point] = val.item()        "
   ]
  },
  {
   "cell_type": "code",
   "execution_count": 9,
   "metadata": {},
   "outputs": [],
   "source": [
    "# calculate for each annotator, each point\n",
    "forplots = ['humanvar','before','affine','a1b','final320','final315','final315v320']\n",
    "anns = np.unique(fulldf_nocomp.annotator)\n",
    "points = [1,2,3,4]\n",
    "# want for each comparison, a value for each annotator and each point\n",
    "# columns = comparison, annotator, point\n",
    "# data = [{'comparison':'humanvar','annotator':'name','point':1,'value':}]\n"
   ]
  },
  {
   "cell_type": "code",
   "execution_count": 10,
   "metadata": {},
   "outputs": [],
   "source": [
    "collapsedpts=[]\n",
    "for comparison in forplots:\n",
    "    for name in anns:\n",
    "        collapsedpts.append([comparison,name,np.mean([*toplot[name][comparison].values()])])\n",
    "            \n",
    "pts=[]\n",
    "for comparison in forplots:\n",
    "    for name in anns:\n",
    "        for point in points:\n",
    "            pts.append([comparison,name,point,toplot[name][comparison][point]])"
   ]
  },
  {
   "cell_type": "code",
   "execution_count": 12,
   "metadata": {},
   "outputs": [],
   "source": [
    "pts_df = pd.DataFrame(pts,columns=['comparison','name','pts','value'])\n",
    "collapsed_pts_df = pd.DataFrame(collapsedpts,columns=['comparison','name','value'])"
   ]
  },
  {
   "cell_type": "code",
   "execution_count": 13,
   "metadata": {},
   "outputs": [
    {
     "data": {
      "text/html": [
       "<div>\n",
       "<style scoped>\n",
       "    .dataframe tbody tr th:only-of-type {\n",
       "        vertical-align: middle;\n",
       "    }\n",
       "\n",
       "    .dataframe tbody tr th {\n",
       "        vertical-align: top;\n",
       "    }\n",
       "\n",
       "    .dataframe thead th {\n",
       "        text-align: right;\n",
       "    }\n",
       "</style>\n",
       "<table border=\"1\" class=\"dataframe\">\n",
       "  <thead>\n",
       "    <tr style=\"text-align: right;\">\n",
       "      <th></th>\n",
       "      <th>comparison</th>\n",
       "      <th>name</th>\n",
       "      <th>value</th>\n",
       "    </tr>\n",
       "  </thead>\n",
       "  <tbody>\n",
       "    <tr>\n",
       "      <td>0</td>\n",
       "      <td>humanvar</td>\n",
       "      <td>Adrian</td>\n",
       "      <td>2.25</td>\n",
       "    </tr>\n",
       "    <tr>\n",
       "      <td>1</td>\n",
       "      <td>humanvar</td>\n",
       "      <td>Chuck</td>\n",
       "      <td>1.25</td>\n",
       "    </tr>\n",
       "    <tr>\n",
       "      <td>2</td>\n",
       "      <td>humanvar</td>\n",
       "      <td>Emily</td>\n",
       "      <td>3.75</td>\n",
       "    </tr>\n",
       "    <tr>\n",
       "      <td>3</td>\n",
       "      <td>humanvar</td>\n",
       "      <td>Peter</td>\n",
       "      <td>2.50</td>\n",
       "    </tr>\n",
       "    <tr>\n",
       "      <td>4</td>\n",
       "      <td>humanvar</td>\n",
       "      <td>Thomas</td>\n",
       "      <td>11.50</td>\n",
       "    </tr>\n",
       "    <tr>\n",
       "      <td>10</td>\n",
       "      <td>affine</td>\n",
       "      <td>Adrian</td>\n",
       "      <td>15.25</td>\n",
       "    </tr>\n",
       "    <tr>\n",
       "      <td>11</td>\n",
       "      <td>affine</td>\n",
       "      <td>Chuck</td>\n",
       "      <td>23.00</td>\n",
       "    </tr>\n",
       "    <tr>\n",
       "      <td>12</td>\n",
       "      <td>affine</td>\n",
       "      <td>Emily</td>\n",
       "      <td>14.25</td>\n",
       "    </tr>\n",
       "    <tr>\n",
       "      <td>13</td>\n",
       "      <td>affine</td>\n",
       "      <td>Peter</td>\n",
       "      <td>14.25</td>\n",
       "    </tr>\n",
       "    <tr>\n",
       "      <td>14</td>\n",
       "      <td>affine</td>\n",
       "      <td>Thomas</td>\n",
       "      <td>8.25</td>\n",
       "    </tr>\n",
       "    <tr>\n",
       "      <td>15</td>\n",
       "      <td>a1b</td>\n",
       "      <td>Adrian</td>\n",
       "      <td>18.00</td>\n",
       "    </tr>\n",
       "    <tr>\n",
       "      <td>16</td>\n",
       "      <td>a1b</td>\n",
       "      <td>Chuck</td>\n",
       "      <td>22.25</td>\n",
       "    </tr>\n",
       "    <tr>\n",
       "      <td>17</td>\n",
       "      <td>a1b</td>\n",
       "      <td>Emily</td>\n",
       "      <td>6.25</td>\n",
       "    </tr>\n",
       "    <tr>\n",
       "      <td>18</td>\n",
       "      <td>a1b</td>\n",
       "      <td>Peter</td>\n",
       "      <td>8.25</td>\n",
       "    </tr>\n",
       "    <tr>\n",
       "      <td>19</td>\n",
       "      <td>a1b</td>\n",
       "      <td>Thomas</td>\n",
       "      <td>8.00</td>\n",
       "    </tr>\n",
       "    <tr>\n",
       "      <td>20</td>\n",
       "      <td>final320</td>\n",
       "      <td>Adrian</td>\n",
       "      <td>17.75</td>\n",
       "    </tr>\n",
       "    <tr>\n",
       "      <td>21</td>\n",
       "      <td>final320</td>\n",
       "      <td>Chuck</td>\n",
       "      <td>22.25</td>\n",
       "    </tr>\n",
       "    <tr>\n",
       "      <td>22</td>\n",
       "      <td>final320</td>\n",
       "      <td>Emily</td>\n",
       "      <td>6.00</td>\n",
       "    </tr>\n",
       "    <tr>\n",
       "      <td>23</td>\n",
       "      <td>final320</td>\n",
       "      <td>Peter</td>\n",
       "      <td>5.50</td>\n",
       "    </tr>\n",
       "    <tr>\n",
       "      <td>24</td>\n",
       "      <td>final320</td>\n",
       "      <td>Thomas</td>\n",
       "      <td>11.25</td>\n",
       "    </tr>\n",
       "  </tbody>\n",
       "</table>\n",
       "</div>"
      ],
      "text/plain": [
       "   comparison    name  value\n",
       "0    humanvar  Adrian   2.25\n",
       "1    humanvar   Chuck   1.25\n",
       "2    humanvar   Emily   3.75\n",
       "3    humanvar   Peter   2.50\n",
       "4    humanvar  Thomas  11.50\n",
       "10     affine  Adrian  15.25\n",
       "11     affine   Chuck  23.00\n",
       "12     affine   Emily  14.25\n",
       "13     affine   Peter  14.25\n",
       "14     affine  Thomas   8.25\n",
       "15        a1b  Adrian  18.00\n",
       "16        a1b   Chuck  22.25\n",
       "17        a1b   Emily   6.25\n",
       "18        a1b   Peter   8.25\n",
       "19        a1b  Thomas   8.00\n",
       "20   final320  Adrian  17.75\n",
       "21   final320   Chuck  22.25\n",
       "22   final320   Emily   6.00\n",
       "23   final320   Peter   5.50\n",
       "24   final320  Thomas  11.25"
      ]
     },
     "execution_count": 13,
     "metadata": {},
     "output_type": "execute_result"
    }
   ],
   "source": [
    "pts_no_before = collapsed_pts_df[collapsed_pts_df.comparison!='before']\n",
    "pts_k320_one = pts_no_before[pts_no_before.comparison!='final315']\n",
    "pts_k320 = pts_k320_one[pts_k320_one.comparison!='final315v320']\n",
    "pts_k320"
   ]
  },
  {
   "cell_type": "code",
   "execution_count": 41,
   "metadata": {},
   "outputs": [
    {
     "data": {
      "image/png": "[encoded data removed]",
      "text/plain": [
       "<Figure size 432x288 with 1 Axes>"
      ]
     },
     "metadata": {},
     "output_type": "display_data"
    }
   ],
   "source": [
    "pts_df_sub = pts_df[pts_df.comparison!='final315']\n",
    "pts_df_sub = pts_df_sub[pts_df_sub.comparison!='final315v320']\n",
    "\n",
    "ax = sns.set_style('whitegrid')\n",
    "ax=sns.set_palette(\"Paired\")\n",
    "ax= sns.swarmplot(x='comparison',y='value',data=pts_df_sub)\n"
   ]
  },
  {
   "cell_type": "code",
   "execution_count": 35,
   "metadata": {},
   "outputs": [
    {
     "data": {
      "image/png": "[encoded data removed]",
      "text/plain": [
       "<Figure size 432x288 with 1 Axes>"
      ]
     },
     "metadata": {},
     "output_type": "display_data"
    }
   ],
   "source": [
    "ax=sns.set_palette(\"Paired\")\n",
    "ax = sns.set_style('whitegrid')\n",
    "ax= sns.swarmplot(x='comparison',y='value',data=collapsed_pts_df[collapsed_pts_df.comparison!='before'],hue='name')"
   ]
  },
  {
   "cell_type": "code",
   "execution_count": 169,
   "metadata": {},
   "outputs": [
    {
     "data": {
      "text/plain": [
       "[(0.396078431372549, 0.7294117647058823, 0.8549019607843137),\n",
       " (0.5294117647058824, 0.8156862745098039, 0.8862745098039215),\n",
       " (0.023529411764705882, 0.5568627450980392, 0.5490196078431373),\n",
       " (0.4588235294117647, 0.7019607843137254, 0.6549019607843137),\n",
       " (0.0, 0.6549019607843137, 0.3411764705882353),\n",
       " (0.5098039215686274, 0.7294117647058823, 0.30980392156862746),\n",
       " (0.8980392156862745, 0.7294117647058823, 0.3215686274509804),\n",
       " (0.9529411764705882, 0.9176470588235294, 0.12156862745098039),\n",
       " (0.8470588235294118, 0.43529411764705883, 0.15294117647058825),\n",
       " (0.9098039215686274, 0.6196078431372549, 0.13725490196078433),\n",
       " (0.7843137254901961, 0.1803921568627451, 0.4196078431372549),\n",
       " (0.8313725490196079, 0.4, 0.5607843137254902),\n",
       " (0.6, 0.10588235294117647, 0.21568627450980393),\n",
       " (0.7647058823529411, 0.0, 0.12941176470588237),\n",
       " (0.21176470588235294, 0.25882352941176473, 0.5215686274509804),\n",
       " (0.36470588235294116, 0.3215686274509804, 0.5882352941176471),\n",
       " (0.49019607843137253, 0.32941176470588235, 0.5843137254901961)]"
      ]
     },
     "execution_count": 169,
     "metadata": {},
     "output_type": "execute_result"
    }
   ],
   "source": []
  },
  {
   "cell_type": "code",
   "execution_count": 60,
   "metadata": {},
   "outputs": [
    {
     "data": {
      "text/plain": [
       "<matplotlib.colorbar.Colorbar at 0x7feea645e8d0>"
      ]
     },
     "execution_count": 60,
     "metadata": {},
     "output_type": "execute_result"
    },
    {
     "data": {
      "image/png": "[encoded data removed]",
      "text/plain": [
       "<Figure size 432x288 with 2 Axes>"
      ]
     },
     "metadata": {
      "needs_background": "light"
     },
     "output_type": "display_data"
    }
   ],
   "source": [
    "plt.imshow(pt1mat)\n",
    "plt.colorbar()\n"
   ]
  }
 ],
 "metadata": {
  "kernelspec": {
   "display_name": "Python 3",
   "language": "python",
   "name": "python3"
  },
  "language_info": {
   "codemirror_mode": {
    "name": "ipython",
    "version": 3
   },
   "file_extension": ".py",
   "mimetype": "text/x-python",
   "name": "python",
   "nbconvert_exporter": "python",
   "pygments_lexer": "ipython3",
   "version": "3.7.4"
  }
 },
 "nbformat": 4,
 "nbformat_minor": 2
}

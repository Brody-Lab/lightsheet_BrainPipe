{
 "cells": [
  {
   "cell_type": "code",
   "execution_count": 1,
   "metadata": {},
   "outputs": [],
   "source": [
    "import os,csv,json\n",
    "import numpy as np\n",
    "import matplotlib.pyplot as plt\n",
    "import pandas as pd\n",
    "import sys"
   ]
  },
  {
   "cell_type": "code",
   "execution_count": 5,
   "metadata": {},
   "outputs": [],
   "source": [
    "# import csv\n",
    "csv_file_name = \"/Users/emilydennis/Desktop/lightsheet_inprogress/humanvselastix.csv\""
   ]
  },
  {
   "cell_type": "code",
   "execution_count": 9,
   "metadata": {},
   "outputs": [
    {
     "data": {
      "text/plain": [
       "Index(['volume', 'point', 'annotator', 'z', 'x', 'y', 'brainid'], dtype='object')"
      ]
     },
     "execution_count": 9,
     "metadata": {},
     "output_type": "execute_result"
    }
   ],
   "source": [
    "fulldf = pd.read_csv(csv_file_name)\n",
    "fulldf.keys()"
   ]
  },
  {
   "cell_type": "code",
   "execution_count": 10,
   "metadata": {},
   "outputs": [
    {
     "data": {
      "text/html": [
       "<div>\n",
       "<style scoped>\n",
       "    .dataframe tbody tr th:only-of-type {\n",
       "        vertical-align: middle;\n",
       "    }\n",
       "\n",
       "    .dataframe tbody tr th {\n",
       "        vertical-align: top;\n",
       "    }\n",
       "\n",
       "    .dataframe thead th {\n",
       "        text-align: right;\n",
       "    }\n",
       "</style>\n",
       "<table border=\"1\" class=\"dataframe\">\n",
       "  <thead>\n",
       "    <tr style=\"text-align: right;\">\n",
       "      <th></th>\n",
       "      <th>volume</th>\n",
       "      <th>point</th>\n",
       "      <th>annotator</th>\n",
       "      <th>z</th>\n",
       "      <th>x</th>\n",
       "      <th>y</th>\n",
       "      <th>brainid</th>\n",
       "    </tr>\n",
       "  </thead>\n",
       "  <tbody>\n",
       "    <tr>\n",
       "      <td>0</td>\n",
       "      <td>A</td>\n",
       "      <td>1</td>\n",
       "      <td>Adrian</td>\n",
       "      <td>57.0</td>\n",
       "      <td>141.0</td>\n",
       "      <td>222.0</td>\n",
       "      <td>k315_5</td>\n",
       "    </tr>\n",
       "    <tr>\n",
       "      <td>1</td>\n",
       "      <td>A</td>\n",
       "      <td>2</td>\n",
       "      <td>Adrian</td>\n",
       "      <td>339.0</td>\n",
       "      <td>111.0</td>\n",
       "      <td>221.0</td>\n",
       "      <td>k315_5</td>\n",
       "    </tr>\n",
       "    <tr>\n",
       "      <td>2</td>\n",
       "      <td>A</td>\n",
       "      <td>3</td>\n",
       "      <td>Adrian</td>\n",
       "      <td>308.0</td>\n",
       "      <td>111.0</td>\n",
       "      <td>221.0</td>\n",
       "      <td>k315_5</td>\n",
       "    </tr>\n",
       "    <tr>\n",
       "      <td>3</td>\n",
       "      <td>A</td>\n",
       "      <td>4</td>\n",
       "      <td>Adrian</td>\n",
       "      <td>440.0</td>\n",
       "      <td>126.0</td>\n",
       "      <td>222.0</td>\n",
       "      <td>k315_5</td>\n",
       "    </tr>\n",
       "    <tr>\n",
       "      <td>4</td>\n",
       "      <td>B</td>\n",
       "      <td>1</td>\n",
       "      <td>Adrian</td>\n",
       "      <td>98.0</td>\n",
       "      <td>151.0</td>\n",
       "      <td>312.0</td>\n",
       "      <td>k320_1</td>\n",
       "    </tr>\n",
       "    <tr>\n",
       "      <td>...</td>\n",
       "      <td>...</td>\n",
       "      <td>...</td>\n",
       "      <td>...</td>\n",
       "      <td>...</td>\n",
       "      <td>...</td>\n",
       "      <td>...</td>\n",
       "      <td>...</td>\n",
       "    </tr>\n",
       "    <tr>\n",
       "      <td>127</td>\n",
       "      <td>H</td>\n",
       "      <td>1</td>\n",
       "      <td>Jess</td>\n",
       "      <td>NaN</td>\n",
       "      <td>NaN</td>\n",
       "      <td>NaN</td>\n",
       "      <td>schwarz</td>\n",
       "    </tr>\n",
       "    <tr>\n",
       "      <td>128</td>\n",
       "      <td>H</td>\n",
       "      <td>2</td>\n",
       "      <td>Jess</td>\n",
       "      <td>NaN</td>\n",
       "      <td>NaN</td>\n",
       "      <td>NaN</td>\n",
       "      <td>schwarz</td>\n",
       "    </tr>\n",
       "    <tr>\n",
       "      <td>129</td>\n",
       "      <td>H</td>\n",
       "      <td>3</td>\n",
       "      <td>Jess</td>\n",
       "      <td>NaN</td>\n",
       "      <td>NaN</td>\n",
       "      <td>NaN</td>\n",
       "      <td>schwarz</td>\n",
       "    </tr>\n",
       "    <tr>\n",
       "      <td>130</td>\n",
       "      <td>H</td>\n",
       "      <td>4</td>\n",
       "      <td>Jess</td>\n",
       "      <td>NaN</td>\n",
       "      <td>NaN</td>\n",
       "      <td>NaN</td>\n",
       "      <td>schwarz</td>\n",
       "    </tr>\n",
       "    <tr>\n",
       "      <td>131</td>\n",
       "      <td>bregma</td>\n",
       "      <td>1</td>\n",
       "      <td>Jess</td>\n",
       "      <td>NaN</td>\n",
       "      <td>NaN</td>\n",
       "      <td>NaN</td>\n",
       "      <td>NaN</td>\n",
       "    </tr>\n",
       "  </tbody>\n",
       "</table>\n",
       "<p>132 rows × 7 columns</p>\n",
       "</div>"
      ],
      "text/plain": [
       "     volume  point annotator      z      x      y  brainid\n",
       "0         A      1    Adrian   57.0  141.0  222.0   k315_5\n",
       "1         A      2    Adrian  339.0  111.0  221.0   k315_5\n",
       "2         A      3    Adrian  308.0  111.0  221.0   k315_5\n",
       "3         A      4    Adrian  440.0  126.0  222.0   k315_5\n",
       "4         B      1    Adrian   98.0  151.0  312.0   k320_1\n",
       "..      ...    ...       ...    ...    ...    ...      ...\n",
       "127       H      1      Jess    NaN    NaN    NaN  schwarz\n",
       "128       H      2      Jess    NaN    NaN    NaN  schwarz\n",
       "129       H      3      Jess    NaN    NaN    NaN  schwarz\n",
       "130       H      4      Jess    NaN    NaN    NaN  schwarz\n",
       "131  bregma      1      Jess    NaN    NaN    NaN      NaN\n",
       "\n",
       "[132 rows x 7 columns]"
      ]
     },
     "execution_count": 10,
     "metadata": {},
     "output_type": "execute_result"
    }
   ],
   "source": [
    "fulldf"
   ]
  },
  {
   "cell_type": "code",
   "execution_count": 21,
   "metadata": {},
   "outputs": [
    {
     "data": {
      "text/html": [
       "<div>\n",
       "<style scoped>\n",
       "    .dataframe tbody tr th:only-of-type {\n",
       "        vertical-align: middle;\n",
       "    }\n",
       "\n",
       "    .dataframe tbody tr th {\n",
       "        vertical-align: top;\n",
       "    }\n",
       "\n",
       "    .dataframe thead th {\n",
       "        text-align: right;\n",
       "    }\n",
       "</style>\n",
       "<table border=\"1\" class=\"dataframe\">\n",
       "  <thead>\n",
       "    <tr style=\"text-align: right;\">\n",
       "      <th></th>\n",
       "      <th>volume</th>\n",
       "      <th>point</th>\n",
       "      <th>annotator</th>\n",
       "      <th>z</th>\n",
       "      <th>x</th>\n",
       "      <th>y</th>\n",
       "      <th>brainid</th>\n",
       "    </tr>\n",
       "  </thead>\n",
       "  <tbody>\n",
       "    <tr>\n",
       "      <td>0</td>\n",
       "      <td>A</td>\n",
       "      <td>1</td>\n",
       "      <td>Adrian</td>\n",
       "      <td>57.0</td>\n",
       "      <td>141.0</td>\n",
       "      <td>222.0</td>\n",
       "      <td>k315_5</td>\n",
       "    </tr>\n",
       "    <tr>\n",
       "      <td>4</td>\n",
       "      <td>B</td>\n",
       "      <td>1</td>\n",
       "      <td>Adrian</td>\n",
       "      <td>98.0</td>\n",
       "      <td>151.0</td>\n",
       "      <td>312.0</td>\n",
       "      <td>k320_1</td>\n",
       "    </tr>\n",
       "    <tr>\n",
       "      <td>8</td>\n",
       "      <td>C</td>\n",
       "      <td>1</td>\n",
       "      <td>Adrian</td>\n",
       "      <td>57.0</td>\n",
       "      <td>146.0</td>\n",
       "      <td>222.0</td>\n",
       "      <td>k320_5</td>\n",
       "    </tr>\n",
       "    <tr>\n",
       "      <td>12</td>\n",
       "      <td>D</td>\n",
       "      <td>1</td>\n",
       "      <td>Adrian</td>\n",
       "      <td>58.0</td>\n",
       "      <td>133.0</td>\n",
       "      <td>225.0</td>\n",
       "      <td>k320_2</td>\n",
       "    </tr>\n",
       "    <tr>\n",
       "      <td>16</td>\n",
       "      <td>E</td>\n",
       "      <td>1</td>\n",
       "      <td>Adrian</td>\n",
       "      <td>57.0</td>\n",
       "      <td>141.0</td>\n",
       "      <td>223.0</td>\n",
       "      <td>k320_3</td>\n",
       "    </tr>\n",
       "    <tr>\n",
       "      <td>20</td>\n",
       "      <td>F</td>\n",
       "      <td>1</td>\n",
       "      <td>Adrian</td>\n",
       "      <td>55.0</td>\n",
       "      <td>92.0</td>\n",
       "      <td>220.0</td>\n",
       "      <td>whs</td>\n",
       "    </tr>\n",
       "    <tr>\n",
       "      <td>24</td>\n",
       "      <td>G</td>\n",
       "      <td>1</td>\n",
       "      <td>Adrian</td>\n",
       "      <td>56.0</td>\n",
       "      <td>145.0</td>\n",
       "      <td>223.0</td>\n",
       "      <td>k320_52</td>\n",
       "    </tr>\n",
       "    <tr>\n",
       "      <td>28</td>\n",
       "      <td>H</td>\n",
       "      <td>1</td>\n",
       "      <td>Adrian</td>\n",
       "      <td>12.0</td>\n",
       "      <td>82.0</td>\n",
       "      <td>130.0</td>\n",
       "      <td>schwarz</td>\n",
       "    </tr>\n",
       "    <tr>\n",
       "      <td>32</td>\n",
       "      <td>bregma</td>\n",
       "      <td>1</td>\n",
       "      <td>Adrian</td>\n",
       "      <td>1.0</td>\n",
       "      <td>229.0</td>\n",
       "      <td>518.0</td>\n",
       "      <td>skull</td>\n",
       "    </tr>\n",
       "  </tbody>\n",
       "</table>\n",
       "</div>"
      ],
      "text/plain": [
       "    volume  point annotator     z      x      y  brainid\n",
       "0        A      1    Adrian  57.0  141.0  222.0   k315_5\n",
       "4        B      1    Adrian  98.0  151.0  312.0   k320_1\n",
       "8        C      1    Adrian  57.0  146.0  222.0   k320_5\n",
       "12       D      1    Adrian  58.0  133.0  225.0   k320_2\n",
       "16       E      1    Adrian  57.0  141.0  223.0   k320_3\n",
       "20       F      1    Adrian  55.0   92.0  220.0      whs\n",
       "24       G      1    Adrian  56.0  145.0  223.0  k320_52\n",
       "28       H      1    Adrian  12.0   82.0  130.0  schwarz\n",
       "32  bregma      1    Adrian   1.0  229.0  518.0    skull"
      ]
     },
     "execution_count": 21,
     "metadata": {},
     "output_type": "execute_result"
    }
   ],
   "source": [
    "Adrian = fulldf[fulldf[\"annotator\"] == \"Adrian\"]\n",
    "Emily = fulldf[fulldf[\"annotator\"] == \"Emily\"]\n",
    "\n",
    "# for each person, want to know pt1,2,3,4 for each brain compared to all the others\n",
    "pt1Ad = Adrian[Adrian[\"point\"]==1]\n",
    "pt1Ad"
   ]
  },
  {
   "cell_type": "code",
   "execution_count": 56,
   "metadata": {},
   "outputs": [],
   "source": [
    "pt1Ed = Emily[Emily[\"point\"]==1]\n",
    "x=pt1Ed.x\n",
    "y=pt1Ed.y\n",
    "z=pt1Ed.z\n",
    "\n",
    "pt1mat=np.zeros([7,7])\n",
    "\n",
    "for val1 in range(0,7):\n",
    "    for val2 in range(0,7):\n",
    "        ind1=x.index[val1]\n",
    "        ind2=x.index[val2]\n",
    "        pt1mat[val1,val2]= (abs(x[ind1]-x[ind2])+abs(y[ind1]-y[ind2])+abs(z[ind1]-z[ind2]))\n",
    "\n",
    "pt2Ed = Emily[Emily[\"point\"]==2]\n",
    "x=pt2Ed.x\n",
    "y=pt2Ed.y\n",
    "z=pt2Ed.z\n",
    "\n",
    "\n",
    "pt2mat=np.zeros([7,7])\n",
    "\n",
    "for val1 in range(0,7):\n",
    "    for val2 in range(0,7):\n",
    "        ind1=x.index[val1]\n",
    "        ind2=x.index[val2]\n",
    "        pt2mat[val1,val2]= (abs(x[ind1]-x[ind2])+abs(y[ind1]-y[ind2])+abs(z[ind1]-z[ind2]))\n",
    "        \n",
    "pt3Ed = Emily[Emily[\"point\"]==3]\n",
    "x=pt3Ed.x\n",
    "y=pt3Ed.y\n",
    "z=pt3Ed.z\n",
    "\n",
    "\n",
    "pt3mat=np.zeros([7,7])\n",
    "\n",
    "for val1 in range(0,7):\n",
    "    for val2 in range(0,7):\n",
    "        ind1=x.index[val1]\n",
    "        ind2=x.index[val2]\n",
    "        pt3mat[val1,val2]= (abs(x[ind1]-x[ind2])+abs(y[ind1]-y[ind2])+abs(z[ind1]-z[ind2]))\n",
    "        \n",
    "pt4Ed = Emily[Emily[\"point\"]==4]\n",
    "x=pt4Ed.x\n",
    "y=pt4Ed.y\n",
    "z=pt4Ed.z\n",
    "\n",
    "\n",
    "pt4mat=np.zeros([7,7])\n",
    "\n",
    "for val1 in range(0,7):\n",
    "    for val2 in range(0,7):\n",
    "        ind1=x.index[val1]\n",
    "        ind2=x.index[val2]\n",
    "        pt4mat[val1,val2]= (abs(x[ind1]-x[ind2])+abs(y[ind1]-y[ind2])+abs(z[ind1]-z[ind2]))\n",
    "        \n"
   ]
  },
  {
   "cell_type": "code",
   "execution_count": 43,
   "metadata": {},
   "outputs": [],
   "source": [
    "pt1Ad = Adrian[Adrian[\"point\"]==1]\n",
    "x=pt1Ad.x\n",
    "y=pt1Ad.y\n",
    "z=pt1Ad.z\n",
    "\n",
    "pt1mat=np.zeros([7,7])\n",
    "\n",
    "for val1 in range(0,7):\n",
    "    for val2 in range(0,7):\n",
    "        ind1=x.index[val1]\n",
    "        ind2=x.index[val2]\n",
    "        pt1mat[val1,val2]= (abs(x[ind1]-x[ind2])+abs(y[ind1]-y[ind2])+abs(z[ind1]-z[ind2]))\n",
    "\n",
    "pt2Ad = Adrian[Adrian[\"point\"]==2]\n",
    "x=pt2Ad.x\n",
    "y=pt2Ad.y\n",
    "z=pt2Ad.z\n",
    "\n",
    "\n",
    "pt2mat=np.zeros([7,7])\n",
    "\n",
    "for val1 in range(0,7):\n",
    "    for val2 in range(0,7):\n",
    "        ind1=x.index[val1]\n",
    "        ind2=x.index[val2]\n",
    "        pt2mat[val1,val2]= (abs(x[ind1]-x[ind2])+abs(y[ind1]-y[ind2])+abs(z[ind1]-z[ind2]))\n",
    "        \n",
    "pt3Ad = Adrian[Adrian[\"point\"]==3]\n",
    "x=pt3Ad.x\n",
    "y=pt3Ad.y\n",
    "z=pt3Ad.z\n",
    "\n",
    "\n",
    "pt3mat=np.zeros([7,7])\n",
    "\n",
    "for val1 in range(0,7):\n",
    "    for val2 in range(0,7):\n",
    "        ind1=x.index[val1]\n",
    "        ind2=x.index[val2]\n",
    "        pt3mat[val1,val2]= (abs(x[ind1]-x[ind2])+abs(y[ind1]-y[ind2])+abs(z[ind1]-z[ind2]))\n",
    "        \n",
    "pt4Ad = Adrian[Adrian[\"point\"]==4]\n",
    "x=pt4Ad.x\n",
    "y=pt4Ad.y\n",
    "z=pt4Ad.z\n",
    "\n",
    "\n",
    "pt4mat=np.zeros([7,7])\n",
    "\n",
    "for val1 in range(0,7):\n",
    "    for val2 in range(0,7):\n",
    "        ind1=x.index[val1]\n",
    "        ind2=x.index[val2]\n",
    "        pt4mat[val1,val2]= (abs(x[ind1]-x[ind2])+abs(y[ind1]-y[ind2])+abs(z[ind1]-z[ind2]))\n",
    "        \n"
   ]
  },
  {
   "cell_type": "code",
   "execution_count": 49,
   "metadata": {},
   "outputs": [
    {
     "data": {
      "text/plain": [
       "<matplotlib.colorbar.Colorbar at 0x7feea5b32f10>"
      ]
     },
     "execution_count": 49,
     "metadata": {},
     "output_type": "execute_result"
    },
    {
     "data": {
      "image/png": "[encoded data removed]",
      "text/plain": [
       "<Figure size 432x288 with 2 Axes>"
      ]
     },
     "metadata": {
      "needs_background": "light"
     },
     "output_type": "display_data"
    }
   ],
   "source": [
    "plt.imshow(pt4mat)\n",
    "plt.colorbar()"
   ]
  },
  {
   "cell_type": "code",
   "execution_count": 50,
   "metadata": {},
   "outputs": [
    {
     "data": {
      "text/plain": [
       "<matplotlib.colorbar.Colorbar at 0x7feea5dfe7d0>"
      ]
     },
     "execution_count": 50,
     "metadata": {},
     "output_type": "execute_result"
    },
    {
     "data": {
      "image/png": "[encoded data removed]",
      "text/plain": [
       "<Figure size 432x288 with 2 Axes>"
      ]
     },
     "metadata": {
      "needs_background": "light"
     },
     "output_type": "display_data"
    }
   ],
   "source": [
    "plt.imshow(pt3mat)\n",
    "plt.colorbar()"
   ]
  },
  {
   "cell_type": "code",
   "execution_count": 51,
   "metadata": {},
   "outputs": [
    {
     "data": {
      "text/plain": [
       "<matplotlib.colorbar.Colorbar at 0x7feea5ff6b10>"
      ]
     },
     "execution_count": 51,
     "metadata": {},
     "output_type": "execute_result"
    },
    {
     "data": {
      "image/png": "[encoded data removed]",
      "text/plain": [
       "<Figure size 432x288 with 2 Axes>"
      ]
     },
     "metadata": {
      "needs_background": "light"
     },
     "output_type": "display_data"
    }
   ],
   "source": [
    "plt.imshow(pt2mat)\n",
    "plt.colorbar()"
   ]
  },
  {
   "cell_type": "code",
   "execution_count": 52,
   "metadata": {},
   "outputs": [
    {
     "data": {
      "text/plain": [
       "<matplotlib.colorbar.Colorbar at 0x7feea61f7d90>"
      ]
     },
     "execution_count": 52,
     "metadata": {},
     "output_type": "execute_result"
    },
    {
     "data": {
      "image/png": "[encoded data removed]",
      "text/plain": [
       "<Figure size 432x288 with 2 Axes>"
      ]
     },
     "metadata": {
      "needs_background": "light"
     },
     "output_type": "display_data"
    }
   ],
   "source": [
    "plt.imshow(pt1mat)\n",
    "plt.colorbar()"
   ]
  },
  {
   "cell_type": "code",
   "execution_count": 57,
   "metadata": {},
   "outputs": [
    {
     "data": {
      "text/plain": [
       "<matplotlib.colorbar.Colorbar at 0x7feea6590e10>"
      ]
     },
     "execution_count": 57,
     "metadata": {},
     "output_type": "execute_result"
    },
    {
     "data": {
      "image/png": "[encoded data removed]",
      "text/plain": [
       "<Figure size 432x288 with 2 Axes>"
      ]
     },
     "metadata": {
      "needs_background": "light"
     },
     "output_type": "display_data"
    }
   ],
   "source": [
    "plt.imshow(pt4mat)\n",
    "plt.colorbar()"
   ]
  },
  {
   "cell_type": "code",
   "execution_count": 58,
   "metadata": {},
   "outputs": [
    {
     "data": {
      "text/plain": [
       "<matplotlib.colorbar.Colorbar at 0x7feea59fe990>"
      ]
     },
     "execution_count": 58,
     "metadata": {},
     "output_type": "execute_result"
    },
    {
     "data": {
      "image/png": "[encoded data removed]",
      "text/plain": [
       "<Figure size 432x288 with 2 Axes>"
      ]
     },
     "metadata": {
      "needs_background": "light"
     },
     "output_type": "display_data"
    }
   ],
   "source": [
    "plt.imshow(pt3mat)\n",
    "plt.colorbar()"
   ]
  },
  {
   "cell_type": "code",
   "execution_count": 59,
   "metadata": {},
   "outputs": [
    {
     "data": {
      "text/plain": [
       "<matplotlib.colorbar.Colorbar at 0x7feea6035c90>"
      ]
     },
     "execution_count": 59,
     "metadata": {},
     "output_type": "execute_result"
    },
    {
     "data": {
      "image/png": "[encoded data removed]",
      "text/plain": [
       "<Figure size 432x288 with 2 Axes>"
      ]
     },
     "metadata": {
      "needs_background": "light"
     },
     "output_type": "display_data"
    }
   ],
   "source": [
    "plt.imshow(pt2mat)\n",
    "plt.colorbar()"
   ]
  },
  {
   "cell_type": "code",
   "execution_count": 60,
   "metadata": {},
   "outputs": [
    {
     "data": {
      "text/plain": [
       "<matplotlib.colorbar.Colorbar at 0x7feea645e8d0>"
      ]
     },
     "execution_count": 60,
     "metadata": {},
     "output_type": "execute_result"
    },
    {
     "data": {
      "image/png": "[encoded data removed]",
      "text/plain": [
       "<Figure size 432x288 with 2 Axes>"
      ]
     },
     "metadata": {
      "needs_background": "light"
     },
     "output_type": "display_data"
    }
   ],
   "source": [
    "plt.imshow(pt1mat)\n",
    "plt.colorbar()\n"
   ]
  },
  {
   "cell_type": "code",
   "execution_count": 63,
   "metadata": {},
   "outputs": [
    {
     "data": {
      "text/plain": [
       "array([[  0., 143.,  10.,  16.,   6.,  10.,  10.],\n",
       "       [143.,   0., 133., 141., 137., 133., 133.],\n",
       "       [ 10., 133.,   0.,  20.,   8.,   0.,   0.],\n",
       "       [ 16., 141.,  20.,   0.,  12.,  20.,  20.],\n",
       "       [  6., 137.,   8.,  12.,   0.,   8.,   8.],\n",
       "       [ 10., 133.,   0.,  20.,   8.,   0.,   0.],\n",
       "       [ 10., 133.,   0.,  20.,   8.,   0.,   0.]])"
      ]
     },
     "execution_count": 63,
     "metadata": {},
     "output_type": "execute_result"
    }
   ],
   "source": [
    "pt1mat\n"
   ]
  },
  {
   "cell_type": "markdown",
   "metadata": {},
   "source": [
    "the plots I want will have\n",
    "\n",
    "x: human variability within brains:\n",
    "for each of the 4 points for each person, k320_5 vs k320_52\n",
    "plot each person's points in a color\n",
    "\n",
    "x: before reigstration\n",
    "for each of the 4 points for each person, k320_1 vs whs\n",
    "plot each person's points in a color\n",
    "ADD for the inverse registration, dist predicted by warping from whs to k320_1\n",
    "\n",
    "x: affine only\n",
    "for each of the 4 points for each person, k320_2 vs whs\n",
    "plot each person's points in a color\n",
    "ADD for the inverse registration, dist predicted by warping from whs to k320_2\n",
    "\n",
    "x: affine+1 bspline\n",
    "for each of the 4 points for each person, k320_3 vs whs\n",
    "plot each person's points in a color\n",
    "ADD for the inverse registration, dist predicted by warping from whs to k320_3\n",
    "\n",
    "x: affine+2 bspline\n",
    "for each of the 4 points for each person, k320_4 vs whs\n",
    "plot each person's points in a color\n",
    "ADD for the inverse registration, dist predicted by warping from whs to k320_4\n",
    "\n",
    "x: fully registered\n",
    "for each of the 4 points for each person, k320_5 vs whs\n",
    "plot each person's points in a color\n",
    "ADD for the inverse registration, dist predicted by warping from whs to k320_5 (this should be zero)\n",
    "\n",
    "x: human variability across brains:\n",
    "for each of the 4 points for each person, k315_5 vs whs\n",
    "\n",
    "so I want a data structure where I have a dict with indices of ['humanvar','beforereg','affine','affine1b','affine2b','affine3b','full','k315]\n",
    "\n",
    "nested dicts\n",
    "mydata = {1: {'name': 'Adrian', 'pt1':[],'pt2':[],'pt3':[],'pt4':[]},\n",
    "          2: {'name': 'Emily', 'pt1':[],'pt2':[],'pt3':[],'pt4':[]}}\n",
    "\n",
    "humanvar = C vs G   (2,6)\n",
    "before = B vs F     (1,5)\n",
    "affine = D vs F     (3,5)\n",
    "affine1b = E vs F   (4,5)\n",
    "final320 = C vs F   (2,5)\n",
    "final315 = A vs F   (0,5)\n",
    "\n",
    "0 1 2 3 4 5 6 7\n",
    "a b c d e f g h\n",
    "\n",
    "def findvalue(index):\n",
    "\n",
    "nested dicts {1: {'xlab': 'humanvar', 'A':[Apt1[2,6],Apt2[2,6],Apt3[2,6],Apt4[2,6],'E':[Ept1[2,6],Ept2[2,6],Ept3[2,6],Ept4[2,6]},\n",
    "          2: {'xlab': 'beforereg', 'A':[],'E':[]}}"
   ]
  }
 ],
 "metadata": {
  "kernelspec": {
   "display_name": "Python 3",
   "language": "python",
   "name": "python3"
  },
  "language_info": {
   "codemirror_mode": {
    "name": "ipython",
    "version": 3
   },
   "file_extension": ".py",
   "mimetype": "text/x-python",
   "name": "python",
   "nbconvert_exporter": "python",
   "pygments_lexer": "ipython3",
   "version": "3.7.4"
  }
 },
 "nbformat": 4,
 "nbformat_minor": 2
}

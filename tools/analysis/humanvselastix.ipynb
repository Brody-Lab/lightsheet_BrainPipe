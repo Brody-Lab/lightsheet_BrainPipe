{
 "cells": [
  {
   "cell_type": "code",
   "execution_count": 1,
   "metadata": {},
   "outputs": [],
   "source": [
    "import os,csv,json\n",
    "import numpy as np\n",
    "import matplotlib.pyplot as plt\n",
    "import pandas as pd\n",
    "import sys\n",
    "import seaborn as sns"
   ]
  },
  {
   "cell_type": "code",
   "execution_count": 2,
   "metadata": {},
   "outputs": [],
   "source": [
    "# import csv\n",
    "csv_file_name = \"/Users/emilydennis/Desktop/humanvselastix.csv\""
   ]
  },
  {
   "cell_type": "code",
   "execution_count": 3,
   "metadata": {},
   "outputs": [
    {
     "data": {
      "text/plain": [
       "Index(['volume', 'point', 'annotator', 'z', 'x', 'y', 'brainid'], dtype='object')"
      ]
     },
     "execution_count": 3,
     "metadata": {},
     "output_type": "execute_result"
    }
   ],
   "source": [
    "fulldf = pd.read_csv(csv_file_name)\n",
    "fulldf.keys()"
   ]
  },
  {
   "cell_type": "code",
   "execution_count": 4,
   "metadata": {},
   "outputs": [],
   "source": [
    "fulldf_nocomp = fulldf[fulldf.annotator != 'computer']\n",
    "fulldf_comp = fulldf[fulldf.annotator == 'computer']"
   ]
  },
  {
   "cell_type": "code",
   "execution_count": 5,
   "metadata": {},
   "outputs": [],
   "source": [
    "alldata = { } \n",
    "\n",
    "for name in np.unique(fulldf_nocomp.annotator):\n",
    "    alldata[name] = {}\n",
    "    annotator = fulldf[fulldf.annotator==name]\n",
    "    for volume in [\"A\",\"B\",\"C\",\"D\",\"E\",\"F\",\"G\",\"H\"]:\n",
    "        annotatorvol = annotator[annotator.volume==volume]\n",
    "        alldata[name][volume]= {}\n",
    "        for point in range(1,5):\n",
    "            annotatorpt = annotatorvol[annotatorvol.point==point]\n",
    "            alldata[name][volume][point] = [annotatorpt.x.tolist(),annotatorpt.y.tolist(),annotatorpt.z.tolist()]\n",
    "\n"
   ]
  },
  {
   "cell_type": "code",
   "execution_count": 6,
   "metadata": {},
   "outputs": [],
   "source": [
    "# now that our data is easier to index, want to make different values for plotting\n",
    "toplot = { } \n",
    "\n",
    "for name in np.unique(fulldf_nocomp.annotator):\n",
    "    toplot[name] = {}\n",
    "    #want C vs G\n",
    "    toplot[name]['humanvar'] = {}\n",
    "    for point in range(1,5):\n",
    "        vals=(abs(np.subtract(alldata[name]['C'][point],alldata[name]['G'][point])))\n",
    "        val = np.add(vals[0],vals[1],vals[2])\n",
    "        toplot[name]['humanvar'][point] = val.item()\n",
    "    toplot[name]['before'] = {}\n",
    "    for point in range(1,5):\n",
    "        vals=(abs(np.subtract(alldata[name]['B'][point],alldata[name]['F'][point])))\n",
    "        val = np.add(vals[0],vals[1],vals[2])\n",
    "        toplot[name]['before'][point] = val.item()\n",
    "    toplot[name]['affine'] = {}\n",
    "    for point in range(1,5):\n",
    "        vals=(abs(np.subtract(alldata[name]['D'][point],alldata[name]['F'][point])))\n",
    "        val = np.add(vals[0],vals[1],vals[2])\n",
    "        toplot[name]['affine'][point] = val.item()\n",
    "    toplot[name]['a1b'] = {}\n",
    "    for point in range(1,5):\n",
    "        vals=(abs(np.subtract(alldata[name]['E'][point],alldata[name]['F'][point])))\n",
    "        val = np.add(vals[0],vals[1],vals[2])\n",
    "        toplot[name]['a1b'][point] = val.item()\n",
    "    toplot[name]['final320'] = {}\n",
    "    for point in range(1,5):\n",
    "        vals=(abs(np.subtract(alldata[name]['C'][point],alldata[name]['F'][point])))\n",
    "        val = np.add(vals[0],vals[1],vals[2])\n",
    "        toplot[name]['final320'][point] = val.item()\n",
    "    toplot[name]['final315'] = {}\n",
    "    for point in range(1,5):\n",
    "        vals=(abs(np.subtract(alldata[name]['A'][point],alldata[name]['F'][point])))\n",
    "        val = np.add(vals[0],vals[1],vals[2])\n",
    "        toplot[name]['final315'][point] = val.item()\n",
    "    toplot[name]['final315v320'] = {}\n",
    "    for point in range(1,5):\n",
    "        vals=(abs(np.subtract(alldata[name]['A'][point],alldata[name]['C'][point])))\n",
    "        val = np.add(vals[0],vals[1],vals[2])\n",
    "        toplot[name]['final315v320'][point] = val.item()        "
   ]
  },
  {
   "cell_type": "code",
   "execution_count": 7,
   "metadata": {},
   "outputs": [],
   "source": [
    "# calculate for each annotator, each point\n",
    "forplots = ['humanvar','before','affine','a1b','final320','final315','final315v320']\n",
    "anns = np.unique(fulldf_nocomp.annotator)\n",
    "points = [1,2,3,4]\n",
    "# want for each comparison, a value for each annotator and each point\n",
    "# columns = comparison, annotator, point\n",
    "# data = [{'comparison':'humanvar','annotator':'name','point':1,'value':}]\n"
   ]
  },
  {
   "cell_type": "code",
   "execution_count": 10,
   "metadata": {},
   "outputs": [],
   "source": [
    "collapsedpts=[]\n",
    "for comparison in forplots:\n",
    "    for name in anns:\n",
    "        collapsedpts.append([comparison,name,np.mean([*toplot[name][comparison].values()])])\n",
    "            \n",
    "pts=[]\n",
    "for comparison in forplots:\n",
    "    for name in anns:\n",
    "        for point in points:\n",
    "            pts.append([comparison,name,point,toplot[name][comparison][point]])"
   ]
  },
  {
   "cell_type": "code",
   "execution_count": 240,
   "metadata": {},
   "outputs": [],
   "source": [
    "pts_df = pd.DataFrame(collapsedpts,columns=['comparison','name','pts','value'])\n",
    "collapsed_pts_df = pd.DataFrame(pts,columns=['comparison','name','value'])"
   ]
  },
  {
   "cell_type": "code",
   "execution_count": null,
   "metadata": {},
   "outputs": [],
   "source": []
  },
  {
   "cell_type": "code",
   "execution_count": 232,
   "metadata": {},
   "outputs": [
    {
     "data": {
      "text/html": [
       "<div>\n",
       "<style scoped>\n",
       "    .dataframe tbody tr th:only-of-type {\n",
       "        vertical-align: middle;\n",
       "    }\n",
       "\n",
       "    .dataframe tbody tr th {\n",
       "        vertical-align: top;\n",
       "    }\n",
       "\n",
       "    .dataframe thead th {\n",
       "        text-align: right;\n",
       "    }\n",
       "</style>\n",
       "<table border=\"1\" class=\"dataframe\">\n",
       "  <thead>\n",
       "    <tr style=\"text-align: right;\">\n",
       "      <th></th>\n",
       "      <th>comparison</th>\n",
       "      <th>name</th>\n",
       "      <th>pts</th>\n",
       "      <th>value</th>\n",
       "    </tr>\n",
       "  </thead>\n",
       "  <tbody>\n",
       "    <tr>\n",
       "      <td>0</td>\n",
       "      <td>humanvar</td>\n",
       "      <td>Adrian</td>\n",
       "      <td>1</td>\n",
       "      <td>2.0</td>\n",
       "    </tr>\n",
       "    <tr>\n",
       "      <td>1</td>\n",
       "      <td>humanvar</td>\n",
       "      <td>Adrian</td>\n",
       "      <td>2</td>\n",
       "      <td>2.0</td>\n",
       "    </tr>\n",
       "    <tr>\n",
       "      <td>2</td>\n",
       "      <td>humanvar</td>\n",
       "      <td>Adrian</td>\n",
       "      <td>3</td>\n",
       "      <td>2.0</td>\n",
       "    </tr>\n",
       "    <tr>\n",
       "      <td>3</td>\n",
       "      <td>humanvar</td>\n",
       "      <td>Adrian</td>\n",
       "      <td>4</td>\n",
       "      <td>3.0</td>\n",
       "    </tr>\n",
       "    <tr>\n",
       "      <td>4</td>\n",
       "      <td>humanvar</td>\n",
       "      <td>Chuck</td>\n",
       "      <td>1</td>\n",
       "      <td>1.0</td>\n",
       "    </tr>\n",
       "    <tr>\n",
       "      <td>...</td>\n",
       "      <td>...</td>\n",
       "      <td>...</td>\n",
       "      <td>...</td>\n",
       "      <td>...</td>\n",
       "    </tr>\n",
       "    <tr>\n",
       "      <td>75</td>\n",
       "      <td>final320</td>\n",
       "      <td>Emily</td>\n",
       "      <td>4</td>\n",
       "      <td>5.0</td>\n",
       "    </tr>\n",
       "    <tr>\n",
       "      <td>76</td>\n",
       "      <td>final320</td>\n",
       "      <td>Peter</td>\n",
       "      <td>1</td>\n",
       "      <td>4.0</td>\n",
       "    </tr>\n",
       "    <tr>\n",
       "      <td>77</td>\n",
       "      <td>final320</td>\n",
       "      <td>Peter</td>\n",
       "      <td>2</td>\n",
       "      <td>13.0</td>\n",
       "    </tr>\n",
       "    <tr>\n",
       "      <td>78</td>\n",
       "      <td>final320</td>\n",
       "      <td>Peter</td>\n",
       "      <td>3</td>\n",
       "      <td>1.0</td>\n",
       "    </tr>\n",
       "    <tr>\n",
       "      <td>79</td>\n",
       "      <td>final320</td>\n",
       "      <td>Peter</td>\n",
       "      <td>4</td>\n",
       "      <td>4.0</td>\n",
       "    </tr>\n",
       "  </tbody>\n",
       "</table>\n",
       "<p>64 rows × 4 columns</p>\n",
       "</div>"
      ],
      "text/plain": [
       "   comparison    name  pts  value\n",
       "0    humanvar  Adrian    1    2.0\n",
       "1    humanvar  Adrian    2    2.0\n",
       "2    humanvar  Adrian    3    2.0\n",
       "3    humanvar  Adrian    4    3.0\n",
       "4    humanvar   Chuck    1    1.0\n",
       "..        ...     ...  ...    ...\n",
       "75   final320   Emily    4    5.0\n",
       "76   final320   Peter    1    4.0\n",
       "77   final320   Peter    2   13.0\n",
       "78   final320   Peter    3    1.0\n",
       "79   final320   Peter    4    4.0\n",
       "\n",
       "[64 rows x 4 columns]"
      ]
     },
     "execution_count": 232,
     "metadata": {},
     "output_type": "execute_result"
    }
   ],
   "source": [
    "pts_no_before = collapsed_pts_df[collapsed_pts_df.comparison!='before']\n",
    "pts_k320_one = pts_no_before[pts_no_before.comparison!='final315']\n",
    "pts_k320 = pts_k320_one[pts_k320_one.comparison!='final315v320']\n",
    "pts_k320"
   ]
  },
  {
   "cell_type": "code",
   "execution_count": 245,
   "metadata": {},
   "outputs": [
    {
     "data": {
      "image/png": "[encoded data removed]",
      "text/plain": [
       "<Figure size 432x288 with 1 Axes>"
      ]
     },
     "metadata": {
      "needs_background": "light"
     },
     "output_type": "display_data"
    }
   ],
   "source": [
    "ax=sns.set_palette(\"Paired\")\n",
    "ax= sns.swarmplot(x='comparison',y='value',data=pts_k320)"
   ]
  },
  {
   "cell_type": "code",
   "execution_count": 250,
   "metadata": {},
   "outputs": [
    {
     "data": {
      "image/png": "[encoded data removed]",
      "text/plain": [
       "<Figure size 432x288 with 1 Axes>"
      ]
     },
     "metadata": {
      "needs_background": "light"
     },
     "output_type": "display_data"
    }
   ],
   "source": [
    "ax=sns.set_palette(\"Paired\")\n",
    "ax= sns.swarmplot(x='comparison',y='value',data=collapsed_pts_df[collapsed_pts_df.comparison!='before'],hue='name')"
   ]
  },
  {
   "cell_type": "code",
   "execution_count": 169,
   "metadata": {},
   "outputs": [
    {
     "data": {
      "text/plain": [
       "[(0.396078431372549, 0.7294117647058823, 0.8549019607843137),\n",
       " (0.5294117647058824, 0.8156862745098039, 0.8862745098039215),\n",
       " (0.023529411764705882, 0.5568627450980392, 0.5490196078431373),\n",
       " (0.4588235294117647, 0.7019607843137254, 0.6549019607843137),\n",
       " (0.0, 0.6549019607843137, 0.3411764705882353),\n",
       " (0.5098039215686274, 0.7294117647058823, 0.30980392156862746),\n",
       " (0.8980392156862745, 0.7294117647058823, 0.3215686274509804),\n",
       " (0.9529411764705882, 0.9176470588235294, 0.12156862745098039),\n",
       " (0.8470588235294118, 0.43529411764705883, 0.15294117647058825),\n",
       " (0.9098039215686274, 0.6196078431372549, 0.13725490196078433),\n",
       " (0.7843137254901961, 0.1803921568627451, 0.4196078431372549),\n",
       " (0.8313725490196079, 0.4, 0.5607843137254902),\n",
       " (0.6, 0.10588235294117647, 0.21568627450980393),\n",
       " (0.7647058823529411, 0.0, 0.12941176470588237),\n",
       " (0.21176470588235294, 0.25882352941176473, 0.5215686274509804),\n",
       " (0.36470588235294116, 0.3215686274509804, 0.5882352941176471),\n",
       " (0.49019607843137253, 0.32941176470588235, 0.5843137254901961)]"
      ]
     },
     "execution_count": 169,
     "metadata": {},
     "output_type": "execute_result"
    }
   ],
   "source": []
  },
  {
   "cell_type": "code",
   "execution_count": 43,
   "metadata": {},
   "outputs": [],
   "source": [
    "numofanns = np.ones(np.size(np.unique(fulldf.annotator))-1)"
   ]
  },
  {
   "cell_type": "code",
   "execution_count": 50,
   "metadata": {},
   "outputs": [
    {
     "data": {
      "text/plain": [
       "['#65BADA', '#068E8C', '#00A757', '#E5BA52']"
      ]
     },
     "execution_count": 50,
     "metadata": {},
     "output_type": "execute_result"
    }
   ],
   "source": [
    "colorpalette = ['#65BADA','#87D0E2','#068E8C','#75B3A7','#00A757','#82BA4F','#E5BA52','#F3EA1F','#D86F27','#E89E23','#C82E6B','#D4668F','#991B37','#C30021','#364285','#5D5296','#7D5495']\n",
    "colorsforplot=[colorpalette[0],colorpalette[2],colorpalette[4],colorpalette[6]]\n"
   ]
  },
  {
   "cell_type": "code",
   "execution_count": 51,
   "metadata": {},
   "outputs": [
    {
     "data": {
      "image/png": "[encoded data removed]",
      "text/plain": [
       "<Figure size 432x288 with 1 Axes>"
      ]
     },
     "metadata": {
      "needs_background": "light"
     },
     "output_type": "display_data"
    }
   ],
   "source": [
    "plt.scatter([numofanns],toplot['humanvar'][1],c=colorsforplot,alpha=0.3)\n",
    "plt.scatter([numofanns],toplot['humanvar'][2],c=colorsforplot,alpha=0.3)\n",
    "plt.scatter([numofanns],toplot['humanvar'][3],c=colorsforplot,alpha=0.3)\n",
    "plt.scatter([numofanns],toplot['humanvar'][4],c=colorsforplot,alpha=0.3)\n",
    "\n",
    "\n",
    "plt.scatter([numofanns*2],toplot['before'][1],c=colorsforplot,alpha=0.3)\n",
    "plt.scatter([numofanns*2],toplot['before'][2],c=colorsforplot,alpha=0.3)\n",
    "plt.scatter([numofanns*2],toplot['before'][3],c=colorsforplot,alpha=0.3)\n",
    "plt.scatter([numofanns*2],toplot['before'][4],c=colorsforplot,alpha=0.3)\n",
    "\n",
    "plt.scatter([numofanns*3],toplot['affine'][1],c=colorsforplot,alpha=0.3)\n",
    "plt.scatter([numofanns*3],toplot['affine'][2],c=colorsforplot,alpha=0.3)\n",
    "plt.scatter([numofanns*3],toplot['affine'][3],c=colorsforplot,alpha=0.3)\n",
    "plt.scatter([numofanns*3],toplot['affine'][4],c=colorsforplot,alpha=0.3)\n",
    "\n",
    "plt.scatter([numofanns*4],toplot['a1b'][1],c=colorsforplot,alpha=0.3)\n",
    "plt.scatter([numofanns*4],toplot['a1b'][2],c=colorsforplot,alpha=0.3)\n",
    "plt.scatter([numofanns*4],toplot['a1b'][3],c=colorsforplot,alpha=0.3)\n",
    "plt.scatter([numofanns*4],toplot['a1b'][4],c=colorsforplot,alpha=0.3)\n",
    "\n",
    "plt.scatter([numofanns*5],toplot['final320g'][1],c=colorsforplot,alpha=0.3)\n",
    "plt.scatter([numofanns*5],toplot['final320g'][2],c=colorsforplot,alpha=0.3)\n",
    "plt.scatter([numofanns*5],toplot['final320g'][3],c=colorsforplot,alpha=0.3)\n",
    "plt.scatter([numofanns*5],toplot['final320g'][4],c=colorsforplot,alpha=0.3)\n",
    "\n",
    "plt.scatter([numofanns*6],toplot['final315'][1],c=colorsforplot,alpha=0.3)\n",
    "plt.scatter([numofanns*6],toplot['final315'][2],c=colorsforplot,alpha=0.3)\n",
    "plt.scatter([numofanns*6],toplot['final315'][3],c=colorsforplot,alpha=0.3)\n",
    "plt.scatter([numofanns*6],toplot['final315'][4],c=colorsforplot,alpha=0.3)\n",
    "\n",
    "plt.scatter([numofanns*7],toplot['k315k320'][1],c=colorsforplot,alpha=0.3)\n",
    "plt.scatter([numofanns*7],toplot['k315k320'][2],c=colorsforplot,alpha=0.3)\n",
    "plt.scatter([numofanns*7],toplot['k315k320'][3],c=colorsforplot,alpha=0.3)\n",
    "plt.scatter([numofanns*7],toplot['k315k320'][4],c=colorsforplot,alpha=0.3)\n",
    "plt.ylabel('voxels')\n",
    "plt.show()\n"
   ]
  },
  {
   "cell_type": "code",
   "execution_count": 54,
   "metadata": {},
   "outputs": [
    {
     "data": {
      "text/html": [
       "<div>\n",
       "<style scoped>\n",
       "    .dataframe tbody tr th:only-of-type {\n",
       "        vertical-align: middle;\n",
       "    }\n",
       "\n",
       "    .dataframe tbody tr th {\n",
       "        vertical-align: top;\n",
       "    }\n",
       "\n",
       "    .dataframe thead th {\n",
       "        text-align: right;\n",
       "    }\n",
       "</style>\n",
       "<table border=\"1\" class=\"dataframe\">\n",
       "  <thead>\n",
       "    <tr style=\"text-align: right;\">\n",
       "      <th></th>\n",
       "      <th>humanvar</th>\n",
       "      <th>before</th>\n",
       "      <th>affine</th>\n",
       "      <th>a1b</th>\n",
       "      <th>final320</th>\n",
       "      <th>final320g</th>\n",
       "      <th>final315</th>\n",
       "      <th>k315k320</th>\n",
       "    </tr>\n",
       "  </thead>\n",
       "  <tbody>\n",
       "    <tr>\n",
       "      <td>1</td>\n",
       "      <td>[2.0, 1.0, 0.0, 1.0]</td>\n",
       "      <td>[151.0, 89.0, 92.0, 93.0]</td>\n",
       "      <td>[46.0, 17.0, 19.0, 18.0]</td>\n",
       "      <td>[52.0, 10.0, 8.0, 11.0]</td>\n",
       "      <td>[56.0, 4.0, 0.0, 4.0]</td>\n",
       "      <td>[56.0, 5.0, 0.0, 5.0]</td>\n",
       "      <td>[51.0, 11.0, 10.0, 9.0]</td>\n",
       "      <td>[5.0, 8.0, 10.0, 4.0]</td>\n",
       "    </tr>\n",
       "    <tr>\n",
       "      <td>2</td>\n",
       "      <td>[2.0, 2.0, 7.0, 3.0]</td>\n",
       "      <td>[98.0, 101.0, 109.0, 102.0]</td>\n",
       "      <td>[6.0, 1.0, 15.0, 16.0]</td>\n",
       "      <td>[6.0, 5.0, 13.0, 16.0]</td>\n",
       "      <td>[4.0, 9.0, 16.0, 13.0]</td>\n",
       "      <td>[2.0, 9.0, 9.0, 14.0]</td>\n",
       "      <td>[19.0, 5.0, 8.0, 56.0]</td>\n",
       "      <td>[17.0, 4.0, 3.0, 44.0]</td>\n",
       "    </tr>\n",
       "    <tr>\n",
       "      <td>3</td>\n",
       "      <td>[2.0, 1.0, 1.0, 4.0]</td>\n",
       "      <td>[97.0, 100.0, 110.0, 100.0]</td>\n",
       "      <td>[6.0, 1.0, 10.0, 8.0]</td>\n",
       "      <td>[6.0, 5.0, 3.0, 2.0]</td>\n",
       "      <td>[4.0, 9.0, 3.0, 1.0]</td>\n",
       "      <td>[2.0, 8.0, 2.0, 3.0]</td>\n",
       "      <td>[19.0, 5.0, 4.0, 8.0]</td>\n",
       "      <td>[17.0, 3.0, 4.0, 11.0]</td>\n",
       "    </tr>\n",
       "    <tr>\n",
       "      <td>4</td>\n",
       "      <td>[3.0, 1.0, 7.0, 2.0]</td>\n",
       "      <td>[112.0, 132.0, 110.0, 112.0]</td>\n",
       "      <td>[3.0, 73.0, 13.0, 15.0]</td>\n",
       "      <td>[8.0, 69.0, 1.0, 4.0]</td>\n",
       "      <td>[7.0, 67.0, 5.0, 4.0]</td>\n",
       "      <td>[4.0, 68.0, 2.0, 4.0]</td>\n",
       "      <td>[25.0, 66.0, 1.0, 5.0]</td>\n",
       "      <td>[21.0, 2.0, 3.0, 3.0]</td>\n",
       "    </tr>\n",
       "  </tbody>\n",
       "</table>\n",
       "</div>"
      ],
      "text/plain": [
       "               humanvar                        before  \\\n",
       "1  [2.0, 1.0, 0.0, 1.0]     [151.0, 89.0, 92.0, 93.0]   \n",
       "2  [2.0, 2.0, 7.0, 3.0]   [98.0, 101.0, 109.0, 102.0]   \n",
       "3  [2.0, 1.0, 1.0, 4.0]   [97.0, 100.0, 110.0, 100.0]   \n",
       "4  [3.0, 1.0, 7.0, 2.0]  [112.0, 132.0, 110.0, 112.0]   \n",
       "\n",
       "                     affine                      a1b                final320  \\\n",
       "1  [46.0, 17.0, 19.0, 18.0]  [52.0, 10.0, 8.0, 11.0]   [56.0, 4.0, 0.0, 4.0]   \n",
       "2    [6.0, 1.0, 15.0, 16.0]   [6.0, 5.0, 13.0, 16.0]  [4.0, 9.0, 16.0, 13.0]   \n",
       "3     [6.0, 1.0, 10.0, 8.0]     [6.0, 5.0, 3.0, 2.0]    [4.0, 9.0, 3.0, 1.0]   \n",
       "4   [3.0, 73.0, 13.0, 15.0]    [8.0, 69.0, 1.0, 4.0]   [7.0, 67.0, 5.0, 4.0]   \n",
       "\n",
       "               final320g                 final315                k315k320  \n",
       "1  [56.0, 5.0, 0.0, 5.0]  [51.0, 11.0, 10.0, 9.0]   [5.0, 8.0, 10.0, 4.0]  \n",
       "2  [2.0, 9.0, 9.0, 14.0]   [19.0, 5.0, 8.0, 56.0]  [17.0, 4.0, 3.0, 44.0]  \n",
       "3   [2.0, 8.0, 2.0, 3.0]    [19.0, 5.0, 4.0, 8.0]  [17.0, 3.0, 4.0, 11.0]  \n",
       "4  [4.0, 68.0, 2.0, 4.0]   [25.0, 66.0, 1.0, 5.0]   [21.0, 2.0, 3.0, 3.0]  "
      ]
     },
     "execution_count": 54,
     "metadata": {},
     "output_type": "execute_result"
    }
   ],
   "source": [
    "pd.DataFrame(toplot)"
   ]
  },
  {
   "cell_type": "code",
   "execution_count": 8,
   "metadata": {},
   "outputs": [
    {
     "data": {
      "text/plain": [
       "<matplotlib.colorbar.Colorbar at 0x7fc433f6c4d0>"
      ]
     },
     "execution_count": 8,
     "metadata": {},
     "output_type": "execute_result"
    },
    {
     "data": {
      "image/png": "[encoded data removed]",
      "text/plain": [
       "<Figure size 432x288 with 2 Axes>"
      ]
     },
     "metadata": {
      "needs_background": "light"
     },
     "output_type": "display_data"
    }
   ],
   "source": [
    "plt.imshow(pt4mat)\n",
    "plt.colorbar()"
   ]
  },
  {
   "cell_type": "code",
   "execution_count": 50,
   "metadata": {},
   "outputs": [
    {
     "data": {
      "text/plain": [
       "<matplotlib.colorbar.Colorbar at 0x7feea5dfe7d0>"
      ]
     },
     "execution_count": 50,
     "metadata": {},
     "output_type": "execute_result"
    },
    {
     "data": {
      "image/png": "[encoded data removed]",
      "text/plain": [
       "<Figure size 432x288 with 2 Axes>"
      ]
     },
     "metadata": {
      "needs_background": "light"
     },
     "output_type": "display_data"
    }
   ],
   "source": [
    "plt.imshow(pt3mat)\n",
    "plt.colorbar()"
   ]
  },
  {
   "cell_type": "code",
   "execution_count": 51,
   "metadata": {},
   "outputs": [
    {
     "data": {
      "text/plain": [
       "<matplotlib.colorbar.Colorbar at 0x7feea5ff6b10>"
      ]
     },
     "execution_count": 51,
     "metadata": {},
     "output_type": "execute_result"
    },
    {
     "data": {
      "image/png": "[encoded data removed]",
      "text/plain": [
       "<Figure size 432x288 with 2 Axes>"
      ]
     },
     "metadata": {
      "needs_background": "light"
     },
     "output_type": "display_data"
    }
   ],
   "source": [
    "plt.imshow(pt2mat)\n",
    "plt.colorbar()"
   ]
  },
  {
   "cell_type": "code",
   "execution_count": 52,
   "metadata": {},
   "outputs": [
    {
     "data": {
      "text/plain": [
       "<matplotlib.colorbar.Colorbar at 0x7feea61f7d90>"
      ]
     },
     "execution_count": 52,
     "metadata": {},
     "output_type": "execute_result"
    },
    {
     "data": {
      "image/png": "[encoded data removed]",
      "text/plain": [
       "<Figure size 432x288 with 2 Axes>"
      ]
     },
     "metadata": {
      "needs_background": "light"
     },
     "output_type": "display_data"
    }
   ],
   "source": [
    "plt.imshow(pt1mat)\n",
    "plt.colorbar()"
   ]
  },
  {
   "cell_type": "code",
   "execution_count": 57,
   "metadata": {},
   "outputs": [
    {
     "data": {
      "text/plain": [
       "<matplotlib.colorbar.Colorbar at 0x7feea6590e10>"
      ]
     },
     "execution_count": 57,
     "metadata": {},
     "output_type": "execute_result"
    },
    {
     "data": {
      "image/png": "[encoded data removed]",
      "text/plain": [
       "<Figure size 432x288 with 2 Axes>"
      ]
     },
     "metadata": {
      "needs_background": "light"
     },
     "output_type": "display_data"
    }
   ],
   "source": [
    "plt.imshow(pt4mat)\n",
    "plt.colorbar()"
   ]
  },
  {
   "cell_type": "code",
   "execution_count": 58,
   "metadata": {},
   "outputs": [
    {
     "data": {
      "text/plain": [
       "<matplotlib.colorbar.Colorbar at 0x7feea59fe990>"
      ]
     },
     "execution_count": 58,
     "metadata": {},
     "output_type": "execute_result"
    },
    {
     "data": {
      "image/png": "[encoded data removed]",
      "text/plain": [
       "<Figure size 432x288 with 2 Axes>"
      ]
     },
     "metadata": {
      "needs_background": "light"
     },
     "output_type": "display_data"
    }
   ],
   "source": [
    "plt.imshow(pt3mat)\n",
    "plt.colorbar()"
   ]
  },
  {
   "cell_type": "code",
   "execution_count": 59,
   "metadata": {},
   "outputs": [
    {
     "data": {
      "text/plain": [
       "<matplotlib.colorbar.Colorbar at 0x7feea6035c90>"
      ]
     },
     "execution_count": 59,
     "metadata": {},
     "output_type": "execute_result"
    },
    {
     "data": {
      "image/png": "[encoded data removed]",
      "text/plain": [
       "<Figure size 432x288 with 2 Axes>"
      ]
     },
     "metadata": {
      "needs_background": "light"
     },
     "output_type": "display_data"
    }
   ],
   "source": [
    "plt.imshow(pt2mat)\n",
    "plt.colorbar()"
   ]
  },
  {
   "cell_type": "code",
   "execution_count": 60,
   "metadata": {},
   "outputs": [
    {
     "data": {
      "text/plain": [
       "<matplotlib.colorbar.Colorbar at 0x7feea645e8d0>"
      ]
     },
     "execution_count": 60,
     "metadata": {},
     "output_type": "execute_result"
    },
    {
     "data": {
      "image/png": "[encoded data removed]",
      "text/plain": [
       "<Figure size 432x288 with 2 Axes>"
      ]
     },
     "metadata": {
      "needs_background": "light"
     },
     "output_type": "display_data"
    }
   ],
   "source": [
    "plt.imshow(pt1mat)\n",
    "plt.colorbar()\n"
   ]
  },
  {
   "cell_type": "code",
   "execution_count": 63,
   "metadata": {},
   "outputs": [
    {
     "data": {
      "text/plain": [
       "array([[  0., 143.,  10.,  16.,   6.,  10.,  10.],\n",
       "       [143.,   0., 133., 141., 137., 133., 133.],\n",
       "       [ 10., 133.,   0.,  20.,   8.,   0.,   0.],\n",
       "       [ 16., 141.,  20.,   0.,  12.,  20.,  20.],\n",
       "       [  6., 137.,   8.,  12.,   0.,   8.,   8.],\n",
       "       [ 10., 133.,   0.,  20.,   8.,   0.,   0.],\n",
       "       [ 10., 133.,   0.,  20.,   8.,   0.,   0.]])"
      ]
     },
     "execution_count": 63,
     "metadata": {},
     "output_type": "execute_result"
    }
   ],
   "source": [
    "pt1mat\n"
   ]
  },
  {
   "cell_type": "markdown",
   "metadata": {},
   "source": [
    "the plots I want will have\n",
    "\n",
    "x: human variability within brains:\n",
    "for each of the 4 points for each person, k320_5 vs k320_52\n",
    "plot each person's points in a color\n",
    "\n",
    "x: before reigstration\n",
    "for each of the 4 points for each person, k320_1 vs whs\n",
    "plot each person's points in a color\n",
    "ADD for the inverse registration, dist predicted by warping from whs to k320_1\n",
    "\n",
    "x: affine only\n",
    "for each of the 4 points for each person, k320_2 vs whs\n",
    "plot each person's points in a color\n",
    "ADD for the inverse registration, dist predicted by warping from whs to k320_2\n",
    "\n",
    "x: affine+1 bspline\n",
    "for each of the 4 points for each person, k320_3 vs whs\n",
    "plot each person's points in a color\n",
    "ADD for the inverse registration, dist predicted by warping from whs to k320_3\n",
    "\n",
    "x: affine+2 bspline\n",
    "for each of the 4 points for each person, k320_4 vs whs\n",
    "plot each person's points in a color\n",
    "ADD for the inverse registration, dist predicted by warping from whs to k320_4\n",
    "\n",
    "x: fully registered\n",
    "for each of the 4 points for each person, k320_5 vs whs\n",
    "plot each person's points in a color\n",
    "ADD for the inverse registration, dist predicted by warping from whs to k320_5 (this should be zero)\n",
    "\n",
    "x: human variability across brains:\n",
    "for each of the 4 points for each person, k315_5 vs whs\n",
    "\n",
    "so I want a data structure where I have a dict with indices of ['humanvar','beforereg','affine','affine1b','affine2b','affine3b','full','k315]\n",
    "\n",
    "nested dicts\n",
    "mydata = {1: {'name': 'Adrian', 'pt1':[],'pt2':[],'pt3':[],'pt4':[]},\n",
    "          2: {'name': 'Emily', 'pt1':[],'pt2':[],'pt3':[],'pt4':[]}}\n",
    "\n",
    "humanvar = C vs G   (2,6)\n",
    "before = B vs F     (1,5)\n",
    "affine = D vs F     (3,5)\n",
    "affine1b = E vs F   (4,5)\n",
    "final320 = C vs F   (2,5)\n",
    "final315 = A vs F   (0,5)\n",
    "\n",
    "0 1 2 3 4 5 6 7\n",
    "a b c d e f g h\n",
    "\n",
    "def findvalue(index):\n",
    "\n",
    "nested dicts {1: {'xlab': 'humanvar', 'A':[Apt1[2,6],Apt2[2,6],Apt3[2,6],Apt4[2,6],'E':[Ept1[2,6],Ept2[2,6],Ept3[2,6],Ept4[2,6]},\n",
    "          2: {'xlab': 'beforereg', 'A':[],'E':[]}}"
   ]
  }
 ],
 "metadata": {
  "kernelspec": {
   "display_name": "Python 3",
   "language": "python",
   "name": "python3"
  },
  "language_info": {
   "codemirror_mode": {
    "name": "ipython",
    "version": 3
   },
   "file_extension": ".py",
   "mimetype": "text/x-python",
   "name": "python",
   "nbconvert_exporter": "python",
   "pygments_lexer": "ipython3",
   "version": "3.7.4"
  }
 },
 "nbformat": 4,
 "nbformat_minor": 2
}

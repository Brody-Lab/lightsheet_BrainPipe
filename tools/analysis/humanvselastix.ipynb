{
 "cells": [
  {
   "cell_type": "code",
   "execution_count": 127,
   "metadata": {},
   "outputs": [],
   "source": [
    "import os,csv,json\n",
    "import numpy as np\n",
    "import matplotlib.pyplot as plt\n",
    "import pandas as pd\n",
    "import sys\n",
    "import seaborn as sns\n",
    "colorpalette = ['#65BADA','#87D0E2','#068E8C','#75B3A7','#00A757','#82BA4F','#E5BA52','#F3EA1F','#D86F27','#E89E23','#C82E6B','#D4668F','#991B37','#C30021','#364285','#5D5296','#7D5495']"
   ]
  },
  {
   "cell_type": "code",
   "execution_count": 128,
   "metadata": {},
   "outputs": [],
   "source": [
    "# import csv\n",
    "csv_file_name = \"/Users/emilydennis/Desktop/lightsheet/humanvselastix.csv\""
   ]
  },
  {
   "cell_type": "code",
   "execution_count": 129,
   "metadata": {},
   "outputs": [
    {
     "data": {
      "text/plain": [
       "Index(['volume', 'point', 'annotator', 'z', 'x', 'y', 'brainid'], dtype='object')"
      ]
     },
     "execution_count": 129,
     "metadata": {},
     "output_type": "execute_result"
    }
   ],
   "source": [
    "fulldf = pd.read_csv(csv_file_name)\n",
    "fulldf.keys()"
   ]
  },
  {
   "cell_type": "code",
   "execution_count": 130,
   "metadata": {},
   "outputs": [],
   "source": [
    "fulldf_nocomp = fulldf[fulldf.annotator != 'computer']\n",
    "fulldf_comp = fulldf[fulldf.annotator == 'computer']"
   ]
  },
  {
   "cell_type": "code",
   "execution_count": 131,
   "metadata": {},
   "outputs": [],
   "source": [
    "alldata = { } \n",
    "\n",
    "for name in np.unique(fulldf_nocomp.annotator):\n",
    "    alldata[name] = {}\n",
    "    annotator = fulldf[fulldf.annotator==name]\n",
    "    for volume in [\"A\",\"B\",\"C\",\"D\",\"E\",\"F\",\"G\",\"H\"]:\n",
    "        annotatorvol = annotator[annotator.volume==volume]\n",
    "        alldata[name][volume]= {}\n",
    "        for point in range(1,5):\n",
    "            annotatorpt = annotatorvol[annotatorvol.point==point]\n",
    "            alldata[name][volume][point] = [annotatorpt.x.tolist(),annotatorpt.y.tolist(),annotatorpt.z.tolist()]\n",
    "\n"
   ]
  },
  {
   "cell_type": "code",
   "execution_count": 132,
   "metadata": {},
   "outputs": [],
   "source": [
    "# now that our data is easier to index, want to make different values for plotting\n",
    "toplot = { } \n",
    "\n",
    "for name in np.unique(fulldf_nocomp.annotator):\n",
    "    toplot[name] = {}\n",
    "    #want C vs G\n",
    "    toplot[name]['humanvar'] = {}\n",
    "    for point in range(1,5):\n",
    "        vals=(abs(np.subtract(alldata[name]['C'][point],alldata[name]['G'][point])))\n",
    "        val = np.add(vals[0],vals[1],vals[2])\n",
    "        toplot[name]['humanvar'][point] = val.item()\n",
    "    toplot[name]['before'] = {}\n",
    "    for point in range(1,5):\n",
    "        vals=(abs(np.subtract(alldata[name]['B'][point],alldata[name]['F'][point])))\n",
    "        val = np.add(vals[0],vals[1],vals[2])\n",
    "        toplot[name]['before'][point] = val.item()\n",
    "    toplot[name]['affine'] = {}\n",
    "    for point in range(1,5):\n",
    "        vals=(abs(np.subtract(alldata[name]['D'][point],alldata[name]['F'][point])))\n",
    "        val = np.add(vals[0],vals[1],vals[2])\n",
    "        toplot[name]['affine'][point] = val.item()\n",
    "    toplot[name]['a1b'] = {}\n",
    "    for point in range(1,5):\n",
    "        vals=(abs(np.subtract(alldata[name]['E'][point],alldata[name]['F'][point])))\n",
    "        val = np.add(vals[0],vals[1],vals[2])\n",
    "        toplot[name]['a1b'][point] = val.item()\n",
    "    toplot[name]['final320'] = {}\n",
    "    for point in range(1,5):\n",
    "        vals=(abs(np.subtract(alldata[name]['C'][point],alldata[name]['F'][point])))\n",
    "        val = np.add(vals[0],vals[1],vals[2])\n",
    "        toplot[name]['final320'][point] = val.item()\n",
    "    toplot[name]['final315'] = {}\n",
    "    for point in range(1,5):\n",
    "        vals=(abs(np.subtract(alldata[name]['A'][point],alldata[name]['F'][point])))\n",
    "        val = np.add(vals[0],vals[1],vals[2])\n",
    "        toplot[name]['final315'][point] = val.item()\n",
    "    toplot[name]['final315v320'] = {}\n",
    "    for point in range(1,5):\n",
    "        vals=(abs(np.subtract(alldata[name]['A'][point],alldata[name]['C'][point])))\n",
    "        val = np.add(vals[0],vals[1],vals[2])\n",
    "        toplot[name]['final315v320'][point] = val.item()        "
   ]
  },
  {
   "cell_type": "code",
   "execution_count": 133,
   "metadata": {},
   "outputs": [],
   "source": [
    "# calculate for each annotator, each point\n",
    "forplots = ['humanvar','before','affine','a1b','final320','final315','final315v320']\n",
    "anns = np.unique(fulldf_nocomp.annotator)\n",
    "points = [1,2,3,4]\n",
    "# want for each comparison, a value for each annotator and each point\n",
    "# columns = comparison, annotator, point\n",
    "# data = [{'comparison':'humanvar','annotator':'name','point':1,'value':}]\n"
   ]
  },
  {
   "cell_type": "code",
   "execution_count": 134,
   "metadata": {},
   "outputs": [],
   "source": [
    "collapsedpts=[]\n",
    "for comparison in forplots:\n",
    "    for name in anns:\n",
    "        collapsedpts.append([comparison,name,np.mean([*toplot[name][comparison].values()])])\n",
    "            \n",
    "pts=[]\n",
    "for comparison in forplots:\n",
    "    for name in anns:\n",
    "        for point in points:\n",
    "            pts.append([comparison,name,point,toplot[name][comparison][point]])"
   ]
  },
  {
   "cell_type": "code",
   "execution_count": 135,
   "metadata": {},
   "outputs": [],
   "source": [
    "pts_df = pd.DataFrame(pts,columns=['comparison','name','pts','value'])\n",
    "collapsed_pts_df = pd.DataFrame(collapsedpts,columns=['comparison','name','value'])"
   ]
  },
  {
   "cell_type": "code",
   "execution_count": 136,
   "metadata": {},
   "outputs": [
    {
     "data": {
      "text/html": [
       "<div>\n",
       "<style scoped>\n",
       "    .dataframe tbody tr th:only-of-type {\n",
       "        vertical-align: middle;\n",
       "    }\n",
       "\n",
       "    .dataframe tbody tr th {\n",
       "        vertical-align: top;\n",
       "    }\n",
       "\n",
       "    .dataframe thead th {\n",
       "        text-align: right;\n",
       "    }\n",
       "</style>\n",
       "<table border=\"1\" class=\"dataframe\">\n",
       "  <thead>\n",
       "    <tr style=\"text-align: right;\">\n",
       "      <th></th>\n",
       "      <th>comparison</th>\n",
       "      <th>name</th>\n",
       "      <th>value</th>\n",
       "    </tr>\n",
       "  </thead>\n",
       "  <tbody>\n",
       "    <tr>\n",
       "      <td>0</td>\n",
       "      <td>humanvar</td>\n",
       "      <td>Adrian</td>\n",
       "      <td>2.25</td>\n",
       "    </tr>\n",
       "    <tr>\n",
       "      <td>1</td>\n",
       "      <td>humanvar</td>\n",
       "      <td>Chuck</td>\n",
       "      <td>1.25</td>\n",
       "    </tr>\n",
       "    <tr>\n",
       "      <td>2</td>\n",
       "      <td>humanvar</td>\n",
       "      <td>Emily</td>\n",
       "      <td>3.75</td>\n",
       "    </tr>\n",
       "    <tr>\n",
       "      <td>3</td>\n",
       "      <td>humanvar</td>\n",
       "      <td>Jess</td>\n",
       "      <td>27.50</td>\n",
       "    </tr>\n",
       "    <tr>\n",
       "      <td>4</td>\n",
       "      <td>humanvar</td>\n",
       "      <td>Marino</td>\n",
       "      <td>3.25</td>\n",
       "    </tr>\n",
       "    <tr>\n",
       "      <td>5</td>\n",
       "      <td>humanvar</td>\n",
       "      <td>Peter</td>\n",
       "      <td>2.50</td>\n",
       "    </tr>\n",
       "    <tr>\n",
       "      <td>6</td>\n",
       "      <td>humanvar</td>\n",
       "      <td>Thomas</td>\n",
       "      <td>11.50</td>\n",
       "    </tr>\n",
       "    <tr>\n",
       "      <td>14</td>\n",
       "      <td>affine</td>\n",
       "      <td>Adrian</td>\n",
       "      <td>15.25</td>\n",
       "    </tr>\n",
       "    <tr>\n",
       "      <td>15</td>\n",
       "      <td>affine</td>\n",
       "      <td>Chuck</td>\n",
       "      <td>23.00</td>\n",
       "    </tr>\n",
       "    <tr>\n",
       "      <td>16</td>\n",
       "      <td>affine</td>\n",
       "      <td>Emily</td>\n",
       "      <td>14.25</td>\n",
       "    </tr>\n",
       "    <tr>\n",
       "      <td>17</td>\n",
       "      <td>affine</td>\n",
       "      <td>Jess</td>\n",
       "      <td>12.50</td>\n",
       "    </tr>\n",
       "    <tr>\n",
       "      <td>18</td>\n",
       "      <td>affine</td>\n",
       "      <td>Marino</td>\n",
       "      <td>12.25</td>\n",
       "    </tr>\n",
       "    <tr>\n",
       "      <td>19</td>\n",
       "      <td>affine</td>\n",
       "      <td>Peter</td>\n",
       "      <td>14.25</td>\n",
       "    </tr>\n",
       "    <tr>\n",
       "      <td>20</td>\n",
       "      <td>affine</td>\n",
       "      <td>Thomas</td>\n",
       "      <td>8.25</td>\n",
       "    </tr>\n",
       "    <tr>\n",
       "      <td>21</td>\n",
       "      <td>a1b</td>\n",
       "      <td>Adrian</td>\n",
       "      <td>18.00</td>\n",
       "    </tr>\n",
       "    <tr>\n",
       "      <td>22</td>\n",
       "      <td>a1b</td>\n",
       "      <td>Chuck</td>\n",
       "      <td>22.25</td>\n",
       "    </tr>\n",
       "    <tr>\n",
       "      <td>23</td>\n",
       "      <td>a1b</td>\n",
       "      <td>Emily</td>\n",
       "      <td>6.25</td>\n",
       "    </tr>\n",
       "    <tr>\n",
       "      <td>24</td>\n",
       "      <td>a1b</td>\n",
       "      <td>Jess</td>\n",
       "      <td>7.00</td>\n",
       "    </tr>\n",
       "    <tr>\n",
       "      <td>25</td>\n",
       "      <td>a1b</td>\n",
       "      <td>Marino</td>\n",
       "      <td>7.50</td>\n",
       "    </tr>\n",
       "    <tr>\n",
       "      <td>26</td>\n",
       "      <td>a1b</td>\n",
       "      <td>Peter</td>\n",
       "      <td>8.25</td>\n",
       "    </tr>\n",
       "    <tr>\n",
       "      <td>27</td>\n",
       "      <td>a1b</td>\n",
       "      <td>Thomas</td>\n",
       "      <td>8.00</td>\n",
       "    </tr>\n",
       "    <tr>\n",
       "      <td>28</td>\n",
       "      <td>final320</td>\n",
       "      <td>Adrian</td>\n",
       "      <td>17.75</td>\n",
       "    </tr>\n",
       "    <tr>\n",
       "      <td>29</td>\n",
       "      <td>final320</td>\n",
       "      <td>Chuck</td>\n",
       "      <td>22.25</td>\n",
       "    </tr>\n",
       "    <tr>\n",
       "      <td>30</td>\n",
       "      <td>final320</td>\n",
       "      <td>Emily</td>\n",
       "      <td>6.00</td>\n",
       "    </tr>\n",
       "    <tr>\n",
       "      <td>31</td>\n",
       "      <td>final320</td>\n",
       "      <td>Jess</td>\n",
       "      <td>29.75</td>\n",
       "    </tr>\n",
       "    <tr>\n",
       "      <td>32</td>\n",
       "      <td>final320</td>\n",
       "      <td>Marino</td>\n",
       "      <td>6.50</td>\n",
       "    </tr>\n",
       "    <tr>\n",
       "      <td>33</td>\n",
       "      <td>final320</td>\n",
       "      <td>Peter</td>\n",
       "      <td>5.50</td>\n",
       "    </tr>\n",
       "    <tr>\n",
       "      <td>34</td>\n",
       "      <td>final320</td>\n",
       "      <td>Thomas</td>\n",
       "      <td>11.25</td>\n",
       "    </tr>\n",
       "  </tbody>\n",
       "</table>\n",
       "</div>"
      ],
      "text/plain": [
       "   comparison    name  value\n",
       "0    humanvar  Adrian   2.25\n",
       "1    humanvar   Chuck   1.25\n",
       "2    humanvar   Emily   3.75\n",
       "3    humanvar    Jess  27.50\n",
       "4    humanvar  Marino   3.25\n",
       "5    humanvar   Peter   2.50\n",
       "6    humanvar  Thomas  11.50\n",
       "14     affine  Adrian  15.25\n",
       "15     affine   Chuck  23.00\n",
       "16     affine   Emily  14.25\n",
       "17     affine    Jess  12.50\n",
       "18     affine  Marino  12.25\n",
       "19     affine   Peter  14.25\n",
       "20     affine  Thomas   8.25\n",
       "21        a1b  Adrian  18.00\n",
       "22        a1b   Chuck  22.25\n",
       "23        a1b   Emily   6.25\n",
       "24        a1b    Jess   7.00\n",
       "25        a1b  Marino   7.50\n",
       "26        a1b   Peter   8.25\n",
       "27        a1b  Thomas   8.00\n",
       "28   final320  Adrian  17.75\n",
       "29   final320   Chuck  22.25\n",
       "30   final320   Emily   6.00\n",
       "31   final320    Jess  29.75\n",
       "32   final320  Marino   6.50\n",
       "33   final320   Peter   5.50\n",
       "34   final320  Thomas  11.25"
      ]
     },
     "execution_count": 136,
     "metadata": {},
     "output_type": "execute_result"
    }
   ],
   "source": [
    "pts_no_before = collapsed_pts_df[collapsed_pts_df.comparison!='before']\n",
    "pts_k320_one = pts_no_before[pts_no_before.comparison!='final315']\n",
    "pts_k320 = pts_k320_one[pts_k320_one.comparison!='final315v320']\n",
    "pts_k320"
   ]
  },
  {
   "cell_type": "code",
   "execution_count": 137,
   "metadata": {},
   "outputs": [
    {
     "data": {
      "image/png": "[encoded data removed]",
      "text/plain": [
       "<Figure size 432x288 with 1 Axes>"
      ]
     },
     "metadata": {},
     "output_type": "display_data"
    }
   ],
   "source": [
    "pts_df_sub = pts_df[pts_df.comparison!='final315']\n",
    "pts_df_sub = pts_df_sub[pts_df_sub.comparison!='final315v320']\n",
    "\n",
    "ax = sns.set_style('whitegrid')\n",
    "ax=sns.set_palette(\"Paired\")\n",
    "ax= sns.swarmplot(x='comparison',y='value',data=pts_df_sub)\n"
   ]
  },
  {
   "cell_type": "code",
   "execution_count": 138,
   "metadata": {},
   "outputs": [
    {
     "data": {
      "image/png": "[encoded data removed]",
      "text/plain": [
       "<Figure size 432x288 with 1 Axes>"
      ]
     },
     "metadata": {},
     "output_type": "display_data"
    }
   ],
   "source": [
    "ax=sns.set_palette(\"Paired\")\n",
    "ax = sns.set_style('whitegrid')\n",
    "ax= sns.swarmplot(x='comparison',y='value',data=collapsed_pts_df[collapsed_pts_df.comparison!='before'],hue='name')"
   ]
  },
  {
   "cell_type": "code",
   "execution_count": 139,
   "metadata": {},
   "outputs": [
    {
     "name": "stderr",
     "output_type": "stream",
     "text": [
      "/opt/anaconda3/lib/python3.7/site-packages/pandas/core/series.py:853: RuntimeWarning: divide by zero encountered in log10\n",
      "  result = getattr(ufunc, method)(*inputs, **kwargs)\n"
     ]
    }
   ],
   "source": [
    "pts_df_sub['logval'] = np.log10(pts_df_sub['value'])"
   ]
  },
  {
   "cell_type": "code",
   "execution_count": 140,
   "metadata": {},
   "outputs": [
    {
     "data": {
      "image/png": "[encoded data removed]",
      "text/plain": [
       "<Figure size 432x288 with 1 Axes>"
      ]
     },
     "metadata": {},
     "output_type": "display_data"
    }
   ],
   "source": [
    "ax = sns.set_style('whitegrid')\n",
    "ax=sns.set_palette(\"Paired\")\n",
    "ax= sns.swarmplot(x='comparison',y='logval',data=pts_df_sub)\n",
    "ax = plt.ylim(-1,3)\n",
    "\n",
    "plt.savefig('/Users/emilydennis/Desktop/humanvselastix_withJ.eps')"
   ]
  },
  {
   "cell_type": "code",
   "execution_count": 69,
   "metadata": {},
   "outputs": [],
   "source": [
    "import scipy.stats as stats"
   ]
  },
  {
   "cell_type": "code",
   "execution_count": 70,
   "metadata": {},
   "outputs": [
    {
     "data": {
      "text/html": [
       "<div>\n",
       "<style scoped>\n",
       "    .dataframe tbody tr th:only-of-type {\n",
       "        vertical-align: middle;\n",
       "    }\n",
       "\n",
       "    .dataframe tbody tr th {\n",
       "        vertical-align: top;\n",
       "    }\n",
       "\n",
       "    .dataframe thead th {\n",
       "        text-align: right;\n",
       "    }\n",
       "</style>\n",
       "<table border=\"1\" class=\"dataframe\">\n",
       "  <thead>\n",
       "    <tr style=\"text-align: right;\">\n",
       "      <th></th>\n",
       "      <th>comparison</th>\n",
       "      <th>name</th>\n",
       "      <th>pts</th>\n",
       "      <th>value</th>\n",
       "      <th>logval</th>\n",
       "    </tr>\n",
       "  </thead>\n",
       "  <tbody>\n",
       "    <tr>\n",
       "      <td>0</td>\n",
       "      <td>humanvar</td>\n",
       "      <td>Adrian</td>\n",
       "      <td>1</td>\n",
       "      <td>2</td>\n",
       "      <td>0.693147</td>\n",
       "    </tr>\n",
       "    <tr>\n",
       "      <td>1</td>\n",
       "      <td>humanvar</td>\n",
       "      <td>Adrian</td>\n",
       "      <td>2</td>\n",
       "      <td>2</td>\n",
       "      <td>0.693147</td>\n",
       "    </tr>\n",
       "    <tr>\n",
       "      <td>2</td>\n",
       "      <td>humanvar</td>\n",
       "      <td>Adrian</td>\n",
       "      <td>3</td>\n",
       "      <td>2</td>\n",
       "      <td>0.693147</td>\n",
       "    </tr>\n",
       "    <tr>\n",
       "      <td>3</td>\n",
       "      <td>humanvar</td>\n",
       "      <td>Adrian</td>\n",
       "      <td>4</td>\n",
       "      <td>3</td>\n",
       "      <td>1.098612</td>\n",
       "    </tr>\n",
       "    <tr>\n",
       "      <td>4</td>\n",
       "      <td>humanvar</td>\n",
       "      <td>Chuck</td>\n",
       "      <td>1</td>\n",
       "      <td>1</td>\n",
       "      <td>0.000000</td>\n",
       "    </tr>\n",
       "    <tr>\n",
       "      <td>...</td>\n",
       "      <td>...</td>\n",
       "      <td>...</td>\n",
       "      <td>...</td>\n",
       "      <td>...</td>\n",
       "      <td>...</td>\n",
       "    </tr>\n",
       "    <tr>\n",
       "      <td>115</td>\n",
       "      <td>final320</td>\n",
       "      <td>Peter</td>\n",
       "      <td>4</td>\n",
       "      <td>4</td>\n",
       "      <td>1.386294</td>\n",
       "    </tr>\n",
       "    <tr>\n",
       "      <td>116</td>\n",
       "      <td>final320</td>\n",
       "      <td>Thomas</td>\n",
       "      <td>1</td>\n",
       "      <td>4</td>\n",
       "      <td>1.386294</td>\n",
       "    </tr>\n",
       "    <tr>\n",
       "      <td>117</td>\n",
       "      <td>final320</td>\n",
       "      <td>Thomas</td>\n",
       "      <td>2</td>\n",
       "      <td>11</td>\n",
       "      <td>2.397895</td>\n",
       "    </tr>\n",
       "    <tr>\n",
       "      <td>118</td>\n",
       "      <td>final320</td>\n",
       "      <td>Thomas</td>\n",
       "      <td>3</td>\n",
       "      <td>5</td>\n",
       "      <td>1.609438</td>\n",
       "    </tr>\n",
       "    <tr>\n",
       "      <td>119</td>\n",
       "      <td>final320</td>\n",
       "      <td>Thomas</td>\n",
       "      <td>4</td>\n",
       "      <td>25</td>\n",
       "      <td>3.218876</td>\n",
       "    </tr>\n",
       "  </tbody>\n",
       "</table>\n",
       "<p>120 rows × 5 columns</p>\n",
       "</div>"
      ],
      "text/plain": [
       "    comparison    name  pts  value    logval\n",
       "0     humanvar  Adrian    1      2  0.693147\n",
       "1     humanvar  Adrian    2      2  0.693147\n",
       "2     humanvar  Adrian    3      2  0.693147\n",
       "3     humanvar  Adrian    4      3  1.098612\n",
       "4     humanvar   Chuck    1      1  0.000000\n",
       "..         ...     ...  ...    ...       ...\n",
       "115   final320   Peter    4      4  1.386294\n",
       "116   final320  Thomas    1      4  1.386294\n",
       "117   final320  Thomas    2     11  2.397895\n",
       "118   final320  Thomas    3      5  1.609438\n",
       "119   final320  Thomas    4     25  3.218876\n",
       "\n",
       "[120 rows x 5 columns]"
      ]
     },
     "execution_count": 70,
     "metadata": {},
     "output_type": "execute_result"
    }
   ],
   "source": [
    "pts_df_sub"
   ]
  },
  {
   "cell_type": "code",
   "execution_count": 74,
   "metadata": {},
   "outputs": [
    {
     "data": {
      "text/plain": [
       "F_onewayResult(statistic=226.35125373630106, pvalue=1.5917333429803256e-53)"
      ]
     },
     "execution_count": 74,
     "metadata": {},
     "output_type": "execute_result"
    }
   ],
   "source": [
    "stats.f_oneway(pts_df_sub['value'][pts_df_sub['comparison']=='humanvar'],\n",
    "              pts_df_sub['value'][pts_df_sub['comparison']=='before'],\n",
    "              pts_df_sub['value'][pts_df_sub['comparison']=='affine'],\n",
    "              pts_df_sub['value'][pts_df_sub['comparison']=='a1b'],\n",
    "              pts_df_sub['value'][pts_df_sub['comparison']=='final320'])"
   ]
  },
  {
   "cell_type": "code",
   "execution_count": 80,
   "metadata": {},
   "outputs": [],
   "source": [
    "hv = pts_df_sub[pts_df_sub['comparison']=='humanvar']\n",
    "b = pts_df_sub[pts_df_sub['comparison']=='before']\n",
    "a1b=pts_df_sub[pts_df_sub['comparison']=='a1b']\n",
    "f320 = pts_df_sub[pts_df_sub['comparison']=='final320']\n",
    "a = pts_df_sub[pts_df_sub['comparison']=='affine']"
   ]
  },
  {
   "cell_type": "code",
   "execution_count": 94,
   "metadata": {},
   "outputs": [
    {
     "data": {
      "text/plain": [
       "Ttest_indResult(statistic=-32.47754432340425, pvalue=2.2977125180656378e-33)"
      ]
     },
     "execution_count": 94,
     "metadata": {},
     "output_type": "execute_result"
    }
   ],
   "source": [
    "stats.ttest_ind(hv['value'],b['value'])"
   ]
  },
  {
   "cell_type": "code",
   "execution_count": 95,
   "metadata": {},
   "outputs": [
    {
     "data": {
      "text/plain": [
       "Ttest_indResult(statistic=-3.1648483280374915, pvalue=0.0027509699841684033)"
      ]
     },
     "execution_count": 95,
     "metadata": {},
     "output_type": "execute_result"
    }
   ],
   "source": [
    "stats.ttest_ind(hv['value'],a['value'])"
   ]
  },
  {
   "cell_type": "code",
   "execution_count": 96,
   "metadata": {},
   "outputs": [
    {
     "data": {
      "text/plain": [
       "Ttest_indResult(statistic=-2.275023131640141, pvalue=0.02761155804152916)"
      ]
     },
     "execution_count": 96,
     "metadata": {},
     "output_type": "execute_result"
    }
   ],
   "source": [
    "stats.ttest_ind(hv['value'],a1b['value'])"
   ]
  },
  {
   "cell_type": "code",
   "execution_count": 97,
   "metadata": {},
   "outputs": [
    {
     "data": {
      "text/plain": [
       "Ttest_indResult(statistic=-2.136045592152692, pvalue=0.03802990243420504)"
      ]
     },
     "execution_count": 97,
     "metadata": {},
     "output_type": "execute_result"
    }
   ],
   "source": [
    "stats.ttest_ind(hv['value'],f320['value'])"
   ]
  },
  {
   "cell_type": "code",
   "execution_count": 101,
   "metadata": {},
   "outputs": [
    {
     "data": {
      "text/plain": [
       "Ttest_indResult(statistic=-2.136045592152692, pvalue=0.03802990243420504)"
      ]
     },
     "execution_count": 101,
     "metadata": {},
     "output_type": "execute_result"
    }
   ],
   "source": [
    "stats.ttest_ind(hv['value'],f320['value'])"
   ]
  },
  {
   "cell_type": "code",
   "execution_count": 112,
   "metadata": {},
   "outputs": [
    {
     "data": {
      "text/plain": [
       "Ttest_indResult(statistic=-0.6492457427696064, pvalue=0.5194082811654291)"
      ]
     },
     "execution_count": 112,
     "metadata": {},
     "output_type": "execute_result"
    }
   ],
   "source": [
    "stats.ttest_ind(f320['value'],a['value'])"
   ]
  },
  {
   "cell_type": "code",
   "execution_count": 113,
   "metadata": {},
   "outputs": [
    {
     "data": {
      "text/plain": [
       "Ttest_indResult(statistic=-0.03580736544908879, pvalue=0.9715908980672572)"
      ]
     },
     "execution_count": 113,
     "metadata": {},
     "output_type": "execute_result"
    }
   ],
   "source": [
    "stats.ttest_ind(f320['value'],a1b['value'])"
   ]
  },
  {
   "cell_type": "code",
   "execution_count": 114,
   "metadata": {},
   "outputs": [
    {
     "data": {
      "text/plain": [
       "Ttest_indResult(statistic=-0.6274187372226518, pvalue=0.5334869999093308)"
      ]
     },
     "execution_count": 114,
     "metadata": {},
     "output_type": "execute_result"
    }
   ],
   "source": [
    "stats.ttest_ind(a1b['value'],a['value'])"
   ]
  },
  {
   "cell_type": "code",
   "execution_count": null,
   "metadata": {},
   "outputs": [],
   "source": []
  }
 ],
 "metadata": {
  "kernelspec": {
   "display_name": "Python 3",
   "language": "python",
   "name": "python3"
  },
  "language_info": {
   "codemirror_mode": {
    "name": "ipython",
    "version": 3
   },
   "file_extension": ".py",
   "mimetype": "text/x-python",
   "name": "python",
   "nbconvert_exporter": "python",
   "pygments_lexer": "ipython3",
   "version": "3.7.4"
  },
  "toc": {
   "base_numbering": 1,
   "nav_menu": {},
   "number_sections": true,
   "sideBar": true,
   "skip_h1_title": false,
   "title_cell": "Table of Contents",
   "title_sidebar": "Contents",
   "toc_cell": false,
   "toc_position": {},
   "toc_section_display": true,
   "toc_window_display": false
  }
 },
 "nbformat": 4,
 "nbformat_minor": 2
}

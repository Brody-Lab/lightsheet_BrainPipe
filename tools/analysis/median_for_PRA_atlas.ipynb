{
 "cells": [
  {
   "cell_type": "code",
   "execution_count": 1,
   "metadata": {},
   "outputs": [],
   "source": [
    "import os\n",
    "import numpy as np\n",
    "import tifffile as tif\n",
    "import SimpleITK as sitk\n",
    "import cv2\n",
    "import sys\n",
    "from scipy.ndimage import zoom"
   ]
  },
  {
   "cell_type": "code",
   "execution_count": 2,
   "metadata": {},
   "outputs": [],
   "source": [
    "\n",
    "\n",
    "def load_memmap_arr(pth, mode=\"r\", dtype = \"uint16\", shape = False):\n",
    "    \"\"\"\n",
    "    Function to load memmaped array.\n",
    "\n",
    "    Inputs\n",
    "    -----------\n",
    "    pth: path to array\n",
    "    mode: (defaults to r)\n",
    "    +------+-------------------------------------------------------------+\n",
    "    | \"r\"  | Open existing file for reading only.                        |\n",
    "    +------+-------------------------------------------------------------+\n",
    "    | \"r+\" | Open existing file for reading and writing.                 |\n",
    "    +------+-------------------------------------------------------------+\n",
    "    | \"w+\" | Create or overwrite existing file for reading and writing.  |\n",
    "    +------+-------------------------------------------------------------+\n",
    "    | \"c\"  | Copy-on-write: assignments affect data in memory, but       |\n",
    "    |      | changes are not saved to disk.  The file on disk is         |\n",
    "    |      | read-only.                                                  |\n",
    "    dtype: digit type\n",
    "    shape: (tuple) shape when initializing the memory map array\n",
    "\n",
    "    Returns\n",
    "    -----------\n",
    "    arr\n",
    "    \"\"\"\n",
    "    if shape:\n",
    "        assert mode ==\"w+\", \"Do not pass a shape input into this function unless initializing a new array\"\n",
    "        arr = np.lib.format.open_memmap(pth, dtype = dtype, mode = mode, shape = shape)\n",
    "    else:\n",
    "        arr = np.lib.format.open_memmap(pth, dtype = dtype, mode = mode)\n",
    "    return arr"
   ]
  },
  {
   "cell_type": "code",
   "execution_count": 18,
   "metadata": {},
   "outputs": [],
   "source": [
    "#seedname = \"e106_f002_median\"\n",
    "#brainname = \"t107_a235_median\"\n",
    "\n",
    "\n",
    "#seedname = \"f110_k320_median\"\n",
    "#brainname = \"c514_f003_median\"\n",
    "\n",
    "brainname = \"taef_to_cffk\"\n",
    "seedname = \"c514_f003_median_f110_k320_median_median\""
   ]
  },
  {
   "cell_type": "code",
   "execution_count": 25,
   "metadata": {},
   "outputs": [],
   "source": [
    "seedname = \"PRA_seed2\"\n",
    "brainnames = [\"a235\",\"c514\",\"e106\",\"f002\",\"f003\",\"k320\",\"f110\"]"
   ]
  },
  {
   "cell_type": "code",
   "execution_count": 30,
   "metadata": {},
   "outputs": [],
   "source": [
    "src = \"/home/emilyjanedennis/Desktop/vols\"\n",
    "seed = os.path.join(src,\"tiffs/{}.tif\".format(seedname))\n",
    "parameterfld = \"/home/emilyjanedennis/Desktop/ab2/\"\n",
    "parameters = [os.path.join(parameterfld,xx) for xx in os.listdir(parameterfld)]\n",
    "\n",
    "output_fld = os.path.join(src,\"out\")\n",
    "data_fld = os.path.join(src,\"output_dirs\")    \n",
    "memmappth = os.path.join(output_fld,\"to_PRAseed1_memmap.npy\")\n",
    "final_output_path = os.path.join(output_fld,\"PRA_seed3.tif\")\n"
   ]
  },
  {
   "cell_type": "code",
   "execution_count": 31,
   "metadata": {},
   "outputs": [
    {
     "data": {
      "text/plain": [
       "'/home/emilyjanedennis/Desktop/vols/tiffs/PRA_seed2.tif'"
      ]
     },
     "execution_count": 31,
     "metadata": {},
     "output_type": "execute_result"
    }
   ],
   "source": [
    "seed"
   ]
  },
  {
   "cell_type": "code",
   "execution_count": 32,
   "metadata": {},
   "outputs": [
    {
     "name": "stdout",
     "output_type": "stream",
     "text": [
      "a235\n",
      "c514\n",
      "e106\n",
      "f002\n",
      "f003\n",
      "k320\n",
      "f110\n"
     ]
    }
   ],
   "source": [
    "vol = tif.imread(seed)\n",
    "z,y,x = vol.shape\n",
    "dtype = vol.dtype\n",
    "\n",
    "arr = load_memmap_arr(memmappth,mode=\"w+\",shape=(len(brainnames)+1,z,y,x),dtype=dtype)\n",
    "\n",
    "arr[0]=tif.imread(seed)\n",
    "arr.flush()\n",
    "x=0\n",
    "\n",
    "for brainname in brainnames:\n",
    "    x=x+1\n",
    "    brain = os.path.join(src,\"output_dirs/{}_to_{}/result.2.tif\".format(brainname,seedname))\n",
    "    print(brainname)\n",
    "    arr[x]=tif.imread(brain)\n",
    "    arr.flush()"
   ]
  },
  {
   "cell_type": "code",
   "execution_count": 33,
   "metadata": {},
   "outputs": [],
   "source": [
    "vol=np.median(arr,axis=0)\n",
    "tif.imsave(final_output_path,vol.astype(dtype))"
   ]
  },
  {
   "cell_type": "code",
   "execution_count": 34,
   "metadata": {},
   "outputs": [
    {
     "data": {
      "text/plain": [
       "'/home/emilyjanedennis/Desktop/vols/out/PRA_seed3.tif'"
      ]
     },
     "execution_count": 34,
     "metadata": {},
     "output_type": "execute_result"
    }
   ],
   "source": [
    "final_output_path"
   ]
  },
  {
   "cell_type": "code",
   "execution_count": null,
   "metadata": {},
   "outputs": [],
   "source": []
  },
  {
   "cell_type": "code",
   "execution_count": null,
   "metadata": {},
   "outputs": [],
   "source": []
  },
  {
   "cell_type": "code",
   "execution_count": null,
   "metadata": {},
   "outputs": [],
   "source": []
  },
  {
   "cell_type": "code",
   "execution_count": null,
   "metadata": {},
   "outputs": [],
   "source": []
  },
  {
   "cell_type": "code",
   "execution_count": null,
   "metadata": {},
   "outputs": [],
   "source": []
  },
  {
   "cell_type": "code",
   "execution_count": 2,
   "metadata": {},
   "outputs": [],
   "source": [
    "test = np.load('/home/emilyjanedennis/Desktop/forpeter_PRA-new-to_WHS/posttransformed_zyx_voxels.npy')"
   ]
  },
  {
   "cell_type": "code",
   "execution_count": 3,
   "metadata": {},
   "outputs": [
    {
     "data": {
      "text/plain": [
       "array([[349.754098, 327.924628, 191.412998],\n",
       "       [538.464435, 332.785502, 165.960599],\n",
       "       [533.439624, 373.890042, 135.59669 ],\n",
       "       [499.561842, 371.17776 , 205.462934],\n",
       "       [554.936539, 375.736774, 232.753987],\n",
       "       [437.978111, 399.184889, 145.232078],\n",
       "       [441.519529, 401.72046 , 243.975854],\n",
       "       [441.643486, 419.620244, 242.673456],\n",
       "       [537.937724, 420.906876, 236.994834],\n",
       "       [480.656416, 424.343765, 186.975619],\n",
       "       [586.360133, 460.087783, 195.28692 ],\n",
       "       [617.692932, 509.049266, 133.296668],\n",
       "       [131.697403, 672.274387, 302.466235],\n",
       "       [474.963753, 761.972308,  49.009447],\n",
       "       [114.74703 , 807.544948, 289.354065],\n",
       "       [711.27654 , 850.895152, 122.852196],\n",
       "       [103.848113, 902.965575, 126.397039],\n",
       "       [ 89.662891, 888.645971, 236.420107]])"
      ]
     },
     "execution_count": 3,
     "metadata": {},
     "output_type": "execute_result"
    }
   ],
   "source": [
    "test #this is xyz in large WHS"
   ]
  },
  {
   "cell_type": "code",
   "execution_count": 4,
   "metadata": {},
   "outputs": [],
   "source": [
    "test = np.load('/home/emilyjanedennis/Desktop/forpeter_PRA-new-to_WHS/posttransformed_zyx_voxels.npy')\n",
    "\n",
    "# initialize\n",
    "# in zyx\n",
    "resample_dims = (455,774,302) #whs\n",
    "original_dims = (865,1610,539) #largewhs\n",
    "d1, d2 = test.shape\n",
    "nx4centers = np.ones((d1, d2+1))\n",
    "nx4centers[:, :-1] = test\n",
    "\n",
    "# acount for resampling by creating transformmatrix\n",
    "zr, yr, xr = resample_dims\n",
    "z, y, x = original_dims\n",
    "\n",
    "# apply scale diff\n",
    "trnsfrmmatrix = np.identity(4)*(zr/float(z), yr/float(y), xr/float(x), 1)\n",
    "\n",
    "# nx4 * 4x4 to give transform\n",
    "trnsfmdpnts = nx4centers.dot(trnsfrmmatrix)  # z,y,x\n"
   ]
  },
  {
   "cell_type": "code",
   "execution_count": 5,
   "metadata": {},
   "outputs": [
    {
     "data": {
      "text/plain": [
       "array([[349.754098, 327.924628, 191.412998,   1.      ],\n",
       "       [538.464435, 332.785502, 165.960599,   1.      ],\n",
       "       [533.439624, 373.890042, 135.59669 ,   1.      ],\n",
       "       [499.561842, 371.17776 , 205.462934,   1.      ],\n",
       "       [554.936539, 375.736774, 232.753987,   1.      ],\n",
       "       [437.978111, 399.184889, 145.232078,   1.      ],\n",
       "       [441.519529, 401.72046 , 243.975854,   1.      ],\n",
       "       [441.643486, 419.620244, 242.673456,   1.      ],\n",
       "       [537.937724, 420.906876, 236.994834,   1.      ],\n",
       "       [480.656416, 424.343765, 186.975619,   1.      ],\n",
       "       [586.360133, 460.087783, 195.28692 ,   1.      ],\n",
       "       [617.692932, 509.049266, 133.296668,   1.      ],\n",
       "       [131.697403, 672.274387, 302.466235,   1.      ],\n",
       "       [474.963753, 761.972308,  49.009447,   1.      ],\n",
       "       [114.74703 , 807.544948, 289.354065,   1.      ],\n",
       "       [711.27654 , 850.895152, 122.852196,   1.      ],\n",
       "       [103.848113, 902.965575, 126.397039,   1.      ],\n",
       "       [ 89.662891, 888.645971, 236.420107,   1.      ]])"
      ]
     },
     "execution_count": 5,
     "metadata": {},
     "output_type": "execute_result"
    }
   ],
   "source": [
    "nx4centers"
   ]
  },
  {
   "cell_type": "code",
   "execution_count": 6,
   "metadata": {},
   "outputs": [],
   "source": []
  },
  {
   "cell_type": "code",
   "execution_count": 7,
   "metadata": {},
   "outputs": [
    {
     "data": {
      "text/plain": [
       "array([[183.97469895, 157.64823731, 107.24809906,   1.        ],\n",
       "       [283.23851783, 159.98507984,  92.98720018,   1.        ],\n",
       "       [280.59540916, 179.74589597,  75.97439774,   1.        ],\n",
       "       [262.77530417, 178.44197903, 115.12023389,   1.        ],\n",
       "       [291.90303497, 180.63370377, 130.41132481,   1.        ],\n",
       "       [230.38154972, 191.90627583,  81.37307524,   1.        ],\n",
       "       [232.24437653, 193.12523978, 136.6989015 ,   1.        ],\n",
       "       [232.30957934, 201.73047755, 135.96917201,   1.        ],\n",
       "       [282.96146176, 202.34901989, 132.78745801,   1.        ],\n",
       "       [252.83083154, 204.00128827, 104.76184961,   1.        ],\n",
       "       [308.43220869, 221.18505841, 109.41864534,   1.        ],\n",
       "       [324.91362319, 244.72306328,  74.68570266,   1.        ],\n",
       "       [ 69.27435649, 323.19277984, 169.4708775 ,   1.        ],\n",
       "       [249.83642499, 366.31463751,  27.45983858,   1.        ],\n",
       "       [ 60.35826434, 388.2234719 , 162.12417   ,   1.        ],\n",
       "       [374.13968289, 409.06388053,  68.83369794,   1.        ],\n",
       "       [ 54.62530799, 434.09649382,  70.8198623 ,   1.        ],\n",
       "       [ 47.16371723, 427.2124109 , 132.46544029,   1.        ]])"
      ]
     },
     "execution_count": 7,
     "metadata": {},
     "output_type": "execute_result"
    }
   ],
   "source": [
    "trnsfmdpnts"
   ]
  },
  {
   "cell_type": "code",
   "execution_count": null,
   "metadata": {},
   "outputs": [],
   "source": []
  },
  {
   "cell_type": "code",
   "execution_count": null,
   "metadata": {},
   "outputs": [],
   "source": []
  },
  {
   "cell_type": "code",
   "execution_count": null,
   "metadata": {},
   "outputs": [],
   "source": []
  },
  {
   "cell_type": "code",
   "execution_count": null,
   "metadata": {},
   "outputs": [],
   "source": []
  },
  {
   "cell_type": "code",
   "execution_count": null,
   "metadata": {},
   "outputs": [],
   "source": []
  },
  {
   "cell_type": "code",
   "execution_count": null,
   "metadata": {},
   "outputs": [],
   "source": []
  },
  {
   "cell_type": "code",
   "execution_count": null,
   "metadata": {},
   "outputs": [],
   "source": []
  },
  {
   "cell_type": "code",
   "execution_count": 3,
   "metadata": {},
   "outputs": [],
   "source": [
    "#coords in [z,y,x], sets\n",
    "# note if you made these measurements in an un-zoomed volume\n",
    "# but in aligning you used a zoomed volume, you need\n",
    "# to 'zoom' these points\n",
    "x=np.array([[276,186,140],[373,189,127],[373,212,104],[353,219,154],[381,222,174],[323,234,114],[323,240,178],[323,251,177],[373,251,177],[344,252,142],[399,275,150],[416,308,106],[161,436,204],[351,492,36],[153,538,194],[469,560,100],[157,596,72],[145,596,154]])\n",
    "np.save('/home/emilyjanedennis/Desktop/whs_forpeter.npy',x)"
   ]
  },
  {
   "cell_type": "code",
   "execution_count": null,
   "metadata": {},
   "outputs": [],
   "source": []
  },
  {
   "cell_type": "code",
   "execution_count": 17,
   "metadata": {},
   "outputs": [],
   "source": [
    "def fast_scandir(dirname):\n",
    "    \"\"\" gets all folders recursively \"\"\"\n",
    "    subfolders = [f.path for f in os.scandir(dirname) if f.is_dir()]\n",
    "    for dirname in list(subfolders):\n",
    "        subfolders.extend(fast_scandir(dirname))\n",
    "    return subfolders\n",
    "\n",
    "def get_folderstructure(dirname):\n",
    "    folderstructure = []\n",
    "    for i in os.walk(dirname):\n",
    "        folderstructure.append(i)\n",
    "    return folderstructure\n",
    "\n",
    "def get_onlyfolders(dirname):\n",
    "    folderstructure = []\n",
    "    for i in os.walk(dirname):\n",
    "        if i.is_dir():\n",
    "            folderstructure.append(i)\n",
    "    return folderstructure"
   ]
  },
  {
   "cell_type": "code",
   "execution_count": 3,
   "metadata": {},
   "outputs": [
    {
     "data": {
      "text/plain": [
       "'/home/emilyjanedennis/Desktop/GitHub/rat_BrainPipe/tools/analysis'"
      ]
     },
     "execution_count": 3,
     "metadata": {},
     "output_type": "execute_result"
    }
   ],
   "source": [
    "pwd"
   ]
  },
  {
   "cell_type": "code",
   "execution_count": 25,
   "metadata": {},
   "outputs": [
    {
     "name": "stdout",
     "output_type": "stream",
     "text": [
      "/home/emilyjanedennis/LightSheetData/lightserv/pbibawi/pb_udisco_647_488_4x/pb_udisco_647_488_4x-004/imaging_request_1/rawdata/resolution_3.6x/Ex_642_Em_2/corrected/050940\n",
      "/home/emilyjanedennis/LightSheetData/lightserv/pbibawi/pb_udisco_647_488_4x/pb_udisco_647_488_4x-004/imaging_request_1/rawdata/resolution_3.6x/Ex_642_Em_2/corrected/050940/050940_090361\n"
     ]
    }
   ],
   "source": [
    "x=fast_scandir(\"/home/emilyjanedennis/LightSheetData/lightserv/pbibawi/pb_udisco_647_488_4x/pb_udisco_647_488_4x-004/imaging_request_1/rawdata/resolution_3.6x/Ex_642_Em_2/corrected/\")"
   ]
  },
  {
   "cell_type": "code",
   "execution_count": 26,
   "metadata": {},
   "outputs": [
    {
     "data": {
      "text/plain": [
       "2"
      ]
     },
     "execution_count": 26,
     "metadata": {},
     "output_type": "execute_result"
    }
   ],
   "source": [
    "len(x)"
   ]
  },
  {
   "cell_type": "markdown",
   "metadata": {
    "code_folding": []
   },
   "source": [
    "/jukebox/LightSheetData/lightserv/pbibawi/pb_udisco_647_488_4x/\n",
    "    \n",
    "    pb_udisco_647_488_4x-001/\n",
    "      \n",
    "      imaging_request_1/\n",
    "         \n",
    "         rawdata\n",
    "             \n",
    "             resolution*\n",
    "                \n",
    "                in resolution, there should be 1+ folders. Each of these is a channel\n",
    "                    \n",
    "                    488, 64*\n",
    "                        \n",
    "                        corrected (there are lots of other folders)\n",
    "                             \n",
    "                             tiffs"
   ]
  },
  {
   "cell_type": "code",
   "execution_count": 64,
   "metadata": {},
   "outputs": [],
   "source": [
    "\n",
    "def get_folderstructure(dirname):\n",
    "    folderstructure = []\n",
    "    for i in os.walk(src):\n",
    "        folderstructure.append(i)\n",
    "    return folderstructure\n",
    "\n",
    "src=\"/Users/emilydennis/Desktop/test\"\n",
    "\n",
    "for directory, subdirectories, files in get_folderstructure(src):\n",
    "    if \"rawdata\" in directory:\n",
    "        for ls in subdirectories:\n",
    "            if 'resolution' in ls:\n",
    "                rawdata=os.path.join(directory,ls)\n",
    "\n",
    "for i in os.listdir(rawdata):\n",
    "    if '488' in i:\n",
    "        for j in os.listdir(os.path.join(rawdata,i)):\n",
    "            if 'corrected' in j:\n",
    "                reg_ch = os.path.join(rawdata,i,j)\n",
    "    if '64' in i:\n",
    "        for j in os.listdir(os.path.join(rawdata,i)):\n",
    "            if 'corrected' in j:\n",
    "                cell_ch = os.path.join(rawdata,i,j)"
   ]
  },
  {
   "cell_type": "code",
   "execution_count": 57,
   "metadata": {},
   "outputs": [],
   "source": []
  },
  {
   "cell_type": "code",
   "execution_count": null,
   "metadata": {},
   "outputs": [],
   "source": []
  },
  {
   "cell_type": "code",
   "execution_count": null,
   "metadata": {},
   "outputs": [],
   "source": []
  },
  {
   "cell_type": "code",
   "execution_count": 62,
   "metadata": {},
   "outputs": [],
   "source": []
  },
  {
   "cell_type": "code",
   "execution_count": 63,
   "metadata": {},
   "outputs": [
    {
     "data": {
      "text/plain": [
       "'/Users/emilydennis/Desktop/test/rawdata/resolution_10/xx_642_ch2/corrected'"
      ]
     },
     "execution_count": 63,
     "metadata": {},
     "output_type": "execute_result"
    }
   ],
   "source": []
  },
  {
   "cell_type": "code",
   "execution_count": 22,
   "metadata": {},
   "outputs": [
    {
     "data": {
      "text/plain": [
       "['/Users/emilydennis/Desktop/test/a',\n",
       " '/Users/emilydennis/Desktop/test/rawdata',\n",
       " '/Users/emilydennis/Desktop/test/rawdata/resolution_10',\n",
       " '/Users/emilydennis/Desktop/test/rawdata/b',\n",
       " '/Users/emilydennis/Desktop/test/rawdata/resolution_10/xx_642_ch2',\n",
       " '/Users/emilydennis/Desktop/test/rawdata/resolution_10/ch1_488_xx',\n",
       " '/Users/emilydennis/Desktop/test/rawdata/resolution_10/xx_642_ch2/killerbee',\n",
       " '/Users/emilydennis/Desktop/test/rawdata/resolution_10/xx_642_ch2/naruto',\n",
       " '/Users/emilydennis/Desktop/test/rawdata/resolution_10/xx_642_ch2/corrected',\n",
       " '/Users/emilydennis/Desktop/test/rawdata/resolution_10/xx_642_ch2/killerbee/not',\n",
       " '/Users/emilydennis/Desktop/test/rawdata/resolution_10/xx_642_ch2/killerbee/other',\n",
       " '/Users/emilydennis/Desktop/test/rawdata/resolution_10/xx_642_ch2/killerbee/good',\n",
       " '/Users/emilydennis/Desktop/test/rawdata/resolution_10/xx_642_ch2/naruto/not',\n",
       " '/Users/emilydennis/Desktop/test/rawdata/resolution_10/xx_642_ch2/naruto/other',\n",
       " '/Users/emilydennis/Desktop/test/rawdata/resolution_10/xx_642_ch2/naruto/good',\n",
       " '/Users/emilydennis/Desktop/test/rawdata/resolution_10/ch1_488_xx/killerbee',\n",
       " '/Users/emilydennis/Desktop/test/rawdata/resolution_10/ch1_488_xx/naruto',\n",
       " '/Users/emilydennis/Desktop/test/rawdata/resolution_10/ch1_488_xx/corrected',\n",
       " '/Users/emilydennis/Desktop/test/rawdata/resolution_10/ch1_488_xx/killerbee/not',\n",
       " '/Users/emilydennis/Desktop/test/rawdata/resolution_10/ch1_488_xx/killerbee/other',\n",
       " '/Users/emilydennis/Desktop/test/rawdata/resolution_10/ch1_488_xx/killerbee/good',\n",
       " '/Users/emilydennis/Desktop/test/rawdata/resolution_10/ch1_488_xx/naruto/not',\n",
       " '/Users/emilydennis/Desktop/test/rawdata/resolution_10/ch1_488_xx/naruto/other',\n",
       " '/Users/emilydennis/Desktop/test/rawdata/resolution_10/ch1_488_xx/naruto/good']"
      ]
     },
     "execution_count": 22,
     "metadata": {},
     "output_type": "execute_result"
    }
   ],
   "source": [
    "x"
   ]
  },
  {
   "cell_type": "code",
   "execution_count": 23,
   "metadata": {},
   "outputs": [
    {
     "name": "stdout",
     "output_type": "stream",
     "text": [
      "/Users/emilydennis/Desktop/test/rawdata/resolution_10\n",
      "/Users/emilydennis/Desktop/test/rawdata/resolution_10/xx_642_ch2\n",
      "/Users/emilydennis/Desktop/test/rawdata/resolution_10/ch1_488_xx\n",
      "/Users/emilydennis/Desktop/test/rawdata/resolution_10/xx_642_ch2/killerbee\n",
      "/Users/emilydennis/Desktop/test/rawdata/resolution_10/xx_642_ch2/naruto\n",
      "/Users/emilydennis/Desktop/test/rawdata/resolution_10/xx_642_ch2/corrected\n",
      "/Users/emilydennis/Desktop/test/rawdata/resolution_10/xx_642_ch2/killerbee/not\n",
      "/Users/emilydennis/Desktop/test/rawdata/resolution_10/xx_642_ch2/killerbee/other\n",
      "/Users/emilydennis/Desktop/test/rawdata/resolution_10/xx_642_ch2/killerbee/good\n",
      "/Users/emilydennis/Desktop/test/rawdata/resolution_10/xx_642_ch2/naruto/not\n",
      "/Users/emilydennis/Desktop/test/rawdata/resolution_10/xx_642_ch2/naruto/other\n",
      "/Users/emilydennis/Desktop/test/rawdata/resolution_10/xx_642_ch2/naruto/good\n",
      "/Users/emilydennis/Desktop/test/rawdata/resolution_10/ch1_488_xx/killerbee\n",
      "/Users/emilydennis/Desktop/test/rawdata/resolution_10/ch1_488_xx/naruto\n",
      "/Users/emilydennis/Desktop/test/rawdata/resolution_10/ch1_488_xx/corrected\n",
      "/Users/emilydennis/Desktop/test/rawdata/resolution_10/ch1_488_xx/killerbee/not\n",
      "/Users/emilydennis/Desktop/test/rawdata/resolution_10/ch1_488_xx/killerbee/other\n",
      "/Users/emilydennis/Desktop/test/rawdata/resolution_10/ch1_488_xx/killerbee/good\n",
      "/Users/emilydennis/Desktop/test/rawdata/resolution_10/ch1_488_xx/naruto/not\n",
      "/Users/emilydennis/Desktop/test/rawdata/resolution_10/ch1_488_xx/naruto/other\n",
      "/Users/emilydennis/Desktop/test/rawdata/resolution_10/ch1_488_xx/naruto/good\n"
     ]
    }
   ],
   "source": [
    "for dirname in x:\n",
    "    if \"resolution\" in dirname:\n",
    "        print(dirname)"
   ]
  },
  {
   "cell_type": "code",
   "execution_count": null,
   "metadata": {},
   "outputs": [],
   "source": []
  }
 ],
 "metadata": {
  "kernelspec": {
   "display_name": "Python 3",
   "language": "python",
   "name": "python3"
  },
  "language_info": {
   "codemirror_mode": {
    "name": "ipython",
    "version": 3
   },
   "file_extension": ".py",
   "mimetype": "text/x-python",
   "name": "python",
   "nbconvert_exporter": "python",
   "pygments_lexer": "ipython3",
   "version": "3.7.3"
  },
  "toc": {
   "base_numbering": 1,
   "nav_menu": {},
   "number_sections": true,
   "sideBar": true,
   "skip_h1_title": false,
   "title_cell": "Table of Contents",
   "title_sidebar": "Contents",
   "toc_cell": false,
   "toc_position": {},
   "toc_section_display": true,
   "toc_window_display": false
  }
 },
 "nbformat": 4,
 "nbformat_minor": 2
}

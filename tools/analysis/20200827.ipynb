{
 "cells": [
  {
   "cell_type": "code",
   "execution_count": 1,
   "metadata": {},
   "outputs": [],
   "source": [
    "import os, sys, time\n",
    "import tifffile as tif\n",
    "sys.path.append(\"/home/emilyjanedennis/Desktop/GitHub/rat_BrainPipe\")\n",
    "from tools.utils.io import makedir\n",
    "from tools.registration.register import change_interpolation_order, transformix_command_line_call\n",
    "from tools.registration.transform_list_of_points import modify_transform_files\n",
    "from scipy.ndimage.interpolation import zoom\n",
    "import matplotlib.pyplot as plt\n",
    "import numpy as np\n",
    "import pandas as pd\n",
    "import csv"
   ]
  },
  {
   "cell_type": "code",
   "execution_count": 2,
   "metadata": {},
   "outputs": [],
   "source": [
    "affinefile = \"/home/emilyjanedennis/Desktop/mouseann_to_rat_AFFINE.tif\"\n",
    "mouseratfile=\"/home/emilyjanedennis/Desktop/mouseann_to_rat.tif\""
   ]
  },
  {
   "cell_type": "code",
   "execution_count": 3,
   "metadata": {},
   "outputs": [],
   "source": [
    "affine = tif.imread(affinefile)\n",
    "mouserat = tif.imread(mouseratfile)"
   ]
  },
  {
   "cell_type": "code",
   "execution_count": 24,
   "metadata": {},
   "outputs": [],
   "source": [
    "csvfilename=\"/home/emilyjanedennis/Desktop/for_registration_to_lightsheet/PMA_ann.csv\"\n",
    "anns=pd.read_csv(csvfilename,usecols=[0,1],names=['id','abbr'])"
   ]
  },
  {
   "cell_type": "code",
   "execution_count": 25,
   "metadata": {},
   "outputs": [],
   "source": [
    "df=anns"
   ]
  },
  {
   "cell_type": "code",
   "execution_count": 26,
   "metadata": {},
   "outputs": [],
   "source": [
    "df.insert(2,'affine_vox',0)\n",
    "df.insert(3,'mouserat_vox',0)"
   ]
  },
  {
   "cell_type": "code",
   "execution_count": 27,
   "metadata": {},
   "outputs": [
    {
     "data": {
      "text/html": [
       "<div>\n",
       "<style scoped>\n",
       "    .dataframe tbody tr th:only-of-type {\n",
       "        vertical-align: middle;\n",
       "    }\n",
       "\n",
       "    .dataframe tbody tr th {\n",
       "        vertical-align: top;\n",
       "    }\n",
       "\n",
       "    .dataframe thead th {\n",
       "        text-align: right;\n",
       "    }\n",
       "</style>\n",
       "<table border=\"1\" class=\"dataframe\">\n",
       "  <thead>\n",
       "    <tr style=\"text-align: right;\">\n",
       "      <th></th>\n",
       "      <th>id</th>\n",
       "      <th>abbr</th>\n",
       "      <th>affine_vox</th>\n",
       "      <th>mouserat_vox</th>\n",
       "    </tr>\n",
       "  </thead>\n",
       "  <tbody>\n",
       "    <tr>\n",
       "      <th>0</th>\n",
       "      <td>1.0</td>\n",
       "      <td>TMv</td>\n",
       "      <td>0</td>\n",
       "      <td>0</td>\n",
       "    </tr>\n",
       "    <tr>\n",
       "      <th>1</th>\n",
       "      <td>2.0</td>\n",
       "      <td>SSp-m6b</td>\n",
       "      <td>0</td>\n",
       "      <td>0</td>\n",
       "    </tr>\n",
       "    <tr>\n",
       "      <th>2</th>\n",
       "      <td>4.0</td>\n",
       "      <td>IC</td>\n",
       "      <td>0</td>\n",
       "      <td>0</td>\n",
       "    </tr>\n",
       "    <tr>\n",
       "      <th>3</th>\n",
       "      <td>6.0</td>\n",
       "      <td>int</td>\n",
       "      <td>0</td>\n",
       "      <td>0</td>\n",
       "    </tr>\n",
       "    <tr>\n",
       "      <th>4</th>\n",
       "      <td>7.0</td>\n",
       "      <td>PSV</td>\n",
       "      <td>0</td>\n",
       "      <td>0</td>\n",
       "    </tr>\n",
       "    <tr>\n",
       "      <th>...</th>\n",
       "      <td>...</td>\n",
       "      <td>...</td>\n",
       "      <td>...</td>\n",
       "      <td>...</td>\n",
       "    </tr>\n",
       "    <tr>\n",
       "      <th>624</th>\n",
       "      <td>526322272.0</td>\n",
       "      <td>FRP6a</td>\n",
       "      <td>0</td>\n",
       "      <td>0</td>\n",
       "    </tr>\n",
       "    <tr>\n",
       "      <th>625</th>\n",
       "      <td>563807424.0</td>\n",
       "      <td>PoT</td>\n",
       "      <td>0</td>\n",
       "      <td>0</td>\n",
       "    </tr>\n",
       "    <tr>\n",
       "      <th>626</th>\n",
       "      <td>599626944.0</td>\n",
       "      <td>SCO</td>\n",
       "      <td>0</td>\n",
       "      <td>0</td>\n",
       "    </tr>\n",
       "    <tr>\n",
       "      <th>627</th>\n",
       "      <td>606826688.0</td>\n",
       "      <td>Pa4</td>\n",
       "      <td>0</td>\n",
       "      <td>0</td>\n",
       "    </tr>\n",
       "    <tr>\n",
       "      <th>628</th>\n",
       "      <td>614454272.0</td>\n",
       "      <td>Su3</td>\n",
       "      <td>0</td>\n",
       "      <td>0</td>\n",
       "    </tr>\n",
       "  </tbody>\n",
       "</table>\n",
       "<p>629 rows × 4 columns</p>\n",
       "</div>"
      ],
      "text/plain": [
       "              id     abbr  affine_vox  mouserat_vox\n",
       "0            1.0      TMv           0             0\n",
       "1            2.0  SSp-m6b           0             0\n",
       "2            4.0       IC           0             0\n",
       "3            6.0      int           0             0\n",
       "4            7.0      PSV           0             0\n",
       "..           ...      ...         ...           ...\n",
       "624  526322272.0    FRP6a           0             0\n",
       "625  563807424.0      PoT           0             0\n",
       "626  599626944.0      SCO           0             0\n",
       "627  606826688.0      Pa4           0             0\n",
       "628  614454272.0      Su3           0             0\n",
       "\n",
       "[629 rows x 4 columns]"
      ]
     },
     "execution_count": 27,
     "metadata": {},
     "output_type": "execute_result"
    }
   ],
   "source": [
    "df"
   ]
  },
  {
   "cell_type": "code",
   "execution_count": 18,
   "metadata": {},
   "outputs": [],
   "source": []
  },
  {
   "cell_type": "code",
   "execution_count": 28,
   "metadata": {},
   "outputs": [
    {
     "name": "stderr",
     "output_type": "stream",
     "text": [
      "<ipython-input-28-a1d2e4ee8e05>:2: SettingWithCopyWarning: \n",
      "A value is trying to be set on a copy of a slice from a DataFrame\n",
      "\n",
      "See the caveats in the documentation: https://pandas.pydata.org/pandas-docs/stable/user_guide/indexing.html#returning-a-view-versus-a-copy\n",
      "  df.mouserat_vox[i] = np.size(mouserat[mouserat==df.id[i]])\n",
      "<ipython-input-28-a1d2e4ee8e05>:3: SettingWithCopyWarning: \n",
      "A value is trying to be set on a copy of a slice from a DataFrame\n",
      "\n",
      "See the caveats in the documentation: https://pandas.pydata.org/pandas-docs/stable/user_guide/indexing.html#returning-a-view-versus-a-copy\n",
      "  df.affine_vox[i] = np.size(affine[affine==df.id[i]])\n"
     ]
    }
   ],
   "source": [
    "for i in range(0,np.size(df['id'])-1):\n",
    "    df.mouserat_vox[i] = np.size(mouserat[mouserat==df.id[i]])\n",
    "    df.affine_vox[i] = np.size(affine[affine==df.id[i]])"
   ]
  },
  {
   "cell_type": "code",
   "execution_count": 29,
   "metadata": {},
   "outputs": [],
   "source": [
    "df.to_csv(r\"/home/emilyjanedennis/Desktop/PMA_ann_mouserat_vox.csv\")"
   ]
  },
  {
   "cell_type": "code",
   "execution_count": 30,
   "metadata": {},
   "outputs": [],
   "source": [
    "df['change'] = df['affine_vox']-df['mouserat_vox']"
   ]
  },
  {
   "cell_type": "code",
   "execution_count": 33,
   "metadata": {},
   "outputs": [],
   "source": [
    "df = df[df.mouserat_vox > 0]"
   ]
  },
  {
   "cell_type": "code",
   "execution_count": 34,
   "metadata": {},
   "outputs": [
    {
     "name": "stderr",
     "output_type": "stream",
     "text": [
      "<ipython-input-34-c65e6fae6b4a>:3: SettingWithCopyWarning: \n",
      "A value is trying to be set on a copy of a slice from a DataFrame.\n",
      "Try using .loc[row_indexer,col_indexer] = value instead\n",
      "\n",
      "See the caveats in the documentation: https://pandas.pydata.org/pandas-docs/stable/user_guide/indexing.html#returning-a-view-versus-a-copy\n",
      "  df['percent'] = dfpercent\n"
     ]
    },
    {
     "data": {
      "text/plain": [
       "0      -0.676530\n",
       "1       0.574614\n",
       "2       3.643001\n",
       "3      13.871764\n",
       "4     -17.536925\n",
       "         ...    \n",
       "611     3.562054\n",
       "612     5.143128\n",
       "613     9.543468\n",
       "614   -22.222222\n",
       "615    -7.132460\n",
       "Length: 614, dtype: float64"
      ]
     },
     "execution_count": 34,
     "metadata": {},
     "output_type": "execute_result"
    }
   ],
   "source": [
    "dfpercent = df['change']/df['mouserat_vox']*100\n",
    "dfpercent[np.isinf(dfpercent)]=0\n",
    "df['percent'] = dfpercent\n",
    "dfpercent.replace(0,np.nan)"
   ]
  },
  {
   "cell_type": "code",
   "execution_count": 38,
   "metadata": {},
   "outputs": [
    {
     "data": {
      "image/png": "[encoded data removed]",
      "text/plain": [
       "<Figure size 432x288 with 1 Axes>"
      ]
     },
     "metadata": {
      "needs_background": "light"
     },
     "output_type": "display_data"
    }
   ],
   "source": [
    "plt.hist(df.percent,bins=100)\n",
    "plt.show()"
   ]
  },
  {
   "cell_type": "code",
   "execution_count": 39,
   "metadata": {},
   "outputs": [],
   "source": [
    "mp = np.nanmedian(df.percent)\n",
    "sp = np.nanstd(df.percent)"
   ]
  },
  {
   "cell_type": "code",
   "execution_count": 43,
   "metadata": {},
   "outputs": [
    {
     "data": {
      "text/plain": [
       "9.227998534211455"
      ]
     },
     "execution_count": 43,
     "metadata": {},
     "output_type": "execute_result"
    }
   ],
   "source": [
    "highmp = mp+sp\n",
    "highmp"
   ]
  },
  {
   "cell_type": "code",
   "execution_count": 42,
   "metadata": {},
   "outputs": [
    {
     "data": {
      "text/plain": [
       "-5.347827327515767"
      ]
     },
     "execution_count": 42,
     "metadata": {},
     "output_type": "execute_result"
    }
   ],
   "source": [
    "lowmp = mp-sp\n",
    "lowmp"
   ]
  },
  {
   "cell_type": "code",
   "execution_count": 44,
   "metadata": {},
   "outputs": [],
   "source": [
    "df.to_csv(r\"/home/emilyjanedennis/Desktop/percent.csv\")"
   ]
  },
  {
   "cell_type": "code",
   "execution_count": null,
   "metadata": {},
   "outputs": [],
   "source": [
    "df=pd.read_csv(\"/home/emilyjanedennis/Desktop/percent.csv\")"
   ]
  },
  {
   "cell_type": "code",
   "execution_count": 45,
   "metadata": {},
   "outputs": [
    {
     "data": {
      "text/html": [
       "<div>\n",
       "<style scoped>\n",
       "    .dataframe tbody tr th:only-of-type {\n",
       "        vertical-align: middle;\n",
       "    }\n",
       "\n",
       "    .dataframe tbody tr th {\n",
       "        vertical-align: top;\n",
       "    }\n",
       "\n",
       "    .dataframe thead th {\n",
       "        text-align: right;\n",
       "    }\n",
       "</style>\n",
       "<table border=\"1\" class=\"dataframe\">\n",
       "  <thead>\n",
       "    <tr style=\"text-align: right;\">\n",
       "      <th></th>\n",
       "      <th>id</th>\n",
       "      <th>abbr</th>\n",
       "      <th>affine_vox</th>\n",
       "      <th>mouserat_vox</th>\n",
       "      <th>change</th>\n",
       "      <th>percent</th>\n",
       "    </tr>\n",
       "  </thead>\n",
       "  <tbody>\n",
       "    <tr>\n",
       "      <th>0</th>\n",
       "      <td>1.0</td>\n",
       "      <td>TMv</td>\n",
       "      <td>36116</td>\n",
       "      <td>36362</td>\n",
       "      <td>-246</td>\n",
       "      <td>-0.676530</td>\n",
       "    </tr>\n",
       "    <tr>\n",
       "      <th>1</th>\n",
       "      <td>2.0</td>\n",
       "      <td>SSp-m6b</td>\n",
       "      <td>17503</td>\n",
       "      <td>17403</td>\n",
       "      <td>100</td>\n",
       "      <td>0.574614</td>\n",
       "    </tr>\n",
       "    <tr>\n",
       "      <th>2</th>\n",
       "      <td>4.0</td>\n",
       "      <td>IC</td>\n",
       "      <td>26686</td>\n",
       "      <td>25748</td>\n",
       "      <td>938</td>\n",
       "      <td>3.643001</td>\n",
       "    </tr>\n",
       "    <tr>\n",
       "      <th>3</th>\n",
       "      <td>6.0</td>\n",
       "      <td>int</td>\n",
       "      <td>276697</td>\n",
       "      <td>242990</td>\n",
       "      <td>33707</td>\n",
       "      <td>13.871764</td>\n",
       "    </tr>\n",
       "    <tr>\n",
       "      <th>4</th>\n",
       "      <td>7.0</td>\n",
       "      <td>PSV</td>\n",
       "      <td>141030</td>\n",
       "      <td>171022</td>\n",
       "      <td>-29992</td>\n",
       "      <td>-17.536925</td>\n",
       "    </tr>\n",
       "    <tr>\n",
       "      <th>...</th>\n",
       "      <td>...</td>\n",
       "      <td>...</td>\n",
       "      <td>...</td>\n",
       "      <td>...</td>\n",
       "      <td>...</td>\n",
       "      <td>...</td>\n",
       "    </tr>\n",
       "    <tr>\n",
       "      <th>611</th>\n",
       "      <td>10703.0</td>\n",
       "      <td>DG-mo</td>\n",
       "      <td>639534</td>\n",
       "      <td>617537</td>\n",
       "      <td>21997</td>\n",
       "      <td>3.562054</td>\n",
       "    </tr>\n",
       "    <tr>\n",
       "      <th>612</th>\n",
       "      <td>10704.0</td>\n",
       "      <td>DG-po</td>\n",
       "      <td>79852</td>\n",
       "      <td>75946</td>\n",
       "      <td>3906</td>\n",
       "      <td>5.143128</td>\n",
       "    </tr>\n",
       "    <tr>\n",
       "      <th>613</th>\n",
       "      <td>12345.0</td>\n",
       "      <td>PDTg</td>\n",
       "      <td>9022</td>\n",
       "      <td>8236</td>\n",
       "      <td>786</td>\n",
       "      <td>9.543468</td>\n",
       "    </tr>\n",
       "    <tr>\n",
       "      <th>614</th>\n",
       "      <td>12346.0</td>\n",
       "      <td>Pa5</td>\n",
       "      <td>14189</td>\n",
       "      <td>18243</td>\n",
       "      <td>-4054</td>\n",
       "      <td>-22.222222</td>\n",
       "    </tr>\n",
       "    <tr>\n",
       "      <th>615</th>\n",
       "      <td>12347.0</td>\n",
       "      <td>VeCB</td>\n",
       "      <td>11484</td>\n",
       "      <td>12366</td>\n",
       "      <td>-882</td>\n",
       "      <td>-7.132460</td>\n",
       "    </tr>\n",
       "  </tbody>\n",
       "</table>\n",
       "<p>614 rows × 6 columns</p>\n",
       "</div>"
      ],
      "text/plain": [
       "          id     abbr  affine_vox  mouserat_vox  change    percent\n",
       "0        1.0      TMv       36116         36362    -246  -0.676530\n",
       "1        2.0  SSp-m6b       17503         17403     100   0.574614\n",
       "2        4.0       IC       26686         25748     938   3.643001\n",
       "3        6.0      int      276697        242990   33707  13.871764\n",
       "4        7.0      PSV      141030        171022  -29992 -17.536925\n",
       "..       ...      ...         ...           ...     ...        ...\n",
       "611  10703.0    DG-mo      639534        617537   21997   3.562054\n",
       "612  10704.0    DG-po       79852         75946    3906   5.143128\n",
       "613  12345.0     PDTg        9022          8236     786   9.543468\n",
       "614  12346.0      Pa5       14189         18243   -4054 -22.222222\n",
       "615  12347.0     VeCB       11484         12366    -882  -7.132460\n",
       "\n",
       "[614 rows x 6 columns]"
      ]
     },
     "execution_count": 45,
     "metadata": {},
     "output_type": "execute_result"
    }
   ],
   "source": [
    "df"
   ]
  },
  {
   "cell_type": "code",
   "execution_count": 46,
   "metadata": {},
   "outputs": [
    {
     "data": {
      "image/png": "[encoded data removed]",
      "text/plain": [
       "<Figure size 432x288 with 1 Axes>"
      ]
     },
     "metadata": {
      "needs_background": "light"
     },
     "output_type": "display_data"
    }
   ],
   "source": [
    "plt.hist(df.percent[df.affine_vox>5],bins=100)\n",
    "plt.show()"
   ]
  },
  {
   "cell_type": "code",
   "execution_count": 47,
   "metadata": {},
   "outputs": [],
   "source": [
    "too = df.id"
   ]
  },
  {
   "cell_type": "code",
   "execution_count": 48,
   "metadata": {},
   "outputs": [],
   "source": [
    "mouserat_relative = mouserat"
   ]
  },
  {
   "cell_type": "code",
   "execution_count": 49,
   "metadata": {},
   "outputs": [
    {
     "data": {
      "text/plain": [
       "57278"
      ]
     },
     "execution_count": 49,
     "metadata": {},
     "output_type": "execute_result"
    }
   ],
   "source": [
    "# add list of unique values not in twoxh/twoxl but in mouserat\n",
    "x = np.unique(mouserat)\n",
    "np.size(x)"
   ]
  },
  {
   "cell_type": "code",
   "execution_count": 50,
   "metadata": {},
   "outputs": [
    {
     "data": {
      "text/plain": [
       "56664"
      ]
     },
     "execution_count": 50,
     "metadata": {},
     "output_type": "execute_result"
    }
   ],
   "source": [
    "test = np.setdiff1d(x,too)\n",
    "np.size(test)"
   ]
  },
  {
   "cell_type": "code",
   "execution_count": null,
   "metadata": {},
   "outputs": [],
   "source": [
    "for i in test:\n",
    "    mouserat_relative[mouserat_relative==i]=0"
   ]
  },
  {
   "cell_type": "code",
   "execution_count": null,
   "metadata": {},
   "outputs": [],
   "source": [
    "tif.imsave(\"/home/emilyjanedennis/Desktop/20200829_mouserat_zeros.tif\",mouserat_relative)"
   ]
  },
  {
   "cell_type": "code",
   "execution_count": null,
   "metadata": {},
   "outputs": [],
   "source": []
  },
  {
   "cell_type": "code",
   "execution_count": null,
   "metadata": {},
   "outputs": [],
   "source": []
  },
  {
   "cell_type": "code",
   "execution_count": null,
   "metadata": {},
   "outputs": [],
   "source": []
  },
  {
   "cell_type": "code",
   "execution_count": null,
   "metadata": {},
   "outputs": [],
   "source": [
    "for i in too:\n",
    "    mouserat_relative[mouserat_relative==i]=df.loc[df['id']==i,'percent'].iloc[0]"
   ]
  },
  {
   "cell_type": "code",
   "execution_count": null,
   "metadata": {},
   "outputs": [],
   "source": [
    "tif.imsave(\"/home/emilyjanedennis/Desktop/mouserat_relative.tif\",mouserat_relative)"
   ]
  },
  {
   "cell_type": "code",
   "execution_count": null,
   "metadata": {},
   "outputs": [],
   "source": []
  }
 ],
 "metadata": {
  "kernelspec": {
   "display_name": "Python 3",
   "language": "python",
   "name": "python3"
  },
  "language_info": {
   "codemirror_mode": {
    "name": "ipython",
    "version": 3
   },
   "file_extension": ".py",
   "mimetype": "text/x-python",
   "name": "python",
   "nbconvert_exporter": "python",
   "pygments_lexer": "ipython3",
   "version": "3.8.3"
  }
 },
 "nbformat": 4,
 "nbformat_minor": 4
}

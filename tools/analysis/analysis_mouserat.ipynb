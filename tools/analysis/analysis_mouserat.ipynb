{
 "cells": [
  {
   "cell_type": "code",
   "execution_count": 1,
   "metadata": {},
   "outputs": [],
   "source": [
    "import os, sys, time\n",
    "import tifffile as tif\n",
    "sys.path.append(\"/home/emilyjanedennis/Desktop/GitHub/rat_BrainPipe\")\n",
    "from tools.utils.io import makedir\n",
    "from tools.registration.register import change_interpolation_order, transformix_command_line_call\n",
    "from tools.registration.transform_list_of_points import modify_transform_files\n",
    "from scipy.ndimage.interpolation import zoom\n",
    "import matplotlib.pyplot as plt\n",
    "import numpy as np\n",
    "import pandas as pd\n",
    "import csv"
   ]
  },
  {
   "cell_type": "code",
   "execution_count": 2,
   "metadata": {},
   "outputs": [],
   "source": [
    "src = \"/home/emilyjanedennis/Desktop/for_registration_to_lightsheet\"\n",
    "mouse_anns_in_rat = os.path.join(src, \"output_dirs/PMA_ann_in_PRA_25/PMA_ann_in_PRA.tif\")\n",
    "mouse_anns_jacobian_filename = os.path.join(src, \"output_dirs/PMA_ann_in_PRA_25/PMA_ann_in_PRA_spatialJacobian.tif\")\n",
    "mouse_anns_net_jacobian_filename = os.path.join(src, \"tiffs/PMA_in_PRA_adj_jacobian_16.tif\")\n",
    "\n",
    "rat_anns_filename = os.path.join(src,\"labels/SIGMA_labels.csv\") \n",
    "mouse_anns_filename = os.path.join(src,\"labels/PMA_ann.csv\")\n",
    "savefile= \"/home/emilyjanedennis/Desktop/mouserat.tif\"\n",
    "savecsv=\"/home/emilyjanedennis/Desktop/mouserat_percent.csv\""
   ]
  },
  {
   "cell_type": "markdown",
   "metadata": {},
   "source": [
    "### to do\n",
    "want to compare (1) mouse and rat annotations when in the same space (for now, mouse in rat space, want to do reverse too, and individual brains)\n",
    "\n",
    "segregate mouse jacobian data into rat and mouse regions and see which are biggest contributors "
   ]
  },
  {
   "cell_type": "code",
   "execution_count": 30,
   "metadata": {},
   "outputs": [
    {
     "name": "stdout",
     "output_type": "stream",
     "text": [
      "ann import\n"
     ]
    },
    {
     "name": "stderr",
     "output_type": "stream",
     "text": [
      "TiffPage 0: TypeError: read_bytes() missing 3 required positional arguments: 'dtype', 'count', and 'offsetsize'\n"
     ]
    },
    {
     "name": "stdout",
     "output_type": "stream",
     "text": [
      "jac import\n",
      "net jac import\n"
     ]
    }
   ],
   "source": [
    "mouse_ann_tiff = tif.imread(mouse_anns_in_rat)\n",
    "print('ann import')\n",
    "mouse_jacobian = tif.imread(mouse_anns_jacobian_filename)\n",
    "print('jac import')\n",
    "mouse_net_jacobian = tif.imread(mouse_anns_net_jacobian_filename)\n",
    "print('net jac import')\n",
    "mouse_ann_original = tif.imread('/home/emilyjanedennis/Desktop/for_registration_to_lightsheet/tiffs/PMA_annotation.tif')\n",
    "mouse_ann_affine = tif.imread('/home/emilyjanedennis/Desktop/for_registration_to_lightsheet/output_dirs/PMA_ann_in_PRA_25_affine/result.tif')\n",
    "rat_SIGMA = tif.imread('/home/emilyjanedennis/Desktop/for_registration_to_lightsheet/output_dirs/SIGMA_ann_in_PRA_25/result.tif')\n"
   ]
  },
  {
   "cell_type": "code",
   "execution_count": 10,
   "metadata": {},
   "outputs": [
    {
     "data": {
      "text/plain": [
       "(618, 1150, 385)"
      ]
     },
     "execution_count": 10,
     "metadata": {},
     "output_type": "execute_result"
    }
   ],
   "source": [
    "rat_SIGMA_anns = ('/home/emilyjanedennis/Desktop/for_registration_to_lightsheet/labels/SIGMA_labels.csv')\n",
    "np.shape(rat_SIGMA)"
   ]
  },
  {
   "cell_type": "code",
   "execution_count": 11,
   "metadata": {},
   "outputs": [
    {
     "name": "stdout",
     "output_type": "stream",
     "text": [
      "(618, 1150, 385)\n",
      "(618, 1150, 385)\n",
      "(618, 1150, 385)\n"
     ]
    }
   ],
   "source": [
    "print(np.shape(mouse_ann_tiff))\n",
    "print(np.shape(mouse_jacobian))\n",
    "print(np.shape(mouse_net_jacobian))\n"
   ]
  },
  {
   "cell_type": "code",
   "execution_count": 25,
   "metadata": {},
   "outputs": [
    {
     "name": "stdout",
     "output_type": "stream",
     "text": [
      "read annotations\n"
     ]
    }
   ],
   "source": [
    "# make sure your annotations have the first column as id number, 2nd as abbreviation, or else change the input below\n",
    "mouseanns=pd.read_csv(mouse_anns_filename,usecols=[0,1,2],header=0)\n",
    "ratanns = pd.read_csv(rat_SIGMA_anns)\n",
    "print(\"read annotations\")"
   ]
  },
  {
   "cell_type": "code",
   "execution_count": 26,
   "metadata": {},
   "outputs": [],
   "source": [
    "dfm=mouseanns.dropna()\n",
    "dfr = ratanns.dropna()"
   ]
  },
  {
   "cell_type": "code",
   "execution_count": 29,
   "metadata": {},
   "outputs": [],
   "source": [
    "dfm.columns = ['ID','abbr','fullname']"
   ]
  },
  {
   "cell_type": "code",
   "execution_count": 31,
   "metadata": {},
   "outputs": [],
   "source": [
    "dfr.insert(3,'PMA',0)\n",
    "dfr.insert(4,'PMA_affine',0)\n",
    "dfr.insert(5,'PMA_in_PRA',0)\n",
    "dfr.insert(6,'PRA',0)"
   ]
  },
  {
   "cell_type": "code",
   "execution_count": 32,
   "metadata": {},
   "outputs": [],
   "source": [
    "dfm.insert(3,'PMA',0)\n",
    "dfm.insert(4,'PMA_affine',0)\n",
    "dfm.insert(5,'PMA_in_PRA',0)\n",
    "dfm.insert(6,'PRA',0)"
   ]
  },
  {
   "cell_type": "code",
   "execution_count": 35,
   "metadata": {
    "scrolled": true
   },
   "outputs": [
    {
     "name": "stderr",
     "output_type": "stream",
     "text": [
      "<ipython-input-35-be9e2f7c077a>:2: SettingWithCopyWarning: \n",
      "A value is trying to be set on a copy of a slice from a DataFrame\n",
      "\n",
      "See the caveats in the documentation: http://pandas.pydata.org/pandas-docs/stable/user_guide/indexing.html#returning-a-view-versus-a-copy\n",
      "  dfm.PMA[dfm.index[dfm.ID==i]] = np.size(mouse_ann_original[mouse_ann_original==i])\n",
      "/home/emilyjanedennis/anaconda3/lib/python3.8/site-packages/pandas/core/series.py:1295: SettingWithCopyWarning: \n",
      "A value is trying to be set on a copy of a slice from a DataFrame\n",
      "\n",
      "See the caveats in the documentation: http://pandas.pydata.org/pandas-docs/stable/user_guide/indexing.html#returning-a-view-versus-a-copy\n",
      "  self._set_labels(key, value)\n",
      "/home/emilyjanedennis/anaconda3/lib/python3.8/site-packages/IPython/core/interactiveshell.py:3343: SettingWithCopyWarning: \n",
      "A value is trying to be set on a copy of a slice from a DataFrame\n",
      "\n",
      "See the caveats in the documentation: http://pandas.pydata.org/pandas-docs/stable/user_guide/indexing.html#returning-a-view-versus-a-copy\n",
      "  exec(code_obj, self.user_global_ns, self.user_ns)\n",
      "<ipython-input-35-be9e2f7c077a>:3: SettingWithCopyWarning: \n",
      "A value is trying to be set on a copy of a slice from a DataFrame\n",
      "\n",
      "See the caveats in the documentation: http://pandas.pydata.org/pandas-docs/stable/user_guide/indexing.html#returning-a-view-versus-a-copy\n",
      "  dfm.PMA_affine[dfm.index[dfm.ID==i]] = np.size(mouse_ann_affine[mouse_ann_affine==i])\n",
      "<ipython-input-35-be9e2f7c077a>:4: SettingWithCopyWarning: \n",
      "A value is trying to be set on a copy of a slice from a DataFrame\n",
      "\n",
      "See the caveats in the documentation: http://pandas.pydata.org/pandas-docs/stable/user_guide/indexing.html#returning-a-view-versus-a-copy\n",
      "  dfm.PMA_in_PRA[dfm.index[dfm.ID==i]] = np.size(mouse_ann_tiff[mouse_ann_tiff==i])\n"
     ]
    }
   ],
   "source": [
    "for i in dfm['ID']:\n",
    "    dfm.PMA[dfm.index[dfm.ID==i]] = np.size(mouse_ann_original[mouse_ann_original==i])\n",
    "    dfm.PMA_affine[dfm.index[dfm.ID==i]] = np.size(mouse_ann_affine[mouse_ann_affine==i])\n",
    "    dfm.PMA_in_PRA[dfm.index[dfm.ID==i]] = np.size(mouse_ann_tiff[mouse_ann_tiff==i])\n",
    "\n",
    "dfm.to_csv('/home/emilyjanedennis/Desktop/mouse_anns_in_PRA.csv')"
   ]
  },
  {
   "cell_type": "code",
   "execution_count": null,
   "metadata": {},
   "outputs": [],
   "source": [
    "dfm.to_csv('/home/emilyjanedennis/Desktop/mouse_anns_in_PRA.csv')"
   ]
  },
  {
   "cell_type": "code",
   "execution_count": 36,
   "metadata": {},
   "outputs": [
    {
     "name": "stdout",
     "output_type": "stream",
     "text": [
      "ann import\n"
     ]
    },
    {
     "name": "stderr",
     "output_type": "stream",
     "text": [
      "TiffPage 0: TypeError: read_bytes() missing 3 required positional arguments: 'dtype', 'count', and 'offsetsize'\n"
     ]
    },
    {
     "name": "stdout",
     "output_type": "stream",
     "text": [
      "jac import\n",
      "net jac import\n"
     ]
    }
   ],
   "source": [
    "mouse_ann_tiff = tif.imread(mouse_anns_in_rat)\n",
    "print('ann import')\n",
    "mouse_jacobian = tif.imread(mouse_anns_jacobian_filename)\n",
    "print('jac import')\n",
    "mouse_net_jacobian = tif.imread(mouse_anns_net_jacobian_filename)\n",
    "print('net jac import')\n",
    "mouse_ann_original = tif.imread('/home/emilyjanedennis/Desktop/for_registration_to_lightsheet/tiffs/PMA_annotation.tif')\n",
    "mouse_ann_affine = tif.imread('/home/emilyjanedennis/Desktop/for_registration_to_lightsheet/output_dirs/PMA_ann_in_PRA_25_affine/result.tif')\n",
    "rat_SIGMA = tif.imread('/home/emilyjanedennis/Desktop/for_registration_to_lightsheet/output_dirs/SIGMA_ann_in_PRA_25/result.tif')\n"
   ]
  },
  {
   "cell_type": "code",
   "execution_count": 37,
   "metadata": {},
   "outputs": [],
   "source": [
    "# segment by SIGMA or PMA region\n",
    "# compare jacobian results \n",
    "sigma = rat_SIGMA\n",
    "mouse = mouse_ann_tiff \n",
    "\n",
    "for i in np.unique(sigma):\n",
    "    sigma[rat_SIGMA==i] = np.mean(mouse_net_jacobian[rat_SIGMA==i])\n",
    "\n",
    "tif.imsave('/home/emilyjanedennis/Desktop/sigma_mouse_jacobian.tif',sigma)\n",
    "\n",
    "for i in np.unique(mouse):\n",
    "    mouse[mouse_ann_tiff == i] = np.mean(mouse_net_jacobian[mouse_ann_tiff==i])\n",
    "\n",
    "tif.imsave('/home/emilyjanedennis/Desktop/PMA_mouse_jacobian.tif',mouse)"
   ]
  },
  {
   "cell_type": "code",
   "execution_count": 44,
   "metadata": {},
   "outputs": [],
   "source": []
  },
  {
   "cell_type": "code",
   "execution_count": null,
   "metadata": {},
   "outputs": [],
   "source": []
  }
 ],
 "metadata": {
  "kernelspec": {
   "display_name": "Python 3",
   "language": "python",
   "name": "python3"
  },
  "language_info": {
   "codemirror_mode": {
    "name": "ipython",
    "version": 3
   },
   "file_extension": ".py",
   "mimetype": "text/x-python",
   "name": "python",
   "nbconvert_exporter": "python",
   "pygments_lexer": "ipython3",
   "version": "3.8.3"
  }
 },
 "nbformat": 4,
 "nbformat_minor": 4
}

{
 "cells": [
  {
   "cell_type": "code",
   "execution_count": 1,
   "metadata": {},
   "outputs": [],
   "source": [
    "import os,csv,json\n",
    "import numpy as np\n",
    "import matplotlib.pyplot as plt\n",
    "import pandas as pd\n",
    "import sys\n",
    "import SimpleITK as sitk\n",
    "import tifffile as tif\n",
    "import seaborn as sns\n",
    "sys.path.append(\"/home/emilyjanedennis/Desktop/GitHub/rat_BrainPipe/\")\n",
    "from tools.analysis.transform_points import transform_points"
   ]
  },
  {
   "cell_type": "code",
   "execution_count": 4,
   "metadata": {},
   "outputs": [],
   "source": [
    "basepath = \"/home/emilyjanedennis/Desktop/for_registration_to_lightsheet/output_dirs\"\n",
    "\n",
    "# SIGMA annotations \n",
    "sigma_ann_filename = os.path.join(basepath,\"SIGMA_ann_in_PRA_25/result.tif\")\n",
    "\n",
    "#WHS annotations \n",
    "whs_ann_filename = os.path.join(basepath,\"PMA_ann_in_PRA_25/PMA_ann_in_PRA.tif\")\n"
   ]
  },
  {
   "cell_type": "code",
   "execution_count": 26,
   "metadata": {},
   "outputs": [],
   "source": [
    "sigma =tif.imread(sigma_ann_filename)\n",
    "whs = tif.imread(whs_ann_filename)"
   ]
  },
  {
   "cell_type": "code",
   "execution_count": 27,
   "metadata": {},
   "outputs": [],
   "source": [
    "sigma_vals_to_use = [282, 312,382,392,402,281,311,381,391,401]\n",
    "\n",
    "whs_vals_to_use = [1074,905,1114,233,601,649,281,1066,401,433,1046,441,312782592,312782624]"
   ]
  },
  {
   "cell_type": "code",
   "execution_count": 31,
   "metadata": {},
   "outputs": [
    {
     "data": {
      "text/plain": [
       "(618, 1150, 385)"
      ]
     },
     "execution_count": 31,
     "metadata": {},
     "output_type": "execute_result"
    }
   ],
   "source": [
    "np.shape(sigma)"
   ]
  },
  {
   "cell_type": "code",
   "execution_count": 35,
   "metadata": {},
   "outputs": [],
   "source": [
    "sigma_bool = np.zeros(np.shape(sigma))\n",
    "whs_bool = np.zeros(np.shape(whs))"
   ]
  },
  {
   "cell_type": "code",
   "execution_count": 43,
   "metadata": {},
   "outputs": [],
   "source": [
    "sigma_bool[np.isin(sigma,sigma_vals_to_use)]=1\n",
    "whs_bool[np.isin(whs,whs_vals_to_use)]=1"
   ]
  },
  {
   "cell_type": "code",
   "execution_count": 46,
   "metadata": {},
   "outputs": [],
   "source": [
    "tif.imsave('/home/emilyjanedennis/Desktop/sigma_ppc_in_PRA.tif',sigma_bool)\n",
    "tif.imsave('/home/emilyjanedennis/Desktop/whs_ppc_in_PRA.tif',whs_bool)"
   ]
  },
  {
   "cell_type": "code",
   "execution_count": null,
   "metadata": {},
   "outputs": [],
   "source": []
  },
  {
   "cell_type": "code",
   "execution_count": 44,
   "metadata": {},
   "outputs": [
    {
     "data": {
      "image/png": "[encoded data removed]",
      "text/plain": [
       "<Figure size 432x288 with 1 Axes>"
      ]
     },
     "metadata": {
      "needs_background": "light"
     },
     "output_type": "display_data"
    }
   ],
   "source": [
    "plt.imshow(whs_bool[:,:,60])\n",
    "plt.show()"
   ]
  }
 ],
 "metadata": {
  "kernelspec": {
   "display_name": "Python 3",
   "language": "python",
   "name": "python3"
  },
  "language_info": {
   "codemirror_mode": {
    "name": "ipython",
    "version": 3
   },
   "file_extension": ".py",
   "mimetype": "text/x-python",
   "name": "python",
   "nbconvert_exporter": "python",
   "pygments_lexer": "ipython3",
   "version": "3.7.3"
  }
 },
 "nbformat": 4,
 "nbformat_minor": 2
}

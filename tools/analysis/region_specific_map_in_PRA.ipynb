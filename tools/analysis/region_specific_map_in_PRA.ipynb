{
 "cells": [
  {
   "cell_type": "code",
   "execution_count": 2,
   "metadata": {},
   "outputs": [],
   "source": [
    "import os,csv,json\n",
    "import numpy as np\n",
    "import matplotlib.pyplot as plt\n",
    "import pandas as pd\n",
    "import sys\n",
    "import SimpleITK as sitk\n",
    "import tifffile as tif\n",
    "import seaborn as sns\n",
    "sys.path.append(\"/home/emilyjanedennis/Desktop/GitHub/rat_BrainPipe/\")\n",
    "#from tools.analysis.transform_points import transform_points"
   ]
  },
  {
   "cell_type": "code",
   "execution_count": 3,
   "metadata": {},
   "outputs": [],
   "source": [
    "#basepath = \"/home/emilyjanedennis/Desktop/for_registration_to_lightsheet/output_dirs\"\n",
    "basepath = \"/Users/emilydennis/Desktop/ratmouse\"\n",
    "# SIGMA annotations \n",
    "sigma_ann_filename = os.path.join(basepath,\"SIGMA_ann_in_PRA_25/SIGMA_in_PRA.tif\")\n",
    "\n",
    "#WHS annotations \n",
    "whs_ann_filename = os.path.join(basepath,\"PMA_ann_in_PRA_25/PMA_ann_in_PRA.tif\")\n"
   ]
  },
  {
   "cell_type": "code",
   "execution_count": 52,
   "metadata": {},
   "outputs": [],
   "source": [
    "sigma =tif.imread(sigma_ann_filename)\n",
    "whs = tif.imread(whs_ann_filename)"
   ]
  },
  {
   "cell_type": "code",
   "execution_count": 47,
   "metadata": {},
   "outputs": [
    {
     "data": {
      "text/plain": [
       "28864"
      ]
     },
     "execution_count": 47,
     "metadata": {},
     "output_type": "execute_result"
    }
   ],
   "source": []
  },
  {
   "cell_type": "code",
   "execution_count": 163,
   "metadata": {},
   "outputs": [],
   "source": [
    "sigma_vals_to_use = [291,292,321,322,331,332,621,622,631,632,641,642]\n",
    "whs_vals_to_use = [421,973,573,613,74,121,593,821,721,778,33,305,750,269,869,902,377,393,805,41,501,565,257,469,312782656,312782592,312782624,669,1074,905,1114,233,601,649,281,1066,401,433,1046,441]"
   ]
  },
  {
   "cell_type": "code",
   "execution_count": 51,
   "metadata": {},
   "outputs": [],
   "source": [
    "sigma_bool = np.zeros(np.shape(sigma))\n",
    "whs_bool = np.zeros(np.shape(whs))"
   ]
  },
  {
   "cell_type": "code",
   "execution_count": 165,
   "metadata": {},
   "outputs": [],
   "source": [
    "sigma_bool[np.isin(sigma,sigma_vals_to_use)]=1\n",
    "whs_bool[np.isin(whs,whs_vals_to_use)]=1"
   ]
  },
  {
   "cell_type": "code",
   "execution_count": 166,
   "metadata": {},
   "outputs": [
    {
     "data": {
      "text/plain": [
       "159945.0"
      ]
     },
     "execution_count": 166,
     "metadata": {},
     "output_type": "execute_result"
    }
   ],
   "source": [
    "np.sum(sigma_bool)-np.sum(whs_bool)"
   ]
  },
  {
   "cell_type": "code",
   "execution_count": 167,
   "metadata": {},
   "outputs": [],
   "source": [
    "tif.imsave(os.path.join(basepath,'sigma_vis_in_PRA.tif'),sigma_bool)\n",
    "tif.imsave(os.path.join(basepath,'pma_vis_in_PRA.tif'),whs_bool)"
   ]
  },
  {
   "cell_type": "code",
   "execution_count": 21,
   "metadata": {},
   "outputs": [
    {
     "data": {
      "image/png": "[encoded data removed]",
      "text/plain": [
       "<Figure size 432x288 with 1 Axes>"
      ]
     },
     "metadata": {
      "needs_background": "light"
     },
     "output_type": "display_data"
    }
   ],
   "source": [
    "plt.imshow(whs_bool[:,:,220])\n",
    "plt.show()"
   ]
  },
  {
   "cell_type": "code",
   "execution_count": 22,
   "metadata": {},
   "outputs": [
    {
     "data": {
      "image/png": "[encoded data removed]",
      "text/plain": [
       "<Figure size 432x288 with 1 Axes>"
      ]
     },
     "metadata": {
      "needs_background": "light"
     },
     "output_type": "display_data"
    }
   ],
   "source": [
    "plt.imshow(sigma_bool[:,:,220])\n",
    "plt.show()"
   ]
  },
  {
   "cell_type": "code",
   "execution_count": 5,
   "metadata": {},
   "outputs": [],
   "source": [
    "# if you want to plot some points (potential injection sites) in multiple atlases\n",
    "xs=[140,127,104,177,142,114,138,178,36,72,154,194,204,36,106,174,154]\n",
    "\n",
    "ys = [186,189,212,251,252,234,236,240,492,596,596,538,436,534,308,222,219]\n",
    "\n",
    "zs = [276,373,373,373,344,323,323,323,351,157,145,153,161,376,416,381,353]"
   ]
  },
  {
   "cell_type": "code",
   "execution_count": 54,
   "metadata": {},
   "outputs": [
    {
     "name": "stdout",
     "output_type": "stream",
     "text": [
      "1162 28864\n"
     ]
    }
   ],
   "source": [
    "sigma_bool = np.array(sigma,copy=True)\n",
    "pma_bool = np.array(whs,copy=True)"
   ]
  },
  {
   "cell_type": "code",
   "execution_count": 56,
   "metadata": {},
   "outputs": [
    {
     "name": "stdout",
     "output_type": "stream",
     "text": [
      "1 1\n",
      "1162 28864\n"
     ]
    }
   ],
   "source": [
    "sigma_bool[sigma_bool!=0]=1\n",
    "pma_bool[pma_bool!=0]=1"
   ]
  },
  {
   "cell_type": "code",
   "execution_count": 57,
   "metadata": {},
   "outputs": [],
   "source": [
    "# for each region you care about, give it a new number\n",
    "vis = 10\n",
    "visc = 20\n",
    "rsp = 100\n",
    "aud = 200\n",
    "ss = 300\n",
    "mo = 400\n",
    "ppc = 500\n",
    "fra = 600\n",
    "ofc = 610\n",
    "pl = 620\n",
    "cg = 630\n",
    "aca = 640\n",
    "\n",
    "\n",
    "#list of regions for each xyz point IN ORDER\n",
    "newsigmalist = [fra,fra,ofc,pl,cg,cg,cg,pl,mo,ppc,aud,aud,aud,ppc,ss,ofc,mo,mo]\n",
    "newpmalist = [fra,mo,mo,ofc,pl,aca,pl,ofc,rsc,aud,aud,visc,visc,vis,mo,ofc,pl]\n",
    "\n",
    "#list of regionIDs for each xyz point IN ORDER\n",
    "sigmalist = [162,162,112,462,502,502,502,462,712,401,491,491,211,312,552,112,712,712]\n",
    "pmalist = [667,962,767,630,363,935,171,582,434,643,1023,857,1058,401,1066,943,630,84]\n"
   ]
  },
  {
   "cell_type": "code",
   "execution_count": 58,
   "metadata": {},
   "outputs": [],
   "source": [
    "for idx in range(0,np.size(newsigmalist)-1):\n",
    "    # for each point, you have a number from each atlas\n",
    "    # and a new number to replace it\n",
    "    sigma_bool[sigma==sigmalist[idx]]=newsigmalist[idx]\n",
    "    pma_bool[whs==pmalist[idx]]=newpmalist[idx]"
   ]
  },
  {
   "cell_type": "code",
   "execution_count": 59,
   "metadata": {},
   "outputs": [
    {
     "name": "stdout",
     "output_type": "stream",
     "text": [
      "630 640\n",
      "1162 28864\n"
     ]
    }
   ],
   "source": [
    "\n",
    "print(np.max(sigma_bool),np.max(pma_bool))\n",
    "print(np.max(sigma),np.max(whs))"
   ]
  },
  {
   "cell_type": "code",
   "execution_count": 60,
   "metadata": {},
   "outputs": [],
   "source": [
    "for idx in range(0,np.size(xs)-1):\n",
    "    sigma_bool[zs[idx],ys[idx],xs[idx]]=1000\n",
    "    pma_bool[zs[idx],ys[idx],xs[idx]]=1000"
   ]
  },
  {
   "cell_type": "code",
   "execution_count": 63,
   "metadata": {},
   "outputs": [],
   "source": [
    "tif.imsave(os.path.join(basepath,'sigma_inj_map.tif'),sigma_bool)\n",
    "tif.imsave(os.path.join(basepath,'pma_inj_map.tif'),pma_bool)"
   ]
  },
  {
   "cell_type": "code",
   "execution_count": null,
   "metadata": {},
   "outputs": [],
   "source": []
  }
 ],
 "metadata": {
  "kernelspec": {
   "display_name": "Python 3",
   "language": "python",
   "name": "python3"
  },
  "language_info": {
   "codemirror_mode": {
    "name": "ipython",
    "version": 3
   },
   "file_extension": ".py",
   "mimetype": "text/x-python",
   "name": "python",
   "nbconvert_exporter": "python",
   "pygments_lexer": "ipython3",
   "version": "3.7.4"
  },
  "toc": {
   "base_numbering": 1,
   "nav_menu": {},
   "number_sections": true,
   "sideBar": true,
   "skip_h1_title": false,
   "title_cell": "Table of Contents",
   "title_sidebar": "Contents",
   "toc_cell": false,
   "toc_position": {},
   "toc_section_display": true,
   "toc_window_display": false
  }
 },
 "nbformat": 4,
 "nbformat_minor": 2
}

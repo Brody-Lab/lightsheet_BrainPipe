{
 "cells": [
  {
   "cell_type": "code",
   "execution_count": 1,
   "metadata": {},
   "outputs": [],
   "source": [
    "import pickle\n",
    "import matplotlib.pyplot as plt\n",
    "import pandas as pd"
   ]
  },
  {
   "cell_type": "code",
   "execution_count": null,
   "metadata": {},
   "outputs": [],
   "source": []
  },
  {
   "cell_type": "code",
   "execution_count": 3,
   "metadata": {},
   "outputs": [],
   "source": [
    "file = open('/home/emilyjanedennis/scratch/clearmap_out/z269/clearmap_cluster_output/cell_detection/cells_jobid_0010.p','rb')\n",
    "test = pickle.load(file)\n"
   ]
  },
  {
   "cell_type": "code",
   "execution_count": 4,
   "metadata": {},
   "outputs": [
    {
     "data": {
      "text/plain": [
       "[(array([[1025, 4919,   19],\n",
       "         [1033, 4791,   18],\n",
       "         [1035, 4835,   19],\n",
       "         ...,\n",
       "         [6619, 4823,   19],\n",
       "         [6620, 4769,   17],\n",
       "         [6623, 4744,   19]]),\n",
       "  array([[1.256e+03, 2.280e+02, 2.280e+02, 1.000e+00],\n",
       "         [8.450e+02, 2.220e+02, 2.220e+02, 1.000e+00],\n",
       "         [1.656e+03, 2.690e+02, 2.690e+02, 1.000e+00],\n",
       "         ...,\n",
       "         [2.119e+03, 2.350e+02, 2.350e+02, 1.000e+00],\n",
       "         [1.548e+03, 2.250e+02, 2.250e+02, 1.000e+00],\n",
       "         [1.473e+03, 2.230e+02, 2.230e+02, 1.000e+00]]))]"
      ]
     },
     "execution_count": 4,
     "metadata": {},
     "output_type": "execute_result"
    }
   ],
   "source": [
    "test"
   ]
  },
  {
   "cell_type": "code",
   "execution_count": null,
   "metadata": {},
   "outputs": [],
   "source": []
  }
 ],
 "metadata": {
  "kernelspec": {
   "display_name": "Python 3",
   "language": "python",
   "name": "python3"
  },
  "language_info": {
   "codemirror_mode": {
    "name": "ipython",
    "version": 3
   },
   "file_extension": ".py",
   "mimetype": "text/x-python",
   "name": "python",
   "nbconvert_exporter": "python",
   "pygments_lexer": "ipython3",
   "version": "3.8.3"
  }
 },
 "nbformat": 4,
 "nbformat_minor": 2
}

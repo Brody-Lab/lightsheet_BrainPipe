{
 "cells": [
  {
   "cell_type": "markdown",
   "metadata": {},
   "source": [
    "# Purpose of this notebook\n",
    "\n",
    "This notebook covers how to convert a custom annotated atlas volume (of the same format as the 'WHS_SD_rat_atlas_v3_annotation.tif' file on bucket) to precomputed format so that you can load it in to Neuroglancer. It then covers how to make a 3d mesh from this volume so that the atlas can be viewed in the 3d viewer within Neuroglancer. It also covers how to convert a CSV file formatted like the 'labels_v3.csv' file on bucket containing the region name mapping for the Rat MRI atlas into JSON format so that Neuroglancer can read it and display the region names.\n",
    "\n",
    "In the following I use the original MRI atlas annotation volume and CSV file as an example. To use custom annotation volume and/or custom CSV file, replace the variables at the top of the notebook with your custom ones. The rest of the notebook should not (hopefully!) need to be changed before running."
   ]
  },
  {
   "cell_type": "markdown",
   "metadata": {},
   "source": [
    "# Setup\n",
    "In order to run the code in this notebook, you will need a conda environment with python3 and containing some additional libraries. This environment \"ng_mriatlas\" can be set up in the following way:\n",
    "In terminal:\n",
    "- conda create -n ng_mriatlas python=3.7.4 -y\n",
    "- conda activate ng_mriatlas # (or source activate ng_mriatlas, depending on which version of conda you have)\n",
    "- pip install cloud-volume\n",
    "- pip install SimpleITK\n",
    "- **pip install neuroglancer==2.8** <br>\n",
    "\n",
    "\\# Optional: if you want 3d meshing following the next steps\n",
    "- git clone https://github.com/seung-lab/igneous.git igneous\n",
    "- cd igneous\n",
    "- pip install -r requirements.txt \n",
    "- python setup.py develop\n",
    "\n",
    "\\# To enable you to use jupyter notebooks to work with this environment as a kernel:\n",
    "- pip install --user ipykernel\n",
    "- python -m ipykernel install --user --name=ng_mriatlas\n",
    "\n",
    "Once this is all installed, make sure to select this conda environment as the kernel when running this notebook (you might have to restart the notebook server)"
   ]
  },
  {
   "cell_type": "code",
   "execution_count": 1,
   "metadata": {},
   "outputs": [],
   "source": [
    "import os,csv,json\n",
    "import numpy as np\n",
    "from cloudvolume import CloudVolume\n",
    "from cloudvolume.lib import mkdir, touch\n",
    "import SimpleITK as sitk\n",
    "import pandas as pd\n",
    "#from concurrent.futures import ProcessPoolExecutor\n",
    "\n",
    "import neuroglancer\n",
    "#from taskqueue import LocalTaskQueue\n",
    "#import igneous.task_creation as tc\n"
   ]
  },
  {
   "cell_type": "code",
   "execution_count": 2,
   "metadata": {},
   "outputs": [
    {
     "name": "stdout",
     "output_type": "stream",
     "text": [
      "created /Users/emilydennis/Desktop/labeltest\n"
     ]
    }
   ],
   "source": [
    "\n",
    "# Point to the csv file mapping region id to region name that you have modified (in this example we point to the original one)\n",
    "annotation_csv_file = '/Users/emilydennis/Desktop/20210220/SIGMA_labels_withPRA.csv'\n",
    "\n",
    "cwd = os.getcwd()\n",
    "layer_dir = '/Users/emilydennis/Desktop/labeltest'\n",
    "# Make the layer directory (mkdir won't overwrite)\n",
    "mkdir(layer_dir)\n",
    "print(f\"created {layer_dir}\")"
   ]
  },
  {
   "cell_type": "markdown",
   "metadata": {},
   "source": [
    "## Step 1: Convert the CSV annotation file into JSON file that Neuroglancer can read"
   ]
  },
  {
   "cell_type": "markdown",
   "metadata": {},
   "source": [
    "This is an example to illustrate what the format of the final dictionary needs to look like:\n",
    "```python\n",
    "{\"@type\": \"neuroglancer_segment_properties\",\n",
    "    \"inline\": {\"ids\": [\"149\"],\n",
    "               \"properties\":[{\"id\": \"label\", \"type\": \"label\", \"values\":\n",
    "                              [\"PVT: Paraventricular nucleus of the thalamus\"]}]}}\n",
    "```\n",
    "We can use this as a skeleton for our example. The only things we need to change are the \"ids\" and \"properties\" to use our ids and our labels"
   ]
  },
  {
   "cell_type": "code",
   "execution_count": 4,
   "metadata": {},
   "outputs": [],
   "source": [
    "csvinfo=pd.read_csv(annotation_csv_file)"
   ]
  },
  {
   "cell_type": "code",
   "execution_count": 5,
   "metadata": {},
   "outputs": [
    {
     "data": {
      "text/html": [
       "<div>\n",
       "<style scoped>\n",
       "    .dataframe tbody tr th:only-of-type {\n",
       "        vertical-align: middle;\n",
       "    }\n",
       "\n",
       "    .dataframe tbody tr th {\n",
       "        vertical-align: top;\n",
       "    }\n",
       "\n",
       "    .dataframe thead th {\n",
       "        text-align: right;\n",
       "    }\n",
       "</style>\n",
       "<table border=\"1\" class=\"dataframe\">\n",
       "  <thead>\n",
       "    <tr style=\"text-align: right;\">\n",
       "      <th></th>\n",
       "      <th>atlas</th>\n",
       "      <th>id</th>\n",
       "      <th>name</th>\n",
       "      <th>praid</th>\n",
       "      <th>parent</th>\n",
       "    </tr>\n",
       "  </thead>\n",
       "  <tbody>\n",
       "    <tr>\n",
       "      <th>0</th>\n",
       "      <td>tohoku</td>\n",
       "      <td>11.0</td>\n",
       "      <td>agranular_dysgranular_insular_cortex</td>\n",
       "      <td>1140.0</td>\n",
       "      <td>insula</td>\n",
       "    </tr>\n",
       "    <tr>\n",
       "      <th>1</th>\n",
       "      <td>tohoku</td>\n",
       "      <td>12.0</td>\n",
       "      <td>agranular_dysgranular_insular_cortex</td>\n",
       "      <td>1140.0</td>\n",
       "      <td>insula</td>\n",
       "    </tr>\n",
       "    <tr>\n",
       "      <th>2</th>\n",
       "      <td>tohoku</td>\n",
       "      <td>21.0</td>\n",
       "      <td>agranular_insular_cortex</td>\n",
       "      <td>1140.0</td>\n",
       "      <td>insula</td>\n",
       "    </tr>\n",
       "    <tr>\n",
       "      <th>3</th>\n",
       "      <td>tohoku</td>\n",
       "      <td>22.0</td>\n",
       "      <td>agranular_insular_cortex</td>\n",
       "      <td>1141.0</td>\n",
       "      <td>insula</td>\n",
       "    </tr>\n",
       "    <tr>\n",
       "      <th>4</th>\n",
       "      <td>tohoku</td>\n",
       "      <td>31.0</td>\n",
       "      <td>amygdalohyppocampic_area</td>\n",
       "      <td>100.0</td>\n",
       "      <td>amygdala</td>\n",
       "    </tr>\n",
       "    <tr>\n",
       "      <th>...</th>\n",
       "      <td>...</td>\n",
       "      <td>...</td>\n",
       "      <td>...</td>\n",
       "      <td>...</td>\n",
       "      <td>...</td>\n",
       "    </tr>\n",
       "    <tr>\n",
       "      <th>269</th>\n",
       "      <td>NaN</td>\n",
       "      <td>NaN</td>\n",
       "      <td>hypothalamus</td>\n",
       "      <td>NaN</td>\n",
       "      <td>cerebrum</td>\n",
       "    </tr>\n",
       "    <tr>\n",
       "      <th>270</th>\n",
       "      <td>NaN</td>\n",
       "      <td>NaN</td>\n",
       "      <td>midbrain_motor</td>\n",
       "      <td>NaN</td>\n",
       "      <td>midbrain</td>\n",
       "    </tr>\n",
       "    <tr>\n",
       "      <th>271</th>\n",
       "      <td>NaN</td>\n",
       "      <td>NaN</td>\n",
       "      <td>orbital</td>\n",
       "      <td>NaN</td>\n",
       "      <td>cortex</td>\n",
       "    </tr>\n",
       "    <tr>\n",
       "      <th>272</th>\n",
       "      <td>NaN</td>\n",
       "      <td>NaN</td>\n",
       "      <td>basal_ganglia</td>\n",
       "      <td>NaN</td>\n",
       "      <td>basal_forebrain</td>\n",
       "    </tr>\n",
       "    <tr>\n",
       "      <th>273</th>\n",
       "      <td>NaN</td>\n",
       "      <td>0.0</td>\n",
       "      <td>unlabeled</td>\n",
       "      <td>NaN</td>\n",
       "      <td>root</td>\n",
       "    </tr>\n",
       "  </tbody>\n",
       "</table>\n",
       "<p>274 rows × 5 columns</p>\n",
       "</div>"
      ],
      "text/plain": [
       "      atlas    id                                  name   praid  \\\n",
       "0    tohoku  11.0  agranular_dysgranular_insular_cortex  1140.0   \n",
       "1    tohoku  12.0  agranular_dysgranular_insular_cortex  1140.0   \n",
       "2    tohoku  21.0              agranular_insular_cortex  1140.0   \n",
       "3    tohoku  22.0              agranular_insular_cortex  1141.0   \n",
       "4    tohoku  31.0              amygdalohyppocampic_area   100.0   \n",
       "..      ...   ...                                   ...     ...   \n",
       "269     NaN   NaN                          hypothalamus     NaN   \n",
       "270     NaN   NaN                        midbrain_motor     NaN   \n",
       "271     NaN   NaN                               orbital     NaN   \n",
       "272     NaN   NaN                         basal_ganglia     NaN   \n",
       "273     NaN   0.0                             unlabeled     NaN   \n",
       "\n",
       "              parent  \n",
       "0             insula  \n",
       "1             insula  \n",
       "2             insula  \n",
       "3             insula  \n",
       "4           amygdala  \n",
       "..               ...  \n",
       "269         cerebrum  \n",
       "270         midbrain  \n",
       "271           cortex  \n",
       "272  basal_forebrain  \n",
       "273             root  \n",
       "\n",
       "[274 rows x 5 columns]"
      ]
     },
     "execution_count": 5,
     "metadata": {},
     "output_type": "execute_result"
    }
   ],
   "source": [
    "csvinfo"
   ]
  },
  {
   "cell_type": "code",
   "execution_count": 14,
   "metadata": {},
   "outputs": [],
   "source": [
    "csvinfo_idnameparent = csvinfo[['id','name','parent']]\n",
    "annotation_dict=csvinfo_idnameparent.to_json('/Users/emilydennis/.brainglobe/PRA_rat_male_25um_v1/structures.json')\n",
    "# let's look at it to make sure it worked"
   ]
  },
  {
   "cell_type": "code",
   "execution_count": 15,
   "metadata": {},
   "outputs": [],
   "source": [
    "example = pd.read_json('/Users/emilydennis/.brainglobe/PRA_rat_male_25um_v1/structures.json')"
   ]
  },
  {
   "cell_type": "code",
   "execution_count": 16,
   "metadata": {},
   "outputs": [
    {
     "data": {
      "text/html": [
       "<div>\n",
       "<style scoped>\n",
       "    .dataframe tbody tr th:only-of-type {\n",
       "        vertical-align: middle;\n",
       "    }\n",
       "\n",
       "    .dataframe tbody tr th {\n",
       "        vertical-align: top;\n",
       "    }\n",
       "\n",
       "    .dataframe thead th {\n",
       "        text-align: right;\n",
       "    }\n",
       "</style>\n",
       "<table border=\"1\" class=\"dataframe\">\n",
       "  <thead>\n",
       "    <tr style=\"text-align: right;\">\n",
       "      <th></th>\n",
       "      <th>id</th>\n",
       "      <th>name</th>\n",
       "      <th>parent</th>\n",
       "    </tr>\n",
       "  </thead>\n",
       "  <tbody>\n",
       "    <tr>\n",
       "      <th>0</th>\n",
       "      <td>11.0</td>\n",
       "      <td>agranular_dysgranular_insular_cortex</td>\n",
       "      <td>insula</td>\n",
       "    </tr>\n",
       "    <tr>\n",
       "      <th>1</th>\n",
       "      <td>12.0</td>\n",
       "      <td>agranular_dysgranular_insular_cortex</td>\n",
       "      <td>insula</td>\n",
       "    </tr>\n",
       "    <tr>\n",
       "      <th>2</th>\n",
       "      <td>21.0</td>\n",
       "      <td>agranular_insular_cortex</td>\n",
       "      <td>insula</td>\n",
       "    </tr>\n",
       "    <tr>\n",
       "      <th>3</th>\n",
       "      <td>22.0</td>\n",
       "      <td>agranular_insular_cortex</td>\n",
       "      <td>insula</td>\n",
       "    </tr>\n",
       "    <tr>\n",
       "      <th>4</th>\n",
       "      <td>31.0</td>\n",
       "      <td>amygdalohyppocampic_area</td>\n",
       "      <td>amygdala</td>\n",
       "    </tr>\n",
       "    <tr>\n",
       "      <th>...</th>\n",
       "      <td>...</td>\n",
       "      <td>...</td>\n",
       "      <td>...</td>\n",
       "    </tr>\n",
       "    <tr>\n",
       "      <th>269</th>\n",
       "      <td>NaN</td>\n",
       "      <td>hypothalamus</td>\n",
       "      <td>cerebrum</td>\n",
       "    </tr>\n",
       "    <tr>\n",
       "      <th>270</th>\n",
       "      <td>NaN</td>\n",
       "      <td>midbrain_motor</td>\n",
       "      <td>midbrain</td>\n",
       "    </tr>\n",
       "    <tr>\n",
       "      <th>271</th>\n",
       "      <td>NaN</td>\n",
       "      <td>orbital</td>\n",
       "      <td>cortex</td>\n",
       "    </tr>\n",
       "    <tr>\n",
       "      <th>272</th>\n",
       "      <td>NaN</td>\n",
       "      <td>basal_ganglia</td>\n",
       "      <td>basal_forebrain</td>\n",
       "    </tr>\n",
       "    <tr>\n",
       "      <th>273</th>\n",
       "      <td>0.0</td>\n",
       "      <td>unlabeled</td>\n",
       "      <td>root</td>\n",
       "    </tr>\n",
       "  </tbody>\n",
       "</table>\n",
       "<p>274 rows × 3 columns</p>\n",
       "</div>"
      ],
      "text/plain": [
       "       id                                  name           parent\n",
       "0    11.0  agranular_dysgranular_insular_cortex           insula\n",
       "1    12.0  agranular_dysgranular_insular_cortex           insula\n",
       "2    21.0              agranular_insular_cortex           insula\n",
       "3    22.0              agranular_insular_cortex           insula\n",
       "4    31.0              amygdalohyppocampic_area         amygdala\n",
       "..    ...                                   ...              ...\n",
       "269   NaN                          hypothalamus         cerebrum\n",
       "270   NaN                        midbrain_motor         midbrain\n",
       "271   NaN                               orbital           cortex\n",
       "272   NaN                         basal_ganglia  basal_forebrain\n",
       "273   0.0                             unlabeled             root\n",
       "\n",
       "[274 rows x 3 columns]"
      ]
     },
     "execution_count": 16,
     "metadata": {},
     "output_type": "execute_result"
    }
   ],
   "source": []
  },
  {
   "cell_type": "code",
   "execution_count": null,
   "metadata": {},
   "outputs": [],
   "source": []
  },
  {
   "cell_type": "code",
   "execution_count": null,
   "metadata": {},
   "outputs": [],
   "source": []
  },
  {
   "cell_type": "code",
   "execution_count": null,
   "metadata": {},
   "outputs": [],
   "source": []
  },
  {
   "cell_type": "code",
   "execution_count": null,
   "metadata": {},
   "outputs": [],
   "source": []
  },
  {
   "cell_type": "code",
   "execution_count": null,
   "metadata": {},
   "outputs": [],
   "source": []
  },
  {
   "cell_type": "code",
   "execution_count": null,
   "metadata": {},
   "outputs": [],
   "source": []
  },
  {
   "cell_type": "code",
   "execution_count": null,
   "metadata": {},
   "outputs": [],
   "source": []
  },
  {
   "cell_type": "markdown",
   "metadata": {},
   "source": [
    "So we see that the IDs are the keys and labels are the values of this dictionary. Now let's make the segment properties dictionary like the skeleton above but now using our proper ids and labels "
   ]
  },
  {
   "cell_type": "code",
   "execution_count": 5,
   "metadata": {},
   "outputs": [],
   "source": [
    "segment_properties_dict = {\"@type\": \"neuroglancer_segment_properties\",\n",
    "    \"inline\": {\"ids\": list(annotation_dict.keys()),\n",
    "               \"properties\":[{\"id\": \"label\", \"type\": \"label\", \"values\":\n",
    "                              list(annotation_dict.values())}]}}"
   ]
  },
  {
   "cell_type": "code",
   "execution_count": 6,
   "metadata": {},
   "outputs": [
    {
     "data": {
      "text/plain": [
       "{'@type': 'neuroglancer_segment_properties',\n",
       " 'inline': {'ids': ['0',\n",
       "   '1',\n",
       "   '2',\n",
       "   '3',\n",
       "   '4',\n",
       "   '5',\n",
       "   '6',\n",
       "   '7',\n",
       "   '10',\n",
       "   '30',\n",
       "   '31',\n",
       "   '32',\n",
       "   '33',\n",
       "   '34',\n",
       "   '35',\n",
       "   '36',\n",
       "   '37',\n",
       "   '38',\n",
       "   '39',\n",
       "   '40',\n",
       "   '41',\n",
       "   '42',\n",
       "   '43',\n",
       "   '45',\n",
       "   '46',\n",
       "   '47',\n",
       "   '48',\n",
       "   '50',\n",
       "   '51',\n",
       "   '52',\n",
       "   '53',\n",
       "   '54',\n",
       "   '55',\n",
       "   '56',\n",
       "   '57',\n",
       "   '58',\n",
       "   '59',\n",
       "   '60',\n",
       "   '61',\n",
       "   '62',\n",
       "   '63',\n",
       "   '64',\n",
       "   '65',\n",
       "   '66',\n",
       "   '67',\n",
       "   '68',\n",
       "   '69',\n",
       "   '70',\n",
       "   '71',\n",
       "   '72',\n",
       "   '73',\n",
       "   '74',\n",
       "   '75',\n",
       "   '76',\n",
       "   '77',\n",
       "   '78',\n",
       "   '79',\n",
       "   '80',\n",
       "   '81',\n",
       "   '82',\n",
       "   '83',\n",
       "   '84',\n",
       "   '85',\n",
       "   '92',\n",
       "   '93',\n",
       "   '94',\n",
       "   '95',\n",
       "   '96',\n",
       "   '97',\n",
       "   '98',\n",
       "   '99',\n",
       "   '100',\n",
       "   '108',\n",
       "   '109',\n",
       "   '110',\n",
       "   '112',\n",
       "   '113',\n",
       "   '114',\n",
       "   '115',\n",
       "   '119',\n",
       "   '120',\n",
       "   '121',\n",
       "   '122',\n",
       "   '123',\n",
       "   '125',\n",
       "   '126',\n",
       "   '127',\n",
       "   '128',\n",
       "   '129',\n",
       "   '130',\n",
       "   '131',\n",
       "   '132',\n",
       "   '133',\n",
       "   '134',\n",
       "   '135',\n",
       "   '136',\n",
       "   '137',\n",
       "   '138',\n",
       "   '139',\n",
       "   '140',\n",
       "   '141',\n",
       "   '142',\n",
       "   '143',\n",
       "   '145',\n",
       "   '146',\n",
       "   '147',\n",
       "   '148',\n",
       "   '149',\n",
       "   '150',\n",
       "   '151',\n",
       "   '152',\n",
       "   '153',\n",
       "   '157',\n",
       "   '158',\n",
       "   '159',\n",
       "   '160',\n",
       "   '162',\n",
       "   '163',\n",
       "   '164'],\n",
       "  'properties': [{'id': 'label',\n",
       "    'type': 'label',\n",
       "    'values': ['Clear Label',\n",
       "     'descending corticofugal pathways',\n",
       "     'substantia nigra',\n",
       "     'subthalamic nucleus',\n",
       "     'molecular layer of the cerebellum',\n",
       "     'granule cell level of the cerebellum',\n",
       "     'alveus of the hippocampus',\n",
       "     'inferior cerebellar peduncle',\n",
       "     'cingulate cortex, area 2',\n",
       "     'striatum',\n",
       "     'globus pallidus',\n",
       "     'entopeduncular nucleus',\n",
       "     'ventricular system',\n",
       "     'medial lemniscus',\n",
       "     'facial nerve',\n",
       "     'anterior commissure, anterior part',\n",
       "     'anterior commissure, posterior part',\n",
       "     'ventral hippocampal commissure',\n",
       "     'thalamus',\n",
       "     'septal region',\n",
       "     'optic nerve',\n",
       "     'optic tract and optic chiasm',\n",
       "     'pineal gland',\n",
       "     'spinal cord',\n",
       "     'commissure of the superior colliculus',\n",
       "     'brainstem',\n",
       "     'hypothalamic region',\n",
       "     'superficial gray layer of the superior colliculus',\n",
       "     'periaqueductal gray',\n",
       "     'fornix',\n",
       "     'mammillothalamic tract',\n",
       "     'commissural stria terminalis',\n",
       "     'deeper layers of the superior colliculus',\n",
       "     'periventricular gray',\n",
       "     'genu of the facial nerve',\n",
       "     'pontine nuclei',\n",
       "     'fimbria of the hippocampus',\n",
       "     'fasciculus retroflexus',\n",
       "     'stria medullaris of the thalamus',\n",
       "     'stria terminalis',\n",
       "     'posterior commissure',\n",
       "     'glomerular layer of the accessory olfactory bulb',\n",
       "     'glomerular layer of the olfactory bulb',\n",
       "     'olfactory bulb',\n",
       "     'corpus callosum and associated subcortical white matter',\n",
       "     'brachium of the superior colliculus',\n",
       "     'inferior colliculus, commissure',\n",
       "     'central canal',\n",
       "     'interpeduncular nucleus',\n",
       "     'ascending fibers of the facial nerve',\n",
       "     'anterior commissure',\n",
       "     'inferior olive',\n",
       "     'spinal trigeminal nucleus',\n",
       "     'spinal trigeminal tract',\n",
       "     'frontal association cortex',\n",
       "     'middle cerebellar peduncle',\n",
       "     'transverse fibers of the pons',\n",
       "     'habenular commissure',\n",
       "     'nucleus of the stria medullaris',\n",
       "     'basal forebrain region',\n",
       "     'supraoptic decussation',\n",
       "     'medial lemniscus decussation',\n",
       "     'pyramidal decussation',\n",
       "     'neocortex',\n",
       "     'bed nucleus of the stria terminalis',\n",
       "     'pretectal region',\n",
       "     'cornu ammonis 3',\n",
       "     'dentate gyrus',\n",
       "     'cornu ammonis 2',\n",
       "     'cornu ammonis 1',\n",
       "     'fasciola cinereum',\n",
       "     'subiculum',\n",
       "     'postrhinal cortex',\n",
       "     'presubiculum',\n",
       "     'parasubiculum',\n",
       "     'perirhinal area 35',\n",
       "     'perirhinal area 36',\n",
       "     'entorhinal cortex',\n",
       "     'lateral entorhinal cortex',\n",
       "     'vestibular apparatus',\n",
       "     'cochlea',\n",
       "     'cochlear nerve',\n",
       "     'vestibular nerve',\n",
       "     'ventral cochlear nucleus, granule cell layer',\n",
       "     '4th ventricle',\n",
       "     'dorsal cochlear nucleus, molecular layer',\n",
       "     'dorsal cochlear nucleus, fusiform and granule layer',\n",
       "     'dorsal cochlear nucleus, deep core',\n",
       "     'acoustic striae',\n",
       "     'trapezoid body',\n",
       "     'nucleus of the trapezoid body',\n",
       "     'superior paraolivary nucleus',\n",
       "     'medial superior olive',\n",
       "     'lateral superior olive',\n",
       "     'superior periolivary region',\n",
       "     'ventral periolivary nuclei',\n",
       "     'lateral lemniscus, ventral nucleus',\n",
       "     'lateral lemniscus, intermediate nucleus',\n",
       "     'lateral lemniscus, dorsal nucleus',\n",
       "     'lateral lemniscus, commissure',\n",
       "     'lateral lemniscus',\n",
       "     'inferior colliculus, dorsal cortex',\n",
       "     'inferior colliculus, central nucleus',\n",
       "     'inferior colliculus, external cortex',\n",
       "     'inferior colliculus, brachium',\n",
       "     'medial geniculate body, medial division',\n",
       "     'medial geniculate body, dorsal division',\n",
       "     'medial geniculate body, ventral division',\n",
       "     'medial geniculate body, marginal zone',\n",
       "     'primary auditory cortex',\n",
       "     'secondary auditory cortex, dorsal area',\n",
       "     'secondary auditory cortex, ventral area',\n",
       "     'auditory radiation',\n",
       "     'ventral cochlear nucleus, anterior part',\n",
       "     'ventral cochlear nucleus, posterior part',\n",
       "     'ventral cochlear nucleus, cap area',\n",
       "     'spiral ganglion',\n",
       "     'nucleus sagulum',\n",
       "     'reticular thalamic nucleus, auditory segment']}]}}"
      ]
     },
     "execution_count": 6,
     "metadata": {},
     "output_type": "execute_result"
    }
   ],
   "source": [
    "# inspect it to make sure it worked\n",
    "segment_properties_dict"
   ]
  },
  {
   "cell_type": "markdown",
   "metadata": {},
   "source": [
    "Now all we need to do is save this as a file called \"info\" in a subfolder of our main layer directory called \"segment_properties\""
   ]
  },
  {
   "cell_type": "code",
   "execution_count": 7,
   "metadata": {},
   "outputs": [
    {
     "name": "stdout",
     "output_type": "stream",
     "text": [
      "Saved /home/emilyjanedennis/Desktop/GitHub/ng/mri/segment_properties/info\n"
     ]
    }
   ],
   "source": [
    "filename = os.path.join(layer_dir,\"segment_properties\",\"info\")\n",
    "with open(filename,'w') as outfile:\n",
    "    json.dump(segment_properties_dict,outfile,indent=2)\n",
    "print(f\"Saved {filename}\")"
   ]
  },
  {
   "cell_type": "code",
   "execution_count": 8,
   "metadata": {},
   "outputs": [],
   "source": [
    "# Feel free to inspect that file yourself to make sure it looks like the segment_properties_dict above"
   ]
  },
  {
   "cell_type": "markdown",
   "metadata": {},
   "source": [
    "## Step 2: Write the instructions (\"info\") file that will tell Neuroglancer about your annotation volume and the annotation label file you just created\n",
    "In the last step we created an info file inside the \"segment_properties\" subdirectory of our layer. Now we need to create an info file in the layer directory itself. This info file is also a JSON file, but it contains more general things about our layer like the shape and physical resolution of the volume. It will also have an instruction on where to find our segment properties info file that we just made. "
   ]
  },
  {
   "cell_type": "code",
   "execution_count": 9,
   "metadata": {},
   "outputs": [],
   "source": [
    "def make_info_file(resolution_xyz,volume_size_xyz,layer_dir):\n",
    "    \"\"\" Make an JSON-formatted file called the \"info\" file\n",
    "    for use with the precomputed data format. \n",
    "    Precomputed is one of the formats that Neuroglancer can read in.  \n",
    "    --- parameters ---\n",
    "    resolution_xyz:      A tuple representing the size of the pixels (dx,dy,dz) \n",
    "                         in nanometers, e.g. (20000,20000,5000) for 20 micron x 20 micron x 5 micron\n",
    "    \n",
    "    volume_size_xyz:     A tuple representing the number of pixels in each dimension (Nx,Ny,Nz)\n",
    "\n",
    "                         \n",
    "    layer_dir:           The directory where the precomputed data will be\n",
    "                         saved\n",
    "    \"\"\"\n",
    "    info = CloudVolume.create_new_info(\n",
    "        num_channels = 1,\n",
    "        layer_type = 'image', # 'image' or 'segmentation'\n",
    "        data_type = 'uint16', # 32-bit not necessary for atlases unless you have > 2^(32)-1 labels. Use smallest possible  \n",
    "        encoding = 'raw', # other options: 'jpeg', 'compressed_segmentation' (req. uint32 or uint64)\n",
    "        resolution = resolution_xyz, # X,Y,Z values in nanometers, 40 microns in each dim\n",
    "        voxel_offset = [ 0, 0, 0 ], # values X,Y,Z values in voxels\n",
    "        chunk_size = [ 1024, 1024, 1 ], # rechunk of image X,Y,Z in voxels.\n",
    "        volume_size = volume_size_xyz, # X,Y,Z size in voxels\n",
    "    )\n",
    "\n",
    "    vol = CloudVolume(f'file://{layer_dir}', info=info)\n",
    "    vol.provenance.description = \"A test info file\" # can change this if you want a description\n",
    "    vol.provenance.owners = [''] # list of contact email addresses\n",
    "    # Saves the info and provenance files for the first time\n",
    "    vol.commit_info() # generates file://bucket/dataset/layer/info json file\n",
    "    vol.commit_provenance() # generates file://bucket/dataset/layer/provenance json file\n",
    "    # add a key for the segment properties that points to the directory that holds the segment properties info file\n",
    "    info_dict = vol.info\n",
    "    info_dict['segment_properties'] = \"segment_properties\"\n",
    "    info_filename = '/'.join(vol.info_cloudpath.split('/')[2:]) \n",
    "    with open(info_filename,'w') as outfile:\n",
    "        json.dump(info_dict,outfile,sort_keys=True,indent=2)\n",
    "    print(\"Created CloudVolume info file: \",vol.info_cloudpath)\n",
    "\n",
    "    return vol"
   ]
  },
  {
   "cell_type": "code",
   "execution_count": 10,
   "metadata": {},
   "outputs": [
    {
     "name": "stdout",
     "output_type": "stream",
     "text": [
      "Created CloudVolume info file:  file:///home/emilyjanedennis/Desktop/GitHub/ng/mri/info\n"
     ]
    }
   ],
   "source": [
    "## Make the info file\n",
    "\n",
    "# The MRI atlas has 39 micron isotropic resolution - we need nanometers though\n",
    "resolution_xyz = (39000,39000,39000)\n",
    "# Load the MRI annotation volume into memory and get its shape \n",
    "annotation_vol = np.array(sitk.GetArrayFromImage(\n",
    "    sitk.ReadImage(custom_annotation_vol_path)),dtype=np.uint16,order='F')\n",
    "z_dim,y_dim,x_dim = annotation_vol.shape\n",
    "volume_size_xyz = (x_dim,y_dim,z_dim)\n",
    "\n",
    "# Write the info file\n",
    "vol = make_info_file(\n",
    "    resolution_xyz=resolution_xyz,\n",
    "    volume_size_xyz=volume_size_xyz,\n",
    "    layer_dir=layer_dir)\n"
   ]
  },
  {
   "cell_type": "markdown",
   "metadata": {},
   "source": [
    "# Step 3: Convert annotation volume to precomputed data format\n",
    "First we create a directory (the \"progress_dir\") at the same folder level as the layer directory to keep track of the progress of the conversion. \n",
    "All the conversion does is copy the numpy array representing the 3d volume to a new object \"vol\". This is done one plane at a time (although it is parallelized). As each plane is converted, an empty file is created in the progress_dir with the name of the plane. By the end of the conversion, there should be as many files in this progress_dir as there are z planes. "
   ]
  },
  {
   "cell_type": "code",
   "execution_count": 11,
   "metadata": {},
   "outputs": [
    {
     "name": "stdout",
     "output_type": "stream",
     "text": [
      "created directory: /home/emilyjanedennis/Desktop/GitHub/ng/progress_mri\n"
     ]
    }
   ],
   "source": [
    "layer_name = layer_dir.split('/')[-1]\n",
    "parent_dir = '/'.join(layer_dir.split('/')[:-1])\n",
    "progress_dir = mkdir(parent_dir+ f'/progress_{layer_name}') # unlike os.mkdir doesn't crash on prexisting \n",
    "print(f\"created directory: {progress_dir}\")"
   ]
  },
  {
   "cell_type": "code",
   "execution_count": 12,
   "metadata": {},
   "outputs": [],
   "source": [
    "def process_slice(z):\n",
    "    \"\"\" This function copies a 2d image slice from the atlas volume\n",
    "    to the cloudvolume object, vol. We will run this in parallel over \n",
    "    all z planes\n",
    "    ---parameters---\n",
    "    z:    An integer representing the 0-indexed z plane to be converted\n",
    "    \"\"\"\n",
    "    if os.path.exists(os.path.join(progress_dir, str(z))):\n",
    "        print(f\"Slice {z} already processed, skipping \")\n",
    "        return\n",
    "    if z >= z_dim: # z is zero indexed and runs from 0-(z_dim-1)\n",
    "        print(\"Index {z} >= z_dim of volume, skipping\")\n",
    "        return\n",
    "    print('Processing slice z=',z)\n",
    "    array = annotation_vol[z].reshape((1,y_dim,x_dim)).T\n",
    "    vol[:,:, z] = array\n",
    "    touch(os.path.join(progress_dir, str(z)))\n",
    "    return \"success\"\n"
   ]
  },
  {
   "cell_type": "code",
   "execution_count": 13,
   "metadata": {},
   "outputs": [
    {
     "name": "stdout",
     "output_type": "stream",
     "text": [
      "Have 455 planes to upload\n",
      "Processing slice z=\n",
      " 0\n",
      "Processing slice z=Processing slice z=Processing slice z=Processing slice z=    1243"
     ]
    },
    {
     "name": "stderr",
     "output_type": "stream",
     "text": [
      "\r",
      "Uploading:   0%|          | 0/1 [00:00<?, ?it/s]"
     ]
    },
    {
     "name": "stdout",
     "output_type": "stream",
     "text": [
      "\n",
      "Processing slice z=\n",
      "\n",
      "Processing slice z= Processing slice z= 6 5\n",
      "\n"
     ]
    },
    {
     "name": "stderr",
     "output_type": "stream",
     "text": [
      "\r",
      "Uploading:   0%|          | 0/1 [00:00<?, ?it/s]"
     ]
    },
    {
     "name": "stdout",
     "output_type": "stream",
     "text": [
      "7"
     ]
    },
    {
     "name": "stderr",
     "output_type": "stream",
     "text": [
      "\r",
      "Uploading:   0%|          | 0/1 [00:00<?, ?it/s]"
     ]
    },
    {
     "name": "stdout",
     "output_type": "stream",
     "text": [
      "\n"
     ]
    },
    {
     "name": "stderr",
     "output_type": "stream",
     "text": [
      "Uploading: 100%|██████████| 1/1 [00:00<00:00,  8.14it/s]\n"
     ]
    },
    {
     "name": "stdout",
     "output_type": "stream",
     "text": [
      "Processing slice z="
     ]
    },
    {
     "name": "stderr",
     "output_type": "stream",
     "text": [
      "\r",
      "Uploading: 100%|██████████| 1/1 [00:00<00:00,  8.66it/s]"
     ]
    },
    {
     "name": "stdout",
     "output_type": "stream",
     "text": [
      " "
     ]
    },
    {
     "name": "stderr",
     "output_type": "stream",
     "text": [
      "Uploading: 100%|██████████| 1/1 [00:00<00:00,  8.78it/s]\n",
      "Uploading: 100%|██████████| 1/1 [00:00<00:00,  8.84it/s]"
     ]
    },
    {
     "name": "stdout",
     "output_type": "stream",
     "text": [
      "8"
     ]
    },
    {
     "name": "stderr",
     "output_type": "stream",
     "text": [
      "\n",
      "\n"
     ]
    },
    {
     "name": "stdout",
     "output_type": "stream",
     "text": [
      "\n",
      "Processing slice z=Processing slice z= "
     ]
    },
    {
     "name": "stderr",
     "output_type": "stream",
     "text": [
      "\r",
      "Uploading: 100%|██████████| 1/1 [00:00<00:00,  8.57it/s]"
     ]
    },
    {
     "name": "stdout",
     "output_type": "stream",
     "text": [
      " Processing slice z="
     ]
    },
    {
     "name": "stderr",
     "output_type": "stream",
     "text": [
      "\r",
      "Uploading: 100%|██████████| 1/1 [00:00<00:00,  8.74it/s]"
     ]
    },
    {
     "name": "stdout",
     "output_type": "stream",
     "text": [
      "109"
     ]
    },
    {
     "name": "stderr",
     "output_type": "stream",
     "text": [
      "\n",
      "\n"
     ]
    },
    {
     "name": "stdout",
     "output_type": "stream",
     "text": [
      "\n",
      " "
     ]
    },
    {
     "name": "stderr",
     "output_type": "stream",
     "text": [
      "\r",
      "Uploading: 100%|██████████| 1/1 [00:00<00:00,  8.65it/s]"
     ]
    },
    {
     "name": "stdout",
     "output_type": "stream",
     "text": [
      "\n"
     ]
    },
    {
     "name": "stderr",
     "output_type": "stream",
     "text": [
      "\n",
      "Uploading:   0%|          | 0/1 [00:00<?, ?it/s]"
     ]
    },
    {
     "name": "stdout",
     "output_type": "stream",
     "text": [
      "11Processing slice z=Processing slice z=\n"
     ]
    },
    {
     "name": "stderr",
     "output_type": "stream",
     "text": [
      "Uploading:   0%|          | 0/1 [00:00<?, ?it/s].65it/s]"
     ]
    },
    {
     "name": "stdout",
     "output_type": "stream",
     "text": [
      "Processing slice z=  "
     ]
    },
    {
     "name": "stderr",
     "output_type": "stream",
     "text": [
      "\n"
     ]
    },
    {
     "name": "stdout",
     "output_type": "stream",
     "text": [
      " 1213Processing slice z=14"
     ]
    },
    {
     "name": "stderr",
     "output_type": "stream",
     "text": [
      "\r",
      "Uploading:   0%|          | 0/1 [00:00<?, ?it/s]"
     ]
    },
    {
     "name": "stdout",
     "output_type": "stream",
     "text": [
      "\n",
      "\n",
      "\n",
      " "
     ]
    },
    {
     "name": "stderr",
     "output_type": "stream",
     "text": [
      "\r",
      "Uploading:   0%|          | 0/1 [00:00<?, ?it/s]"
     ]
    },
    {
     "name": "stdout",
     "output_type": "stream",
     "text": [
      "15\n"
     ]
    },
    {
     "name": "stderr",
     "output_type": "stream",
     "text": [
      "Uploading: 100%|██████████| 1/1 [00:00<00:00,  8.65it/s]\n"
     ]
    },
    {
     "name": "stdout",
     "output_type": "stream",
     "text": [
      "Processing slice z="
     ]
    },
    {
     "name": "stderr",
     "output_type": "stream",
     "text": [
      "\r",
      "Uploading: 100%|██████████| 1/1 [00:00<00:00,  8.62it/s]"
     ]
    },
    {
     "name": "stdout",
     "output_type": "stream",
     "text": [
      " "
     ]
    },
    {
     "name": "stderr",
     "output_type": "stream",
     "text": [
      "\n"
     ]
    },
    {
     "name": "stdout",
     "output_type": "stream",
     "text": [
      "16"
     ]
    },
    {
     "name": "stderr",
     "output_type": "stream",
     "text": [
      "\r",
      "Uploading: 100%|██████████| 1/1 [00:00<00:00,  8.60it/s]"
     ]
    },
    {
     "name": "stdout",
     "output_type": "stream",
     "text": [
      "Processing slice z=\n"
     ]
    },
    {
     "name": "stderr",
     "output_type": "stream",
     "text": [
      "\n"
     ]
    },
    {
     "name": "stdout",
     "output_type": "stream",
     "text": [
      " 17"
     ]
    },
    {
     "name": "stderr",
     "output_type": "stream",
     "text": [
      "\r",
      "Uploading: 100%|██████████| 1/1 [00:00<00:00,  8.84it/s]"
     ]
    },
    {
     "name": "stdout",
     "output_type": "stream",
     "text": [
      "Processing slice z=\n",
      " "
     ]
    },
    {
     "name": "stderr",
     "output_type": "stream",
     "text": [
      "\n"
     ]
    },
    {
     "name": "stdout",
     "output_type": "stream",
     "text": [
      "18"
     ]
    },
    {
     "name": "stderr",
     "output_type": "stream",
     "text": [
      "Uploading:   0%|          | 0/1 [00:00<?, ?it/s].78it/s]"
     ]
    },
    {
     "name": "stdout",
     "output_type": "stream",
     "text": [
      "Processing slice z="
     ]
    },
    {
     "name": "stderr",
     "output_type": "stream",
     "text": [
      "\n",
      "Uploading: 100%|██████████| 1/1 [00:00<00:00,  8.57it/s]"
     ]
    },
    {
     "name": "stdout",
     "output_type": "stream",
     "text": [
      " \n"
     ]
    },
    {
     "name": "stderr",
     "output_type": "stream",
     "text": [
      "\n"
     ]
    },
    {
     "name": "stdout",
     "output_type": "stream",
     "text": [
      "Processing slice z="
     ]
    },
    {
     "name": "stderr",
     "output_type": "stream",
     "text": [
      "\r",
      "Uploading:   0%|          | 0/1 [00:00<?, ?it/s]"
     ]
    },
    {
     "name": "stdout",
     "output_type": "stream",
     "text": [
      "19"
     ]
    },
    {
     "name": "stderr",
     "output_type": "stream",
     "text": [
      "\n"
     ]
    },
    {
     "name": "stdout",
     "output_type": "stream",
     "text": [
      " Processing slice z=20\n",
      "Processing slice z=\n",
      " "
     ]
    },
    {
     "name": "stderr",
     "output_type": "stream",
     "text": [
      "\r",
      "Uploading: 100%|██████████| 1/1 [00:00<00:00,  8.02it/s]"
     ]
    },
    {
     "name": "stdout",
     "output_type": "stream",
     "text": [
      " "
     ]
    },
    {
     "name": "stderr",
     "output_type": "stream",
     "text": [
      "Uploading:   0%|          | 0/1 [00:00<?, ?it/s]\n"
     ]
    },
    {
     "name": "stdout",
     "output_type": "stream",
     "text": [
      "22Processing slice z=\n",
      " 21\n"
     ]
    },
    {
     "name": "stderr",
     "output_type": "stream",
     "text": [
      "\r",
      "Uploading:   0%|          | 0/1 [00:00<?, ?it/s]"
     ]
    },
    {
     "name": "stdout",
     "output_type": "stream",
     "text": [
      "23\n"
     ]
    },
    {
     "name": "stderr",
     "output_type": "stream",
     "text": [
      "Uploading:   0%|          | 0/1 [00:00<?, ?it/s]"
     ]
    },
    {
     "name": "stdout",
     "output_type": "stream",
     "text": [
      "success\n",
      "success\n",
      "success\n",
      "success\n",
      "success\n",
      "success\n",
      "success\n",
      "success\n",
      "success\n",
      "success\n",
      "success\n",
      "success\n",
      "success\n",
      "success\n",
      "success\n",
      "success\n"
     ]
    },
    {
     "name": "stderr",
     "output_type": "stream",
     "text": [
      "Uploading: 100%|██████████| 1/1 [00:00<00:00,  9.02it/s]\n"
     ]
    },
    {
     "name": "stdout",
     "output_type": "stream",
     "text": [
      "Processing slice z= 24"
     ]
    },
    {
     "name": "stderr",
     "output_type": "stream",
     "text": [
      "\r",
      "Uploading: 100%|██████████| 1/1 [00:00<00:00,  8.85it/s]"
     ]
    },
    {
     "name": "stdout",
     "output_type": "stream",
     "text": [
      "\n"
     ]
    },
    {
     "name": "stderr",
     "output_type": "stream",
     "text": [
      "\n"
     ]
    },
    {
     "name": "stdout",
     "output_type": "stream",
     "text": [
      "Processing slice z= "
     ]
    },
    {
     "name": "stderr",
     "output_type": "stream",
     "text": [
      "\r",
      "Uploading:   0%|          | 0/1 [00:00<?, ?it/s]"
     ]
    },
    {
     "name": "stdout",
     "output_type": "stream",
     "text": [
      "25\n"
     ]
    },
    {
     "name": "stderr",
     "output_type": "stream",
     "text": [
      "Uploading: 100%|██████████| 1/1 [00:00<00:00,  8.66it/s]\n",
      "Uploading: 100%|██████████| 1/1 [00:00<00:00,  8.26it/s]\n",
      "\n"
     ]
    },
    {
     "name": "stdout",
     "output_type": "stream",
     "text": [
      "Processing slice z=Processing slice z=Processing slice z= "
     ]
    },
    {
     "name": "stderr",
     "output_type": "stream",
     "text": [
      "\r",
      "Uploading: 100%|██████████| 1/1 [00:00<00:00,  8.66it/s]"
     ]
    },
    {
     "name": "stdout",
     "output_type": "stream",
     "text": [
      "  "
     ]
    },
    {
     "name": "stderr",
     "output_type": "stream",
     "text": [
      "Uploading: 100%|██████████| 1/1 [00:00<00:00,  8.44it/s]\n"
     ]
    },
    {
     "name": "stdout",
     "output_type": "stream",
     "text": [
      "262827"
     ]
    },
    {
     "name": "stderr",
     "output_type": "stream",
     "text": [
      "\n",
      "Uploading: 100%|██████████| 1/1 [00:00<00:00,  8.49it/s]"
     ]
    },
    {
     "name": "stdout",
     "output_type": "stream",
     "text": [
      "Processing slice z="
     ]
    },
    {
     "name": "stderr",
     "output_type": "stream",
     "text": [
      "\n"
     ]
    },
    {
     "name": "stdout",
     "output_type": "stream",
     "text": [
      "\n",
      "\n",
      "Processing slice z= Processing slice z=29\n",
      "  "
     ]
    },
    {
     "name": "stderr",
     "output_type": "stream",
     "text": [
      "\r",
      "Uploading:   0%|          | 0/1 [00:00<?, ?it/s]"
     ]
    },
    {
     "name": "stdout",
     "output_type": "stream",
     "text": [
      "\n",
      "31"
     ]
    },
    {
     "name": "stderr",
     "output_type": "stream",
     "text": [
      "\r",
      "Uploading:   0%|          | 0/1 [00:00<?, ?it/s]"
     ]
    },
    {
     "name": "stdout",
     "output_type": "stream",
     "text": [
      "30\n",
      "\n"
     ]
    },
    {
     "name": "stderr",
     "output_type": "stream",
     "text": [
      "Uploading: 100%|██████████| 1/1 [00:00<00:00,  9.19it/s]\n"
     ]
    },
    {
     "name": "stdout",
     "output_type": "stream",
     "text": [
      "Processing slice z= 32\n"
     ]
    },
    {
     "name": "stderr",
     "output_type": "stream",
     "text": [
      "Uploading:   0%|          | 0/1 [00:00<?, ?it/s].67it/s]\n"
     ]
    },
    {
     "name": "stdout",
     "output_type": "stream",
     "text": [
      "Processing slice z= 33\n"
     ]
    },
    {
     "name": "stderr",
     "output_type": "stream",
     "text": [
      "Uploading: 100%|██████████| 1/1 [00:00<00:00,  8.58it/s]\n",
      "\n"
     ]
    },
    {
     "name": "stdout",
     "output_type": "stream",
     "text": [
      "Processing slice z=Processing slice z= "
     ]
    },
    {
     "name": "stderr",
     "output_type": "stream",
     "text": [
      "\r",
      "Uploading: 100%|██████████| 1/1 [00:00<00:00,  8.39it/s]"
     ]
    },
    {
     "name": "stdout",
     "output_type": "stream",
     "text": [
      " "
     ]
    },
    {
     "name": "stderr",
     "output_type": "stream",
     "text": [
      "\n"
     ]
    },
    {
     "name": "stdout",
     "output_type": "stream",
     "text": [
      "3435\n",
      "Processing slice z=\n",
      " 36"
     ]
    },
    {
     "name": "stderr",
     "output_type": "stream",
     "text": [
      "Uploading:   0%|          | 0/1 [00:00<?, ?it/s].10it/s]"
     ]
    },
    {
     "name": "stdout",
     "output_type": "stream",
     "text": [
      "\n"
     ]
    },
    {
     "name": "stderr",
     "output_type": "stream",
     "text": [
      "\n",
      "Uploading:   0%|          | 0/1 [00:00<?, ?it/s]\n"
     ]
    },
    {
     "name": "stdout",
     "output_type": "stream",
     "text": [
      "Processing slice z="
     ]
    },
    {
     "name": "stderr",
     "output_type": "stream",
     "text": [
      "\r",
      "Uploading: 100%|██████████| 1/1 [00:00<00:00,  7.89it/s]"
     ]
    },
    {
     "name": "stdout",
     "output_type": "stream",
     "text": [
      "Processing slice z= "
     ]
    },
    {
     "name": "stderr",
     "output_type": "stream",
     "text": [
      "\n"
     ]
    },
    {
     "name": "stdout",
     "output_type": "stream",
     "text": [
      " "
     ]
    },
    {
     "name": "stderr",
     "output_type": "stream",
     "text": [
      "\r",
      "Uploading:   0%|          | 0/1 [00:00<?, ?it/s]"
     ]
    },
    {
     "name": "stdout",
     "output_type": "stream",
     "text": [
      "38Processing slice z=37 \n",
      "39\n",
      "\n"
     ]
    },
    {
     "name": "stderr",
     "output_type": "stream",
     "text": [
      "Uploading:   0%|          | 0/1 [00:00<?, ?it/s]"
     ]
    },
    {
     "name": "stdout",
     "output_type": "stream",
     "text": [
      "success\n",
      "success\n",
      "success\n",
      "success\n",
      "success\n",
      "success\n",
      "success\n",
      "success\n",
      "success\n",
      "success\n",
      "success\n",
      "success\n",
      "success\n",
      "success\n",
      "success\n",
      "success\n"
     ]
    },
    {
     "name": "stderr",
     "output_type": "stream",
     "text": [
      "Uploading: 100%|██████████| 1/1 [00:00<00:00,  9.08it/s]\n"
     ]
    },
    {
     "name": "stdout",
     "output_type": "stream",
     "text": [
      "Processing slice z= 40\n"
     ]
    },
    {
     "name": "stderr",
     "output_type": "stream",
     "text": [
      "Uploading: 100%|██████████| 1/1 [00:00<00:00,  9.12it/s]\n"
     ]
    },
    {
     "name": "stdout",
     "output_type": "stream",
     "text": [
      "Processing slice z="
     ]
    },
    {
     "name": "stderr",
     "output_type": "stream",
     "text": [
      "\r",
      "Uploading:   0%|          | 0/1 [00:00<?, ?it/s]"
     ]
    },
    {
     "name": "stdout",
     "output_type": "stream",
     "text": [
      " 41\n"
     ]
    },
    {
     "name": "stderr",
     "output_type": "stream",
     "text": [
      "Uploading: 100%|██████████| 1/1 [00:00<00:00,  8.75it/s]\n",
      "\n"
     ]
    },
    {
     "name": "stdout",
     "output_type": "stream",
     "text": [
      "Processing slice z=Processing slice z=  4342\n",
      "\n"
     ]
    },
    {
     "name": "stderr",
     "output_type": "stream",
     "text": [
      "Uploading: 100%|██████████| 1/1 [00:00<00:00,  8.02it/s]\n"
     ]
    },
    {
     "name": "stdout",
     "output_type": "stream",
     "text": [
      "Processing slice z= "
     ]
    },
    {
     "name": "stderr",
     "output_type": "stream",
     "text": [
      "Uploading: 100%|██████████| 1/1 [00:00<00:00,  8.25it/s]"
     ]
    },
    {
     "name": "stdout",
     "output_type": "stream",
     "text": [
      "44"
     ]
    },
    {
     "name": "stderr",
     "output_type": "stream",
     "text": [
      "\n",
      "\n"
     ]
    },
    {
     "name": "stdout",
     "output_type": "stream",
     "text": [
      "\n",
      "Processing slice z=Processing slice z="
     ]
    },
    {
     "name": "stderr",
     "output_type": "stream",
     "text": [
      "\r",
      "Uploading: 100%|██████████| 1/1 [00:00<00:00,  8.50it/s]"
     ]
    },
    {
     "name": "stdout",
     "output_type": "stream",
     "text": [
      " "
     ]
    },
    {
     "name": "stderr",
     "output_type": "stream",
     "text": [
      "\n"
     ]
    },
    {
     "name": "stdout",
     "output_type": "stream",
     "text": [
      " "
     ]
    },
    {
     "name": "stderr",
     "output_type": "stream",
     "text": [
      "\r",
      "Uploading:   0%|          | 0/1 [00:00<?, ?it/s]"
     ]
    },
    {
     "name": "stdout",
     "output_type": "stream",
     "text": [
      "Processing slice z=4546 \n",
      "47\n",
      "\n"
     ]
    },
    {
     "name": "stderr",
     "output_type": "stream",
     "text": [
      "Uploading: 100%|██████████| 1/1 [00:00<00:00,  9.35it/s]\n"
     ]
    },
    {
     "name": "stdout",
     "output_type": "stream",
     "text": [
      "Processing slice z= 48\n"
     ]
    },
    {
     "name": "stderr",
     "output_type": "stream",
     "text": [
      "Uploading: 100%|██████████| 1/1 [00:00<00:00,  9.43it/s]\n",
      "Uploading:   0%|          | 0/1 [00:00<?, ?it/s]"
     ]
    },
    {
     "name": "stdout",
     "output_type": "stream",
     "text": [
      "Processing slice z= 49\n"
     ]
    },
    {
     "name": "stderr",
     "output_type": "stream",
     "text": [
      "Uploading: 100%|██████████| 1/1 [00:00<00:00,  9.12it/s]\n"
     ]
    },
    {
     "name": "stdout",
     "output_type": "stream",
     "text": [
      "Processing slice z= 50"
     ]
    },
    {
     "name": "stderr",
     "output_type": "stream",
     "text": [
      "\n"
     ]
    },
    {
     "name": "stdout",
     "output_type": "stream",
     "text": [
      "\n",
      "Processing slice z= 51\n"
     ]
    },
    {
     "name": "stderr",
     "output_type": "stream",
     "text": [
      "Uploading: 100%|██████████| 1/1 [00:00<00:00,  8.40it/s]\n"
     ]
    },
    {
     "name": "stdout",
     "output_type": "stream",
     "text": [
      "Processing slice z= 52\n"
     ]
    },
    {
     "name": "stderr",
     "output_type": "stream",
     "text": [
      "Uploading: 100%|██████████| 1/1 [00:00<00:00,  8.56it/s]\n"
     ]
    },
    {
     "name": "stdout",
     "output_type": "stream",
     "text": [
      "Processing slice z= "
     ]
    },
    {
     "name": "stderr",
     "output_type": "stream",
     "text": [
      "Uploading:   0%|          | 0/1 [00:00<?, ?it/s].51it/s]"
     ]
    },
    {
     "name": "stdout",
     "output_type": "stream",
     "text": [
      "53\n"
     ]
    },
    {
     "name": "stderr",
     "output_type": "stream",
     "text": [
      "\n",
      "Uploading: 100%|██████████| 1/1 [00:00<00:00,  8.21it/s]"
     ]
    },
    {
     "name": "stdout",
     "output_type": "stream",
     "text": [
      "Processing slice z=success\n",
      "success\n",
      "success\n",
      "success\n",
      "success\n",
      "success\n",
      "success\n",
      "success\n",
      "success\n",
      "success\n",
      "success\n",
      "success\n",
      "success\n"
     ]
    },
    {
     "name": "stderr",
     "output_type": "stream",
     "text": [
      "\n"
     ]
    },
    {
     "name": "stdout",
     "output_type": "stream",
     "text": [
      "Processing slice z="
     ]
    },
    {
     "name": "stderr",
     "output_type": "stream",
     "text": [
      "\r",
      "Uploading:   0%|          | 0/1 [00:00<?, ?it/s]"
     ]
    },
    {
     "name": "stdout",
     "output_type": "stream",
     "text": [
      "  54\n",
      "55\n"
     ]
    },
    {
     "name": "stderr",
     "output_type": "stream",
     "text": [
      "Uploading: 100%|██████████| 1/1 [00:00<00:00,  8.70it/s]\n"
     ]
    },
    {
     "name": "stdout",
     "output_type": "stream",
     "text": [
      "Processing slice z= 56\n"
     ]
    },
    {
     "name": "stderr",
     "output_type": "stream",
     "text": [
      "Uploading: 100%|██████████| 1/1 [00:00<00:00,  8.87it/s]\n"
     ]
    },
    {
     "name": "stdout",
     "output_type": "stream",
     "text": [
      "Processing slice z="
     ]
    },
    {
     "name": "stderr",
     "output_type": "stream",
     "text": [
      "\r",
      "Uploading:   0%|          | 0/1 [00:00<?, ?it/s]"
     ]
    },
    {
     "name": "stdout",
     "output_type": "stream",
     "text": [
      " 57\n"
     ]
    },
    {
     "name": "stderr",
     "output_type": "stream",
     "text": [
      "Uploading: 100%|██████████| 1/1 [00:00<00:00,  9.36it/s]\n"
     ]
    },
    {
     "name": "stdout",
     "output_type": "stream",
     "text": [
      "Processing slice z= 58"
     ]
    },
    {
     "name": "stderr",
     "output_type": "stream",
     "text": [
      "\r",
      "Uploading: 100%|██████████| 1/1 [00:00<00:00,  8.57it/s]"
     ]
    },
    {
     "name": "stdout",
     "output_type": "stream",
     "text": [
      "\n"
     ]
    },
    {
     "name": "stderr",
     "output_type": "stream",
     "text": [
      "\n"
     ]
    },
    {
     "name": "stdout",
     "output_type": "stream",
     "text": [
      "Processing slice z= 59"
     ]
    },
    {
     "name": "stderr",
     "output_type": "stream",
     "text": [
      "\r",
      "Uploading:   0%|          | 0/1 [00:00<?, ?it/s]"
     ]
    },
    {
     "name": "stdout",
     "output_type": "stream",
     "text": [
      "\n"
     ]
    },
    {
     "name": "stderr",
     "output_type": "stream",
     "text": [
      "Uploading: 100%|██████████| 1/1 [00:00<00:00,  9.27it/s]\n",
      "Uploading: 100%|██████████| 1/1 [00:00<00:00,  8.59it/s]"
     ]
    },
    {
     "name": "stdout",
     "output_type": "stream",
     "text": [
      "Processing slice z="
     ]
    },
    {
     "name": "stderr",
     "output_type": "stream",
     "text": [
      "\n"
     ]
    },
    {
     "name": "stdout",
     "output_type": "stream",
     "text": [
      " 60Processing slice z=\n"
     ]
    },
    {
     "name": "stderr",
     "output_type": "stream",
     "text": [
      "\r",
      "Uploading: 100%|██████████| 1/1 [00:00<00:00,  9.06it/s]"
     ]
    },
    {
     "name": "stdout",
     "output_type": "stream",
     "text": [
      " "
     ]
    },
    {
     "name": "stderr",
     "output_type": "stream",
     "text": [
      "\n"
     ]
    },
    {
     "name": "stdout",
     "output_type": "stream",
     "text": [
      "Processing slice z=61 \n"
     ]
    },
    {
     "name": "stderr",
     "output_type": "stream",
     "text": [
      "\r",
      "Uploading:   0%|          | 0/1 [00:00<?, ?it/s]"
     ]
    },
    {
     "name": "stdout",
     "output_type": "stream",
     "text": [
      "62\n"
     ]
    },
    {
     "name": "stderr",
     "output_type": "stream",
     "text": [
      "Uploading: 100%|██████████| 1/1 [00:00<00:00,  8.83it/s]\n"
     ]
    },
    {
     "name": "stdout",
     "output_type": "stream",
     "text": [
      "Processing slice z="
     ]
    },
    {
     "name": "stderr",
     "output_type": "stream",
     "text": [
      "\r",
      "Uploading:   0%|          | 0/1 [00:00<?, ?it/s]"
     ]
    },
    {
     "name": "stdout",
     "output_type": "stream",
     "text": [
      " "
     ]
    },
    {
     "name": "stderr",
     "output_type": "stream",
     "text": [
      "\r",
      "Uploading:   0%|          | 0/1 [00:00<?, ?it/s]"
     ]
    },
    {
     "name": "stdout",
     "output_type": "stream",
     "text": [
      "63\n"
     ]
    },
    {
     "name": "stderr",
     "output_type": "stream",
     "text": [
      "Uploading: 100%|██████████| 1/1 [00:00<00:00,  9.31it/s]\n"
     ]
    },
    {
     "name": "stdout",
     "output_type": "stream",
     "text": [
      "Processing slice z= 64\n"
     ]
    },
    {
     "name": "stderr",
     "output_type": "stream",
     "text": [
      "Uploading: 100%|██████████| 1/1 [00:00<00:00,  8.77it/s]\n"
     ]
    },
    {
     "name": "stdout",
     "output_type": "stream",
     "text": [
      "Processing slice z= 65\n"
     ]
    },
    {
     "name": "stderr",
     "output_type": "stream",
     "text": [
      "\r",
      "Uploading:   0%|          | 0/1 [00:00<?, ?it/s]"
     ]
    },
    {
     "name": "stdout",
     "output_type": "stream",
     "text": [
      "success\n",
      "success\n",
      "success\n",
      "success\n",
      "success\n",
      "success\n",
      "success\n",
      "success\n",
      "success\n",
      "success\n",
      "success\n",
      "success\n",
      "success\n"
     ]
    },
    {
     "name": "stderr",
     "output_type": "stream",
     "text": [
      "Uploading: 100%|██████████| 1/1 [00:00<00:00,  8.73it/s]\n"
     ]
    },
    {
     "name": "stdout",
     "output_type": "stream",
     "text": [
      "Processing slice z= 66\n"
     ]
    },
    {
     "name": "stderr",
     "output_type": "stream",
     "text": [
      "Uploading: 100%|██████████| 1/1 [00:00<00:00,  8.63it/s]\n"
     ]
    },
    {
     "name": "stdout",
     "output_type": "stream",
     "text": [
      "Processing slice z= "
     ]
    },
    {
     "name": "stderr",
     "output_type": "stream",
     "text": [
      "\r",
      "Uploading:   0%|          | 0/1 [00:00<?, ?it/s]"
     ]
    },
    {
     "name": "stdout",
     "output_type": "stream",
     "text": [
      "67\n"
     ]
    },
    {
     "name": "stderr",
     "output_type": "stream",
     "text": [
      "Uploading: 100%|██████████| 1/1 [00:00<00:00,  9.03it/s]\n"
     ]
    },
    {
     "name": "stdout",
     "output_type": "stream",
     "text": [
      "Processing slice z= 68\n"
     ]
    },
    {
     "name": "stderr",
     "output_type": "stream",
     "text": [
      "Uploading: 100%|██████████| 1/1 [00:00<00:00,  8.71it/s]\n",
      "Uploading:   0%|          | 0/1 [00:00<?, ?it/s]\n"
     ]
    },
    {
     "name": "stdout",
     "output_type": "stream",
     "text": [
      "Processing slice z=Processing slice z=  69"
     ]
    },
    {
     "name": "stderr",
     "output_type": "stream",
     "text": [
      "\r",
      "Uploading: 100%|██████████| 1/1 [00:00<00:00,  8.79it/s]"
     ]
    },
    {
     "name": "stdout",
     "output_type": "stream",
     "text": [
      "70\n"
     ]
    },
    {
     "name": "stderr",
     "output_type": "stream",
     "text": [
      "\n"
     ]
    },
    {
     "name": "stdout",
     "output_type": "stream",
     "text": [
      "\n",
      "Processing slice z= "
     ]
    },
    {
     "name": "stderr",
     "output_type": "stream",
     "text": [
      "Uploading:   0%|          | 0/1 [00:00<?, ?it/s]"
     ]
    },
    {
     "name": "stdout",
     "output_type": "stream",
     "text": [
      "71\n"
     ]
    },
    {
     "name": "stderr",
     "output_type": "stream",
     "text": [
      "Uploading: 100%|██████████| 1/1 [00:00<00:00,  8.80it/s]\n"
     ]
    },
    {
     "name": "stdout",
     "output_type": "stream",
     "text": [
      "Processing slice z= 72\n"
     ]
    },
    {
     "name": "stderr",
     "output_type": "stream",
     "text": [
      "Uploading: 100%|██████████| 1/1 [00:00<00:00,  9.04it/s]\n",
      "Uploading:   0%|          | 0/1 [00:00<?, ?it/s]"
     ]
    },
    {
     "name": "stdout",
     "output_type": "stream",
     "text": [
      "Processing slice z= 73\n"
     ]
    },
    {
     "name": "stderr",
     "output_type": "stream",
     "text": [
      "Uploading: 100%|██████████| 1/1 [00:00<00:00,  9.34it/s]\n"
     ]
    },
    {
     "name": "stdout",
     "output_type": "stream",
     "text": [
      "Processing slice z="
     ]
    },
    {
     "name": "stderr",
     "output_type": "stream",
     "text": [
      "\r",
      "Uploading: 100%|██████████| 1/1 [00:00<00:00,  9.22it/s]"
     ]
    },
    {
     "name": "stdout",
     "output_type": "stream",
     "text": [
      " "
     ]
    },
    {
     "name": "stderr",
     "output_type": "stream",
     "text": [
      "\n"
     ]
    },
    {
     "name": "stdout",
     "output_type": "stream",
     "text": [
      "74Processing slice z=\n",
      " 75\n"
     ]
    },
    {
     "name": "stderr",
     "output_type": "stream",
     "text": [
      "Uploading: 100%|██████████| 1/1 [00:00<00:00,  8.62it/s]\n"
     ]
    },
    {
     "name": "stdout",
     "output_type": "stream",
     "text": [
      "Processing slice z="
     ]
    },
    {
     "name": "stderr",
     "output_type": "stream",
     "text": [
      "\r",
      "Uploading: 100%|██████████| 1/1 [00:00<00:00,  9.21it/s]"
     ]
    },
    {
     "name": "stdout",
     "output_type": "stream",
     "text": [
      " "
     ]
    },
    {
     "name": "stderr",
     "output_type": "stream",
     "text": [
      "\n"
     ]
    },
    {
     "name": "stdout",
     "output_type": "stream",
     "text": [
      "76\n",
      "Processing slice z= "
     ]
    },
    {
     "name": "stderr",
     "output_type": "stream",
     "text": [
      "\r",
      "Uploading: 100%|██████████| 1/1 [00:00<00:00,  9.11it/s]"
     ]
    },
    {
     "name": "stdout",
     "output_type": "stream",
     "text": [
      "77"
     ]
    },
    {
     "name": "stderr",
     "output_type": "stream",
     "text": [
      "\r",
      "Uploading: 100%|██████████| 1/1 [00:00<00:00,  8.69it/s]"
     ]
    },
    {
     "name": "stdout",
     "output_type": "stream",
     "text": [
      "\n"
     ]
    },
    {
     "name": "stderr",
     "output_type": "stream",
     "text": [
      "\n",
      "\n",
      "Uploading:   0%|          | 0/1 [00:00<?, ?it/s]"
     ]
    },
    {
     "name": "stdout",
     "output_type": "stream",
     "text": [
      "Processing slice z=Processing slice z=  7978"
     ]
    },
    {
     "name": "stderr",
     "output_type": "stream",
     "text": [
      "\r",
      "Uploading:   0%|          | 0/1 [00:00<?, ?it/s]"
     ]
    },
    {
     "name": "stdout",
     "output_type": "stream",
     "text": [
      "\n",
      "\n"
     ]
    },
    {
     "name": "stderr",
     "output_type": "stream",
     "text": [
      "Uploading:   0%|          | 0/1 [00:00<?, ?it/s]"
     ]
    },
    {
     "name": "stdout",
     "output_type": "stream",
     "text": [
      "success\n",
      "success\n",
      "success\n",
      "success\n",
      "success\n",
      "success\n",
      "success\n",
      "success\n",
      "success\n",
      "success\n",
      "success\n",
      "success\n",
      "success\n",
      "success\n"
     ]
    },
    {
     "name": "stderr",
     "output_type": "stream",
     "text": [
      "Uploading: 100%|██████████| 1/1 [00:00<00:00,  9.39it/s]\n"
     ]
    },
    {
     "name": "stdout",
     "output_type": "stream",
     "text": [
      "Processing slice z= 80\n"
     ]
    },
    {
     "name": "stderr",
     "output_type": "stream",
     "text": [
      "Uploading: 100%|██████████| 1/1 [00:00<00:00,  8.77it/s]\n"
     ]
    },
    {
     "name": "stdout",
     "output_type": "stream",
     "text": [
      "Processing slice z= 81\n"
     ]
    },
    {
     "name": "stderr",
     "output_type": "stream",
     "text": [
      "Uploading: 100%|██████████| 1/1 [00:00<00:00,  9.54it/s]\n"
     ]
    },
    {
     "name": "stdout",
     "output_type": "stream",
     "text": [
      "Processing slice z= "
     ]
    },
    {
     "name": "stderr",
     "output_type": "stream",
     "text": [
      "\r",
      "Uploading: 100%|██████████| 1/1 [00:00<00:00,  9.20it/s]"
     ]
    },
    {
     "name": "stdout",
     "output_type": "stream",
     "text": [
      "82"
     ]
    },
    {
     "name": "stderr",
     "output_type": "stream",
     "text": [
      "\n"
     ]
    },
    {
     "name": "stdout",
     "output_type": "stream",
     "text": [
      "Processing slice z= \n",
      "83\n"
     ]
    },
    {
     "name": "stderr",
     "output_type": "stream",
     "text": [
      "Uploading: 100%|██████████| 1/1 [00:00<00:00,  8.64it/s]\n"
     ]
    },
    {
     "name": "stdout",
     "output_type": "stream",
     "text": [
      "Processing slice z= "
     ]
    },
    {
     "name": "stderr",
     "output_type": "stream",
     "text": [
      "\r",
      "Uploading: 100%|██████████| 1/1 [00:00<00:00,  8.67it/s]"
     ]
    },
    {
     "name": "stdout",
     "output_type": "stream",
     "text": [
      "84"
     ]
    },
    {
     "name": "stderr",
     "output_type": "stream",
     "text": [
      "\n",
      "Uploading: 100%|██████████| 1/1 [00:00<00:00,  8.75it/s]"
     ]
    },
    {
     "name": "stdout",
     "output_type": "stream",
     "text": [
      "\n",
      "Processing slice z="
     ]
    },
    {
     "name": "stderr",
     "output_type": "stream",
     "text": [
      "\n"
     ]
    },
    {
     "name": "stdout",
     "output_type": "stream",
     "text": [
      " "
     ]
    },
    {
     "name": "stderr",
     "output_type": "stream",
     "text": [
      "\r",
      "Uploading:   0%|          | 0/1 [00:00<?, ?it/s]"
     ]
    },
    {
     "name": "stdout",
     "output_type": "stream",
     "text": [
      "85Processing slice z=\n",
      " 86"
     ]
    },
    {
     "name": "stderr",
     "output_type": "stream",
     "text": [
      "Uploading:   0%|          | 0/1 [00:00<?, ?it/s].45it/s]"
     ]
    },
    {
     "name": "stdout",
     "output_type": "stream",
     "text": [
      "\n"
     ]
    },
    {
     "name": "stderr",
     "output_type": "stream",
     "text": [
      "\n"
     ]
    },
    {
     "name": "stdout",
     "output_type": "stream",
     "text": [
      "Processing slice z= 87"
     ]
    },
    {
     "name": "stderr",
     "output_type": "stream",
     "text": [
      "\r",
      "Uploading:   0%|          | 0/1 [00:00<?, ?it/s]"
     ]
    },
    {
     "name": "stdout",
     "output_type": "stream",
     "text": [
      "\n"
     ]
    },
    {
     "name": "stderr",
     "output_type": "stream",
     "text": [
      "Uploading: 100%|██████████| 1/1 [00:00<00:00,  8.79it/s]\n"
     ]
    },
    {
     "name": "stdout",
     "output_type": "stream",
     "text": [
      "Processing slice z= 88\n"
     ]
    },
    {
     "name": "stderr",
     "output_type": "stream",
     "text": [
      "Uploading: 100%|██████████| 1/1 [00:00<00:00,  8.83it/s]\n"
     ]
    },
    {
     "name": "stdout",
     "output_type": "stream",
     "text": [
      "Processing slice z= 89\n"
     ]
    },
    {
     "name": "stderr",
     "output_type": "stream",
     "text": [
      "Uploading: 100%|██████████| 1/1 [00:00<00:00,  8.76it/s]\n",
      "\n"
     ]
    },
    {
     "name": "stdout",
     "output_type": "stream",
     "text": [
      "Processing slice z=Processing slice z=  90\n",
      "91"
     ]
    },
    {
     "name": "stderr",
     "output_type": "stream",
     "text": [
      "\r",
      "Uploading:   0%|          | 0/1 [00:00<?, ?it/s]"
     ]
    },
    {
     "name": "stdout",
     "output_type": "stream",
     "text": [
      "\n"
     ]
    },
    {
     "name": "stderr",
     "output_type": "stream",
     "text": [
      "\r",
      "Uploading:   0%|          | 0/1 [00:00<?, ?it/s]"
     ]
    },
    {
     "name": "stdout",
     "output_type": "stream",
     "text": [
      "success\n",
      "success\n",
      "success\n",
      "success\n",
      "success\n",
      "success\n",
      "success\n",
      "success\n",
      "success\n",
      "success\n",
      "success\n",
      "success\n"
     ]
    },
    {
     "name": "stderr",
     "output_type": "stream",
     "text": [
      "Uploading: 100%|██████████| 1/1 [00:00<00:00,  8.63it/s]\n"
     ]
    },
    {
     "name": "stdout",
     "output_type": "stream",
     "text": [
      "Processing slice z= 92"
     ]
    },
    {
     "name": "stderr",
     "output_type": "stream",
     "text": [
      "\r",
      "Uploading: 100%|██████████| 1/1 [00:00<00:00,  8.50it/s]"
     ]
    },
    {
     "name": "stdout",
     "output_type": "stream",
     "text": [
      "\n"
     ]
    },
    {
     "name": "stderr",
     "output_type": "stream",
     "text": [
      "\n"
     ]
    },
    {
     "name": "stdout",
     "output_type": "stream",
     "text": [
      "Processing slice z="
     ]
    },
    {
     "name": "stderr",
     "output_type": "stream",
     "text": [
      "\r",
      "Uploading: 100%|██████████| 1/1 [00:00<00:00,  8.61it/s]"
     ]
    },
    {
     "name": "stdout",
     "output_type": "stream",
     "text": [
      " "
     ]
    },
    {
     "name": "stderr",
     "output_type": "stream",
     "text": [
      "\n"
     ]
    },
    {
     "name": "stdout",
     "output_type": "stream",
     "text": [
      "93Processing slice z= \n"
     ]
    },
    {
     "name": "stderr",
     "output_type": "stream",
     "text": [
      "\r",
      "Uploading:   0%|          | 0/1 [00:00<?, ?it/s]"
     ]
    },
    {
     "name": "stdout",
     "output_type": "stream",
     "text": [
      "94"
     ]
    },
    {
     "name": "stderr",
     "output_type": "stream",
     "text": [
      "Uploading: 100%|██████████| 1/1 [00:00<00:00,  8.57it/s]\n"
     ]
    },
    {
     "name": "stdout",
     "output_type": "stream",
     "text": [
      "\n"
     ]
    },
    {
     "name": "stderr",
     "output_type": "stream",
     "text": [
      "\r",
      "Uploading:   0%|          | 0/1 [00:00<?, ?it/s]"
     ]
    },
    {
     "name": "stdout",
     "output_type": "stream",
     "text": [
      "Processing slice z= 95\n"
     ]
    },
    {
     "name": "stderr",
     "output_type": "stream",
     "text": [
      "Uploading: 100%|██████████| 1/1 [00:00<00:00,  9.02it/s]\n"
     ]
    },
    {
     "name": "stdout",
     "output_type": "stream",
     "text": [
      "Processing slice z= 96\n"
     ]
    },
    {
     "name": "stderr",
     "output_type": "stream",
     "text": [
      "Uploading: 100%|██████████| 1/1 [00:00<00:00,  8.49it/s]\n"
     ]
    },
    {
     "name": "stdout",
     "output_type": "stream",
     "text": [
      "Processing slice z= 97\n"
     ]
    },
    {
     "name": "stderr",
     "output_type": "stream",
     "text": [
      "Uploading: 100%|██████████| 1/1 [00:00<00:00,  9.30it/s]\n"
     ]
    },
    {
     "name": "stdout",
     "output_type": "stream",
     "text": [
      "Processing slice z="
     ]
    },
    {
     "name": "stderr",
     "output_type": "stream",
     "text": [
      "Uploading: 100%|██████████| 1/1 [00:00<00:00,  8.69it/s]\n"
     ]
    },
    {
     "name": "stdout",
     "output_type": "stream",
     "text": [
      " Processing slice z=98 \n",
      "99\n"
     ]
    },
    {
     "name": "stderr",
     "output_type": "stream",
     "text": [
      "Uploading: 100%|██████████| 1/1 [00:00<00:00,  8.89it/s]\n",
      "\n"
     ]
    },
    {
     "name": "stdout",
     "output_type": "stream",
     "text": [
      "Processing slice z=Processing slice z= 101 \n",
      "100"
     ]
    },
    {
     "name": "stderr",
     "output_type": "stream",
     "text": [
      "\r",
      "Uploading:   0%|          | 0/1 [00:00<?, ?it/s]"
     ]
    },
    {
     "name": "stdout",
     "output_type": "stream",
     "text": [
      "\n"
     ]
    },
    {
     "name": "stderr",
     "output_type": "stream",
     "text": [
      "Uploading: 100%|██████████| 1/1 [00:00<00:00,  8.29it/s]\n"
     ]
    },
    {
     "name": "stdout",
     "output_type": "stream",
     "text": [
      "Processing slice z= 102\n"
     ]
    },
    {
     "name": "stderr",
     "output_type": "stream",
     "text": [
      "Uploading: 100%|██████████| 1/1 [00:00<00:00,  7.73it/s]\n"
     ]
    },
    {
     "name": "stdout",
     "output_type": "stream",
     "text": [
      "Processing slice z="
     ]
    },
    {
     "name": "stderr",
     "output_type": "stream",
     "text": [
      "\r",
      "Uploading:   0%|          | 0/1 [00:00<?, ?it/s]"
     ]
    },
    {
     "name": "stdout",
     "output_type": "stream",
     "text": [
      " 103\n"
     ]
    },
    {
     "name": "stderr",
     "output_type": "stream",
     "text": [
      "Uploading:   0%|          | 0/1 [00:00<?, ?it/s].68it/s]\n"
     ]
    },
    {
     "name": "stdout",
     "output_type": "stream",
     "text": [
      "Processing slice z= 104\n"
     ]
    },
    {
     "name": "stderr",
     "output_type": "stream",
     "text": [
      "Uploading: 100%|██████████| 1/1 [00:00<00:00,  9.09it/s]\n"
     ]
    },
    {
     "name": "stdout",
     "output_type": "stream",
     "text": [
      "Processing slice z= 105\n"
     ]
    },
    {
     "name": "stderr",
     "output_type": "stream",
     "text": [
      "\r",
      "Uploading:   0%|          | 0/1 [00:00<?, ?it/s]"
     ]
    },
    {
     "name": "stdout",
     "output_type": "stream",
     "text": [
      "success\n",
      "success\n",
      "success\n",
      "success\n",
      "success\n",
      "success\n",
      "success\n",
      "success\n",
      "success\n",
      "success\n",
      "success\n",
      "success\n",
      "success\n",
      "success\n"
     ]
    },
    {
     "name": "stderr",
     "output_type": "stream",
     "text": [
      "Uploading: 100%|██████████| 1/1 [00:00<00:00,  8.39it/s]\n",
      "Uploading: 100%|██████████| 1/1 [00:00<00:00,  8.61it/s]"
     ]
    },
    {
     "name": "stdout",
     "output_type": "stream",
     "text": [
      "Processing slice z= "
     ]
    },
    {
     "name": "stderr",
     "output_type": "stream",
     "text": [
      "\n"
     ]
    },
    {
     "name": "stdout",
     "output_type": "stream",
     "text": [
      "106Processing slice z=\n",
      " 107\n"
     ]
    },
    {
     "name": "stderr",
     "output_type": "stream",
     "text": [
      "Uploading: 100%|██████████| 1/1 [00:00<00:00,  8.63it/s]\n"
     ]
    },
    {
     "name": "stdout",
     "output_type": "stream",
     "text": [
      "Processing slice z= 108"
     ]
    },
    {
     "name": "stderr",
     "output_type": "stream",
     "text": [
      "\r",
      "Uploading: 100%|██████████| 1/1 [00:00<00:00,  8.77it/s]"
     ]
    },
    {
     "name": "stdout",
     "output_type": "stream",
     "text": [
      "\n"
     ]
    },
    {
     "name": "stderr",
     "output_type": "stream",
     "text": [
      "\n"
     ]
    },
    {
     "name": "stdout",
     "output_type": "stream",
     "text": [
      "Processing slice z= "
     ]
    },
    {
     "name": "stderr",
     "output_type": "stream",
     "text": [
      "\r",
      "Uploading:   0%|          | 0/1 [00:00<?, ?it/s]"
     ]
    },
    {
     "name": "stdout",
     "output_type": "stream",
     "text": [
      "109\n"
     ]
    },
    {
     "name": "stderr",
     "output_type": "stream",
     "text": [
      "Uploading: 100%|██████████| 1/1 [00:00<00:00,  8.87it/s]\n",
      "Uploading: 100%|██████████| 1/1 [00:00<00:00,  9.08it/s]"
     ]
    },
    {
     "name": "stdout",
     "output_type": "stream",
     "text": [
      "Processing slice z="
     ]
    },
    {
     "name": "stderr",
     "output_type": "stream",
     "text": [
      "\n"
     ]
    },
    {
     "name": "stdout",
     "output_type": "stream",
     "text": [
      " 110Processing slice z=\n",
      " 111"
     ]
    },
    {
     "name": "stderr",
     "output_type": "stream",
     "text": [
      "\r",
      "Uploading:   0%|          | 0/1 [00:00<?, ?it/s]"
     ]
    },
    {
     "name": "stdout",
     "output_type": "stream",
     "text": [
      "\n"
     ]
    },
    {
     "name": "stderr",
     "output_type": "stream",
     "text": [
      "Uploading: 100%|██████████| 1/1 [00:00<00:00,  8.63it/s]\n"
     ]
    },
    {
     "name": "stdout",
     "output_type": "stream",
     "text": [
      "Processing slice z= 112\n"
     ]
    },
    {
     "name": "stderr",
     "output_type": "stream",
     "text": [
      "Uploading: 100%|██████████| 1/1 [00:00<00:00,  8.45it/s]\n"
     ]
    },
    {
     "name": "stdout",
     "output_type": "stream",
     "text": [
      "Processing slice z= 113\n"
     ]
    },
    {
     "name": "stderr",
     "output_type": "stream",
     "text": [
      "Uploading: 100%|██████████| 1/1 [00:00<00:00,  8.85it/s]\n"
     ]
    },
    {
     "name": "stdout",
     "output_type": "stream",
     "text": [
      "Processing slice z="
     ]
    },
    {
     "name": "stderr",
     "output_type": "stream",
     "text": [
      "\r",
      "Uploading: 100%|██████████| 1/1 [00:00<00:00,  8.76it/s]"
     ]
    },
    {
     "name": "stdout",
     "output_type": "stream",
     "text": [
      " "
     ]
    },
    {
     "name": "stderr",
     "output_type": "stream",
     "text": [
      "\n"
     ]
    },
    {
     "name": "stdout",
     "output_type": "stream",
     "text": [
      "114Processing slice z=\n",
      " 115\n"
     ]
    },
    {
     "name": "stderr",
     "output_type": "stream",
     "text": [
      "Uploading: 100%|██████████| 1/1 [00:00<00:00,  8.78it/s]\n"
     ]
    },
    {
     "name": "stdout",
     "output_type": "stream",
     "text": [
      "Processing slice z= 116\n"
     ]
    },
    {
     "name": "stderr",
     "output_type": "stream",
     "text": [
      "Uploading:   0%|          | 0/1 [00:00<?, ?it/s].47it/s]\n"
     ]
    },
    {
     "name": "stdout",
     "output_type": "stream",
     "text": [
      "Processing slice z= 117\n"
     ]
    },
    {
     "name": "stderr",
     "output_type": "stream",
     "text": [
      "Uploading: 100%|██████████| 1/1 [00:00<00:00,  8.79it/s]\n",
      "\n"
     ]
    },
    {
     "name": "stdout",
     "output_type": "stream",
     "text": [
      "Processing slice z=Processing slice z=  118\n",
      "success\n",
      "success\n",
      "success\n",
      "success\n",
      "success\n",
      "success\n",
      "success\n",
      "success\n",
      "success\n",
      "success\n",
      "success\n",
      "success\n",
      "success\n",
      "success\n",
      "119"
     ]
    },
    {
     "name": "stderr",
     "output_type": "stream",
     "text": [
      "\r",
      "Uploading:   0%|          | 0/1 [00:00<?, ?it/s]"
     ]
    },
    {
     "name": "stdout",
     "output_type": "stream",
     "text": [
      "\n"
     ]
    },
    {
     "name": "stderr",
     "output_type": "stream",
     "text": [
      "Uploading: 100%|██████████| 1/1 [00:00<00:00,  8.42it/s]\n",
      "Uploading: 100%|██████████| 1/1 [00:00<00:00,  9.19it/s]"
     ]
    },
    {
     "name": "stdout",
     "output_type": "stream",
     "text": [
      "Processing slice z="
     ]
    },
    {
     "name": "stderr",
     "output_type": "stream",
     "text": [
      "\n"
     ]
    },
    {
     "name": "stdout",
     "output_type": "stream",
     "text": [
      " 120Processing slice z=\n",
      " 121\n"
     ]
    },
    {
     "name": "stderr",
     "output_type": "stream",
     "text": [
      "Uploading: 100%|██████████| 1/1 [00:00<00:00,  8.62it/s]\n",
      "\n"
     ]
    },
    {
     "name": "stdout",
     "output_type": "stream",
     "text": [
      "Processing slice z= Processing slice z= 122123\n"
     ]
    },
    {
     "name": "stderr",
     "output_type": "stream",
     "text": [
      "\r",
      "Uploading:   0%|          | 0/1 [00:00<?, ?it/s]"
     ]
    },
    {
     "name": "stdout",
     "output_type": "stream",
     "text": [
      "\n"
     ]
    },
    {
     "name": "stderr",
     "output_type": "stream",
     "text": [
      "Uploading: 100%|██████████| 1/1 [00:00<00:00,  8.61it/s]\n"
     ]
    },
    {
     "name": "stdout",
     "output_type": "stream",
     "text": [
      "Processing slice z= 124\n"
     ]
    },
    {
     "name": "stderr",
     "output_type": "stream",
     "text": [
      "Uploading:   0%|          | 0/1 [00:00<?, ?it/s].75it/s]\n"
     ]
    },
    {
     "name": "stdout",
     "output_type": "stream",
     "text": [
      "Processing slice z= 125\n"
     ]
    },
    {
     "name": "stderr",
     "output_type": "stream",
     "text": [
      "Uploading: 100%|██████████| 1/1 [00:00<00:00,  8.45it/s]\n"
     ]
    },
    {
     "name": "stdout",
     "output_type": "stream",
     "text": [
      "Processing slice z="
     ]
    },
    {
     "name": "stderr",
     "output_type": "stream",
     "text": [
      "\r",
      "Uploading: 100%|██████████| 1/1 [00:00<00:00,  8.66it/s]"
     ]
    },
    {
     "name": "stdout",
     "output_type": "stream",
     "text": [
      " "
     ]
    },
    {
     "name": "stderr",
     "output_type": "stream",
     "text": [
      "\n"
     ]
    },
    {
     "name": "stdout",
     "output_type": "stream",
     "text": [
      "126Processing slice z=\n",
      " 127\n"
     ]
    },
    {
     "name": "stderr",
     "output_type": "stream",
     "text": [
      "Uploading: 100%|██████████| 1/1 [00:00<00:00,  8.76it/s]\n",
      "\n"
     ]
    },
    {
     "name": "stdout",
     "output_type": "stream",
     "text": [
      "Processing slice z=Processing slice z=  128129\n",
      "\n"
     ]
    },
    {
     "name": "stderr",
     "output_type": "stream",
     "text": [
      "Uploading: 100%|██████████| 1/1 [00:00<00:00,  8.49it/s]\n"
     ]
    },
    {
     "name": "stdout",
     "output_type": "stream",
     "text": [
      "Processing slice z="
     ]
    },
    {
     "name": "stderr",
     "output_type": "stream",
     "text": [
      "Uploading: 100%|██████████| 1/1 [00:00<00:00,  8.56it/s]\n"
     ]
    },
    {
     "name": "stdout",
     "output_type": "stream",
     "text": [
      "Processing slice z= 130 131\n",
      "\n"
     ]
    },
    {
     "name": "stderr",
     "output_type": "stream",
     "text": [
      "Uploading: 100%|██████████| 1/1 [00:00<00:00,  8.84it/s]\n"
     ]
    },
    {
     "name": "stdout",
     "output_type": "stream",
     "text": [
      "Processing slice z= success\n",
      "success\n",
      "success\n",
      "success\n",
      "success\n",
      "success\n",
      "success\n",
      "success\n",
      "success\n",
      "success\n",
      "success\n",
      "success\n",
      "success\n",
      "132\n"
     ]
    },
    {
     "name": "stderr",
     "output_type": "stream",
     "text": [
      "Uploading: 100%|██████████| 1/1 [00:00<00:00,  8.81it/s]\n"
     ]
    },
    {
     "name": "stdout",
     "output_type": "stream",
     "text": [
      "Processing slice z= 133\n"
     ]
    },
    {
     "name": "stderr",
     "output_type": "stream",
     "text": [
      "Uploading: 100%|██████████| 1/1 [00:00<00:00,  9.26it/s]\n"
     ]
    },
    {
     "name": "stdout",
     "output_type": "stream",
     "text": [
      "Processing slice z= 134\n"
     ]
    },
    {
     "name": "stderr",
     "output_type": "stream",
     "text": [
      "Uploading: 100%|██████████| 1/1 [00:00<00:00,  8.68it/s]\n",
      "Uploading:   0%|          | 0/1 [00:00<?, ?it/s]"
     ]
    },
    {
     "name": "stdout",
     "output_type": "stream",
     "text": [
      "Processing slice z= 135\n"
     ]
    },
    {
     "name": "stderr",
     "output_type": "stream",
     "text": [
      "Uploading: 100%|██████████| 1/1 [00:00<00:00,  9.13it/s]\n"
     ]
    },
    {
     "name": "stdout",
     "output_type": "stream",
     "text": [
      "Processing slice z= 136\n"
     ]
    },
    {
     "name": "stderr",
     "output_type": "stream",
     "text": [
      "Uploading: 100%|██████████| 1/1 [00:00<00:00,  8.54it/s]\n",
      "Uploading:   0%|          | 0/1 [00:00<?, ?it/s]"
     ]
    },
    {
     "name": "stdout",
     "output_type": "stream",
     "text": [
      "Processing slice z= 137\n"
     ]
    },
    {
     "name": "stderr",
     "output_type": "stream",
     "text": [
      "Uploading: 100%|██████████| 1/1 [00:00<00:00,  9.22it/s]\n",
      "Uploading: 100%|██████████| 1/1 [00:00<00:00,  8.95it/s]\n"
     ]
    },
    {
     "name": "stdout",
     "output_type": "stream",
     "text": [
      "Processing slice z= 138Processing slice z=\n",
      " 139\n"
     ]
    },
    {
     "name": "stderr",
     "output_type": "stream",
     "text": [
      "Uploading: 100%|██████████| 1/1 [00:00<00:00,  8.80it/s]\n"
     ]
    },
    {
     "name": "stdout",
     "output_type": "stream",
     "text": [
      "Processing slice z= 140\n"
     ]
    },
    {
     "name": "stderr",
     "output_type": "stream",
     "text": [
      "Uploading: 100%|██████████| 1/1 [00:00<00:00,  8.67it/s]\n"
     ]
    },
    {
     "name": "stdout",
     "output_type": "stream",
     "text": [
      "Processing slice z= 141\n"
     ]
    },
    {
     "name": "stderr",
     "output_type": "stream",
     "text": [
      "Uploading: 100%|██████████| 1/1 [00:00<00:00,  8.77it/s]\n"
     ]
    },
    {
     "name": "stdout",
     "output_type": "stream",
     "text": [
      "Processing slice z= 142\n"
     ]
    },
    {
     "name": "stderr",
     "output_type": "stream",
     "text": [
      "Uploading: 100%|██████████| 1/1 [00:00<00:00,  8.33it/s]\n"
     ]
    },
    {
     "name": "stdout",
     "output_type": "stream",
     "text": [
      "Processing slice z= 143\n"
     ]
    },
    {
     "name": "stderr",
     "output_type": "stream",
     "text": [
      "Uploading: 100%|██████████| 1/1 [00:00<00:00,  8.41it/s]\n"
     ]
    },
    {
     "name": "stdout",
     "output_type": "stream",
     "text": [
      "Processing slice z= "
     ]
    },
    {
     "name": "stderr",
     "output_type": "stream",
     "text": [
      "\r",
      "Uploading: 100%|██████████| 1/1 [00:00<00:00,  8.81it/s]"
     ]
    },
    {
     "name": "stdout",
     "output_type": "stream",
     "text": [
      "144"
     ]
    },
    {
     "name": "stderr",
     "output_type": "stream",
     "text": [
      "Uploading:   0%|          | 0/1 [00:00<?, ?it/s]\n"
     ]
    },
    {
     "name": "stdout",
     "output_type": "stream",
     "text": [
      "\n",
      "Processing slice z="
     ]
    },
    {
     "name": "stderr",
     "output_type": "stream",
     "text": [
      "\r",
      "Uploading:   0%|          | 0/1 [00:00<?, ?it/s]"
     ]
    },
    {
     "name": "stdout",
     "output_type": "stream",
     "text": [
      " 145\n"
     ]
    },
    {
     "name": "stderr",
     "output_type": "stream",
     "text": [
      "\r",
      "Uploading:   0%|          | 0/1 [00:00<?, ?it/s]"
     ]
    },
    {
     "name": "stdout",
     "output_type": "stream",
     "text": [
      "success\n",
      "success\n",
      "success\n",
      "success\n",
      "success\n",
      "success\n",
      "success\n",
      "success\n",
      "success\n",
      "success\n",
      "success\n",
      "success\n",
      "success\n"
     ]
    },
    {
     "name": "stderr",
     "output_type": "stream",
     "text": [
      "Uploading: 100%|██████████| 1/1 [00:00<00:00,  9.20it/s]\n",
      "Uploading: 100%|██████████| 1/1 [00:00<00:00,  9.18it/s]\n"
     ]
    },
    {
     "name": "stdout",
     "output_type": "stream",
     "text": [
      "Processing slice z= Processing slice z=146\n",
      " 147\n"
     ]
    },
    {
     "name": "stderr",
     "output_type": "stream",
     "text": [
      "Uploading: 100%|██████████| 1/1 [00:00<00:00,  8.85it/s]\n"
     ]
    },
    {
     "name": "stdout",
     "output_type": "stream",
     "text": [
      "Processing slice z= 148\n"
     ]
    },
    {
     "name": "stderr",
     "output_type": "stream",
     "text": [
      "Uploading: 100%|██████████| 1/1 [00:00<00:00,  8.48it/s]\n"
     ]
    },
    {
     "name": "stdout",
     "output_type": "stream",
     "text": [
      "Processing slice z= 149\n"
     ]
    },
    {
     "name": "stderr",
     "output_type": "stream",
     "text": [
      "Uploading: 100%|██████████| 1/1 [00:00<00:00,  8.33it/s]\n"
     ]
    },
    {
     "name": "stdout",
     "output_type": "stream",
     "text": [
      "Processing slice z= "
     ]
    },
    {
     "name": "stderr",
     "output_type": "stream",
     "text": [
      "\r",
      "Uploading: 100%|██████████| 1/1 [00:00<00:00,  9.46it/s]"
     ]
    },
    {
     "name": "stdout",
     "output_type": "stream",
     "text": [
      "150"
     ]
    },
    {
     "name": "stderr",
     "output_type": "stream",
     "text": [
      "\n"
     ]
    },
    {
     "name": "stdout",
     "output_type": "stream",
     "text": [
      "Processing slice z=\n",
      " "
     ]
    },
    {
     "name": "stderr",
     "output_type": "stream",
     "text": [
      "\r",
      "Uploading:   0%|          | 0/1 [00:00<?, ?it/s]"
     ]
    },
    {
     "name": "stdout",
     "output_type": "stream",
     "text": [
      "151\n"
     ]
    },
    {
     "name": "stderr",
     "output_type": "stream",
     "text": [
      "Uploading: 100%|██████████| 1/1 [00:00<00:00,  8.83it/s]\n",
      "Uploading:   0%|          | 0/1 [00:00<?, ?it/s]"
     ]
    },
    {
     "name": "stdout",
     "output_type": "stream",
     "text": [
      "Processing slice z= 152\n"
     ]
    },
    {
     "name": "stderr",
     "output_type": "stream",
     "text": [
      "Uploading: 100%|██████████| 1/1 [00:00<00:00,  8.35it/s]\n",
      "Uploading:   0%|          | 0/1 [00:00<?, ?it/s]"
     ]
    },
    {
     "name": "stdout",
     "output_type": "stream",
     "text": [
      "Processing slice z= 153\n"
     ]
    },
    {
     "name": "stderr",
     "output_type": "stream",
     "text": [
      "Uploading: 100%|██████████| 1/1 [00:00<00:00,  8.66it/s]\n",
      "\n"
     ]
    },
    {
     "name": "stdout",
     "output_type": "stream",
     "text": [
      "Processing slice z=Processing slice z=  155154\n",
      "\n"
     ]
    },
    {
     "name": "stderr",
     "output_type": "stream",
     "text": [
      "Uploading: 100%|██████████| 1/1 [00:00<00:00,  9.51it/s]\n"
     ]
    },
    {
     "name": "stdout",
     "output_type": "stream",
     "text": [
      "Processing slice z= 156\n"
     ]
    },
    {
     "name": "stderr",
     "output_type": "stream",
     "text": [
      "Uploading: 100%|██████████| 1/1 [00:00<00:00,  9.05it/s]\n"
     ]
    },
    {
     "name": "stdout",
     "output_type": "stream",
     "text": [
      "Processing slice z= 157\n"
     ]
    },
    {
     "name": "stderr",
     "output_type": "stream",
     "text": [
      "Uploading: 100%|██████████| 1/1 [00:00<00:00,  9.36it/s]\n"
     ]
    },
    {
     "name": "stdout",
     "output_type": "stream",
     "text": [
      "Processing slice z= 158success\n",
      "success\n",
      "success\n",
      "success\n",
      "success\n",
      "success\n",
      "success\n",
      "success\n",
      "success\n",
      "success\n",
      "success\n",
      "success\n",
      "success\n",
      "\n"
     ]
    },
    {
     "name": "stderr",
     "output_type": "stream",
     "text": [
      "Uploading: 100%|██████████| 1/1 [00:00<00:00,  7.97it/s]\n"
     ]
    },
    {
     "name": "stdout",
     "output_type": "stream",
     "text": [
      "Processing slice z= 159\n"
     ]
    },
    {
     "name": "stderr",
     "output_type": "stream",
     "text": [
      "Uploading: 100%|██████████| 1/1 [00:00<00:00,  8.32it/s]\n"
     ]
    },
    {
     "name": "stdout",
     "output_type": "stream",
     "text": [
      "Processing slice z= 160\n"
     ]
    },
    {
     "name": "stderr",
     "output_type": "stream",
     "text": [
      "Uploading: 100%|██████████| 1/1 [00:00<00:00,  8.24it/s]\n"
     ]
    },
    {
     "name": "stdout",
     "output_type": "stream",
     "text": [
      "Processing slice z= 161\n"
     ]
    },
    {
     "name": "stderr",
     "output_type": "stream",
     "text": [
      "Uploading: 100%|██████████| 1/1 [00:00<00:00,  8.90it/s]\n"
     ]
    },
    {
     "name": "stdout",
     "output_type": "stream",
     "text": [
      "Processing slice z= 162\n"
     ]
    },
    {
     "name": "stderr",
     "output_type": "stream",
     "text": [
      "Uploading: 100%|██████████| 1/1 [00:00<00:00,  8.58it/s]\n",
      "Uploading:   0%|          | 0/1 [00:00<?, ?it/s]"
     ]
    },
    {
     "name": "stdout",
     "output_type": "stream",
     "text": [
      "Processing slice z= 163\n"
     ]
    },
    {
     "name": "stderr",
     "output_type": "stream",
     "text": [
      "Uploading: 100%|██████████| 1/1 [00:00<00:00,  8.73it/s]\n"
     ]
    },
    {
     "name": "stdout",
     "output_type": "stream",
     "text": [
      "Processing slice z= 164\n"
     ]
    },
    {
     "name": "stderr",
     "output_type": "stream",
     "text": [
      "Uploading: 100%|██████████| 1/1 [00:00<00:00,  8.76it/s]\n"
     ]
    },
    {
     "name": "stdout",
     "output_type": "stream",
     "text": [
      "Processing slice z= 165\n"
     ]
    },
    {
     "name": "stderr",
     "output_type": "stream",
     "text": [
      "Uploading: 100%|██████████| 1/1 [00:00<00:00,  8.92it/s]\n"
     ]
    },
    {
     "name": "stdout",
     "output_type": "stream",
     "text": [
      "Processing slice z= 166\n"
     ]
    },
    {
     "name": "stderr",
     "output_type": "stream",
     "text": [
      "Uploading: 100%|██████████| 1/1 [00:00<00:00,  8.83it/s]\n"
     ]
    },
    {
     "name": "stdout",
     "output_type": "stream",
     "text": [
      "Processing slice z= 167\n"
     ]
    },
    {
     "name": "stderr",
     "output_type": "stream",
     "text": [
      "Uploading: 100%|██████████| 1/1 [00:00<00:00,  8.33it/s]\n"
     ]
    },
    {
     "name": "stdout",
     "output_type": "stream",
     "text": [
      "Processing slice z= 168\n"
     ]
    },
    {
     "name": "stderr",
     "output_type": "stream",
     "text": [
      "Uploading:   0%|          | 0/1 [00:00<?, ?it/s].70it/s]\n"
     ]
    },
    {
     "name": "stdout",
     "output_type": "stream",
     "text": [
      "Processing slice z= 169\n"
     ]
    },
    {
     "name": "stderr",
     "output_type": "stream",
     "text": [
      "Uploading: 100%|██████████| 1/1 [00:00<00:00,  7.94it/s]\n",
      "\n"
     ]
    },
    {
     "name": "stdout",
     "output_type": "stream",
     "text": [
      "Processing slice z=Processing slice z=  171170\n",
      "\n"
     ]
    },
    {
     "name": "stderr",
     "output_type": "stream",
     "text": [
      "Uploading: 100%|██████████| 1/1 [00:00<00:00,  8.58it/s]\n"
     ]
    },
    {
     "name": "stdout",
     "output_type": "stream",
     "text": [
      "Processing slice z=success\n",
      "success\n",
      "success\n",
      "success\n",
      "success\n",
      "success\n",
      "success\n",
      "success\n",
      "success\n",
      "success\n",
      "success\n",
      "success\n",
      "success\n",
      "success\n",
      " "
     ]
    },
    {
     "name": "stderr",
     "output_type": "stream",
     "text": [
      "\r",
      "Uploading: 100%|██████████| 1/1 [00:00<00:00,  9.19it/s]"
     ]
    },
    {
     "name": "stdout",
     "output_type": "stream",
     "text": [
      "172"
     ]
    },
    {
     "name": "stderr",
     "output_type": "stream",
     "text": [
      "\n"
     ]
    },
    {
     "name": "stdout",
     "output_type": "stream",
     "text": [
      "\n",
      "Processing slice z= 173\n"
     ]
    },
    {
     "name": "stderr",
     "output_type": "stream",
     "text": [
      "Uploading: 100%|██████████| 1/1 [00:00<00:00,  9.07it/s]\n"
     ]
    },
    {
     "name": "stdout",
     "output_type": "stream",
     "text": [
      "Processing slice z= 174\n"
     ]
    },
    {
     "name": "stderr",
     "output_type": "stream",
     "text": [
      "Uploading: 100%|██████████| 1/1 [00:00<00:00,  8.58it/s]\n"
     ]
    },
    {
     "name": "stdout",
     "output_type": "stream",
     "text": [
      "Processing slice z= 175\n"
     ]
    },
    {
     "name": "stderr",
     "output_type": "stream",
     "text": [
      "Uploading: 100%|██████████| 1/1 [00:00<00:00,  8.61it/s]\n"
     ]
    },
    {
     "name": "stdout",
     "output_type": "stream",
     "text": [
      "Processing slice z= 176\n"
     ]
    },
    {
     "name": "stderr",
     "output_type": "stream",
     "text": [
      "Uploading: 100%|██████████| 1/1 [00:00<00:00,  8.47it/s]\n"
     ]
    },
    {
     "name": "stdout",
     "output_type": "stream",
     "text": [
      "Processing slice z= 177\n"
     ]
    },
    {
     "name": "stderr",
     "output_type": "stream",
     "text": [
      "Uploading: 100%|██████████| 1/1 [00:00<00:00,  8.37it/s]\n",
      "\n"
     ]
    },
    {
     "name": "stdout",
     "output_type": "stream",
     "text": [
      "Processing slice z= Processing slice z= 178179\n",
      "\n"
     ]
    },
    {
     "name": "stderr",
     "output_type": "stream",
     "text": [
      "Uploading: 100%|██████████| 1/1 [00:00<00:00,  8.98it/s]\n"
     ]
    },
    {
     "name": "stdout",
     "output_type": "stream",
     "text": [
      "Processing slice z= 180\n"
     ]
    },
    {
     "name": "stderr",
     "output_type": "stream",
     "text": [
      "Uploading: 100%|██████████| 1/1 [00:00<00:00,  8.72it/s]\n",
      "Uploading:   0%|          | 0/1 [00:00<?, ?it/s]"
     ]
    },
    {
     "name": "stdout",
     "output_type": "stream",
     "text": [
      "Processing slice z= 181\n"
     ]
    },
    {
     "name": "stderr",
     "output_type": "stream",
     "text": [
      "Uploading: 100%|██████████| 1/1 [00:00<00:00,  8.30it/s]\n"
     ]
    },
    {
     "name": "stdout",
     "output_type": "stream",
     "text": [
      "Processing slice z= 182\n"
     ]
    },
    {
     "name": "stderr",
     "output_type": "stream",
     "text": [
      "Uploading: 100%|██████████| 1/1 [00:00<00:00,  8.47it/s]\n"
     ]
    },
    {
     "name": "stdout",
     "output_type": "stream",
     "text": [
      "Processing slice z= "
     ]
    },
    {
     "name": "stderr",
     "output_type": "stream",
     "text": [
      "\r",
      "Uploading: 100%|██████████| 1/1 [00:00<00:00,  9.35it/s]"
     ]
    },
    {
     "name": "stdout",
     "output_type": "stream",
     "text": [
      "183"
     ]
    },
    {
     "name": "stderr",
     "output_type": "stream",
     "text": [
      "\n"
     ]
    },
    {
     "name": "stdout",
     "output_type": "stream",
     "text": [
      "\n",
      "Processing slice z= 184\n"
     ]
    },
    {
     "name": "stderr",
     "output_type": "stream",
     "text": [
      "Uploading:   0%|          | 0/1 [00:00<?, ?it/s]"
     ]
    },
    {
     "name": "stdout",
     "output_type": "stream",
     "text": [
      "success\n",
      "success\n",
      "success\n",
      "success\n",
      "success\n",
      "success\n",
      "success\n",
      "success\n",
      "success\n",
      "success\n",
      "success\n",
      "success\n"
     ]
    },
    {
     "name": "stderr",
     "output_type": "stream",
     "text": [
      "Uploading: 100%|██████████| 1/1 [00:00<00:00,  8.61it/s]\n"
     ]
    },
    {
     "name": "stdout",
     "output_type": "stream",
     "text": [
      "Processing slice z= 185\n"
     ]
    },
    {
     "name": "stderr",
     "output_type": "stream",
     "text": [
      "Uploading: 100%|██████████| 1/1 [00:00<00:00,  8.91it/s]\n",
      "Uploading: 100%|██████████| 1/1 [00:00<00:00,  8.53it/s]\n"
     ]
    },
    {
     "name": "stdout",
     "output_type": "stream",
     "text": [
      "Processing slice z= Processing slice z= 186187\n",
      "\n"
     ]
    },
    {
     "name": "stderr",
     "output_type": "stream",
     "text": [
      "Uploading: 100%|██████████| 1/1 [00:00<00:00,  8.45it/s]\n"
     ]
    },
    {
     "name": "stdout",
     "output_type": "stream",
     "text": [
      "Processing slice z= 188"
     ]
    },
    {
     "name": "stderr",
     "output_type": "stream",
     "text": [
      "\r",
      "Uploading: 100%|██████████| 1/1 [00:00<00:00,  8.86it/s]"
     ]
    },
    {
     "name": "stdout",
     "output_type": "stream",
     "text": [
      "\n"
     ]
    },
    {
     "name": "stderr",
     "output_type": "stream",
     "text": [
      "\n"
     ]
    },
    {
     "name": "stdout",
     "output_type": "stream",
     "text": [
      "Processing slice z= "
     ]
    },
    {
     "name": "stderr",
     "output_type": "stream",
     "text": [
      "\r",
      "Uploading:   0%|          | 0/1 [00:00<?, ?it/s]"
     ]
    },
    {
     "name": "stdout",
     "output_type": "stream",
     "text": [
      "189\n"
     ]
    },
    {
     "name": "stderr",
     "output_type": "stream",
     "text": [
      "Uploading: 100%|██████████| 1/1 [00:00<00:00,  8.73it/s]\n"
     ]
    },
    {
     "name": "stdout",
     "output_type": "stream",
     "text": [
      "Processing slice z= 190\n"
     ]
    },
    {
     "name": "stderr",
     "output_type": "stream",
     "text": [
      "Uploading: 100%|██████████| 1/1 [00:00<00:00,  8.70it/s]\n",
      "\n"
     ]
    },
    {
     "name": "stdout",
     "output_type": "stream",
     "text": [
      "Processing slice z=Processing slice z= 191\n",
      " 192\n"
     ]
    },
    {
     "name": "stderr",
     "output_type": "stream",
     "text": [
      "Uploading: 100%|██████████| 1/1 [00:00<00:00,  8.59it/s]\n"
     ]
    },
    {
     "name": "stdout",
     "output_type": "stream",
     "text": [
      "Processing slice z= 193\n"
     ]
    },
    {
     "name": "stderr",
     "output_type": "stream",
     "text": [
      "Uploading: 100%|██████████| 1/1 [00:00<00:00,  8.91it/s]\n"
     ]
    },
    {
     "name": "stdout",
     "output_type": "stream",
     "text": [
      "Processing slice z= 194\n"
     ]
    },
    {
     "name": "stderr",
     "output_type": "stream",
     "text": [
      "Uploading: 100%|██████████| 1/1 [00:00<00:00,  8.43it/s]\n"
     ]
    },
    {
     "name": "stdout",
     "output_type": "stream",
     "text": [
      "Processing slice z= "
     ]
    },
    {
     "name": "stderr",
     "output_type": "stream",
     "text": [
      "\r",
      "Uploading:   0%|          | 0/1 [00:00<?, ?it/s]"
     ]
    },
    {
     "name": "stdout",
     "output_type": "stream",
     "text": [
      "195\n"
     ]
    },
    {
     "name": "stderr",
     "output_type": "stream",
     "text": [
      "Uploading: 100%|██████████| 1/1 [00:00<00:00,  8.54it/s]\n"
     ]
    },
    {
     "name": "stdout",
     "output_type": "stream",
     "text": [
      "Processing slice z= 196\n"
     ]
    },
    {
     "name": "stderr",
     "output_type": "stream",
     "text": [
      "Uploading: 100%|██████████| 1/1 [00:00<00:00,  8.41it/s]\n",
      "Uploading:   0%|          | 0/1 [00:00<?, ?it/s]"
     ]
    },
    {
     "name": "stdout",
     "output_type": "stream",
     "text": [
      "Processing slice z= 197\n"
     ]
    },
    {
     "name": "stderr",
     "output_type": "stream",
     "text": [
      "\r",
      "Uploading:   0%|          | 0/1 [00:00<?, ?it/s]"
     ]
    },
    {
     "name": "stdout",
     "output_type": "stream",
     "text": [
      "success\n",
      "success\n",
      "success\n",
      "success\n",
      "success\n",
      "success\n",
      "success\n",
      "success\n",
      "success\n",
      "success\n",
      "success\n",
      "success\n",
      "success\n"
     ]
    },
    {
     "name": "stderr",
     "output_type": "stream",
     "text": [
      "Uploading: 100%|██████████| 1/1 [00:00<00:00,  8.51it/s]\n"
     ]
    },
    {
     "name": "stdout",
     "output_type": "stream",
     "text": [
      "Processing slice z= 198\n"
     ]
    },
    {
     "name": "stderr",
     "output_type": "stream",
     "text": [
      "Uploading: 100%|██████████| 1/1 [00:00<00:00,  8.64it/s]\n"
     ]
    },
    {
     "name": "stdout",
     "output_type": "stream",
     "text": [
      "Processing slice z= 199\n"
     ]
    },
    {
     "name": "stderr",
     "output_type": "stream",
     "text": [
      "Uploading: 100%|██████████| 1/1 [00:00<00:00,  8.59it/s]\n",
      "Uploading:   0%|          | 0/1 [00:00<?, ?it/s]"
     ]
    },
    {
     "name": "stdout",
     "output_type": "stream",
     "text": [
      "Processing slice z= 200\n"
     ]
    },
    {
     "name": "stderr",
     "output_type": "stream",
     "text": [
      "Uploading: 100%|██████████| 1/1 [00:00<00:00,  8.34it/s]\n"
     ]
    },
    {
     "name": "stdout",
     "output_type": "stream",
     "text": [
      "Processing slice z= 201\n"
     ]
    },
    {
     "name": "stderr",
     "output_type": "stream",
     "text": [
      "Uploading: 100%|██████████| 1/1 [00:00<00:00,  8.28it/s]\n",
      "\n"
     ]
    },
    {
     "name": "stdout",
     "output_type": "stream",
     "text": [
      "Processing slice z=Processing slice z=  202\n",
      "203\n"
     ]
    },
    {
     "name": "stderr",
     "output_type": "stream",
     "text": [
      "Uploading: 100%|██████████| 1/1 [00:00<00:00,  8.56it/s]\n",
      "Uploading: 100%|██████████| 1/1 [00:00<00:00,  9.25it/s]"
     ]
    },
    {
     "name": "stdout",
     "output_type": "stream",
     "text": [
      "Processing slice z="
     ]
    },
    {
     "name": "stderr",
     "output_type": "stream",
     "text": [
      "\n"
     ]
    },
    {
     "name": "stdout",
     "output_type": "stream",
     "text": [
      " 204Processing slice z=\n",
      " 205"
     ]
    },
    {
     "name": "stderr",
     "output_type": "stream",
     "text": [
      "\r",
      "Uploading:   0%|          | 0/1 [00:00<?, ?it/s]"
     ]
    },
    {
     "name": "stdout",
     "output_type": "stream",
     "text": [
      "\n"
     ]
    },
    {
     "name": "stderr",
     "output_type": "stream",
     "text": [
      "Uploading: 100%|██████████| 1/1 [00:00<00:00,  9.05it/s]\n"
     ]
    },
    {
     "name": "stdout",
     "output_type": "stream",
     "text": [
      "Processing slice z= 206\n"
     ]
    },
    {
     "name": "stderr",
     "output_type": "stream",
     "text": [
      "Uploading: 100%|██████████| 1/1 [00:00<00:00,  8.48it/s]\n"
     ]
    },
    {
     "name": "stdout",
     "output_type": "stream",
     "text": [
      "Processing slice z= "
     ]
    },
    {
     "name": "stderr",
     "output_type": "stream",
     "text": [
      "Uploading: 100%|██████████| 1/1 [00:00<00:00,  8.46it/s]\n"
     ]
    },
    {
     "name": "stdout",
     "output_type": "stream",
     "text": [
      "Processing slice z=207\n",
      " 208\n"
     ]
    },
    {
     "name": "stderr",
     "output_type": "stream",
     "text": [
      "Uploading: 100%|██████████| 1/1 [00:00<00:00,  8.32it/s]\n"
     ]
    },
    {
     "name": "stdout",
     "output_type": "stream",
     "text": [
      "Processing slice z= 209\n"
     ]
    },
    {
     "name": "stderr",
     "output_type": "stream",
     "text": [
      "\r",
      "Uploading:   0%|          | 0/1 [00:00<?, ?it/s]"
     ]
    },
    {
     "name": "stdout",
     "output_type": "stream",
     "text": [
      "success\n",
      "success\n",
      "success\n",
      "success\n",
      "success\n",
      "success\n",
      "success\n",
      "success\n",
      "success\n",
      "success\n",
      "success\n",
      "success\n"
     ]
    },
    {
     "name": "stderr",
     "output_type": "stream",
     "text": [
      "Uploading: 100%|██████████| 1/1 [00:00<00:00,  8.84it/s]\n",
      "\n"
     ]
    },
    {
     "name": "stdout",
     "output_type": "stream",
     "text": [
      "Processing slice z=Processing slice z= 210 211\n",
      "\n"
     ]
    },
    {
     "name": "stderr",
     "output_type": "stream",
     "text": [
      "Uploading: 100%|██████████| 1/1 [00:00<00:00,  8.45it/s]\n"
     ]
    },
    {
     "name": "stdout",
     "output_type": "stream",
     "text": [
      "Processing slice z= "
     ]
    },
    {
     "name": "stderr",
     "output_type": "stream",
     "text": [
      "Uploading: 100%|██████████| 1/1 [00:00<00:00,  8.44it/s]\n"
     ]
    },
    {
     "name": "stdout",
     "output_type": "stream",
     "text": [
      "212Processing slice z=\n",
      " 213\n"
     ]
    },
    {
     "name": "stderr",
     "output_type": "stream",
     "text": [
      "Uploading: 100%|██████████| 1/1 [00:00<00:00,  8.90it/s]\n"
     ]
    },
    {
     "name": "stdout",
     "output_type": "stream",
     "text": [
      "Processing slice z= 214\n"
     ]
    },
    {
     "name": "stderr",
     "output_type": "stream",
     "text": [
      "Uploading: 100%|██████████| 1/1 [00:00<00:00,  8.66it/s]\n",
      "Uploading: 100%|██████████| 1/1 [00:00<00:00,  8.77it/s]"
     ]
    },
    {
     "name": "stdout",
     "output_type": "stream",
     "text": [
      "Processing slice z="
     ]
    },
    {
     "name": "stderr",
     "output_type": "stream",
     "text": [
      "\n"
     ]
    },
    {
     "name": "stdout",
     "output_type": "stream",
     "text": [
      "Processing slice z=  216215\n",
      "\n"
     ]
    },
    {
     "name": "stderr",
     "output_type": "stream",
     "text": [
      "Uploading: 100%|██████████| 1/1 [00:00<00:00,  8.85it/s]\n"
     ]
    },
    {
     "name": "stdout",
     "output_type": "stream",
     "text": [
      "Processing slice z= 217\n"
     ]
    },
    {
     "name": "stderr",
     "output_type": "stream",
     "text": [
      "Uploading: 100%|██████████| 1/1 [00:00<00:00,  8.81it/s]\n"
     ]
    },
    {
     "name": "stdout",
     "output_type": "stream",
     "text": [
      "Processing slice z= 218"
     ]
    },
    {
     "name": "stderr",
     "output_type": "stream",
     "text": [
      "Uploading: 100%|██████████| 1/1 [00:00<00:00,  8.42it/s]\n"
     ]
    },
    {
     "name": "stdout",
     "output_type": "stream",
     "text": [
      "\n",
      "Processing slice z= 219"
     ]
    },
    {
     "name": "stderr",
     "output_type": "stream",
     "text": [
      "\r",
      "Uploading:   0%|          | 0/1 [00:00<?, ?it/s]"
     ]
    },
    {
     "name": "stdout",
     "output_type": "stream",
     "text": [
      "\n"
     ]
    },
    {
     "name": "stderr",
     "output_type": "stream",
     "text": [
      "Uploading: 100%|██████████| 1/1 [00:00<00:00,  8.92it/s]\n"
     ]
    },
    {
     "name": "stdout",
     "output_type": "stream",
     "text": [
      "Processing slice z= "
     ]
    },
    {
     "name": "stderr",
     "output_type": "stream",
     "text": [
      "\r",
      "Uploading: 100%|██████████| 1/1 [00:00<00:00,  8.66it/s]"
     ]
    },
    {
     "name": "stdout",
     "output_type": "stream",
     "text": [
      "220"
     ]
    },
    {
     "name": "stderr",
     "output_type": "stream",
     "text": [
      "\n"
     ]
    },
    {
     "name": "stdout",
     "output_type": "stream",
     "text": [
      "\n",
      "Processing slice z= 221\n"
     ]
    },
    {
     "name": "stderr",
     "output_type": "stream",
     "text": [
      "Uploading: 100%|██████████| 1/1 [00:00<00:00,  8.47it/s]\n"
     ]
    },
    {
     "name": "stdout",
     "output_type": "stream",
     "text": [
      "Processing slice z= 222\n"
     ]
    },
    {
     "name": "stderr",
     "output_type": "stream",
     "text": [
      "\r",
      "Uploading:   0%|          | 0/1 [00:00<?, ?it/s]"
     ]
    },
    {
     "name": "stdout",
     "output_type": "stream",
     "text": [
      "success\n",
      "success\n",
      "success\n",
      "success\n",
      "success\n",
      "success\n",
      "success\n",
      "success\n",
      "success\n",
      "success\n",
      "success\n",
      "success\n",
      "success\n"
     ]
    },
    {
     "name": "stderr",
     "output_type": "stream",
     "text": [
      "Uploading: 100%|██████████| 1/1 [00:00<00:00,  8.62it/s]\n"
     ]
    },
    {
     "name": "stdout",
     "output_type": "stream",
     "text": [
      "Processing slice z="
     ]
    },
    {
     "name": "stderr",
     "output_type": "stream",
     "text": [
      "\r",
      "Uploading: 100%|██████████| 1/1 [00:00<00:00,  8.41it/s]"
     ]
    },
    {
     "name": "stdout",
     "output_type": "stream",
     "text": [
      " 223"
     ]
    },
    {
     "name": "stderr",
     "output_type": "stream",
     "text": [
      "\n"
     ]
    },
    {
     "name": "stdout",
     "output_type": "stream",
     "text": [
      "\n",
      "Processing slice z="
     ]
    },
    {
     "name": "stderr",
     "output_type": "stream",
     "text": [
      "\r",
      "Uploading:   0%|          | 0/1 [00:00<?, ?it/s]"
     ]
    },
    {
     "name": "stdout",
     "output_type": "stream",
     "text": [
      " 224\n"
     ]
    },
    {
     "name": "stderr",
     "output_type": "stream",
     "text": [
      "Uploading: 100%|██████████| 1/1 [00:00<00:00,  8.38it/s]\n"
     ]
    },
    {
     "name": "stdout",
     "output_type": "stream",
     "text": [
      "Processing slice z= 225\n"
     ]
    },
    {
     "name": "stderr",
     "output_type": "stream",
     "text": [
      "Uploading: 100%|██████████| 1/1 [00:00<00:00,  8.71it/s]\n",
      "\n"
     ]
    },
    {
     "name": "stdout",
     "output_type": "stream",
     "text": [
      "Processing slice z=Processing slice z= 226\n",
      " "
     ]
    },
    {
     "name": "stderr",
     "output_type": "stream",
     "text": [
      "\r",
      "Uploading:   0%|          | 0/1 [00:00<?, ?it/s]"
     ]
    },
    {
     "name": "stdout",
     "output_type": "stream",
     "text": [
      "227\n"
     ]
    },
    {
     "name": "stderr",
     "output_type": "stream",
     "text": [
      "Uploading: 100%|██████████| 1/1 [00:00<00:00,  8.93it/s]\n"
     ]
    },
    {
     "name": "stdout",
     "output_type": "stream",
     "text": [
      "Processing slice z= "
     ]
    },
    {
     "name": "stderr",
     "output_type": "stream",
     "text": [
      "\r",
      "Uploading: 100%|██████████| 1/1 [00:00<00:00,  8.87it/s]"
     ]
    },
    {
     "name": "stdout",
     "output_type": "stream",
     "text": [
      "228\n"
     ]
    },
    {
     "name": "stderr",
     "output_type": "stream",
     "text": [
      "\n"
     ]
    },
    {
     "name": "stdout",
     "output_type": "stream",
     "text": [
      "Processing slice z= 229"
     ]
    },
    {
     "name": "stderr",
     "output_type": "stream",
     "text": [
      "\r",
      "Uploading:   0%|          | 0/1 [00:00<?, ?it/s]"
     ]
    },
    {
     "name": "stdout",
     "output_type": "stream",
     "text": [
      "\n"
     ]
    },
    {
     "name": "stderr",
     "output_type": "stream",
     "text": [
      "Uploading: 100%|██████████| 1/1 [00:00<00:00,  8.18it/s]\n"
     ]
    },
    {
     "name": "stdout",
     "output_type": "stream",
     "text": [
      "Processing slice z= 230\n"
     ]
    },
    {
     "name": "stderr",
     "output_type": "stream",
     "text": [
      "Uploading: 100%|██████████| 1/1 [00:00<00:00,  8.70it/s]\n"
     ]
    },
    {
     "name": "stdout",
     "output_type": "stream",
     "text": [
      "Processing slice z= 231\n"
     ]
    },
    {
     "name": "stderr",
     "output_type": "stream",
     "text": [
      "Uploading: 100%|██████████| 1/1 [00:00<00:00,  8.59it/s]\n"
     ]
    },
    {
     "name": "stdout",
     "output_type": "stream",
     "text": [
      "Processing slice z= 232\n"
     ]
    },
    {
     "name": "stderr",
     "output_type": "stream",
     "text": [
      "Uploading: 100%|██████████| 1/1 [00:00<00:00,  8.50it/s]\n"
     ]
    },
    {
     "name": "stdout",
     "output_type": "stream",
     "text": [
      "Processing slice z= 233\n"
     ]
    },
    {
     "name": "stderr",
     "output_type": "stream",
     "text": [
      "Uploading: 100%|██████████| 1/1 [00:00<00:00,  9.20it/s]\n",
      "\n"
     ]
    },
    {
     "name": "stdout",
     "output_type": "stream",
     "text": [
      "Processing slice z=Processing slice z=  234\n"
     ]
    },
    {
     "name": "stderr",
     "output_type": "stream",
     "text": [
      "\r",
      "Uploading:   0%|          | 0/1 [00:00<?, ?it/s]"
     ]
    },
    {
     "name": "stdout",
     "output_type": "stream",
     "text": [
      "235\n"
     ]
    },
    {
     "name": "stderr",
     "output_type": "stream",
     "text": [
      "Uploading: 100%|██████████| 1/1 [00:00<00:00,  8.74it/s]\n"
     ]
    },
    {
     "name": "stdout",
     "output_type": "stream",
     "text": [
      "Processing slice z=success\n",
      "success\n",
      "success\n",
      "success\n",
      "success\n",
      "success\n",
      "success\n",
      "success\n",
      "success\n",
      "success\n",
      "success\n",
      "success\n",
      "success\n",
      "success\n",
      " 236\n"
     ]
    },
    {
     "name": "stderr",
     "output_type": "stream",
     "text": [
      "Uploading: 100%|██████████| 1/1 [00:00<00:00,  8.28it/s]\n",
      "Uploading:   0%|          | 0/1 [00:00<?, ?it/s]"
     ]
    },
    {
     "name": "stdout",
     "output_type": "stream",
     "text": [
      "Processing slice z= 237\n"
     ]
    },
    {
     "name": "stderr",
     "output_type": "stream",
     "text": [
      "Uploading: 100%|██████████| 1/1 [00:00<00:00,  9.19it/s]\n"
     ]
    },
    {
     "name": "stdout",
     "output_type": "stream",
     "text": [
      "Processing slice z="
     ]
    },
    {
     "name": "stderr",
     "output_type": "stream",
     "text": [
      "\r",
      "Uploading:   0%|          | 0/1 [00:00<?, ?it/s]"
     ]
    },
    {
     "name": "stdout",
     "output_type": "stream",
     "text": [
      " 238\n"
     ]
    },
    {
     "name": "stderr",
     "output_type": "stream",
     "text": [
      "Uploading: 100%|██████████| 1/1 [00:00<00:00,  8.76it/s]\n"
     ]
    },
    {
     "name": "stdout",
     "output_type": "stream",
     "text": [
      "Processing slice z= 239\n"
     ]
    },
    {
     "name": "stderr",
     "output_type": "stream",
     "text": [
      "Uploading: 100%|██████████| 1/1 [00:00<00:00,  8.40it/s]\n"
     ]
    },
    {
     "name": "stdout",
     "output_type": "stream",
     "text": [
      "Processing slice z= 240\n"
     ]
    },
    {
     "name": "stderr",
     "output_type": "stream",
     "text": [
      "Uploading: 100%|██████████| 1/1 [00:00<00:00,  8.53it/s]\n"
     ]
    },
    {
     "name": "stdout",
     "output_type": "stream",
     "text": [
      "Processing slice z= 241\n"
     ]
    },
    {
     "name": "stderr",
     "output_type": "stream",
     "text": [
      "Uploading:   0%|          | 0/1 [00:00<?, ?it/s].87it/s]\n"
     ]
    },
    {
     "name": "stdout",
     "output_type": "stream",
     "text": [
      "Processing slice z= 242"
     ]
    },
    {
     "name": "stderr",
     "output_type": "stream",
     "text": [
      "\r",
      "Uploading: 100%|██████████| 1/1 [00:00<00:00,  8.74it/s]"
     ]
    },
    {
     "name": "stdout",
     "output_type": "stream",
     "text": [
      "\n"
     ]
    },
    {
     "name": "stderr",
     "output_type": "stream",
     "text": [
      "\n"
     ]
    },
    {
     "name": "stdout",
     "output_type": "stream",
     "text": [
      "Processing slice z="
     ]
    },
    {
     "name": "stderr",
     "output_type": "stream",
     "text": [
      "\r",
      "Uploading:   0%|          | 0/1 [00:00<?, ?it/s]"
     ]
    },
    {
     "name": "stdout",
     "output_type": "stream",
     "text": [
      " 243\n"
     ]
    },
    {
     "name": "stderr",
     "output_type": "stream",
     "text": [
      "Uploading: 100%|██████████| 1/1 [00:00<00:00,  8.45it/s]\n",
      "Uploading: 100%|██████████| 1/1 [00:00<00:00,  8.98it/s]"
     ]
    },
    {
     "name": "stdout",
     "output_type": "stream",
     "text": [
      "Processing slice z="
     ]
    },
    {
     "name": "stderr",
     "output_type": "stream",
     "text": [
      "Uploading: 100%|██████████| 1/1 [00:00<00:00,  9.43it/s]\n"
     ]
    },
    {
     "name": "stdout",
     "output_type": "stream",
     "text": [
      " "
     ]
    },
    {
     "name": "stderr",
     "output_type": "stream",
     "text": [
      "\n"
     ]
    },
    {
     "name": "stdout",
     "output_type": "stream",
     "text": [
      "Processing slice z=Processing slice z=244  245\n",
      "\n",
      "246\n"
     ]
    },
    {
     "name": "stderr",
     "output_type": "stream",
     "text": [
      "Uploading: 100%|██████████| 1/1 [00:00<00:00,  8.45it/s]\n"
     ]
    },
    {
     "name": "stdout",
     "output_type": "stream",
     "text": [
      "Processing slice z= 247"
     ]
    },
    {
     "name": "stderr",
     "output_type": "stream",
     "text": [
      "\r",
      "Uploading: 100%|██████████| 1/1 [00:00<00:00,  8.90it/s]"
     ]
    },
    {
     "name": "stdout",
     "output_type": "stream",
     "text": [
      "\n"
     ]
    },
    {
     "name": "stderr",
     "output_type": "stream",
     "text": [
      "\n"
     ]
    },
    {
     "name": "stdout",
     "output_type": "stream",
     "text": [
      "Processing slice z= "
     ]
    },
    {
     "name": "stderr",
     "output_type": "stream",
     "text": [
      "\r",
      "Uploading:   0%|          | 0/1 [00:00<?, ?it/s]"
     ]
    },
    {
     "name": "stdout",
     "output_type": "stream",
     "text": [
      "248\n"
     ]
    },
    {
     "name": "stderr",
     "output_type": "stream",
     "text": [
      "\r",
      "Uploading:   0%|          | 0/1 [00:00<?, ?it/s]"
     ]
    },
    {
     "name": "stdout",
     "output_type": "stream",
     "text": [
      "success\n",
      "success\n",
      "success\n",
      "success\n",
      "success\n",
      "success\n",
      "success\n",
      "success\n",
      "success\n",
      "success\n",
      "success\n",
      "success\n"
     ]
    },
    {
     "name": "stderr",
     "output_type": "stream",
     "text": [
      "Uploading: 100%|██████████| 1/1 [00:00<00:00,  8.55it/s]\n"
     ]
    },
    {
     "name": "stdout",
     "output_type": "stream",
     "text": [
      "Processing slice z= 249\n"
     ]
    },
    {
     "name": "stderr",
     "output_type": "stream",
     "text": [
      "Uploading: 100%|██████████| 1/1 [00:00<00:00,  8.39it/s]\n"
     ]
    },
    {
     "name": "stdout",
     "output_type": "stream",
     "text": [
      "Processing slice z= 250\n"
     ]
    },
    {
     "name": "stderr",
     "output_type": "stream",
     "text": [
      "Uploading:   0%|          | 0/1 [00:00<?, ?it/s].49it/s]\n"
     ]
    },
    {
     "name": "stdout",
     "output_type": "stream",
     "text": [
      "Processing slice z= 251\n"
     ]
    },
    {
     "name": "stderr",
     "output_type": "stream",
     "text": [
      "Uploading: 100%|██████████| 1/1 [00:00<00:00,  8.28it/s]\n",
      "\n"
     ]
    },
    {
     "name": "stdout",
     "output_type": "stream",
     "text": [
      "Processing slice z=Processing slice z=  "
     ]
    },
    {
     "name": "stderr",
     "output_type": "stream",
     "text": [
      "\r",
      "Uploading: 100%|██████████| 1/1 [00:00<00:00,  8.15it/s]"
     ]
    },
    {
     "name": "stdout",
     "output_type": "stream",
     "text": [
      "252253"
     ]
    },
    {
     "name": "stderr",
     "output_type": "stream",
     "text": [
      "\n"
     ]
    },
    {
     "name": "stdout",
     "output_type": "stream",
     "text": [
      "\n",
      "\n",
      "Processing slice z="
     ]
    },
    {
     "name": "stderr",
     "output_type": "stream",
     "text": [
      "Uploading:   0%|          | 0/1 [00:00<?, ?it/s]"
     ]
    },
    {
     "name": "stdout",
     "output_type": "stream",
     "text": [
      " 254\n"
     ]
    },
    {
     "name": "stderr",
     "output_type": "stream",
     "text": [
      "Uploading: 100%|██████████| 1/1 [00:00<00:00,  8.81it/s]\n"
     ]
    },
    {
     "name": "stdout",
     "output_type": "stream",
     "text": [
      "Processing slice z= "
     ]
    },
    {
     "name": "stderr",
     "output_type": "stream",
     "text": [
      "\r",
      "Uploading: 100%|██████████| 1/1 [00:00<00:00,  8.67it/s]"
     ]
    },
    {
     "name": "stdout",
     "output_type": "stream",
     "text": [
      "255\n"
     ]
    },
    {
     "name": "stderr",
     "output_type": "stream",
     "text": [
      "\n"
     ]
    },
    {
     "name": "stdout",
     "output_type": "stream",
     "text": [
      "Processing slice z= "
     ]
    },
    {
     "name": "stderr",
     "output_type": "stream",
     "text": [
      "\r",
      "Uploading:   0%|          | 0/1 [00:00<?, ?it/s]"
     ]
    },
    {
     "name": "stdout",
     "output_type": "stream",
     "text": [
      "256\n"
     ]
    },
    {
     "name": "stderr",
     "output_type": "stream",
     "text": [
      "Uploading: 100%|██████████| 1/1 [00:00<00:00,  8.90it/s]\n"
     ]
    },
    {
     "name": "stdout",
     "output_type": "stream",
     "text": [
      "Processing slice z= 257"
     ]
    },
    {
     "name": "stderr",
     "output_type": "stream",
     "text": [
      "\r",
      "Uploading: 100%|██████████| 1/1 [00:00<00:00,  8.97it/s]"
     ]
    },
    {
     "name": "stdout",
     "output_type": "stream",
     "text": [
      "\n"
     ]
    },
    {
     "name": "stderr",
     "output_type": "stream",
     "text": [
      "\n"
     ]
    },
    {
     "name": "stdout",
     "output_type": "stream",
     "text": [
      "Processing slice z= 258"
     ]
    },
    {
     "name": "stderr",
     "output_type": "stream",
     "text": [
      "\r",
      "Uploading:   0%|          | 0/1 [00:00<?, ?it/s]"
     ]
    },
    {
     "name": "stdout",
     "output_type": "stream",
     "text": [
      "\n"
     ]
    },
    {
     "name": "stderr",
     "output_type": "stream",
     "text": [
      "Uploading: 100%|██████████| 1/1 [00:00<00:00,  8.78it/s]\n"
     ]
    },
    {
     "name": "stdout",
     "output_type": "stream",
     "text": [
      "Processing slice z= 259\n"
     ]
    },
    {
     "name": "stderr",
     "output_type": "stream",
     "text": [
      "Uploading: 100%|██████████| 1/1 [00:00<00:00,  8.94it/s]\n"
     ]
    },
    {
     "name": "stdout",
     "output_type": "stream",
     "text": [
      "Processing slice z= 260"
     ]
    },
    {
     "name": "stderr",
     "output_type": "stream",
     "text": [
      "\r",
      "Uploading: 100%|██████████| 1/1 [00:00<00:00,  8.36it/s]"
     ]
    },
    {
     "name": "stdout",
     "output_type": "stream",
     "text": [
      "\n"
     ]
    },
    {
     "name": "stderr",
     "output_type": "stream",
     "text": [
      "\n",
      "Uploading:   0%|          | 0/1 [00:00<?, ?it/s]"
     ]
    },
    {
     "name": "stdout",
     "output_type": "stream",
     "text": [
      "Processing slice z= 261\n"
     ]
    },
    {
     "name": "stderr",
     "output_type": "stream",
     "text": [
      "Uploading:   0%|          | 0/1 [00:00<?, ?it/s].35it/s]\n"
     ]
    },
    {
     "name": "stdout",
     "output_type": "stream",
     "text": [
      "Processing slice z=success\n",
      "success\n",
      "success\n",
      "success\n",
      "success\n",
      "success\n",
      "success\n",
      "success\n",
      "success\n",
      "success\n",
      "success\n",
      "success\n",
      "success\n",
      "success\n",
      " 262\n"
     ]
    },
    {
     "name": "stderr",
     "output_type": "stream",
     "text": [
      "Uploading: 100%|██████████| 1/1 [00:00<00:00,  8.33it/s]\n"
     ]
    },
    {
     "name": "stdout",
     "output_type": "stream",
     "text": [
      "Processing slice z= "
     ]
    },
    {
     "name": "stderr",
     "output_type": "stream",
     "text": [
      "\r",
      "Uploading: 100%|██████████| 1/1 [00:00<00:00,  8.39it/s]"
     ]
    },
    {
     "name": "stdout",
     "output_type": "stream",
     "text": [
      "263"
     ]
    },
    {
     "name": "stderr",
     "output_type": "stream",
     "text": [
      "\n"
     ]
    },
    {
     "name": "stdout",
     "output_type": "stream",
     "text": [
      "\n",
      "Processing slice z= "
     ]
    },
    {
     "name": "stderr",
     "output_type": "stream",
     "text": [
      "\r",
      "Uploading:   0%|          | 0/1 [00:00<?, ?it/s]"
     ]
    },
    {
     "name": "stdout",
     "output_type": "stream",
     "text": [
      "264\n"
     ]
    },
    {
     "name": "stderr",
     "output_type": "stream",
     "text": [
      "Uploading: 100%|██████████| 1/1 [00:00<00:00,  9.15it/s]\n",
      "\n"
     ]
    },
    {
     "name": "stdout",
     "output_type": "stream",
     "text": [
      "Processing slice z=Processing slice z= 265 266\n",
      "\n"
     ]
    },
    {
     "name": "stderr",
     "output_type": "stream",
     "text": [
      "Uploading: 100%|██████████| 1/1 [00:00<00:00,  8.64it/s]\n"
     ]
    },
    {
     "name": "stdout",
     "output_type": "stream",
     "text": [
      "Processing slice z= 267\n"
     ]
    },
    {
     "name": "stderr",
     "output_type": "stream",
     "text": [
      "Uploading: 100%|██████████| 1/1 [00:00<00:00,  8.72it/s]\n"
     ]
    },
    {
     "name": "stdout",
     "output_type": "stream",
     "text": [
      "Processing slice z= 268\n"
     ]
    },
    {
     "name": "stderr",
     "output_type": "stream",
     "text": [
      "Uploading: 100%|██████████| 1/1 [00:00<00:00,  8.61it/s]\n"
     ]
    },
    {
     "name": "stdout",
     "output_type": "stream",
     "text": [
      "Processing slice z= 269\n"
     ]
    },
    {
     "name": "stderr",
     "output_type": "stream",
     "text": [
      "Uploading: 100%|██████████| 1/1 [00:00<00:00,  8.74it/s]\n",
      "Uploading:   0%|          | 0/1 [00:00<?, ?it/s]"
     ]
    },
    {
     "name": "stdout",
     "output_type": "stream",
     "text": [
      "Processing slice z= 270\n"
     ]
    },
    {
     "name": "stderr",
     "output_type": "stream",
     "text": [
      "Uploading: 100%|██████████| 1/1 [00:00<00:00,  9.04it/s]\n"
     ]
    },
    {
     "name": "stdout",
     "output_type": "stream",
     "text": [
      "Processing slice z= 271\n"
     ]
    },
    {
     "name": "stderr",
     "output_type": "stream",
     "text": [
      "Uploading: 100%|██████████| 1/1 [00:00<00:00,  8.72it/s]\n"
     ]
    },
    {
     "name": "stdout",
     "output_type": "stream",
     "text": [
      "Processing slice z= 272\n"
     ]
    },
    {
     "name": "stderr",
     "output_type": "stream",
     "text": [
      "Uploading: 100%|██████████| 1/1 [00:00<00:00,  8.99it/s]\n"
     ]
    },
    {
     "name": "stdout",
     "output_type": "stream",
     "text": [
      "Processing slice z= 273\n"
     ]
    },
    {
     "name": "stderr",
     "output_type": "stream",
     "text": [
      "Uploading:   0%|          | 0/1 [00:00<?, ?it/s].41it/s]\n"
     ]
    },
    {
     "name": "stdout",
     "output_type": "stream",
     "text": [
      "Processing slice z= 274\n"
     ]
    },
    {
     "name": "stderr",
     "output_type": "stream",
     "text": [
      "Uploading: 100%|██████████| 1/1 [00:00<00:00,  8.77it/s]\n"
     ]
    },
    {
     "name": "stdout",
     "output_type": "stream",
     "text": [
      "Processing slice z= 275\n"
     ]
    },
    {
     "name": "stderr",
     "output_type": "stream",
     "text": [
      "Uploading: 100%|██████████| 1/1 [00:00<00:00,  8.72it/s]"
     ]
    },
    {
     "name": "stdout",
     "output_type": "stream",
     "text": [
      "success\n",
      "success\n",
      "success\n",
      "success\n",
      "success\n",
      "success\n",
      "success\n",
      "success\n",
      "success\n",
      "success\n",
      "success\n",
      "success\n",
      "success\n"
     ]
    },
    {
     "name": "stderr",
     "output_type": "stream",
     "text": [
      "\n"
     ]
    },
    {
     "name": "stdout",
     "output_type": "stream",
     "text": [
      "Processing slice z= 276\n"
     ]
    },
    {
     "name": "stderr",
     "output_type": "stream",
     "text": [
      "Uploading: 100%|██████████| 1/1 [00:00<00:00,  8.65it/s]\n"
     ]
    },
    {
     "name": "stdout",
     "output_type": "stream",
     "text": [
      "Processing slice z= 277\n"
     ]
    },
    {
     "name": "stderr",
     "output_type": "stream",
     "text": [
      "Uploading: 100%|██████████| 1/1 [00:00<00:00,  8.69it/s]\n"
     ]
    },
    {
     "name": "stdout",
     "output_type": "stream",
     "text": [
      "Processing slice z="
     ]
    },
    {
     "name": "stderr",
     "output_type": "stream",
     "text": [
      "\r",
      "Uploading:   0%|          | 0/1 [00:00<?, ?it/s]"
     ]
    },
    {
     "name": "stdout",
     "output_type": "stream",
     "text": [
      " 278\n"
     ]
    },
    {
     "name": "stderr",
     "output_type": "stream",
     "text": [
      "Uploading: 100%|██████████| 1/1 [00:00<00:00,  8.42it/s]\n",
      "Uploading: 100%|██████████| 1/1 [00:00<00:00,  8.34it/s]\n"
     ]
    },
    {
     "name": "stdout",
     "output_type": "stream",
     "text": [
      "Processing slice z= Processing slice z=279 \n",
      "280\n"
     ]
    },
    {
     "name": "stderr",
     "output_type": "stream",
     "text": [
      "Uploading: 100%|██████████| 1/1 [00:00<00:00,  8.27it/s]\n",
      "Uploading: 100%|██████████| 1/1 [00:00<00:00,  9.01it/s]\n"
     ]
    },
    {
     "name": "stdout",
     "output_type": "stream",
     "text": [
      "Processing slice z= Processing slice z=281 \n",
      "282\n"
     ]
    },
    {
     "name": "stderr",
     "output_type": "stream",
     "text": [
      "Uploading: 100%|██████████| 1/1 [00:00<00:00,  9.08it/s]\n"
     ]
    },
    {
     "name": "stdout",
     "output_type": "stream",
     "text": [
      "Processing slice z= 283\n"
     ]
    },
    {
     "name": "stderr",
     "output_type": "stream",
     "text": [
      "Uploading: 100%|██████████| 1/1 [00:00<00:00,  8.55it/s]\n"
     ]
    },
    {
     "name": "stdout",
     "output_type": "stream",
     "text": [
      "Processing slice z= 284\n"
     ]
    },
    {
     "name": "stderr",
     "output_type": "stream",
     "text": [
      "Uploading: 100%|██████████| 1/1 [00:00<00:00,  8.44it/s]\n"
     ]
    },
    {
     "name": "stdout",
     "output_type": "stream",
     "text": [
      "Processing slice z= "
     ]
    },
    {
     "name": "stderr",
     "output_type": "stream",
     "text": [
      "\r",
      "Uploading: 100%|██████████| 1/1 [00:00<00:00,  8.43it/s]"
     ]
    },
    {
     "name": "stdout",
     "output_type": "stream",
     "text": [
      "285"
     ]
    },
    {
     "name": "stderr",
     "output_type": "stream",
     "text": [
      "\n"
     ]
    },
    {
     "name": "stdout",
     "output_type": "stream",
     "text": [
      "\n",
      "Processing slice z= 286\n"
     ]
    },
    {
     "name": "stderr",
     "output_type": "stream",
     "text": [
      "Uploading: 100%|██████████| 1/1 [00:00<00:00,  8.89it/s]\n",
      "Uploading: 100%|██████████| 1/1 [00:00<00:00,  8.47it/s]"
     ]
    },
    {
     "name": "stdout",
     "output_type": "stream",
     "text": [
      "Processing slice z= "
     ]
    },
    {
     "name": "stderr",
     "output_type": "stream",
     "text": [
      "\n"
     ]
    },
    {
     "name": "stdout",
     "output_type": "stream",
     "text": [
      "287\n",
      "Processing slice z="
     ]
    },
    {
     "name": "stderr",
     "output_type": "stream",
     "text": [
      "\r",
      "Uploading:   0%|          | 0/1 [00:00<?, ?it/s]"
     ]
    },
    {
     "name": "stdout",
     "output_type": "stream",
     "text": [
      " 288\n",
      "success\n",
      "success\n",
      "success\n",
      "success\n",
      "success\n",
      "success\n",
      "success\n",
      "success\n",
      "success\n",
      "success\n",
      "success\n",
      "success\n",
      "success\n"
     ]
    },
    {
     "name": "stderr",
     "output_type": "stream",
     "text": [
      "Uploading: 100%|██████████| 1/1 [00:00<00:00,  8.19it/s]\n",
      "Uploading: 100%|██████████| 1/1 [00:00<00:00,  7.97it/s]\n"
     ]
    },
    {
     "name": "stdout",
     "output_type": "stream",
     "text": [
      "Processing slice z=Processing slice z=  290289\n",
      "\n"
     ]
    },
    {
     "name": "stderr",
     "output_type": "stream",
     "text": [
      "Uploading:   0%|          | 0/1 [00:00<?, ?it/s].22it/s]\n"
     ]
    },
    {
     "name": "stdout",
     "output_type": "stream",
     "text": [
      "Processing slice z="
     ]
    },
    {
     "name": "stderr",
     "output_type": "stream",
     "text": [
      "\r",
      "Uploading:   0%|          | 0/1 [00:00<?, ?it/s]"
     ]
    },
    {
     "name": "stdout",
     "output_type": "stream",
     "text": [
      " 291\n"
     ]
    },
    {
     "name": "stderr",
     "output_type": "stream",
     "text": [
      "Uploading: 100%|██████████| 1/1 [00:00<00:00,  8.47it/s]\n"
     ]
    },
    {
     "name": "stdout",
     "output_type": "stream",
     "text": [
      "Processing slice z= 292\n"
     ]
    },
    {
     "name": "stderr",
     "output_type": "stream",
     "text": [
      "Uploading: 100%|██████████| 1/1 [00:00<00:00,  8.63it/s]\n",
      "Uploading: 100%|██████████| 1/1 [00:00<00:00,  8.47it/s]"
     ]
    },
    {
     "name": "stdout",
     "output_type": "stream",
     "text": [
      "Processing slice z="
     ]
    },
    {
     "name": "stderr",
     "output_type": "stream",
     "text": [
      "\n"
     ]
    },
    {
     "name": "stdout",
     "output_type": "stream",
     "text": [
      " 293\n",
      "Processing slice z= "
     ]
    },
    {
     "name": "stderr",
     "output_type": "stream",
     "text": [
      "\r",
      "Uploading:   0%|          | 0/1 [00:00<?, ?it/s]"
     ]
    },
    {
     "name": "stdout",
     "output_type": "stream",
     "text": [
      "294\n"
     ]
    },
    {
     "name": "stderr",
     "output_type": "stream",
     "text": [
      "Uploading: 100%|██████████| 1/1 [00:00<00:00,  8.51it/s]\n"
     ]
    },
    {
     "name": "stdout",
     "output_type": "stream",
     "text": [
      "Processing slice z= 295\n"
     ]
    },
    {
     "name": "stderr",
     "output_type": "stream",
     "text": [
      "Uploading: 100%|██████████| 1/1 [00:00<00:00,  8.12it/s]\n"
     ]
    },
    {
     "name": "stdout",
     "output_type": "stream",
     "text": [
      "Processing slice z= 296\n"
     ]
    },
    {
     "name": "stderr",
     "output_type": "stream",
     "text": [
      "Uploading: 100%|██████████| 1/1 [00:00<00:00,  8.23it/s]\n",
      "Uploading: 100%|██████████| 1/1 [00:00<00:00,  9.14it/s]\n",
      "Uploading: 100%|██████████| 1/1 [00:00<00:00,  8.34it/s]"
     ]
    },
    {
     "name": "stdout",
     "output_type": "stream",
     "text": [
      "Processing slice z="
     ]
    },
    {
     "name": "stderr",
     "output_type": "stream",
     "text": [
      "\n"
     ]
    },
    {
     "name": "stdout",
     "output_type": "stream",
     "text": [
      " Processing slice z=297Processing slice z= \n",
      " 299298\n",
      "\n"
     ]
    },
    {
     "name": "stderr",
     "output_type": "stream",
     "text": [
      "Uploading: 100%|██████████| 1/1 [00:00<00:00,  8.52it/s]\n"
     ]
    },
    {
     "name": "stdout",
     "output_type": "stream",
     "text": [
      "Processing slice z= 300\n"
     ]
    },
    {
     "name": "stderr",
     "output_type": "stream",
     "text": [
      "Uploading: 100%|██████████| 1/1 [00:00<00:00,  8.73it/s]\n"
     ]
    },
    {
     "name": "stdout",
     "output_type": "stream",
     "text": [
      "Processing slice z= "
     ]
    },
    {
     "name": "stderr",
     "output_type": "stream",
     "text": [
      "Uploading: 100%|██████████| 1/1 [00:00<00:00,  8.85it/s]"
     ]
    },
    {
     "name": "stdout",
     "output_type": "stream",
     "text": [
      "301"
     ]
    },
    {
     "name": "stderr",
     "output_type": "stream",
     "text": [
      "\n"
     ]
    },
    {
     "name": "stdout",
     "output_type": "stream",
     "text": [
      "\n",
      "Processing slice z= 302"
     ]
    },
    {
     "name": "stderr",
     "output_type": "stream",
     "text": [
      "\r",
      "Uploading:   0%|          | 0/1 [00:00<?, ?it/s]"
     ]
    },
    {
     "name": "stdout",
     "output_type": "stream",
     "text": [
      "\n"
     ]
    },
    {
     "name": "stderr",
     "output_type": "stream",
     "text": [
      "\r",
      "Uploading:   0%|          | 0/1 [00:00<?, ?it/s]"
     ]
    },
    {
     "name": "stdout",
     "output_type": "stream",
     "text": [
      "success\n",
      "success\n",
      "success\n",
      "success\n",
      "success\n",
      "success\n",
      "success\n",
      "success\n",
      "success\n",
      "success\n",
      "success\n",
      "success\n",
      "success\n",
      "success\n"
     ]
    },
    {
     "name": "stderr",
     "output_type": "stream",
     "text": [
      "Uploading: 100%|██████████| 1/1 [00:00<00:00,  8.76it/s]\n"
     ]
    },
    {
     "name": "stdout",
     "output_type": "stream",
     "text": [
      "Processing slice z= 303\n"
     ]
    },
    {
     "name": "stderr",
     "output_type": "stream",
     "text": [
      "Uploading: 100%|██████████| 1/1 [00:00<00:00,  8.43it/s]\n"
     ]
    },
    {
     "name": "stdout",
     "output_type": "stream",
     "text": [
      "Processing slice z= 304\n"
     ]
    },
    {
     "name": "stderr",
     "output_type": "stream",
     "text": [
      "Uploading: 100%|██████████| 1/1 [00:00<00:00,  8.90it/s]\n"
     ]
    },
    {
     "name": "stdout",
     "output_type": "stream",
     "text": [
      "Processing slice z= 305\n"
     ]
    },
    {
     "name": "stderr",
     "output_type": "stream",
     "text": [
      "Uploading: 100%|██████████| 1/1 [00:00<00:00,  8.41it/s]\n",
      "\n",
      "Uploading:   0%|          | 0/1 [00:00<?, ?it/s]"
     ]
    },
    {
     "name": "stdout",
     "output_type": "stream",
     "text": [
      "Processing slice z=Processing slice z= 307\n",
      " 306\n"
     ]
    },
    {
     "name": "stderr",
     "output_type": "stream",
     "text": [
      "Uploading: 100%|██████████| 1/1 [00:00<00:00,  8.80it/s]\n"
     ]
    },
    {
     "name": "stdout",
     "output_type": "stream",
     "text": [
      "Processing slice z= 308\n"
     ]
    },
    {
     "name": "stderr",
     "output_type": "stream",
     "text": [
      "Uploading: 100%|██████████| 1/1 [00:00<00:00,  8.59it/s]\n",
      "\n"
     ]
    },
    {
     "name": "stdout",
     "output_type": "stream",
     "text": [
      "Processing slice z=Processing slice z=  309310\n",
      "\n"
     ]
    },
    {
     "name": "stderr",
     "output_type": "stream",
     "text": [
      "Uploading: 100%|██████████| 1/1 [00:00<00:00,  9.19it/s]\n"
     ]
    },
    {
     "name": "stdout",
     "output_type": "stream",
     "text": [
      "Processing slice z= 311\n"
     ]
    },
    {
     "name": "stderr",
     "output_type": "stream",
     "text": [
      "Uploading: 100%|██████████| 1/1 [00:00<00:00,  8.56it/s]\n"
     ]
    },
    {
     "name": "stdout",
     "output_type": "stream",
     "text": [
      "Processing slice z= 312\n"
     ]
    },
    {
     "name": "stderr",
     "output_type": "stream",
     "text": [
      "Uploading: 100%|██████████| 1/1 [00:00<00:00,  8.14it/s]\n"
     ]
    },
    {
     "name": "stdout",
     "output_type": "stream",
     "text": [
      "Processing slice z= "
     ]
    },
    {
     "name": "stderr",
     "output_type": "stream",
     "text": [
      "\r",
      "Uploading: 100%|██████████| 1/1 [00:00<00:00,  9.07it/s]"
     ]
    },
    {
     "name": "stdout",
     "output_type": "stream",
     "text": [
      "313\n"
     ]
    },
    {
     "name": "stderr",
     "output_type": "stream",
     "text": [
      "\n"
     ]
    },
    {
     "name": "stdout",
     "output_type": "stream",
     "text": [
      "Processing slice z="
     ]
    },
    {
     "name": "stderr",
     "output_type": "stream",
     "text": [
      "\r",
      "Uploading:   0%|          | 0/1 [00:00<?, ?it/s]"
     ]
    },
    {
     "name": "stdout",
     "output_type": "stream",
     "text": [
      " 314"
     ]
    },
    {
     "name": "stderr",
     "output_type": "stream",
     "text": [
      "Uploading: 100%|██████████| 1/1 [00:00<00:00,  8.47it/s]\n"
     ]
    },
    {
     "name": "stdout",
     "output_type": "stream",
     "text": [
      "\n",
      "Processing slice z="
     ]
    },
    {
     "name": "stderr",
     "output_type": "stream",
     "text": [
      "\r",
      "Uploading:   0%|          | 0/1 [00:00<?, ?it/s]"
     ]
    },
    {
     "name": "stdout",
     "output_type": "stream",
     "text": [
      " 315\n"
     ]
    },
    {
     "name": "stderr",
     "output_type": "stream",
     "text": [
      "\r",
      "Uploading:   0%|          | 0/1 [00:00<?, ?it/s]"
     ]
    },
    {
     "name": "stdout",
     "output_type": "stream",
     "text": [
      "success\n",
      "success\n",
      "success\n",
      "success\n",
      "success\n",
      "success\n",
      "success\n",
      "success\n",
      "success\n",
      "success\n",
      "success\n",
      "success\n",
      "success\n"
     ]
    },
    {
     "name": "stderr",
     "output_type": "stream",
     "text": [
      "Uploading: 100%|██████████| 1/1 [00:00<00:00,  8.47it/s]\n"
     ]
    },
    {
     "name": "stdout",
     "output_type": "stream",
     "text": [
      "Processing slice z= 316\n"
     ]
    },
    {
     "name": "stderr",
     "output_type": "stream",
     "text": [
      "Uploading: 100%|██████████| 1/1 [00:00<00:00,  8.60it/s]\n"
     ]
    },
    {
     "name": "stdout",
     "output_type": "stream",
     "text": [
      "Processing slice z="
     ]
    },
    {
     "name": "stderr",
     "output_type": "stream",
     "text": [
      "\r",
      "Uploading: 100%|██████████| 1/1 [00:00<00:00,  8.51it/s]"
     ]
    },
    {
     "name": "stdout",
     "output_type": "stream",
     "text": [
      " "
     ]
    },
    {
     "name": "stderr",
     "output_type": "stream",
     "text": [
      "\n"
     ]
    },
    {
     "name": "stdout",
     "output_type": "stream",
     "text": [
      "317\n"
     ]
    },
    {
     "name": "stderr",
     "output_type": "stream",
     "text": [
      "\r",
      "Uploading:   0%|          | 0/1 [00:00<?, ?it/s]"
     ]
    },
    {
     "name": "stdout",
     "output_type": "stream",
     "text": [
      "Processing slice z= 318"
     ]
    },
    {
     "name": "stderr",
     "output_type": "stream",
     "text": [
      "\r",
      "Uploading:   0%|          | 0/1 [00:00<?, ?it/s]"
     ]
    },
    {
     "name": "stdout",
     "output_type": "stream",
     "text": [
      "\n"
     ]
    },
    {
     "name": "stderr",
     "output_type": "stream",
     "text": [
      "Uploading: 100%|██████████| 1/1 [00:00<00:00,  8.33it/s]\n"
     ]
    },
    {
     "name": "stdout",
     "output_type": "stream",
     "text": [
      "Processing slice z= 319\n"
     ]
    },
    {
     "name": "stderr",
     "output_type": "stream",
     "text": [
      "Uploading: 100%|██████████| 1/1 [00:00<00:00,  8.76it/s]\n"
     ]
    },
    {
     "name": "stdout",
     "output_type": "stream",
     "text": [
      "Processing slice z= 320\n"
     ]
    },
    {
     "name": "stderr",
     "output_type": "stream",
     "text": [
      "Uploading: 100%|██████████| 1/1 [00:00<00:00,  8.86it/s]\n"
     ]
    },
    {
     "name": "stdout",
     "output_type": "stream",
     "text": [
      "Processing slice z= 321\n"
     ]
    },
    {
     "name": "stderr",
     "output_type": "stream",
     "text": [
      "Uploading: 100%|██████████| 1/1 [00:00<00:00,  9.14it/s]\n",
      "Uploading: 100%|██████████| 1/1 [00:00<00:00,  8.41it/s]"
     ]
    },
    {
     "name": "stdout",
     "output_type": "stream",
     "text": [
      "Processing slice z="
     ]
    },
    {
     "name": "stderr",
     "output_type": "stream",
     "text": [
      "\n"
     ]
    },
    {
     "name": "stdout",
     "output_type": "stream",
     "text": [
      " Processing slice z=322 \n",
      "323\n"
     ]
    },
    {
     "name": "stderr",
     "output_type": "stream",
     "text": [
      "Uploading: 100%|██████████| 1/1 [00:00<00:00,  8.75it/s]\n",
      "Uploading: 100%|██████████| 1/1 [00:00<00:00,  8.82it/s]\n"
     ]
    },
    {
     "name": "stdout",
     "output_type": "stream",
     "text": [
      "Processing slice z=Processing slice z= 325 "
     ]
    },
    {
     "name": "stderr",
     "output_type": "stream",
     "text": [
      "\r",
      "Uploading: 100%|██████████| 1/1 [00:00<00:00,  8.64it/s]"
     ]
    },
    {
     "name": "stdout",
     "output_type": "stream",
     "text": [
      "\n"
     ]
    },
    {
     "name": "stderr",
     "output_type": "stream",
     "text": [
      "\n"
     ]
    },
    {
     "name": "stdout",
     "output_type": "stream",
     "text": [
      "324Processing slice z=\n"
     ]
    },
    {
     "name": "stderr",
     "output_type": "stream",
     "text": [
      "\r",
      "Uploading:   0%|          | 0/1 [00:00<?, ?it/s]"
     ]
    },
    {
     "name": "stdout",
     "output_type": "stream",
     "text": [
      " 326\n"
     ]
    },
    {
     "name": "stderr",
     "output_type": "stream",
     "text": [
      "Uploading: 100%|██████████| 1/1 [00:00<00:00,  8.67it/s]\n"
     ]
    },
    {
     "name": "stdout",
     "output_type": "stream",
     "text": [
      "Processing slice z= 327\n"
     ]
    },
    {
     "name": "stderr",
     "output_type": "stream",
     "text": [
      "Uploading: 100%|██████████| 1/1 [00:00<00:00,  8.79it/s]\n"
     ]
    },
    {
     "name": "stdout",
     "output_type": "stream",
     "text": [
      "Processing slice z= 328\n"
     ]
    },
    {
     "name": "stderr",
     "output_type": "stream",
     "text": [
      "Uploading: 100%|██████████| 1/1 [00:00<00:00,  8.95it/s]\n",
      "Uploading:   0%|          | 0/1 [00:00<?, ?it/s]"
     ]
    },
    {
     "name": "stdout",
     "output_type": "stream",
     "text": [
      "Processing slice z= success\n",
      "success\n",
      "success\n",
      "success\n",
      "success\n",
      "success\n",
      "success\n",
      "success\n",
      "success\n",
      "success\n",
      "success\n",
      "success\n",
      "success\n",
      "success\n",
      "329\n"
     ]
    },
    {
     "name": "stderr",
     "output_type": "stream",
     "text": [
      "Uploading: 100%|██████████| 1/1 [00:00<00:00,  9.20it/s]\n",
      "Uploading: 100%|██████████| 1/1 [00:00<00:00,  8.87it/s]"
     ]
    },
    {
     "name": "stdout",
     "output_type": "stream",
     "text": [
      "Processing slice z= 330"
     ]
    },
    {
     "name": "stderr",
     "output_type": "stream",
     "text": [
      "\n"
     ]
    },
    {
     "name": "stdout",
     "output_type": "stream",
     "text": [
      "\n",
      "Processing slice z= 331\n"
     ]
    },
    {
     "name": "stderr",
     "output_type": "stream",
     "text": [
      "Uploading: 100%|██████████| 1/1 [00:00<00:00,  8.92it/s]\n"
     ]
    },
    {
     "name": "stdout",
     "output_type": "stream",
     "text": [
      "Processing slice z= 332\n"
     ]
    },
    {
     "name": "stderr",
     "output_type": "stream",
     "text": [
      "Uploading: 100%|██████████| 1/1 [00:00<00:00,  8.46it/s]\n",
      "Uploading: 100%|██████████| 1/1 [00:00<00:00,  8.69it/s]"
     ]
    },
    {
     "name": "stdout",
     "output_type": "stream",
     "text": [
      "Processing slice z= "
     ]
    },
    {
     "name": "stderr",
     "output_type": "stream",
     "text": [
      "\n"
     ]
    },
    {
     "name": "stdout",
     "output_type": "stream",
     "text": [
      "333Processing slice z=\n",
      " "
     ]
    },
    {
     "name": "stderr",
     "output_type": "stream",
     "text": [
      "\r",
      "Uploading:   0%|          | 0/1 [00:00<?, ?it/s]"
     ]
    },
    {
     "name": "stdout",
     "output_type": "stream",
     "text": [
      "334\n"
     ]
    },
    {
     "name": "stderr",
     "output_type": "stream",
     "text": [
      "Uploading: 100%|██████████| 1/1 [00:00<00:00,  8.91it/s]\n"
     ]
    },
    {
     "name": "stdout",
     "output_type": "stream",
     "text": [
      "Processing slice z= 335\n"
     ]
    },
    {
     "name": "stderr",
     "output_type": "stream",
     "text": [
      "Uploading: 100%|██████████| 1/1 [00:00<00:00,  9.31it/s]\n"
     ]
    },
    {
     "name": "stdout",
     "output_type": "stream",
     "text": [
      "Processing slice z="
     ]
    },
    {
     "name": "stderr",
     "output_type": "stream",
     "text": [
      "\n"
     ]
    },
    {
     "name": "stdout",
     "output_type": "stream",
     "text": [
      " Processing slice z=336 \n",
      "337\n"
     ]
    },
    {
     "name": "stderr",
     "output_type": "stream",
     "text": [
      "Uploading: 100%|██████████| 1/1 [00:00<00:00,  8.42it/s]\n",
      "Uploading: 100%|██████████| 1/1 [00:00<00:00,  8.21it/s]"
     ]
    },
    {
     "name": "stdout",
     "output_type": "stream",
     "text": [
      "Processing slice z="
     ]
    },
    {
     "name": "stderr",
     "output_type": "stream",
     "text": [
      "\n"
     ]
    },
    {
     "name": "stdout",
     "output_type": "stream",
     "text": [
      " Processing slice z=338 339\n",
      "\n"
     ]
    },
    {
     "name": "stderr",
     "output_type": "stream",
     "text": [
      "Uploading: 100%|██████████| 1/1 [00:00<00:00,  8.03it/s]\n",
      "Uploading: 100%|██████████| 1/1 [00:00<00:00,  8.58it/s]"
     ]
    },
    {
     "name": "stdout",
     "output_type": "stream",
     "text": [
      "Processing slice z="
     ]
    },
    {
     "name": "stderr",
     "output_type": "stream",
     "text": [
      "\n"
     ]
    },
    {
     "name": "stdout",
     "output_type": "stream",
     "text": [
      " 340Processing slice z=\n",
      " "
     ]
    },
    {
     "name": "stderr",
     "output_type": "stream",
     "text": [
      "\r",
      "Uploading: 100%|██████████| 1/1 [00:00<00:00,  8.68it/s]"
     ]
    },
    {
     "name": "stdout",
     "output_type": "stream",
     "text": [
      "341"
     ]
    },
    {
     "name": "stderr",
     "output_type": "stream",
     "text": [
      "Uploading:   0%|          | 0/1 [00:00<?, ?it/s]\n"
     ]
    },
    {
     "name": "stdout",
     "output_type": "stream",
     "text": [
      "\n",
      "Processing slice z= "
     ]
    },
    {
     "name": "stderr",
     "output_type": "stream",
     "text": [
      "\r",
      "Uploading:   0%|          | 0/1 [00:00<?, ?it/s]"
     ]
    },
    {
     "name": "stdout",
     "output_type": "stream",
     "text": [
      "342\n"
     ]
    },
    {
     "name": "stderr",
     "output_type": "stream",
     "text": [
      "Uploading:   0%|          | 0/1 [00:00<?, ?it/s].81it/s]\n"
     ]
    },
    {
     "name": "stdout",
     "output_type": "stream",
     "text": [
      "Processing slice z= 343\n",
      "success\n",
      "success\n",
      "success\n",
      "success\n",
      "success\n",
      "success\n",
      "success\n",
      "success\n",
      "success\n",
      "success\n",
      "success\n",
      "success\n",
      "success\n",
      "success\n"
     ]
    },
    {
     "name": "stderr",
     "output_type": "stream",
     "text": [
      "Uploading: 100%|██████████| 1/1 [00:00<00:00,  8.56it/s]\n"
     ]
    },
    {
     "name": "stdout",
     "output_type": "stream",
     "text": [
      "Processing slice z= 344\n"
     ]
    },
    {
     "name": "stderr",
     "output_type": "stream",
     "text": [
      "Uploading: 100%|██████████| 1/1 [00:00<00:00,  8.21it/s]\n"
     ]
    },
    {
     "name": "stdout",
     "output_type": "stream",
     "text": [
      "Processing slice z= 345\n"
     ]
    },
    {
     "name": "stderr",
     "output_type": "stream",
     "text": [
      "Uploading: 100%|██████████| 1/1 [00:00<00:00,  8.50it/s]\n",
      "\n"
     ]
    },
    {
     "name": "stdout",
     "output_type": "stream",
     "text": [
      "Processing slice z=Processing slice z=  347346\n",
      "\n"
     ]
    },
    {
     "name": "stderr",
     "output_type": "stream",
     "text": [
      "Uploading: 100%|██████████| 1/1 [00:00<00:00,  9.31it/s]\n",
      "\n"
     ]
    },
    {
     "name": "stdout",
     "output_type": "stream",
     "text": [
      "Processing slice z=Processing slice z=  348"
     ]
    },
    {
     "name": "stderr",
     "output_type": "stream",
     "text": [
      "\r",
      "Uploading: 100%|██████████| 1/1 [00:00<00:00,  8.30it/s]"
     ]
    },
    {
     "name": "stdout",
     "output_type": "stream",
     "text": [
      "349\n"
     ]
    },
    {
     "name": "stderr",
     "output_type": "stream",
     "text": [
      "\n"
     ]
    },
    {
     "name": "stdout",
     "output_type": "stream",
     "text": [
      "\n",
      "Processing slice z= "
     ]
    },
    {
     "name": "stderr",
     "output_type": "stream",
     "text": [
      "\r",
      "Uploading:   0%|          | 0/1 [00:00<?, ?it/s]"
     ]
    },
    {
     "name": "stdout",
     "output_type": "stream",
     "text": [
      "350\n"
     ]
    },
    {
     "name": "stderr",
     "output_type": "stream",
     "text": [
      "Uploading: 100%|██████████| 1/1 [00:00<00:00,  8.77it/s]\n"
     ]
    },
    {
     "name": "stdout",
     "output_type": "stream",
     "text": [
      "Processing slice z= 351\n"
     ]
    },
    {
     "name": "stderr",
     "output_type": "stream",
     "text": [
      "Uploading: 100%|██████████| 1/1 [00:00<00:00,  8.41it/s]\n"
     ]
    },
    {
     "name": "stdout",
     "output_type": "stream",
     "text": [
      "Processing slice z= 352\n"
     ]
    },
    {
     "name": "stderr",
     "output_type": "stream",
     "text": [
      "Uploading:   0%|          | 0/1 [00:00<?, ?it/s].07it/s]\n"
     ]
    },
    {
     "name": "stdout",
     "output_type": "stream",
     "text": [
      "Processing slice z= 353\n"
     ]
    },
    {
     "name": "stderr",
     "output_type": "stream",
     "text": [
      "Uploading: 100%|██████████| 1/1 [00:00<00:00,  8.88it/s]\n",
      "\n"
     ]
    },
    {
     "name": "stdout",
     "output_type": "stream",
     "text": [
      "Processing slice z=Processing slice z=  355354\n",
      "\n"
     ]
    },
    {
     "name": "stderr",
     "output_type": "stream",
     "text": [
      "Uploading: 100%|██████████| 1/1 [00:00<00:00,  8.67it/s]\n",
      "\n"
     ]
    },
    {
     "name": "stdout",
     "output_type": "stream",
     "text": [
      "success\n",
      "success\n",
      "success\n",
      "success\n",
      "success\n",
      "success\n",
      "success\n",
      "success\n",
      "success\n",
      "success\n",
      "success\n",
      "success\n",
      "Processing slice z= Processing slice z=356 357\n",
      "\n"
     ]
    },
    {
     "name": "stderr",
     "output_type": "stream",
     "text": [
      "Uploading: 100%|██████████| 1/1 [00:00<00:00,  8.12it/s]\n"
     ]
    },
    {
     "name": "stdout",
     "output_type": "stream",
     "text": [
      "Processing slice z="
     ]
    },
    {
     "name": "stderr",
     "output_type": "stream",
     "text": [
      "\r",
      "Uploading: 100%|██████████| 1/1 [00:00<00:00,  8.75it/s]"
     ]
    },
    {
     "name": "stdout",
     "output_type": "stream",
     "text": [
      " "
     ]
    },
    {
     "name": "stderr",
     "output_type": "stream",
     "text": [
      "\n"
     ]
    },
    {
     "name": "stdout",
     "output_type": "stream",
     "text": [
      "358\n",
      "Processing slice z= "
     ]
    },
    {
     "name": "stderr",
     "output_type": "stream",
     "text": [
      "\r",
      "Uploading:   0%|          | 0/1 [00:00<?, ?it/s]"
     ]
    },
    {
     "name": "stdout",
     "output_type": "stream",
     "text": [
      "359\n"
     ]
    },
    {
     "name": "stderr",
     "output_type": "stream",
     "text": [
      "Uploading: 100%|██████████| 1/1 [00:00<00:00,  9.19it/s]\n",
      "\n"
     ]
    },
    {
     "name": "stdout",
     "output_type": "stream",
     "text": [
      "Processing slice z=Processing slice z=  361360\n",
      "\n"
     ]
    },
    {
     "name": "stderr",
     "output_type": "stream",
     "text": [
      "Uploading: 100%|██████████| 1/1 [00:00<00:00,  9.38it/s]\n"
     ]
    },
    {
     "name": "stdout",
     "output_type": "stream",
     "text": [
      "Processing slice z= 362\n"
     ]
    },
    {
     "name": "stderr",
     "output_type": "stream",
     "text": [
      "Uploading: 100%|██████████| 1/1 [00:00<00:00,  8.79it/s]\n"
     ]
    },
    {
     "name": "stdout",
     "output_type": "stream",
     "text": [
      "Processing slice z= 363\n"
     ]
    },
    {
     "name": "stderr",
     "output_type": "stream",
     "text": [
      "Uploading: 100%|██████████| 1/1 [00:00<00:00,  9.21it/s]\n"
     ]
    },
    {
     "name": "stdout",
     "output_type": "stream",
     "text": [
      "Processing slice z="
     ]
    },
    {
     "name": "stderr",
     "output_type": "stream",
     "text": [
      "\r",
      "Uploading: 100%|██████████| 1/1 [00:00<00:00,  8.89it/s]"
     ]
    },
    {
     "name": "stdout",
     "output_type": "stream",
     "text": [
      " "
     ]
    },
    {
     "name": "stderr",
     "output_type": "stream",
     "text": [
      "\n"
     ]
    },
    {
     "name": "stdout",
     "output_type": "stream",
     "text": [
      "Processing slice z=364 \n",
      "365\n"
     ]
    },
    {
     "name": "stderr",
     "output_type": "stream",
     "text": [
      "Uploading: 100%|██████████| 1/1 [00:00<00:00,  9.24it/s]\n"
     ]
    },
    {
     "name": "stdout",
     "output_type": "stream",
     "text": [
      "Processing slice z="
     ]
    },
    {
     "name": "stderr",
     "output_type": "stream",
     "text": [
      "Uploading:   0%|          | 0/1 [00:00<?, ?it/s]"
     ]
    },
    {
     "name": "stdout",
     "output_type": "stream",
     "text": [
      " 366\n"
     ]
    },
    {
     "name": "stderr",
     "output_type": "stream",
     "text": [
      "Uploading: 100%|██████████| 1/1 [00:00<00:00,  8.85it/s]\n",
      "Uploading:   0%|          | 0/1 [00:00<?, ?it/s]"
     ]
    },
    {
     "name": "stdout",
     "output_type": "stream",
     "text": [
      "Processing slice z= 367\n"
     ]
    },
    {
     "name": "stderr",
     "output_type": "stream",
     "text": [
      "Uploading: 100%|██████████| 1/1 [00:00<00:00,  8.56it/s]\n"
     ]
    },
    {
     "name": "stdout",
     "output_type": "stream",
     "text": [
      "Processing slice z="
     ]
    },
    {
     "name": "stderr",
     "output_type": "stream",
     "text": [
      "\r",
      "Uploading: 100%|██████████| 1/1 [00:00<00:00,  8.59it/s]"
     ]
    },
    {
     "name": "stdout",
     "output_type": "stream",
     "text": [
      " "
     ]
    },
    {
     "name": "stderr",
     "output_type": "stream",
     "text": [
      "\n"
     ]
    },
    {
     "name": "stdout",
     "output_type": "stream",
     "text": [
      "368\n",
      "Processing slice z= 369\n"
     ]
    },
    {
     "name": "stderr",
     "output_type": "stream",
     "text": [
      "Uploading:   0%|          | 0/1 [00:00<?, ?it/s]"
     ]
    },
    {
     "name": "stdout",
     "output_type": "stream",
     "text": [
      "success\n",
      "success\n",
      "success\n",
      "success\n",
      "success\n",
      "success\n",
      "success\n",
      "success\n",
      "success\n",
      "success\n",
      "success\n",
      "success\n",
      "success\n",
      "success\n"
     ]
    },
    {
     "name": "stderr",
     "output_type": "stream",
     "text": [
      "Uploading: 100%|██████████| 1/1 [00:00<00:00,  8.76it/s]\n"
     ]
    },
    {
     "name": "stdout",
     "output_type": "stream",
     "text": [
      "Processing slice z= 370\n"
     ]
    },
    {
     "name": "stderr",
     "output_type": "stream",
     "text": [
      "Uploading: 100%|██████████| 1/1 [00:00<00:00,  8.98it/s]\n"
     ]
    },
    {
     "name": "stdout",
     "output_type": "stream",
     "text": [
      "Processing slice z= 371\n"
     ]
    },
    {
     "name": "stderr",
     "output_type": "stream",
     "text": [
      "Uploading: 100%|██████████| 1/1 [00:00<00:00,  8.87it/s]\n",
      "\n"
     ]
    },
    {
     "name": "stdout",
     "output_type": "stream",
     "text": [
      "Processing slice z=Processing slice z= "
     ]
    },
    {
     "name": "stderr",
     "output_type": "stream",
     "text": [
      "Uploading: 100%|██████████| 1/1 [00:00<00:00,  9.33it/s]\n"
     ]
    },
    {
     "name": "stdout",
     "output_type": "stream",
     "text": [
      " 373372\n"
     ]
    },
    {
     "name": "stderr",
     "output_type": "stream",
     "text": [
      "\n"
     ]
    },
    {
     "name": "stdout",
     "output_type": "stream",
     "text": [
      "Processing slice z=\n",
      " Processing slice z= 374\n"
     ]
    },
    {
     "name": "stderr",
     "output_type": "stream",
     "text": [
      "\r",
      "Uploading:   0%|          | 0/1 [00:00<?, ?it/s]"
     ]
    },
    {
     "name": "stdout",
     "output_type": "stream",
     "text": [
      "375\n"
     ]
    },
    {
     "name": "stderr",
     "output_type": "stream",
     "text": [
      "Uploading: 100%|██████████| 1/1 [00:00<00:00,  8.99it/s]\n",
      "Uploading: 100%|██████████| 1/1 [00:00<00:00,  8.46it/s]"
     ]
    },
    {
     "name": "stdout",
     "output_type": "stream",
     "text": [
      "Processing slice z="
     ]
    },
    {
     "name": "stderr",
     "output_type": "stream",
     "text": [
      "\n"
     ]
    },
    {
     "name": "stdout",
     "output_type": "stream",
     "text": [
      " Processing slice z=376 377\n",
      "\n"
     ]
    },
    {
     "name": "stderr",
     "output_type": "stream",
     "text": [
      "Uploading: 100%|██████████| 1/1 [00:00<00:00,  8.69it/s]\n"
     ]
    },
    {
     "name": "stdout",
     "output_type": "stream",
     "text": [
      "Processing slice z= 378\n"
     ]
    },
    {
     "name": "stderr",
     "output_type": "stream",
     "text": [
      "Uploading: 100%|██████████| 1/1 [00:00<00:00,  8.55it/s]\n"
     ]
    },
    {
     "name": "stdout",
     "output_type": "stream",
     "text": [
      "Processing slice z= 379\n"
     ]
    },
    {
     "name": "stderr",
     "output_type": "stream",
     "text": [
      "Uploading: 100%|██████████| 1/1 [00:00<00:00,  8.83it/s]\n"
     ]
    },
    {
     "name": "stdout",
     "output_type": "stream",
     "text": [
      "Processing slice z= 380"
     ]
    },
    {
     "name": "stderr",
     "output_type": "stream",
     "text": [
      "\r",
      "Uploading: 100%|██████████| 1/1 [00:00<00:00,  8.76it/s]"
     ]
    },
    {
     "name": "stdout",
     "output_type": "stream",
     "text": [
      "\n"
     ]
    },
    {
     "name": "stderr",
     "output_type": "stream",
     "text": [
      "Uploading: 100%|██████████| 1/1 [00:00<00:00,  8.70it/s]\n",
      "Uploading: 100%|██████████| 1/1 [00:00<00:00,  8.66it/s]\n"
     ]
    },
    {
     "name": "stdout",
     "output_type": "stream",
     "text": [
      "Processing slice z="
     ]
    },
    {
     "name": "stderr",
     "output_type": "stream",
     "text": [
      "\n",
      "Uploading:   0%|          | 0/1 [00:00<?, ?it/s]"
     ]
    },
    {
     "name": "stdout",
     "output_type": "stream",
     "text": [
      "Processing slice z=  381Processing slice z=382\n",
      " 383\n"
     ]
    },
    {
     "name": "stderr",
     "output_type": "stream",
     "text": [
      "\r",
      "Uploading:   0%|          | 0/1 [00:00<?, ?it/s]"
     ]
    },
    {
     "name": "stdout",
     "output_type": "stream",
     "text": [
      "\n"
     ]
    },
    {
     "name": "stderr",
     "output_type": "stream",
     "text": [
      "\r",
      "Uploading:   0%|          | 0/1 [00:00<?, ?it/s]"
     ]
    },
    {
     "name": "stdout",
     "output_type": "stream",
     "text": [
      "success\n",
      "success\n",
      "success\n",
      "success\n",
      "success\n",
      "success\n",
      "success\n",
      "success\n",
      "success\n",
      "success\n",
      "success\n",
      "success\n",
      "success\n",
      "success\n"
     ]
    },
    {
     "name": "stderr",
     "output_type": "stream",
     "text": [
      "Uploading: 100%|██████████| 1/1 [00:00<00:00,  8.86it/s]\n"
     ]
    },
    {
     "name": "stdout",
     "output_type": "stream",
     "text": [
      "Processing slice z= 384"
     ]
    },
    {
     "name": "stderr",
     "output_type": "stream",
     "text": [
      "\r",
      "Uploading: 100%|██████████| 1/1 [00:00<00:00,  8.74it/s]"
     ]
    },
    {
     "name": "stdout",
     "output_type": "stream",
     "text": [
      "\n"
     ]
    },
    {
     "name": "stderr",
     "output_type": "stream",
     "text": [
      "Uploading:   0%|          | 0/1 [00:00<?, ?it/s]\n"
     ]
    },
    {
     "name": "stdout",
     "output_type": "stream",
     "text": [
      "Processing slice z= 385\n"
     ]
    },
    {
     "name": "stderr",
     "output_type": "stream",
     "text": [
      "Uploading: 100%|██████████| 1/1 [00:00<00:00,  8.40it/s]\n"
     ]
    },
    {
     "name": "stdout",
     "output_type": "stream",
     "text": [
      "Processing slice z= 386\n"
     ]
    },
    {
     "name": "stderr",
     "output_type": "stream",
     "text": [
      "Uploading: 100%|██████████| 1/1 [00:00<00:00,  8.78it/s]\n"
     ]
    },
    {
     "name": "stdout",
     "output_type": "stream",
     "text": [
      "Processing slice z= 387\n"
     ]
    },
    {
     "name": "stderr",
     "output_type": "stream",
     "text": [
      "Uploading: 100%|██████████| 1/1 [00:00<00:00,  8.92it/s]\n"
     ]
    },
    {
     "name": "stdout",
     "output_type": "stream",
     "text": [
      "Processing slice z= 388\n"
     ]
    },
    {
     "name": "stderr",
     "output_type": "stream",
     "text": [
      "Uploading: 100%|██████████| 1/1 [00:00<00:00,  8.87it/s]\n"
     ]
    },
    {
     "name": "stdout",
     "output_type": "stream",
     "text": [
      "Processing slice z= 389"
     ]
    },
    {
     "name": "stderr",
     "output_type": "stream",
     "text": [
      "Uploading: 100%|██████████| 1/1 [00:00<00:00,  8.47it/s]\n",
      "Uploading:   0%|          | 0/1 [00:00<?, ?it/s]"
     ]
    },
    {
     "name": "stdout",
     "output_type": "stream",
     "text": [
      "Processing slice z=\n",
      " 390"
     ]
    },
    {
     "name": "stderr",
     "output_type": "stream",
     "text": [
      "\r",
      "Uploading: 100%|██████████| 1/1 [00:00<00:00,  8.60it/s]"
     ]
    },
    {
     "name": "stdout",
     "output_type": "stream",
     "text": [
      "\n"
     ]
    },
    {
     "name": "stderr",
     "output_type": "stream",
     "text": [
      "\n",
      "Uploading:   0%|          | 0/1 [00:00<?, ?it/s]"
     ]
    },
    {
     "name": "stdout",
     "output_type": "stream",
     "text": [
      "Processing slice z= 391"
     ]
    },
    {
     "name": "stderr",
     "output_type": "stream",
     "text": [
      "\r",
      "Uploading:   0%|          | 0/1 [00:00<?, ?it/s]"
     ]
    },
    {
     "name": "stdout",
     "output_type": "stream",
     "text": [
      "\n"
     ]
    },
    {
     "name": "stderr",
     "output_type": "stream",
     "text": [
      "Uploading: 100%|██████████| 1/1 [00:00<00:00,  9.39it/s]\n",
      "Uploading: 100%|██████████| 1/1 [00:00<00:00,  8.68it/s]"
     ]
    },
    {
     "name": "stdout",
     "output_type": "stream",
     "text": [
      "Processing slice z="
     ]
    },
    {
     "name": "stderr",
     "output_type": "stream",
     "text": [
      "\n"
     ]
    },
    {
     "name": "stdout",
     "output_type": "stream",
     "text": [
      " 392\n",
      "Processing slice z= 393"
     ]
    },
    {
     "name": "stderr",
     "output_type": "stream",
     "text": [
      "\r",
      "Uploading:   0%|          | 0/1 [00:00<?, ?it/s]"
     ]
    },
    {
     "name": "stdout",
     "output_type": "stream",
     "text": [
      "\n"
     ]
    },
    {
     "name": "stderr",
     "output_type": "stream",
     "text": [
      "Uploading: 100%|██████████| 1/1 [00:00<00:00,  9.29it/s]\n"
     ]
    },
    {
     "name": "stdout",
     "output_type": "stream",
     "text": [
      "Processing slice z= 394\n"
     ]
    },
    {
     "name": "stderr",
     "output_type": "stream",
     "text": [
      "Uploading: 100%|██████████| 1/1 [00:00<00:00,  9.03it/s]\n"
     ]
    },
    {
     "name": "stdout",
     "output_type": "stream",
     "text": [
      "Processing slice z= 395\n"
     ]
    },
    {
     "name": "stderr",
     "output_type": "stream",
     "text": [
      "Uploading: 100%|██████████| 1/1 [00:00<00:00,  8.96it/s]\n"
     ]
    },
    {
     "name": "stdout",
     "output_type": "stream",
     "text": [
      "Processing slice z= "
     ]
    },
    {
     "name": "stderr",
     "output_type": "stream",
     "text": [
      "\r",
      "Uploading: 100%|██████████| 1/1 [00:00<00:00,  9.07it/s]"
     ]
    },
    {
     "name": "stdout",
     "output_type": "stream",
     "text": [
      "396"
     ]
    },
    {
     "name": "stderr",
     "output_type": "stream",
     "text": [
      "\n"
     ]
    },
    {
     "name": "stdout",
     "output_type": "stream",
     "text": [
      "\n",
      "Processing slice z=success\n",
      "success\n",
      "success\n",
      "success\n",
      "success\n",
      "success\n",
      "success\n",
      "success\n",
      "success\n",
      "success\n",
      "success\n",
      "success\n",
      "success\n",
      "success\n",
      " 397"
     ]
    },
    {
     "name": "stderr",
     "output_type": "stream",
     "text": [
      "\r",
      "Uploading: 100%|██████████| 1/1 [00:00<00:00,  8.77it/s]"
     ]
    },
    {
     "name": "stdout",
     "output_type": "stream",
     "text": [
      "\n"
     ]
    },
    {
     "name": "stderr",
     "output_type": "stream",
     "text": [
      "Uploading:   0%|          | 0/1 [00:00<?, ?it/s]\n",
      "Uploading:   0%|          | 0/1 [00:00<?, ?it/s]"
     ]
    },
    {
     "name": "stdout",
     "output_type": "stream",
     "text": [
      "Processing slice z= 398"
     ]
    },
    {
     "name": "stderr",
     "output_type": "stream",
     "text": [
      "\r",
      "Uploading: 100%|██████████| 1/1 [00:00<00:00,  8.49it/s]"
     ]
    },
    {
     "name": "stdout",
     "output_type": "stream",
     "text": [
      "\n"
     ]
    },
    {
     "name": "stderr",
     "output_type": "stream",
     "text": [
      "\n"
     ]
    },
    {
     "name": "stdout",
     "output_type": "stream",
     "text": [
      "Processing slice z= "
     ]
    },
    {
     "name": "stderr",
     "output_type": "stream",
     "text": [
      "\r",
      "Uploading:   0%|          | 0/1 [00:00<?, ?it/s]"
     ]
    },
    {
     "name": "stdout",
     "output_type": "stream",
     "text": [
      "399\n"
     ]
    },
    {
     "name": "stderr",
     "output_type": "stream",
     "text": [
      "Uploading: 100%|██████████| 1/1 [00:00<00:00,  8.65it/s]\n"
     ]
    },
    {
     "name": "stdout",
     "output_type": "stream",
     "text": [
      "Processing slice z= "
     ]
    },
    {
     "name": "stderr",
     "output_type": "stream",
     "text": [
      "\r",
      "Uploading: 100%|██████████| 1/1 [00:00<00:00,  8.46it/s]"
     ]
    },
    {
     "name": "stdout",
     "output_type": "stream",
     "text": [
      "400"
     ]
    },
    {
     "name": "stderr",
     "output_type": "stream",
     "text": [
      "\n"
     ]
    },
    {
     "name": "stdout",
     "output_type": "stream",
     "text": [
      "\n",
      "Processing slice z="
     ]
    },
    {
     "name": "stderr",
     "output_type": "stream",
     "text": [
      "\r",
      "Uploading:   0%|          | 0/1 [00:00<?, ?it/s]"
     ]
    },
    {
     "name": "stdout",
     "output_type": "stream",
     "text": [
      " "
     ]
    },
    {
     "name": "stderr",
     "output_type": "stream",
     "text": [
      "\r",
      "Uploading: 100%|██████████| 1/1 [00:00<00:00,  8.64it/s]"
     ]
    },
    {
     "name": "stdout",
     "output_type": "stream",
     "text": [
      "401"
     ]
    },
    {
     "name": "stderr",
     "output_type": "stream",
     "text": [
      "\n"
     ]
    },
    {
     "name": "stdout",
     "output_type": "stream",
     "text": [
      "\n",
      "Processing slice z= 402\n"
     ]
    },
    {
     "name": "stderr",
     "output_type": "stream",
     "text": [
      "Uploading: 100%|██████████| 1/1 [00:00<00:00,  8.50it/s]\n"
     ]
    },
    {
     "name": "stdout",
     "output_type": "stream",
     "text": [
      "Processing slice z= 403\n"
     ]
    },
    {
     "name": "stderr",
     "output_type": "stream",
     "text": [
      "Uploading: 100%|██████████| 1/1 [00:00<00:00,  9.12it/s]\n"
     ]
    },
    {
     "name": "stdout",
     "output_type": "stream",
     "text": [
      "Processing slice z= 404\n"
     ]
    },
    {
     "name": "stderr",
     "output_type": "stream",
     "text": [
      "Uploading: 100%|██████████| 1/1 [00:00<00:00,  8.48it/s]\n"
     ]
    },
    {
     "name": "stdout",
     "output_type": "stream",
     "text": [
      "Processing slice z= 405\n"
     ]
    },
    {
     "name": "stderr",
     "output_type": "stream",
     "text": [
      "Uploading:   0%|          | 0/1 [00:00<?, ?it/s].84it/s]\n",
      "Uploading: 100%|██████████| 1/1 [00:00<00:00,  8.45it/s]\n"
     ]
    },
    {
     "name": "stdout",
     "output_type": "stream",
     "text": [
      "Processing slice z=Processing slice z=  406\n",
      "407"
     ]
    },
    {
     "name": "stderr",
     "output_type": "stream",
     "text": [
      "\r",
      "Uploading:   0%|          | 0/1 [00:00<?, ?it/s]"
     ]
    },
    {
     "name": "stdout",
     "output_type": "stream",
     "text": [
      "\n"
     ]
    },
    {
     "name": "stderr",
     "output_type": "stream",
     "text": [
      "Uploading: 100%|██████████| 1/1 [00:00<00:00,  8.84it/s]\n"
     ]
    },
    {
     "name": "stdout",
     "output_type": "stream",
     "text": [
      "Processing slice z= 408\n"
     ]
    },
    {
     "name": "stderr",
     "output_type": "stream",
     "text": [
      "Uploading: 100%|██████████| 1/1 [00:00<00:00,  8.79it/s]\n"
     ]
    },
    {
     "name": "stdout",
     "output_type": "stream",
     "text": [
      "Processing slice z="
     ]
    },
    {
     "name": "stderr",
     "output_type": "stream",
     "text": [
      "Uploading: 100%|██████████| 1/1 [00:00<00:00,  8.82it/s]"
     ]
    },
    {
     "name": "stdout",
     "output_type": "stream",
     "text": [
      " 409"
     ]
    },
    {
     "name": "stderr",
     "output_type": "stream",
     "text": [
      "\n"
     ]
    },
    {
     "name": "stdout",
     "output_type": "stream",
     "text": [
      "\n",
      "Processing slice z="
     ]
    },
    {
     "name": "stderr",
     "output_type": "stream",
     "text": [
      "\r",
      "Uploading:   0%|          | 0/1 [00:00<?, ?it/s]"
     ]
    },
    {
     "name": "stdout",
     "output_type": "stream",
     "text": [
      " 410\n"
     ]
    },
    {
     "name": "stderr",
     "output_type": "stream",
     "text": [
      "\r",
      "Uploading:   0%|          | 0/1 [00:00<?, ?it/s]"
     ]
    },
    {
     "name": "stdout",
     "output_type": "stream",
     "text": [
      "success\n",
      "success\n",
      "success\n",
      "success\n",
      "success\n",
      "success\n",
      "success\n",
      "success\n",
      "success\n",
      "success\n",
      "success\n",
      "success\n",
      "success\n"
     ]
    },
    {
     "name": "stderr",
     "output_type": "stream",
     "text": [
      "Uploading: 100%|██████████| 1/1 [00:00<00:00,  8.28it/s]\n"
     ]
    },
    {
     "name": "stdout",
     "output_type": "stream",
     "text": [
      "Processing slice z= 411\n"
     ]
    },
    {
     "name": "stderr",
     "output_type": "stream",
     "text": [
      "Uploading: 100%|██████████| 1/1 [00:00<00:00,  8.61it/s]\n"
     ]
    },
    {
     "name": "stdout",
     "output_type": "stream",
     "text": [
      "Processing slice z= 412\n"
     ]
    },
    {
     "name": "stderr",
     "output_type": "stream",
     "text": [
      "Uploading: 100%|██████████| 1/1 [00:00<00:00,  9.06it/s]\n",
      "Uploading:   0%|          | 0/1 [00:00<?, ?it/s]"
     ]
    },
    {
     "name": "stdout",
     "output_type": "stream",
     "text": [
      "Processing slice z= 413\n"
     ]
    },
    {
     "name": "stderr",
     "output_type": "stream",
     "text": [
      "Uploading: 100%|██████████| 1/1 [00:00<00:00,  8.93it/s]\n"
     ]
    },
    {
     "name": "stdout",
     "output_type": "stream",
     "text": [
      "Processing slice z="
     ]
    },
    {
     "name": "stderr",
     "output_type": "stream",
     "text": [
      "\r",
      "Uploading:   0%|          | 0/1 [00:00<?, ?it/s]"
     ]
    },
    {
     "name": "stdout",
     "output_type": "stream",
     "text": [
      " 414"
     ]
    },
    {
     "name": "stderr",
     "output_type": "stream",
     "text": [
      "\r",
      "Uploading: 100%|██████████| 1/1 [00:00<00:00,  9.08it/s]"
     ]
    },
    {
     "name": "stdout",
     "output_type": "stream",
     "text": [
      "\n"
     ]
    },
    {
     "name": "stderr",
     "output_type": "stream",
     "text": [
      "\n",
      "Uploading:   0%|          | 0/1 [00:00<?, ?it/s]"
     ]
    },
    {
     "name": "stdout",
     "output_type": "stream",
     "text": [
      "Processing slice z= 415\n"
     ]
    },
    {
     "name": "stderr",
     "output_type": "stream",
     "text": [
      "Uploading: 100%|██████████| 1/1 [00:00<00:00,  9.02it/s]\n"
     ]
    },
    {
     "name": "stdout",
     "output_type": "stream",
     "text": [
      "Processing slice z= 416\n"
     ]
    },
    {
     "name": "stderr",
     "output_type": "stream",
     "text": [
      "Uploading: 100%|██████████| 1/1 [00:00<00:00,  8.56it/s]\n"
     ]
    },
    {
     "name": "stdout",
     "output_type": "stream",
     "text": [
      "Processing slice z= 417\n"
     ]
    },
    {
     "name": "stderr",
     "output_type": "stream",
     "text": [
      "Uploading: 100%|██████████| 1/1 [00:00<00:00,  8.35it/s]\n"
     ]
    },
    {
     "name": "stdout",
     "output_type": "stream",
     "text": [
      "Processing slice z= 418\n"
     ]
    },
    {
     "name": "stderr",
     "output_type": "stream",
     "text": [
      "Uploading: 100%|██████████| 1/1 [00:00<00:00,  8.75it/s]\n"
     ]
    },
    {
     "name": "stdout",
     "output_type": "stream",
     "text": [
      "Processing slice z= 419\n"
     ]
    },
    {
     "name": "stderr",
     "output_type": "stream",
     "text": [
      "Uploading: 100%|██████████| 1/1 [00:00<00:00,  8.99it/s]\n"
     ]
    },
    {
     "name": "stdout",
     "output_type": "stream",
     "text": [
      "Processing slice z= 420\n"
     ]
    },
    {
     "name": "stderr",
     "output_type": "stream",
     "text": [
      "Uploading:   0%|          | 0/1 [00:00<?, ?it/s].85it/s]\n"
     ]
    },
    {
     "name": "stdout",
     "output_type": "stream",
     "text": [
      "Processing slice z= 421\n"
     ]
    },
    {
     "name": "stderr",
     "output_type": "stream",
     "text": [
      "Uploading: 100%|██████████| 1/1 [00:00<00:00,  8.49it/s]\n",
      "Uploading: 100%|██████████| 1/1 [00:00<00:00,  9.00it/s]"
     ]
    },
    {
     "name": "stdout",
     "output_type": "stream",
     "text": [
      "Processing slice z="
     ]
    },
    {
     "name": "stderr",
     "output_type": "stream",
     "text": [
      "\r",
      "Uploading:   0%|          | 0/1 [00:00<?, ?it/s]"
     ]
    },
    {
     "name": "stdout",
     "output_type": "stream",
     "text": [
      " 422"
     ]
    },
    {
     "name": "stderr",
     "output_type": "stream",
     "text": [
      "\n"
     ]
    },
    {
     "name": "stdout",
     "output_type": "stream",
     "text": [
      "\n",
      "Processing slice z= 423\n"
     ]
    },
    {
     "name": "stderr",
     "output_type": "stream",
     "text": [
      "Uploading:   0%|          | 0/1 [00:00<?, ?it/s]"
     ]
    },
    {
     "name": "stdout",
     "output_type": "stream",
     "text": [
      "success\n",
      "success\n",
      "success\n",
      "success\n",
      "success\n",
      "success\n",
      "success\n",
      "success\n",
      "success\n",
      "success\n",
      "success\n",
      "success\n",
      "success\n"
     ]
    },
    {
     "name": "stderr",
     "output_type": "stream",
     "text": [
      "Uploading: 100%|██████████| 1/1 [00:00<00:00,  8.67it/s]\n"
     ]
    },
    {
     "name": "stdout",
     "output_type": "stream",
     "text": [
      "Processing slice z= 424\n"
     ]
    },
    {
     "name": "stderr",
     "output_type": "stream",
     "text": [
      "Uploading: 100%|██████████| 1/1 [00:00<00:00,  8.55it/s]\n"
     ]
    },
    {
     "name": "stdout",
     "output_type": "stream",
     "text": [
      "Processing slice z= 425"
     ]
    },
    {
     "name": "stderr",
     "output_type": "stream",
     "text": [
      "Uploading: 100%|██████████| 1/1 [00:00<00:00,  9.26it/s]\n"
     ]
    },
    {
     "name": "stdout",
     "output_type": "stream",
     "text": [
      "\n",
      "Processing slice z= 426\n"
     ]
    },
    {
     "name": "stderr",
     "output_type": "stream",
     "text": [
      "Uploading: 100%|██████████| 1/1 [00:00<00:00,  8.28it/s]\n"
     ]
    },
    {
     "name": "stdout",
     "output_type": "stream",
     "text": [
      "Processing slice z= 427\n"
     ]
    },
    {
     "name": "stderr",
     "output_type": "stream",
     "text": [
      "Uploading: 100%|██████████| 1/1 [00:00<00:00,  8.80it/s]\n"
     ]
    },
    {
     "name": "stdout",
     "output_type": "stream",
     "text": [
      "Processing slice z= 428\n"
     ]
    },
    {
     "name": "stderr",
     "output_type": "stream",
     "text": [
      "Uploading: 100%|██████████| 1/1 [00:00<00:00,  8.47it/s]\n"
     ]
    },
    {
     "name": "stdout",
     "output_type": "stream",
     "text": [
      "Processing slice z= 429"
     ]
    },
    {
     "name": "stderr",
     "output_type": "stream",
     "text": [
      "\r",
      "Uploading: 100%|██████████| 1/1 [00:00<00:00,  8.76it/s]"
     ]
    },
    {
     "name": "stdout",
     "output_type": "stream",
     "text": [
      "\n"
     ]
    },
    {
     "name": "stderr",
     "output_type": "stream",
     "text": [
      "\n"
     ]
    },
    {
     "name": "stdout",
     "output_type": "stream",
     "text": [
      "Processing slice z= "
     ]
    },
    {
     "name": "stderr",
     "output_type": "stream",
     "text": [
      "\r",
      "Uploading:   0%|          | 0/1 [00:00<?, ?it/s]"
     ]
    },
    {
     "name": "stdout",
     "output_type": "stream",
     "text": [
      "430\n"
     ]
    },
    {
     "name": "stderr",
     "output_type": "stream",
     "text": [
      "Uploading: 100%|██████████| 1/1 [00:00<00:00,  8.24it/s]\n"
     ]
    },
    {
     "name": "stdout",
     "output_type": "stream",
     "text": [
      "Processing slice z= 431\n"
     ]
    },
    {
     "name": "stderr",
     "output_type": "stream",
     "text": [
      "Uploading: 100%|██████████| 1/1 [00:00<00:00,  8.50it/s]\n"
     ]
    },
    {
     "name": "stdout",
     "output_type": "stream",
     "text": [
      "Processing slice z= 432\n"
     ]
    },
    {
     "name": "stderr",
     "output_type": "stream",
     "text": [
      "Uploading: 100%|██████████| 1/1 [00:00<00:00,  8.51it/s]\n",
      "\n"
     ]
    },
    {
     "name": "stdout",
     "output_type": "stream",
     "text": [
      "Processing slice z=Processing slice z= 434\n",
      " 433\n"
     ]
    },
    {
     "name": "stderr",
     "output_type": "stream",
     "text": [
      "Uploading: 100%|██████████| 1/1 [00:00<00:00,  9.20it/s]\n"
     ]
    },
    {
     "name": "stdout",
     "output_type": "stream",
     "text": [
      "Processing slice z= 435\n"
     ]
    },
    {
     "name": "stderr",
     "output_type": "stream",
     "text": [
      "Uploading: 100%|██████████| 1/1 [00:00<00:00,  8.60it/s]\n"
     ]
    },
    {
     "name": "stdout",
     "output_type": "stream",
     "text": [
      "Processing slice z= 436success\n",
      "success\n",
      "success\n",
      "success\n",
      "success\n",
      "success\n",
      "success\n",
      "success\n",
      "success\n",
      "success\n",
      "success\n",
      "success\n",
      "success\n",
      "\n"
     ]
    },
    {
     "name": "stderr",
     "output_type": "stream",
     "text": [
      "Uploading: 100%|██████████| 1/1 [00:00<00:00,  9.00it/s]\n"
     ]
    },
    {
     "name": "stdout",
     "output_type": "stream",
     "text": [
      "Processing slice z= 437\n"
     ]
    },
    {
     "name": "stderr",
     "output_type": "stream",
     "text": [
      "Uploading: 100%|██████████| 1/1 [00:00<00:00,  8.76it/s]\n"
     ]
    },
    {
     "name": "stdout",
     "output_type": "stream",
     "text": [
      "Processing slice z= 438\n"
     ]
    },
    {
     "name": "stderr",
     "output_type": "stream",
     "text": [
      "Uploading:   0%|          | 0/1 [00:00<?, ?it/s].00it/s]\n"
     ]
    },
    {
     "name": "stdout",
     "output_type": "stream",
     "text": [
      "Processing slice z= 439\n"
     ]
    },
    {
     "name": "stderr",
     "output_type": "stream",
     "text": [
      "Uploading: 100%|██████████| 1/1 [00:00<00:00,  8.71it/s]\n"
     ]
    },
    {
     "name": "stdout",
     "output_type": "stream",
     "text": [
      "Processing slice z= 440\n"
     ]
    },
    {
     "name": "stderr",
     "output_type": "stream",
     "text": [
      "Uploading: 100%|██████████| 1/1 [00:00<00:00,  8.84it/s]\n"
     ]
    },
    {
     "name": "stdout",
     "output_type": "stream",
     "text": [
      "Processing slice z= 441\n"
     ]
    },
    {
     "name": "stderr",
     "output_type": "stream",
     "text": [
      "Uploading: 100%|██████████| 1/1 [00:00<00:00,  8.30it/s]\n"
     ]
    },
    {
     "name": "stdout",
     "output_type": "stream",
     "text": [
      "Processing slice z= 442\n"
     ]
    },
    {
     "name": "stderr",
     "output_type": "stream",
     "text": [
      "Uploading: 100%|██████████| 1/1 [00:00<00:00,  8.52it/s]\n"
     ]
    },
    {
     "name": "stdout",
     "output_type": "stream",
     "text": [
      "Processing slice z= 443\n"
     ]
    },
    {
     "name": "stderr",
     "output_type": "stream",
     "text": [
      "Uploading: 100%|██████████| 1/1 [00:00<00:00,  9.23it/s]\n"
     ]
    },
    {
     "name": "stdout",
     "output_type": "stream",
     "text": [
      "Processing slice z= 444\n"
     ]
    },
    {
     "name": "stderr",
     "output_type": "stream",
     "text": [
      "Uploading: 100%|██████████| 1/1 [00:00<00:00,  8.97it/s]\n"
     ]
    },
    {
     "name": "stdout",
     "output_type": "stream",
     "text": [
      "Processing slice z= 445\n"
     ]
    },
    {
     "name": "stderr",
     "output_type": "stream",
     "text": [
      "Uploading: 100%|██████████| 1/1 [00:00<00:00,  8.80it/s]\n"
     ]
    },
    {
     "name": "stdout",
     "output_type": "stream",
     "text": [
      "Processing slice z= 446\n"
     ]
    },
    {
     "name": "stderr",
     "output_type": "stream",
     "text": [
      "Uploading: 100%|██████████| 1/1 [00:00<00:00,  8.70it/s]\n"
     ]
    },
    {
     "name": "stdout",
     "output_type": "stream",
     "text": [
      "Processing slice z= 447\n"
     ]
    },
    {
     "name": "stderr",
     "output_type": "stream",
     "text": [
      "Uploading: 100%|██████████| 1/1 [00:00<00:00,  9.40it/s]\n"
     ]
    },
    {
     "name": "stdout",
     "output_type": "stream",
     "text": [
      "Processing slice z= 448\n"
     ]
    },
    {
     "name": "stderr",
     "output_type": "stream",
     "text": [
      "Uploading: 100%|██████████| 1/1 [00:00<00:00,  8.92it/s]\n"
     ]
    },
    {
     "name": "stdout",
     "output_type": "stream",
     "text": [
      "Processing slice z= 449\n"
     ]
    },
    {
     "name": "stderr",
     "output_type": "stream",
     "text": [
      "\r",
      "Uploading:   0%|          | 0/1 [00:00<?, ?it/s]"
     ]
    },
    {
     "name": "stdout",
     "output_type": "stream",
     "text": [
      "success\n",
      "success\n",
      "success\n",
      "success\n",
      "success\n",
      "success\n",
      "success\n",
      "success\n",
      "success\n",
      "success\n",
      "success\n",
      "success\n",
      "success\n"
     ]
    },
    {
     "name": "stderr",
     "output_type": "stream",
     "text": [
      "Uploading: 100%|██████████| 1/1 [00:00<00:00,  8.53it/s]\n"
     ]
    },
    {
     "name": "stdout",
     "output_type": "stream",
     "text": [
      "Processing slice z= "
     ]
    },
    {
     "name": "stderr",
     "output_type": "stream",
     "text": [
      "\r",
      "Uploading: 100%|██████████| 1/1 [00:00<00:00,  9.25it/s]"
     ]
    },
    {
     "name": "stdout",
     "output_type": "stream",
     "text": [
      "450"
     ]
    },
    {
     "name": "stderr",
     "output_type": "stream",
     "text": [
      "\n"
     ]
    },
    {
     "name": "stdout",
     "output_type": "stream",
     "text": [
      "\n",
      "Processing slice z= 451\n"
     ]
    },
    {
     "name": "stderr",
     "output_type": "stream",
     "text": [
      "Uploading: 100%|██████████| 1/1 [00:00<00:00,  9.12it/s]\n"
     ]
    },
    {
     "name": "stdout",
     "output_type": "stream",
     "text": [
      "Processing slice z= 452\n"
     ]
    },
    {
     "name": "stderr",
     "output_type": "stream",
     "text": [
      "Uploading: 100%|██████████| 1/1 [00:00<00:00,  8.70it/s]\n"
     ]
    },
    {
     "name": "stdout",
     "output_type": "stream",
     "text": [
      "Processing slice z= 453\n"
     ]
    },
    {
     "name": "stderr",
     "output_type": "stream",
     "text": [
      "Uploading: 100%|██████████| 1/1 [00:00<00:00,  8.77it/s]\n",
      "\n"
     ]
    },
    {
     "name": "stdout",
     "output_type": "stream",
     "text": [
      "Processing slice z= 454\n"
     ]
    },
    {
     "name": "stderr",
     "output_type": "stream",
     "text": [
      "Uploading: 100%|██████████| 1/1 [00:00<00:00,  8.82it/s]\n",
      "Uploading: 100%|██████████| 1/1 [00:00<00:00,  8.45it/s]\n",
      "Uploading: 100%|██████████| 1/1 [00:00<00:00,  9.39it/s]\n",
      "Uploading: 100%|██████████| 1/1 [00:00<00:00,  8.75it/s]\n",
      "Uploading: 100%|██████████| 1/1 [00:00<00:00,  8.96it/s]\n",
      "Uploading: 100%|██████████| 1/1 [00:00<00:00,  9.42it/s]\n",
      "Uploading: 100%|██████████| 1/1 [00:00<00:00,  8.81it/s]\n"
     ]
    },
    {
     "name": "stdout",
     "output_type": "stream",
     "text": [
      "success\n",
      "success\n",
      "success\n",
      "success\n",
      "success\n",
      "success\n",
      "success\n",
      "success\n",
      "success\n",
      "success\n",
      "success\n",
      "success\n",
      "success\n"
     ]
    }
   ],
   "source": [
    "# Run the conversion in parallel. It's not a huge amount of processing but the more cores the better\n",
    "\n",
    "# First figure out if there are any planes that have already been converted \n",
    "# by checking the progress dir\n",
    "done_files = set([ int(z) for z in os.listdir(progress_dir) ])\n",
    "all_files = set(range(vol.bounds.minpt.z, vol.bounds.maxpt.z))\n",
    "# Figure out the ones we still need to convert \n",
    "to_upload = [ int(z) for z in list(all_files.difference(done_files)) ]\n",
    "to_upload.sort()\n",
    "print(f\"Have {len(to_upload)} planes to upload\")\n",
    "with ProcessPoolExecutor(max_workers=cpus_to_use) as executor:\n",
    "    for result in executor.map(process_slice,to_upload):\n",
    "        try:\n",
    "            print(result)\n",
    "        except Exception as exc:\n",
    "            print(f'generated an exception: {exc}')"
   ]
  },
  {
   "cell_type": "markdown",
   "metadata": {},
   "source": [
    "## Step 4 (optional): Make the 3d mesh\n",
    "In this step, we make the 3d mesh of the atlas from the precomputed layer we just created. This step is necessary if you want to view the atlas you created in the 3d viewer (lower left panel in Neuroglancer).  "
   ]
  },
  {
   "cell_type": "code",
   "execution_count": 14,
   "metadata": {},
   "outputs": [],
   "source": [
    "# define the meshing function\n",
    "def make_3d_mesh(vol,n_cores):\n",
    "    \"\"\" This function makes the mesh so that when you\n",
    "    load your segmentation layer into neuroglancer, you \n",
    "    will be able to see whichever segments are highlighted\n",
    "    in the 3d viewer as well as all of the other panels. \n",
    "\n",
    "    It uses parallel processing to speed up the meshing\n",
    "    ---parameters---\n",
    "    vol:     The cloudvolume object\n",
    "    n_cores: Number of cores to use\n",
    "    \"\"\"\n",
    "    # Mesh using the  cores, use True to use all cores\n",
    "    cloudpath = vol.cloudpath\n",
    "    with LocalTaskQueue(parallel=n_cores) as tq:\n",
    "        tasks = tc.create_meshing_tasks(cloudpath, mip=0, shape=(256, 256, 256))\n",
    "        tq.insert_all(tasks)\n",
    "        tasks = tc.create_mesh_manifest_tasks(cloudpath)\n",
    "        tq.insert_all(tasks)\n",
    "    print(\"Done!\")\n"
   ]
  },
  {
   "cell_type": "code",
   "execution_count": 15,
   "metadata": {},
   "outputs": [
    {
     "name": "stderr",
     "output_type": "stream",
     "text": [
      "Tasks:   0%|          | 0/16 [00:00<?, ?it/s]\n",
      "Downloading:   0%|          | 0/257 [00:00<?, ?it/s]\u001b[A\n",
      "Downloading:   0%|          | 0/257 [00:00<?, ?it/s]\u001b[A\n",
      "Downloading:   0%|          | 0/257 [00:00<?, ?it/s]\u001b[A\n",
      "Downloading:   0%|          | 0/257 [00:00<?, ?it/s]\u001b[A\n",
      "Downloading:   0%|          | 0/257 [00:00<?, ?it/s]\u001b[A\n",
      "Downloading:   0%|          | 0/257 [00:00<?, ?it/s]\u001b[A\n",
      "Downloading:   0%|          | 0/257 [00:00<?, ?it/s]\u001b[A\n",
      "Downloading:   0%|          | 0/257 [00:00<?, ?it/s]\u001b[A\n",
      "Downloading:   8%|▊         | 20/257 [00:00<00:01, 190.25it/s]\u001b[A\n",
      "Downloading:   8%|▊         | 20/257 [00:00<00:01, 190.25it/s]\u001b[A\n",
      "Downloading:   8%|▊         | 20/257 [00:00<00:01, 189.24it/s]\u001b[A\n",
      "Downloading:   8%|▊         | 20/257 [00:00<00:01, 189.24it/s]\u001b[A\n",
      "Downloading:  10%|▉         | 25/257 [00:00<00:01, 175.62it/s]\u001b[A\n",
      "Downloading:  13%|█▎        | 33/257 [00:00<00:01, 214.02it/s]\u001b[A\n",
      "Downloading:  13%|█▎        | 33/257 [00:00<00:01, 214.02it/s]\u001b[A\n",
      "Downloading:  13%|█▎        | 33/257 [00:00<00:01, 214.02it/s]\u001b[A\n",
      "Downloading:  13%|█▎        | 34/257 [00:00<00:01, 214.02it/s]\u001b[A\n",
      "Downloading:  16%|█▌        | 40/257 [00:00<00:00, 246.88it/s]\u001b[A\n",
      "Downloading:  13%|█▎        | 34/257 [00:00<00:01, 214.02it/s]\u001b[A\n",
      "Downloading:  16%|█▌        | 40/257 [00:00<00:00, 241.33it/s]\u001b[A\n",
      "Downloading:  12%|█▏        | 30/257 [00:00<00:01, 192.46it/s]\u001b[A\n",
      "Downloading:  19%|█▉        | 49/257 [00:00<00:00, 246.88it/s]\u001b[A\n",
      "Downloading:  21%|██▏       | 55/257 [00:00<00:00, 246.88it/s]\u001b[A\n",
      "Downloading:  21%|██        | 54/257 [00:00<00:00, 241.33it/s]\u001b[A\n",
      "Downloading:  22%|██▏       | 57/257 [00:00<00:00, 246.88it/s]\u001b[A\n",
      "Downloading:  22%|██▏       | 57/257 [00:00<00:00, 246.88it/s]\u001b[A\n",
      "Downloading:  22%|██▏       | 57/257 [00:00<00:00, 246.88it/s]\u001b[A\n",
      "Downloading:  16%|█▌        | 40/257 [00:00<00:00, 240.99it/s]\u001b[A\n",
      "Downloading:  23%|██▎       | 58/257 [00:00<00:00, 246.88it/s]\u001b[A\n",
      "Downloading:  23%|██▎       | 58/257 [00:00<00:00, 246.88it/s]\u001b[A\n",
      "Downloading:  25%|██▍       | 64/257 [00:00<00:01, 131.05it/s]\u001b[A\n",
      "Downloading:  25%|██▍       | 64/257 [00:00<00:01, 131.05it/s]\u001b[A\n",
      "Downloading:  25%|██▍       | 64/257 [00:00<00:01, 131.05it/s]\u001b[A\n",
      "Downloading:  24%|██▍       | 62/257 [00:00<00:00, 246.88it/s]\u001b[A\n",
      "Downloading:  26%|██▌       | 67/257 [00:00<00:01, 131.05it/s]\u001b[A\n",
      "Downloading:  25%|██▍       | 64/257 [00:00<00:00, 246.88it/s]\u001b[A\n",
      "Downloading:  26%|██▋       | 68/257 [00:00<00:01, 131.05it/s]\u001b[A\n",
      "Downloading:  26%|██▋       | 68/257 [00:00<00:01, 131.05it/s]\u001b[A\n",
      "Downloading:  27%|██▋       | 69/257 [00:00<00:01, 131.05it/s]\u001b[A\n",
      "Downloading:  27%|██▋       | 70/257 [00:00<00:00, 246.88it/s]\u001b[A\n",
      "Downloading:  14%|█▍        | 37/257 [00:00<00:00, 238.48it/s]\u001b[A\n",
      "Downloading:  28%|██▊       | 73/257 [00:00<00:00, 246.88it/s]\u001b[A\n",
      "Downloading:  28%|██▊       | 73/257 [00:00<00:00, 246.88it/s]\u001b[A\n",
      "Downloading:  30%|██▉       | 76/257 [00:00<00:01, 131.05it/s]\u001b[A\n",
      "Downloading:  17%|█▋        | 43/257 [00:00<00:02, 87.08it/s] \u001b[A\n",
      "Downloading:  30%|███       | 78/257 [00:00<00:01, 131.05it/s]\u001b[A\n",
      "Downloading:  31%|███       | 79/257 [00:00<00:01, 131.05it/s]\u001b[A\n",
      "Downloading:  31%|███       | 79/257 [00:00<00:01, 131.05it/s]\u001b[A\n",
      "Downloading:  32%|███▏      | 82/257 [00:00<00:00, 246.88it/s]\u001b[A\n",
      "Downloading:  32%|███▏      | 82/257 [00:00<00:01, 131.05it/s]\u001b[A\n",
      "Downloading:  34%|███▍      | 87/257 [00:00<00:00, 246.88it/s]\u001b[A\n",
      "Downloading:  34%|███▍      | 88/257 [00:00<00:00, 246.88it/s]\u001b[A\n",
      "Downloading:  21%|██        | 53/257 [00:00<00:02, 69.60it/s]\u001b[A\n",
      "Downloading:  35%|███▍      | 89/257 [00:00<00:01, 131.05it/s]\u001b[A\n",
      "Downloading:  36%|███▌      | 92/257 [00:00<00:00, 246.88it/s]\u001b[A\n",
      "Downloading:  38%|███▊      | 97/257 [00:00<00:01, 131.05it/s]\u001b[A\n",
      "Downloading:  21%|██▏       | 55/257 [00:00<00:01, 136.94it/s]\u001b[A\n",
      "Downloading:  21%|██▏       | 55/257 [00:00<00:01, 136.94it/s]\u001b[A\n",
      "Downloading:  39%|███▊      | 99/257 [00:00<00:01, 131.05it/s]\u001b[A\n",
      "Downloading:  39%|███▊      | 99/257 [00:00<00:01, 131.05it/s]\u001b[A\n",
      "Downloading:  39%|███▉      | 101/257 [00:00<00:01, 131.05it/s]\u001b[A\n",
      "Downloading:  27%|██▋       | 69/257 [00:00<00:01, 136.94it/s]\u001b[A\n",
      "Downloading:  41%|████      | 106/257 [00:00<00:01, 131.05it/s]\u001b[A\n",
      "Downloading:  18%|█▊        | 46/257 [00:00<00:01, 118.68it/s]\u001b[A\n",
      "Downloading:  46%|████▌     | 117/257 [00:00<00:00, 246.88it/s]\u001b[A\n",
      "Downloading:  47%|████▋     | 120/257 [00:00<00:00, 246.88it/s]\u001b[A\n",
      "Downloading:  32%|███▏      | 82/257 [00:00<00:01, 136.94it/s]\u001b[A\n",
      "Downloading:  47%|████▋     | 122/257 [00:00<00:00, 246.88it/s]\u001b[A\n",
      "Downloading:  33%|███▎      | 85/257 [00:00<00:01, 136.94it/s]\u001b[A\n",
      "Downloading:  21%|██▏       | 55/257 [00:00<00:03, 53.15it/s] \u001b[A\n",
      "Downloading:  21%|██▏       | 55/257 [00:00<00:03, 53.15it/s]\u001b[A\n",
      "Downloading:  21%|██▏       | 55/257 [00:00<00:03, 53.15it/s]\u001b[A\n",
      "Downloading:  21%|██▏       | 55/257 [00:00<00:03, 53.15it/s]\u001b[A\n",
      "Downloading:  36%|███▌      | 92/257 [00:00<00:01, 136.94it/s]\u001b[A\n",
      "Downloading:  22%|██▏       | 57/257 [00:00<00:03, 53.15it/s]\u001b[A\n",
      "Downloading:  36%|███▌      | 93/257 [00:00<00:01, 136.94it/s]\u001b[A\n",
      "Downloading:  36%|███▌      | 93/257 [00:00<00:01, 136.94it/s]\u001b[A\n",
      "Downloading:  37%|███▋      | 94/257 [00:00<00:01, 136.94it/s]\u001b[A\n",
      "Downloading:  24%|██▎       | 61/257 [00:00<00:03, 53.15it/s]\u001b[A\n",
      "Downloading:  24%|██▍       | 62/257 [00:00<00:03, 53.15it/s]\u001b[A\n",
      "Downloading:  39%|███▊      | 99/257 [00:00<00:01, 136.94it/s]\u001b[A\n",
      "Downloading:  39%|███▉      | 100/257 [00:00<00:01, 136.94it/s]\u001b[A\n",
      "Downloading:  26%|██▌       | 66/257 [00:00<00:03, 53.15it/s]\u001b[A\n",
      "Downloading:  26%|██▌       | 67/257 [00:00<00:03, 53.15it/s]\u001b[A\n",
      "Downloading:  42%|████▏     | 107/257 [00:00<00:01, 136.94it/s]\u001b[A\n",
      "Downloading:  28%|██▊       | 72/257 [00:00<00:03, 53.15it/s]\u001b[A\n",
      "Downloading:  43%|████▎     | 110/257 [00:00<00:01, 136.94it/s]\u001b[A\n",
      "Downloading:  29%|██▉       | 74/257 [00:00<00:03, 53.15it/s]\u001b[A\n",
      "Downloading:  29%|██▉       | 75/257 [00:00<00:03, 53.15it/s]\u001b[A\n",
      "Downloading:  30%|███       | 78/257 [00:00<00:03, 53.15it/s]\u001b[A\n",
      "Downloading:  32%|███▏      | 82/257 [00:00<00:03, 53.15it/s]\u001b[A\n",
      "Downloading:  32%|███▏      | 83/257 [00:00<00:03, 53.15it/s]\u001b[A\n",
      "Downloading:  32%|███▏      | 83/257 [00:00<00:03, 53.15it/s]\u001b[A\n",
      "Downloading:  33%|███▎      | 85/257 [00:00<00:03, 53.15it/s]\u001b[A\n",
      "Downloading:  27%|██▋       | 69/257 [00:00<00:00, 271.40it/s]\u001b[A\n",
      "Downloading:  35%|███▍      | 89/257 [00:00<00:03, 53.15it/s]\u001b[A\n",
      "Downloading:  26%|██▌       | 66/257 [00:00<00:03, 59.80it/s]\u001b[A\n",
      "Downloading:  26%|██▌       | 66/257 [00:00<00:03, 59.80it/s]\u001b[A\n",
      "Downloading:  31%|███       | 79/257 [00:00<00:04, 43.07it/s] \u001b[A\n",
      "Downloading:  54%|█████▍    | 140/257 [00:00<00:02, 40.42it/s] \u001b[A\n",
      "Downloading:  28%|██▊       | 71/257 [00:00<00:03, 59.80it/s]\u001b[A\n",
      "Downloading:  28%|██▊       | 71/257 [00:00<00:03, 59.80it/s]\u001b[A\n",
      "Downloading:  28%|██▊       | 71/257 [00:00<00:03, 59.80it/s]\u001b[A\n",
      "Downloading:  28%|██▊       | 72/257 [00:00<00:03, 59.80it/s]\u001b[A\n",
      "Downloading:  28%|██▊       | 72/257 [00:00<00:03, 59.80it/s]\u001b[A\n",
      "Downloading:  28%|██▊       | 72/257 [00:00<00:03, 59.80it/s]\u001b[A\n",
      "Downloading:  28%|██▊       | 73/257 [00:00<00:03, 59.80it/s]\u001b[A\n",
      "Downloading:  29%|██▉       | 74/257 [00:00<00:03, 59.80it/s]\u001b[A\n",
      "Downloading:  29%|██▉       | 74/257 [00:00<00:03, 59.80it/s]\u001b[A\n",
      "Downloading:  29%|██▉       | 75/257 [00:00<00:03, 59.80it/s]\u001b[A\n",
      "Downloading:  30%|██▉       | 77/257 [00:00<00:03, 59.80it/s]\u001b[A\n",
      "Downloading:  30%|███       | 78/257 [00:00<00:02, 59.80it/s]\u001b[A\n",
      "Downloading:  31%|███       | 80/257 [00:00<00:02, 59.80it/s]\u001b[A\n",
      "Downloading:  35%|███▌      | 91/257 [00:00<00:05, 29.07it/s]\u001b[A\n",
      "Downloading:  33%|███▎      | 84/257 [00:00<00:02, 59.80it/s]\u001b[A\n",
      "Downloading:  33%|███▎      | 86/257 [00:00<00:02, 59.80it/s]\u001b[A\n",
      "Downloading:  39%|███▊      | 99/257 [00:00<00:05, 29.07it/s]\u001b[A\n",
      "Downloading:  39%|███▉      | 100/257 [00:00<00:05, 29.07it/s]\u001b[A\n",
      "Downloading:  39%|███▉      | 100/257 [00:01<00:05, 29.07it/s]\u001b[A\n",
      "Downloading:  39%|███▉      | 100/257 [00:01<00:05, 29.07it/s]\u001b[A\n",
      "Downloading:  64%|██████▍   | 165/257 [00:01<00:00, 144.15it/s]\u001b[A\n",
      "Downloading:  39%|███▉      | 101/257 [00:01<00:05, 29.07it/s]\u001b[A\n",
      "Downloading:  40%|███▉      | 102/257 [00:01<00:05, 29.07it/s]\u001b[A\n",
      "Downloading:  40%|████      | 103/257 [00:01<00:05, 29.07it/s]\u001b[A\n",
      "Downloading:  40%|████      | 103/257 [00:01<00:05, 29.07it/s]\u001b[A\n",
      "Downloading:  40%|████      | 103/257 [00:01<00:05, 29.07it/s]\u001b[A\n",
      "Downloading:  40%|████      | 104/257 [00:01<00:05, 29.07it/s]\u001b[A\n",
      "Downloading:  41%|████      | 105/257 [00:01<00:05, 29.07it/s]\u001b[A\n",
      "Downloading:  23%|██▎       | 59/257 [00:01<00:00, 280.30it/s]\u001b[A\n",
      "Downloading:  23%|██▎       | 59/257 [00:01<00:00, 280.30it/s]\u001b[A\n",
      "Downloading:  23%|██▎       | 59/257 [00:01<00:00, 274.74it/s]\u001b[A\n",
      "Downloading:  23%|██▎       | 60/257 [00:01<00:00, 280.30it/s]\u001b[A\n",
      "Downloading:  24%|██▎       | 61/257 [00:01<00:00, 280.30it/s]\u001b[A\n",
      "Downloading:  24%|██▎       | 61/257 [00:01<00:00, 274.74it/s]\u001b[A\n",
      "Downloading:  24%|██▍       | 62/257 [00:01<00:00, 280.30it/s]\u001b[A\n",
      "Downloading:  24%|██▍       | 62/257 [00:01<00:00, 274.74it/s]\u001b[A\n",
      "Downloading:  24%|██▍       | 62/257 [00:01<00:00, 280.30it/s]\u001b[A\n",
      "Downloading:  25%|██▍       | 64/257 [00:01<00:00, 280.30it/s]\u001b[A\n",
      "Downloading:  26%|██▌       | 66/257 [00:01<00:00, 280.30it/s]\u001b[A\n",
      "Downloading:  26%|██▋       | 68/257 [00:01<00:00, 274.74it/s]\u001b[A\n",
      "Downloading:  27%|██▋       | 69/257 [00:01<00:00, 274.74it/s]\u001b[A\n",
      "Downloading:  26%|██▌       | 67/257 [00:01<00:00, 280.30it/s]\u001b[A\n",
      "Downloading:  28%|██▊       | 71/257 [00:01<00:00, 280.30it/s]\u001b[A\n",
      "Downloading:  29%|██▉       | 75/257 [00:01<00:00, 274.74it/s]\u001b[A\n",
      "Downloading:  29%|██▉       | 75/257 [00:01<00:00, 274.74it/s]\u001b[A\n",
      "Downloading:  29%|██▉       | 75/257 [00:01<00:00, 280.30it/s]\u001b[A\n",
      "Downloading:  29%|██▉       | 75/257 [00:01<00:00, 280.30it/s]\u001b[A\n",
      "Downloading:  30%|███       | 78/257 [00:01<00:00, 274.74it/s]\u001b[A\n",
      "Downloading:  30%|██▉       | 76/257 [00:01<00:00, 280.30it/s]\u001b[A\n",
      "Downloading:  32%|███▏      | 82/257 [00:01<00:00, 274.74it/s]\u001b[A\n",
      "Downloading:  32%|███▏      | 81/257 [00:01<00:00, 280.30it/s]\u001b[A\n",
      "Downloading:  33%|███▎      | 86/257 [00:01<00:00, 274.74it/s]\u001b[A\n",
      "Downloading:  34%|███▍      | 87/257 [00:01<00:00, 274.74it/s]\u001b[A\n",
      "Downloading:  34%|███▍      | 87/257 [00:01<00:00, 280.30it/s]\u001b[A\n",
      "Downloading:  34%|███▍      | 88/257 [00:01<00:00, 280.30it/s]\u001b[A\n",
      "Downloading:  37%|███▋      | 94/257 [00:01<00:00, 274.74it/s]\u001b[A\n",
      "Downloading:  36%|███▌      | 93/257 [00:01<00:00, 280.30it/s]\u001b[A\n",
      "Downloading:  39%|███▊      | 99/257 [00:01<00:00, 280.30it/s]\u001b[A\n",
      "Downloading:  39%|███▊      | 99/257 [00:01<00:00, 280.30it/s]\u001b[A\n",
      "Downloading:  42%|████▏     | 107/257 [00:01<00:00, 274.74it/s]\u001b[A\n",
      "Downloading:  42%|████▏     | 109/257 [00:01<00:00, 274.74it/s]\u001b[A\n",
      "Downloading:  43%|████▎     | 111/257 [00:01<00:00, 274.74it/s]\u001b[A\n",
      "Downloading:  44%|████▎     | 112/257 [00:01<00:00, 274.74it/s]\u001b[A\n",
      "Downloading:  45%|████▍     | 115/257 [00:01<00:00, 280.30it/s]\u001b[A\n",
      "Downloading:  58%|█████▊    | 149/257 [00:01<00:01, 74.43it/s] \u001b[A\n",
      "Downloading:  45%|████▌     | 116/257 [00:01<00:00, 274.74it/s]\u001b[A\n",
      "Downloading:  60%|██████    | 155/257 [00:01<00:01, 74.43it/s]\u001b[A\n",
      "Downloading:  47%|████▋     | 122/257 [00:01<00:00, 274.74it/s]\u001b[A\n",
      "Downloading:  49%|████▊     | 125/257 [00:01<00:00, 274.74it/s]\u001b[A\n",
      "Downloading:  49%|████▉     | 127/257 [00:01<00:00, 274.74it/s]\u001b[A\n",
      "Downloading:  51%|█████▏    | 132/257 [00:01<00:02, 46.96it/s]\u001b[A\n",
      "Downloading:  71%|███████   | 182/257 [00:01<00:01, 45.09it/s] \u001b[A\n",
      "Downloading:  71%|███████   | 182/257 [00:01<00:01, 45.09it/s]\u001b[A\n",
      "Downloading:  71%|███████   | 182/257 [00:01<00:01, 45.09it/s]\u001b[A\n",
      "Downloading:  71%|███████   | 183/257 [00:01<00:01, 45.09it/s]\u001b[A\n",
      "Downloading:  71%|███████   | 183/257 [00:01<00:01, 45.09it/s]\u001b[A\n",
      "Downloading:  71%|███████   | 183/257 [00:01<00:01, 45.09it/s]\u001b[A\n",
      "Downloading:  54%|█████▎    | 138/257 [00:01<00:04, 28.79it/s]\u001b[A\n",
      "Downloading:  54%|█████▎    | 138/257 [00:01<00:04, 28.79it/s]\u001b[A\n",
      "Downloading:  54%|█████▍    | 139/257 [00:01<00:04, 28.79it/s]\u001b[A\n",
      "Downloading:  54%|█████▍    | 140/257 [00:01<00:04, 28.79it/s]\u001b[A\n",
      "Downloading:  54%|█████▍    | 140/257 [00:01<00:04, 28.79it/s]\u001b[A\n",
      "Downloading:  49%|████▉     | 126/257 [00:01<00:03, 36.75it/s]\u001b[A\n",
      "Downloading:  49%|████▉     | 126/257 [00:01<00:03, 36.75it/s]\u001b[A\n",
      "Downloading:  49%|████▉     | 126/257 [00:01<00:03, 36.75it/s]\u001b[A\n",
      "Downloading:  59%|█████▉    | 151/257 [00:01<00:04, 26.13it/s]\u001b[A\n",
      "Downloading:  67%|██████▋   | 173/257 [00:01<00:04, 20.82it/s]\u001b[A\n",
      "Downloading:  67%|██████▋   | 173/257 [00:01<00:04, 20.82it/s]\u001b[A\n",
      "Downloading:  68%|██████▊   | 174/257 [00:01<00:03, 20.82it/s]\u001b[A\n",
      "Downloading:  68%|██████▊   | 174/257 [00:01<00:03, 20.82it/s]\u001b[A\n",
      "Downloading:  68%|██████▊   | 174/257 [00:01<00:03, 20.82it/s]\u001b[A\n",
      "Downloading:  68%|██████▊   | 174/257 [00:01<00:03, 20.82it/s]\u001b[A\n",
      "Downloading:  68%|██████▊   | 176/257 [00:01<00:03, 20.82it/s]\u001b[A\n",
      "Downloading:  68%|██████▊   | 176/257 [00:01<00:03, 20.82it/s]\u001b[A\n",
      "Downloading:  69%|██████▉   | 177/257 [00:01<00:03, 20.82it/s]\u001b[A\n",
      "Downloading:  69%|██████▉   | 177/257 [00:01<00:03, 20.82it/s]\u001b[A\n",
      "Downloading:  69%|██████▉   | 178/257 [00:01<00:03, 20.82it/s]\u001b[A\n",
      "Downloading:  70%|██████▉   | 179/257 [00:01<00:03, 20.82it/s]\u001b[A\n",
      "Downloading:  71%|███████   | 182/257 [00:01<00:03, 20.82it/s]\u001b[A\n",
      "Downloading:  71%|███████   | 183/257 [00:01<00:03, 20.82it/s]\u001b[A\n",
      "Downloading:  72%|███████▏  | 186/257 [00:01<00:03, 20.82it/s]\u001b[A\n",
      "Downloading:  73%|███████▎  | 188/257 [00:01<00:03, 20.82it/s]\u001b[A\n",
      "Downloading:  74%|███████▎  | 189/257 [00:01<00:03, 20.82it/s]\u001b[A\n",
      "Downloading:  74%|███████▍  | 191/257 [00:01<00:03, 20.82it/s]\u001b[A\n",
      "Downloading:  65%|██████▌   | 168/257 [00:01<00:01, 70.16it/s] \u001b[A\n",
      "Downloading:  65%|██████▌   | 168/257 [00:01<00:01, 70.16it/s]\u001b[A\n",
      "Downloading:  65%|██████▌   | 168/257 [00:01<00:01, 70.16it/s]\u001b[A\n",
      "Downloading:  65%|██████▌   | 168/257 [00:02<00:01, 70.16it/s]\u001b[A\n",
      "Downloading:  66%|██████▌   | 169/257 [00:02<00:01, 70.16it/s]\u001b[A\n",
      "Downloading:  66%|██████▌   | 169/257 [00:02<00:01, 70.16it/s]\u001b[A\n",
      "Downloading:  66%|██████▌   | 170/257 [00:02<00:01, 70.16it/s]\u001b[A\n",
      "Downloading:  66%|██████▌   | 170/257 [00:02<00:01, 70.16it/s]\u001b[A\n",
      "Downloading:  67%|██████▋   | 171/257 [00:02<00:01, 70.16it/s]\u001b[A\n",
      "Downloading:  67%|██████▋   | 171/257 [00:02<00:01, 70.16it/s]\u001b[A\n",
      "Downloading:  67%|██████▋   | 173/257 [00:02<00:01, 70.16it/s]\u001b[A\n",
      "Downloading:  68%|██████▊   | 174/257 [00:02<00:01, 70.16it/s]\u001b[A\n",
      "Downloading:  68%|██████▊   | 175/257 [00:02<00:01, 70.16it/s]\u001b[A\n",
      "Downloading:  70%|██████▉   | 179/257 [00:02<00:01, 70.16it/s]\u001b[A\n",
      "Downloading:  70%|███████   | 180/257 [00:02<00:01, 70.16it/s]\u001b[A\n",
      "Downloading:  71%|███████   | 182/257 [00:02<00:01, 70.16it/s]\u001b[A\n",
      "Downloading:  72%|███████▏  | 184/257 [00:02<00:01, 70.16it/s]\u001b[A\n",
      "Downloading:  72%|███████▏  | 185/257 [00:02<00:01, 70.16it/s]\u001b[A\n",
      "Downloading:  73%|███████▎  | 187/257 [00:02<00:00, 70.16it/s]\u001b[A\n",
      "Downloading:  74%|███████▎  | 189/257 [00:02<00:00, 70.16it/s]\u001b[A\n",
      "Downloading:  79%|███████▊  | 202/257 [00:02<00:04, 12.23it/s]\u001b[A\n",
      "Downloading:  79%|███████▊  | 202/257 [00:02<00:04, 12.23it/s]\u001b[A\n",
      "Downloading:  79%|███████▊  | 202/257 [00:02<00:04, 12.23it/s]\u001b[A\n",
      "Downloading:  79%|███████▊  | 202/257 [00:02<00:04, 12.23it/s]\u001b[A\n",
      "Downloading:  67%|██████▋   | 173/257 [00:02<00:04, 20.15it/s]\u001b[A\n",
      "Downloading:  79%|███████▉  | 203/257 [00:02<00:04, 12.23it/s]\u001b[A\n",
      "Downloading:  79%|███████▉  | 203/257 [00:02<00:04, 12.23it/s]\u001b[A\n",
      "Downloading:  69%|██████▉   | 177/257 [00:02<00:03, 20.15it/s]\u001b[A\n",
      "Downloading:  79%|███████▉  | 204/257 [00:02<00:04, 12.23it/s]\u001b[A\n",
      "Downloading:  70%|███████   | 180/257 [00:02<00:03, 20.15it/s]\u001b[A\n",
      "Downloading:  81%|████████  | 207/257 [00:02<00:04, 12.23it/s]\u001b[A\n",
      "Downloading:  81%|████████  | 208/257 [00:02<00:04, 12.23it/s]\u001b[A\n",
      "Downloading:  82%|████████▏ | 210/257 [00:02<00:03, 12.23it/s]\u001b[A\n",
      "Downloading:  82%|████████▏ | 211/257 [00:02<00:03, 12.23it/s]\u001b[A\n",
      "Downloading:  82%|████████▏ | 212/257 [00:02<00:03, 12.23it/s]\u001b[A\n",
      "Downloading:  64%|██████▍   | 165/257 [00:02<00:04, 18.59it/s]\u001b[A\n",
      "Downloading:  83%|████████▎ | 214/257 [00:02<00:03, 12.23it/s]\u001b[A\n",
      "Downloading:  66%|██████▌   | 169/257 [00:02<00:04, 18.59it/s]\u001b[A\n",
      "Downloading:  66%|██████▌   | 170/257 [00:02<00:04, 18.59it/s]\u001b[A\n",
      "Downloading:  66%|██████▌   | 170/257 [00:02<00:04, 18.59it/s]\u001b[A\n",
      "Downloading:  66%|██████▌   | 170/257 [00:02<00:04, 18.59it/s]\u001b[A\n",
      "Downloading:  66%|██████▌   | 170/257 [00:02<00:04, 18.59it/s]\u001b[A\n",
      "Downloading:  66%|██████▌   | 170/257 [00:02<00:04, 18.59it/s]\u001b[A\n",
      "Downloading:  67%|██████▋   | 171/257 [00:02<00:04, 18.59it/s]\u001b[A\n"
     ]
    },
    {
     "name": "stderr",
     "output_type": "stream",
     "text": [
      "Downloading:  67%|██████▋   | 172/257 [00:02<00:04, 18.59it/s]\u001b[A\n",
      "Downloading:  67%|██████▋   | 173/257 [00:02<00:04, 18.59it/s]\u001b[A\n",
      "Downloading:  68%|██████▊   | 174/257 [00:02<00:04, 18.59it/s]\u001b[A\n",
      "Downloading:  68%|██████▊   | 176/257 [00:02<00:04, 18.59it/s]\u001b[A\n",
      "Downloading:  69%|██████▉   | 177/257 [00:02<00:04, 18.59it/s]\u001b[A\n",
      "Downloading:  69%|██████▉   | 178/257 [00:02<00:04, 18.59it/s]\u001b[A\n",
      "Downloading:  70%|███████   | 181/257 [00:02<00:04, 18.59it/s]\u001b[A\n",
      "Downloading:  71%|███████   | 183/257 [00:02<00:03, 18.59it/s]\u001b[A\n",
      "Downloading:  71%|███████   | 183/257 [00:02<00:03, 18.59it/s]\u001b[A\n",
      "Downloading:  72%|███████▏  | 185/257 [00:02<00:03, 18.59it/s]\u001b[A\n",
      "Downloading:  96%|█████████▌| 246/257 [00:02<00:00, 19.12it/s]\u001b[A\n",
      "Downloading:  54%|█████▍    | 140/257 [00:02<00:09, 12.68it/s]\u001b[A\n",
      "Downloading:  54%|█████▍    | 140/257 [00:02<00:09, 12.68it/s]\u001b[A\n",
      "Downloading:  54%|█████▍    | 140/257 [00:02<00:09, 12.68it/s]\u001b[A\n",
      "Downloading:  54%|█████▍    | 140/257 [00:02<00:09, 12.68it/s]\u001b[A\n",
      "Downloading:  55%|█████▍    | 141/257 [00:02<00:09, 12.68it/s]\u001b[A\n",
      "Downloading:  55%|█████▍    | 141/257 [00:02<00:09, 12.68it/s]\u001b[A\n",
      "Downloading:  55%|█████▍    | 141/257 [00:02<00:09, 12.68it/s]\u001b[A\n",
      "Downloading:  55%|█████▌    | 142/257 [00:02<00:09, 12.68it/s]\u001b[A\n",
      "Downloading:  55%|█████▌    | 142/257 [00:02<00:09, 12.68it/s]\u001b[A\n",
      "Downloading:  56%|█████▌    | 143/257 [00:02<00:08, 12.68it/s]\u001b[A\n",
      "Downloading:  56%|█████▋    | 145/257 [00:02<00:08, 12.68it/s]\u001b[A\n",
      "Downloading:  56%|█████▋    | 145/257 [00:02<00:08, 12.68it/s]\u001b[A\n",
      "Downloading:  57%|█████▋    | 147/257 [00:02<00:08, 12.68it/s]\u001b[A\n",
      "Downloading:  58%|█████▊    | 149/257 [00:02<00:08, 12.68it/s]\u001b[A\n",
      "Downloading:  58%|█████▊    | 150/257 [00:02<00:08, 12.68it/s]\u001b[A\n",
      "Downloading:  59%|█████▉    | 152/257 [00:02<00:08, 12.68it/s]\u001b[A\n",
      "Downloading:  60%|██████    | 155/257 [00:02<00:08, 12.68it/s]\u001b[A\n",
      "Downloading:  76%|███████▋  | 196/257 [00:02<00:04, 12.42it/s]\u001b[A\n",
      "Downloading:  76%|███████▋  | 196/257 [00:02<00:04, 12.42it/s]\u001b[A\n",
      "Downloading:  76%|███████▋  | 196/257 [00:02<00:04, 12.42it/s]\u001b[A\n",
      "Downloading:  76%|███████▋  | 196/257 [00:02<00:04, 12.42it/s]\u001b[A\n",
      "Downloading:  77%|███████▋  | 197/257 [00:02<00:04, 12.42it/s]\u001b[A\n",
      "Downloading:  77%|███████▋  | 197/257 [00:02<00:04, 12.42it/s]\u001b[A\n",
      "Downloading:  77%|███████▋  | 197/257 [00:02<00:04, 12.42it/s]\u001b[A\n",
      "Downloading:  77%|███████▋  | 197/257 [00:02<00:04, 12.42it/s]\u001b[A\n",
      "Downloading:  77%|███████▋  | 198/257 [00:02<00:04, 12.42it/s]\u001b[A\n",
      "Downloading:  77%|███████▋  | 199/257 [00:02<00:04, 12.42it/s]\u001b[A\n",
      "Downloading:  78%|███████▊  | 200/257 [00:02<00:04, 12.42it/s]\u001b[A\n",
      "Downloading:  79%|███████▊  | 202/257 [00:02<00:04, 12.42it/s]\u001b[A\n",
      "Downloading:  84%|████████▍ | 217/257 [00:02<00:02, 16.01it/s]\u001b[A\n",
      "Downloading:  84%|████████▍ | 217/257 [00:02<00:02, 16.01it/s]\u001b[A\n",
      "Downloading:  81%|████████▏ | 209/257 [00:02<00:04, 11.75it/s]\u001b[A\n",
      "Downloading:  64%|██████▍   | 164/257 [00:02<00:03, 28.77it/s] \u001b[A\n",
      "Downloading:  64%|██████▍   | 164/257 [00:02<00:03, 28.77it/s]\u001b[A\n",
      "Downloading:  64%|██████▍   | 164/257 [00:02<00:03, 28.77it/s]\u001b[A\n",
      "Downloading:  64%|██████▍   | 164/257 [00:02<00:03, 28.77it/s]\u001b[A\n",
      "Downloading:  64%|██████▍   | 164/257 [00:02<00:03, 28.77it/s]\u001b[A\n",
      "Downloading:  64%|██████▍   | 165/257 [00:02<00:03, 28.77it/s]\u001b[A\n",
      "Downloading:  64%|██████▍   | 165/257 [00:02<00:03, 28.77it/s]\u001b[A\n",
      "Downloading:  65%|██████▍   | 166/257 [00:02<00:03, 28.77it/s]\u001b[A\n",
      "Downloading:  83%|████████▎ | 213/257 [00:02<00:06,  6.79it/s]\u001b[A\n",
      "Downloading:  65%|██████▍   | 167/257 [00:02<00:03, 28.77it/s]\u001b[A\n",
      "Downloading:  65%|██████▍   | 167/257 [00:02<00:03, 28.77it/s]\u001b[A\n",
      "Downloading:  65%|██████▌   | 168/257 [00:02<00:03, 28.77it/s]\u001b[A\n",
      "Downloading:  66%|██████▌   | 170/257 [00:02<00:03, 28.77it/s]\u001b[A\n",
      "Downloading:  66%|██████▌   | 170/257 [00:02<00:03, 28.77it/s]\u001b[A\n",
      "Downloading:  67%|██████▋   | 172/257 [00:02<00:02, 28.77it/s]\u001b[A\n",
      "Downloading: 100%|██████████| 257/257 [00:02<00:00, 19.12it/s]\u001b[A\n",
      "Downloading: 100%|██████████| 257/257 [00:02<00:00, 19.12it/s]\u001b[A\n",
      "Downloading:  68%|██████▊   | 175/257 [00:03<00:11,  6.94it/s]\u001b[A\n",
      "Downloading:  69%|██████▉   | 178/257 [00:03<00:11,  6.94it/s]\u001b[A\n",
      "Downloading:  71%|███████   | 182/257 [00:03<00:18,  4.00it/s]\u001b[A\n",
      "Downloading:  71%|███████   | 183/257 [00:03<00:18,  4.00it/s]\u001b[A\n",
      "Downloading: 100%|██████████| 257/257 [00:03<00:00, 19.12it/s]\u001b[A\n",
      "Downloading:  73%|███████▎  | 187/257 [00:03<00:21,  3.30it/s]\u001b[A\n",
      "Downloading: 100%|██████████| 257/257 [00:03<00:00, 19.12it/s]\u001b[A\n",
      "Downloading:  73%|███████▎  | 188/257 [00:03<00:21,  3.23it/s]\u001b[A\n",
      "Downloading: 100%|██████████| 257/257 [00:03<00:00, 19.12it/s]\u001b[A\n",
      "Downloading: 100%|██████████| 257/257 [00:03<00:00, 19.12it/s]\u001b[A\n",
      "Downloading:  68%|██████▊   | 176/257 [00:03<00:07, 10.52it/s]\u001b[A\n",
      "Downloading:  68%|██████▊   | 176/257 [00:03<00:07, 10.52it/s]\u001b[A\n",
      "Downloading:  68%|██████▊   | 176/257 [00:03<00:07, 10.52it/s]\u001b[A\n",
      "Downloading:  68%|██████▊   | 176/257 [00:03<00:02, 27.02it/s] \u001b[A\n",
      "Downloading:  68%|██████▊   | 176/257 [00:03<00:02, 27.02it/s]\u001b[A\n",
      "Downloading:  68%|██████▊   | 176/257 [00:03<00:02, 27.02it/s]\u001b[A\n",
      "Downloading:  69%|██████▉   | 177/257 [00:03<00:02, 27.02it/s]\u001b[A\n",
      "Downloading:  69%|██████▉   | 177/257 [00:03<00:02, 27.02it/s]\u001b[A\n",
      "Downloading:  69%|██████▉   | 177/257 [00:03<00:02, 27.02it/s]\u001b[A\n",
      "Downloading:  69%|██████▉   | 177/257 [00:03<00:02, 27.02it/s]\u001b[A\n",
      "Downloading:  69%|██████▉   | 177/257 [00:03<00:02, 27.02it/s]\u001b[A\n",
      "Downloading:  69%|██████▉   | 178/257 [00:03<00:02, 27.02it/s]\u001b[A\n",
      "Downloading:  70%|███████   | 180/257 [00:03<00:02, 27.02it/s]\u001b[A\n",
      "Downloading:  70%|███████   | 181/257 [00:03<00:02, 27.02it/s]\u001b[A\n",
      "Downloading:  71%|███████   | 182/257 [00:03<00:02, 27.02it/s]\u001b[A\n",
      "Downloading:  71%|███████   | 183/257 [00:03<00:02, 27.02it/s]\u001b[A\n",
      "Downloading:  72%|███████▏  | 184/257 [00:03<00:02, 27.02it/s]\u001b[A\n",
      "Downloading:  73%|███████▎  | 187/257 [00:03<00:02, 27.02it/s]\u001b[A\n",
      "Downloading:  74%|███████▍  | 191/257 [00:03<00:14,  4.47it/s]\u001b[A\n",
      "Downloading:  75%|███████▍  | 192/257 [00:03<00:14,  4.47it/s]\u001b[A\n",
      "Downloading:  75%|███████▌  | 193/257 [00:03<00:14,  4.47it/s]\u001b[A\n",
      "Downloading:  76%|███████▋  | 196/257 [00:03<00:13,  4.47it/s]\u001b[A\n",
      "Downloading:  78%|███████▊  | 200/257 [00:03<00:17,  3.28it/s]\u001b[A\n",
      "Downloading:  85%|████████▍ | 218/257 [00:03<00:05,  7.38it/s]\u001b[A\n",
      "Downloading:  85%|████████▍ | 218/257 [00:03<00:05,  7.38it/s]\u001b[A\n",
      "Downloading:  85%|████████▍ | 218/257 [00:03<00:05,  7.38it/s]\u001b[A\n",
      "Downloading:  85%|████████▍ | 218/257 [00:03<00:05,  7.38it/s]\u001b[A\n",
      "Downloading:  85%|████████▌ | 219/257 [00:03<00:05,  7.38it/s]\u001b[A\n",
      "Downloading:  87%|████████▋ | 223/257 [00:03<00:04,  6.95it/s]\u001b[A\n",
      "Downloading:  87%|████████▋ | 223/257 [00:03<00:04,  6.95it/s]\u001b[A\n",
      "Downloading:  87%|████████▋ | 223/257 [00:03<00:04,  6.95it/s]\u001b[A\n",
      "Downloading:  87%|████████▋ | 223/257 [00:03<00:04,  6.95it/s]\u001b[A\n",
      "Downloading:  87%|████████▋ | 224/257 [00:03<00:04,  6.95it/s]\u001b[A\n",
      "Downloading:  87%|████████▋ | 224/257 [00:03<00:04,  6.95it/s]\u001b[A\n",
      "Downloading:  88%|████████▊ | 225/257 [00:03<00:04,  6.95it/s]\u001b[A\n",
      "Downloading:  88%|████████▊ | 225/257 [00:03<00:04,  6.95it/s]\u001b[A\n",
      "Downloading:  88%|████████▊ | 225/257 [00:03<00:04,  6.95it/s]\u001b[A\n",
      "Downloading:  88%|████████▊ | 225/257 [00:03<00:04,  6.95it/s]\u001b[A\n",
      "Downloading:  88%|████████▊ | 226/257 [00:03<00:04,  6.95it/s]\u001b[A\n",
      "Downloading:  89%|████████▊ | 228/257 [00:03<00:09,  3.16it/s]\u001b[A\n",
      "Downloading:  89%|████████▉ | 229/257 [00:03<00:08,  3.16it/s]\u001b[A\n",
      "Downloading:  89%|████████▉ | 229/257 [00:03<00:08,  3.16it/s]\u001b[A\n",
      "Downloading:  90%|█████████ | 232/257 [00:03<00:11,  2.20it/s]\u001b[A\n",
      "Downloading:  90%|█████████ | 232/257 [00:03<00:11,  2.20it/s]\u001b[A\n",
      "Downloading:  91%|█████████ | 233/257 [00:03<00:10,  2.20it/s]\u001b[A\n",
      "Downloading:  91%|█████████▏| 235/257 [00:03<00:11,  1.90it/s]\u001b[A\n",
      "Downloading:  85%|████████▌ | 219/257 [00:03<00:02, 15.25it/s]\u001b[A\n",
      "Downloading:  85%|████████▌ | 219/257 [00:03<00:02, 15.25it/s]\u001b[A\n",
      "Downloading:  85%|████████▌ | 219/257 [00:03<00:02, 15.25it/s]\u001b[A\n",
      "Downloading:  85%|████████▌ | 219/257 [00:03<00:02, 15.25it/s]\u001b[A\n",
      "Downloading:  85%|████████▌ | 219/257 [00:03<00:02, 15.25it/s]\u001b[A\n",
      "Downloading:  86%|████████▌ | 220/257 [00:03<00:02, 15.25it/s]\u001b[A\n",
      "Downloading:  86%|████████▌ | 220/257 [00:03<00:02, 15.25it/s]\u001b[A\n",
      "Downloading:  86%|████████▌ | 220/257 [00:03<00:02, 15.25it/s]\u001b[A\n",
      "Downloading:  86%|████████▌ | 221/257 [00:03<00:02, 15.25it/s]\u001b[A\n",
      "Downloading:  86%|████████▋ | 222/257 [00:03<00:02, 15.25it/s]\u001b[A\n",
      "Downloading:  87%|████████▋ | 224/257 [00:03<00:08,  4.09it/s]\u001b[A\n",
      "Downloading:  88%|████████▊ | 225/257 [00:03<00:09,  3.29it/s]\u001b[A\n",
      "Downloading:  88%|████████▊ | 225/257 [00:03<00:09,  3.29it/s]\u001b[A\n",
      "Downloading:  88%|████████▊ | 227/257 [00:03<00:09,  3.29it/s]\u001b[A\n",
      "Downloading:  89%|████████▊ | 228/257 [00:03<00:08,  3.29it/s]\u001b[A\n",
      "Downloading:  90%|████████▉ | 231/257 [00:03<00:10,  2.48it/s]\u001b[A\n",
      "Downloading:  90%|████████▉ | 231/257 [00:03<00:10,  2.48it/s]\u001b[A\n",
      "Downloading:  91%|█████████▏| 235/257 [00:03<00:10,  2.07it/s]\u001b[A\n",
      "Downloading:  92%|█████████▏| 237/257 [00:03<00:10,  1.91it/s]\u001b[A\n",
      "Downloading:  93%|█████████▎| 238/257 [00:03<00:09,  1.91it/s]\u001b[A\n",
      "Downloading:  88%|████████▊ | 226/257 [00:03<00:08,  3.78it/s]\u001b[A\n",
      "Downloading:  88%|████████▊ | 226/257 [00:03<00:08,  3.78it/s]\u001b[A\n",
      "Downloading:  88%|████████▊ | 226/257 [00:03<00:08,  3.78it/s]\u001b[A\n",
      "Downloading: 100%|██████████| 257/257 [00:03<00:00, 19.12it/s]\u001b[A\n",
      "Downloading: 100%|██████████| 257/257 [00:03<00:00, 19.12it/s]\u001b[A\n",
      "Downloading: 100%|██████████| 257/257 [00:03<00:00, 19.12it/s]\u001b[A\n",
      "Downloading: 100%|██████████| 257/257 [00:03<00:00, 19.12it/s]\u001b[A\n",
      "Downloading: 100%|██████████| 257/257 [00:03<00:00, 19.12it/s]\u001b[A\n",
      "Downloading: 100%|██████████| 257/257 [00:03<00:00, 19.12it/s]\u001b[A\n",
      "Downloading: 100%|██████████| 257/257 [00:03<00:00, 19.12it/s]\u001b[A\n",
      "Downloading: 100%|██████████| 257/257 [00:03<00:00, 19.12it/s]\u001b[A\n",
      "Downloading: 100%|██████████| 257/257 [00:03<00:00, 19.12it/s]\u001b[A\n",
      "Downloading: 100%|██████████| 257/257 [00:03<00:00, 19.12it/s]\u001b[A\n",
      "Downloading: 100%|██████████| 257/257 [00:03<00:00, 19.12it/s]\u001b[A\n",
      "Downloading: 100%|██████████| 257/257 [00:03<00:00, 19.12it/s]\u001b[A\n",
      "Downloading: 100%|██████████| 257/257 [00:03<00:00, 19.12it/s]\u001b[A\n",
      "Downloading:  84%|████████▍ | 216/257 [00:03<00:08,  4.58it/s]\u001b[A\n",
      "Downloading:  84%|████████▍ | 216/257 [00:03<00:08,  4.58it/s]\u001b[A\n",
      "Downloading:  84%|████████▍ | 216/257 [00:03<00:08,  4.58it/s]\u001b[A\n",
      "Downloading:  84%|████████▍ | 216/257 [00:03<00:08,  4.58it/s]\u001b[A\n",
      "Downloading:  84%|████████▍ | 217/257 [00:03<00:08,  4.58it/s]\u001b[A\n",
      "Downloading:  84%|████████▍ | 217/257 [00:03<00:08,  4.58it/s]\u001b[A\n",
      "Downloading:  84%|████████▍ | 217/257 [00:03<00:08,  4.58it/s]\u001b[A\n",
      "Downloading:  84%|████████▍ | 217/257 [00:03<00:08,  4.58it/s]\u001b[A\n",
      "Downloading:  85%|████████▍ | 218/257 [00:03<00:20,  1.86it/s]\u001b[A\n",
      "Downloading:  85%|████████▌ | 219/257 [00:03<00:29,  1.31it/s]\u001b[A\n",
      "Downloading:  86%|████████▌ | 221/257 [00:03<00:30,  1.19it/s]\u001b[A\n",
      "Downloading:  86%|████████▋ | 222/257 [00:03<00:25,  1.39it/s]\u001b[A\n",
      "Downloading:  87%|████████▋ | 223/257 [00:03<00:30,  1.12it/s]\u001b[A\n",
      "Downloading:  87%|████████▋ | 223/257 [00:03<00:30,  1.12it/s]\u001b[A\n",
      "Downloading:  88%|████████▊ | 225/257 [00:03<00:35,  1.11s/it]\u001b[A\n",
      "Downloading:  88%|████████▊ | 226/257 [00:03<00:30,  1.03it/s]\u001b[A\n",
      "Downloading:  88%|████████▊ | 227/257 [00:03<00:29,  1.03it/s]\u001b[A\n",
      "Downloading:  89%|████████▊ | 228/257 [00:03<00:28,  1.03it/s]\u001b[A\n",
      "Downloading:  70%|███████   | 180/257 [00:03<00:25,  3.07it/s]\u001b[A\n",
      "Downloading:  70%|███████   | 180/257 [00:03<00:25,  3.07it/s]\u001b[A\n",
      "Downloading:  70%|███████   | 180/257 [00:03<00:25,  3.07it/s]\u001b[A\n",
      "Downloading:  70%|███████   | 180/257 [00:03<00:25,  3.07it/s]\u001b[A\n",
      "Downloading:  70%|███████   | 181/257 [00:03<00:45,  1.68it/s]\u001b[A\n",
      "Downloading:  71%|███████   | 183/257 [00:03<00:58,  1.27it/s]\u001b[A\n",
      "Downloading:  72%|███████▏  | 184/257 [00:03<00:53,  1.36it/s]\u001b[A\n",
      "Downloading:  72%|███████▏  | 184/257 [00:04<00:53,  1.36it/s]\u001b[A\n",
      "Downloading:  72%|███████▏  | 184/257 [00:04<00:53,  1.36it/s]\u001b[A\n",
      "Downloading:  72%|███████▏  | 184/257 [00:04<00:53,  1.36it/s]\u001b[A\n",
      "Downloading:  72%|███████▏  | 185/257 [00:04<01:03,  1.13it/s]\u001b[A\n",
      "Downloading:  72%|███████▏  | 186/257 [00:04<01:10,  1.01it/s]\u001b[A\n",
      "Downloading:  73%|███████▎  | 187/257 [00:04<01:14,  1.07s/it]\u001b[A\n",
      "Downloading:  73%|███████▎  | 187/257 [00:04<01:14,  1.07s/it]\u001b[A\n",
      "Downloading:  73%|███████▎  | 188/257 [00:04<01:17,  1.12s/it]\u001b[A\n",
      "Downloading:  74%|███████▎  | 189/257 [00:04<01:19,  1.16s/it]\u001b[A\n",
      "Downloading:  74%|███████▍  | 190/257 [00:04<01:20,  1.20s/it]\u001b[A\n",
      "Downloading:  89%|████████▉ | 230/257 [00:04<00:10,  2.46it/s]\u001b[A\n",
      "Downloading:  93%|█████████▎| 238/257 [00:04<00:04,  3.91it/s]\u001b[A\n",
      "Downloading:  97%|█████████▋| 250/257 [00:04<00:01,  6.87it/s]\u001b[A\n",
      "Downloading:  97%|█████████▋| 250/257 [00:04<00:01,  6.87it/s]\u001b[A\n",
      "Downloading:  90%|█████████ | 232/257 [00:04<00:11,  2.13it/s]\u001b[A\n",
      "Downloading:  90%|█████████ | 232/257 [00:04<00:11,  2.13it/s]\u001b[A\n",
      "Downloading:  90%|█████████ | 232/257 [00:04<00:11,  2.13it/s]\u001b[A\n",
      "Downloading:  90%|█████████ | 232/257 [00:04<00:11,  2.13it/s]\u001b[A\n",
      "Downloading:  90%|█████████ | 232/257 [00:04<00:11,  2.13it/s]\u001b[A\n",
      "Downloading:  91%|█████████ | 233/257 [00:04<00:16,  1.42it/s]\u001b[A\n",
      "Downloading:  91%|█████████ | 233/257 [00:04<00:16,  1.42it/s]\u001b[A\n",
      "Downloading:  91%|█████████ | 233/257 [00:04<00:16,  1.42it/s]\u001b[A\n",
      "Downloading:  91%|█████████ | 234/257 [00:04<00:20,  1.15it/s]\u001b[A\n",
      "Downloading:  92%|█████████▏| 236/257 [00:04<00:22,  1.07s/it]\u001b[A\n",
      "Downloading:  92%|█████████▏| 237/257 [00:04<00:22,  1.13s/it]\u001b[A\n",
      "Downloading:  93%|█████████▎| 239/257 [00:04<00:09,  1.82it/s]\u001b[A\n",
      "Downloading:  80%|████████  | 206/257 [00:04<00:05, 10.15it/s]\u001b[A\n",
      "Downloading:  80%|████████  | 206/257 [00:04<00:05, 10.15it/s]\u001b[A\n",
      "Downloading:  80%|████████  | 206/257 [00:04<00:05, 10.15it/s]\u001b[A\n",
      "Downloading:  80%|████████  | 206/257 [00:04<00:05, 10.15it/s]\u001b[A\n",
      "Downloading:  81%|████████  | 207/257 [00:04<00:04, 10.15it/s]\u001b[A\n",
      "Downloading:  81%|████████  | 207/257 [00:04<00:04, 10.15it/s]\u001b[A\n",
      "Downloading:  81%|████████  | 207/257 [00:04<00:04, 10.15it/s]\u001b[A\n",
      "Downloading:  81%|████████  | 207/257 [00:04<00:04, 10.15it/s]\u001b[A\n",
      "Downloading:  81%|████████  | 208/257 [00:04<00:19,  2.47it/s]\u001b[A\n",
      "Downloading:  81%|████████▏ | 209/257 [00:04<00:29,  1.61it/s]\u001b[A\n",
      "Downloading:  82%|████████▏ | 211/257 [00:04<00:40,  1.14it/s]\u001b[A\n",
      "Downloading:  77%|███████▋  | 199/257 [00:04<00:18,  3.20it/s]\u001b[A\n",
      "Downloading:  77%|███████▋  | 199/257 [00:04<00:18,  3.20it/s]\u001b[A\n",
      "Downloading:  77%|███████▋  | 199/257 [00:04<00:18,  3.20it/s]\u001b[A\n",
      "Downloading:  84%|████████▎ | 215/257 [00:04<00:24,  1.73it/s]\u001b[A\n",
      "Downloading:  84%|████████▍ | 216/257 [00:04<00:30,  1.34it/s]\u001b[A\n",
      "Downloading:  84%|████████▍ | 217/257 [00:04<00:27,  1.44it/s]\u001b[A\n",
      "Downloading:  85%|████████▍ | 218/257 [00:04<00:32,  1.20it/s]\u001b[A\n",
      "Downloading:  85%|████████▍ | 218/257 [00:04<00:32,  1.20it/s]\u001b[A\n",
      "Downloading:  85%|████████▌ | 219/257 [00:04<00:35,  1.07it/s]\u001b[A\n",
      "Downloading:  85%|████████▌ | 219/257 [00:04<00:35,  1.07it/s]\u001b[A\n",
      "Downloading:  86%|████████▌ | 220/257 [00:04<00:37,  1.00s/it]\u001b[A\n",
      "Downloading:  86%|████████▌ | 221/257 [00:04<00:36,  1.00s/it]\u001b[A\n",
      "Downloading:  85%|████████▌ | 219/257 [00:04<00:04,  9.47it/s]\u001b[A\n",
      "Downloading:  85%|████████▌ | 219/257 [00:04<00:04,  9.47it/s]\u001b[A\n",
      "Downloading:  85%|████████▌ | 219/257 [00:04<00:04,  9.47it/s]\u001b[A\n",
      "Downloading:  85%|████████▌ | 219/257 [00:04<00:04,  9.47it/s]\u001b[A\n",
      "Downloading:  86%|████████▌ | 220/257 [00:04<00:13,  2.67it/s]\u001b[A\n",
      "Downloading:  86%|████████▌ | 220/257 [00:04<00:13,  2.67it/s]\u001b[A\n",
      "Downloading:  86%|████████▌ | 220/257 [00:04<00:13,  2.67it/s]\u001b[A\n",
      "Downloading:  86%|████████▌ | 221/257 [00:04<00:20,  1.79it/s]\u001b[A\n",
      "Downloading:  86%|████████▌ | 221/257 [00:04<00:20,  1.79it/s]\u001b[A\n",
      "Downloading:  86%|████████▋ | 222/257 [00:04<00:24,  1.45it/s]\u001b[A\n",
      "Downloading:  87%|████████▋ | 224/257 [00:04<00:27,  1.18it/s]\u001b[A\n",
      "Downloading:  87%|████████▋ | 224/257 [00:04<00:27,  1.18it/s]\u001b[A\n",
      "Downloading:  95%|█████████▍| 243/257 [00:04<00:06,  2.19it/s]\u001b[A\n",
      "Downloading:  88%|████████▊ | 226/257 [00:04<00:24,  1.29it/s]\u001b[A\n",
      "Downloading:  95%|█████████▍| 244/257 [00:04<00:08,  1.61it/s]\u001b[A\n",
      "Downloading:  95%|█████████▍| 244/257 [00:04<00:08,  1.61it/s]\u001b[A\n",
      "Downloading:  89%|████████▉ | 229/257 [00:04<00:17,  1.60it/s]\u001b[A\n",
      "Downloading:  89%|████████▉ | 230/257 [00:04<00:20,  1.34it/s]\u001b[A\n",
      "Downloading:  96%|█████████▌| 246/257 [00:04<00:07,  1.48it/s]\u001b[A\n",
      "Downloading:  90%|█████████ | 232/257 [00:04<00:19,  1.28it/s]\u001b[A\n",
      "Downloading:  96%|█████████▌| 247/257 [00:04<00:07,  1.28it/s]\u001b[A\n",
      "Downloading:  91%|█████████▏| 235/257 [00:04<00:15,  1.39it/s]\u001b[A\n"
     ]
    },
    {
     "name": "stderr",
     "output_type": "stream",
     "text": [
      "Downloading:  91%|█████████▏| 235/257 [00:04<00:15,  1.39it/s]\u001b[A\n",
      "Downloading:  92%|█████████▏| 236/257 [00:04<00:17,  1.22it/s]\u001b[A\n",
      "Downloading:  92%|█████████▏| 236/257 [00:04<00:17,  1.22it/s]\u001b[A\n",
      "Downloading:  98%|█████████▊| 253/257 [00:04<00:01,  3.06it/s]\u001b[A\n",
      "Downloading:  98%|█████████▊| 253/257 [00:04<00:01,  3.06it/s]\u001b[A\n",
      "Downloading:  99%|█████████▉| 254/257 [00:04<00:01,  1.89it/s]\u001b[A\n",
      "Downloading:  99%|█████████▉| 255/257 [00:04<00:01,  1.49it/s]\u001b[A\n",
      "Downloading:  99%|█████████▉| 255/257 [00:04<00:01,  1.49it/s]\u001b[A\n",
      "Downloading:  99%|█████████▉| 255/257 [00:04<00:01,  1.49it/s]\u001b[A\n",
      "Downloading: 100%|██████████| 257/257 [00:04<00:00,  1.47it/s]\u001b[A\n",
      "Downloading: 100%|██████████| 257/257 [00:04<00:00,  1.47it/s]\u001b[A\n",
      "Downloading: 100%|██████████| 257/257 [00:04<00:00,  1.47it/s]\u001b[A\n",
      "Downloading: 100%|██████████| 257/257 [00:04<00:00,  1.47it/s]\u001b[A\n",
      "Downloading: 100%|██████████| 257/257 [00:04<00:00,  1.47it/s]\u001b[A\n",
      "Downloading: 100%|██████████| 257/257 [00:04<00:00,  1.47it/s]\u001b[A\n",
      "Downloading: 100%|██████████| 257/257 [00:04<00:00,  1.47it/s]\u001b[A\n",
      "Downloading: 100%|██████████| 257/257 [00:04<00:00,  1.47it/s]\u001b[A\n",
      "Downloading: 100%|██████████| 257/257 [00:04<00:00,  1.47it/s]\u001b[A\n",
      "Downloading: 100%|██████████| 257/257 [00:04<00:00,  1.47it/s]\u001b[A\n",
      "Downloading: 100%|██████████| 257/257 [00:04<00:00,  1.47it/s]\u001b[A\n",
      "Downloading: 100%|██████████| 257/257 [00:04<00:00,  1.47it/s]\u001b[A\n",
      "Downloading:  98%|█████████▊| 251/257 [00:04<00:01,  5.14it/s]\u001b[A\n",
      "Downloading:  98%|█████████▊| 251/257 [00:04<00:01,  5.14it/s]\u001b[A\n",
      "Downloading:  98%|█████████▊| 251/257 [00:04<00:01,  5.14it/s]\u001b[A\n",
      "Downloading:  98%|█████████▊| 251/257 [00:04<00:01,  5.14it/s]\u001b[A\n",
      "Downloading:  98%|█████████▊| 251/257 [00:04<00:01,  5.14it/s]\u001b[A\n",
      "Downloading:  98%|█████████▊| 252/257 [00:04<00:02,  2.42it/s]\u001b[A\n",
      "Downloading:  98%|█████████▊| 252/257 [00:04<00:02,  2.42it/s]\u001b[A\n",
      "Downloading:  98%|█████████▊| 253/257 [00:04<00:02,  1.77it/s]\u001b[A\n",
      "Downloading:  98%|█████████▊| 253/257 [00:04<00:02,  1.77it/s]\u001b[A\n",
      "Downloading:  99%|█████████▉| 254/257 [00:04<00:01,  1.50it/s]\u001b[A\n",
      "Downloading: 100%|█████████▉| 256/257 [00:04<00:00,  1.45it/s]\u001b[A\n",
      "Downloading: 100%|██████████| 257/257 [00:04<00:00,  1.62it/s]\u001b[A\n",
      "Downloading: 100%|██████████| 257/257 [00:04<00:00,  1.62it/s]\u001b[A\n",
      "Downloading:  96%|█████████▋| 248/257 [00:04<00:07,  1.16it/s]\u001b[A\n",
      "Downloading:  96%|█████████▋| 248/257 [00:04<00:07,  1.16it/s]\u001b[A\n",
      "Downloading:  96%|█████████▋| 248/257 [00:04<00:07,  1.16it/s]\u001b[A\n",
      "Downloading: 100%|██████████| 257/257 [00:04<00:00,  1.62it/s]\u001b[A\n",
      "Downloading: 100%|██████████| 257/257 [00:04<00:00,  1.62it/s]\u001b[A\n",
      "Downloading: 100%|██████████| 257/257 [00:04<00:00,  1.62it/s]\u001b[A\n",
      "Downloading: 100%|██████████| 257/257 [00:04<00:00,  1.62it/s]\u001b[A\n",
      "Downloading: 100%|██████████| 257/257 [00:04<00:00,  1.62it/s]\u001b[A\n",
      "Downloading: 100%|██████████| 257/257 [00:04<00:00,  1.62it/s]\u001b[A\n",
      "Downloading: 100%|██████████| 257/257 [00:04<00:00,  1.62it/s]\u001b[A\n",
      "Downloading:  93%|█████████▎| 240/257 [00:04<00:13,  1.30it/s]\u001b[A\n",
      "Downloading:  93%|█████████▎| 240/257 [00:04<00:13,  1.30it/s]\u001b[A\n",
      "Downloading:  93%|█████████▎| 240/257 [00:04<00:13,  1.30it/s]\u001b[A\n",
      "Downloading:  93%|█████████▎| 240/257 [00:04<00:13,  1.30it/s]\u001b[A\n",
      "Downloading:  93%|█████████▎| 240/257 [00:04<00:13,  1.30it/s]\u001b[A\n",
      "Downloading:  94%|█████████▍| 241/257 [00:04<00:12,  1.28it/s]\u001b[A\n",
      "Downloading:  94%|█████████▍| 241/257 [00:04<00:12,  1.28it/s]\u001b[A\n",
      "Downloading:  94%|█████████▍| 242/257 [00:04<00:11,  1.26it/s]\u001b[A\n",
      "Downloading:  94%|█████████▍| 242/257 [00:04<00:11,  1.26it/s]\u001b[A\n",
      "Downloading:  95%|█████████▍| 243/257 [00:04<00:11,  1.25it/s]\u001b[A\n",
      "Downloading:  95%|█████████▌| 245/257 [00:04<00:09,  1.25it/s]\u001b[A\n",
      "Downloading:  95%|█████████▌| 245/257 [00:04<00:09,  1.25it/s]\u001b[A\n",
      "Downloading:  96%|█████████▌| 246/257 [00:04<00:08,  1.26it/s]\u001b[A\n",
      "Downloading:  79%|███████▊  | 202/257 [00:04<00:28,  1.96it/s]\u001b[A\n",
      "Downloading:  96%|█████████▋| 248/257 [00:04<00:06,  1.48it/s]\u001b[A\n",
      "Downloading:  96%|█████████▋| 248/257 [00:04<00:06,  1.48it/s]\u001b[A\n",
      "Downloading:  79%|███████▉  | 203/257 [00:04<00:32,  1.68it/s]\u001b[A\n",
      "Downloading:  98%|█████████▊| 251/257 [00:04<00:04,  1.47it/s]\u001b[A\n",
      "Downloading:  98%|█████████▊| 251/257 [00:04<00:04,  1.47it/s]\u001b[A\n",
      "Downloading:  79%|███████▉  | 204/257 [00:04<00:35,  1.51it/s]\u001b[A\n",
      "Downloading:  98%|█████████▊| 253/257 [00:04<00:03,  1.33it/s]\u001b[A\n",
      "Downloading:  80%|███████▉  | 205/257 [00:04<00:37,  1.40it/s]\u001b[A\n",
      "Downloading:  80%|███████▉  | 205/257 [00:04<00:37,  1.40it/s]\u001b[A\n",
      "Downloading:  80%|███████▉  | 205/257 [00:04<00:37,  1.40it/s]\u001b[A\n",
      "Downloading:  80%|███████▉  | 205/257 [00:04<00:37,  1.40it/s]\u001b[A\n",
      "Downloading:  80%|████████  | 206/257 [00:04<00:37,  1.34it/s]\u001b[A\n",
      "Downloading:  80%|████████  | 206/257 [00:04<00:37,  1.34it/s]\u001b[A\n",
      "Downloading:  80%|████████  | 206/257 [00:04<00:37,  1.34it/s]\u001b[A\n",
      "Downloading:  81%|████████  | 207/257 [00:04<00:38,  1.31it/s]\u001b[A\n",
      "Downloading:  98%|█████████▊| 251/257 [00:04<00:03,  1.64it/s]\u001b[A\n",
      "Downloading:  81%|████████  | 208/257 [00:04<00:37,  1.30it/s]\u001b[A\n",
      "Downloading: 100%|██████████| 257/257 [00:04<00:00,  1.93it/s]\u001b[A\n",
      "Downloading:  82%|████████▏ | 210/257 [00:04<00:31,  1.50it/s]\u001b[A\n",
      "Downloading:  82%|████████▏ | 210/257 [00:04<00:31,  1.50it/s]\u001b[A\n",
      "Downloading:  82%|████████▏ | 212/257 [00:04<00:33,  1.36it/s]\u001b[A\n",
      "Downloading:  83%|████████▎ | 213/257 [00:04<00:33,  1.32it/s]\u001b[A\n",
      "Downloading:  83%|████████▎ | 213/257 [00:04<00:33,  1.32it/s]\u001b[A\n",
      "Downloading: 100%|██████████| 257/257 [00:04<00:00,  1.47it/s]\u001b[A\n",
      "Downloading: 100%|██████████| 257/257 [00:04<00:00,  1.47it/s]\u001b[A\n",
      "Downloading:  98%|█████████▊| 252/257 [00:04<00:03,  1.51it/s]\u001b[A\n",
      "Downloading:  98%|█████████▊| 252/257 [00:04<00:03,  1.51it/s]\u001b[A\n",
      "Downloading:  98%|█████████▊| 253/257 [00:04<00:02,  1.41it/s]\u001b[A\n",
      "Downloading:  98%|█████████▊| 253/257 [00:04<00:02,  1.41it/s]\u001b[A\n",
      "Downloading:  98%|█████████▊| 253/257 [00:04<00:02,  1.41it/s]\u001b[A\n",
      "Downloading:  98%|█████████▊| 253/257 [00:04<00:02,  1.41it/s]\u001b[A\n",
      "Downloading: 100%|██████████| 257/257 [00:04<00:00,  1.93it/s]\u001b[A\n",
      "Downloading:  99%|█████████▉| 255/257 [00:04<00:01,  1.33it/s]\u001b[A\n",
      "Downloading: 100%|██████████| 257/257 [00:04<00:00,  1.45it/s]\u001b[A\n",
      "Downloading: 100%|██████████| 257/257 [00:04<00:00,  1.45it/s]\u001b[A\n",
      "Downloading: 100%|██████████| 257/257 [00:04<00:00,  1.45it/s]\u001b[A\n",
      "Downloading: 100%|██████████| 257/257 [00:04<00:00,  1.45it/s]\u001b[A\n",
      "Downloading:  89%|████████▉ | 229/257 [00:05<00:07,  3.56it/s]\u001b[A\n",
      "Downloading:  89%|████████▉ | 229/257 [00:05<00:07,  3.56it/s]\u001b[A\n",
      "Downloading:  89%|████████▉ | 229/257 [00:05<00:07,  3.56it/s]\u001b[A\n",
      "Downloading:  89%|████████▉ | 229/257 [00:05<00:07,  3.56it/s]\u001b[A\n",
      "Downloading:  89%|████████▉ | 230/257 [00:05<00:11,  2.35it/s]\u001b[A\n",
      "Downloading:  89%|████████▉ | 230/257 [00:05<00:11,  2.35it/s]\u001b[A\n",
      "Downloading:  89%|████████▉ | 230/257 [00:05<00:11,  2.35it/s]\u001b[A\n",
      "Downloading:  90%|████████▉ | 231/257 [00:05<00:13,  1.90it/s]\u001b[A\n",
      "Downloading:  85%|████████▌ | 219/257 [00:05<00:11,  3.37it/s]\u001b[A\n",
      "Downloading:  85%|████████▌ | 219/257 [00:05<00:11,  3.37it/s]\u001b[A\n",
      "Downloading:  91%|█████████ | 233/257 [00:05<00:12,  1.87it/s]\u001b[A\n",
      "Downloading:  86%|████████▌ | 221/257 [00:05<00:19,  1.86it/s]\u001b[A\n",
      "Downloading:  91%|█████████▏| 235/257 [00:05<00:12,  1.82it/s]\u001b[A\n",
      "Downloading:  92%|█████████▏| 237/257 [00:05<00:11,  1.71it/s]\u001b[A\n",
      "Downloading:  92%|█████████▏| 237/257 [00:05<00:11,  1.71it/s]\u001b[A\n",
      "Downloading:  92%|█████████▏| 237/257 [00:05<00:11,  1.71it/s]\u001b[A\n",
      "Downloading:  93%|█████████▎| 238/257 [00:05<00:12,  1.56it/s]\u001b[A\n",
      "Downloading:  93%|█████████▎| 238/257 [00:05<00:12,  1.56it/s]\u001b[A\n",
      "Downloading:  93%|█████████▎| 239/257 [00:05<00:11,  1.52it/s]\u001b[A\n",
      "Downloading:  93%|█████████▎| 239/257 [00:05<00:12,  1.49it/s]\u001b[A\n",
      "Downloading:  93%|█████████▎| 240/257 [00:05<00:11,  1.44it/s]\u001b[A\n",
      "Downloading:  93%|█████████▎| 240/257 [00:05<00:11,  1.44it/s]\u001b[A\n",
      "Downloading:  94%|█████████▍| 242/257 [00:05<00:10,  1.38it/s]\u001b[A\n",
      "Downloading:  95%|█████████▍| 244/257 [00:05<00:08,  1.58it/s]\u001b[A\n",
      "Downloading:  93%|█████████▎| 240/257 [00:05<00:11,  1.47it/s]\u001b[A\n",
      "Downloading:  93%|█████████▎| 240/257 [00:05<00:11,  1.47it/s]\u001b[A\n",
      "Downloading:  93%|█████████▎| 240/257 [00:05<00:11,  1.47it/s]\u001b[A\n",
      "Downloading:  93%|█████████▎| 240/257 [00:05<00:11,  1.47it/s]\u001b[A\n",
      "Downloading:  94%|█████████▍| 241/257 [00:05<00:11,  1.42it/s]\u001b[A\n",
      "Downloading:  94%|█████████▍| 241/257 [00:05<00:11,  1.42it/s]\u001b[A\n",
      "Downloading: 100%|██████████| 257/257 [00:05<00:00,  1.45it/s]\u001b[A\n",
      "Downloading:  94%|█████████▍| 242/257 [00:05<00:10,  1.39it/s]\u001b[A\n",
      "Downloading:  94%|█████████▍| 242/257 [00:05<00:10,  1.39it/s]\u001b[A\n",
      "Downloading:  95%|█████████▍| 243/257 [00:05<00:10,  1.38it/s]\u001b[A\n",
      "Downloading: 100%|██████████| 257/257 [00:05<00:00,  1.45it/s]\u001b[A\n",
      "Downloading: 100%|██████████| 257/257 [00:05<00:00,  1.45it/s]\u001b[A\n",
      "Downloading:  96%|█████████▌| 247/257 [00:05<00:05,  1.93it/s]\u001b[A\n",
      "Downloading:  96%|█████████▋| 248/257 [00:05<00:05,  1.70it/s]\u001b[A\n",
      "Downloading:  97%|█████████▋| 250/257 [00:05<00:04,  1.67it/s]\u001b[A\n",
      "Downloading: 100%|██████████| 257/257 [00:05<00:00,  1.45it/s]\u001b[A\n",
      "Downloading:  98%|█████████▊| 251/257 [00:05<00:03,  1.54it/s]\u001b[A\n",
      "Downloading:  98%|█████████▊| 252/257 [00:05<00:03,  1.46it/s]\u001b[A\n",
      "Downloading: 100%|██████████| 257/257 [00:05<00:00,  1.45it/s]\u001b[A\n",
      "Downloading:  99%|█████████▉| 254/257 [00:05<00:01,  1.64it/s]\u001b[A\n",
      "Downloading:  99%|█████████▉| 254/257 [00:05<00:01,  1.64it/s]\u001b[A\n",
      "Downloading:  99%|█████████▉| 254/257 [00:05<00:01,  1.64it/s]\u001b[A\n",
      "Downloading:  99%|█████████▉| 254/257 [00:05<00:01,  1.64it/s]\u001b[A\n",
      "Downloading:  99%|█████████▉| 255/257 [00:05<00:01,  1.53it/s]\u001b[A\n",
      "Downloading: 100%|██████████| 257/257 [00:05<00:00,  1.47it/s]\u001b[A\n",
      "Downloading: 100%|██████████| 257/257 [00:05<00:00,  1.47it/s]\u001b[A\n",
      "Downloading: 100%|██████████| 257/257 [00:05<00:00,  1.47it/s]\u001b[A\n",
      "Downloading: 100%|██████████| 257/257 [00:05<00:00,  1.47it/s]\u001b[A\n",
      "Downloading: 100%|██████████| 257/257 [00:05<00:00,  1.62it/s]\u001b[A\n",
      "Downloading: 100%|██████████| 257/257 [00:05<00:00,  1.62it/s]\u001b[A\n",
      "Downloading: 100%|██████████| 257/257 [00:05<00:00,  1.62it/s]\u001b[A\n",
      "Downloading: 100%|██████████| 257/257 [00:05<00:00,  1.62it/s]\u001b[A\n",
      "Downloading: 100%|██████████| 257/257 [00:05<00:00,  1.62it/s]\u001b[A\n",
      "Downloading: 100%|██████████| 257/257 [00:05<00:00,  1.62it/s]\u001b[A\n",
      "Downloading: 100%|██████████| 257/257 [00:05<00:00,  1.45it/s]\u001b[A\n",
      "Downloading: 100%|██████████| 257/257 [00:05<00:00,  1.45it/s]\u001b[A\n",
      "Downloading: 100%|██████████| 257/257 [00:05<00:00, 48.17it/s]\u001b[A\n",
      "\n",
      "Downloading: 100%|██████████| 257/257 [00:05<00:00,  1.93it/s]\u001b[A\n",
      "Downloading: 100%|██████████| 257/257 [00:05<00:00,  1.93it/s]\u001b[A\n",
      "Downloading: 100%|██████████| 257/257 [00:05<00:00,  1.93it/s]\u001b[A\n",
      "Downloading: 100%|██████████| 257/257 [00:05<00:00,  1.93it/s]\u001b[A\n",
      "Downloading: 100%|██████████| 257/257 [00:05<00:00,  1.93it/s]\u001b[A\n",
      "Downloading: 100%|██████████| 257/257 [00:05<00:00,  1.93it/s]\u001b[A\n",
      "Downloading: 100%|██████████| 257/257 [00:05<00:00,  1.93it/s]\u001b[A\n",
      "Downloading: 100%|██████████| 257/257 [00:05<00:00,  1.93it/s]\u001b[A\n",
      "Downloading:  86%|████████▋ | 222/257 [00:05<00:21,  1.64it/s]\u001b[A\n",
      "Downloading: 100%|██████████| 257/257 [00:05<00:00,  1.93it/s]\u001b[A\n",
      "Downloading: 100%|██████████| 257/257 [00:05<00:00,  1.93it/s]\u001b[A\n",
      "Downloading: 100%|██████████| 257/257 [00:05<00:00,  1.93it/s]\u001b[A\n",
      "Downloading:  87%|████████▋ | 223/257 [00:05<00:20,  1.67it/s]\u001b[A\n",
      "Downloading: 100%|██████████| 257/257 [00:05<00:00,  1.93it/s]\u001b[A\n",
      "Downloading: 100%|██████████| 257/257 [00:05<00:00,  1.93it/s]\u001b[A\n",
      "Downloading:  87%|████████▋ | 224/257 [00:05<00:19,  1.69it/s]\u001b[A\n",
      "Downloading: 100%|██████████| 257/257 [00:05<00:00,  1.93it/s]\u001b[A\n",
      "Downloading: 100%|██████████| 257/257 [00:05<00:00,  1.93it/s]\u001b[A\n",
      "Downloading: 100%|██████████| 257/257 [00:05<00:00,  1.93it/s]\u001b[A\n",
      "Downloading: 100%|██████████| 257/257 [00:05<00:00,  1.93it/s]\u001b[A\n",
      "Downloading:  88%|████████▊ | 225/257 [00:05<00:18,  1.71it/s]\u001b[A\n",
      "Downloading:  88%|████████▊ | 225/257 [00:05<00:18,  1.71it/s]\u001b[A\n",
      "Downloading: 100%|██████████| 257/257 [00:05<00:00,  1.45it/s]\u001b[A\n",
      "Downloading:  88%|████████▊ | 226/257 [00:05<00:17,  1.75it/s]\u001b[A\n",
      "Downloading:  88%|████████▊ | 227/257 [00:05<00:14,  2.08it/s]\u001b[A\n",
      "Downloading:  88%|████████▊ | 227/257 [00:05<00:14,  2.08it/s]\u001b[A\n",
      "Downloading:  88%|████████▊ | 227/257 [00:05<00:14,  2.08it/s]\u001b[A\n",
      "Downloading:  88%|████████▊ | 227/257 [00:05<00:14,  2.08it/s]\u001b[A\n",
      "Downloading:  89%|████████▊ | 228/257 [00:05<00:14,  2.01it/s]\u001b[A\n",
      "Downloading:  89%|████████▊ | 228/257 [00:05<00:14,  2.01it/s]\u001b[A\n",
      "Downloading:  89%|████████▉ | 229/257 [00:05<00:14,  1.97it/s]\u001b[A\n",
      "Downloading:  89%|████████▉ | 229/257 [00:05<00:14,  1.97it/s]\u001b[A\n",
      "Downloading:  89%|████████▉ | 230/257 [00:05<00:13,  1.95it/s]\u001b[A\n",
      "Downloading:  90%|████████▉ | 231/257 [00:05<00:13,  1.92it/s]\u001b[A\n",
      "Downloading: 100%|██████████| 257/257 [00:05<00:00,  1.45it/s]\u001b[A\n",
      "Downloading:  90%|█████████ | 232/257 [00:05<00:13,  1.91it/s]\u001b[A\n",
      "Downloading: 100%|██████████| 257/257 [00:05<00:00,  1.45it/s]\u001b[A\n",
      "Downloading: 100%|██████████| 257/257 [00:05<00:00,  1.45it/s]\u001b[A\n",
      "Downloading: 100%|██████████| 257/257 [00:05<00:00,  1.45it/s]\u001b[A\n",
      "Downloading: 100%|██████████| 257/257 [00:05<00:00,  1.45it/s]\u001b[A\n",
      "Downloading:  97%|█████████▋| 249/257 [00:05<00:02,  3.05it/s]\u001b[A\n",
      "Downloading:  97%|█████████▋| 249/257 [00:05<00:02,  3.05it/s]\u001b[A\n",
      "Downloading:  97%|█████████▋| 249/257 [00:05<00:02,  3.05it/s]\u001b[A\n",
      "Downloading:  93%|█████████▎| 239/257 [00:05<00:03,  5.24it/s]\u001b[A\n",
      "Downloading:  97%|█████████▋| 250/257 [00:05<00:02,  2.67it/s]\u001b[A\n",
      "Downloading:  93%|█████████▎| 240/257 [00:05<00:04,  3.59it/s]\u001b[A\n",
      "Downloading:  98%|█████████▊| 252/257 [00:05<00:01,  2.80it/s]\u001b[A\n",
      "Downloading:  98%|█████████▊| 252/257 [00:05<00:01,  2.80it/s]\u001b[A\n",
      "Downloading:  98%|█████████▊| 252/257 [00:05<00:01,  2.80it/s]\u001b[A\n",
      "Downloading:  94%|█████████▍| 241/257 [00:05<00:05,  2.94it/s]\u001b[A\n",
      "Downloading:  99%|█████████▉| 254/257 [00:05<00:01,  2.37it/s]\u001b[A\n",
      "Downloading:  99%|█████████▉| 255/257 [00:05<00:00,  2.71it/s]\u001b[A\n",
      "Downloading: 100%|█████████▉| 256/257 [00:05<00:00,  2.48it/s]\u001b[A\n",
      "Downloading: 100%|██████████| 257/257 [00:05<00:00,  1.68it/s]\u001b[A\n",
      "Downloading: 100%|██████████| 257/257 [00:05<00:00,  2.37it/s]\u001b[A\n",
      "Downloading: 100%|██████████| 257/257 [00:05<00:00,  2.37it/s]\u001b[A\n",
      "Downloading: 100%|██████████| 257/257 [00:05<00:00,  2.37it/s]\u001b[A\n",
      "Downloading: 100%|██████████| 257/257 [00:05<00:00,  2.37it/s]\u001b[A\n",
      "Downloading: 100%|██████████| 257/257 [00:05<00:00,  2.37it/s]\u001b[A\n",
      "Downloading: 100%|██████████| 257/257 [00:05<00:00,  2.37it/s]\u001b[A\n",
      "Downloading: 100%|██████████| 257/257 [00:05<00:00,  2.37it/s]\u001b[A\n",
      "Downloading: 100%|██████████| 257/257 [00:05<00:00,  2.37it/s]\u001b[A\n",
      "Downloading: 100%|██████████| 257/257 [00:05<00:00,  2.37it/s]\u001b[A\n",
      "Downloading: 100%|██████████| 257/257 [00:05<00:00,  2.37it/s]\u001b[A\n",
      "Downloading: 100%|██████████| 257/257 [00:05<00:00,  1.68it/s]\u001b[A\n",
      "Downloading: 100%|██████████| 257/257 [00:05<00:00,  1.68it/s]\u001b[A\n",
      "Downloading: 100%|██████████| 257/257 [00:05<00:00,  1.68it/s]\u001b[A\n",
      "Downloading: 100%|██████████| 257/257 [00:05<00:00,  1.68it/s]\u001b[A\n",
      "Downloading: 100%|██████████| 257/257 [00:05<00:00,  1.68it/s]\u001b[A\n",
      "Downloading: 100%|██████████| 257/257 [00:05<00:00,  1.68it/s]\u001b[A\n",
      "Downloading: 100%|██████████| 257/257 [00:05<00:00,  1.68it/s]\u001b[A\n",
      "Downloading: 100%|██████████| 257/257 [00:05<00:00,  1.68it/s]\u001b[A\n",
      "Downloading: 100%|██████████| 257/257 [00:05<00:00,  1.68it/s]\u001b[A\n",
      "Downloading: 100%|██████████| 257/257 [00:05<00:00,  1.68it/s]\u001b[A\n",
      "Downloading: 100%|██████████| 257/257 [00:05<00:00,  1.68it/s]\u001b[A\n",
      "Downloading: 100%|██████████| 257/257 [00:05<00:00,  1.68it/s]\u001b[A\n",
      "Downloading: 100%|██████████| 257/257 [00:05<00:00,  1.68it/s]\u001b[A\n",
      "Downloading: 100%|██████████| 257/257 [00:05<00:00,  1.68it/s]\u001b[A\n",
      "Downloading: 100%|██████████| 257/257 [00:05<00:00,  1.68it/s]\u001b[A\n",
      "Downloading: 100%|██████████| 257/257 [00:05<00:00,  1.68it/s]\u001b[A\n",
      "Downloading: 100%|██████████| 257/257 [00:05<00:00,  1.68it/s]\u001b[A\n",
      "Downloading:  94%|█████████▍| 242/257 [00:05<00:05,  2.60it/s]\u001b[A\n",
      "Downloading:  94%|█████████▍| 242/257 [00:05<00:05,  2.60it/s]\u001b[A\n",
      "Downloading: 100%|██████████| 257/257 [00:05<00:00, 45.06it/s]\u001b[A\n",
      "\n",
      "Downloading:  95%|█████████▍| 243/257 [00:05<00:05,  2.79it/s]\u001b[A\n",
      "Downloading:  95%|█████████▍| 244/257 [00:05<00:04,  3.01it/s]\u001b[A\n",
      "Downloading:  95%|█████████▍| 244/257 [00:05<00:04,  3.01it/s]\u001b[A\n",
      "Downloading:  95%|█████████▌| 245/257 [00:05<00:03,  3.26it/s]\u001b[A\n",
      "Downloading:  96%|█████████▌| 246/257 [00:05<00:02,  3.95it/s]\u001b[A\n",
      "Downloading:  96%|█████████▌| 246/257 [00:05<00:02,  3.95it/s]\u001b[A\n",
      "Downloading:  96%|█████████▌| 246/257 [00:05<00:02,  3.95it/s]\u001b[A\n",
      "Downloading:  96%|█████████▌| 246/257 [00:05<00:02,  3.95it/s]\u001b[A\n"
     ]
    },
    {
     "name": "stderr",
     "output_type": "stream",
     "text": [
      "Downloading:  96%|█████████▌| 247/257 [00:05<00:02,  4.04it/s]\u001b[A\n",
      "Downloading:  96%|█████████▋| 248/257 [00:05<00:02,  4.09it/s]\u001b[A\n",
      "Downloading:  97%|█████████▋| 249/257 [00:05<00:01,  4.10it/s]\u001b[A\n",
      "Downloading:  97%|█████████▋| 250/257 [00:05<00:01,  4.08it/s]\u001b[A\n",
      "Downloading:  97%|█████████▋| 250/257 [00:05<00:01,  4.08it/s]\u001b[A\n",
      "Downloading: 100%|██████████| 257/257 [00:05<00:00,  2.37it/s]\u001b[A\n",
      "Downloading:  98%|█████████▊| 253/257 [00:05<00:00,  4.64it/s]\u001b[A\n",
      "Downloading: 100%|██████████| 257/257 [00:05<00:00,  2.37it/s]\u001b[A\n",
      "Downloading: 100%|██████████| 257/257 [00:05<00:00,  2.37it/s]\u001b[A\n",
      "Downloading: 100%|██████████| 257/257 [00:05<00:00,  7.59it/s]\u001b[A\n",
      "Downloading: 100%|██████████| 257/257 [00:05<00:00,  2.37it/s]\u001b[A\n",
      "Downloading: 100%|██████████| 257/257 [00:05<00:00,  2.37it/s]\u001b[A\n",
      "Downloading: 100%|██████████| 257/257 [00:05<00:00,  7.59it/s]\u001b[A\n",
      "Downloading: 100%|██████████| 257/257 [00:05<00:00,  2.37it/s]\u001b[A\n",
      "Downloading: 100%|██████████| 257/257 [00:05<00:00,  2.37it/s]\u001b[A\n",
      "Downloading: 100%|██████████| 257/257 [00:05<00:00, 43.94it/s]\u001b[A\n",
      "Downloading: 100%|██████████| 257/257 [00:05<00:00, 43.95it/s]\n",
      "Downloading: 100%|██████████| 257/257 [00:05<00:00, 44.01it/s]\n",
      "\n",
      "Downloading: 100%|██████████| 257/257 [00:05<00:00,  7.59it/s]\u001b[A\n",
      "Downloading: 100%|██████████| 257/257 [00:05<00:00,  7.59it/s]\u001b[A\n",
      "Downloading: 100%|██████████| 257/257 [00:05<00:00,  7.59it/s]\u001b[A\n",
      "Downloading: 100%|██████████| 257/257 [00:05<00:00,  7.59it/s]\u001b[A\n",
      "Downloading: 100%|██████████| 257/257 [00:05<00:00,  7.59it/s]\u001b[A\n",
      "Downloading: 100%|██████████| 257/257 [00:05<00:00,  7.59it/s]\u001b[A\n",
      "Downloading: 100%|██████████| 257/257 [00:05<00:00,  7.59it/s]\u001b[A\n",
      "Downloading: 100%|██████████| 257/257 [00:05<00:00,  7.59it/s]\u001b[A\n",
      "Downloading: 100%|██████████| 257/257 [00:05<00:00, 44.01it/s]\u001b[A\n",
      "\n",
      "Downloading: 100%|██████████| 257/257 [00:05<00:00,  7.59it/s]\u001b[A\n",
      "Downloading: 100%|██████████| 257/257 [00:05<00:00,  7.59it/s]\u001b[A\n",
      "Downloading: 100%|██████████| 257/257 [00:05<00:00,  7.59it/s]\u001b[A\n",
      "Downloading: 100%|██████████| 257/257 [00:05<00:00,  7.59it/s]\u001b[A\n",
      "Downloading: 100%|██████████| 257/257 [00:05<00:00,  7.59it/s]\u001b[A\n",
      "Downloading: 100%|██████████| 257/257 [00:05<00:00,  7.59it/s]\u001b[A\n",
      "Downloading: 100%|██████████| 257/257 [00:05<00:00, 43.46it/s]\u001b[A\n",
      "Downloading: 100%|██████████| 257/257 [00:05<00:00, 43.65it/s]\n",
      "\n",
      "Downloading:   0%|          | 0/199 [00:00<?, ?it/s]\u001b[A\n",
      "Downloading:   0%|          | 0/199 [00:00<?, ?it/s]\u001b[A\n",
      "Downloading:  11%|█         | 21/199 [00:00<00:01, 172.41it/s]\u001b[A\n",
      "Downloading:  10%|█         | 20/199 [00:00<00:01, 176.79it/s]\u001b[A\n",
      "Downloading:  10%|█         | 20/199 [00:00<00:01, 176.79it/s]\u001b[A\n",
      "Downloading:  10%|█         | 20/199 [00:00<00:01, 176.79it/s]\u001b[A\n",
      "Downloading:  10%|█         | 20/199 [00:00<00:01, 176.79it/s]\u001b[A\n",
      "Downloading:  22%|██▏       | 43/199 [00:00<00:00, 181.67it/s]\u001b[A\n",
      "Downloading:  27%|██▋       | 54/199 [00:00<00:00, 214.00it/s]\u001b[A\n",
      "Downloading:  29%|██▉       | 58/199 [00:00<00:00, 214.00it/s]\u001b[A\n",
      "Downloading:  30%|███       | 60/199 [00:00<00:00, 214.00it/s]\u001b[A\n",
      "Downloading:  24%|██▎       | 47/199 [00:00<00:00, 171.40it/s]\u001b[A\n",
      "Downloading:  34%|███▎      | 67/199 [00:00<00:00, 214.00it/s]\u001b[A\n",
      "Downloading:  36%|███▌      | 72/199 [00:00<00:00, 214.00it/s]\u001b[A\n",
      "Downloading:  37%|███▋      | 73/199 [00:00<00:00, 214.00it/s]\u001b[A\n",
      "Downloading:  37%|███▋      | 74/199 [00:00<00:00, 214.00it/s]\u001b[A\n",
      "Downloading:  38%|███▊      | 75/199 [00:00<00:00, 214.00it/s]\u001b[A\n",
      "Downloading:  39%|███▉      | 78/199 [00:00<00:00, 214.00it/s]\u001b[A\n",
      "Downloading:  37%|███▋      | 73/199 [00:00<00:00, 185.79it/s]\u001b[A\n",
      "Downloading:  37%|███▋      | 73/199 [00:00<00:00, 185.79it/s]\u001b[A\n",
      "Downloading:  37%|███▋      | 73/199 [00:00<00:00, 185.79it/s]\u001b[A\n",
      "Downloading:  37%|███▋      | 73/199 [00:00<00:00, 185.79it/s]\u001b[A\n",
      "Downloading:  37%|███▋      | 73/199 [00:00<00:00, 185.79it/s]\u001b[A\n",
      "Downloading:  37%|███▋      | 73/199 [00:00<00:00, 185.79it/s]\u001b[A\n",
      "Downloading:  37%|███▋      | 74/199 [00:00<00:00, 185.79it/s]\u001b[A\n",
      "Downloading:  37%|███▋      | 74/199 [00:00<00:00, 185.79it/s]\u001b[A\n",
      "Downloading:  37%|███▋      | 74/199 [00:00<00:00, 185.79it/s]\u001b[A\n",
      "Downloading:  38%|███▊      | 76/199 [00:00<00:00, 185.79it/s]\u001b[A\n",
      "Downloading:  39%|███▊      | 77/199 [00:00<00:00, 185.79it/s]\u001b[A\n",
      "Downloading:  39%|███▊      | 77/199 [00:00<00:00, 185.79it/s]\u001b[A\n",
      "Downloading:  40%|███▉      | 79/199 [00:00<00:00, 185.79it/s]\u001b[A\n",
      "Downloading:  40%|████      | 80/199 [00:00<00:00, 185.79it/s]\u001b[A\n",
      "Downloading:  41%|████      | 81/199 [00:00<00:00, 185.79it/s]\u001b[A\n",
      "Downloading:  42%|████▏     | 84/199 [00:00<00:00, 185.79it/s]\u001b[A\n",
      "Downloading:  42%|████▏     | 84/199 [00:00<00:00, 185.79it/s]\u001b[A\n",
      "Downloading:  44%|████▎     | 87/199 [00:00<00:00, 185.79it/s]\u001b[A\n",
      "Downloading:  45%|████▌     | 90/199 [00:00<00:00, 185.79it/s]\u001b[A\n",
      "Downloading:  46%|████▌     | 92/199 [00:00<00:00, 185.79it/s]\u001b[A\n",
      "Downloading:  62%|██████▏   | 123/199 [00:00<00:00, 129.39it/s]\u001b[A\n",
      "Downloading:  62%|██████▏   | 123/199 [00:00<00:00, 129.39it/s]\u001b[A\n",
      "Downloading:  62%|██████▏   | 124/199 [00:00<00:00, 129.39it/s]\u001b[A\n",
      "Downloading:  62%|██████▏   | 124/199 [00:00<00:00, 129.39it/s]\u001b[A\n",
      "Downloading:  62%|██████▏   | 124/199 [00:00<00:00, 129.39it/s]\u001b[A\n",
      "Downloading:  62%|██████▏   | 124/199 [00:00<00:00, 129.39it/s]\u001b[A\n",
      "Downloading:  62%|██████▏   | 124/199 [00:00<00:00, 129.39it/s]\u001b[A\n",
      "Downloading:  63%|██████▎   | 125/199 [00:00<00:00, 129.39it/s]\u001b[A\n",
      "Downloading:  63%|██████▎   | 126/199 [00:00<00:00, 129.39it/s]\u001b[A\n",
      "Downloading:  63%|██████▎   | 126/199 [00:00<00:00, 129.39it/s]\u001b[A\n",
      "Downloading:  64%|██████▍   | 128/199 [00:00<00:00, 129.39it/s]\u001b[A\n",
      "Downloading:  64%|██████▍   | 128/199 [00:00<00:00, 129.39it/s]\u001b[A\n",
      "Downloading:  65%|██████▍   | 129/199 [00:00<00:00, 129.39it/s]\u001b[A\n",
      "Downloading:  65%|██████▌   | 130/199 [00:00<00:00, 129.39it/s]\u001b[A\n",
      "Downloading:  66%|██████▌   | 131/199 [00:00<00:00, 129.39it/s]\u001b[A\n",
      "Downloading:  67%|██████▋   | 133/199 [00:00<00:00, 129.39it/s]\u001b[A\n",
      "Downloading:  68%|██████▊   | 135/199 [00:00<00:00, 129.39it/s]\u001b[A\n",
      "Downloading:  70%|██████▉   | 139/199 [00:00<00:00, 129.39it/s]\u001b[A\n",
      "Downloading:  70%|██████▉   | 139/199 [00:00<00:00, 129.39it/s]\u001b[A\n",
      "Downloading:  71%|███████   | 141/199 [00:00<00:00, 129.39it/s]\u001b[A\n",
      "Downloading:  61%|██████▏   | 122/199 [00:00<00:01, 72.08it/s]\u001b[A\n",
      "Downloading:  61%|██████▏   | 122/199 [00:00<00:01, 72.08it/s]\u001b[A\n",
      "Downloading:  64%|██████▍   | 128/199 [00:00<00:00, 72.08it/s]\u001b[A\n",
      "Downloading:  66%|██████▌   | 131/199 [00:00<00:00, 72.08it/s]\u001b[A\n",
      "Downloading:  66%|██████▋   | 132/199 [00:00<00:00, 72.08it/s]\u001b[A\n",
      "Downloading:  66%|██████▋   | 132/199 [00:00<00:00, 72.08it/s]\u001b[A\n",
      "Downloading:  66%|██████▋   | 132/199 [00:00<00:00, 72.08it/s]\u001b[A\n",
      "Downloading:  66%|██████▋   | 132/199 [00:00<00:00, 72.08it/s]\u001b[A\n",
      "Downloading:  68%|██████▊   | 135/199 [00:00<00:00, 72.08it/s]\u001b[A\n",
      "Downloading:  70%|██████▉   | 139/199 [00:00<00:00, 72.08it/s]\u001b[A\n",
      "Downloading:  87%|████████▋ | 174/199 [00:00<00:00, 115.69it/s]\u001b[A\n",
      "Downloading:  87%|████████▋ | 174/199 [00:00<00:00, 115.69it/s]\u001b[A\n",
      "Downloading:  87%|████████▋ | 174/199 [00:00<00:00, 115.69it/s]\u001b[A\n",
      "Downloading:  88%|████████▊ | 175/199 [00:00<00:00, 115.69it/s]\u001b[A\n",
      "Downloading:  88%|████████▊ | 175/199 [00:00<00:00, 115.69it/s]\u001b[A\n",
      "Downloading:  88%|████████▊ | 175/199 [00:00<00:00, 115.69it/s]\u001b[A\n",
      "Downloading:  88%|████████▊ | 175/199 [00:00<00:00, 115.69it/s]\u001b[A\n",
      "Downloading:  88%|████████▊ | 176/199 [00:00<00:00, 115.69it/s]\u001b[A\n",
      "Downloading:  89%|████████▉ | 177/199 [00:00<00:00, 115.69it/s]\u001b[A\n",
      "Downloading:  89%|████████▉ | 177/199 [00:00<00:00, 115.69it/s]\u001b[A\n",
      "Downloading:  90%|█████████ | 180/199 [00:00<00:00, 115.69it/s]\u001b[A\n",
      "Downloading:  90%|█████████ | 180/199 [00:00<00:00, 115.69it/s]\u001b[A\n",
      "Downloading:  90%|█████████ | 180/199 [00:00<00:00, 115.69it/s]\u001b[A\n",
      "Downloading:  92%|█████████▏| 183/199 [00:00<00:00, 115.69it/s]\u001b[A\n",
      "Downloading:  93%|█████████▎| 186/199 [00:00<00:00, 115.69it/s]\u001b[A\n",
      "Downloading:  94%|█████████▍| 187/199 [00:00<00:00, 115.69it/s]\u001b[A\n",
      "Downloading:  94%|█████████▍| 187/199 [00:00<00:00, 115.69it/s]\u001b[A\n",
      "Downloading:  95%|█████████▌| 190/199 [00:00<00:00, 115.69it/s]\u001b[A\n",
      "Downloading:  95%|█████████▌| 190/199 [00:00<00:00, 115.69it/s]\u001b[A\n",
      "Downloading:  96%|█████████▋| 192/199 [00:00<00:00, 115.69it/s]\u001b[A\n",
      "Downloading:  85%|████████▍ | 169/199 [00:00<00:00, 129.34it/s]\u001b[A\n",
      "Downloading:  85%|████████▍ | 169/199 [00:00<00:00, 129.34it/s]\u001b[A\n",
      "Downloading:  85%|████████▍ | 169/199 [00:00<00:00, 129.34it/s]\u001b[A\n",
      "Downloading:  85%|████████▍ | 169/199 [00:00<00:00, 129.34it/s]\u001b[A\n",
      "Downloading:  85%|████████▌ | 170/199 [00:00<00:00, 129.34it/s]\u001b[A\n",
      "Downloading:  85%|████████▌ | 170/199 [00:00<00:00, 129.34it/s]\u001b[A\n",
      "Downloading:  86%|████████▌ | 171/199 [00:00<00:00, 129.34it/s]\u001b[A\n",
      "Downloading:  86%|████████▌ | 171/199 [00:00<00:00, 129.34it/s]\u001b[A\n",
      "Downloading:  86%|████████▋ | 172/199 [00:00<00:00, 129.34it/s]\u001b[A\n",
      "Downloading:  87%|████████▋ | 173/199 [00:00<00:00, 129.34it/s]\u001b[A\n",
      "Downloading:  87%|████████▋ | 174/199 [00:00<00:00, 129.34it/s]\u001b[A\n",
      "Downloading:  88%|████████▊ | 176/199 [00:01<00:00, 129.34it/s]\u001b[A\n",
      "Downloading:  89%|████████▉ | 178/199 [00:01<00:00, 129.34it/s]\u001b[A\n",
      "Downloading:  90%|████████▉ | 179/199 [00:01<00:00, 129.34it/s]\u001b[A\n",
      "Downloading:  90%|█████████ | 180/199 [00:01<00:00, 129.34it/s]\u001b[A\n",
      "Downloading:  91%|█████████ | 181/199 [00:01<00:00, 129.34it/s]\u001b[A\n",
      "Downloading:  93%|█████████▎| 185/199 [00:01<00:00, 129.34it/s]\u001b[A\n",
      "Downloading:  95%|█████████▌| 190/199 [00:01<00:00, 129.34it/s]\u001b[A\n",
      "Downloading:  96%|█████████▋| 192/199 [00:01<00:00, 129.34it/s]\u001b[A\n",
      "Downloading:  97%|█████████▋| 194/199 [00:01<00:00, 129.34it/s]\u001b[A\n",
      "Downloading: 100%|██████████| 199/199 [00:01<00:00, 173.71it/s]\n",
      "Downloading: 100%|██████████| 199/199 [00:01<00:00, 175.63it/s]\n",
      "\n",
      "Downloading:  10%|█         | 20/199 [00:00<00:01, 175.87it/s]\u001b[A\n",
      "Downloading:  10%|█         | 20/199 [00:00<00:01, 175.87it/s]\u001b[A\n",
      "Downloading:  10%|█         | 20/199 [00:00<00:01, 175.87it/s]\u001b[A\n",
      "Downloading:  10%|█         | 20/199 [00:00<00:01, 175.87it/s]\u001b[A\n",
      "Downloading:  20%|█▉        | 39/199 [00:00<00:00, 174.76it/s]\u001b[A\n",
      "Downloading:  20%|█▉        | 39/199 [00:00<00:00, 174.76it/s]\u001b[A\n",
      "Downloading:  30%|███       | 60/199 [00:00<00:00, 180.65it/s]\u001b[A\n",
      "Downloading:  31%|███       | 62/199 [00:00<00:00, 182.84it/s]\u001b[A\n",
      "Downloading:  44%|████▍     | 88/199 [00:00<00:00, 190.91it/s]\u001b[A\n",
      "Downloading:  48%|████▊     | 95/199 [00:00<00:00, 227.15it/s]\u001b[A\n",
      "Downloading:  48%|████▊     | 96/199 [00:00<00:00, 227.15it/s]\u001b[A\n",
      "Downloading:  49%|████▊     | 97/199 [00:00<00:00, 227.15it/s]\u001b[A\n",
      "Downloading:  49%|████▉     | 98/199 [00:00<00:00, 227.15it/s]\u001b[A\n",
      "Downloading:  50%|████▉     | 99/199 [00:00<00:00, 227.15it/s]\u001b[A\n",
      "Downloading:  52%|█████▏    | 104/199 [00:00<00:00, 227.15it/s]\u001b[A\n",
      "Downloading:  53%|█████▎    | 105/199 [00:00<00:00, 227.15it/s]\u001b[A\n",
      "Downloading:  53%|█████▎    | 106/199 [00:00<00:00, 227.15it/s]\u001b[A\n",
      "Downloading:  55%|█████▌    | 110/199 [00:00<00:00, 227.15it/s]\u001b[A\n",
      "Downloading:  56%|█████▌    | 111/199 [00:00<00:00, 227.15it/s]\u001b[A\n",
      "Downloading:   0%|          | 0/199 [00:00<?, ?it/s]\u001b[A\n",
      "Downloading:  69%|██████▉   | 138/199 [00:00<00:00, 143.02it/s]\u001b[A\n",
      "Downloading:  70%|██████▉   | 139/199 [00:00<00:00, 136.89it/s]\u001b[A\n",
      "Downloading:  72%|███████▏  | 143/199 [00:00<00:00, 136.89it/s]\u001b[A\n",
      "Downloading:  74%|███████▍  | 147/199 [00:00<00:00, 136.89it/s]\u001b[A\n",
      "Downloading:  10%|█         | 20/199 [00:00<00:01, 167.29it/s]\u001b[A\n",
      "Downloading:  11%|█         | 21/199 [00:00<00:01, 155.73it/s]\u001b[A\n",
      "Downloading:  15%|█▍        | 29/199 [00:00<00:01, 155.73it/s]\u001b[A\n",
      "Downloading:  18%|█▊        | 36/199 [00:00<00:01, 155.73it/s]\u001b[A\n",
      "Downloading:  83%|████████▎ | 166/199 [00:00<00:00, 112.77it/s]\u001b[A\n",
      "Downloading:  86%|████████▌ | 171/199 [00:00<00:00, 118.94it/s]\u001b[A\n",
      "Downloading:  87%|████████▋ | 173/199 [00:00<00:00, 118.94it/s]\u001b[A\n",
      "Downloading:  88%|████████▊ | 175/199 [00:00<00:00, 118.94it/s]\u001b[A\n",
      "Downloading:  90%|████████▉ | 179/199 [00:00<00:00, 118.94it/s]\u001b[A\n",
      "Downloading:  91%|█████████ | 181/199 [00:00<00:00, 118.94it/s]\u001b[A\n",
      "Downloading:  92%|█████████▏| 183/199 [00:00<00:00, 118.94it/s]\u001b[A\n",
      "Downloading:  92%|█████████▏| 183/199 [00:00<00:00, 118.94it/s]\u001b[A\n",
      "Downloading:  34%|███▍      | 68/199 [00:00<00:00, 174.04it/s]\u001b[A\n",
      "Downloading:  34%|███▍      | 68/199 [00:00<00:00, 174.04it/s]\u001b[A\n",
      "Downloading:  35%|███▌      | 70/199 [00:00<00:00, 174.04it/s]\u001b[A\n",
      "Downloading:  35%|███▌      | 70/199 [00:00<00:00, 174.04it/s]\u001b[A\n",
      "Downloading:  35%|███▌      | 70/199 [00:00<00:00, 174.04it/s]\u001b[A\n",
      "Downloading:  36%|███▌      | 71/199 [00:00<00:00, 174.04it/s]\u001b[A\n",
      "Downloading:  36%|███▌      | 72/199 [00:00<00:00, 174.04it/s]\u001b[A\n",
      "Downloading:  36%|███▌      | 72/199 [00:00<00:00, 174.04it/s]\u001b[A\n",
      "Downloading:  37%|███▋      | 73/199 [00:00<00:00, 174.04it/s]\u001b[A\n",
      "Downloading:  37%|███▋      | 73/199 [00:00<00:00, 174.04it/s]\u001b[A\n",
      "Downloading:  38%|███▊      | 76/199 [00:00<00:00, 174.04it/s]\u001b[A\n",
      "Downloading:  39%|███▉      | 78/199 [00:00<00:00, 174.04it/s]\u001b[A\n",
      "Downloading:  40%|████      | 80/199 [00:00<00:00, 174.04it/s]\u001b[A\n",
      "Downloading:  41%|████      | 81/199 [00:00<00:00, 174.04it/s]\u001b[A\n",
      "Downloading:  41%|████      | 82/199 [00:00<00:00, 174.04it/s]\u001b[A\n",
      "Downloading:  42%|████▏     | 84/199 [00:00<00:00, 174.04it/s]\u001b[A\n",
      "Downloading:  43%|████▎     | 86/199 [00:00<00:00, 174.04it/s]\u001b[A\n",
      "Downloading:  44%|████▍     | 88/199 [00:00<00:00, 174.04it/s]\u001b[A\n",
      "Downloading:  45%|████▍     | 89/199 [00:00<00:00, 174.04it/s]\u001b[A\n",
      "Downloading:  45%|████▌     | 90/199 [00:00<00:00, 174.04it/s]\u001b[A\n",
      "Downloading: 100%|██████████| 199/199 [00:01<00:00, 106.58it/s]\u001b[A\n",
      "Downloading: 100%|██████████| 199/199 [00:01<00:00, 106.58it/s]\u001b[A\n",
      "Downloading: 100%|██████████| 199/199 [00:01<00:00, 176.46it/s]\u001b[A\n",
      "\n",
      "Downloading:  57%|█████▋    | 113/199 [00:00<00:00, 86.75it/s]\u001b[A\n",
      "Downloading:  57%|█████▋    | 114/199 [00:00<00:00, 86.75it/s]\u001b[A\n",
      "Downloading:  60%|██████    | 120/199 [00:00<00:00, 86.75it/s]\u001b[A\n",
      "Downloading:  70%|███████   | 140/199 [00:00<00:00, 135.12it/s]\u001b[A\n",
      "Downloading:  71%|███████▏  | 142/199 [00:00<00:00, 149.58it/s]\u001b[A\n",
      "Downloading:  74%|███████▍  | 147/199 [00:00<00:00, 149.58it/s]\u001b[A\n",
      "Downloading:  74%|███████▍  | 148/199 [00:00<00:00, 149.58it/s]\u001b[A\n",
      "Downloading:  75%|███████▌  | 150/199 [00:00<00:00, 149.58it/s]\u001b[A\n",
      "Downloading:  76%|███████▌  | 151/199 [00:00<00:00, 149.58it/s]\u001b[A\n",
      "Downloading:  78%|███████▊  | 155/199 [00:00<00:00, 149.58it/s]\u001b[A\n",
      "Downloading:  87%|████████▋ | 173/199 [00:00<00:00, 136.13it/s]\u001b[A\n",
      "Downloading:  88%|████████▊ | 175/199 [00:00<00:00, 137.27it/s]\u001b[A\n",
      "Downloading:  90%|████████▉ | 179/199 [00:00<00:00, 137.27it/s]\u001b[A\n",
      "Downloading:  91%|█████████ | 181/199 [00:00<00:00, 137.27it/s]\u001b[A\n",
      "Downloading: 100%|██████████| 199/199 [00:00<00:00, 208.12it/s]\u001b[A\n",
      "\n",
      "Downloading:   0%|          | 0/199 [00:00<?, ?it/s]\u001b[A\n",
      "Downloading:  10%|█         | 20/199 [00:00<00:00, 199.63it/s]\u001b[A\n",
      "Downloading:  21%|██        | 41/199 [00:00<00:00, 196.85it/s]\u001b[A\n",
      "Downloading:  25%|██▌       | 50/199 [00:00<00:00, 192.12it/s]\u001b[A\n",
      "Downloading:  36%|███▌      | 72/199 [00:00<00:00, 146.63it/s]\u001b[A\n",
      "Downloading:  39%|███▉      | 78/199 [00:00<00:00, 140.75it/s]\u001b[A\n",
      "Downloading:  40%|████      | 80/199 [00:00<00:00, 140.75it/s]\u001b[A\n",
      "Downloading:  40%|████      | 80/199 [00:00<00:00, 140.75it/s]\u001b[A\n",
      "Downloading:  40%|████      | 80/199 [00:00<00:00, 140.75it/s]\u001b[A\n",
      "Downloading:  40%|████      | 80/199 [00:00<00:00, 140.75it/s]\u001b[A\n",
      "Downloading:  43%|████▎     | 86/199 [00:00<00:00, 140.75it/s]\u001b[A\n",
      "Downloading:   0%|          | 0/199 [00:00<?, ?it/s]\u001b[A\n",
      "Downloading:  51%|█████▏    | 102/199 [00:00<00:00, 128.22it/s]\u001b[A\n",
      "Downloading:  55%|█████▌    | 110/199 [00:00<00:00, 118.31it/s]\u001b[A\n",
      "Downloading:  56%|█████▋    | 112/199 [00:00<00:00, 118.31it/s]\u001b[A\n",
      "Downloading:   7%|▋         | 13/199 [00:00<00:01, 104.90it/s]\u001b[A\n",
      "Downloading:  10%|█         | 20/199 [00:00<00:01, 141.79it/s]\u001b[A\n",
      "Downloading:  10%|█         | 20/199 [00:00<00:01, 141.79it/s]\u001b[A\n",
      "Downloading:  10%|█         | 20/199 [00:00<00:01, 141.79it/s]\u001b[A\n",
      "Downloading:  10%|█         | 20/199 [00:00<00:01, 141.79it/s]\u001b[A\n",
      "Downloading:  12%|█▏        | 24/199 [00:00<00:01, 141.79it/s]\u001b[A\n",
      "Downloading:  14%|█▍        | 28/199 [00:00<00:01, 141.79it/s]\u001b[A\n",
      "Downloading:  15%|█▍        | 29/199 [00:00<00:01, 141.79it/s]\u001b[A\n",
      "Downloading:  15%|█▌        | 30/199 [00:00<00:01, 141.79it/s]\u001b[A\n",
      "Downloading:  16%|█▌        | 31/199 [00:00<00:01, 141.79it/s]\u001b[A\n",
      "Downloading:  16%|█▌        | 32/199 [00:00<00:01, 141.79it/s]\u001b[A\n",
      "Downloading:  73%|███████▎  | 145/199 [00:00<00:00, 208.79it/s]\u001b[A\n"
     ]
    },
    {
     "name": "stderr",
     "output_type": "stream",
     "text": [
      "Downloading:  75%|███████▌  | 150/199 [00:00<00:00, 208.79it/s]\u001b[A\n",
      "Downloading:  76%|███████▌  | 151/199 [00:00<00:00, 208.79it/s]\u001b[A\n",
      "Downloading:  76%|███████▌  | 151/199 [00:00<00:00, 208.79it/s]\u001b[A\n",
      "Downloading:  76%|███████▌  | 151/199 [00:00<00:00, 208.79it/s]\u001b[A\n",
      "Downloading:  76%|███████▌  | 151/199 [00:00<00:00, 208.79it/s]\u001b[A\n",
      "Downloading:  76%|███████▌  | 151/199 [00:00<00:00, 208.79it/s]\u001b[A\n",
      "Downloading:  76%|███████▋  | 152/199 [00:00<00:00, 208.79it/s]\u001b[A\n",
      "Downloading:  77%|███████▋  | 153/199 [00:00<00:00, 208.79it/s]\u001b[A\n",
      "Downloading:  77%|███████▋  | 153/199 [00:00<00:00, 208.79it/s]\u001b[A\n",
      "Downloading:  78%|███████▊  | 155/199 [00:00<00:00, 208.79it/s]\u001b[A\n",
      "Downloading:  78%|███████▊  | 156/199 [00:00<00:00, 208.79it/s]\u001b[A\n",
      "Downloading:  79%|███████▉  | 157/199 [00:00<00:00, 208.79it/s]\u001b[A\n",
      "Downloading:  80%|███████▉  | 159/199 [00:00<00:00, 208.79it/s]\u001b[A\n",
      "Downloading:  81%|████████▏ | 162/199 [00:00<00:00, 208.79it/s]\u001b[A\n",
      "Downloading:  81%|████████▏ | 162/199 [00:00<00:00, 208.79it/s]\u001b[A\n",
      "Downloading:  83%|████████▎ | 165/199 [00:00<00:00, 208.79it/s]\u001b[A\n",
      "Downloading:  84%|████████▍ | 167/199 [00:00<00:00, 208.79it/s]\u001b[A\n",
      "Downloading:  84%|████████▍ | 168/199 [00:00<00:00, 208.79it/s]\u001b[A\n",
      "Downloading:  86%|████████▋ | 172/199 [00:00<00:00, 208.79it/s]\u001b[A\n",
      "Downloading:  34%|███▍      | 68/199 [00:00<00:00, 132.52it/s]\u001b[A\n",
      "Downloading:  34%|███▍      | 68/199 [00:00<00:00, 132.52it/s]\u001b[A\n",
      "Downloading:  35%|███▍      | 69/199 [00:00<00:00, 132.52it/s]\u001b[A\n",
      "Downloading:  35%|███▍      | 69/199 [00:00<00:00, 132.52it/s]\u001b[A\n",
      "Downloading:  35%|███▍      | 69/199 [00:00<00:00, 132.52it/s]\u001b[A\n",
      "Downloading:  35%|███▍      | 69/199 [00:00<00:00, 132.52it/s]\u001b[A\n",
      "Downloading:  35%|███▍      | 69/199 [00:00<00:00, 132.52it/s]\u001b[A\n",
      "Downloading:  35%|███▍      | 69/199 [00:00<00:00, 132.52it/s]\u001b[A\n",
      "Downloading:  36%|███▌      | 71/199 [00:00<00:00, 132.52it/s]\u001b[A\n",
      "Downloading:  36%|███▌      | 71/199 [00:00<00:00, 132.52it/s]\u001b[A\n",
      "Downloading:  36%|███▌      | 72/199 [00:00<00:00, 132.52it/s]\u001b[A\n",
      "Downloading:  37%|███▋      | 73/199 [00:00<00:00, 132.52it/s]\u001b[A\n",
      "Downloading:  37%|███▋      | 74/199 [00:00<00:00, 132.52it/s]\u001b[A\n",
      "Downloading:  38%|███▊      | 75/199 [00:00<00:00, 132.52it/s]\u001b[A\n",
      "Downloading:  39%|███▉      | 78/199 [00:00<00:00, 132.52it/s]\u001b[A\n",
      "Downloading:  40%|████      | 80/199 [00:00<00:00, 132.52it/s]\u001b[A\n",
      "Downloading:  42%|████▏     | 83/199 [00:00<00:00, 132.52it/s]\u001b[A\n",
      "Downloading:  42%|████▏     | 84/199 [00:00<00:00, 132.52it/s]\u001b[A\n",
      "Downloading:  43%|████▎     | 85/199 [00:00<00:00, 132.52it/s]\u001b[A\n",
      "Downloading:  44%|████▎     | 87/199 [00:00<00:00, 132.52it/s]\u001b[A\n",
      "Downloading: 100%|██████████| 199/199 [00:01<00:00, 82.48it/s] \u001b[A\n",
      "Downloading: 100%|██████████| 199/199 [00:01<00:00, 82.48it/s]\u001b[A\n",
      "Downloading: 100%|██████████| 199/199 [00:01<00:00, 82.48it/s]\u001b[A\n",
      "Downloading: 100%|██████████| 199/199 [00:01<00:00, 182.05it/s][A\n",
      "\n",
      "Downloading:  51%|█████▏    | 102/199 [00:00<00:01, 82.29it/s]\u001b[A\n",
      "Downloading:  53%|█████▎    | 105/199 [00:00<00:01, 66.50it/s]\u001b[A\n",
      "Downloading:  63%|██████▎   | 125/199 [00:00<00:00, 82.04it/s]\u001b[A\n",
      "Downloading:  66%|██████▌   | 131/199 [00:00<00:00, 167.01it/s]\u001b[A\n",
      "Downloading:  66%|██████▋   | 132/199 [00:00<00:00, 167.01it/s]\u001b[A\n",
      "Downloading:  69%|██████▉   | 137/199 [00:00<00:00, 167.01it/s]\u001b[A\n",
      "Downloading:  70%|██████▉   | 139/199 [00:00<00:00, 167.01it/s]\u001b[A\n",
      "Downloading:  71%|███████   | 141/199 [00:00<00:00, 167.01it/s]\u001b[A\n",
      "Downloading:  71%|███████▏  | 142/199 [00:00<00:00, 167.01it/s]\u001b[A\n",
      "Downloading:  82%|████████▏ | 163/199 [00:00<00:00, 147.54it/s]\u001b[A\n",
      "Downloading:  82%|████████▏ | 164/199 [00:00<00:00, 143.99it/s]\u001b[A\n",
      "Downloading:  83%|████████▎ | 165/199 [00:00<00:00, 143.99it/s]\u001b[A\n",
      "Downloading:  96%|█████████▋| 192/199 [00:01<00:00, 216.17it/s]\u001b[A\n",
      "Downloading:  97%|█████████▋| 194/199 [00:01<00:00, 225.17it/s]\u001b[A\n",
      "Downloading:  99%|█████████▉| 197/199 [00:01<00:00, 225.17it/s]\u001b[A\n",
      "Downloading: 100%|██████████| 199/199 [00:01<00:00, 225.17it/s]\u001b[A\n",
      "Downloading: 100%|██████████| 199/199 [00:01<00:00, 225.17it/s]\u001b[A\n",
      "Downloading: 100%|██████████| 199/199 [00:01<00:00, 178.93it/s]\u001b[A\n",
      "\n",
      "Downloading:   0%|          | 0/199 [00:00<?, ?it/s]\u001b[A\n",
      "Downloading:  11%|█         | 21/199 [00:00<00:00, 183.85it/s]\u001b[A\n",
      "Downloading:  12%|█▏        | 24/199 [00:00<00:00, 184.95it/s]\u001b[A\n",
      "Downloading:  17%|█▋        | 34/199 [00:00<00:00, 184.95it/s]\u001b[A\n",
      "Downloading:  19%|█▉        | 38/199 [00:00<00:00, 184.95it/s]\u001b[A\n",
      "Downloading:  28%|██▊       | 55/199 [00:00<00:00, 151.99it/s]\u001b[A\n",
      "Downloading:  30%|██▉       | 59/199 [00:00<00:00, 150.68it/s]\u001b[A\n",
      "Downloading:  30%|███       | 60/199 [00:00<00:00, 150.68it/s]\u001b[A\n",
      "Downloading:  30%|███       | 60/199 [00:00<00:00, 150.68it/s]\u001b[A\n",
      "Downloading:  30%|███       | 60/199 [00:00<00:00, 150.68it/s]\u001b[A\n",
      "Downloading:  39%|███▊      | 77/199 [00:00<00:00, 148.51it/s]\u001b[A\n",
      "Downloading:  39%|███▉      | 78/199 [00:00<00:00, 147.32it/s]\u001b[A\n",
      "Downloading:  49%|████▉     | 98/199 [00:00<00:00, 155.76it/s]\u001b[A\n",
      "Downloading:  52%|█████▏    | 104/199 [00:00<00:00, 174.28it/s]\u001b[A\n",
      "Downloading:  56%|█████▋    | 112/199 [00:00<00:00, 174.28it/s]\u001b[A\n",
      "Downloading:  58%|█████▊    | 116/199 [00:00<00:00, 174.28it/s]\u001b[A\n",
      "Downloading:  68%|██████▊   | 136/199 [00:00<00:00, 146.16it/s]\u001b[A\n",
      "Downloading:  68%|██████▊   | 136/199 [00:00<00:00, 146.16it/s]\u001b[A\n",
      "Downloading:  69%|██████▉   | 137/199 [00:00<00:00, 146.16it/s]\u001b[A\n",
      "Downloading:  80%|███████▉  | 159/199 [00:00<00:00, 175.30it/s]\u001b[A\n",
      "Downloading:  82%|████████▏ | 164/199 [00:00<00:00, 194.17it/s]\u001b[A\n",
      "Downloading:  85%|████████▌ | 170/199 [00:00<00:00, 194.17it/s]\u001b[A\n",
      "Downloading:  87%|████████▋ | 174/199 [00:00<00:00, 194.17it/s]\u001b[A\n",
      "Downloading:  88%|████████▊ | 175/199 [00:00<00:00, 194.17it/s]\u001b[A\n",
      "Downloading:  88%|████████▊ | 175/199 [00:00<00:00, 194.17it/s]\u001b[A\n",
      "Downloading:  88%|████████▊ | 175/199 [00:00<00:00, 194.17it/s]\u001b[A\n",
      "Downloading:  89%|████████▉ | 178/199 [00:00<00:00, 194.17it/s]\u001b[A\n",
      "Downloading: 100%|██████████| 199/199 [00:00<00:00, 213.19it/s]\u001b[A\n",
      "\n",
      "Downloading:   0%|          | 0/199 [00:00<?, ?it/s]\u001b[A\n",
      "Downloading:  13%|█▎        | 26/199 [00:00<00:01, 165.27it/s]\u001b[A\n",
      "Downloading:  20%|██        | 40/199 [00:00<00:00, 205.27it/s]\u001b[A\n",
      "Downloading:  20%|██        | 40/199 [00:00<00:00, 205.27it/s]\u001b[A\n",
      "Downloading:  20%|██        | 40/199 [00:00<00:00, 205.27it/s]\u001b[A\n",
      "Downloading:  20%|██        | 40/199 [00:00<00:00, 205.27it/s]\u001b[A\n",
      "Downloading:  21%|██        | 41/199 [00:00<00:00, 205.27it/s]\u001b[A\n",
      "Downloading:  23%|██▎       | 46/199 [00:00<00:00, 205.27it/s]\u001b[A\n",
      "Downloading:  24%|██▎       | 47/199 [00:00<00:00, 205.27it/s]\u001b[A\n",
      "Downloading:  24%|██▎       | 47/199 [00:00<00:00, 205.27it/s]\u001b[A\n",
      "Downloading:  24%|██▎       | 47/199 [00:00<00:00, 205.27it/s]\u001b[A\n",
      "Downloading:  24%|██▍       | 48/199 [00:00<00:00, 205.27it/s]\u001b[A\n",
      "Downloading:  25%|██▌       | 50/199 [00:00<00:00, 205.27it/s]\u001b[A\n",
      "Downloading:  28%|██▊       | 55/199 [00:00<00:00, 205.27it/s]\u001b[A\n",
      "Downloading:  29%|██▊       | 57/199 [00:00<00:00, 205.27it/s]\u001b[A\n",
      "Downloading:  30%|██▉       | 59/199 [00:00<00:00, 205.27it/s]\u001b[A\n",
      "Downloading:  41%|████      | 81/199 [00:00<00:00, 149.99it/s]\u001b[A\n",
      "Downloading:  42%|████▏     | 84/199 [00:00<00:00, 116.26it/s]\u001b[A\n",
      "Downloading:  45%|████▌     | 90/199 [00:00<00:00, 116.26it/s]\u001b[A\n",
      "Downloading:  54%|█████▍    | 107/199 [00:00<00:00, 120.76it/s]\u001b[A\n",
      "Downloading:  56%|█████▌    | 111/199 [00:00<00:00, 141.34it/s]\u001b[A\n",
      "Downloading:  56%|█████▋    | 112/199 [00:00<00:00, 141.34it/s]\u001b[A\n",
      "Downloading:  58%|█████▊    | 116/199 [00:00<00:00, 141.34it/s]\u001b[A\n",
      "Downloading:  60%|██████    | 120/199 [00:00<00:00, 141.34it/s]\u001b[A\n",
      "Downloading:  69%|██████▉   | 137/199 [00:00<00:00, 138.21it/s]\u001b[A\n",
      "Downloading:  70%|██████▉   | 139/199 [00:00<00:00, 138.21it/s]\u001b[A\n",
      "Downloading:  80%|████████  | 160/199 [00:00<00:00, 155.84it/s]\u001b[A\n",
      "Downloading:  81%|████████▏ | 162/199 [00:00<00:00, 166.54it/s]\u001b[A\n",
      "Downloading:  84%|████████▍ | 167/199 [00:00<00:00, 166.54it/s]\u001b[A\n",
      "Downloading:  86%|████████▌ | 171/199 [00:00<00:00, 166.54it/s]\u001b[A\n",
      "Downloading:  96%|█████████▌| 191/199 [00:00<00:00, 159.29it/s]\u001b[A\n",
      "Downloading:  99%|█████████▉| 197/199 [00:00<00:00, 158.19it/s]\u001b[A\n",
      "Downloading: 100%|██████████| 199/199 [00:00<00:00, 158.19it/s]\u001b[A\n",
      "Downloading: 100%|██████████| 199/199 [00:00<00:00, 158.19it/s]\u001b[A\n",
      "Downloading: 100%|██████████| 199/199 [00:00<00:00, 214.92it/s]\u001b[A\n",
      "Tasks: 100%|██████████| 16/16 [00:51<00:00,  3.20s/it]\n",
      "Tasks: 100%|██████████| 999/999 [00:03<00:00, 262.71it/s]\n",
      "Tasks: 0it [00:00, ?it/s]"
     ]
    },
    {
     "name": "stdout",
     "output_type": "stream",
     "text": [
      "Done!\n"
     ]
    },
    {
     "name": "stderr",
     "output_type": "stream",
     "text": [
      "\n"
     ]
    }
   ],
   "source": [
    "# call the meshing function (should take <~ 1 minute with 8 or more cores)\n",
    "make_3d_mesh(vol=vol,n_cores=cpus_to_use)"
   ]
  },
  {
   "cell_type": "markdown",
   "metadata": {},
   "source": [
    "If that worked, then it will autom"
   ]
  },
  {
   "cell_type": "markdown",
   "metadata": {},
   "source": [
    "# Step 5: Host the precomputed data on your machine so that Neuroglancer can see it\n",
    "This step is really easy! Note: Exectuing the code below will cause your jupyter notebook to hang, so it is better to run the following code in a new ipython terminal (make sure to have the ng_mriatlas conda environment activated in that python session) rather than the notebook. \n",
    "\n",
    "```python\n",
    "from cloudvolume import CloudVolume\n",
    "vol = CloudVolume(f'file://{layer_dir}')\n",
    "vol.viewer(port=1338)\n",
    "```"
   ]
  },
  {
   "cell_type": "markdown",
   "metadata": {},
   "source": [
    "# Step 6: View your custom volume and labels in Neuroglancer\n",
    "Step 4 hosts your data via http on port 1338 of your local machine. To actually view your data in Neuroglancer, there are two ways to do this. You can either load the data in manually in the browser or load it in with python. \n",
    "\n",
    "For the manual method, open up the Braincogs Neuroglancer client: [https://nglancer.pni.princeton.edu](https://nglancer.pni.princeton.edu) (you must be using a Princeton VPN) and then click the \"+\" in the upper left hand corner of the screen once the black screen loads. To load in your data, type the following into the source text box:<br>\n",
    "> precomputed://http://localhost:1338 <br>\n",
    "\n",
    "Then hit tab and name your layer if you'd like. Hit enter or the \"add layer\" button and your layer should load into Neuroglancer. Hopefully the labels you added should be showing up in the bottom left when you hover over a region. \n",
    "\n",
    "For the python method, you can do this by executing the following cells. Make sure you have hosted the data in another python instance somewhere on your local machine at port 1338."
   ]
  },
  {
   "cell_type": "code",
   "execution_count": 25,
   "metadata": {},
   "outputs": [],
   "source": [
    "# Set which client you want to use - use the BRAINCOGS client to get the latest features.\n",
    "# Need to be in the Princeton VPN to use this\n",
    "neuroglancer.set_static_content_source(url='https://nglancer.pni.princeton.edu')"
   ]
  },
  {
   "cell_type": "code",
   "execution_count": 26,
   "metadata": {},
   "outputs": [],
   "source": [
    "# Make a viewer object that represents your connection to the Neuroglancer session\n",
    "viewer = neuroglancer.Viewer()"
   ]
  },
  {
   "cell_type": "code",
   "execution_count": 27,
   "metadata": {},
   "outputs": [
    {
     "name": "stdout",
     "output_type": "stream",
     "text": [
      "http://127.0.0.1:39868/v/327ae353b0aa47db2e4db1b9de250e685604b9d7/\n"
     ]
    }
   ],
   "source": [
    "# Load in the layer with name \"my_custom_atlas_3d\" or call it whatever you want. \n",
    "# This is the name for the layer that appears in the box in the upper left of the screen\n",
    "# when you load in the layer.\n",
    "\n",
    "# This cell generates a link, which when clicked brings you to the\n",
    "# Neuroglancer browser interface with your data loaded in \n",
    "with viewer.txn() as s:\n",
    "    s.layers['atlas'] = neuroglancer.SegmentationLayer(source='precomputed://http://localhost:1338',\n",
    "    )\n",
    "print(viewer)"
   ]
  },
  {
   "cell_type": "markdown",
   "metadata": {},
   "source": [
    "Once you're in Neuroglancer, when you hover over a segment the region name shows up at the top and no longer the bottom. You can either select individual segments by double clicking on them or using the panel on the right. Activate the right panel by right clickin gon the the layer name in the upper left to get a list of the segments and their region names. Select a checkbox to select a segment in the viewer. "
   ]
  }
 ],
 "metadata": {
  "kernelspec": {
   "display_name": "ng_mriatlas",
   "language": "python",
   "name": "ng_mriatlas"
  },
  "language_info": {
   "codemirror_mode": {
    "name": "ipython",
    "version": 3
   },
   "file_extension": ".py",
   "mimetype": "text/x-python",
   "name": "python",
   "nbconvert_exporter": "python",
   "pygments_lexer": "ipython3",
   "version": "3.7.4"
  },
  "toc": {
   "base_numbering": 1,
   "nav_menu": {},
   "number_sections": true,
   "sideBar": true,
   "skip_h1_title": false,
   "title_cell": "Table of Contents",
   "title_sidebar": "Contents",
   "toc_cell": false,
   "toc_position": {},
   "toc_section_display": true,
   "toc_window_display": false
  }
 },
 "nbformat": 4,
 "nbformat_minor": 2
}

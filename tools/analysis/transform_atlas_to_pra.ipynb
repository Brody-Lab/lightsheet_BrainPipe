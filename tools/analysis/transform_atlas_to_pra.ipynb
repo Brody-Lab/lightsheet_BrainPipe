{
 "cells": [
  {
   "cell_type": "markdown",
   "metadata": {},
   "source": [
    "# Purpose and set up\n",
    "Created by Emily Jane Dennis in August 2020, compiling from scripts from Zahra and Austin.\n",
    "\n",
    "The purpose of this notebook is to walk a user through the steps to take a published atlas and transform its information to apply to our Princeton Rat Atlas, and so it can be visualized in Neuroglancer. \n",
    "\n",
    "First, you should run through all the set up instructions in the rat_BrainPipe README\n",
    "\n",
    "Next you need to find the locations of \n",
    "1. median_image.tif which is, for now, our \"atlas\"\n",
    "2. rat_BrainPipe repo\n",
    "3. your new atlas BRAIN\n",
    "4. your new atlas ANNOTATION file\n",
    "\n",
    "You first need to use elastix to get your new atlas brain into PRA space. This is accomplished by running the code below. Note this only needs to happen once.\n",
    "\n",
    "**Make sure you have changed the paths in directorydeterminer**"
   ]
  },
  {
   "cell_type": "code",
   "execution_count": 23,
   "metadata": {},
   "outputs": [],
   "source": [
    "import os, sys, time, shutil\n",
    "import tifffile as tif\n",
    "from xvfbwrapper import Xvfb\n",
    "sys.path.append(\"/home/emilyjanedennis/Desktop/GitHub/rat_BrainPipe/\")\n",
    "from scipy.ndimage.interpolation import zoom\n",
    "from tools.utils.io import makedir\n",
    "from tools.registration.register import change_interpolation_order\n",
    "from tools.registration.register import transformix_command_line_call\n",
    "from tools.registration.register import elastix_wrapper\n",
    "from tools.registration.transform_list_of_points import modify_transform_files\n",
    "from tools.utils.directorydeterminer import directorydeterminer\n",
    "from tools.imageprocessing import preprocessing\n"
   ]
  },
  {
   "cell_type": "markdown",
   "metadata": {},
   "source": []
  },
  {
   "cell_type": "code",
   "execution_count": null,
   "metadata": {},
   "outputs": [],
   "source": []
  },
  {
   "cell_type": "code",
   "execution_count": 24,
   "metadata": {},
   "outputs": [],
   "source": []
  },
  {
   "cell_type": "code",
   "execution_count": 25,
   "metadata": {},
   "outputs": [
    {
     "data": {
      "text/plain": [
       "'emilyjanedennis-System-Product-Name'"
      ]
     },
     "execution_count": 25,
     "metadata": {},
     "output_type": "execute_result"
    }
   ],
   "source": []
  },
  {
   "cell_type": "code",
   "execution_count": null,
   "metadata": {},
   "outputs": [],
   "source": []
  },
  {
   "cell_type": "code",
   "execution_count": null,
   "metadata": {},
   "outputs": [],
   "source": []
  },
  {
   "cell_type": "markdown",
   "metadata": {},
   "source": [
    "I set paths here on 20200808 to work on my local machine - EJD"
   ]
  },
  {
   "cell_type": "code",
   "execution_count": 21,
   "metadata": {},
   "outputs": [
    {
     "name": "stdout",
     "output_type": "stream",
     "text": [
      "/home/emilyjanedennis/LightSheetData/brodyatlas/atlas/for_registration_to_lightsheet/WHS_SD_rat_atlas_v3_annotation.tif\n"
     ]
    }
   ],
   "source": [
    "# setting paths\n",
    "src = \"/home/emilyjanedennis/LightSheetData/brodyatlas/atlas/for_registration_to_lightsheet/\"\n",
    "ann = os.path.join(src, \"WHS_SD_rat_atlas_v3_annotation.tif\")\n",
    "fx = \"/home/emilyjanedennis/LightSheetData/brodyatlas/atlas/2019_meta_atlas/median_image.tif\"\n",
    "print(ann)"
   ]
  },
  {
   "cell_type": "code",
   "execution_count": 22,
   "metadata": {},
   "outputs": [
    {
     "name": "stdout",
     "output_type": "stream",
     "text": [
      "\n",
      "zooming...\n"
     ]
    }
   ],
   "source": [
    "# need to make MRI annotation larger (~140% of atlas?) to transform to PRA\n",
    "watl = tif.imread(ann)\n",
    "pra = tif.imread(fx)\n",
    "zf,yf,xf = (pra.shape[0]/watl.shape[0])*1.4, (pra.shape[1]/watl.shape[1])*1.4, (pra.shape[2]/watl.shape[2])*1.4\n",
    "print(\"\\nzooming...\")\n",
    "watl_for_pra = zoom(watl, (zf,yf,xf), order = 1)"
   ]
  },
  {
   "cell_type": "code",
   "execution_count": null,
   "metadata": {},
   "outputs": [],
   "source": [
    "# saved out annotation volume\n",
    "print(\"\\nsaving zoomed volume...\")\n",
    "tif.imsave(os.path.join(src, \"WHS_SD_rat_atlas_v3_annotation_for_pra_reg.tif\"),\n",
    "           watl_for_pra.astype(\"uint16\"))\n",
    "\n",
    "reg = os.path.join(src, \"waxholm_to_pra\")\n",
    "a2r = [os.path.join(reg, xx) for xx in os.listdir(reg) if \"Transform\" in xx]; a2r.sort()\n",
    "\n",
    "dst = os.path.join(src, \"transformed_annotation_volume\")\n",
    "makedir(dst)"
   ]
  },
  {
   "cell_type": "code",
   "execution_count": null,
   "metadata": {},
   "outputs": [],
   "source": [
    "# transformix\n",
    "transformfiles = modify_transform_files(transformfiles=a2r, dst=dst)\n",
    "[change_interpolation_order(xx,0) for xx in transformfiles]"
   ]
  },
  {
   "cell_type": "code",
   "execution_count": null,
   "metadata": {},
   "outputs": [],
   "source": [
    "# change the parameter in the transform files that outputs 16bit images instead\n",
    "for fl in transformfiles:# Read in the file\n",
    "    with open(fl, \"r\") as file:\n",
    "        filedata = file.read()\n",
    "    # Replace the target string\n",
    "    filedata = filedata.replace('(ResultImagePixelType \"float\")', '(ResultImagePixelType \"short\")')\n",
    "    # Write the file out again\n",
    "    with open(fl, \"w\") as file:\n",
    "      file.write(filedata)"
   ]
  },
  {
   "cell_type": "code",
   "execution_count": null,
   "metadata": {},
   "outputs": [],
   "source": [
    "# run transformix  \n",
    "transformix_command_line_call(os.path.join(src, \"WHS_SD_rat_atlas_v3_annotation_for_pra_reg.tif\"), \n",
    "                              dst, transformfiles[-1])  "
   ]
  },
  {
   "cell_type": "code",
   "execution_count": null,
   "metadata": {},
   "outputs": [],
   "source": []
  },
  {
   "cell_type": "code",
   "execution_count": null,
   "metadata": {},
   "outputs": [],
   "source": []
  }
 ],
 "metadata": {
  "kernelspec": {
   "display_name": "Python 3",
   "language": "python",
   "name": "python3"
  },
  "language_info": {
   "codemirror_mode": {
    "name": "ipython",
    "version": 3
   },
   "file_extension": ".py",
   "mimetype": "text/x-python",
   "name": "python",
   "nbconvert_exporter": "python",
   "pygments_lexer": "ipython3",
   "version": "3.8.3"
  }
 },
 "nbformat": 4,
 "nbformat_minor": 4
}

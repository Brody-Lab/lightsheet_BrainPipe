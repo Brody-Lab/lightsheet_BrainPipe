{
 "cells": [
  {
   "cell_type": "markdown",
   "metadata": {},
   "source": [
    "# Purpose and set up\n",
    "Created by Emily Jane Dennis in August 2020, compiling from scripts from Zahra and Austin.\n",
    "\n",
    "The purpose of this notebook is to walk a user through the steps to take a published atlas and transform its information to apply to our Princeton Rat Atlas, and so it can be visualized in Neuroglancer. \n",
    "\n",
    "First, you should run through all the set up instructions in the rat_BrainPipe README\n",
    "\n",
    "Next you need to find the locations of \n",
    "1. median_image.tif which is, for now, our \"atlas\"\n",
    "2. rat_BrainPipe repo\n",
    "3. your new atlas BRAIN\n",
    "4. your new atlas ANNOTATION file\n",
    "\n",
    "You first need to use elastix to get your new atlas brain into PRA space. This is accomplished by running the code below. Note this only needs to happen once.\n",
    "\n",
    "**Make sure you have changed the paths in directorydeterminer**"
   ]
  },
  {
   "cell_type": "code",
   "execution_count": 26,
   "metadata": {},
   "outputs": [],
   "source": [
    "import os, sys, time, shutil\n",
    "import tifffile as tif\n",
    "from xvfbwrapper import Xvfb\n",
    "sys.path.append(\"/home/emilyjanedennis/Desktop/GitHub/rat_BrainPipe/\")\n",
    "from scipy.ndimage.interpolation import zoom\n",
    "from tools.utils.io import makedir\n",
    "from tools.registration.register import change_interpolation_order\n",
    "from tools.registration.register import transformix_command_line_call\n",
    "from tools.registration.register import elastix_wrapper\n",
    "from tools.registration.transform_list_of_points import modify_transform_files\n",
    "from tools.utils.directorydeterminer import directorydeterminer\n",
    "from tools.imageprocessing import preprocessing\n"
   ]
  },
  {
   "cell_type": "code",
   "execution_count": 35,
   "metadata": {},
   "outputs": [],
   "source": [
    "vdisplay = Xvfb()\n",
    "vdisplay.start()\n",
    "\n",
    "systemdirectory=\"/home/emilyjanedennis/\""
   ]
  },
  {
   "cell_type": "code",
   "execution_count": 43,
   "metadata": {},
   "outputs": [],
   "source": [
    "inputdictionary = {\n",
    "    os.path.join(systemdirectory, \"Desktop/w122_43p_low_thres/full_sizedatafld/_ch00\"):\n",
    "    [[\"regch\", \"00\"]],\n",
    "    os.path.join(systemdirectory, \"Desktop/w122_43p_low_thres/full_sizedatafld/_ch00\"):\n",
    "    [[\"injch\", \"00\"]]\n",
    "}\n"
   ]
  },
  {
   "cell_type": "code",
   "execution_count": 44,
   "metadata": {},
   "outputs": [
    {
     "name": "stdout",
     "output_type": "stream",
     "text": [
      "{'systemdirectory': '/home/emilyjanedennis/', 'inputdictionary': {'/home/emilyjanedennis/Desktop/w122_43p_low_thres/full_sizedatafld/_ch00': [['injch', '00']]}, 'outputdirectory': '/home/emilyjanedennis/Desktop/w122', 'xyz_scale': (5, 5, 10), 'tiling_overlap': 43.0, 'stitchingmethod': 'blending', 'AtlasFile': '/home/emilyjanedennis/Desktop/for_registration_to_lightsheet/WHS_SD_rat_T2star_v1.01_atlas.tif', 'annotationfile': '/home/emilyjanedennis/Desktop/for_registration_to_lightsheet/WHS_SD_rat_atlas_v3_annotation.tif', 'blendtype': 'sigmoidal', 'intensitycorrection': True, 'resizefactor': 3, 'rawdata': True, 'finalorientation': ('2', '1', '0'), 'slurmjobfactor': 50}\n"
     ]
    }
   ],
   "source": [
    "\n",
    "# Required inputs\n",
    "params = {\n",
    "    \"systemdirectory\":  systemdirectory,  # don\"t need to touch\n",
    "    \"inputdictionary\": inputdictionary,  # don\"t need to touch\n",
    "    \"outputdirectory\": os.path.join(systemdirectory, \"Desktop/w122\"),\n",
    "    # (5.0,5.0,3), #micron/pixel: 5.0um/pix for 1.3x; 1.63um/pix for 4x\n",
    "    \"xyz_scale\": (5, 5, 10),\n",
    "    \"tiling_overlap\": 43.0,  # percent overlap taken during tiling\n",
    "    \"stitchingmethod\": \"blending\",  # \"terastitcher\" or \"blending\"\n",
    "    \"AtlasFile\": os.path.join(systemdirectory, \"Desktop/for_registration_to_lightsheet/WHS_SD_rat_T2star_v1.01_atlas.tif\"),\n",
    "    # path to annotation file for structures\n",
    "    \"annotationfile\": os.path.join(systemdirectory, \"Desktop/for_registration_to_lightsheet/WHS_SD_rat_atlas_v3_annotation.tif\"),\n",
    "    \"blendtype\": \"sigmoidal\",  # False/None, \"linear\", or \"sigmoidal\"\n",
    "    # blending between tiles, usually sigmoidal;\n",
    "    # False or None for images where blending would be detrimental\n",
    "    # True = calculate mean intensity of overlap between tiles shift higher\n",
    "    # of two towards lower - useful for images where relative intensity\n",
    "    # is not important (i.e. tracing=True, cFOS=False)\n",
    "    \"intensitycorrection\": True,\n",
    "    \"resizefactor\": 3,  # in x and y #normally set to 5 for 4x objective,\n",
    "    # 3 for 1.3x obj\n",
    "    \"rawdata\": True,  # set to true if raw data is taken from scope and\n",
    "    # images need to be flattened; functionality for\n",
    "    # rawdata =False has not been tested**\n",
    "    # Used to account for different orientation between brain and atlas.\n",
    "    # Assumes XYZ (\"0\",\"1\",\"2) orientation.\n",
    "    # Pass strings NOT ints. \"-0\" = reverse the order of the xaxis.\n",
    "    # For better description see docstring from\n",
    "    # tools.imageprocessing.orientation import fix_orientation;\n",
    "    # (\"2\",\"1\",\"0\") for horizontal to sagittal,\n",
    "    # Order of operations is reversing of axes BEFORE swapping axes.\n",
    "    \"finalorientation\":  (\"2\", \"1\", \"0\"),\n",
    "    \"slurmjobfactor\": 50\n",
    "    # number of array iterations per arrayjob\n",
    "    # since max job array on SPOCK is 1000\n",
    "}\n",
    "print(params)"
   ]
  },
  {
   "cell_type": "code",
   "execution_count": 46,
   "metadata": {},
   "outputs": [
    {
     "data": {
      "text/plain": [
       "'/home/emilyjanedennis/Desktop/GitHub/rat_BrainPipe/tools/analysis'"
      ]
     },
     "execution_count": 46,
     "metadata": {},
     "output_type": "execute_result"
    }
   ],
   "source": []
  },
  {
   "cell_type": "code",
   "execution_count": 49,
   "metadata": {},
   "outputs": [
    {
     "ename": "IndexError",
     "evalue": "list index out of range",
     "output_type": "error",
     "traceback": [
      "\u001b[0;31m---------------------------------------------------------------------------\u001b[0m",
      "\u001b[0;31mIndexError\u001b[0m                                Traceback (most recent call last)",
      "\u001b[0;32m<ipython-input-49-8776cea3e38f>\u001b[0m in \u001b[0;36m<module>\u001b[0;34m\u001b[0m\n\u001b[0;32m----> 1\u001b[0;31m \u001b[0mpreprocessing\u001b[0m\u001b[0;34m.\u001b[0m\u001b[0mgenerateparamdict\u001b[0m\u001b[0;34m(\u001b[0m\u001b[0mos\u001b[0m\u001b[0;34m.\u001b[0m\u001b[0mgetcwd\u001b[0m\u001b[0;34m(\u001b[0m\u001b[0;34m)\u001b[0m\u001b[0;34m,\u001b[0m \u001b[0;34m**\u001b[0m\u001b[0mparams\u001b[0m\u001b[0;34m)\u001b[0m\u001b[0;34m\u001b[0m\u001b[0;34m\u001b[0m\u001b[0m\n\u001b[0m",
      "\u001b[0;32m~/Desktop/GitHub/rat_BrainPipe/tools/imageprocessing/preprocessing.py\u001b[0m in \u001b[0;36mgenerateparamdict\u001b[0;34m(cwd, dst, update, **kwargs)\u001b[0m\n\u001b[1;32m    176\u001b[0m                 \u001b[0mregex\u001b[0m\u001b[0;34m=\u001b[0m\u001b[0mregex_determiner\u001b[0m\u001b[0;34m(\u001b[0m\u001b[0mraw\u001b[0m\u001b[0;34m,\u001b[0m \u001b[0mpth\u001b[0m\u001b[0;34m)\u001b[0m\u001b[0;34m\u001b[0m\u001b[0;34m\u001b[0m\u001b[0m\n\u001b[1;32m    177\u001b[0m                 \u001b[0mkwargs\u001b[0m\u001b[0;34m[\u001b[0m\u001b[0;34m\"regexpression\"\u001b[0m\u001b[0;34m]\u001b[0m\u001b[0;34m=\u001b[0m\u001b[0mregex\u001b[0m\u001b[0;34m\u001b[0m\u001b[0;34m\u001b[0m\u001b[0m\n\u001b[0;32m--> 178\u001b[0;31m                 \u001b[0msys\u001b[0m\u001b[0;34m.\u001b[0m\u001b[0mstdout\u001b[0m\u001b[0;34m.\u001b[0m\u001b[0mwrite\u001b[0m\u001b[0;34m(\u001b[0m\u001b[0;34m\"\\nDetermined regex as {}\\n\"\u001b[0m\u001b[0;34m.\u001b[0m\u001b[0mformat\u001b[0m\u001b[0;34m(\u001b[0m\u001b[0mregex\u001b[0m\u001b[0;34m)\u001b[0m\u001b[0;34m)\u001b[0m\u001b[0;34m;\u001b[0m \u001b[0msys\u001b[0m\u001b[0;34m.\u001b[0m\u001b[0mstdout\u001b[0m\u001b[0;34m.\u001b[0m\u001b[0mflush\u001b[0m\u001b[0;34m(\u001b[0m\u001b[0;34m)\u001b[0m\u001b[0;34m\u001b[0m\u001b[0;34m\u001b[0m\u001b[0m\n\u001b[0m\u001b[1;32m    179\u001b[0m \u001b[0;34m\u001b[0m\u001b[0m\n\u001b[1;32m    180\u001b[0m             \u001b[0mwriter\u001b[0m\u001b[0;34m(\u001b[0m\u001b[0moutdr\u001b[0m\u001b[0;34m,\u001b[0m \u001b[0;34m\"\\n*******************STEP 0**********************************\\n\"\u001b[0m\u001b[0;34m)\u001b[0m\u001b[0;34m\u001b[0m\u001b[0;34m\u001b[0m\u001b[0m\n",
      "\u001b[0;32m~/Desktop/GitHub/rat_BrainPipe/tools/imageprocessing/preprocessing.py\u001b[0m in \u001b[0;36mregex_determiner\u001b[0;34m(raw, dr)\u001b[0m\n\u001b[1;32m    137\u001b[0m         \u001b[0mmatch\u001b[0m\u001b[0;34m=\u001b[0m\u001b[0mreg\u001b[0m\u001b[0;34m.\u001b[0m\u001b[0mmatch\u001b[0m\u001b[0;34m(\u001b[0m\u001b[0mfl\u001b[0m\u001b[0;34m[\u001b[0m\u001b[0;36m0\u001b[0m\u001b[0;34m]\u001b[0m\u001b[0;34m)\u001b[0m\u001b[0;34m\u001b[0m\u001b[0;34m\u001b[0m\u001b[0m\n\u001b[1;32m    138\u001b[0m         \u001b[0;32mtry\u001b[0m\u001b[0;34m:\u001b[0m\u001b[0;34m\u001b[0m\u001b[0;34m\u001b[0m\u001b[0m\n\u001b[0;32m--> 139\u001b[0;31m             \u001b[0mmatch\u001b[0m\u001b[0;34m.\u001b[0m\u001b[0mgroups\u001b[0m\u001b[0;34m(\u001b[0m\u001b[0;34m)\u001b[0m\u001b[0;34m\u001b[0m\u001b[0;34m\u001b[0m\u001b[0m\n\u001b[0m\u001b[1;32m    140\u001b[0m             \u001b[0;32mbreak\u001b[0m\u001b[0;34m\u001b[0m\u001b[0;34m\u001b[0m\u001b[0m\n\u001b[1;32m    141\u001b[0m         \u001b[0;32mexcept\u001b[0m \u001b[0mAttributeError\u001b[0m\u001b[0;34m:\u001b[0m\u001b[0;34m\u001b[0m\u001b[0;34m\u001b[0m\u001b[0m\n",
      "\u001b[0;31mIndexError\u001b[0m: list index out of range"
     ]
    }
   ],
   "source": [
    "preprocessing.generateparamdict(os.getcwd(), **params)"
   ]
  },
  {
   "cell_type": "code",
   "execution_count": null,
   "metadata": {},
   "outputs": [],
   "source": [
    "\n",
    "\n",
    "        # preprocessing.updateparams(\"/\", svnm = \"param_dict_local.p\",**params)\n",
    "        # make a local copy\n",
    "        if not os.path.exists(os.path.join(params[\"outputdirectory\"],\n",
    "                                           \"lightsheet\")):\n",
    "            shutil.copytree(os.getcwd(), os.path.join(\n",
    "                params[\"outputdirectory\"],\n",
    "                \"lightsheet\"),\n",
    "                ignore=shutil.ignore_patterns(*(\n",
    "                    \".pyc\", \"CVS\",\n",
    "                    \".git\", \"tmp\", \".svn\")))\n",
    "            # copy run folder into output to save run info\n"
   ]
  },
  {
   "cell_type": "code",
   "execution_count": 38,
   "metadata": {},
   "outputs": [
    {
     "ename": "FileNotFoundError",
     "evalue": "[Errno 2] No such file or directory: '/home/emilyjanedennis/Desktop/w122/param_dict.p'",
     "output_type": "error",
     "traceback": [
      "\u001b[0;31m---------------------------------------------------------------------------\u001b[0m",
      "\u001b[0;31mIsADirectoryError\u001b[0m                         Traceback (most recent call last)",
      "\u001b[0;32m~/Desktop/GitHub/rat_BrainPipe/tools/utils/io.py\u001b[0m in \u001b[0;36mdict_update\u001b[0;34m(pth, old_system_directory)\u001b[0m\n\u001b[1;32m    304\u001b[0m     \u001b[0;32mtry\u001b[0m\u001b[0;34m:\u001b[0m\u001b[0;34m\u001b[0m\u001b[0;34m\u001b[0m\u001b[0m\n\u001b[0;32m--> 305\u001b[0;31m         \u001b[0;32mwith\u001b[0m \u001b[0mopen\u001b[0m\u001b[0;34m(\u001b[0m\u001b[0mpth\u001b[0m\u001b[0;34m,\u001b[0m \u001b[0;34m'rb'\u001b[0m\u001b[0;34m)\u001b[0m \u001b[0;32mas\u001b[0m \u001b[0mpckl\u001b[0m\u001b[0;34m:\u001b[0m\u001b[0;34m\u001b[0m\u001b[0;34m\u001b[0m\u001b[0m\n\u001b[0m\u001b[1;32m    306\u001b[0m             \u001b[0mkwargs\u001b[0m\u001b[0;34m.\u001b[0m\u001b[0mupdate\u001b[0m\u001b[0;34m(\u001b[0m\u001b[0mpickle\u001b[0m\u001b[0;34m.\u001b[0m\u001b[0mload\u001b[0m\u001b[0;34m(\u001b[0m\u001b[0mpckl\u001b[0m\u001b[0;34m)\u001b[0m\u001b[0;34m)\u001b[0m\u001b[0;34m\u001b[0m\u001b[0;34m\u001b[0m\u001b[0m\n",
      "\u001b[0;31mIsADirectoryError\u001b[0m: [Errno 21] Is a directory: '/home/emilyjanedennis/Desktop/w122'",
      "\nDuring handling of the above exception, another exception occurred:\n",
      "\u001b[0;31mFileNotFoundError\u001b[0m                         Traceback (most recent call last)",
      "\u001b[0;32m<ipython-input-38-18b4796c6b61>\u001b[0m in \u001b[0;36m<module>\u001b[0;34m\u001b[0m\n\u001b[0;32m----> 1\u001b[0;31m \u001b[0melastix_wrapper\u001b[0m\u001b[0;34m(\u001b[0m\u001b[0;36m0\u001b[0m\u001b[0;34m,\u001b[0m \u001b[0mcores\u001b[0m\u001b[0;34m=\u001b[0m\u001b[0;36m8\u001b[0m\u001b[0;34m,\u001b[0m \u001b[0;34m**\u001b[0m\u001b[0mparams\u001b[0m\u001b[0;34m)\u001b[0m  \u001b[0;31m# run elastix\u001b[0m\u001b[0;34m\u001b[0m\u001b[0;34m\u001b[0m\u001b[0m\n\u001b[0m\u001b[1;32m      2\u001b[0m \u001b[0mvdisplay\u001b[0m\u001b[0;34m.\u001b[0m\u001b[0mstop\u001b[0m\u001b[0;34m(\u001b[0m\u001b[0;34m)\u001b[0m\u001b[0;34m\u001b[0m\u001b[0;34m\u001b[0m\u001b[0m\n",
      "\u001b[0;32m~/Desktop/GitHub/rat_BrainPipe/tools/registration/register.py\u001b[0m in \u001b[0;36melastix_wrapper\u001b[0;34m(jobid, cores, **kwargs)\u001b[0m\n\u001b[1;32m     38\u001b[0m     '''\n\u001b[1;32m     39\u001b[0m     \u001b[0;31m# inputs\u001b[0m\u001b[0;34m\u001b[0m\u001b[0;34m\u001b[0m\u001b[0;34m\u001b[0m\u001b[0m\n\u001b[0;32m---> 40\u001b[0;31m     \u001b[0mkwargs\u001b[0m \u001b[0;34m=\u001b[0m \u001b[0mload_kwargs\u001b[0m\u001b[0;34m(\u001b[0m\u001b[0;34m**\u001b[0m\u001b[0mkwargs\u001b[0m\u001b[0;34m)\u001b[0m\u001b[0;34m\u001b[0m\u001b[0;34m\u001b[0m\u001b[0m\n\u001b[0m\u001b[1;32m     41\u001b[0m     \u001b[0msys\u001b[0m\u001b[0;34m.\u001b[0m\u001b[0mstdout\u001b[0m\u001b[0;34m.\u001b[0m\u001b[0mwrite\u001b[0m\u001b[0;34m(\u001b[0m\u001b[0;34m'\\nElastix in:\\n'\u001b[0m\u001b[0;34m)\u001b[0m\u001b[0;34m\u001b[0m\u001b[0;34m\u001b[0m\u001b[0m\n\u001b[1;32m     42\u001b[0m     \u001b[0msys\u001b[0m\u001b[0;34m.\u001b[0m\u001b[0mstdout\u001b[0m\u001b[0;34m.\u001b[0m\u001b[0mflush\u001b[0m\u001b[0;34m(\u001b[0m\u001b[0;34m)\u001b[0m\u001b[0;34m\u001b[0m\u001b[0;34m\u001b[0m\u001b[0m\n",
      "\u001b[0;32m~/Desktop/GitHub/rat_BrainPipe/tools/utils/io.py\u001b[0m in \u001b[0;36mload_kwargs\u001b[0;34m(outdr, update_dict, system_directories, **kwargs)\u001b[0m\n\u001b[1;32m    414\u001b[0m     \u001b[0;31m# optionally update dictionary\u001b[0m\u001b[0;34m\u001b[0m\u001b[0;34m\u001b[0m\u001b[0;34m\u001b[0m\u001b[0m\n\u001b[1;32m    415\u001b[0m     \u001b[0;32mif\u001b[0m \u001b[0mupdate_dict\u001b[0m\u001b[0;34m:\u001b[0m\u001b[0;34m\u001b[0m\u001b[0;34m\u001b[0m\u001b[0m\n\u001b[0;32m--> 416\u001b[0;31m         \u001b[0mdict_update\u001b[0m\u001b[0;34m(\u001b[0m\u001b[0mkwargs\u001b[0m\u001b[0;34m[\u001b[0m\u001b[0;34m'outputdirectory'\u001b[0m\u001b[0;34m]\u001b[0m\u001b[0;34m,\u001b[0m \u001b[0mold_system_directory\u001b[0m\u001b[0;34m=\u001b[0m\u001b[0msystem_directories\u001b[0m\u001b[0;34m)\u001b[0m\u001b[0;34m\u001b[0m\u001b[0;34m\u001b[0m\u001b[0m\n\u001b[0m\u001b[1;32m    417\u001b[0m \u001b[0;34m\u001b[0m\u001b[0m\n\u001b[1;32m    418\u001b[0m     \u001b[0;32mtry\u001b[0m\u001b[0;34m:\u001b[0m\u001b[0;34m\u001b[0m\u001b[0;34m\u001b[0m\u001b[0m\n",
      "\u001b[0;32m~/Desktop/GitHub/rat_BrainPipe/tools/utils/io.py\u001b[0m in \u001b[0;36mdict_update\u001b[0;34m(pth, old_system_directory)\u001b[0m\n\u001b[1;32m    308\u001b[0m     \u001b[0;32mexcept\u001b[0m \u001b[0mIOError\u001b[0m\u001b[0;34m:\u001b[0m\u001b[0;34m\u001b[0m\u001b[0;34m\u001b[0m\u001b[0m\n\u001b[1;32m    309\u001b[0m         \u001b[0mpth\u001b[0m \u001b[0;34m=\u001b[0m \u001b[0mpth\u001b[0m\u001b[0;34m+\u001b[0m\u001b[0;34m'/param_dict.p'\u001b[0m\u001b[0;34m\u001b[0m\u001b[0;34m\u001b[0m\u001b[0m\n\u001b[0;32m--> 310\u001b[0;31m         \u001b[0;32mwith\u001b[0m \u001b[0mopen\u001b[0m\u001b[0;34m(\u001b[0m\u001b[0mpth\u001b[0m\u001b[0;34m,\u001b[0m \u001b[0;34m'rb'\u001b[0m\u001b[0;34m)\u001b[0m \u001b[0;32mas\u001b[0m \u001b[0mpckl\u001b[0m\u001b[0;34m:\u001b[0m\u001b[0;34m\u001b[0m\u001b[0;34m\u001b[0m\u001b[0m\n\u001b[0m\u001b[1;32m    311\u001b[0m             \u001b[0mkwargs\u001b[0m\u001b[0;34m.\u001b[0m\u001b[0mupdate\u001b[0m\u001b[0;34m(\u001b[0m\u001b[0mpickle\u001b[0m\u001b[0;34m.\u001b[0m\u001b[0mload\u001b[0m\u001b[0;34m(\u001b[0m\u001b[0mpckl\u001b[0m\u001b[0;34m)\u001b[0m\u001b[0;34m)\u001b[0m\u001b[0;34m\u001b[0m\u001b[0;34m\u001b[0m\u001b[0m\n\u001b[1;32m    312\u001b[0m             \u001b[0mpckl\u001b[0m\u001b[0;34m.\u001b[0m\u001b[0mclose\u001b[0m\u001b[0;34m(\u001b[0m\u001b[0;34m)\u001b[0m\u001b[0;34m\u001b[0m\u001b[0;34m\u001b[0m\u001b[0m\n",
      "\u001b[0;31mFileNotFoundError\u001b[0m: [Errno 2] No such file or directory: '/home/emilyjanedennis/Desktop/w122/param_dict.p'"
     ]
    }
   ],
   "source": [
    "elastix_wrapper(0, cores=8, **params)  # run elastix\n",
    "vdisplay.stop()"
   ]
  },
  {
   "cell_type": "code",
   "execution_count": 25,
   "metadata": {},
   "outputs": [
    {
     "data": {
      "text/plain": [
       "'emilyjanedennis-System-Product-Name'"
      ]
     },
     "execution_count": 25,
     "metadata": {},
     "output_type": "execute_result"
    }
   ],
   "source": []
  },
  {
   "cell_type": "code",
   "execution_count": null,
   "metadata": {},
   "outputs": [],
   "source": []
  },
  {
   "cell_type": "code",
   "execution_count": null,
   "metadata": {},
   "outputs": [],
   "source": []
  },
  {
   "cell_type": "markdown",
   "metadata": {},
   "source": [
    "I set paths here on 20200808 to work on my local machine - EJD"
   ]
  },
  {
   "cell_type": "code",
   "execution_count": 21,
   "metadata": {},
   "outputs": [
    {
     "name": "stdout",
     "output_type": "stream",
     "text": [
      "/home/emilyjanedennis/LightSheetData/brodyatlas/atlas/for_registration_to_lightsheet/WHS_SD_rat_atlas_v3_annotation.tif\n"
     ]
    }
   ],
   "source": [
    "# setting paths\n",
    "src = \"/home/emilyjanedennis/LightSheetData/brodyatlas/atlas/for_registration_to_lightsheet/\"\n",
    "ann = os.path.join(src, \"WHS_SD_rat_atlas_v3_annotation.tif\")\n",
    "fx = \"/home/emilyjanedennis/LightSheetData/brodyatlas/atlas/2019_meta_atlas/median_image.tif\"\n",
    "print(ann)"
   ]
  },
  {
   "cell_type": "code",
   "execution_count": 22,
   "metadata": {},
   "outputs": [
    {
     "name": "stdout",
     "output_type": "stream",
     "text": [
      "\n",
      "zooming...\n"
     ]
    }
   ],
   "source": [
    "# need to make MRI annotation larger (~140% of atlas?) to transform to PRA\n",
    "watl = tif.imread(ann)\n",
    "pra = tif.imread(fx)\n",
    "zf,yf,xf = (pra.shape[0]/watl.shape[0])*1.4, (pra.shape[1]/watl.shape[1])*1.4, (pra.shape[2]/watl.shape[2])*1.4\n",
    "print(\"\\nzooming...\")\n",
    "watl_for_pra = zoom(watl, (zf,yf,xf), order = 1)"
   ]
  },
  {
   "cell_type": "code",
   "execution_count": null,
   "metadata": {},
   "outputs": [],
   "source": [
    "# saved out annotation volume\n",
    "print(\"\\nsaving zoomed volume...\")\n",
    "tif.imsave(os.path.join(src, \"WHS_SD_rat_atlas_v3_annotation_for_pra_reg.tif\"),\n",
    "           watl_for_pra.astype(\"uint16\"))\n",
    "\n",
    "reg = os.path.join(src, \"waxholm_to_pra\")\n",
    "a2r = [os.path.join(reg, xx) for xx in os.listdir(reg) if \"Transform\" in xx]; a2r.sort()\n",
    "\n",
    "dst = os.path.join(src, \"transformed_annotation_volume\")\n",
    "makedir(dst)"
   ]
  },
  {
   "cell_type": "code",
   "execution_count": null,
   "metadata": {},
   "outputs": [],
   "source": [
    "# transformix\n",
    "transformfiles = modify_transform_files(transformfiles=a2r, dst=dst)\n",
    "[change_interpolation_order(xx,0) for xx in transformfiles]"
   ]
  },
  {
   "cell_type": "code",
   "execution_count": null,
   "metadata": {},
   "outputs": [],
   "source": [
    "# change the parameter in the transform files that outputs 16bit images instead\n",
    "for fl in transformfiles:# Read in the file\n",
    "    with open(fl, \"r\") as file:\n",
    "        filedata = file.read()\n",
    "    # Replace the target string\n",
    "    filedata = filedata.replace('(ResultImagePixelType \"float\")', '(ResultImagePixelType \"short\")')\n",
    "    # Write the file out again\n",
    "    with open(fl, \"w\") as file:\n",
    "      file.write(filedata)"
   ]
  },
  {
   "cell_type": "code",
   "execution_count": null,
   "metadata": {},
   "outputs": [],
   "source": [
    "# run transformix  \n",
    "transformix_command_line_call(os.path.join(src, \"WHS_SD_rat_atlas_v3_annotation_for_pra_reg.tif\"), \n",
    "                              dst, transformfiles[-1])  "
   ]
  },
  {
   "cell_type": "code",
   "execution_count": null,
   "metadata": {},
   "outputs": [],
   "source": []
  },
  {
   "cell_type": "code",
   "execution_count": null,
   "metadata": {},
   "outputs": [],
   "source": []
  }
 ],
 "metadata": {
  "kernelspec": {
   "display_name": "Python 3",
   "language": "python",
   "name": "python3"
  },
  "language_info": {
   "codemirror_mode": {
    "name": "ipython",
    "version": 3
   },
   "file_extension": ".py",
   "mimetype": "text/x-python",
   "name": "python",
   "nbconvert_exporter": "python",
   "pygments_lexer": "ipython3",
   "version": "3.8.3"
  }
 },
 "nbformat": 4,
 "nbformat_minor": 4
}

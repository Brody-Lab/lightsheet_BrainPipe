{
 "cells": [
  {
   "cell_type": "code",
   "execution_count": null,
   "metadata": {},
   "outputs": [],
   "source": [
    "import os, sys, time\n",
    "import tifffile as tif\n",
    "# sys.path.append(\"/jukebox/wang/zahra/python/BrainPipe\")\n",
    "from tools.utils.io import makedir\n",
    "from tools.registration.register import change_interpolation_order, transformix_command_line_call\n",
    "from tools.registration.transform_list_of_points import modify_transform_files\n",
    "from scipy.ndimage.interpolation import zoom"
   ]
  },
  {
   "cell_type": "code",
   "execution_count": null,
   "metadata": {},
   "outputs": [],
   "source": [
    "# setting paths\n",
    "src = \"/jukebox/LightSheetData/brodyatlas/atlas/for_registration_to_lightsheet/\"\n",
    "ann = os.path.join(src, \"WHS_SD_rat_atlas_v3_annotation.tif\")\n",
    "fx = \"/jukebox/LightSheetData/brodyatlas/atlas/2019_meta_atlas/median_image.tif\""
   ]
  },
  {
   "cell_type": "code",
   "execution_count": null,
   "metadata": {},
   "outputs": [],
   "source": [
    "# need to make MRI annotation larger (~140% of atlas?) to transform to PRA\n",
    "watl = tif.imread(ann)\n",
    "pra = tif.imread(fx)\n",
    "zf,yf,xf = (pra.shape[0]/watl.shape[0])*1.4, (pra.shape[1]/watl.shape[1])*1.4, (pra.shape[2]/watl.shape[2])*1.4\n",
    "print(\"\\nzooming...\")\n",
    "watl_for_pra = zoom(watl, (zf,yf,xf), order = 1)"
   ]
  },
  {
   "cell_type": "code",
   "execution_count": null,
   "metadata": {},
   "outputs": [],
   "source": [
    "# saved out annotation volume\n",
    "print(\"\\nsaving zoomed volume...\")\n",
    "tif.imsave(os.path.join(src, \"WHS_SD_rat_atlas_v3_annotation_for_pra_reg.tif\"),\n",
    "           watl_for_pra.astype(\"uint16\"))\n",
    "\n",
    "reg = os.path.join(src, \"waxholm_to_pra\")\n",
    "a2r = [os.path.join(reg, xx) for xx in os.listdir(reg) if \"Transform\" in xx]; a2r.sort()\n",
    "\n",
    "dst = os.path.join(src, \"transformed_annotation_volume\")\n",
    "makedir(dst)"
   ]
  },
  {
   "cell_type": "code",
   "execution_count": null,
   "metadata": {},
   "outputs": [],
   "source": [
    "# transformix\n",
    "transformfiles = modify_transform_files(transformfiles=a2r, dst=dst)\n",
    "[change_interpolation_order(xx,0) for xx in transformfiles]"
   ]
  },
  {
   "cell_type": "code",
   "execution_count": null,
   "metadata": {},
   "outputs": [],
   "source": [
    "# change the parameter in the transform files that outputs 16bit images instead\n",
    "for fl in transformfiles:# Read in the file\n",
    "    with open(fl, \"r\") as file:\n",
    "        filedata = file.read()\n",
    "    # Replace the target string\n",
    "    filedata = filedata.replace('(ResultImagePixelType \"float\")', '(ResultImagePixelType \"short\")')\n",
    "    # Write the file out again\n",
    "    with open(fl, \"w\") as file:\n",
    "      file.write(filedata)"
   ]
  },
  {
   "cell_type": "code",
   "execution_count": null,
   "metadata": {},
   "outputs": [],
   "source": [
    "# run transformix  \n",
    "transformix_command_line_call(os.path.join(src, \"WHS_SD_rat_atlas_v3_annotation_for_pra_reg.tif\"), \n",
    "                              dst, transformfiles[-1])  "
   ]
  },
  {
   "cell_type": "code",
   "execution_count": null,
   "metadata": {},
   "outputs": [],
   "source": []
  },
  {
   "cell_type": "code",
   "execution_count": null,
   "metadata": {},
   "outputs": [],
   "source": []
  }
 ],
 "metadata": {
  "kernelspec": {
   "display_name": "Python 3",
   "language": "python",
   "name": "python3"
  },
  "language_info": {
   "codemirror_mode": {
    "name": "ipython",
    "version": 3
   },
   "file_extension": ".py",
   "mimetype": "text/x-python",
   "name": "python",
   "nbconvert_exporter": "python",
   "pygments_lexer": "ipython3",
   "version": "3.8.3"
  }
 },
 "nbformat": 4,
 "nbformat_minor": 4
}

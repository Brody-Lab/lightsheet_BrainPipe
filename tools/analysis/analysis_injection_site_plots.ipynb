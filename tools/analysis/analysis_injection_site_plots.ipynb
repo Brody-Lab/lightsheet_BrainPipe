{
 "cells": [
  {
   "cell_type": "markdown",
   "id": "obvious-reggae",
   "metadata": {},
   "source": [
    "# Purpose\n"
   ]
  },
  {
   "cell_type": "code",
   "execution_count": 2,
   "id": "nearby-advocacy",
   "metadata": {},
   "outputs": [],
   "source": [
    "# imports\n",
    "import numpy as np\n",
    "import tifffile as tif\n",
    "import matplotlib.pyplot as plt\n",
    "import pandas as pd\n",
    "import os, sys, glob\n",
    "import SimpleITK as sitk\n"
   ]
  },
  {
   "cell_type": "markdown",
   "id": "coated-winning",
   "metadata": {},
   "source": [
    "# User inputs"
   ]
  },
  {
   "cell_type": "code",
   "execution_count": null,
   "id": "familiar-evolution",
   "metadata": {},
   "outputs": [],
   "source": [
    "folder_of_tiffs = '/Users/emilydennis/Desktop/spimout/'\n",
    "tiff_example = '/Users/emilydennis/Desktop/spimout/a253_reg_in_atl.tif'\n",
    "csv_out = '/Users/emilydennis/Desktop/a253_reg_in_atl_out.csv'"
   ]
  },
  {
   "cell_type": "markdown",
   "id": "nominated-aberdeen",
   "metadata": {},
   "source": [
    "# define functions"
   ]
  },
  {
   "cell_type": "code",
   "execution_count": 116,
   "id": "rotary-speech",
   "metadata": {},
   "outputs": [],
   "source": [
    "def get_df_max_points(tiff_path):\n",
    "    tiff_file = tif.imread(tiff_path)\n",
    "    index_tuple = np.unravel_index(np.argmax(tiff_file),tiff_file.shape)\n",
    "    max_points =pd.DataFrame([tiff_path,index_tuple[0],index_tuple[1],index_tuple[2]],columns=['file_name','index_0','index_1','index_2'])\n",
    "    return max_points"
   ]
  },
  {
   "cell_type": "code",
   "execution_count": null,
   "id": "sustainable-underwear",
   "metadata": {},
   "outputs": [],
   "source": []
  },
  {
   "cell_type": "markdown",
   "id": "defined-estimate",
   "metadata": {},
   "source": [
    "# taking images and finding max values with manual checks "
   ]
  },
  {
   "cell_type": "code",
   "execution_count": 6,
   "id": "reflected-fetish",
   "metadata": {},
   "outputs": [],
   "source": [
    "folder_of_tiffs = '/Users/emilydennis/Desktop/spimout/'\n",
    "list_of_tiffs = [file for file in os.listdir(folder_of_tiffs) if file[-4:]=='.tif']"
   ]
  },
  {
   "cell_type": "code",
   "execution_count": 6,
   "id": "chicken-guarantee",
   "metadata": {},
   "outputs": [
    {
     "name": "stdout",
     "output_type": "stream",
     "text": [
      "e143_reg_in_atl.tif\n",
      "h234_cell_to_reg.tif\n",
      "e144_reg_in_atl.tif\n",
      "a253_cell_to_reg.tif\n",
      "e142_reg_in_atl.tif\n"
     ]
    },
    {
     "ename": "KeyboardInterrupt",
     "evalue": "",
     "output_type": "error",
     "traceback": [
      "\u001b[0;31m---------------------------------------------------------------------------\u001b[0m",
      "\u001b[0;31mKeyboardInterrupt\u001b[0m                         Traceback (most recent call last)",
      "\u001b[0;32m<ipython-input-6-b5f7c4b437f1>\u001b[0m in \u001b[0;36m<module>\u001b[0;34m\u001b[0m\n\u001b[1;32m      4\u001b[0m \u001b[0;32mfor\u001b[0m \u001b[0mfile\u001b[0m \u001b[0;32min\u001b[0m \u001b[0mlist_of_tiffs\u001b[0m\u001b[0;34m:\u001b[0m\u001b[0;34m\u001b[0m\u001b[0;34m\u001b[0m\u001b[0m\n\u001b[1;32m      5\u001b[0m     \u001b[0mprint\u001b[0m\u001b[0;34m(\u001b[0m\u001b[0mfile\u001b[0m\u001b[0;34m)\u001b[0m\u001b[0;34m\u001b[0m\u001b[0;34m\u001b[0m\u001b[0m\n\u001b[0;32m----> 6\u001b[0;31m     \u001b[0mtiff_file\u001b[0m \u001b[0;34m=\u001b[0m \u001b[0mtif\u001b[0m\u001b[0;34m.\u001b[0m\u001b[0mimread\u001b[0m\u001b[0;34m(\u001b[0m\u001b[0mos\u001b[0m\u001b[0;34m.\u001b[0m\u001b[0mpath\u001b[0m\u001b[0;34m.\u001b[0m\u001b[0mjoin\u001b[0m\u001b[0;34m(\u001b[0m\u001b[0mfolder_of_tiffs\u001b[0m\u001b[0;34m,\u001b[0m\u001b[0mfile\u001b[0m\u001b[0;34m)\u001b[0m\u001b[0;34m)\u001b[0m\u001b[0;34m\u001b[0m\u001b[0;34m\u001b[0m\u001b[0m\n\u001b[0m\u001b[1;32m      7\u001b[0m     \u001b[0mindex_tuple\u001b[0m \u001b[0;34m=\u001b[0m \u001b[0mnp\u001b[0m\u001b[0;34m.\u001b[0m\u001b[0munravel_index\u001b[0m\u001b[0;34m(\u001b[0m\u001b[0mnp\u001b[0m\u001b[0;34m.\u001b[0m\u001b[0margmax\u001b[0m\u001b[0;34m(\u001b[0m\u001b[0mtiff_file\u001b[0m\u001b[0;34m)\u001b[0m\u001b[0;34m,\u001b[0m\u001b[0mtiff_file\u001b[0m\u001b[0;34m.\u001b[0m\u001b[0mshape\u001b[0m\u001b[0;34m)\u001b[0m\u001b[0;34m\u001b[0m\u001b[0;34m\u001b[0m\u001b[0m\n\u001b[1;32m      8\u001b[0m     \u001b[0mmax_indices\u001b[0m\u001b[0;34m.\u001b[0m\u001b[0mappend\u001b[0m\u001b[0;34m(\u001b[0m\u001b[0;34m[\u001b[0m\u001b[0mfile\u001b[0m\u001b[0;34m,\u001b[0m\u001b[0mindex_tuple\u001b[0m\u001b[0;34m]\u001b[0m\u001b[0;34m)\u001b[0m\u001b[0;34m\u001b[0m\u001b[0;34m\u001b[0m\u001b[0m\n",
      "\u001b[0;32m/opt/anaconda3/envs/lightsheet/lib/python3.7/site-packages/tifffile/tifffile.py\u001b[0m in \u001b[0;36mimread\u001b[0;34m(files, **kwargs)\u001b[0m\n\u001b[1;32m    587\u001b[0m         \u001b[0;32mif\u001b[0m \u001b[0misinstance\u001b[0m\u001b[0;34m(\u001b[0m\u001b[0mfiles\u001b[0m\u001b[0;34m,\u001b[0m \u001b[0mstr\u001b[0m\u001b[0;34m)\u001b[0m \u001b[0;32mor\u001b[0m \u001b[0mhasattr\u001b[0m\u001b[0;34m(\u001b[0m\u001b[0mfiles\u001b[0m\u001b[0;34m,\u001b[0m \u001b[0;34m'seek'\u001b[0m\u001b[0;34m)\u001b[0m\u001b[0;34m:\u001b[0m\u001b[0;34m\u001b[0m\u001b[0;34m\u001b[0m\u001b[0m\n\u001b[1;32m    588\u001b[0m             \u001b[0;32mwith\u001b[0m \u001b[0mTiffFile\u001b[0m\u001b[0;34m(\u001b[0m\u001b[0mfiles\u001b[0m\u001b[0;34m,\u001b[0m \u001b[0;34m**\u001b[0m\u001b[0mkwargs_file\u001b[0m\u001b[0;34m)\u001b[0m \u001b[0;32mas\u001b[0m \u001b[0mtif\u001b[0m\u001b[0;34m:\u001b[0m\u001b[0;34m\u001b[0m\u001b[0;34m\u001b[0m\u001b[0m\n\u001b[0;32m--> 589\u001b[0;31m                 \u001b[0;32mreturn\u001b[0m \u001b[0mtif\u001b[0m\u001b[0;34m.\u001b[0m\u001b[0masarray\u001b[0m\u001b[0;34m(\u001b[0m\u001b[0;34m**\u001b[0m\u001b[0mkwargs\u001b[0m\u001b[0;34m)\u001b[0m\u001b[0;34m\u001b[0m\u001b[0;34m\u001b[0m\u001b[0m\n\u001b[0m\u001b[1;32m    590\u001b[0m \u001b[0;34m\u001b[0m\u001b[0m\n\u001b[1;32m    591\u001b[0m     \u001b[0;32mwith\u001b[0m \u001b[0mTiffSequence\u001b[0m\u001b[0;34m(\u001b[0m\u001b[0mfiles\u001b[0m\u001b[0;34m,\u001b[0m \u001b[0;34m**\u001b[0m\u001b[0mkwargs_seq\u001b[0m\u001b[0;34m)\u001b[0m \u001b[0;32mas\u001b[0m \u001b[0mimseq\u001b[0m\u001b[0;34m:\u001b[0m\u001b[0;34m\u001b[0m\u001b[0;34m\u001b[0m\u001b[0m\n",
      "\u001b[0;32m/opt/anaconda3/envs/lightsheet/lib/python3.7/site-packages/tifffile/tifffile.py\u001b[0m in \u001b[0;36masarray\u001b[0;34m(self, key, series, out, maxworkers)\u001b[0m\n\u001b[1;32m   2309\u001b[0m             \u001b[0mresult\u001b[0m \u001b[0;34m=\u001b[0m \u001b[0mpages\u001b[0m\u001b[0;34m[\u001b[0m\u001b[0;36m0\u001b[0m\u001b[0;34m]\u001b[0m\u001b[0;34m.\u001b[0m\u001b[0masarray\u001b[0m\u001b[0;34m(\u001b[0m\u001b[0mout\u001b[0m\u001b[0;34m=\u001b[0m\u001b[0mout\u001b[0m\u001b[0;34m,\u001b[0m \u001b[0mmaxworkers\u001b[0m\u001b[0;34m=\u001b[0m\u001b[0mmaxworkers\u001b[0m\u001b[0;34m)\u001b[0m\u001b[0;34m\u001b[0m\u001b[0;34m\u001b[0m\u001b[0m\n\u001b[1;32m   2310\u001b[0m         \u001b[0;32melse\u001b[0m\u001b[0;34m:\u001b[0m\u001b[0;34m\u001b[0m\u001b[0;34m\u001b[0m\u001b[0m\n\u001b[0;32m-> 2311\u001b[0;31m             \u001b[0mresult\u001b[0m \u001b[0;34m=\u001b[0m \u001b[0mstack_pages\u001b[0m\u001b[0;34m(\u001b[0m\u001b[0mpages\u001b[0m\u001b[0;34m,\u001b[0m \u001b[0mout\u001b[0m\u001b[0;34m=\u001b[0m\u001b[0mout\u001b[0m\u001b[0;34m,\u001b[0m \u001b[0mmaxworkers\u001b[0m\u001b[0;34m=\u001b[0m\u001b[0mmaxworkers\u001b[0m\u001b[0;34m)\u001b[0m\u001b[0;34m\u001b[0m\u001b[0;34m\u001b[0m\u001b[0m\n\u001b[0m\u001b[1;32m   2312\u001b[0m \u001b[0;34m\u001b[0m\u001b[0m\n\u001b[1;32m   2313\u001b[0m         \u001b[0;32mif\u001b[0m \u001b[0mresult\u001b[0m \u001b[0;32mis\u001b[0m \u001b[0;32mNone\u001b[0m\u001b[0;34m:\u001b[0m\u001b[0;34m\u001b[0m\u001b[0;34m\u001b[0m\u001b[0m\n",
      "\u001b[0;32m/opt/anaconda3/envs/lightsheet/lib/python3.7/site-packages/tifffile/tifffile.py\u001b[0m in \u001b[0;36mstack_pages\u001b[0;34m(pages, out, maxworkers, **kwargs)\u001b[0m\n\u001b[1;32m  11009\u001b[0m     \u001b[0;32mif\u001b[0m \u001b[0mmaxworkers\u001b[0m \u001b[0;34m<\u001b[0m \u001b[0;36m2\u001b[0m\u001b[0;34m:\u001b[0m\u001b[0;34m\u001b[0m\u001b[0;34m\u001b[0m\u001b[0m\n\u001b[1;32m  11010\u001b[0m         \u001b[0;32mfor\u001b[0m \u001b[0mi\u001b[0m\u001b[0;34m,\u001b[0m \u001b[0mpage\u001b[0m \u001b[0;32min\u001b[0m \u001b[0menumerate\u001b[0m\u001b[0;34m(\u001b[0m\u001b[0mpages\u001b[0m\u001b[0;34m)\u001b[0m\u001b[0;34m:\u001b[0m\u001b[0;34m\u001b[0m\u001b[0;34m\u001b[0m\u001b[0m\n\u001b[0;32m> 11011\u001b[0;31m             \u001b[0mfunc\u001b[0m\u001b[0;34m(\u001b[0m\u001b[0mpage\u001b[0m\u001b[0;34m,\u001b[0m \u001b[0mi\u001b[0m\u001b[0;34m)\u001b[0m\u001b[0;34m\u001b[0m\u001b[0;34m\u001b[0m\u001b[0m\n\u001b[0m\u001b[1;32m  11012\u001b[0m     \u001b[0;32melse\u001b[0m\u001b[0;34m:\u001b[0m\u001b[0;34m\u001b[0m\u001b[0;34m\u001b[0m\u001b[0m\n\u001b[1;32m  11013\u001b[0m         \u001b[0;31m# TODO: add exception handling\u001b[0m\u001b[0;34m\u001b[0m\u001b[0;34m\u001b[0m\u001b[0;34m\u001b[0m\u001b[0m\n",
      "\u001b[0;32m/opt/anaconda3/envs/lightsheet/lib/python3.7/site-packages/tifffile/tifffile.py\u001b[0m in \u001b[0;36mfunc\u001b[0;34m(page, index, out, filecache, kwargs)\u001b[0m\n\u001b[1;32m  11004\u001b[0m             \u001b[0mfilecache\u001b[0m\u001b[0;34m.\u001b[0m\u001b[0mopen\u001b[0m\u001b[0;34m(\u001b[0m\u001b[0mpage\u001b[0m\u001b[0;34m.\u001b[0m\u001b[0mparent\u001b[0m\u001b[0;34m.\u001b[0m\u001b[0mfilehandle\u001b[0m\u001b[0;34m)\u001b[0m\u001b[0;34m\u001b[0m\u001b[0;34m\u001b[0m\u001b[0m\n\u001b[1;32m  11005\u001b[0m             page.asarray(lock=filecache.lock, reopen=False, out=out[index],\n\u001b[0;32m> 11006\u001b[0;31m                          **kwargs)\n\u001b[0m\u001b[1;32m  11007\u001b[0m             \u001b[0mfilecache\u001b[0m\u001b[0;34m.\u001b[0m\u001b[0mclose\u001b[0m\u001b[0;34m(\u001b[0m\u001b[0mpage\u001b[0m\u001b[0;34m.\u001b[0m\u001b[0mparent\u001b[0m\u001b[0;34m.\u001b[0m\u001b[0mfilehandle\u001b[0m\u001b[0;34m)\u001b[0m\u001b[0;34m\u001b[0m\u001b[0;34m\u001b[0m\u001b[0m\n\u001b[1;32m  11008\u001b[0m \u001b[0;34m\u001b[0m\u001b[0m\n",
      "\u001b[0;32m/opt/anaconda3/envs/lightsheet/lib/python3.7/site-packages/tifffile/tifffile.py\u001b[0m in \u001b[0;36masarray\u001b[0;34m(self, *args, **kwargs)\u001b[0m\n\u001b[1;32m   5431\u001b[0m         \u001b[0;32mif\u001b[0m \u001b[0mself\u001b[0m\u001b[0;34m.\u001b[0m\u001b[0m_keyframe\u001b[0m \u001b[0;32mis\u001b[0m \u001b[0;32mNone\u001b[0m\u001b[0;34m:\u001b[0m\u001b[0;34m\u001b[0m\u001b[0;34m\u001b[0m\u001b[0m\n\u001b[1;32m   5432\u001b[0m             \u001b[0;32mraise\u001b[0m \u001b[0mRuntimeError\u001b[0m\u001b[0;34m(\u001b[0m\u001b[0;34mf'TiffFrame {self.index}: keyframe not set'\u001b[0m\u001b[0;34m)\u001b[0m\u001b[0;34m\u001b[0m\u001b[0;34m\u001b[0m\u001b[0m\n\u001b[0;32m-> 5433\u001b[0;31m         \u001b[0;32mreturn\u001b[0m \u001b[0mTiffPage\u001b[0m\u001b[0;34m.\u001b[0m\u001b[0masarray\u001b[0m\u001b[0;34m(\u001b[0m\u001b[0mself\u001b[0m\u001b[0;34m,\u001b[0m \u001b[0;34m*\u001b[0m\u001b[0margs\u001b[0m\u001b[0;34m,\u001b[0m \u001b[0;34m**\u001b[0m\u001b[0mkwargs\u001b[0m\u001b[0;34m)\u001b[0m\u001b[0;34m\u001b[0m\u001b[0;34m\u001b[0m\u001b[0m\n\u001b[0m\u001b[1;32m   5434\u001b[0m \u001b[0;34m\u001b[0m\u001b[0m\n\u001b[1;32m   5435\u001b[0m     \u001b[0;32mdef\u001b[0m \u001b[0masrgb\u001b[0m\u001b[0;34m(\u001b[0m\u001b[0mself\u001b[0m\u001b[0;34m,\u001b[0m \u001b[0;34m*\u001b[0m\u001b[0margs\u001b[0m\u001b[0;34m,\u001b[0m \u001b[0;34m**\u001b[0m\u001b[0mkwargs\u001b[0m\u001b[0;34m)\u001b[0m\u001b[0;34m:\u001b[0m\u001b[0;34m\u001b[0m\u001b[0;34m\u001b[0m\u001b[0m\n",
      "\u001b[0;32m/opt/anaconda3/envs/lightsheet/lib/python3.7/site-packages/tifffile/tifffile.py\u001b[0m in \u001b[0;36masarray\u001b[0;34m(self, out, squeeze, lock, reopen, maxsize, maxworkers)\u001b[0m\n\u001b[1;32m   4585\u001b[0m                     \u001b[0mkeyframe\u001b[0m\u001b[0;34m.\u001b[0m\u001b[0mparent\u001b[0m\u001b[0;34m.\u001b[0m\u001b[0mbyteorder\u001b[0m \u001b[0;34m+\u001b[0m \u001b[0mkeyframe\u001b[0m\u001b[0;34m.\u001b[0m\u001b[0m_dtype\u001b[0m\u001b[0;34m.\u001b[0m\u001b[0mchar\u001b[0m\u001b[0;34m,\u001b[0m\u001b[0;34m\u001b[0m\u001b[0;34m\u001b[0m\u001b[0m\n\u001b[1;32m   4586\u001b[0m                     \u001b[0mproduct\u001b[0m\u001b[0;34m(\u001b[0m\u001b[0mkeyframe\u001b[0m\u001b[0;34m.\u001b[0m\u001b[0mshaped\u001b[0m\u001b[0;34m)\u001b[0m\u001b[0;34m,\u001b[0m\u001b[0;34m\u001b[0m\u001b[0;34m\u001b[0m\u001b[0m\n\u001b[0;32m-> 4587\u001b[0;31m                     \u001b[0mout\u001b[0m\u001b[0;34m=\u001b[0m\u001b[0mout\u001b[0m\u001b[0;34m\u001b[0m\u001b[0;34m\u001b[0m\u001b[0m\n\u001b[0m\u001b[1;32m   4588\u001b[0m                 )\n\u001b[1;32m   4589\u001b[0m             \u001b[0;32mif\u001b[0m \u001b[0mkeyframe\u001b[0m\u001b[0;34m.\u001b[0m\u001b[0mfillorder\u001b[0m \u001b[0;34m==\u001b[0m \u001b[0;36m2\u001b[0m\u001b[0;34m:\u001b[0m\u001b[0;34m\u001b[0m\u001b[0;34m\u001b[0m\u001b[0m\n",
      "\u001b[0;32m/opt/anaconda3/envs/lightsheet/lib/python3.7/site-packages/tifffile/tifffile.py\u001b[0m in \u001b[0;36mread_array\u001b[0;34m(self, dtype, count, out)\u001b[0m\n\u001b[1;32m   6398\u001b[0m             \u001b[0;32mraise\u001b[0m \u001b[0mValueError\u001b[0m\u001b[0;34m(\u001b[0m\u001b[0;34m'size mismatch'\u001b[0m\u001b[0;34m)\u001b[0m\u001b[0;34m\u001b[0m\u001b[0;34m\u001b[0m\u001b[0m\n\u001b[1;32m   6399\u001b[0m \u001b[0;34m\u001b[0m\u001b[0m\n\u001b[0;32m-> 6400\u001b[0;31m         \u001b[0mn\u001b[0m \u001b[0;34m=\u001b[0m \u001b[0mfh\u001b[0m\u001b[0;34m.\u001b[0m\u001b[0mreadinto\u001b[0m\u001b[0;34m(\u001b[0m\u001b[0mresult\u001b[0m\u001b[0;34m)\u001b[0m\u001b[0;34m\u001b[0m\u001b[0;34m\u001b[0m\u001b[0m\n\u001b[0m\u001b[1;32m   6401\u001b[0m         \u001b[0;32mif\u001b[0m \u001b[0mn\u001b[0m \u001b[0;34m!=\u001b[0m \u001b[0msize\u001b[0m\u001b[0;34m:\u001b[0m\u001b[0;34m\u001b[0m\u001b[0;34m\u001b[0m\u001b[0m\n\u001b[1;32m   6402\u001b[0m             \u001b[0;32mraise\u001b[0m \u001b[0mValueError\u001b[0m\u001b[0;34m(\u001b[0m\u001b[0;34mf'failed to read {size} bytes'\u001b[0m\u001b[0;34m)\u001b[0m\u001b[0;34m\u001b[0m\u001b[0;34m\u001b[0m\u001b[0m\n",
      "\u001b[0;31mKeyboardInterrupt\u001b[0m: "
     ]
    }
   ],
   "source": [
    "max_indices = []\n",
    "max_in_atl = []\n",
    "max_in_reg = []\n",
    "for file in list_of_tiffs:\n",
    "    print(file)\n",
    "    tiff_file = tif.imread(os.path.join(folder_of_tiffs,file))\n",
    "    index_tuple = np.unravel_index(np.argmax(tiff_file),tiff_file.shape)\n",
    "    max_indices.append([file,index_tuple])\n",
    "    if 'atl' in file:\n",
    "        max_in_atl.append([file,index_tuple])\n",
    "    else:\n",
    "        max_in_reg.append([file,index_tuple])"
   ]
  },
  {
   "cell_type": "code",
   "execution_count": 124,
   "id": "included-month",
   "metadata": {},
   "outputs": [
    {
     "ename": "NameError",
     "evalue": "name 'max_indices' is not defined",
     "output_type": "error",
     "traceback": [
      "\u001b[0;31m---------------------------------------------------------------------------\u001b[0m",
      "\u001b[0;31mNameError\u001b[0m                                 Traceback (most recent call last)",
      "\u001b[0;32m<ipython-input-124-ce35dd1ae1e4>\u001b[0m in \u001b[0;36m<module>\u001b[0;34m\u001b[0m\n\u001b[0;32m----> 1\u001b[0;31m \u001b[0mpd\u001b[0m\u001b[0;34m.\u001b[0m\u001b[0mDataFrame\u001b[0m\u001b[0;34m(\u001b[0m\u001b[0mmax_indices\u001b[0m\u001b[0;34m,\u001b[0m\u001b[0mcolumns\u001b[0m\u001b[0;34m=\u001b[0m\u001b[0;34m[\u001b[0m\u001b[0;34m'file_name'\u001b[0m\u001b[0;34m,\u001b[0m\u001b[0;34m'indices'\u001b[0m\u001b[0;34m]\u001b[0m\u001b[0;34m)\u001b[0m\u001b[0;34m.\u001b[0m\u001b[0mto_csv\u001b[0m\u001b[0;34m(\u001b[0m\u001b[0;34m'/Users/emilydennis/Desktop/cm2_max_indices.csv'\u001b[0m\u001b[0;34m)\u001b[0m\u001b[0;34m\u001b[0m\u001b[0;34m\u001b[0m\u001b[0m\n\u001b[0m",
      "\u001b[0;31mNameError\u001b[0m: name 'max_indices' is not defined"
     ]
    }
   ],
   "source": [
    "pd.DataFrame(max_indices,columns=['file_name','indices']).to_csv('/Users/emilydennis/Desktop/cm2_max_indices.csv')"
   ]
  },
  {
   "cell_type": "code",
   "execution_count": null,
   "id": "joint-adrian",
   "metadata": {},
   "outputs": [],
   "source": [
    "max_in_atl_df = pd.DataFrame(max_in_atl,columns=[\"name\",\"tuple\"])\n",
    "max_in_reg_df = pd.DataFrame(max_in_reg,columns=[\"name\",\"tuple\"])"
   ]
  },
  {
   "cell_type": "code",
   "execution_count": 10,
   "id": "incorrect-relevance",
   "metadata": {},
   "outputs": [],
   "source": [
    "j316=tif.imread('/Users/emilydennis/Desktop/spimout/j316_reg_in_atl.tif')"
   ]
  },
  {
   "cell_type": "code",
   "execution_count": 80,
   "id": "provincial-beginning",
   "metadata": {},
   "outputs": [
    {
     "data": {
      "text/plain": [
       "741"
      ]
     },
     "execution_count": 80,
     "metadata": {},
     "output_type": "execute_result"
    }
   ],
   "source": [
    "np.where(j316==1379)[1][0]"
   ]
  },
  {
   "cell_type": "code",
   "execution_count": 81,
   "id": "animal-edition",
   "metadata": {},
   "outputs": [
    {
     "name": "stdout",
     "output_type": "stream",
     "text": [
      "i is 1379 and tuple (array([127]), array([741]), array([212]))\n",
      "i is 1384 and tuple (array([412]), array([565]), array([13]))\n",
      "i is 1397 and tuple (array([381]), array([578]), array([27]))\n",
      "i is 1418 and tuple (array([321]), array([1045]), array([149]))\n",
      "i is 1423 and tuple (array([128]), array([741]), array([212]))\n",
      "i is 1435 and tuple (array([410]), array([569]), array([13]))\n",
      "i is 1436 and tuple (array([411]), array([567]), array([14]))\n",
      "i is 1445 and tuple (array([409]), array([565]), array([16]))\n",
      "i is 1453 and tuple (array([410]), array([565]), array([15]))\n",
      "i is 1463 and tuple (array([409, 412]), array([570, 567]), array([14, 13]))\n",
      "i is 1463 and tuple (array([409, 412]), array([570, 567]), array([14, 13]))\n",
      "i is 1468 and tuple (array([411]), array([566]), array([14]))\n",
      "i is 1482 and tuple (array([410]), array([567]), array([13]))\n",
      "i is 1490 and tuple (array([410]), array([568]), array([14]))\n",
      "i is 1491 and tuple (array([410]), array([566]), array([14]))\n",
      "i is 1514 and tuple (array([322]), array([1045]), array([147]))\n",
      "i is 1521 and tuple (array([320]), array([1044]), array([146]))\n",
      "i is 1531 and tuple (array([412]), array([568]), array([13]))\n",
      "i is 1536 and tuple (array([409]), array([567]), array([15]))\n",
      "i is 1542 and tuple (array([411]), array([567]), array([13]))\n",
      "i is 1543 and tuple (array([322]), array([1045]), array([149]))\n",
      "i is 1560 and tuple (array([411]), array([565]), array([14]))\n",
      "i is 1564 and tuple (array([410]), array([568]), array([13]))\n",
      "i is 1566 and tuple (array([409]), array([566]), array([15]))\n",
      "i is 1618 and tuple (array([409]), array([569]), array([15]))\n",
      "i is 1619 and tuple (array([409]), array([570]), array([15]))\n",
      "i is 1629 and tuple (array([408]), array([569]), array([15]))\n",
      "i is 1634 and tuple (array([408]), array([568]), array([15]))\n",
      "i is 1648 and tuple (array([410]), array([569]), array([14]))\n",
      "i is 1680 and tuple (array([409]), array([569]), array([14]))\n"
     ]
    }
   ],
   "source": [
    "for i in np.sort(np.ravel(j316))[-40:]:\n",
    "    print('i is {} and tuple {}'.format(i,np.where(j316==i)))"
   ]
  },
  {
   "cell_type": "markdown",
   "id": "likely-horror",
   "metadata": {},
   "source": [
    "# read csv"
   ]
  },
  {
   "cell_type": "code",
   "execution_count": 125,
   "id": "laughing-apparel",
   "metadata": {},
   "outputs": [],
   "source": [
    "max_indices_df = pd.read_csv('/Users/emilydennis/Desktop/lightsheet/cm2_max_indices.csv')\n",
    "\n",
    "max_indices_df=max_indices_df.drop(columns=['Unnamed: 0'])"
   ]
  },
  {
   "cell_type": "code",
   "execution_count": 119,
   "id": "fatty-mother",
   "metadata": {},
   "outputs": [],
   "source": [
    "max_in_atl_df = max_indices_df[max_indices_df.file_name.str.contains('atl.tif')]\n",
    "max_in_reg_df = max_indices_df[max_indices_df.file_name.str.contains('to_reg')]"
   ]
  },
  {
   "cell_type": "code",
   "execution_count": 126,
   "id": "psychological-pathology",
   "metadata": {},
   "outputs": [
    {
     "data": {
      "text/html": [
       "<div>\n",
       "<style scoped>\n",
       "    .dataframe tbody tr th:only-of-type {\n",
       "        vertical-align: middle;\n",
       "    }\n",
       "\n",
       "    .dataframe tbody tr th {\n",
       "        vertical-align: top;\n",
       "    }\n",
       "\n",
       "    .dataframe thead th {\n",
       "        text-align: right;\n",
       "    }\n",
       "</style>\n",
       "<table border=\"1\" class=\"dataframe\">\n",
       "  <thead>\n",
       "    <tr style=\"text-align: right;\">\n",
       "      <th></th>\n",
       "      <th>file_name</th>\n",
       "      <th>indices</th>\n",
       "    </tr>\n",
       "  </thead>\n",
       "  <tbody>\n",
       "    <tr>\n",
       "      <th>0</th>\n",
       "      <td>e143_reg_in_atl.tif</td>\n",
       "      <td>(365, 541, 40)</td>\n",
       "    </tr>\n",
       "    <tr>\n",
       "      <th>1</th>\n",
       "      <td>h234_cell_to_reg.tif</td>\n",
       "      <td>(141, 627, 393)</td>\n",
       "    </tr>\n",
       "    <tr>\n",
       "      <th>2</th>\n",
       "      <td>e144_reg_in_atl.tif</td>\n",
       "      <td>(385, 533, 41)</td>\n",
       "    </tr>\n",
       "    <tr>\n",
       "      <th>3</th>\n",
       "      <td>a253_cell_to_reg.tif</td>\n",
       "      <td>(148, 629, 333)</td>\n",
       "    </tr>\n",
       "    <tr>\n",
       "      <th>4</th>\n",
       "      <td>e142_reg_in_atl.tif</td>\n",
       "      <td>(367, 551, 22)</td>\n",
       "    </tr>\n",
       "    <tr>\n",
       "      <th>5</th>\n",
       "      <td>e153_reg_in_atl.tif</td>\n",
       "      <td>(378, 710, 64)</td>\n",
       "    </tr>\n",
       "    <tr>\n",
       "      <th>6</th>\n",
       "      <td>h234_in_atl.tif</td>\n",
       "      <td>(366, 527, 23)</td>\n",
       "    </tr>\n",
       "    <tr>\n",
       "      <th>7</th>\n",
       "      <td>j316_reg_in_atl.tif</td>\n",
       "      <td>(381, 578, 27)</td>\n",
       "    </tr>\n",
       "    <tr>\n",
       "      <th>8</th>\n",
       "      <td>j319_reg_in_atl.tif</td>\n",
       "      <td>(370, 579, 46)</td>\n",
       "    </tr>\n",
       "    <tr>\n",
       "      <th>9</th>\n",
       "      <td>e144_cell_to_reg.tif</td>\n",
       "      <td>(103,701,339)</td>\n",
       "    </tr>\n",
       "    <tr>\n",
       "      <th>10</th>\n",
       "      <td>e143_cell_to_reg.tif</td>\n",
       "      <td>(85,568,394)</td>\n",
       "    </tr>\n",
       "    <tr>\n",
       "      <th>11</th>\n",
       "      <td>j319_cell_to_reg.tif</td>\n",
       "      <td>(130, 732, 372)</td>\n",
       "    </tr>\n",
       "    <tr>\n",
       "      <th>12</th>\n",
       "      <td>j316_cell_to_reg.tif</td>\n",
       "      <td>(126, 707, 335)</td>\n",
       "    </tr>\n",
       "    <tr>\n",
       "      <th>13</th>\n",
       "      <td>j317_reg_in_atl.tif</td>\n",
       "      <td>(387, 580, 58)</td>\n",
       "    </tr>\n",
       "    <tr>\n",
       "      <th>14</th>\n",
       "      <td>e142_cell_to_reg.tif</td>\n",
       "      <td>(133, 694, 355)</td>\n",
       "    </tr>\n",
       "    <tr>\n",
       "      <th>15</th>\n",
       "      <td>j317_cell_to_reg.tif</td>\n",
       "      <td>(106, 762, 331)</td>\n",
       "    </tr>\n",
       "    <tr>\n",
       "      <th>16</th>\n",
       "      <td>e153_cell_to_reg.tif</td>\n",
       "      <td>(133, 664, 329)</td>\n",
       "    </tr>\n",
       "  </tbody>\n",
       "</table>\n",
       "</div>"
      ],
      "text/plain": [
       "               file_name          indices\n",
       "0    e143_reg_in_atl.tif   (365, 541, 40)\n",
       "1   h234_cell_to_reg.tif  (141, 627, 393)\n",
       "2    e144_reg_in_atl.tif   (385, 533, 41)\n",
       "3   a253_cell_to_reg.tif  (148, 629, 333)\n",
       "4    e142_reg_in_atl.tif   (367, 551, 22)\n",
       "5    e153_reg_in_atl.tif   (378, 710, 64)\n",
       "6        h234_in_atl.tif   (366, 527, 23)\n",
       "7    j316_reg_in_atl.tif   (381, 578, 27)\n",
       "8    j319_reg_in_atl.tif   (370, 579, 46)\n",
       "9   e144_cell_to_reg.tif    (103,701,339)\n",
       "10  e143_cell_to_reg.tif     (85,568,394)\n",
       "11  j319_cell_to_reg.tif  (130, 732, 372)\n",
       "12  j316_cell_to_reg.tif  (126, 707, 335)\n",
       "13   j317_reg_in_atl.tif   (387, 580, 58)\n",
       "14  e142_cell_to_reg.tif  (133, 694, 355)\n",
       "15  j317_cell_to_reg.tif  (106, 762, 331)\n",
       "16  e153_cell_to_reg.tif  (133, 664, 329)"
      ]
     },
     "execution_count": 126,
     "metadata": {},
     "output_type": "execute_result"
    }
   ],
   "source": [
    "max_indices_df"
   ]
  },
  {
   "cell_type": "code",
   "execution_count": 123,
   "id": "continued-independence",
   "metadata": {},
   "outputs": [],
   "source": [
    "max_indices_df.indices[7] = '(381, 578, 27)'\n",
    "max_indices_df.indices[9]='(103,701,339)'\n",
    "max_indices_df.indices[10]='(85,568,394)'\n",
    "max_indices_df.to_csv('/Users/emilydennis/Desktop/lightsheet/cm2_max_indices.csv')\n"
   ]
  },
  {
   "cell_type": "code",
   "execution_count": 66,
   "id": "seeing-recipe",
   "metadata": {},
   "outputs": [
    {
     "data": {
      "text/plain": [
       "(0.0, 1150.0)"
      ]
     },
     "execution_count": 66,
     "metadata": {},
     "output_type": "execute_result"
    },
    {
     "data": {
      "image/png": "[encoded data removed]",
      "text/plain": [
       "<Figure size 432x288 with 1 Axes>"
      ]
     },
     "metadata": {
      "needs_background": "light"
     },
     "output_type": "display_data"
    }
   ],
   "source": [
    "xs=[]\n",
    "ys=[]\n",
    "for locale in max_in_atl_df.indices:\n",
    "    xs.append(eval(locale)[1])\n",
    "    ys.append(eval(locale)[0])\n",
    "plt.scatter(ys,xs)\n",
    "plt.xlim([0,618])\n",
    "plt.ylim([0,1150])\n",
    "# from here, need to check j316_reg_in_atl -- manually 'fixed' j316_reg_in_atl\n",
    "# e153_reg_in_atl had bad alignment! re-align (cerebellum stretched weird?)"
   ]
  },
  {
   "cell_type": "code",
   "execution_count": 67,
   "id": "certain-leone",
   "metadata": {},
   "outputs": [
    {
     "name": "stderr",
     "output_type": "stream",
     "text": [
      "/Users/emilydennis/.local/lib/python3.7/site-packages/IPython/core/interactiveshell.py:3331: SettingWithCopyWarning: \n",
      "A value is trying to be set on a copy of a slice from a DataFrame\n",
      "\n",
      "See the caveats in the documentation: https://pandas.pydata.org/pandas-docs/stable/user_guide/indexing.html#returning-a-view-versus-a-copy\n",
      "  exec(code_obj, self.user_global_ns, self.user_ns)\n"
     ]
    }
   ],
   "source": [
    "max_in_reg_df.indices[9]='(103,701,339)'\n",
    "max_in_reg_df.indices[10]='(85,568,394)'"
   ]
  },
  {
   "cell_type": "code",
   "execution_count": 68,
   "id": "surrounded-chain",
   "metadata": {},
   "outputs": [
    {
     "data": {
      "text/html": [
       "<div>\n",
       "<style scoped>\n",
       "    .dataframe tbody tr th:only-of-type {\n",
       "        vertical-align: middle;\n",
       "    }\n",
       "\n",
       "    .dataframe tbody tr th {\n",
       "        vertical-align: top;\n",
       "    }\n",
       "\n",
       "    .dataframe thead th {\n",
       "        text-align: right;\n",
       "    }\n",
       "</style>\n",
       "<table border=\"1\" class=\"dataframe\">\n",
       "  <thead>\n",
       "    <tr style=\"text-align: right;\">\n",
       "      <th></th>\n",
       "      <th>file_name</th>\n",
       "      <th>indices</th>\n",
       "    </tr>\n",
       "  </thead>\n",
       "  <tbody>\n",
       "    <tr>\n",
       "      <th>1</th>\n",
       "      <td>h234_cell_to_reg.tif</td>\n",
       "      <td>(141, 627, 393)</td>\n",
       "    </tr>\n",
       "    <tr>\n",
       "      <th>3</th>\n",
       "      <td>a253_cell_to_reg.tif</td>\n",
       "      <td>(148, 629, 333)</td>\n",
       "    </tr>\n",
       "    <tr>\n",
       "      <th>9</th>\n",
       "      <td>e144_cell_to_reg.tif</td>\n",
       "      <td>(103,701,339)</td>\n",
       "    </tr>\n",
       "    <tr>\n",
       "      <th>10</th>\n",
       "      <td>e143_cell_to_reg.tif</td>\n",
       "      <td>(85,568,394)</td>\n",
       "    </tr>\n",
       "    <tr>\n",
       "      <th>11</th>\n",
       "      <td>j319_cell_to_reg.tif</td>\n",
       "      <td>(130, 732, 372)</td>\n",
       "    </tr>\n",
       "    <tr>\n",
       "      <th>12</th>\n",
       "      <td>j316_cell_to_reg.tif</td>\n",
       "      <td>(126, 707, 335)</td>\n",
       "    </tr>\n",
       "    <tr>\n",
       "      <th>14</th>\n",
       "      <td>e142_cell_to_reg.tif</td>\n",
       "      <td>(133, 694, 355)</td>\n",
       "    </tr>\n",
       "    <tr>\n",
       "      <th>15</th>\n",
       "      <td>j317_cell_to_reg.tif</td>\n",
       "      <td>(106, 762, 331)</td>\n",
       "    </tr>\n",
       "    <tr>\n",
       "      <th>16</th>\n",
       "      <td>e153_cell_to_reg.tif</td>\n",
       "      <td>(133, 664, 329)</td>\n",
       "    </tr>\n",
       "  </tbody>\n",
       "</table>\n",
       "</div>"
      ],
      "text/plain": [
       "               file_name          indices\n",
       "1   h234_cell_to_reg.tif  (141, 627, 393)\n",
       "3   a253_cell_to_reg.tif  (148, 629, 333)\n",
       "9   e144_cell_to_reg.tif    (103,701,339)\n",
       "10  e143_cell_to_reg.tif     (85,568,394)\n",
       "11  j319_cell_to_reg.tif  (130, 732, 372)\n",
       "12  j316_cell_to_reg.tif  (126, 707, 335)\n",
       "14  e142_cell_to_reg.tif  (133, 694, 355)\n",
       "15  j317_cell_to_reg.tif  (106, 762, 331)\n",
       "16  e153_cell_to_reg.tif  (133, 664, 329)"
      ]
     },
     "execution_count": 68,
     "metadata": {},
     "output_type": "execute_result"
    }
   ],
   "source": [
    "max_in_reg_df\n",
    "# pull down from spock reg:atl transform files\n",
    "# for each filename, get base"
   ]
  },
  {
   "cell_type": "code",
   "execution_count": 69,
   "id": "thousand-internet",
   "metadata": {},
   "outputs": [
    {
     "data": {
      "text/plain": [
       "<matplotlib.collections.PathCollection at 0x7f899f95b9e8>"
      ]
     },
     "execution_count": 69,
     "metadata": {},
     "output_type": "execute_result"
    },
    {
     "data": {
      "image/png": "[encoded data removed]",
      "text/plain": [
       "<Figure size 432x288 with 1 Axes>"
      ]
     },
     "metadata": {
      "needs_background": "light"
     },
     "output_type": "display_data"
    }
   ],
   "source": [
    "\n",
    "\n",
    "xs=[]\n",
    "ys=[]\n",
    "for locale in max_in_reg_df.indices:\n",
    "    xs.append(eval(locale)[1])\n",
    "    ys.append(eval(locale)[2])\n",
    "plt.scatter(ys,xs)\n",
    "\n",
    "# from here need to manually check e144_cell_to_reg and e143_cell_to_reg\n",
    "# manual check revealed both blown out, skewing max vals"
   ]
  },
  {
   "cell_type": "code",
   "execution_count": 70,
   "id": "exceptional-acrobat",
   "metadata": {},
   "outputs": [],
   "source": [
    "max_in_reg_df.insert(2,'adj_z',0)\n",
    "max_in_reg_df.insert(3,'adj_y',0)\n",
    "max_in_reg_df.insert(4,'adj_x',0)\n",
    "max_in_reg_df.insert(2,'tz',0)\n",
    "max_in_reg_df.insert(3,'ty',0)\n",
    "max_in_reg_df.insert(4,'tx',0)"
   ]
  },
  {
   "cell_type": "code",
   "execution_count": 127,
   "id": "bottom-venture",
   "metadata": {},
   "outputs": [],
   "source": [
    "max_indices_df=max_indices_df.reset_index()"
   ]
  },
  {
   "cell_type": "code",
   "execution_count": 128,
   "id": "better-letters",
   "metadata": {},
   "outputs": [
    {
     "data": {
      "text/html": [
       "<div>\n",
       "<style scoped>\n",
       "    .dataframe tbody tr th:only-of-type {\n",
       "        vertical-align: middle;\n",
       "    }\n",
       "\n",
       "    .dataframe tbody tr th {\n",
       "        vertical-align: top;\n",
       "    }\n",
       "\n",
       "    .dataframe thead th {\n",
       "        text-align: right;\n",
       "    }\n",
       "</style>\n",
       "<table border=\"1\" class=\"dataframe\">\n",
       "  <thead>\n",
       "    <tr style=\"text-align: right;\">\n",
       "      <th></th>\n",
       "      <th>index</th>\n",
       "      <th>file_name</th>\n",
       "      <th>indices</th>\n",
       "    </tr>\n",
       "  </thead>\n",
       "  <tbody>\n",
       "    <tr>\n",
       "      <th>0</th>\n",
       "      <td>0</td>\n",
       "      <td>e143_reg_in_atl.tif</td>\n",
       "      <td>(365, 541, 40)</td>\n",
       "    </tr>\n",
       "    <tr>\n",
       "      <th>1</th>\n",
       "      <td>1</td>\n",
       "      <td>h234_cell_to_reg.tif</td>\n",
       "      <td>(141, 627, 393)</td>\n",
       "    </tr>\n",
       "    <tr>\n",
       "      <th>2</th>\n",
       "      <td>2</td>\n",
       "      <td>e144_reg_in_atl.tif</td>\n",
       "      <td>(385, 533, 41)</td>\n",
       "    </tr>\n",
       "    <tr>\n",
       "      <th>3</th>\n",
       "      <td>3</td>\n",
       "      <td>a253_cell_to_reg.tif</td>\n",
       "      <td>(148, 629, 333)</td>\n",
       "    </tr>\n",
       "    <tr>\n",
       "      <th>4</th>\n",
       "      <td>4</td>\n",
       "      <td>e142_reg_in_atl.tif</td>\n",
       "      <td>(367, 551, 22)</td>\n",
       "    </tr>\n",
       "    <tr>\n",
       "      <th>5</th>\n",
       "      <td>5</td>\n",
       "      <td>e153_reg_in_atl.tif</td>\n",
       "      <td>(378, 710, 64)</td>\n",
       "    </tr>\n",
       "    <tr>\n",
       "      <th>6</th>\n",
       "      <td>6</td>\n",
       "      <td>h234_in_atl.tif</td>\n",
       "      <td>(366, 527, 23)</td>\n",
       "    </tr>\n",
       "    <tr>\n",
       "      <th>7</th>\n",
       "      <td>7</td>\n",
       "      <td>j316_reg_in_atl.tif</td>\n",
       "      <td>(381, 578, 27)</td>\n",
       "    </tr>\n",
       "    <tr>\n",
       "      <th>8</th>\n",
       "      <td>8</td>\n",
       "      <td>j319_reg_in_atl.tif</td>\n",
       "      <td>(370, 579, 46)</td>\n",
       "    </tr>\n",
       "    <tr>\n",
       "      <th>9</th>\n",
       "      <td>9</td>\n",
       "      <td>e144_cell_to_reg.tif</td>\n",
       "      <td>(103,701,339)</td>\n",
       "    </tr>\n",
       "    <tr>\n",
       "      <th>10</th>\n",
       "      <td>10</td>\n",
       "      <td>e143_cell_to_reg.tif</td>\n",
       "      <td>(85,568,394)</td>\n",
       "    </tr>\n",
       "    <tr>\n",
       "      <th>11</th>\n",
       "      <td>11</td>\n",
       "      <td>j319_cell_to_reg.tif</td>\n",
       "      <td>(130, 732, 372)</td>\n",
       "    </tr>\n",
       "    <tr>\n",
       "      <th>12</th>\n",
       "      <td>12</td>\n",
       "      <td>j316_cell_to_reg.tif</td>\n",
       "      <td>(126, 707, 335)</td>\n",
       "    </tr>\n",
       "    <tr>\n",
       "      <th>13</th>\n",
       "      <td>13</td>\n",
       "      <td>j317_reg_in_atl.tif</td>\n",
       "      <td>(387, 580, 58)</td>\n",
       "    </tr>\n",
       "    <tr>\n",
       "      <th>14</th>\n",
       "      <td>14</td>\n",
       "      <td>e142_cell_to_reg.tif</td>\n",
       "      <td>(133, 694, 355)</td>\n",
       "    </tr>\n",
       "    <tr>\n",
       "      <th>15</th>\n",
       "      <td>15</td>\n",
       "      <td>j317_cell_to_reg.tif</td>\n",
       "      <td>(106, 762, 331)</td>\n",
       "    </tr>\n",
       "    <tr>\n",
       "      <th>16</th>\n",
       "      <td>16</td>\n",
       "      <td>e153_cell_to_reg.tif</td>\n",
       "      <td>(133, 664, 329)</td>\n",
       "    </tr>\n",
       "  </tbody>\n",
       "</table>\n",
       "</div>"
      ],
      "text/plain": [
       "    index             file_name          indices\n",
       "0       0   e143_reg_in_atl.tif   (365, 541, 40)\n",
       "1       1  h234_cell_to_reg.tif  (141, 627, 393)\n",
       "2       2   e144_reg_in_atl.tif   (385, 533, 41)\n",
       "3       3  a253_cell_to_reg.tif  (148, 629, 333)\n",
       "4       4   e142_reg_in_atl.tif   (367, 551, 22)\n",
       "5       5   e153_reg_in_atl.tif   (378, 710, 64)\n",
       "6       6       h234_in_atl.tif   (366, 527, 23)\n",
       "7       7   j316_reg_in_atl.tif   (381, 578, 27)\n",
       "8       8   j319_reg_in_atl.tif   (370, 579, 46)\n",
       "9       9  e144_cell_to_reg.tif    (103,701,339)\n",
       "10     10  e143_cell_to_reg.tif     (85,568,394)\n",
       "11     11  j319_cell_to_reg.tif  (130, 732, 372)\n",
       "12     12  j316_cell_to_reg.tif  (126, 707, 335)\n",
       "13     13   j317_reg_in_atl.tif   (387, 580, 58)\n",
       "14     14  e142_cell_to_reg.tif  (133, 694, 355)\n",
       "15     15  j317_cell_to_reg.tif  (106, 762, 331)\n",
       "16     16  e153_cell_to_reg.tif  (133, 664, 329)"
      ]
     },
     "execution_count": 128,
     "metadata": {},
     "output_type": "execute_result"
    }
   ],
   "source": [
    "max_indices_df.insert(2,)"
   ]
  },
  {
   "cell_type": "markdown",
   "id": "descending-contrary",
   "metadata": {},
   "source": [
    "# for loop"
   ]
  },
  {
   "cell_type": "code",
   "execution_count": 14,
   "id": "prerequisite-processor",
   "metadata": {},
   "outputs": [],
   "source": [
    "?os.rename"
   ]
  },
  {
   "cell_type": "code",
   "execution_count": 17,
   "id": "native-median",
   "metadata": {},
   "outputs": [
    {
     "name": "stderr",
     "output_type": "stream",
     "text": [
      "/Users/emilydennis/.local/lib/python3.7/site-packages/ipykernel_launcher.py:9: SettingWithCopyWarning: \n",
      "A value is trying to be set on a copy of a slice from a DataFrame\n",
      "\n",
      "See the caveats in the documentation: https://pandas.pydata.org/pandas-docs/stable/user_guide/indexing.html#returning-a-view-versus-a-copy\n",
      "  if __name__ == '__main__':\n",
      "/Users/emilydennis/.local/lib/python3.7/site-packages/ipykernel_launcher.py:10: SettingWithCopyWarning: \n",
      "A value is trying to be set on a copy of a slice from a DataFrame\n",
      "\n",
      "See the caveats in the documentation: https://pandas.pydata.org/pandas-docs/stable/user_guide/indexing.html#returning-a-view-versus-a-copy\n",
      "  # Remove the CWD from sys.path while we load stuff.\n",
      "/Users/emilydennis/.local/lib/python3.7/site-packages/ipykernel_launcher.py:11: SettingWithCopyWarning: \n",
      "A value is trying to be set on a copy of a slice from a DataFrame\n",
      "\n",
      "See the caveats in the documentation: https://pandas.pydata.org/pandas-docs/stable/user_guide/indexing.html#returning-a-view-versus-a-copy\n",
      "  # This is added back by InteractiveShellApp.init_path()\n"
     ]
    }
   ],
   "source": [
    "header='index\\n'\n",
    "numofpts = '1\\n'\n",
    "commonbase = '/Users/emilydennis/Desktop/spimout'\n",
    "\n",
    "for i in max_indices_df.index:\n",
    "    # for loop starts here\n",
    "    indices = eval(max_indices_df.indices[i])[::-1] #switch z/x\n",
    "    max_indices_df.tz[i]=indices[0]\n",
    "    max_indices_df.ty[i]=indices[1]\n",
    "    max_indices_df.tx[i]=indices[2]\n",
    "    fullname=max_indices_df.file_name[i][:-4]\n",
    "    nm=fullname[:4]\n",
    "    mv=sitk.ReadImage(os.path.join(commonbase,max_indices_df.file_name[i]))\n",
    "    filename = '/Users/emilydennis/Desktop/{}_pts.npy'.format(fullname)\n",
    "    np.save(filename,eval(max_indices_df.indices[i])[::-1])\n",
    "    \n",
    "    ptslist = str(indices)[1:-1].split(',')\n",
    "    pts = ptslist[0]+ptslist[1]+ptslist[2]+'\\n'\n",
    "    \n",
    "    file_object = open(r\"/Users/emilydennis/Desktop/spimout/{}_in.pts\".format(nm),\"a\")\n",
    "    for L in [header,numofpts,pts]: \n",
    "        file_object.write(L)\n",
    "    file_object.close()\n",
    "    \n",
    "    transformixImageFilter = sitk.TransformixImageFilter()\n",
    "    parameterMap0 = sitk.ReadParameterFile(os.path.join(commonbase,'{}/TransformParameters.0.txt').format(nm))\n",
    "    transformixImageFilter.SetMovingImage(mv)\n",
    "    transformixImageFilter.SetTransformParameterMap(parameterMap0)\n",
    "    transformixImageFilter.SetOutputDirectory('/Users/emilydennis/Desktop/spimout/')\n",
    "    transformixImageFilter.SetFixedPointSetFileName('/Users/emilydennis/Desktop/spimout/{}_in.pts'.format(nm))\n",
    "    transformixImageFilter.Execute()\n",
    "    os.rename('/Users/emilydennis/Desktop/spimout/outputpoints.txt','/Users/emilydennis/Desktop/spimout/{}_out.txt'.format(nm))"
   ]
  },
  {
   "cell_type": "code",
   "execution_count": 18,
   "id": "artificial-paradise",
   "metadata": {},
   "outputs": [],
   "source": [
    "# for each element of max_in_reg_df get the indices\n",
    "# get the transform files in spimout/h234 for ex\n",
    "# transform points\n",
    "# save in new columns\n",
    "\n",
    "# first remember that images were transformed such that (x,y,z) becomes (z,y,x) "
   ]
  },
  {
   "cell_type": "code",
   "execution_count": 79,
   "id": "sexual-wilson",
   "metadata": {},
   "outputs": [
    {
     "name": "stdout",
     "output_type": "stream",
     "text": [
      "/Users/emilydennis/Desktop/spimout/e144_out.txt\n",
      "/Users/emilydennis/Desktop/spimout/e144_out.txt\n",
      "/Users/emilydennis/Desktop/spimout/j316_out.txt\n",
      "/Users/emilydennis/Desktop/spimout/j316_out.txt\n",
      "/Users/emilydennis/Desktop/spimout/j317_out.txt\n",
      "/Users/emilydennis/Desktop/spimout/j317_out.txt\n",
      "/Users/emilydennis/Desktop/spimout/h234_out.txt\n",
      "/Users/emilydennis/Desktop/spimout/h234_out.txt\n",
      "/Users/emilydennis/Desktop/spimout/e142_out.txt\n",
      "/Users/emilydennis/Desktop/spimout/e142_out.txt\n",
      "/Users/emilydennis/Desktop/spimout/e153_out.txt\n",
      "/Users/emilydennis/Desktop/spimout/e153_out.txt\n",
      "/Users/emilydennis/Desktop/spimout/e143_out.txt\n",
      "/Users/emilydennis/Desktop/spimout/e143_out.txt\n",
      "/Users/emilydennis/Desktop/spimout/j319_out.txt\n",
      "/Users/emilydennis/Desktop/spimout/j319_out.txt\n",
      "/Users/emilydennis/Desktop/spimout/a253_out.txt\n",
      "/Users/emilydennis/Desktop/spimout/a253_out.txt\n"
     ]
    }
   ],
   "source": [
    "for file in glob.glob('/Users/emilydennis/Desktop/spimout/*.txt'):\n",
    "    print(file)\n",
    "    with open(file,'r') as reader:\n",
    "        print(file)"
   ]
  },
  {
   "cell_type": "code",
   "execution_count": 115,
   "id": "boring-bicycle",
   "metadata": {},
   "outputs": [
    {
     "data": {
      "text/html": [
       "<div>\n",
       "<style scoped>\n",
       "    .dataframe tbody tr th:only-of-type {\n",
       "        vertical-align: middle;\n",
       "    }\n",
       "\n",
       "    .dataframe tbody tr th {\n",
       "        vertical-align: top;\n",
       "    }\n",
       "\n",
       "    .dataframe thead th {\n",
       "        text-align: right;\n",
       "    }\n",
       "</style>\n",
       "<table border=\"1\" class=\"dataframe\">\n",
       "  <thead>\n",
       "    <tr style=\"text-align: right;\">\n",
       "      <th></th>\n",
       "      <th>index</th>\n",
       "      <th>file_name</th>\n",
       "      <th>indices</th>\n",
       "      <th>tz</th>\n",
       "      <th>ty</th>\n",
       "      <th>tx</th>\n",
       "      <th>adj_z</th>\n",
       "      <th>adj_y</th>\n",
       "      <th>adj_x</th>\n",
       "    </tr>\n",
       "  </thead>\n",
       "  <tbody>\n",
       "    <tr>\n",
       "      <th>0</th>\n",
       "      <td>1</td>\n",
       "      <td>h234_cell_to_reg.tif</td>\n",
       "      <td>(141, 627, 393)</td>\n",
       "      <td>0</td>\n",
       "      <td>0</td>\n",
       "      <td>0</td>\n",
       "      <td>0</td>\n",
       "      <td>0</td>\n",
       "      <td>0</td>\n",
       "    </tr>\n",
       "    <tr>\n",
       "      <th>1</th>\n",
       "      <td>3</td>\n",
       "      <td>a253_cell_to_reg.tif</td>\n",
       "      <td>(148, 629, 333)</td>\n",
       "      <td>0</td>\n",
       "      <td>0</td>\n",
       "      <td>0</td>\n",
       "      <td>0</td>\n",
       "      <td>0</td>\n",
       "      <td>0</td>\n",
       "    </tr>\n",
       "    <tr>\n",
       "      <th>2</th>\n",
       "      <td>9</td>\n",
       "      <td>e144_cell_to_reg.tif</td>\n",
       "      <td>(103,701,339)</td>\n",
       "      <td>0</td>\n",
       "      <td>0</td>\n",
       "      <td>0</td>\n",
       "      <td>0</td>\n",
       "      <td>0</td>\n",
       "      <td>0</td>\n",
       "    </tr>\n",
       "    <tr>\n",
       "      <th>3</th>\n",
       "      <td>10</td>\n",
       "      <td>e143_cell_to_reg.tif</td>\n",
       "      <td>(85,568,394)</td>\n",
       "      <td>0</td>\n",
       "      <td>0</td>\n",
       "      <td>0</td>\n",
       "      <td>0</td>\n",
       "      <td>0</td>\n",
       "      <td>0</td>\n",
       "    </tr>\n",
       "    <tr>\n",
       "      <th>4</th>\n",
       "      <td>11</td>\n",
       "      <td>j319_cell_to_reg.tif</td>\n",
       "      <td>(130, 732, 372)</td>\n",
       "      <td>0</td>\n",
       "      <td>0</td>\n",
       "      <td>0</td>\n",
       "      <td>0</td>\n",
       "      <td>0</td>\n",
       "      <td>0</td>\n",
       "    </tr>\n",
       "    <tr>\n",
       "      <th>5</th>\n",
       "      <td>12</td>\n",
       "      <td>j316_cell_to_reg.tif</td>\n",
       "      <td>(126, 707, 335)</td>\n",
       "      <td>0</td>\n",
       "      <td>0</td>\n",
       "      <td>0</td>\n",
       "      <td>0</td>\n",
       "      <td>0</td>\n",
       "      <td>0</td>\n",
       "    </tr>\n",
       "    <tr>\n",
       "      <th>6</th>\n",
       "      <td>14</td>\n",
       "      <td>e142_cell_to_reg.tif</td>\n",
       "      <td>(133, 694, 355)</td>\n",
       "      <td>0</td>\n",
       "      <td>0</td>\n",
       "      <td>0</td>\n",
       "      <td>0</td>\n",
       "      <td>0</td>\n",
       "      <td>0</td>\n",
       "    </tr>\n",
       "    <tr>\n",
       "      <th>7</th>\n",
       "      <td>15</td>\n",
       "      <td>j317_cell_to_reg.tif</td>\n",
       "      <td>(106, 762, 331)</td>\n",
       "      <td>0</td>\n",
       "      <td>0</td>\n",
       "      <td>0</td>\n",
       "      <td>0</td>\n",
       "      <td>0</td>\n",
       "      <td>0</td>\n",
       "    </tr>\n",
       "    <tr>\n",
       "      <th>8</th>\n",
       "      <td>16</td>\n",
       "      <td>e153_cell_to_reg.tif</td>\n",
       "      <td>(133, 664, 329)</td>\n",
       "      <td>0</td>\n",
       "      <td>0</td>\n",
       "      <td>0</td>\n",
       "      <td>0</td>\n",
       "      <td>0</td>\n",
       "      <td>0</td>\n",
       "    </tr>\n",
       "  </tbody>\n",
       "</table>\n",
       "</div>"
      ],
      "text/plain": [
       "   index             file_name          indices  tz  ty  tx  adj_z  adj_y  \\\n",
       "0      1  h234_cell_to_reg.tif  (141, 627, 393)   0   0   0      0      0   \n",
       "1      3  a253_cell_to_reg.tif  (148, 629, 333)   0   0   0      0      0   \n",
       "2      9  e144_cell_to_reg.tif    (103,701,339)   0   0   0      0      0   \n",
       "3     10  e143_cell_to_reg.tif     (85,568,394)   0   0   0      0      0   \n",
       "4     11  j319_cell_to_reg.tif  (130, 732, 372)   0   0   0      0      0   \n",
       "5     12  j316_cell_to_reg.tif  (126, 707, 335)   0   0   0      0      0   \n",
       "6     14  e142_cell_to_reg.tif  (133, 694, 355)   0   0   0      0      0   \n",
       "7     15  j317_cell_to_reg.tif  (106, 762, 331)   0   0   0      0      0   \n",
       "8     16  e153_cell_to_reg.tif  (133, 664, 329)   0   0   0      0      0   \n",
       "\n",
       "   adj_x  \n",
       "0      0  \n",
       "1      0  \n",
       "2      0  \n",
       "3      0  \n",
       "4      0  \n",
       "5      0  \n",
       "6      0  \n",
       "7      0  \n",
       "8      0  "
      ]
     },
     "execution_count": 115,
     "metadata": {},
     "output_type": "execute_result"
    }
   ],
   "source": []
  },
  {
   "cell_type": "code",
   "execution_count": 132,
   "id": "powered-jimmy",
   "metadata": {},
   "outputs": [],
   "source": [
    "# make into a for looping over _out.txt files and extracting info\n",
    "alldata=[]\n",
    "for file in glob.glob('/Users/emilydennis/Desktop/spimout/*_out.txt'):\n",
    "    f=open(file,'r')\n",
    "    data=[]\n",
    "    for ff in f.readline().split('; '):\n",
    "        if \"OutputIndexMoving\" in ff:\n",
    "            for i in ff.split():\n",
    "                if i.isdigit():\n",
    "                    data.append(int(i))\n",
    "    alldata.append([file,data[0],data[1],data[2]])\n",
    "    f.close()"
   ]
  },
  {
   "cell_type": "code",
   "execution_count": 136,
   "id": "electoral-strength",
   "metadata": {},
   "outputs": [],
   "source": [
    "alldata_df=pd.DataFrame(alldata,columns=['filename','x','y','z'])"
   ]
  },
  {
   "cell_type": "code",
   "execution_count": 159,
   "id": "immune-variable",
   "metadata": {},
   "outputs": [
    {
     "data": {
      "text/plain": [
       "<matplotlib.collections.PathCollection at 0x7f89a2ebb128>"
      ]
     },
     "execution_count": 159,
     "metadata": {},
     "output_type": "execute_result"
    },
    {
     "data": {
      "image/png": "[encoded data removed]",
      "text/plain": [
       "<Figure size 432x288 with 1 Axes>"
      ]
     },
     "metadata": {
      "needs_background": "light"
     },
     "output_type": "display_data"
    }
   ],
   "source": [
    "plt.imshow(np.max(mpra,axis=2),cmap='gray')\n",
    "plt.scatter(alldata_df.y,alldata_df.x,c='w')"
   ]
  },
  {
   "cell_type": "code",
   "execution_count": null,
   "id": "national-optimization",
   "metadata": {},
   "outputs": [],
   "source": []
  },
  {
   "cell_type": "code",
   "execution_count": 5,
   "id": "established-enlargement",
   "metadata": {},
   "outputs": [],
   "source": [
    "x = pd.read_csv('/Users/emilydennis/Desktop/lightsheet/cm2_max_indices.csv')"
   ]
  },
  {
   "cell_type": "code",
   "execution_count": 29,
   "id": "featured-hormone",
   "metadata": {},
   "outputs": [
    {
     "name": "stdout",
     "output_type": "stream",
     "text": [
      "(365, 541, 40)\n",
      "(141, 627, 393)\n",
      "(385, 533, 41)\n",
      "(148, 629, 333)\n",
      "(367, 551, 22)\n",
      "(378, 710, 64)\n",
      "(366, 527, 23)\n",
      "(483, 426, 151)\n",
      "(370, 579, 46)\n",
      "(18, 694, 342)\n",
      "(40, 565, 400)\n",
      "(130, 732, 372)\n",
      "(126, 707, 335)\n",
      "(387, 580, 58)\n",
      "(133, 694, 355)\n",
      "(106, 762, 331)\n",
      "(133, 664, 329)\n"
     ]
    }
   ],
   "source": [
    "for i in x.indices:\n",
    "    print(eval(i))"
   ]
  },
  {
   "cell_type": "code",
   "execution_count": 35,
   "id": "naughty-joseph",
   "metadata": {},
   "outputs": [],
   "source": [
    "testx = []\n",
    "testy = []\n",
    "testz = []\n",
    "\n",
    "for i in x.indices:\n",
    "    testx.append(eval(i)[0])\n",
    "    testy.append(eval(i)[1])\n",
    "    testz.append(eval(i)[2])"
   ]
  },
  {
   "cell_type": "code",
   "execution_count": 31,
   "id": "published-browse",
   "metadata": {},
   "outputs": [],
   "source": [
    "from mpl_toolkits import mplot3d"
   ]
  },
  {
   "cell_type": "code",
   "execution_count": 41,
   "id": "ethical-partner",
   "metadata": {},
   "outputs": [
    {
     "data": {
      "text/plain": [
       "<mpl_toolkits.mplot3d.art3d.Path3DCollection at 0x7f8ad9268320>"
      ]
     },
     "execution_count": 41,
     "metadata": {},
     "output_type": "execute_result"
    },
    {
     "data": {
      "image/png": "[encoded data removed]",
      "text/plain": [
       "<Figure size 432x288 with 1 Axes>"
      ]
     },
     "metadata": {
      "needs_background": "light"
     },
     "output_type": "display_data"
    }
   ],
   "source": [
    "ax = plt.axes(projection='3d')\n",
    "ax.scatter3D(testx,testz,testy,c=testy)"
   ]
  },
  {
   "cell_type": "code",
   "execution_count": 45,
   "id": "heavy-cause",
   "metadata": {},
   "outputs": [
    {
     "data": {
      "text/plain": [
       "<matplotlib.collections.PathCollection at 0x7f8ad920c7f0>"
      ]
     },
     "execution_count": 45,
     "metadata": {},
     "output_type": "execute_result"
    },
    {
     "data": {
      "image/png": "[encoded data removed]",
      "text/plain": [
       "<Figure size 432x288 with 1 Axes>"
      ]
     },
     "metadata": {
      "needs_background": "light"
     },
     "output_type": "display_data"
    }
   ],
   "source": [
    "plt.scatter(testz,testx)"
   ]
  },
  {
   "cell_type": "code",
   "execution_count": 47,
   "id": "hydraulic-gabriel",
   "metadata": {},
   "outputs": [
    {
     "data": {
      "text/plain": [
       "<matplotlib.collections.PathCollection at 0x7f8ad97dfe10>"
      ]
     },
     "execution_count": 47,
     "metadata": {},
     "output_type": "execute_result"
    },
    {
     "data": {
      "image/png": "[encoded data removed]",
      "text/plain": [
       "<Figure size 432x288 with 1 Axes>"
      ]
     },
     "metadata": {
      "needs_background": "light"
     },
     "output_type": "display_data"
    }
   ],
   "source": [
    "plt.scatter(testy,testx)"
   ]
  },
  {
   "cell_type": "code",
   "execution_count": 48,
   "id": "distinct-gasoline",
   "metadata": {},
   "outputs": [
    {
     "data": {
      "text/plain": [
       "<matplotlib.collections.PathCollection at 0x7f8ad987fba8>"
      ]
     },
     "execution_count": 48,
     "metadata": {},
     "output_type": "execute_result"
    },
    {
     "data": {
      "image/png": "[encoded data removed]",
      "text/plain": [
       "<Figure size 432x288 with 1 Axes>"
      ]
     },
     "metadata": {
      "needs_background": "light"
     },
     "output_type": "display_data"
    }
   ],
   "source": [
    "plt.scatter(testy,testz)"
   ]
  },
  {
   "cell_type": "code",
   "execution_count": 59,
   "id": "renewable-forge",
   "metadata": {},
   "outputs": [
    {
     "data": {
      "text/plain": [
       "<matplotlib.collections.PathCollection at 0x7f89aec17208>"
      ]
     },
     "execution_count": 59,
     "metadata": {},
     "output_type": "execute_result"
    },
    {
     "data": {
      "image/png": "[encoded data removed]",
      "text/plain": [
       "<Figure size 432x288 with 1 Axes>"
      ]
     },
     "metadata": {
      "needs_background": "light"
     },
     "output_type": "display_data"
    }
   ],
   "source": [
    "mpra=tif.imread('/Users/emilydennis/Desktop/lightsheet/mPRA.tif')\n"
   ]
  },
  {
   "cell_type": "code",
   "execution_count": 60,
   "id": "external-trader",
   "metadata": {},
   "outputs": [
    {
     "data": {
      "text/html": [
       "<div>\n",
       "<style scoped>\n",
       "    .dataframe tbody tr th:only-of-type {\n",
       "        vertical-align: middle;\n",
       "    }\n",
       "\n",
       "    .dataframe tbody tr th {\n",
       "        vertical-align: top;\n",
       "    }\n",
       "\n",
       "    .dataframe thead th {\n",
       "        text-align: right;\n",
       "    }\n",
       "</style>\n",
       "<table border=\"1\" class=\"dataframe\">\n",
       "  <thead>\n",
       "    <tr style=\"text-align: right;\">\n",
       "      <th></th>\n",
       "      <th>Unnamed: 0</th>\n",
       "      <th>file_name</th>\n",
       "      <th>indices</th>\n",
       "    </tr>\n",
       "  </thead>\n",
       "  <tbody>\n",
       "    <tr>\n",
       "      <th>0</th>\n",
       "      <td>0</td>\n",
       "      <td>e143_reg_in_atl.tif</td>\n",
       "      <td>(365, 541, 40)</td>\n",
       "    </tr>\n",
       "    <tr>\n",
       "      <th>1</th>\n",
       "      <td>1</td>\n",
       "      <td>h234_cell_to_reg.tif</td>\n",
       "      <td>(141, 627, 393)</td>\n",
       "    </tr>\n",
       "    <tr>\n",
       "      <th>2</th>\n",
       "      <td>2</td>\n",
       "      <td>e144_reg_in_atl.tif</td>\n",
       "      <td>(385, 533, 41)</td>\n",
       "    </tr>\n",
       "    <tr>\n",
       "      <th>3</th>\n",
       "      <td>3</td>\n",
       "      <td>a253_cell_to_reg.tif</td>\n",
       "      <td>(148, 629, 333)</td>\n",
       "    </tr>\n",
       "    <tr>\n",
       "      <th>4</th>\n",
       "      <td>4</td>\n",
       "      <td>e142_reg_in_atl.tif</td>\n",
       "      <td>(367, 551, 22)</td>\n",
       "    </tr>\n",
       "    <tr>\n",
       "      <th>5</th>\n",
       "      <td>5</td>\n",
       "      <td>e153_reg_in_atl.tif</td>\n",
       "      <td>(378, 710, 64)</td>\n",
       "    </tr>\n",
       "    <tr>\n",
       "      <th>6</th>\n",
       "      <td>6</td>\n",
       "      <td>h234_in_atl.tif</td>\n",
       "      <td>(366, 527, 23)</td>\n",
       "    </tr>\n",
       "    <tr>\n",
       "      <th>7</th>\n",
       "      <td>7</td>\n",
       "      <td>j316_reg_in_atl.tif</td>\n",
       "      <td>(483, 426, 151)</td>\n",
       "    </tr>\n",
       "    <tr>\n",
       "      <th>8</th>\n",
       "      <td>8</td>\n",
       "      <td>j319_reg_in_atl.tif</td>\n",
       "      <td>(370, 579, 46)</td>\n",
       "    </tr>\n",
       "    <tr>\n",
       "      <th>9</th>\n",
       "      <td>9</td>\n",
       "      <td>e144_cell_to_reg.tif</td>\n",
       "      <td>(18, 694, 342)</td>\n",
       "    </tr>\n",
       "    <tr>\n",
       "      <th>10</th>\n",
       "      <td>10</td>\n",
       "      <td>e143_cell_to_reg.tif</td>\n",
       "      <td>(40, 565, 400)</td>\n",
       "    </tr>\n",
       "    <tr>\n",
       "      <th>11</th>\n",
       "      <td>11</td>\n",
       "      <td>j319_cell_to_reg.tif</td>\n",
       "      <td>(130, 732, 372)</td>\n",
       "    </tr>\n",
       "    <tr>\n",
       "      <th>12</th>\n",
       "      <td>12</td>\n",
       "      <td>j316_cell_to_reg.tif</td>\n",
       "      <td>(126, 707, 335)</td>\n",
       "    </tr>\n",
       "    <tr>\n",
       "      <th>13</th>\n",
       "      <td>13</td>\n",
       "      <td>j317_reg_in_atl.tif</td>\n",
       "      <td>(387, 580, 58)</td>\n",
       "    </tr>\n",
       "    <tr>\n",
       "      <th>14</th>\n",
       "      <td>14</td>\n",
       "      <td>e142_cell_to_reg.tif</td>\n",
       "      <td>(133, 694, 355)</td>\n",
       "    </tr>\n",
       "    <tr>\n",
       "      <th>15</th>\n",
       "      <td>15</td>\n",
       "      <td>j317_cell_to_reg.tif</td>\n",
       "      <td>(106, 762, 331)</td>\n",
       "    </tr>\n",
       "    <tr>\n",
       "      <th>16</th>\n",
       "      <td>16</td>\n",
       "      <td>e153_cell_to_reg.tif</td>\n",
       "      <td>(133, 664, 329)</td>\n",
       "    </tr>\n",
       "  </tbody>\n",
       "</table>\n",
       "</div>"
      ],
      "text/plain": [
       "    Unnamed: 0             file_name          indices\n",
       "0            0   e143_reg_in_atl.tif   (365, 541, 40)\n",
       "1            1  h234_cell_to_reg.tif  (141, 627, 393)\n",
       "2            2   e144_reg_in_atl.tif   (385, 533, 41)\n",
       "3            3  a253_cell_to_reg.tif  (148, 629, 333)\n",
       "4            4   e142_reg_in_atl.tif   (367, 551, 22)\n",
       "5            5   e153_reg_in_atl.tif   (378, 710, 64)\n",
       "6            6       h234_in_atl.tif   (366, 527, 23)\n",
       "7            7   j316_reg_in_atl.tif  (483, 426, 151)\n",
       "8            8   j319_reg_in_atl.tif   (370, 579, 46)\n",
       "9            9  e144_cell_to_reg.tif   (18, 694, 342)\n",
       "10          10  e143_cell_to_reg.tif   (40, 565, 400)\n",
       "11          11  j319_cell_to_reg.tif  (130, 732, 372)\n",
       "12          12  j316_cell_to_reg.tif  (126, 707, 335)\n",
       "13          13   j317_reg_in_atl.tif   (387, 580, 58)\n",
       "14          14  e142_cell_to_reg.tif  (133, 694, 355)\n",
       "15          15  j317_cell_to_reg.tif  (106, 762, 331)\n",
       "16          16  e153_cell_to_reg.tif  (133, 664, 329)"
      ]
     },
     "execution_count": 60,
     "metadata": {},
     "output_type": "execute_result"
    }
   ],
   "source": []
  },
  {
   "cell_type": "code",
   "execution_count": null,
   "id": "rental-ratio",
   "metadata": {},
   "outputs": [],
   "source": []
  }
 ],
 "metadata": {
  "kernelspec": {
   "display_name": "Python 3",
   "language": "python",
   "name": "python3"
  },
  "language_info": {
   "codemirror_mode": {
    "name": "ipython",
    "version": 3
   },
   "file_extension": ".py",
   "mimetype": "text/x-python",
   "name": "python",
   "nbconvert_exporter": "python",
   "pygments_lexer": "ipython3",
   "version": "3.7.3"
  },
  "toc": {
   "base_numbering": 1,
   "nav_menu": {},
   "number_sections": true,
   "sideBar": true,
   "skip_h1_title": false,
   "title_cell": "Table of Contents",
   "title_sidebar": "Contents",
   "toc_cell": false,
   "toc_position": {},
   "toc_section_display": true,
   "toc_window_display": false
  }
 },
 "nbformat": 4,
 "nbformat_minor": 5
}

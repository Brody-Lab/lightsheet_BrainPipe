{
 "cells": [
  {
   "cell_type": "code",
   "execution_count": 1,
   "id": "advance-cigarette",
   "metadata": {},
   "outputs": [],
   "source": [
    "# imports\n",
    "import numpy as np\n",
    "import tifffile as tif\n",
    "import matplotlib.pyplot as plt\n",
    "import pandas as pd\n",
    "import os, sys"
   ]
  },
  {
   "cell_type": "code",
   "execution_count": 2,
   "id": "hungarian-timothy",
   "metadata": {},
   "outputs": [],
   "source": [
    "folder_of_tiffs = '/Users/emilydennis/Desktop/spimout/'\n",
    "list_of_tiffs = [file for file in os.listdir(folder_of_tiffs) if file[-4:]=='.tif']"
   ]
  },
  {
   "cell_type": "code",
   "execution_count": 3,
   "id": "cellular-single",
   "metadata": {},
   "outputs": [
    {
     "ename": "KeyboardInterrupt",
     "evalue": "",
     "output_type": "error",
     "traceback": [
      "\u001b[0;31m---------------------------------------------------------------------------\u001b[0m",
      "\u001b[0;31mKeyboardInterrupt\u001b[0m                         Traceback (most recent call last)",
      "\u001b[0;32m<ipython-input-3-e7d364d675fe>\u001b[0m in \u001b[0;36m<module>\u001b[0;34m\u001b[0m\n\u001b[1;32m      3\u001b[0m \u001b[0mmax_in_reg\u001b[0m \u001b[0;34m=\u001b[0m \u001b[0;34m[\u001b[0m\u001b[0;34m]\u001b[0m\u001b[0;34m\u001b[0m\u001b[0;34m\u001b[0m\u001b[0m\n\u001b[1;32m      4\u001b[0m \u001b[0;32mfor\u001b[0m \u001b[0mfile\u001b[0m \u001b[0;32min\u001b[0m \u001b[0mlist_of_tiffs\u001b[0m\u001b[0;34m:\u001b[0m\u001b[0;34m\u001b[0m\u001b[0;34m\u001b[0m\u001b[0m\n\u001b[0;32m----> 5\u001b[0;31m     \u001b[0mtiff_file\u001b[0m \u001b[0;34m=\u001b[0m \u001b[0mtif\u001b[0m\u001b[0;34m.\u001b[0m\u001b[0mimread\u001b[0m\u001b[0;34m(\u001b[0m\u001b[0mos\u001b[0m\u001b[0;34m.\u001b[0m\u001b[0mpath\u001b[0m\u001b[0;34m.\u001b[0m\u001b[0mjoin\u001b[0m\u001b[0;34m(\u001b[0m\u001b[0mfolder_of_tiffs\u001b[0m\u001b[0;34m,\u001b[0m\u001b[0mfile\u001b[0m\u001b[0;34m)\u001b[0m\u001b[0;34m)\u001b[0m\u001b[0;34m\u001b[0m\u001b[0;34m\u001b[0m\u001b[0m\n\u001b[0m\u001b[1;32m      6\u001b[0m     \u001b[0mindex_tuple\u001b[0m \u001b[0;34m=\u001b[0m \u001b[0mnp\u001b[0m\u001b[0;34m.\u001b[0m\u001b[0munravel_index\u001b[0m\u001b[0;34m(\u001b[0m\u001b[0mnp\u001b[0m\u001b[0;34m.\u001b[0m\u001b[0margmax\u001b[0m\u001b[0;34m(\u001b[0m\u001b[0mtiff_file\u001b[0m\u001b[0;34m)\u001b[0m\u001b[0;34m,\u001b[0m\u001b[0mtiff_file\u001b[0m\u001b[0;34m.\u001b[0m\u001b[0mshape\u001b[0m\u001b[0;34m)\u001b[0m\u001b[0;34m\u001b[0m\u001b[0;34m\u001b[0m\u001b[0m\n\u001b[1;32m      7\u001b[0m     \u001b[0mmax_indices\u001b[0m\u001b[0;34m.\u001b[0m\u001b[0mappend\u001b[0m\u001b[0;34m(\u001b[0m\u001b[0;34m[\u001b[0m\u001b[0mfile\u001b[0m\u001b[0;34m,\u001b[0m\u001b[0mindex_tuple\u001b[0m\u001b[0;34m]\u001b[0m\u001b[0;34m)\u001b[0m\u001b[0;34m\u001b[0m\u001b[0;34m\u001b[0m\u001b[0m\n",
      "\u001b[0;32m/opt/anaconda3/envs/ls2/lib/python3.8/site-packages/tifffile/tifffile.py\u001b[0m in \u001b[0;36mimread\u001b[0;34m(files, aszarr, **kwargs)\u001b[0m\n\u001b[1;32m    776\u001b[0m                 \u001b[0;32mif\u001b[0m \u001b[0maszarr\u001b[0m\u001b[0;34m:\u001b[0m\u001b[0;34m\u001b[0m\u001b[0;34m\u001b[0m\u001b[0m\n\u001b[1;32m    777\u001b[0m                     \u001b[0;32mreturn\u001b[0m \u001b[0mtif\u001b[0m\u001b[0;34m.\u001b[0m\u001b[0maszarr\u001b[0m\u001b[0;34m(\u001b[0m\u001b[0;34m**\u001b[0m\u001b[0mkwargs\u001b[0m\u001b[0;34m)\u001b[0m\u001b[0;34m\u001b[0m\u001b[0;34m\u001b[0m\u001b[0m\n\u001b[0;32m--> 778\u001b[0;31m                 \u001b[0;32mreturn\u001b[0m \u001b[0mtif\u001b[0m\u001b[0;34m.\u001b[0m\u001b[0masarray\u001b[0m\u001b[0;34m(\u001b[0m\u001b[0;34m**\u001b[0m\u001b[0mkwargs\u001b[0m\u001b[0;34m)\u001b[0m\u001b[0;34m\u001b[0m\u001b[0;34m\u001b[0m\u001b[0m\n\u001b[0m\u001b[1;32m    779\u001b[0m \u001b[0;34m\u001b[0m\u001b[0m\n\u001b[1;32m    780\u001b[0m     \u001b[0;32mwith\u001b[0m \u001b[0mTiffSequence\u001b[0m\u001b[0;34m(\u001b[0m\u001b[0mfiles\u001b[0m\u001b[0;34m,\u001b[0m \u001b[0;34m**\u001b[0m\u001b[0mkwargs_seq\u001b[0m\u001b[0;34m)\u001b[0m \u001b[0;32mas\u001b[0m \u001b[0mimseq\u001b[0m\u001b[0;34m:\u001b[0m\u001b[0;34m\u001b[0m\u001b[0;34m\u001b[0m\u001b[0m\n",
      "\u001b[0;32m/opt/anaconda3/envs/ls2/lib/python3.8/site-packages/tifffile/tifffile.py\u001b[0m in \u001b[0;36masarray\u001b[0;34m(self, key, series, level, squeeze, out, maxworkers)\u001b[0m\n\u001b[1;32m   3113\u001b[0m             \u001b[0mresult\u001b[0m \u001b[0;34m=\u001b[0m \u001b[0mpages\u001b[0m\u001b[0;34m[\u001b[0m\u001b[0;36m0\u001b[0m\u001b[0;34m]\u001b[0m\u001b[0;34m.\u001b[0m\u001b[0masarray\u001b[0m\u001b[0;34m(\u001b[0m\u001b[0mout\u001b[0m\u001b[0;34m=\u001b[0m\u001b[0mout\u001b[0m\u001b[0;34m,\u001b[0m \u001b[0mmaxworkers\u001b[0m\u001b[0;34m=\u001b[0m\u001b[0mmaxworkers\u001b[0m\u001b[0;34m)\u001b[0m\u001b[0;34m\u001b[0m\u001b[0;34m\u001b[0m\u001b[0m\n\u001b[1;32m   3114\u001b[0m         \u001b[0;32melse\u001b[0m\u001b[0;34m:\u001b[0m\u001b[0;34m\u001b[0m\u001b[0;34m\u001b[0m\u001b[0m\n\u001b[0;32m-> 3115\u001b[0;31m             \u001b[0mresult\u001b[0m \u001b[0;34m=\u001b[0m \u001b[0mstack_pages\u001b[0m\u001b[0;34m(\u001b[0m\u001b[0mpages\u001b[0m\u001b[0;34m,\u001b[0m \u001b[0mout\u001b[0m\u001b[0;34m=\u001b[0m\u001b[0mout\u001b[0m\u001b[0;34m,\u001b[0m \u001b[0mmaxworkers\u001b[0m\u001b[0;34m=\u001b[0m\u001b[0mmaxworkers\u001b[0m\u001b[0;34m)\u001b[0m\u001b[0;34m\u001b[0m\u001b[0;34m\u001b[0m\u001b[0m\n\u001b[0m\u001b[1;32m   3116\u001b[0m \u001b[0;34m\u001b[0m\u001b[0m\n\u001b[1;32m   3117\u001b[0m         \u001b[0;32mif\u001b[0m \u001b[0mresult\u001b[0m \u001b[0;32mis\u001b[0m \u001b[0;32mNone\u001b[0m\u001b[0;34m:\u001b[0m\u001b[0;34m\u001b[0m\u001b[0;34m\u001b[0m\u001b[0m\n",
      "\u001b[0;32m/opt/anaconda3/envs/ls2/lib/python3.8/site-packages/tifffile/tifffile.py\u001b[0m in \u001b[0;36mstack_pages\u001b[0;34m(pages, out, maxworkers, **kwargs)\u001b[0m\n\u001b[1;32m  15264\u001b[0m         \u001b[0mpage0\u001b[0m\u001b[0;34m.\u001b[0m\u001b[0mdecode\u001b[0m  \u001b[0;31m# init TiffPage.decode function\u001b[0m\u001b[0;34m\u001b[0m\u001b[0;34m\u001b[0m\u001b[0m\n\u001b[1;32m  15265\u001b[0m         \u001b[0;32mwith\u001b[0m \u001b[0mThreadPoolExecutor\u001b[0m\u001b[0;34m(\u001b[0m\u001b[0mmaxworkers\u001b[0m\u001b[0;34m)\u001b[0m \u001b[0;32mas\u001b[0m \u001b[0mexecutor\u001b[0m\u001b[0;34m:\u001b[0m\u001b[0;34m\u001b[0m\u001b[0;34m\u001b[0m\u001b[0m\n\u001b[0;32m> 15266\u001b[0;31m             \u001b[0;32mfor\u001b[0m \u001b[0m_\u001b[0m \u001b[0;32min\u001b[0m \u001b[0mexecutor\u001b[0m\u001b[0;34m.\u001b[0m\u001b[0mmap\u001b[0m\u001b[0;34m(\u001b[0m\u001b[0mfunc\u001b[0m\u001b[0;34m,\u001b[0m \u001b[0mpages\u001b[0m\u001b[0;34m,\u001b[0m \u001b[0mrange\u001b[0m\u001b[0;34m(\u001b[0m\u001b[0mnpages\u001b[0m\u001b[0;34m)\u001b[0m\u001b[0;34m)\u001b[0m\u001b[0;34m:\u001b[0m\u001b[0;34m\u001b[0m\u001b[0;34m\u001b[0m\u001b[0m\n\u001b[0m\u001b[1;32m  15267\u001b[0m                 \u001b[0;32mpass\u001b[0m\u001b[0;34m\u001b[0m\u001b[0;34m\u001b[0m\u001b[0m\n\u001b[1;32m  15268\u001b[0m \u001b[0;34m\u001b[0m\u001b[0m\n",
      "\u001b[0;32m/opt/anaconda3/envs/ls2/lib/python3.8/concurrent/futures/_base.py\u001b[0m in \u001b[0;36mresult_iterator\u001b[0;34m()\u001b[0m\n\u001b[1;32m    609\u001b[0m                     \u001b[0;31m# Careful not to keep a reference to the popped future\u001b[0m\u001b[0;34m\u001b[0m\u001b[0;34m\u001b[0m\u001b[0;34m\u001b[0m\u001b[0m\n\u001b[1;32m    610\u001b[0m                     \u001b[0;32mif\u001b[0m \u001b[0mtimeout\u001b[0m \u001b[0;32mis\u001b[0m \u001b[0;32mNone\u001b[0m\u001b[0;34m:\u001b[0m\u001b[0;34m\u001b[0m\u001b[0;34m\u001b[0m\u001b[0m\n\u001b[0;32m--> 611\u001b[0;31m                         \u001b[0;32myield\u001b[0m \u001b[0mfs\u001b[0m\u001b[0;34m.\u001b[0m\u001b[0mpop\u001b[0m\u001b[0;34m(\u001b[0m\u001b[0;34m)\u001b[0m\u001b[0;34m.\u001b[0m\u001b[0mresult\u001b[0m\u001b[0;34m(\u001b[0m\u001b[0;34m)\u001b[0m\u001b[0;34m\u001b[0m\u001b[0;34m\u001b[0m\u001b[0m\n\u001b[0m\u001b[1;32m    612\u001b[0m                     \u001b[0;32melse\u001b[0m\u001b[0;34m:\u001b[0m\u001b[0;34m\u001b[0m\u001b[0;34m\u001b[0m\u001b[0m\n\u001b[1;32m    613\u001b[0m                         \u001b[0;32myield\u001b[0m \u001b[0mfs\u001b[0m\u001b[0;34m.\u001b[0m\u001b[0mpop\u001b[0m\u001b[0;34m(\u001b[0m\u001b[0;34m)\u001b[0m\u001b[0;34m.\u001b[0m\u001b[0mresult\u001b[0m\u001b[0;34m(\u001b[0m\u001b[0mend_time\u001b[0m \u001b[0;34m-\u001b[0m \u001b[0mtime\u001b[0m\u001b[0;34m.\u001b[0m\u001b[0mmonotonic\u001b[0m\u001b[0;34m(\u001b[0m\u001b[0;34m)\u001b[0m\u001b[0;34m)\u001b[0m\u001b[0;34m\u001b[0m\u001b[0;34m\u001b[0m\u001b[0m\n",
      "\u001b[0;32m/opt/anaconda3/envs/ls2/lib/python3.8/concurrent/futures/_base.py\u001b[0m in \u001b[0;36mresult\u001b[0;34m(self, timeout)\u001b[0m\n\u001b[1;32m    432\u001b[0m                 \u001b[0;32mreturn\u001b[0m \u001b[0mself\u001b[0m\u001b[0;34m.\u001b[0m\u001b[0m__get_result\u001b[0m\u001b[0;34m(\u001b[0m\u001b[0;34m)\u001b[0m\u001b[0;34m\u001b[0m\u001b[0;34m\u001b[0m\u001b[0m\n\u001b[1;32m    433\u001b[0m \u001b[0;34m\u001b[0m\u001b[0m\n\u001b[0;32m--> 434\u001b[0;31m             \u001b[0mself\u001b[0m\u001b[0;34m.\u001b[0m\u001b[0m_condition\u001b[0m\u001b[0;34m.\u001b[0m\u001b[0mwait\u001b[0m\u001b[0;34m(\u001b[0m\u001b[0mtimeout\u001b[0m\u001b[0;34m)\u001b[0m\u001b[0;34m\u001b[0m\u001b[0;34m\u001b[0m\u001b[0m\n\u001b[0m\u001b[1;32m    435\u001b[0m \u001b[0;34m\u001b[0m\u001b[0m\n\u001b[1;32m    436\u001b[0m             \u001b[0;32mif\u001b[0m \u001b[0mself\u001b[0m\u001b[0;34m.\u001b[0m\u001b[0m_state\u001b[0m \u001b[0;32min\u001b[0m \u001b[0;34m[\u001b[0m\u001b[0mCANCELLED\u001b[0m\u001b[0;34m,\u001b[0m \u001b[0mCANCELLED_AND_NOTIFIED\u001b[0m\u001b[0;34m]\u001b[0m\u001b[0;34m:\u001b[0m\u001b[0;34m\u001b[0m\u001b[0;34m\u001b[0m\u001b[0m\n",
      "\u001b[0;32m/opt/anaconda3/envs/ls2/lib/python3.8/threading.py\u001b[0m in \u001b[0;36mwait\u001b[0;34m(self, timeout)\u001b[0m\n\u001b[1;32m    300\u001b[0m         \u001b[0;32mtry\u001b[0m\u001b[0;34m:\u001b[0m    \u001b[0;31m# restore state no matter what (e.g., KeyboardInterrupt)\u001b[0m\u001b[0;34m\u001b[0m\u001b[0;34m\u001b[0m\u001b[0m\n\u001b[1;32m    301\u001b[0m             \u001b[0;32mif\u001b[0m \u001b[0mtimeout\u001b[0m \u001b[0;32mis\u001b[0m \u001b[0;32mNone\u001b[0m\u001b[0;34m:\u001b[0m\u001b[0;34m\u001b[0m\u001b[0;34m\u001b[0m\u001b[0m\n\u001b[0;32m--> 302\u001b[0;31m                 \u001b[0mwaiter\u001b[0m\u001b[0;34m.\u001b[0m\u001b[0macquire\u001b[0m\u001b[0;34m(\u001b[0m\u001b[0;34m)\u001b[0m\u001b[0;34m\u001b[0m\u001b[0;34m\u001b[0m\u001b[0m\n\u001b[0m\u001b[1;32m    303\u001b[0m                 \u001b[0mgotit\u001b[0m \u001b[0;34m=\u001b[0m \u001b[0;32mTrue\u001b[0m\u001b[0;34m\u001b[0m\u001b[0;34m\u001b[0m\u001b[0m\n\u001b[1;32m    304\u001b[0m             \u001b[0;32melse\u001b[0m\u001b[0;34m:\u001b[0m\u001b[0;34m\u001b[0m\u001b[0;34m\u001b[0m\u001b[0m\n",
      "\u001b[0;31mKeyboardInterrupt\u001b[0m: "
     ]
    }
   ],
   "source": [
    "max_indices = []\n",
    "max_in_atl = []\n",
    "max_in_reg = []\n",
    "for file in list_of_tiffs:\n",
    "    print(file)\n",
    "    tiff_file = tif.imread(os.path.join(folder_of_tiffs,file))\n",
    "    index_tuple = np.unravel_index(np.argmax(tiff_file),tiff_file.shape)\n",
    "    max_indices.append([file,index_tuple])\n",
    "    if 'atl' in file:\n",
    "        max_in_atl.append([file,index_tuple])\n",
    "    else:\n",
    "        max_in_reg.append([file,index_tuple])"
   ]
  },
  {
   "cell_type": "code",
   "execution_count": null,
   "id": "earned-width",
   "metadata": {},
   "outputs": [],
   "source": [
    "pd.DataFrame(max_indices,columns=['file_name','indices']).to_csv('/Users/emilydennis/Desktop/cm2_max_indices.csv')"
   ]
  },
  {
   "cell_type": "code",
   "execution_count": null,
   "id": "successful-hunger",
   "metadata": {},
   "outputs": [],
   "source": [
    "max_in_atl_df = pd.DataFrame(max_in_atl,columns=[\"name\",\"tuple\"])\n",
    "max_in_reg_df = pd.DataFrame(max_in_reg,columns=[\"name\",\"tuple\"])"
   ]
  },
  {
   "cell_type": "code",
   "execution_count": 4,
   "id": "ranking-antigua",
   "metadata": {},
   "outputs": [],
   "source": [
    "max_indices_df = pd.read_csv('/Users/emilydennis/Desktop/cm2_max_indices.csv')"
   ]
  },
  {
   "cell_type": "code",
   "execution_count": 7,
   "id": "confident-affiliation",
   "metadata": {},
   "outputs": [],
   "source": [
    "max_indices_df=max_indices_df.drop(columns=['Unnamed: 0'])"
   ]
  },
  {
   "cell_type": "code",
   "execution_count": 38,
   "id": "neither-bermuda",
   "metadata": {},
   "outputs": [],
   "source": [
    "max_in_atl_df = max_indices_df[max_indices_df.file_name.str.contains('atl.tif')]\n",
    "max_in_reg_df = max_indices_df[max_indices_df.file_name.str.contains('to_reg')]"
   ]
  },
  {
   "cell_type": "code",
   "execution_count": 56,
   "id": "imposed-template",
   "metadata": {},
   "outputs": [],
   "source": [
    "j316=tif.imread('/Users/emilydennis/Desktop/spimout/j316_reg_in_atl.tif')"
   ]
  },
  {
   "cell_type": "code",
   "execution_count": 80,
   "id": "colonial-block",
   "metadata": {},
   "outputs": [
    {
     "data": {
      "text/plain": [
       "741"
      ]
     },
     "execution_count": 80,
     "metadata": {},
     "output_type": "execute_result"
    }
   ],
   "source": [
    "np.where(j316==1379)[1][0]"
   ]
  },
  {
   "cell_type": "code",
   "execution_count": 81,
   "id": "happy-still",
   "metadata": {},
   "outputs": [
    {
     "name": "stdout",
     "output_type": "stream",
     "text": [
      "i is 1379 and tuple (array([127]), array([741]), array([212]))\n",
      "i is 1384 and tuple (array([412]), array([565]), array([13]))\n",
      "i is 1397 and tuple (array([381]), array([578]), array([27]))\n",
      "i is 1418 and tuple (array([321]), array([1045]), array([149]))\n",
      "i is 1423 and tuple (array([128]), array([741]), array([212]))\n",
      "i is 1435 and tuple (array([410]), array([569]), array([13]))\n",
      "i is 1436 and tuple (array([411]), array([567]), array([14]))\n",
      "i is 1445 and tuple (array([409]), array([565]), array([16]))\n",
      "i is 1453 and tuple (array([410]), array([565]), array([15]))\n",
      "i is 1463 and tuple (array([409, 412]), array([570, 567]), array([14, 13]))\n",
      "i is 1463 and tuple (array([409, 412]), array([570, 567]), array([14, 13]))\n",
      "i is 1468 and tuple (array([411]), array([566]), array([14]))\n",
      "i is 1482 and tuple (array([410]), array([567]), array([13]))\n",
      "i is 1490 and tuple (array([410]), array([568]), array([14]))\n",
      "i is 1491 and tuple (array([410]), array([566]), array([14]))\n",
      "i is 1514 and tuple (array([322]), array([1045]), array([147]))\n",
      "i is 1521 and tuple (array([320]), array([1044]), array([146]))\n",
      "i is 1531 and tuple (array([412]), array([568]), array([13]))\n",
      "i is 1536 and tuple (array([409]), array([567]), array([15]))\n",
      "i is 1542 and tuple (array([411]), array([567]), array([13]))\n",
      "i is 1543 and tuple (array([322]), array([1045]), array([149]))\n",
      "i is 1560 and tuple (array([411]), array([565]), array([14]))\n",
      "i is 1564 and tuple (array([410]), array([568]), array([13]))\n",
      "i is 1566 and tuple (array([409]), array([566]), array([15]))\n",
      "i is 1618 and tuple (array([409]), array([569]), array([15]))\n",
      "i is 1619 and tuple (array([409]), array([570]), array([15]))\n",
      "i is 1629 and tuple (array([408]), array([569]), array([15]))\n",
      "i is 1634 and tuple (array([408]), array([568]), array([15]))\n",
      "i is 1648 and tuple (array([410]), array([569]), array([14]))\n",
      "i is 1680 and tuple (array([409]), array([569]), array([14]))\n"
     ]
    }
   ],
   "source": [
    "for i in np.sort(np.ravel(j316))[-40:]:\n",
    "    print('i is {} and tuple {}'.format(i,np.where(j316==i)))"
   ]
  },
  {
   "cell_type": "code",
   "execution_count": 85,
   "id": "turkish-liquid",
   "metadata": {},
   "outputs": [
    {
     "name": "stderr",
     "output_type": "stream",
     "text": [
      "/opt/anaconda3/envs/ls2/lib/python3.8/site-packages/IPython/core/interactiveshell.py:3437: SettingWithCopyWarning: \n",
      "A value is trying to be set on a copy of a slice from a DataFrame\n",
      "\n",
      "See the caveats in the documentation: https://pandas.pydata.org/pandas-docs/stable/user_guide/indexing.html#returning-a-view-versus-a-copy\n",
      "  exec(code_obj, self.user_global_ns, self.user_ns)\n"
     ]
    },
    {
     "data": {
      "text/html": [
       "<div>\n",
       "<style scoped>\n",
       "    .dataframe tbody tr th:only-of-type {\n",
       "        vertical-align: middle;\n",
       "    }\n",
       "\n",
       "    .dataframe tbody tr th {\n",
       "        vertical-align: top;\n",
       "    }\n",
       "\n",
       "    .dataframe thead th {\n",
       "        text-align: right;\n",
       "    }\n",
       "</style>\n",
       "<table border=\"1\" class=\"dataframe\">\n",
       "  <thead>\n",
       "    <tr style=\"text-align: right;\">\n",
       "      <th></th>\n",
       "      <th>file_name</th>\n",
       "      <th>indices</th>\n",
       "    </tr>\n",
       "  </thead>\n",
       "  <tbody>\n",
       "    <tr>\n",
       "      <th>0</th>\n",
       "      <td>e143_reg_in_atl.tif</td>\n",
       "      <td>(365, 541, 40)</td>\n",
       "    </tr>\n",
       "    <tr>\n",
       "      <th>2</th>\n",
       "      <td>e144_reg_in_atl.tif</td>\n",
       "      <td>(385, 533, 41)</td>\n",
       "    </tr>\n",
       "    <tr>\n",
       "      <th>4</th>\n",
       "      <td>e142_reg_in_atl.tif</td>\n",
       "      <td>(367, 551, 22)</td>\n",
       "    </tr>\n",
       "    <tr>\n",
       "      <th>5</th>\n",
       "      <td>e153_reg_in_atl.tif</td>\n",
       "      <td>(378, 710, 64)</td>\n",
       "    </tr>\n",
       "    <tr>\n",
       "      <th>6</th>\n",
       "      <td>h234_in_atl.tif</td>\n",
       "      <td>(366, 527, 23)</td>\n",
       "    </tr>\n",
       "    <tr>\n",
       "      <th>7</th>\n",
       "      <td>j316_reg_in_atl.tif</td>\n",
       "      <td>(381, 578, 27)</td>\n",
       "    </tr>\n",
       "    <tr>\n",
       "      <th>8</th>\n",
       "      <td>j319_reg_in_atl.tif</td>\n",
       "      <td>(370, 579, 46)</td>\n",
       "    </tr>\n",
       "    <tr>\n",
       "      <th>13</th>\n",
       "      <td>j317_reg_in_atl.tif</td>\n",
       "      <td>(387, 580, 58)</td>\n",
       "    </tr>\n",
       "  </tbody>\n",
       "</table>\n",
       "</div>"
      ],
      "text/plain": [
       "              file_name         indices\n",
       "0   e143_reg_in_atl.tif  (365, 541, 40)\n",
       "2   e144_reg_in_atl.tif  (385, 533, 41)\n",
       "4   e142_reg_in_atl.tif  (367, 551, 22)\n",
       "5   e153_reg_in_atl.tif  (378, 710, 64)\n",
       "6       h234_in_atl.tif  (366, 527, 23)\n",
       "7   j316_reg_in_atl.tif  (381, 578, 27)\n",
       "8   j319_reg_in_atl.tif  (370, 579, 46)\n",
       "13  j317_reg_in_atl.tif  (387, 580, 58)"
      ]
     },
     "execution_count": 85,
     "metadata": {},
     "output_type": "execute_result"
    }
   ],
   "source": [
    "max_in_atl_df.indices[7] = '(381, 578, 27)'\n",
    "max_in_atl_df"
   ]
  },
  {
   "cell_type": "code",
   "execution_count": 87,
   "id": "consecutive-interview",
   "metadata": {},
   "outputs": [
    {
     "data": {
      "text/plain": [
       "(0.0, 1150.0)"
      ]
     },
     "execution_count": 87,
     "metadata": {},
     "output_type": "execute_result"
    },
    {
     "data": {
      "image/png": "[encoded data removed]",
      "text/plain": [
       "<Figure size 432x288 with 1 Axes>"
      ]
     },
     "metadata": {
      "needs_background": "light"
     },
     "output_type": "display_data"
    }
   ],
   "source": [
    "xs=[]\n",
    "ys=[]\n",
    "for locale in max_in_atl_df.indices:\n",
    "    xs.append(eval(locale)[1])\n",
    "    ys.append(eval(locale)[0])\n",
    "plt.scatter(ys,xs)\n",
    "plt.xlim([0,618])\n",
    "plt.ylim([0,1150])\n",
    "# from here, need to check j316_reg_in_atl -- manually 'fixed' j316_reg_in_atl\n",
    "# e153_reg_in_atl had bad alignment! re-align (cerebellum stretched weird?)"
   ]
  },
  {
   "cell_type": "code",
   "execution_count": 88,
   "id": "legal-beverage",
   "metadata": {},
   "outputs": [
    {
     "name": "stderr",
     "output_type": "stream",
     "text": [
      "/opt/anaconda3/envs/ls2/lib/python3.8/site-packages/IPython/core/interactiveshell.py:3437: SettingWithCopyWarning: \n",
      "A value is trying to be set on a copy of a slice from a DataFrame\n",
      "\n",
      "See the caveats in the documentation: https://pandas.pydata.org/pandas-docs/stable/user_guide/indexing.html#returning-a-view-versus-a-copy\n",
      "  exec(code_obj, self.user_global_ns, self.user_ns)\n"
     ]
    }
   ],
   "source": [
    "max_in_reg_df.indices[9]='(103,701,339)'\n",
    "max_in_reg_df.indices[10]='(85,568,394)'"
   ]
  },
  {
   "cell_type": "code",
   "execution_count": 95,
   "id": "knowing-complex",
   "metadata": {},
   "outputs": [
    {
     "data": {
      "text/html": [
       "<div>\n",
       "<style scoped>\n",
       "    .dataframe tbody tr th:only-of-type {\n",
       "        vertical-align: middle;\n",
       "    }\n",
       "\n",
       "    .dataframe tbody tr th {\n",
       "        vertical-align: top;\n",
       "    }\n",
       "\n",
       "    .dataframe thead th {\n",
       "        text-align: right;\n",
       "    }\n",
       "</style>\n",
       "<table border=\"1\" class=\"dataframe\">\n",
       "  <thead>\n",
       "    <tr style=\"text-align: right;\">\n",
       "      <th></th>\n",
       "      <th>file_name</th>\n",
       "      <th>indices</th>\n",
       "    </tr>\n",
       "  </thead>\n",
       "  <tbody>\n",
       "    <tr>\n",
       "      <th>1</th>\n",
       "      <td>h234_cell_to_reg.tif</td>\n",
       "      <td>(141, 627, 393)</td>\n",
       "    </tr>\n",
       "    <tr>\n",
       "      <th>3</th>\n",
       "      <td>a253_cell_to_reg.tif</td>\n",
       "      <td>(148, 629, 333)</td>\n",
       "    </tr>\n",
       "    <tr>\n",
       "      <th>9</th>\n",
       "      <td>e144_cell_to_reg.tif</td>\n",
       "      <td>(103,701,339)</td>\n",
       "    </tr>\n",
       "    <tr>\n",
       "      <th>10</th>\n",
       "      <td>e143_cell_to_reg.tif</td>\n",
       "      <td>(85,568,394)</td>\n",
       "    </tr>\n",
       "    <tr>\n",
       "      <th>11</th>\n",
       "      <td>j319_cell_to_reg.tif</td>\n",
       "      <td>(130, 732, 372)</td>\n",
       "    </tr>\n",
       "    <tr>\n",
       "      <th>12</th>\n",
       "      <td>j316_cell_to_reg.tif</td>\n",
       "      <td>(126, 707, 335)</td>\n",
       "    </tr>\n",
       "    <tr>\n",
       "      <th>14</th>\n",
       "      <td>e142_cell_to_reg.tif</td>\n",
       "      <td>(133, 694, 355)</td>\n",
       "    </tr>\n",
       "    <tr>\n",
       "      <th>15</th>\n",
       "      <td>j317_cell_to_reg.tif</td>\n",
       "      <td>(106, 762, 331)</td>\n",
       "    </tr>\n",
       "    <tr>\n",
       "      <th>16</th>\n",
       "      <td>e153_cell_to_reg.tif</td>\n",
       "      <td>(133, 664, 329)</td>\n",
       "    </tr>\n",
       "  </tbody>\n",
       "</table>\n",
       "</div>"
      ],
      "text/plain": [
       "               file_name          indices\n",
       "1   h234_cell_to_reg.tif  (141, 627, 393)\n",
       "3   a253_cell_to_reg.tif  (148, 629, 333)\n",
       "9   e144_cell_to_reg.tif    (103,701,339)\n",
       "10  e143_cell_to_reg.tif     (85,568,394)\n",
       "11  j319_cell_to_reg.tif  (130, 732, 372)\n",
       "12  j316_cell_to_reg.tif  (126, 707, 335)\n",
       "14  e142_cell_to_reg.tif  (133, 694, 355)\n",
       "15  j317_cell_to_reg.tif  (106, 762, 331)\n",
       "16  e153_cell_to_reg.tif  (133, 664, 329)"
      ]
     },
     "execution_count": 95,
     "metadata": {},
     "output_type": "execute_result"
    }
   ],
   "source": [
    "max_in_reg_df\n",
    "# pull down from spock reg:atl transform files\n",
    "# for each filename, get base"
   ]
  },
  {
   "cell_type": "code",
   "execution_count": 94,
   "id": "pleased-wireless",
   "metadata": {},
   "outputs": [
    {
     "data": {
      "text/plain": [
       "(0.0, 539.0)"
      ]
     },
     "execution_count": 94,
     "metadata": {},
     "output_type": "execute_result"
    },
    {
     "data": {
      "image/png": "[encoded data removed]",
      "text/plain": [
       "<Figure size 432x288 with 1 Axes>"
      ]
     },
     "metadata": {
      "needs_background": "light"
     },
     "output_type": "display_data"
    }
   ],
   "source": [
    "\n",
    "\n",
    "xs=[]\n",
    "ys=[]\n",
    "for locale in max_in_reg_df.indices:\n",
    "    xs.append(eval(locale)[1])\n",
    "    ys.append(eval(locale)[2])\n",
    "plt.scatter(ys,xs)\n",
    "\n",
    "# from here need to manually check e144_cell_to_reg and e143_cell_to_reg\n",
    "# manual check revealed both blown out, skewing max vals"
   ]
  },
  {
   "cell_type": "code",
   "execution_count": 110,
   "id": "useful-charm",
   "metadata": {},
   "outputs": [],
   "source": [
    "max_in_reg_df.insert(2,'adj_z',0)\n",
    "max_in_reg_df.insert(3,'adj_y',0)\n",
    "max_in_reg_df.insert(4,'adj_x',0)"
   ]
  },
  {
   "cell_type": "code",
   "execution_count": 114,
   "id": "meaning-orbit",
   "metadata": {},
   "outputs": [],
   "source": [
    "max_in_reg_df=max_in_reg_df.reset_index()"
   ]
  },
  {
   "cell_type": "code",
   "execution_count": 2,
   "id": "awful-exploration",
   "metadata": {},
   "outputs": [],
   "source": [
    "import SimpleITK as sitk\n",
    "# for each element of max_in_reg_df get the indices\n",
    "# get the transform files in spimout/h234 for ex\n",
    "# transform points\n",
    "# save in new columns"
   ]
  },
  {
   "cell_type": "code",
   "execution_count": 117,
   "id": "controlled-block",
   "metadata": {},
   "outputs": [
    {
     "data": {
      "text/plain": [
       "(141, 627, 393)"
      ]
     },
     "execution_count": 117,
     "metadata": {},
     "output_type": "execute_result"
    }
   ],
   "source": [
    "i=0\n",
    "# for loop starts here\n",
    "indices = eval(max_in_reg_df.indices[i])\n"
   ]
  },
  {
   "cell_type": "code",
   "execution_count": 115,
   "id": "binary-shopping",
   "metadata": {},
   "outputs": [
    {
     "data": {
      "text/html": [
       "<div>\n",
       "<style scoped>\n",
       "    .dataframe tbody tr th:only-of-type {\n",
       "        vertical-align: middle;\n",
       "    }\n",
       "\n",
       "    .dataframe tbody tr th {\n",
       "        vertical-align: top;\n",
       "    }\n",
       "\n",
       "    .dataframe thead th {\n",
       "        text-align: right;\n",
       "    }\n",
       "</style>\n",
       "<table border=\"1\" class=\"dataframe\">\n",
       "  <thead>\n",
       "    <tr style=\"text-align: right;\">\n",
       "      <th></th>\n",
       "      <th>index</th>\n",
       "      <th>file_name</th>\n",
       "      <th>indices</th>\n",
       "      <th>adj_z</th>\n",
       "      <th>adj_y</th>\n",
       "      <th>adj_x</th>\n",
       "    </tr>\n",
       "  </thead>\n",
       "  <tbody>\n",
       "    <tr>\n",
       "      <th>0</th>\n",
       "      <td>1</td>\n",
       "      <td>h234_cell_to_reg.tif</td>\n",
       "      <td>(141, 627, 393)</td>\n",
       "      <td>0</td>\n",
       "      <td>0</td>\n",
       "      <td>0</td>\n",
       "    </tr>\n",
       "    <tr>\n",
       "      <th>1</th>\n",
       "      <td>3</td>\n",
       "      <td>a253_cell_to_reg.tif</td>\n",
       "      <td>(148, 629, 333)</td>\n",
       "      <td>0</td>\n",
       "      <td>0</td>\n",
       "      <td>0</td>\n",
       "    </tr>\n",
       "    <tr>\n",
       "      <th>2</th>\n",
       "      <td>9</td>\n",
       "      <td>e144_cell_to_reg.tif</td>\n",
       "      <td>(103,701,339)</td>\n",
       "      <td>0</td>\n",
       "      <td>0</td>\n",
       "      <td>0</td>\n",
       "    </tr>\n",
       "    <tr>\n",
       "      <th>3</th>\n",
       "      <td>10</td>\n",
       "      <td>e143_cell_to_reg.tif</td>\n",
       "      <td>(85,568,394)</td>\n",
       "      <td>0</td>\n",
       "      <td>0</td>\n",
       "      <td>0</td>\n",
       "    </tr>\n",
       "    <tr>\n",
       "      <th>4</th>\n",
       "      <td>11</td>\n",
       "      <td>j319_cell_to_reg.tif</td>\n",
       "      <td>(130, 732, 372)</td>\n",
       "      <td>0</td>\n",
       "      <td>0</td>\n",
       "      <td>0</td>\n",
       "    </tr>\n",
       "    <tr>\n",
       "      <th>5</th>\n",
       "      <td>12</td>\n",
       "      <td>j316_cell_to_reg.tif</td>\n",
       "      <td>(126, 707, 335)</td>\n",
       "      <td>0</td>\n",
       "      <td>0</td>\n",
       "      <td>0</td>\n",
       "    </tr>\n",
       "    <tr>\n",
       "      <th>6</th>\n",
       "      <td>14</td>\n",
       "      <td>e142_cell_to_reg.tif</td>\n",
       "      <td>(133, 694, 355)</td>\n",
       "      <td>0</td>\n",
       "      <td>0</td>\n",
       "      <td>0</td>\n",
       "    </tr>\n",
       "    <tr>\n",
       "      <th>7</th>\n",
       "      <td>15</td>\n",
       "      <td>j317_cell_to_reg.tif</td>\n",
       "      <td>(106, 762, 331)</td>\n",
       "      <td>0</td>\n",
       "      <td>0</td>\n",
       "      <td>0</td>\n",
       "    </tr>\n",
       "    <tr>\n",
       "      <th>8</th>\n",
       "      <td>16</td>\n",
       "      <td>e153_cell_to_reg.tif</td>\n",
       "      <td>(133, 664, 329)</td>\n",
       "      <td>0</td>\n",
       "      <td>0</td>\n",
       "      <td>0</td>\n",
       "    </tr>\n",
       "  </tbody>\n",
       "</table>\n",
       "</div>"
      ],
      "text/plain": [
       "   index             file_name          indices  adj_z  adj_y  adj_x\n",
       "0      1  h234_cell_to_reg.tif  (141, 627, 393)      0      0      0\n",
       "1      3  a253_cell_to_reg.tif  (148, 629, 333)      0      0      0\n",
       "2      9  e144_cell_to_reg.tif    (103,701,339)      0      0      0\n",
       "3     10  e143_cell_to_reg.tif     (85,568,394)      0      0      0\n",
       "4     11  j319_cell_to_reg.tif  (130, 732, 372)      0      0      0\n",
       "5     12  j316_cell_to_reg.tif  (126, 707, 335)      0      0      0\n",
       "6     14  e142_cell_to_reg.tif  (133, 694, 355)      0      0      0\n",
       "7     15  j317_cell_to_reg.tif  (106, 762, 331)      0      0      0\n",
       "8     16  e153_cell_to_reg.tif  (133, 664, 329)      0      0      0"
      ]
     },
     "execution_count": 115,
     "metadata": {},
     "output_type": "execute_result"
    }
   ],
   "source": [
    "max_in_reg_df"
   ]
  },
  {
   "cell_type": "code",
   "execution_count": 3,
   "id": "popular-honduras",
   "metadata": {},
   "outputs": [
    {
     "data": {
      "text/plain": [
       "<SimpleITK.SimpleITK.ParameterMap; proxy of <Swig Object of type 'std::map< std::string,std::vector< std::string,std::allocator< std::string > >,std::less< std::string >,std::allocator< std::pair< std::string const,std::vector< std::string,std::allocator< std::string > > > > > *' at 0x7f979eb29270> >"
      ]
     },
     "execution_count": 3,
     "metadata": {},
     "output_type": "execute_result"
    }
   ],
   "source": [
    "sitk.ReadParameterFile('/Users/emilydennis/Desktop/spimout/a253/TransformParameters.0.txt')"
   ]
  },
  {
   "cell_type": "code",
   "execution_count": 6,
   "id": "worst-newfoundland",
   "metadata": {},
   "outputs": [
    {
     "ename": "AttributeError",
     "evalue": "'TransformixImageFilter' object has no attribute 'SetParameterMap'",
     "output_type": "error",
     "traceback": [
      "\u001b[0;31m---------------------------------------------------------------------------\u001b[0m",
      "\u001b[0;31mAttributeError\u001b[0m                            Traceback (most recent call last)",
      "\u001b[0;32m<ipython-input-6-813cf726dbbe>\u001b[0m in \u001b[0;36m<module>\u001b[0;34m\u001b[0m\n\u001b[1;32m      6\u001b[0m \u001b[0;34m\u001b[0m\u001b[0m\n\u001b[1;32m      7\u001b[0m \u001b[0;34m\u001b[0m\u001b[0m\n\u001b[0;32m----> 8\u001b[0;31m \u001b[0mtransformixImageFilter\u001b[0m\u001b[0;34m.\u001b[0m\u001b[0mSetParameterMap\u001b[0m\u001b[0;34m(\u001b[0m\u001b[0mparameterMap0\u001b[0m\u001b[0;34m)\u001b[0m\u001b[0;34m\u001b[0m\u001b[0;34m\u001b[0m\u001b[0m\n\u001b[0m\u001b[1;32m      9\u001b[0m \u001b[0mtransformixImageFilter\u001b[0m\u001b[0;34m.\u001b[0m\u001b[0mAddParameterMap\u001b[0m\u001b[0;34m(\u001b[0m\u001b[0mparameterMap1\u001b[0m\u001b[0;34m)\u001b[0m\u001b[0;34m\u001b[0m\u001b[0;34m\u001b[0m\u001b[0m\n\u001b[1;32m     10\u001b[0m \u001b[0mtransformixImageFilter\u001b[0m\u001b[0;34m.\u001b[0m\u001b[0mAddParameterMap\u001b[0m\u001b[0;34m(\u001b[0m\u001b[0mparameterMap2\u001b[0m\u001b[0;34m)\u001b[0m\u001b[0;34m\u001b[0m\u001b[0;34m\u001b[0m\u001b[0m\n",
      "\u001b[0;32m/opt/anaconda3/envs/lightsheet/lib/python3.7/site-packages/SimpleITK-2.0.0rc2.dev908+g8244e-py3.7-macosx-10.7-x86_64.egg/SimpleITK/SimpleITK.py\u001b[0m in \u001b[0;36m<lambda>\u001b[0;34m(self, name)\u001b[0m\n\u001b[1;32m  11193\u001b[0m     \u001b[0m__setattr__\u001b[0m \u001b[0;34m=\u001b[0m \u001b[0;32mlambda\u001b[0m \u001b[0mself\u001b[0m\u001b[0;34m,\u001b[0m \u001b[0mname\u001b[0m\u001b[0;34m,\u001b[0m \u001b[0mvalue\u001b[0m\u001b[0;34m:\u001b[0m \u001b[0m_swig_setattr\u001b[0m\u001b[0;34m(\u001b[0m\u001b[0mself\u001b[0m\u001b[0;34m,\u001b[0m \u001b[0mTransformixImageFilter\u001b[0m\u001b[0;34m,\u001b[0m \u001b[0mname\u001b[0m\u001b[0;34m,\u001b[0m \u001b[0mvalue\u001b[0m\u001b[0;34m)\u001b[0m\u001b[0;34m\u001b[0m\u001b[0;34m\u001b[0m\u001b[0m\n\u001b[1;32m  11194\u001b[0m     \u001b[0m__swig_getmethods__\u001b[0m \u001b[0;34m=\u001b[0m \u001b[0;34m{\u001b[0m\u001b[0;34m}\u001b[0m\u001b[0;34m\u001b[0m\u001b[0;34m\u001b[0m\u001b[0m\n\u001b[0;32m> 11195\u001b[0;31m     \u001b[0m__getattr__\u001b[0m \u001b[0;34m=\u001b[0m \u001b[0;32mlambda\u001b[0m \u001b[0mself\u001b[0m\u001b[0;34m,\u001b[0m \u001b[0mname\u001b[0m\u001b[0;34m:\u001b[0m \u001b[0m_swig_getattr\u001b[0m\u001b[0;34m(\u001b[0m\u001b[0mself\u001b[0m\u001b[0;34m,\u001b[0m \u001b[0mTransformixImageFilter\u001b[0m\u001b[0;34m,\u001b[0m \u001b[0mname\u001b[0m\u001b[0;34m)\u001b[0m\u001b[0;34m\u001b[0m\u001b[0;34m\u001b[0m\u001b[0m\n\u001b[0m\u001b[1;32m  11196\u001b[0m     \u001b[0m__repr__\u001b[0m \u001b[0;34m=\u001b[0m \u001b[0m_swig_repr\u001b[0m\u001b[0;34m\u001b[0m\u001b[0;34m\u001b[0m\u001b[0m\n\u001b[1;32m  11197\u001b[0m \u001b[0;34m\u001b[0m\u001b[0m\n",
      "\u001b[0;32m/opt/anaconda3/envs/lightsheet/lib/python3.7/site-packages/SimpleITK-2.0.0rc2.dev908+g8244e-py3.7-macosx-10.7-x86_64.egg/SimpleITK/SimpleITK.py\u001b[0m in \u001b[0;36m_swig_getattr\u001b[0;34m(self, class_type, name)\u001b[0m\n\u001b[1;32m     78\u001b[0m     \u001b[0;32mif\u001b[0m \u001b[0mmethod\u001b[0m\u001b[0;34m:\u001b[0m\u001b[0;34m\u001b[0m\u001b[0;34m\u001b[0m\u001b[0m\n\u001b[1;32m     79\u001b[0m         \u001b[0;32mreturn\u001b[0m \u001b[0mmethod\u001b[0m\u001b[0;34m(\u001b[0m\u001b[0mself\u001b[0m\u001b[0;34m)\u001b[0m\u001b[0;34m\u001b[0m\u001b[0;34m\u001b[0m\u001b[0m\n\u001b[0;32m---> 80\u001b[0;31m     \u001b[0;32mraise\u001b[0m \u001b[0mAttributeError\u001b[0m\u001b[0;34m(\u001b[0m\u001b[0;34m\"'%s' object has no attribute '%s'\"\u001b[0m \u001b[0;34m%\u001b[0m \u001b[0;34m(\u001b[0m\u001b[0mclass_type\u001b[0m\u001b[0;34m.\u001b[0m\u001b[0m__name__\u001b[0m\u001b[0;34m,\u001b[0m \u001b[0mname\u001b[0m\u001b[0;34m)\u001b[0m\u001b[0;34m)\u001b[0m\u001b[0;34m\u001b[0m\u001b[0;34m\u001b[0m\u001b[0m\n\u001b[0m\u001b[1;32m     81\u001b[0m \u001b[0;34m\u001b[0m\u001b[0m\n\u001b[1;32m     82\u001b[0m \u001b[0;34m\u001b[0m\u001b[0m\n",
      "\u001b[0;31mAttributeError\u001b[0m: 'TransformixImageFilter' object has no attribute 'SetParameterMap'"
     ]
    }
   ],
   "source": [
    "commonbase = '/Users/emilydennis/Desktop/spimout/a253'\n",
    "parameterMap0 = sitk.ReadParameterFile(os.path.join(commonbase,'TransformParameters.0.txt'))\n",
    "parameterMap1 = sitk.ReadParameterFile(os.path.join(commonbase,'TransformParameters.1.txt'))\n",
    "parameterMap2 = sitk.ReadParameterFile(os.path.join(commonbase,'TransformParameters.2.txt'))\n",
    "parameterMap3 = sitk.ReadParameterFile(os.path.join(commonbase,'TransformParameters.3.txt'))\n",
    "\n",
    "\n",
    "transformixImageFilter.SetParameterMap(parameterMap0)\n",
    "transformixImageFilter.AddParameterMap(parameterMap1)\n",
    "transformixImageFilter.AddParameterMap(parameterMap2)\n",
    "transformixImageFilter.AddParameterMap(parameterMap3)"
   ]
  },
  {
   "cell_type": "code",
   "execution_count": 5,
   "id": "entitled-growth",
   "metadata": {},
   "outputs": [],
   "source": [
    "transformixImageFilter = sitk.TransformixImageFilter()"
   ]
  },
  {
   "cell_type": "code",
   "execution_count": 10,
   "id": "seasonal-crown",
   "metadata": {},
   "outputs": [
    {
     "data": {
      "text/plain": [
       "<SimpleITK.SimpleITK.TransformixImageFilter; proxy of <Swig Object of type 'itk::simple::TransformixImageFilter::Self *' at 0x7f978d02eea0> >"
      ]
     },
     "execution_count": 10,
     "metadata": {},
     "output_type": "execute_result"
    }
   ],
   "source": [
    "transformixImageFilter.AddTransformParameterMap(parameterMap3)"
   ]
  },
  {
   "cell_type": "code",
   "execution_count": 11,
   "id": "hungry-diploma",
   "metadata": {},
   "outputs": [
    {
     "data": {
      "text/plain": [
       "<SimpleITK.SimpleITK.TransformixImageFilter; proxy of <Swig Object of type 'itk::simple::TransformixImageFilter::Self *' at 0x7f97a6dd8cc0> >"
      ]
     },
     "execution_count": 11,
     "metadata": {},
     "output_type": "execute_result"
    }
   ],
   "source": [
    "fx= sitk.ReadImage('image.tif')\n",
    "mv= sitk.ReadImage('image.tif')\n",
    "transformixImageFilter.SetFixedPointSetFileName('ptsfile')\n",
    "transformixImageFilter.Execute()"
   ]
  },
  {
   "cell_type": "code",
   "execution_count": null,
   "id": "valuable-scale",
   "metadata": {},
   "outputs": [],
   "source": []
  }
 ],
 "metadata": {
  "kernelspec": {
   "display_name": "Python 3",
   "language": "python",
   "name": "python3"
  },
  "language_info": {
   "codemirror_mode": {
    "name": "ipython",
    "version": 3
   },
   "file_extension": ".py",
   "mimetype": "text/x-python",
   "name": "python",
   "nbconvert_exporter": "python",
   "pygments_lexer": "ipython3",
   "version": "3.7.3"
  },
  "toc": {
   "base_numbering": 1,
   "nav_menu": {},
   "number_sections": true,
   "sideBar": true,
   "skip_h1_title": false,
   "title_cell": "Table of Contents",
   "title_sidebar": "Contents",
   "toc_cell": false,
   "toc_position": {},
   "toc_section_display": true,
   "toc_window_display": false
  }
 },
 "nbformat": 4,
 "nbformat_minor": 5
}

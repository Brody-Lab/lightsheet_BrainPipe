{
 "cells": [
  {
   "cell_type": "code",
   "execution_count": 1,
   "id": "reported-letters",
   "metadata": {},
   "outputs": [],
   "source": [
    "# imports\n",
    "import numpy as np\n",
    "import tifffile as tif\n",
    "import matplotlib.pyplot as plt\n",
    "import pandas as pd\n",
    "import os, sys\n",
    "import SimpleITK as sitk\n"
   ]
  },
  {
   "cell_type": "markdown",
   "id": "psychological-coffee",
   "metadata": {
    "heading_collapsed": true
   },
   "source": [
    "# taking images and finding max values with manual checks "
   ]
  },
  {
   "cell_type": "code",
   "execution_count": 6,
   "id": "veterinary-indianapolis",
   "metadata": {
    "hidden": true
   },
   "outputs": [],
   "source": [
    "folder_of_tiffs = '/Users/emilydennis/Desktop/spimout/'\n",
    "list_of_tiffs = [file for file in os.listdir(folder_of_tiffs) if file[-4:]=='.tif']"
   ]
  },
  {
   "cell_type": "code",
   "execution_count": 6,
   "id": "specific-generic",
   "metadata": {
    "hidden": true
   },
   "outputs": [
    {
     "name": "stdout",
     "output_type": "stream",
     "text": [
      "e143_reg_in_atl.tif\n",
      "h234_cell_to_reg.tif\n",
      "e144_reg_in_atl.tif\n",
      "a253_cell_to_reg.tif\n",
      "e142_reg_in_atl.tif\n"
     ]
    },
    {
     "ename": "KeyboardInterrupt",
     "evalue": "",
     "output_type": "error",
     "traceback": [
      "\u001b[0;31m---------------------------------------------------------------------------\u001b[0m",
      "\u001b[0;31mKeyboardInterrupt\u001b[0m                         Traceback (most recent call last)",
      "\u001b[0;32m<ipython-input-6-b5f7c4b437f1>\u001b[0m in \u001b[0;36m<module>\u001b[0;34m\u001b[0m\n\u001b[1;32m      4\u001b[0m \u001b[0;32mfor\u001b[0m \u001b[0mfile\u001b[0m \u001b[0;32min\u001b[0m \u001b[0mlist_of_tiffs\u001b[0m\u001b[0;34m:\u001b[0m\u001b[0;34m\u001b[0m\u001b[0;34m\u001b[0m\u001b[0m\n\u001b[1;32m      5\u001b[0m     \u001b[0mprint\u001b[0m\u001b[0;34m(\u001b[0m\u001b[0mfile\u001b[0m\u001b[0;34m)\u001b[0m\u001b[0;34m\u001b[0m\u001b[0;34m\u001b[0m\u001b[0m\n\u001b[0;32m----> 6\u001b[0;31m     \u001b[0mtiff_file\u001b[0m \u001b[0;34m=\u001b[0m \u001b[0mtif\u001b[0m\u001b[0;34m.\u001b[0m\u001b[0mimread\u001b[0m\u001b[0;34m(\u001b[0m\u001b[0mos\u001b[0m\u001b[0;34m.\u001b[0m\u001b[0mpath\u001b[0m\u001b[0;34m.\u001b[0m\u001b[0mjoin\u001b[0m\u001b[0;34m(\u001b[0m\u001b[0mfolder_of_tiffs\u001b[0m\u001b[0;34m,\u001b[0m\u001b[0mfile\u001b[0m\u001b[0;34m)\u001b[0m\u001b[0;34m)\u001b[0m\u001b[0;34m\u001b[0m\u001b[0;34m\u001b[0m\u001b[0m\n\u001b[0m\u001b[1;32m      7\u001b[0m     \u001b[0mindex_tuple\u001b[0m \u001b[0;34m=\u001b[0m \u001b[0mnp\u001b[0m\u001b[0;34m.\u001b[0m\u001b[0munravel_index\u001b[0m\u001b[0;34m(\u001b[0m\u001b[0mnp\u001b[0m\u001b[0;34m.\u001b[0m\u001b[0margmax\u001b[0m\u001b[0;34m(\u001b[0m\u001b[0mtiff_file\u001b[0m\u001b[0;34m)\u001b[0m\u001b[0;34m,\u001b[0m\u001b[0mtiff_file\u001b[0m\u001b[0;34m.\u001b[0m\u001b[0mshape\u001b[0m\u001b[0;34m)\u001b[0m\u001b[0;34m\u001b[0m\u001b[0;34m\u001b[0m\u001b[0m\n\u001b[1;32m      8\u001b[0m     \u001b[0mmax_indices\u001b[0m\u001b[0;34m.\u001b[0m\u001b[0mappend\u001b[0m\u001b[0;34m(\u001b[0m\u001b[0;34m[\u001b[0m\u001b[0mfile\u001b[0m\u001b[0;34m,\u001b[0m\u001b[0mindex_tuple\u001b[0m\u001b[0;34m]\u001b[0m\u001b[0;34m)\u001b[0m\u001b[0;34m\u001b[0m\u001b[0;34m\u001b[0m\u001b[0m\n",
      "\u001b[0;32m/opt/anaconda3/envs/lightsheet/lib/python3.7/site-packages/tifffile/tifffile.py\u001b[0m in \u001b[0;36mimread\u001b[0;34m(files, **kwargs)\u001b[0m\n\u001b[1;32m    587\u001b[0m         \u001b[0;32mif\u001b[0m \u001b[0misinstance\u001b[0m\u001b[0;34m(\u001b[0m\u001b[0mfiles\u001b[0m\u001b[0;34m,\u001b[0m \u001b[0mstr\u001b[0m\u001b[0;34m)\u001b[0m \u001b[0;32mor\u001b[0m \u001b[0mhasattr\u001b[0m\u001b[0;34m(\u001b[0m\u001b[0mfiles\u001b[0m\u001b[0;34m,\u001b[0m \u001b[0;34m'seek'\u001b[0m\u001b[0;34m)\u001b[0m\u001b[0;34m:\u001b[0m\u001b[0;34m\u001b[0m\u001b[0;34m\u001b[0m\u001b[0m\n\u001b[1;32m    588\u001b[0m             \u001b[0;32mwith\u001b[0m \u001b[0mTiffFile\u001b[0m\u001b[0;34m(\u001b[0m\u001b[0mfiles\u001b[0m\u001b[0;34m,\u001b[0m \u001b[0;34m**\u001b[0m\u001b[0mkwargs_file\u001b[0m\u001b[0;34m)\u001b[0m \u001b[0;32mas\u001b[0m \u001b[0mtif\u001b[0m\u001b[0;34m:\u001b[0m\u001b[0;34m\u001b[0m\u001b[0;34m\u001b[0m\u001b[0m\n\u001b[0;32m--> 589\u001b[0;31m                 \u001b[0;32mreturn\u001b[0m \u001b[0mtif\u001b[0m\u001b[0;34m.\u001b[0m\u001b[0masarray\u001b[0m\u001b[0;34m(\u001b[0m\u001b[0;34m**\u001b[0m\u001b[0mkwargs\u001b[0m\u001b[0;34m)\u001b[0m\u001b[0;34m\u001b[0m\u001b[0;34m\u001b[0m\u001b[0m\n\u001b[0m\u001b[1;32m    590\u001b[0m \u001b[0;34m\u001b[0m\u001b[0m\n\u001b[1;32m    591\u001b[0m     \u001b[0;32mwith\u001b[0m \u001b[0mTiffSequence\u001b[0m\u001b[0;34m(\u001b[0m\u001b[0mfiles\u001b[0m\u001b[0;34m,\u001b[0m \u001b[0;34m**\u001b[0m\u001b[0mkwargs_seq\u001b[0m\u001b[0;34m)\u001b[0m \u001b[0;32mas\u001b[0m \u001b[0mimseq\u001b[0m\u001b[0;34m:\u001b[0m\u001b[0;34m\u001b[0m\u001b[0;34m\u001b[0m\u001b[0m\n",
      "\u001b[0;32m/opt/anaconda3/envs/lightsheet/lib/python3.7/site-packages/tifffile/tifffile.py\u001b[0m in \u001b[0;36masarray\u001b[0;34m(self, key, series, out, maxworkers)\u001b[0m\n\u001b[1;32m   2309\u001b[0m             \u001b[0mresult\u001b[0m \u001b[0;34m=\u001b[0m \u001b[0mpages\u001b[0m\u001b[0;34m[\u001b[0m\u001b[0;36m0\u001b[0m\u001b[0;34m]\u001b[0m\u001b[0;34m.\u001b[0m\u001b[0masarray\u001b[0m\u001b[0;34m(\u001b[0m\u001b[0mout\u001b[0m\u001b[0;34m=\u001b[0m\u001b[0mout\u001b[0m\u001b[0;34m,\u001b[0m \u001b[0mmaxworkers\u001b[0m\u001b[0;34m=\u001b[0m\u001b[0mmaxworkers\u001b[0m\u001b[0;34m)\u001b[0m\u001b[0;34m\u001b[0m\u001b[0;34m\u001b[0m\u001b[0m\n\u001b[1;32m   2310\u001b[0m         \u001b[0;32melse\u001b[0m\u001b[0;34m:\u001b[0m\u001b[0;34m\u001b[0m\u001b[0;34m\u001b[0m\u001b[0m\n\u001b[0;32m-> 2311\u001b[0;31m             \u001b[0mresult\u001b[0m \u001b[0;34m=\u001b[0m \u001b[0mstack_pages\u001b[0m\u001b[0;34m(\u001b[0m\u001b[0mpages\u001b[0m\u001b[0;34m,\u001b[0m \u001b[0mout\u001b[0m\u001b[0;34m=\u001b[0m\u001b[0mout\u001b[0m\u001b[0;34m,\u001b[0m \u001b[0mmaxworkers\u001b[0m\u001b[0;34m=\u001b[0m\u001b[0mmaxworkers\u001b[0m\u001b[0;34m)\u001b[0m\u001b[0;34m\u001b[0m\u001b[0;34m\u001b[0m\u001b[0m\n\u001b[0m\u001b[1;32m   2312\u001b[0m \u001b[0;34m\u001b[0m\u001b[0m\n\u001b[1;32m   2313\u001b[0m         \u001b[0;32mif\u001b[0m \u001b[0mresult\u001b[0m \u001b[0;32mis\u001b[0m \u001b[0;32mNone\u001b[0m\u001b[0;34m:\u001b[0m\u001b[0;34m\u001b[0m\u001b[0;34m\u001b[0m\u001b[0m\n",
      "\u001b[0;32m/opt/anaconda3/envs/lightsheet/lib/python3.7/site-packages/tifffile/tifffile.py\u001b[0m in \u001b[0;36mstack_pages\u001b[0;34m(pages, out, maxworkers, **kwargs)\u001b[0m\n\u001b[1;32m  11009\u001b[0m     \u001b[0;32mif\u001b[0m \u001b[0mmaxworkers\u001b[0m \u001b[0;34m<\u001b[0m \u001b[0;36m2\u001b[0m\u001b[0;34m:\u001b[0m\u001b[0;34m\u001b[0m\u001b[0;34m\u001b[0m\u001b[0m\n\u001b[1;32m  11010\u001b[0m         \u001b[0;32mfor\u001b[0m \u001b[0mi\u001b[0m\u001b[0;34m,\u001b[0m \u001b[0mpage\u001b[0m \u001b[0;32min\u001b[0m \u001b[0menumerate\u001b[0m\u001b[0;34m(\u001b[0m\u001b[0mpages\u001b[0m\u001b[0;34m)\u001b[0m\u001b[0;34m:\u001b[0m\u001b[0;34m\u001b[0m\u001b[0;34m\u001b[0m\u001b[0m\n\u001b[0;32m> 11011\u001b[0;31m             \u001b[0mfunc\u001b[0m\u001b[0;34m(\u001b[0m\u001b[0mpage\u001b[0m\u001b[0;34m,\u001b[0m \u001b[0mi\u001b[0m\u001b[0;34m)\u001b[0m\u001b[0;34m\u001b[0m\u001b[0;34m\u001b[0m\u001b[0m\n\u001b[0m\u001b[1;32m  11012\u001b[0m     \u001b[0;32melse\u001b[0m\u001b[0;34m:\u001b[0m\u001b[0;34m\u001b[0m\u001b[0;34m\u001b[0m\u001b[0m\n\u001b[1;32m  11013\u001b[0m         \u001b[0;31m# TODO: add exception handling\u001b[0m\u001b[0;34m\u001b[0m\u001b[0;34m\u001b[0m\u001b[0;34m\u001b[0m\u001b[0m\n",
      "\u001b[0;32m/opt/anaconda3/envs/lightsheet/lib/python3.7/site-packages/tifffile/tifffile.py\u001b[0m in \u001b[0;36mfunc\u001b[0;34m(page, index, out, filecache, kwargs)\u001b[0m\n\u001b[1;32m  11004\u001b[0m             \u001b[0mfilecache\u001b[0m\u001b[0;34m.\u001b[0m\u001b[0mopen\u001b[0m\u001b[0;34m(\u001b[0m\u001b[0mpage\u001b[0m\u001b[0;34m.\u001b[0m\u001b[0mparent\u001b[0m\u001b[0;34m.\u001b[0m\u001b[0mfilehandle\u001b[0m\u001b[0;34m)\u001b[0m\u001b[0;34m\u001b[0m\u001b[0;34m\u001b[0m\u001b[0m\n\u001b[1;32m  11005\u001b[0m             page.asarray(lock=filecache.lock, reopen=False, out=out[index],\n\u001b[0;32m> 11006\u001b[0;31m                          **kwargs)\n\u001b[0m\u001b[1;32m  11007\u001b[0m             \u001b[0mfilecache\u001b[0m\u001b[0;34m.\u001b[0m\u001b[0mclose\u001b[0m\u001b[0;34m(\u001b[0m\u001b[0mpage\u001b[0m\u001b[0;34m.\u001b[0m\u001b[0mparent\u001b[0m\u001b[0;34m.\u001b[0m\u001b[0mfilehandle\u001b[0m\u001b[0;34m)\u001b[0m\u001b[0;34m\u001b[0m\u001b[0;34m\u001b[0m\u001b[0m\n\u001b[1;32m  11008\u001b[0m \u001b[0;34m\u001b[0m\u001b[0m\n",
      "\u001b[0;32m/opt/anaconda3/envs/lightsheet/lib/python3.7/site-packages/tifffile/tifffile.py\u001b[0m in \u001b[0;36masarray\u001b[0;34m(self, *args, **kwargs)\u001b[0m\n\u001b[1;32m   5431\u001b[0m         \u001b[0;32mif\u001b[0m \u001b[0mself\u001b[0m\u001b[0;34m.\u001b[0m\u001b[0m_keyframe\u001b[0m \u001b[0;32mis\u001b[0m \u001b[0;32mNone\u001b[0m\u001b[0;34m:\u001b[0m\u001b[0;34m\u001b[0m\u001b[0;34m\u001b[0m\u001b[0m\n\u001b[1;32m   5432\u001b[0m             \u001b[0;32mraise\u001b[0m \u001b[0mRuntimeError\u001b[0m\u001b[0;34m(\u001b[0m\u001b[0;34mf'TiffFrame {self.index}: keyframe not set'\u001b[0m\u001b[0;34m)\u001b[0m\u001b[0;34m\u001b[0m\u001b[0;34m\u001b[0m\u001b[0m\n\u001b[0;32m-> 5433\u001b[0;31m         \u001b[0;32mreturn\u001b[0m \u001b[0mTiffPage\u001b[0m\u001b[0;34m.\u001b[0m\u001b[0masarray\u001b[0m\u001b[0;34m(\u001b[0m\u001b[0mself\u001b[0m\u001b[0;34m,\u001b[0m \u001b[0;34m*\u001b[0m\u001b[0margs\u001b[0m\u001b[0;34m,\u001b[0m \u001b[0;34m**\u001b[0m\u001b[0mkwargs\u001b[0m\u001b[0;34m)\u001b[0m\u001b[0;34m\u001b[0m\u001b[0;34m\u001b[0m\u001b[0m\n\u001b[0m\u001b[1;32m   5434\u001b[0m \u001b[0;34m\u001b[0m\u001b[0m\n\u001b[1;32m   5435\u001b[0m     \u001b[0;32mdef\u001b[0m \u001b[0masrgb\u001b[0m\u001b[0;34m(\u001b[0m\u001b[0mself\u001b[0m\u001b[0;34m,\u001b[0m \u001b[0;34m*\u001b[0m\u001b[0margs\u001b[0m\u001b[0;34m,\u001b[0m \u001b[0;34m**\u001b[0m\u001b[0mkwargs\u001b[0m\u001b[0;34m)\u001b[0m\u001b[0;34m:\u001b[0m\u001b[0;34m\u001b[0m\u001b[0;34m\u001b[0m\u001b[0m\n",
      "\u001b[0;32m/opt/anaconda3/envs/lightsheet/lib/python3.7/site-packages/tifffile/tifffile.py\u001b[0m in \u001b[0;36masarray\u001b[0;34m(self, out, squeeze, lock, reopen, maxsize, maxworkers)\u001b[0m\n\u001b[1;32m   4585\u001b[0m                     \u001b[0mkeyframe\u001b[0m\u001b[0;34m.\u001b[0m\u001b[0mparent\u001b[0m\u001b[0;34m.\u001b[0m\u001b[0mbyteorder\u001b[0m \u001b[0;34m+\u001b[0m \u001b[0mkeyframe\u001b[0m\u001b[0;34m.\u001b[0m\u001b[0m_dtype\u001b[0m\u001b[0;34m.\u001b[0m\u001b[0mchar\u001b[0m\u001b[0;34m,\u001b[0m\u001b[0;34m\u001b[0m\u001b[0;34m\u001b[0m\u001b[0m\n\u001b[1;32m   4586\u001b[0m                     \u001b[0mproduct\u001b[0m\u001b[0;34m(\u001b[0m\u001b[0mkeyframe\u001b[0m\u001b[0;34m.\u001b[0m\u001b[0mshaped\u001b[0m\u001b[0;34m)\u001b[0m\u001b[0;34m,\u001b[0m\u001b[0;34m\u001b[0m\u001b[0;34m\u001b[0m\u001b[0m\n\u001b[0;32m-> 4587\u001b[0;31m                     \u001b[0mout\u001b[0m\u001b[0;34m=\u001b[0m\u001b[0mout\u001b[0m\u001b[0;34m\u001b[0m\u001b[0;34m\u001b[0m\u001b[0m\n\u001b[0m\u001b[1;32m   4588\u001b[0m                 )\n\u001b[1;32m   4589\u001b[0m             \u001b[0;32mif\u001b[0m \u001b[0mkeyframe\u001b[0m\u001b[0;34m.\u001b[0m\u001b[0mfillorder\u001b[0m \u001b[0;34m==\u001b[0m \u001b[0;36m2\u001b[0m\u001b[0;34m:\u001b[0m\u001b[0;34m\u001b[0m\u001b[0;34m\u001b[0m\u001b[0m\n",
      "\u001b[0;32m/opt/anaconda3/envs/lightsheet/lib/python3.7/site-packages/tifffile/tifffile.py\u001b[0m in \u001b[0;36mread_array\u001b[0;34m(self, dtype, count, out)\u001b[0m\n\u001b[1;32m   6398\u001b[0m             \u001b[0;32mraise\u001b[0m \u001b[0mValueError\u001b[0m\u001b[0;34m(\u001b[0m\u001b[0;34m'size mismatch'\u001b[0m\u001b[0;34m)\u001b[0m\u001b[0;34m\u001b[0m\u001b[0;34m\u001b[0m\u001b[0m\n\u001b[1;32m   6399\u001b[0m \u001b[0;34m\u001b[0m\u001b[0m\n\u001b[0;32m-> 6400\u001b[0;31m         \u001b[0mn\u001b[0m \u001b[0;34m=\u001b[0m \u001b[0mfh\u001b[0m\u001b[0;34m.\u001b[0m\u001b[0mreadinto\u001b[0m\u001b[0;34m(\u001b[0m\u001b[0mresult\u001b[0m\u001b[0;34m)\u001b[0m\u001b[0;34m\u001b[0m\u001b[0;34m\u001b[0m\u001b[0m\n\u001b[0m\u001b[1;32m   6401\u001b[0m         \u001b[0;32mif\u001b[0m \u001b[0mn\u001b[0m \u001b[0;34m!=\u001b[0m \u001b[0msize\u001b[0m\u001b[0;34m:\u001b[0m\u001b[0;34m\u001b[0m\u001b[0;34m\u001b[0m\u001b[0m\n\u001b[1;32m   6402\u001b[0m             \u001b[0;32mraise\u001b[0m \u001b[0mValueError\u001b[0m\u001b[0;34m(\u001b[0m\u001b[0;34mf'failed to read {size} bytes'\u001b[0m\u001b[0;34m)\u001b[0m\u001b[0;34m\u001b[0m\u001b[0;34m\u001b[0m\u001b[0m\n",
      "\u001b[0;31mKeyboardInterrupt\u001b[0m: "
     ]
    }
   ],
   "source": [
    "max_indices = []\n",
    "max_in_atl = []\n",
    "max_in_reg = []\n",
    "for file in list_of_tiffs:\n",
    "    print(file)\n",
    "    tiff_file = tif.imread(os.path.join(folder_of_tiffs,file))\n",
    "    index_tuple = np.unravel_index(np.argmax(tiff_file),tiff_file.shape)\n",
    "    max_indices.append([file,index_tuple])\n",
    "    if 'atl' in file:\n",
    "        max_in_atl.append([file,index_tuple])\n",
    "    else:\n",
    "        max_in_reg.append([file,index_tuple])"
   ]
  },
  {
   "cell_type": "code",
   "execution_count": null,
   "id": "composed-homework",
   "metadata": {
    "hidden": true
   },
   "outputs": [],
   "source": [
    "pd.DataFrame(max_indices,columns=['file_name','indices']).to_csv('/Users/emilydennis/Desktop/cm2_max_indices.csv')"
   ]
  },
  {
   "cell_type": "code",
   "execution_count": null,
   "id": "second-proceeding",
   "metadata": {
    "hidden": true
   },
   "outputs": [],
   "source": [
    "max_in_atl_df = pd.DataFrame(max_in_atl,columns=[\"name\",\"tuple\"])\n",
    "max_in_reg_df = pd.DataFrame(max_in_reg,columns=[\"name\",\"tuple\"])"
   ]
  },
  {
   "cell_type": "code",
   "execution_count": 10,
   "id": "quantitative-local",
   "metadata": {
    "hidden": true
   },
   "outputs": [],
   "source": [
    "j316=tif.imread('/Users/emilydennis/Desktop/spimout/j316_reg_in_atl.tif')"
   ]
  },
  {
   "cell_type": "code",
   "execution_count": 80,
   "id": "physical-haiti",
   "metadata": {
    "hidden": true
   },
   "outputs": [
    {
     "data": {
      "text/plain": [
       "741"
      ]
     },
     "execution_count": 80,
     "metadata": {},
     "output_type": "execute_result"
    }
   ],
   "source": [
    "np.where(j316==1379)[1][0]"
   ]
  },
  {
   "cell_type": "code",
   "execution_count": 81,
   "id": "polish-government",
   "metadata": {
    "hidden": true
   },
   "outputs": [
    {
     "name": "stdout",
     "output_type": "stream",
     "text": [
      "i is 1379 and tuple (array([127]), array([741]), array([212]))\n",
      "i is 1384 and tuple (array([412]), array([565]), array([13]))\n",
      "i is 1397 and tuple (array([381]), array([578]), array([27]))\n",
      "i is 1418 and tuple (array([321]), array([1045]), array([149]))\n",
      "i is 1423 and tuple (array([128]), array([741]), array([212]))\n",
      "i is 1435 and tuple (array([410]), array([569]), array([13]))\n",
      "i is 1436 and tuple (array([411]), array([567]), array([14]))\n",
      "i is 1445 and tuple (array([409]), array([565]), array([16]))\n",
      "i is 1453 and tuple (array([410]), array([565]), array([15]))\n",
      "i is 1463 and tuple (array([409, 412]), array([570, 567]), array([14, 13]))\n",
      "i is 1463 and tuple (array([409, 412]), array([570, 567]), array([14, 13]))\n",
      "i is 1468 and tuple (array([411]), array([566]), array([14]))\n",
      "i is 1482 and tuple (array([410]), array([567]), array([13]))\n",
      "i is 1490 and tuple (array([410]), array([568]), array([14]))\n",
      "i is 1491 and tuple (array([410]), array([566]), array([14]))\n",
      "i is 1514 and tuple (array([322]), array([1045]), array([147]))\n",
      "i is 1521 and tuple (array([320]), array([1044]), array([146]))\n",
      "i is 1531 and tuple (array([412]), array([568]), array([13]))\n",
      "i is 1536 and tuple (array([409]), array([567]), array([15]))\n",
      "i is 1542 and tuple (array([411]), array([567]), array([13]))\n",
      "i is 1543 and tuple (array([322]), array([1045]), array([149]))\n",
      "i is 1560 and tuple (array([411]), array([565]), array([14]))\n",
      "i is 1564 and tuple (array([410]), array([568]), array([13]))\n",
      "i is 1566 and tuple (array([409]), array([566]), array([15]))\n",
      "i is 1618 and tuple (array([409]), array([569]), array([15]))\n",
      "i is 1619 and tuple (array([409]), array([570]), array([15]))\n",
      "i is 1629 and tuple (array([408]), array([569]), array([15]))\n",
      "i is 1634 and tuple (array([408]), array([568]), array([15]))\n",
      "i is 1648 and tuple (array([410]), array([569]), array([14]))\n",
      "i is 1680 and tuple (array([409]), array([569]), array([14]))\n"
     ]
    }
   ],
   "source": [
    "for i in np.sort(np.ravel(j316))[-40:]:\n",
    "    print('i is {} and tuple {}'.format(i,np.where(j316==i)))"
   ]
  },
  {
   "cell_type": "markdown",
   "id": "coupled-harvard",
   "metadata": {
    "heading_collapsed": true
   },
   "source": [
    "# read csv"
   ]
  },
  {
   "cell_type": "code",
   "execution_count": 2,
   "id": "raising-brave",
   "metadata": {
    "hidden": true
   },
   "outputs": [],
   "source": [
    "max_indices_df = pd.read_csv('/Users/emilydennis/Desktop/lightsheet/cm2_max_indices.csv')"
   ]
  },
  {
   "cell_type": "code",
   "execution_count": 3,
   "id": "scenic-scientist",
   "metadata": {
    "hidden": true
   },
   "outputs": [],
   "source": [
    "max_indices_df=max_indices_df.drop(columns=['Unnamed: 0'])"
   ]
  },
  {
   "cell_type": "code",
   "execution_count": 4,
   "id": "thick-worthy",
   "metadata": {
    "hidden": true
   },
   "outputs": [],
   "source": [
    "max_in_atl_df = max_indices_df[max_indices_df.file_name.str.contains('atl.tif')]\n",
    "max_in_reg_df = max_indices_df[max_indices_df.file_name.str.contains('to_reg')]"
   ]
  },
  {
   "cell_type": "code",
   "execution_count": 5,
   "id": "valid-universal",
   "metadata": {
    "hidden": true
   },
   "outputs": [
    {
     "data": {
      "text/html": [
       "<div>\n",
       "<style scoped>\n",
       "    .dataframe tbody tr th:only-of-type {\n",
       "        vertical-align: middle;\n",
       "    }\n",
       "\n",
       "    .dataframe tbody tr th {\n",
       "        vertical-align: top;\n",
       "    }\n",
       "\n",
       "    .dataframe thead th {\n",
       "        text-align: right;\n",
       "    }\n",
       "</style>\n",
       "<table border=\"1\" class=\"dataframe\">\n",
       "  <thead>\n",
       "    <tr style=\"text-align: right;\">\n",
       "      <th></th>\n",
       "      <th>file_name</th>\n",
       "      <th>indices</th>\n",
       "    </tr>\n",
       "  </thead>\n",
       "  <tbody>\n",
       "    <tr>\n",
       "      <th>0</th>\n",
       "      <td>e143_reg_in_atl.tif</td>\n",
       "      <td>(365, 541, 40)</td>\n",
       "    </tr>\n",
       "    <tr>\n",
       "      <th>2</th>\n",
       "      <td>e144_reg_in_atl.tif</td>\n",
       "      <td>(385, 533, 41)</td>\n",
       "    </tr>\n",
       "    <tr>\n",
       "      <th>4</th>\n",
       "      <td>e142_reg_in_atl.tif</td>\n",
       "      <td>(367, 551, 22)</td>\n",
       "    </tr>\n",
       "    <tr>\n",
       "      <th>5</th>\n",
       "      <td>e153_reg_in_atl.tif</td>\n",
       "      <td>(378, 710, 64)</td>\n",
       "    </tr>\n",
       "    <tr>\n",
       "      <th>6</th>\n",
       "      <td>h234_in_atl.tif</td>\n",
       "      <td>(366, 527, 23)</td>\n",
       "    </tr>\n",
       "    <tr>\n",
       "      <th>7</th>\n",
       "      <td>j316_reg_in_atl.tif</td>\n",
       "      <td>(483, 426, 151)</td>\n",
       "    </tr>\n",
       "    <tr>\n",
       "      <th>8</th>\n",
       "      <td>j319_reg_in_atl.tif</td>\n",
       "      <td>(370, 579, 46)</td>\n",
       "    </tr>\n",
       "    <tr>\n",
       "      <th>13</th>\n",
       "      <td>j317_reg_in_atl.tif</td>\n",
       "      <td>(387, 580, 58)</td>\n",
       "    </tr>\n",
       "  </tbody>\n",
       "</table>\n",
       "</div>"
      ],
      "text/plain": [
       "              file_name          indices\n",
       "0   e143_reg_in_atl.tif   (365, 541, 40)\n",
       "2   e144_reg_in_atl.tif   (385, 533, 41)\n",
       "4   e142_reg_in_atl.tif   (367, 551, 22)\n",
       "5   e153_reg_in_atl.tif   (378, 710, 64)\n",
       "6       h234_in_atl.tif   (366, 527, 23)\n",
       "7   j316_reg_in_atl.tif  (483, 426, 151)\n",
       "8   j319_reg_in_atl.tif   (370, 579, 46)\n",
       "13  j317_reg_in_atl.tif   (387, 580, 58)"
      ]
     },
     "execution_count": 5,
     "metadata": {},
     "output_type": "execute_result"
    }
   ],
   "source": [
    "max_in_atl_df"
   ]
  },
  {
   "cell_type": "code",
   "execution_count": 6,
   "id": "minus-genetics",
   "metadata": {
    "hidden": true
   },
   "outputs": [
    {
     "name": "stderr",
     "output_type": "stream",
     "text": [
      "/Users/emilydennis/.local/lib/python3.7/site-packages/IPython/core/interactiveshell.py:3331: SettingWithCopyWarning: \n",
      "A value is trying to be set on a copy of a slice from a DataFrame\n",
      "\n",
      "See the caveats in the documentation: https://pandas.pydata.org/pandas-docs/stable/user_guide/indexing.html#returning-a-view-versus-a-copy\n",
      "  exec(code_obj, self.user_global_ns, self.user_ns)\n"
     ]
    },
    {
     "data": {
      "text/html": [
       "<div>\n",
       "<style scoped>\n",
       "    .dataframe tbody tr th:only-of-type {\n",
       "        vertical-align: middle;\n",
       "    }\n",
       "\n",
       "    .dataframe tbody tr th {\n",
       "        vertical-align: top;\n",
       "    }\n",
       "\n",
       "    .dataframe thead th {\n",
       "        text-align: right;\n",
       "    }\n",
       "</style>\n",
       "<table border=\"1\" class=\"dataframe\">\n",
       "  <thead>\n",
       "    <tr style=\"text-align: right;\">\n",
       "      <th></th>\n",
       "      <th>file_name</th>\n",
       "      <th>indices</th>\n",
       "    </tr>\n",
       "  </thead>\n",
       "  <tbody>\n",
       "    <tr>\n",
       "      <th>0</th>\n",
       "      <td>e143_reg_in_atl.tif</td>\n",
       "      <td>(365, 541, 40)</td>\n",
       "    </tr>\n",
       "    <tr>\n",
       "      <th>2</th>\n",
       "      <td>e144_reg_in_atl.tif</td>\n",
       "      <td>(385, 533, 41)</td>\n",
       "    </tr>\n",
       "    <tr>\n",
       "      <th>4</th>\n",
       "      <td>e142_reg_in_atl.tif</td>\n",
       "      <td>(367, 551, 22)</td>\n",
       "    </tr>\n",
       "    <tr>\n",
       "      <th>5</th>\n",
       "      <td>e153_reg_in_atl.tif</td>\n",
       "      <td>(378, 710, 64)</td>\n",
       "    </tr>\n",
       "    <tr>\n",
       "      <th>6</th>\n",
       "      <td>h234_in_atl.tif</td>\n",
       "      <td>(366, 527, 23)</td>\n",
       "    </tr>\n",
       "    <tr>\n",
       "      <th>7</th>\n",
       "      <td>j316_reg_in_atl.tif</td>\n",
       "      <td>(381, 578, 27)</td>\n",
       "    </tr>\n",
       "    <tr>\n",
       "      <th>8</th>\n",
       "      <td>j319_reg_in_atl.tif</td>\n",
       "      <td>(370, 579, 46)</td>\n",
       "    </tr>\n",
       "    <tr>\n",
       "      <th>13</th>\n",
       "      <td>j317_reg_in_atl.tif</td>\n",
       "      <td>(387, 580, 58)</td>\n",
       "    </tr>\n",
       "  </tbody>\n",
       "</table>\n",
       "</div>"
      ],
      "text/plain": [
       "              file_name         indices\n",
       "0   e143_reg_in_atl.tif  (365, 541, 40)\n",
       "2   e144_reg_in_atl.tif  (385, 533, 41)\n",
       "4   e142_reg_in_atl.tif  (367, 551, 22)\n",
       "5   e153_reg_in_atl.tif  (378, 710, 64)\n",
       "6       h234_in_atl.tif  (366, 527, 23)\n",
       "7   j316_reg_in_atl.tif  (381, 578, 27)\n",
       "8   j319_reg_in_atl.tif  (370, 579, 46)\n",
       "13  j317_reg_in_atl.tif  (387, 580, 58)"
      ]
     },
     "execution_count": 6,
     "metadata": {},
     "output_type": "execute_result"
    }
   ],
   "source": [
    "max_in_atl_df.indices[7] = '(381, 578, 27)'\n",
    "max_in_atl_df"
   ]
  },
  {
   "cell_type": "code",
   "execution_count": 7,
   "id": "infrared-official",
   "metadata": {
    "hidden": true
   },
   "outputs": [
    {
     "data": {
      "text/plain": [
       "(0.0, 1150.0)"
      ]
     },
     "execution_count": 7,
     "metadata": {},
     "output_type": "execute_result"
    },
    {
     "data": {
      "image/png": "[encoded data removed]",
      "text/plain": [
       "<Figure size 432x288 with 1 Axes>"
      ]
     },
     "metadata": {
      "needs_background": "light"
     },
     "output_type": "display_data"
    }
   ],
   "source": [
    "xs=[]\n",
    "ys=[]\n",
    "for locale in max_in_atl_df.indices:\n",
    "    xs.append(eval(locale)[1])\n",
    "    ys.append(eval(locale)[0])\n",
    "plt.scatter(ys,xs)\n",
    "plt.xlim([0,618])\n",
    "plt.ylim([0,1150])\n",
    "# from here, need to check j316_reg_in_atl -- manually 'fixed' j316_reg_in_atl\n",
    "# e153_reg_in_atl had bad alignment! re-align (cerebellum stretched weird?)"
   ]
  },
  {
   "cell_type": "code",
   "execution_count": 8,
   "id": "attended-coordinate",
   "metadata": {
    "hidden": true
   },
   "outputs": [
    {
     "name": "stderr",
     "output_type": "stream",
     "text": [
      "/Users/emilydennis/.local/lib/python3.7/site-packages/IPython/core/interactiveshell.py:3331: SettingWithCopyWarning: \n",
      "A value is trying to be set on a copy of a slice from a DataFrame\n",
      "\n",
      "See the caveats in the documentation: https://pandas.pydata.org/pandas-docs/stable/user_guide/indexing.html#returning-a-view-versus-a-copy\n",
      "  exec(code_obj, self.user_global_ns, self.user_ns)\n"
     ]
    }
   ],
   "source": [
    "max_in_reg_df.indices[9]='(103,701,339)'\n",
    "max_in_reg_df.indices[10]='(85,568,394)'"
   ]
  },
  {
   "cell_type": "code",
   "execution_count": 9,
   "id": "parental-planet",
   "metadata": {
    "hidden": true
   },
   "outputs": [
    {
     "data": {
      "text/html": [
       "<div>\n",
       "<style scoped>\n",
       "    .dataframe tbody tr th:only-of-type {\n",
       "        vertical-align: middle;\n",
       "    }\n",
       "\n",
       "    .dataframe tbody tr th {\n",
       "        vertical-align: top;\n",
       "    }\n",
       "\n",
       "    .dataframe thead th {\n",
       "        text-align: right;\n",
       "    }\n",
       "</style>\n",
       "<table border=\"1\" class=\"dataframe\">\n",
       "  <thead>\n",
       "    <tr style=\"text-align: right;\">\n",
       "      <th></th>\n",
       "      <th>file_name</th>\n",
       "      <th>indices</th>\n",
       "    </tr>\n",
       "  </thead>\n",
       "  <tbody>\n",
       "    <tr>\n",
       "      <th>1</th>\n",
       "      <td>h234_cell_to_reg.tif</td>\n",
       "      <td>(141, 627, 393)</td>\n",
       "    </tr>\n",
       "    <tr>\n",
       "      <th>3</th>\n",
       "      <td>a253_cell_to_reg.tif</td>\n",
       "      <td>(148, 629, 333)</td>\n",
       "    </tr>\n",
       "    <tr>\n",
       "      <th>9</th>\n",
       "      <td>e144_cell_to_reg.tif</td>\n",
       "      <td>(103,701,339)</td>\n",
       "    </tr>\n",
       "    <tr>\n",
       "      <th>10</th>\n",
       "      <td>e143_cell_to_reg.tif</td>\n",
       "      <td>(85,568,394)</td>\n",
       "    </tr>\n",
       "    <tr>\n",
       "      <th>11</th>\n",
       "      <td>j319_cell_to_reg.tif</td>\n",
       "      <td>(130, 732, 372)</td>\n",
       "    </tr>\n",
       "    <tr>\n",
       "      <th>12</th>\n",
       "      <td>j316_cell_to_reg.tif</td>\n",
       "      <td>(126, 707, 335)</td>\n",
       "    </tr>\n",
       "    <tr>\n",
       "      <th>14</th>\n",
       "      <td>e142_cell_to_reg.tif</td>\n",
       "      <td>(133, 694, 355)</td>\n",
       "    </tr>\n",
       "    <tr>\n",
       "      <th>15</th>\n",
       "      <td>j317_cell_to_reg.tif</td>\n",
       "      <td>(106, 762, 331)</td>\n",
       "    </tr>\n",
       "    <tr>\n",
       "      <th>16</th>\n",
       "      <td>e153_cell_to_reg.tif</td>\n",
       "      <td>(133, 664, 329)</td>\n",
       "    </tr>\n",
       "  </tbody>\n",
       "</table>\n",
       "</div>"
      ],
      "text/plain": [
       "               file_name          indices\n",
       "1   h234_cell_to_reg.tif  (141, 627, 393)\n",
       "3   a253_cell_to_reg.tif  (148, 629, 333)\n",
       "9   e144_cell_to_reg.tif    (103,701,339)\n",
       "10  e143_cell_to_reg.tif     (85,568,394)\n",
       "11  j319_cell_to_reg.tif  (130, 732, 372)\n",
       "12  j316_cell_to_reg.tif  (126, 707, 335)\n",
       "14  e142_cell_to_reg.tif  (133, 694, 355)\n",
       "15  j317_cell_to_reg.tif  (106, 762, 331)\n",
       "16  e153_cell_to_reg.tif  (133, 664, 329)"
      ]
     },
     "execution_count": 9,
     "metadata": {},
     "output_type": "execute_result"
    }
   ],
   "source": [
    "max_in_reg_df\n",
    "# pull down from spock reg:atl transform files\n",
    "# for each filename, get base"
   ]
  },
  {
   "cell_type": "code",
   "execution_count": 10,
   "id": "peaceful-zoning",
   "metadata": {
    "hidden": true
   },
   "outputs": [
    {
     "data": {
      "text/plain": [
       "<matplotlib.collections.PathCollection at 0x7f9f8a1524a8>"
      ]
     },
     "execution_count": 10,
     "metadata": {},
     "output_type": "execute_result"
    },
    {
     "data": {
      "image/png": "[encoded data removed]",
      "text/plain": [
       "<Figure size 432x288 with 1 Axes>"
      ]
     },
     "metadata": {
      "needs_background": "light"
     },
     "output_type": "display_data"
    }
   ],
   "source": [
    "\n",
    "\n",
    "xs=[]\n",
    "ys=[]\n",
    "for locale in max_in_reg_df.indices:\n",
    "    xs.append(eval(locale)[1])\n",
    "    ys.append(eval(locale)[2])\n",
    "plt.scatter(ys,xs)\n",
    "\n",
    "# from here need to manually check e144_cell_to_reg and e143_cell_to_reg\n",
    "# manual check revealed both blown out, skewing max vals"
   ]
  },
  {
   "cell_type": "code",
   "execution_count": 11,
   "id": "micro-folks",
   "metadata": {
    "hidden": true
   },
   "outputs": [],
   "source": [
    "max_in_reg_df.insert(2,'adj_z',0)\n",
    "max_in_reg_df.insert(3,'adj_y',0)\n",
    "max_in_reg_df.insert(4,'adj_x',0)\n",
    "max_in_reg_df.insert(2,'tz',0)\n",
    "max_in_reg_df.insert(3,'ty',0)\n",
    "max_in_reg_df.insert(4,'tx',0)"
   ]
  },
  {
   "cell_type": "code",
   "execution_count": 12,
   "id": "opening-louis",
   "metadata": {
    "hidden": true
   },
   "outputs": [],
   "source": [
    "max_in_reg_df=max_in_reg_df.reset_index()"
   ]
  },
  {
   "cell_type": "code",
   "execution_count": 13,
   "id": "passing-electric",
   "metadata": {
    "hidden": true
   },
   "outputs": [
    {
     "data": {
      "text/html": [
       "<div>\n",
       "<style scoped>\n",
       "    .dataframe tbody tr th:only-of-type {\n",
       "        vertical-align: middle;\n",
       "    }\n",
       "\n",
       "    .dataframe tbody tr th {\n",
       "        vertical-align: top;\n",
       "    }\n",
       "\n",
       "    .dataframe thead th {\n",
       "        text-align: right;\n",
       "    }\n",
       "</style>\n",
       "<table border=\"1\" class=\"dataframe\">\n",
       "  <thead>\n",
       "    <tr style=\"text-align: right;\">\n",
       "      <th></th>\n",
       "      <th>index</th>\n",
       "      <th>file_name</th>\n",
       "      <th>indices</th>\n",
       "      <th>tz</th>\n",
       "      <th>ty</th>\n",
       "      <th>tx</th>\n",
       "      <th>adj_z</th>\n",
       "      <th>adj_y</th>\n",
       "      <th>adj_x</th>\n",
       "    </tr>\n",
       "  </thead>\n",
       "  <tbody>\n",
       "    <tr>\n",
       "      <th>0</th>\n",
       "      <td>1</td>\n",
       "      <td>h234_cell_to_reg.tif</td>\n",
       "      <td>(141, 627, 393)</td>\n",
       "      <td>0</td>\n",
       "      <td>0</td>\n",
       "      <td>0</td>\n",
       "      <td>0</td>\n",
       "      <td>0</td>\n",
       "      <td>0</td>\n",
       "    </tr>\n",
       "    <tr>\n",
       "      <th>1</th>\n",
       "      <td>3</td>\n",
       "      <td>a253_cell_to_reg.tif</td>\n",
       "      <td>(148, 629, 333)</td>\n",
       "      <td>0</td>\n",
       "      <td>0</td>\n",
       "      <td>0</td>\n",
       "      <td>0</td>\n",
       "      <td>0</td>\n",
       "      <td>0</td>\n",
       "    </tr>\n",
       "    <tr>\n",
       "      <th>2</th>\n",
       "      <td>9</td>\n",
       "      <td>e144_cell_to_reg.tif</td>\n",
       "      <td>(103,701,339)</td>\n",
       "      <td>0</td>\n",
       "      <td>0</td>\n",
       "      <td>0</td>\n",
       "      <td>0</td>\n",
       "      <td>0</td>\n",
       "      <td>0</td>\n",
       "    </tr>\n",
       "    <tr>\n",
       "      <th>3</th>\n",
       "      <td>10</td>\n",
       "      <td>e143_cell_to_reg.tif</td>\n",
       "      <td>(85,568,394)</td>\n",
       "      <td>0</td>\n",
       "      <td>0</td>\n",
       "      <td>0</td>\n",
       "      <td>0</td>\n",
       "      <td>0</td>\n",
       "      <td>0</td>\n",
       "    </tr>\n",
       "    <tr>\n",
       "      <th>4</th>\n",
       "      <td>11</td>\n",
       "      <td>j319_cell_to_reg.tif</td>\n",
       "      <td>(130, 732, 372)</td>\n",
       "      <td>0</td>\n",
       "      <td>0</td>\n",
       "      <td>0</td>\n",
       "      <td>0</td>\n",
       "      <td>0</td>\n",
       "      <td>0</td>\n",
       "    </tr>\n",
       "    <tr>\n",
       "      <th>5</th>\n",
       "      <td>12</td>\n",
       "      <td>j316_cell_to_reg.tif</td>\n",
       "      <td>(126, 707, 335)</td>\n",
       "      <td>0</td>\n",
       "      <td>0</td>\n",
       "      <td>0</td>\n",
       "      <td>0</td>\n",
       "      <td>0</td>\n",
       "      <td>0</td>\n",
       "    </tr>\n",
       "    <tr>\n",
       "      <th>6</th>\n",
       "      <td>14</td>\n",
       "      <td>e142_cell_to_reg.tif</td>\n",
       "      <td>(133, 694, 355)</td>\n",
       "      <td>0</td>\n",
       "      <td>0</td>\n",
       "      <td>0</td>\n",
       "      <td>0</td>\n",
       "      <td>0</td>\n",
       "      <td>0</td>\n",
       "    </tr>\n",
       "    <tr>\n",
       "      <th>7</th>\n",
       "      <td>15</td>\n",
       "      <td>j317_cell_to_reg.tif</td>\n",
       "      <td>(106, 762, 331)</td>\n",
       "      <td>0</td>\n",
       "      <td>0</td>\n",
       "      <td>0</td>\n",
       "      <td>0</td>\n",
       "      <td>0</td>\n",
       "      <td>0</td>\n",
       "    </tr>\n",
       "    <tr>\n",
       "      <th>8</th>\n",
       "      <td>16</td>\n",
       "      <td>e153_cell_to_reg.tif</td>\n",
       "      <td>(133, 664, 329)</td>\n",
       "      <td>0</td>\n",
       "      <td>0</td>\n",
       "      <td>0</td>\n",
       "      <td>0</td>\n",
       "      <td>0</td>\n",
       "      <td>0</td>\n",
       "    </tr>\n",
       "  </tbody>\n",
       "</table>\n",
       "</div>"
      ],
      "text/plain": [
       "   index             file_name          indices  tz  ty  tx  adj_z  adj_y  \\\n",
       "0      1  h234_cell_to_reg.tif  (141, 627, 393)   0   0   0      0      0   \n",
       "1      3  a253_cell_to_reg.tif  (148, 629, 333)   0   0   0      0      0   \n",
       "2      9  e144_cell_to_reg.tif    (103,701,339)   0   0   0      0      0   \n",
       "3     10  e143_cell_to_reg.tif     (85,568,394)   0   0   0      0      0   \n",
       "4     11  j319_cell_to_reg.tif  (130, 732, 372)   0   0   0      0      0   \n",
       "5     12  j316_cell_to_reg.tif  (126, 707, 335)   0   0   0      0      0   \n",
       "6     14  e142_cell_to_reg.tif  (133, 694, 355)   0   0   0      0      0   \n",
       "7     15  j317_cell_to_reg.tif  (106, 762, 331)   0   0   0      0      0   \n",
       "8     16  e153_cell_to_reg.tif  (133, 664, 329)   0   0   0      0      0   \n",
       "\n",
       "   adj_x  \n",
       "0      0  \n",
       "1      0  \n",
       "2      0  \n",
       "3      0  \n",
       "4      0  \n",
       "5      0  \n",
       "6      0  \n",
       "7      0  \n",
       "8      0  "
      ]
     },
     "execution_count": 13,
     "metadata": {},
     "output_type": "execute_result"
    }
   ],
   "source": [
    "max_in_reg_df"
   ]
  },
  {
   "cell_type": "markdown",
   "id": "magnetic-shadow",
   "metadata": {},
   "source": [
    "# for loop"
   ]
  },
  {
   "cell_type": "code",
   "execution_count": 14,
   "id": "developmental-asian",
   "metadata": {},
   "outputs": [],
   "source": [
    "?os.rename"
   ]
  },
  {
   "cell_type": "code",
   "execution_count": 17,
   "id": "welcome-table",
   "metadata": {},
   "outputs": [
    {
     "name": "stderr",
     "output_type": "stream",
     "text": [
      "/Users/emilydennis/.local/lib/python3.7/site-packages/ipykernel_launcher.py:9: SettingWithCopyWarning: \n",
      "A value is trying to be set on a copy of a slice from a DataFrame\n",
      "\n",
      "See the caveats in the documentation: https://pandas.pydata.org/pandas-docs/stable/user_guide/indexing.html#returning-a-view-versus-a-copy\n",
      "  if __name__ == '__main__':\n",
      "/Users/emilydennis/.local/lib/python3.7/site-packages/ipykernel_launcher.py:10: SettingWithCopyWarning: \n",
      "A value is trying to be set on a copy of a slice from a DataFrame\n",
      "\n",
      "See the caveats in the documentation: https://pandas.pydata.org/pandas-docs/stable/user_guide/indexing.html#returning-a-view-versus-a-copy\n",
      "  # Remove the CWD from sys.path while we load stuff.\n",
      "/Users/emilydennis/.local/lib/python3.7/site-packages/ipykernel_launcher.py:11: SettingWithCopyWarning: \n",
      "A value is trying to be set on a copy of a slice from a DataFrame\n",
      "\n",
      "See the caveats in the documentation: https://pandas.pydata.org/pandas-docs/stable/user_guide/indexing.html#returning-a-view-versus-a-copy\n",
      "  # This is added back by InteractiveShellApp.init_path()\n"
     ]
    }
   ],
   "source": [
    "header='index\\n'\n",
    "numofpts = '1\\n'\n",
    "commonbase = '/Users/emilydennis/Desktop/spimout'\n",
    "mv= sitk.ReadImage(os.path.join(commonbase,'a253_reg_in_atl.tif'))\n",
    "\n",
    "for i in max_in_reg_df.index:\n",
    "    # for loop starts here\n",
    "    indices = eval(max_in_reg_df.indices[i])[::-1] #switch z/x\n",
    "    max_in_reg_df.tz[i]=indices[0]\n",
    "    max_in_reg_df.ty[i]=indices[1]\n",
    "    max_in_reg_df.tx[i]=indices[2]\n",
    "    fullname=max_in_reg_df.file_name[i][:-4]\n",
    "    nm=fullname[:4]\n",
    "    filename = '/Users/emilydennis/Desktop/{}_pts.npy'.format(fullname)\n",
    "    np.save(filename,eval(max_in_reg_df.indices[i])[::-1])\n",
    "    \n",
    "    ptslist = str(indices)[1:-1].split(',')\n",
    "    pts = ptslist[0]+ptslist[1]+ptslist[2]+'\\n'\n",
    "    \n",
    "    file_object = open(r\"/Users/emilydennis/Desktop/spimout/{}_in.pts\".format(nm),\"a\")\n",
    "    for L in [header,numofpts,pts]: \n",
    "        file_object.write(L)\n",
    "    file_object.close()\n",
    "    \n",
    "    transformixImageFilter = sitk.TransformixImageFilter()\n",
    "    parameterMap0 = sitk.ReadParameterFile(os.path.join(commonbase,'{}/TransformParameters.0.txt').format(nm))\n",
    "    transformixImageFilter.SetMovingImage(mv)\n",
    "    transformixImageFilter.SetTransformParameterMap(parameterMap0)\n",
    "    transformixImageFilter.SetOutputDirectory('/Users/emilydennis/Desktop/spimout/')\n",
    "    transformixImageFilter.SetFixedPointSetFileName('/Users/emilydennis/Desktop/spimout/{}_in.pts'.format(nm))\n",
    "    transformixImageFilter.Execute()\n",
    "    os.rename('/Users/emilydennis/Desktop/spimout/outputpoints.txt','/Users/emilydennis/Desktop/spimout/{}_out.txt'.format(nm))"
   ]
  },
  {
   "cell_type": "code",
   "execution_count": 18,
   "id": "pressing-amateur",
   "metadata": {},
   "outputs": [],
   "source": [
    "# for each element of max_in_reg_df get the indices\n",
    "# get the transform files in spimout/h234 for ex\n",
    "# transform points\n",
    "# save in new columns\n",
    "\n",
    "# first remember that images were transformed such that (x,y,z) becomes (z,y,x) "
   ]
  },
  {
   "cell_type": "code",
   "execution_count": null,
   "id": "charming-compensation",
   "metadata": {},
   "outputs": [],
   "source": []
  }
 ],
 "metadata": {
  "kernelspec": {
   "display_name": "Python 3",
   "language": "python",
   "name": "python3"
  },
  "language_info": {
   "codemirror_mode": {
    "name": "ipython",
    "version": 3
   },
   "file_extension": ".py",
   "mimetype": "text/x-python",
   "name": "python",
   "nbconvert_exporter": "python",
   "pygments_lexer": "ipython3",
   "version": "3.7.3"
  },
  "toc": {
   "base_numbering": 1,
   "nav_menu": {},
   "number_sections": true,
   "sideBar": true,
   "skip_h1_title": false,
   "title_cell": "Table of Contents",
   "title_sidebar": "Contents",
   "toc_cell": false,
   "toc_position": {},
   "toc_section_display": true,
   "toc_window_display": false
  }
 },
 "nbformat": 4,
 "nbformat_minor": 5
}

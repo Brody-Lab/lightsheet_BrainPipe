{
 "cells": [
  {
   "cell_type": "code",
   "execution_count": 12,
   "metadata": {},
   "outputs": [],
   "source": [
    "import pickle\n",
    "import matplotlib.pyplot as plt\n",
    "import pandas as pd\n"
   ]
  },
  {
   "cell_type": "code",
   "execution_count": 13,
   "metadata": {},
   "outputs": [],
   "source": [
    "file = open('/Users/emilydennis/Desktop/param_dict.p','rb')\n",
    "test = pickle.load(file)\n"
   ]
  },
  {
   "cell_type": "code",
   "execution_count": 14,
   "metadata": {},
   "outputs": [
    {
     "data": {
      "text/plain": [
       "{'systemdirectory': '/jukebox/',\n",
       " 'inputdictionary': {'/jukebox/LightSheetData/brodyatlas/raw_data/200817_k310_1_1x_555_016na_1hfds_z10um_50msec_20povlp_14-27-08': [['cellch',\n",
       "    '00']]},\n",
       " 'outputdirectory': '/jukebox/scratch/ejdennis/k310',\n",
       " 'xyz_scale': (5, 5, 10),\n",
       " 'tiling_overlap': 0.2,\n",
       " 'stitchingmethod': 'blending',\n",
       " 'AtlasFile': '/jukebox/LightSheetData/brodyatlas/atlas/for_registration_to_lightsheet/WHS_SD_rat_T2star_v1.01_atlas.tif',\n",
       " 'annotationfile': '/jukebox/LightSheetData/brodyatlas/atlas/for_registration_to_lightsheet/WHS_SD_rat_atlas_v3_annotation.tif',\n",
       " 'blendtype': 'sigmoidal',\n",
       " 'intensitycorrection': True,\n",
       " 'resizefactor': 3,\n",
       " 'rawdata': True,\n",
       " 'finalorientation': ('2', '1', '0'),\n",
       " 'slurmjobfactor': 50,\n",
       " 'packagedirectory': '/mnt/sink/scratch/ejdennis/rat_BrainPipe',\n",
       " 'parameterfolder': '/mnt/sink/scratch/ejdennis/rat_BrainPipe/parameterfolder',\n",
       " 'regexpression': '(.*)(?P<y>\\\\d{2})(.*)(?P<x>\\\\d{2})(.*C+)(?P<ls>[0-9]{1,2})(.*Z+)(?P<z>[0-9]{1,4})(.*r)(?P<ch>[0-9]{1,4})(.ome.tif)',\n",
       " 'volumes': [<tools.imageprocessing.preprocessing.volume at 0x7fd09b6f8390>]}"
      ]
     },
     "execution_count": 14,
     "metadata": {},
     "output_type": "execute_result"
    }
   ],
   "source": [
    "test"
   ]
  },
  {
   "cell_type": "code",
   "execution_count": null,
   "metadata": {},
   "outputs": [],
   "source": []
  }
 ],
 "metadata": {
  "kernelspec": {
   "display_name": "Python 3",
   "language": "python",
   "name": "python3"
  },
  "language_info": {
   "codemirror_mode": {
    "name": "ipython",
    "version": 3
   },
   "file_extension": ".py",
   "mimetype": "text/x-python",
   "name": "python",
   "nbconvert_exporter": "python",
   "pygments_lexer": "ipython3",
   "version": "3.7.4"
  }
 },
 "nbformat": 4,
 "nbformat_minor": 2
}

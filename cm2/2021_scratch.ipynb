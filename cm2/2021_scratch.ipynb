{
 "cells": [
  {
   "cell_type": "code",
   "execution_count": 1,
   "metadata": {},
   "outputs": [],
   "source": [
    "import os, sys\n",
    "import tifffile as tif\n",
    "import numpy as np\n",
    "import pandas as pd\n",
    "import seaborn as sns`\n",
    "import matplotlib.pyplot as plt\n",
    "sys.path.append('/home/emilyjanedennis/Desktop/GitHub/rat_BrainPipe/ClearMap2')"
   ]
  },
  {
   "cell_type": "code",
   "execution_count": 2,
   "metadata": {},
   "outputs": [
    {
     "name": "stderr",
     "output_type": "stream",
     "text": [
      "/home/emilyjanedennis/anaconda3/envs/cm2/lib/python3.6/site-packages/vispy/visuals/line/line.py:395: FutureWarning: Passing (type, 1) or '1type' as a synonym of type is deprecated; in a future version of numpy, it will be understood as (type, (1,)) / '(1,)type'.\n",
      "  ('color', np.float32, 4)])\n",
      "/home/emilyjanedennis/anaconda3/envs/cm2/lib/python3.6/site-packages/vispy/visuals/line/arrow.py:57: FutureWarning: Passing (type, 1) or '1type' as a synonym of type is deprecated; in a future version of numpy, it will be understood as (type, (1,)) / '(1,)type'.\n",
      "  ('linewidth', np.float32, 1)\n",
      "/home/emilyjanedennis/anaconda3/envs/cm2/lib/python3.6/site-packages/vispy/visuals/isocurve.py:22: UserWarning: VisPy is not yet compatible with matplotlib 2.2+\n",
      "  warnings.warn(\"VisPy is not yet compatible with matplotlib 2.2+\")\n"
     ]
    },
    {
     "name": "stdout",
     "output_type": "stream",
     "text": [
      "Elastix sucessfully initialized from path: /home/emilyjanedennis/Desktop/GitHub/rat_BrainPipe/ClearMap2/ClearMap/External/elastix/build\n"
     ]
    }
   ],
   "source": [
    "from ClearMap.Environment import  *"
   ]
  },
  {
   "cell_type": "code",
   "execution_count": 119,
   "metadata": {},
   "outputs": [],
   "source": [
    "j317=np.load('/home/emilyjanedennis/Desktop/cells_raw.npy')"
   ]
  },
  {
   "cell_type": "code",
   "execution_count": 120,
   "metadata": {},
   "outputs": [
    {
     "data": {
      "text/plain": [
       "(4679590,)"
      ]
     },
     "execution_count": 120,
     "metadata": {},
     "output_type": "execute_result"
    }
   ],
   "source": [
    "np.shape(j317)"
   ]
  },
  {
   "cell_type": "code",
   "execution_count": 152,
   "metadata": {},
   "outputs": [
    {
     "data": {
      "text/html": [
       "<div>\n",
       "<style scoped>\n",
       "    .dataframe tbody tr th:only-of-type {\n",
       "        vertical-align: middle;\n",
       "    }\n",
       "\n",
       "    .dataframe tbody tr th {\n",
       "        vertical-align: top;\n",
       "    }\n",
       "\n",
       "    .dataframe thead th {\n",
       "        text-align: right;\n",
       "    }\n",
       "</style>\n",
       "<table border=\"1\" class=\"dataframe\">\n",
       "  <thead>\n",
       "    <tr style=\"text-align: right;\">\n",
       "      <th></th>\n",
       "      <th>x</th>\n",
       "      <th>y</th>\n",
       "      <th>z</th>\n",
       "      <th>size</th>\n",
       "      <th>source</th>\n",
       "      <th>background</th>\n",
       "    </tr>\n",
       "  </thead>\n",
       "  <tbody>\n",
       "    <tr>\n",
       "      <th>0</th>\n",
       "      <td>1017</td>\n",
       "      <td>4804</td>\n",
       "      <td>1584</td>\n",
       "      <td>1</td>\n",
       "      <td>563905.0</td>\n",
       "      <td>563905.0</td>\n",
       "    </tr>\n",
       "    <tr>\n",
       "      <th>1</th>\n",
       "      <td>1094</td>\n",
       "      <td>4447</td>\n",
       "      <td>1584</td>\n",
       "      <td>1</td>\n",
       "      <td>616661.0</td>\n",
       "      <td>616661.0</td>\n",
       "    </tr>\n",
       "    <tr>\n",
       "      <th>2</th>\n",
       "      <td>1095</td>\n",
       "      <td>4550</td>\n",
       "      <td>1584</td>\n",
       "      <td>1</td>\n",
       "      <td>617307.0</td>\n",
       "      <td>617307.0</td>\n",
       "    </tr>\n",
       "    <tr>\n",
       "      <th>3</th>\n",
       "      <td>1118</td>\n",
       "      <td>4579</td>\n",
       "      <td>1584</td>\n",
       "      <td>1</td>\n",
       "      <td>632664.0</td>\n",
       "      <td>632664.0</td>\n",
       "    </tr>\n",
       "    <tr>\n",
       "      <th>4</th>\n",
       "      <td>1134</td>\n",
       "      <td>4652</td>\n",
       "      <td>1584</td>\n",
       "      <td>1</td>\n",
       "      <td>643790.0</td>\n",
       "      <td>643790.0</td>\n",
       "    </tr>\n",
       "    <tr>\n",
       "      <th>...</th>\n",
       "      <td>...</td>\n",
       "      <td>...</td>\n",
       "      <td>...</td>\n",
       "      <td>...</td>\n",
       "      <td>...</td>\n",
       "      <td>...</td>\n",
       "    </tr>\n",
       "    <tr>\n",
       "      <th>4679585</th>\n",
       "      <td>6495</td>\n",
       "      <td>4747</td>\n",
       "      <td>1277</td>\n",
       "      <td>1</td>\n",
       "      <td>31163323.0</td>\n",
       "      <td>31163323.0</td>\n",
       "    </tr>\n",
       "    <tr>\n",
       "      <th>4679586</th>\n",
       "      <td>6496</td>\n",
       "      <td>4731</td>\n",
       "      <td>1277</td>\n",
       "      <td>1</td>\n",
       "      <td>31163774.0</td>\n",
       "      <td>31163774.0</td>\n",
       "    </tr>\n",
       "    <tr>\n",
       "      <th>4679587</th>\n",
       "      <td>6497</td>\n",
       "      <td>4963</td>\n",
       "      <td>1277</td>\n",
       "      <td>1</td>\n",
       "      <td>31164281.0</td>\n",
       "      <td>31164281.0</td>\n",
       "    </tr>\n",
       "    <tr>\n",
       "      <th>4679588</th>\n",
       "      <td>6593</td>\n",
       "      <td>4188</td>\n",
       "      <td>1277</td>\n",
       "      <td>1</td>\n",
       "      <td>31224172.0</td>\n",
       "      <td>31224172.0</td>\n",
       "    </tr>\n",
       "    <tr>\n",
       "      <th>4679589</th>\n",
       "      <td>6635</td>\n",
       "      <td>4921</td>\n",
       "      <td>1277</td>\n",
       "      <td>4</td>\n",
       "      <td>31246495.0</td>\n",
       "      <td>31246495.0</td>\n",
       "    </tr>\n",
       "  </tbody>\n",
       "</table>\n",
       "<p>4679590 rows × 6 columns</p>\n",
       "</div>"
      ],
      "text/plain": [
       "            x     y     z  size      source  background\n",
       "0        1017  4804  1584     1    563905.0    563905.0\n",
       "1        1094  4447  1584     1    616661.0    616661.0\n",
       "2        1095  4550  1584     1    617307.0    617307.0\n",
       "3        1118  4579  1584     1    632664.0    632664.0\n",
       "4        1134  4652  1584     1    643790.0    643790.0\n",
       "...       ...   ...   ...   ...         ...         ...\n",
       "4679585  6495  4747  1277     1  31163323.0  31163323.0\n",
       "4679586  6496  4731  1277     1  31163774.0  31163774.0\n",
       "4679587  6497  4963  1277     1  31164281.0  31164281.0\n",
       "4679588  6593  4188  1277     1  31224172.0  31224172.0\n",
       "4679589  6635  4921  1277     4  31246495.0  31246495.0\n",
       "\n",
       "[4679590 rows x 6 columns]"
      ]
     },
     "execution_count": 152,
     "metadata": {},
     "output_type": "execute_result"
    }
   ],
   "source": [
    "a = pd.DataFrame(j317)\n",
    "a"
   ]
  },
  {
   "cell_type": "code",
   "execution_count": 156,
   "metadata": {},
   "outputs": [],
   "source": [
    "sz1 = a[a['size'] < 2]\n",
    "sz2 = a[a['size'] > 200]\n",
    "sz2 = sz2[sz2['size']<1000]\n",
    "\n",
    "sz100 = a[a['size'] > 250]\n",
    "sz100 = sz100[sz100['size']<1000]\n"
   ]
  },
  {
   "cell_type": "code",
   "execution_count": 157,
   "metadata": {},
   "outputs": [
    {
     "data": {
      "text/plain": [
       "<matplotlib.collections.PathCollection at 0x7f88bdd23748>"
      ]
     },
     "execution_count": 157,
     "metadata": {},
     "output_type": "execute_result"
    },
    {
     "data": {
      "image/png": "[encoded data removed]",
      "text/plain": [
       "<Figure size 432x288 with 1 Axes>"
      ]
     },
     "metadata": {
      "needs_background": "light"
     },
     "output_type": "display_data"
    }
   ],
   "source": [
    "plt.scatter(sz2['x'],sz2['y'],alpha=0.5,s=1)"
   ]
  },
  {
   "cell_type": "code",
   "execution_count": 158,
   "metadata": {},
   "outputs": [
    {
     "data": {
      "text/plain": [
       "<matplotlib.collections.PathCollection at 0x7f88bdd01470>"
      ]
     },
     "execution_count": 158,
     "metadata": {},
     "output_type": "execute_result"
    },
    {
     "data": {
      "image/png": "[encoded data removed]",
      "text/plain": [
       "<Figure size 432x288 with 1 Axes>"
      ]
     },
     "metadata": {
      "needs_background": "light"
     },
     "output_type": "display_data"
    }
   ],
   "source": [
    "plt.scatter(sz100['x'],sz100['y'],alpha=0.5,s=1)"
   ]
  },
  {
   "cell_type": "code",
   "execution_count": 159,
   "metadata": {},
   "outputs": [
    {
     "data": {
      "text/plain": [
       "360.0"
      ]
     },
     "execution_count": 159,
     "metadata": {},
     "output_type": "execute_result"
    }
   ],
   "source": [
    "1.8*200"
   ]
  },
  {
   "cell_type": "code",
   "execution_count": null,
   "metadata": {},
   "outputs": [],
   "source": []
  },
  {
   "cell_type": "code",
   "execution_count": null,
   "metadata": {},
   "outputs": [],
   "source": []
  },
  {
   "cell_type": "code",
   "execution_count": 100,
   "metadata": {},
   "outputs": [
    {
     "data": {
      "text/plain": [
       "(array([5.2688e+04, 1.7700e+02, 1.6000e+01, 1.0000e+01, 1.0000e+00,\n",
       "        4.0000e+00, 1.0000e+00, 1.0000e+00, 2.0000e+00, 1.0000e+00]),\n",
       " array([ 251. , 1192.6, 2134.2, 3075.8, 4017.4, 4959. , 5900.6, 6842.2,\n",
       "        7783.8, 8725.4, 9667. ]),\n",
       " <a list of 10 Patch objects>)"
      ]
     },
     "execution_count": 100,
     "metadata": {},
     "output_type": "execute_result"
    },
    {
     "data": {
      "image/png": "[encoded data removed]",
      "text/plain": [
       "<Figure size 432x288 with 1 Axes>"
      ]
     },
     "metadata": {
      "needs_background": "light"
     },
     "output_type": "display_data"
    }
   ],
   "source": [
    "test = sz10[sz10['size']>250]\n",
    "plt.hist(test['size'])"
   ]
  },
  {
   "cell_type": "code",
   "execution_count": 4,
   "metadata": {},
   "outputs": [
    {
     "ename": "IndexError",
     "evalue": "only integers, slices (`:`), ellipsis (`...`), numpy.newaxis (`None`) and integer or boolean arrays are valid indices",
     "output_type": "error",
     "traceback": [
      "\u001b[0;31m---------------------------------------------------------------------------\u001b[0m",
      "\u001b[0;31mIndexError\u001b[0m                                Traceback (most recent call last)",
      "\u001b[0;32m<ipython-input-4-158da6cbb956>\u001b[0m in \u001b[0;36m<module>\u001b[0;34m\u001b[0m\n\u001b[1;32m      7\u001b[0m       }\n\u001b[1;32m      8\u001b[0m \u001b[0mfiletosave\u001b[0m\u001b[0;34m=\u001b[0m \u001b[0;34m\"/home/emilyjanedennis/Desktop/a235_filtered.npy\"\u001b[0m\u001b[0;34m\u001b[0m\u001b[0;34m\u001b[0m\u001b[0m\n\u001b[0;32m----> 9\u001b[0;31m \u001b[0mcells\u001b[0m\u001b[0;34m.\u001b[0m\u001b[0mfilter_cells\u001b[0m\u001b[0;34m(\u001b[0m\u001b[0msource\u001b[0m \u001b[0;34m=\u001b[0m \u001b[0ma235\u001b[0m\u001b[0;34m,\u001b[0m \u001b[0msink\u001b[0m \u001b[0;34m=\u001b[0m \u001b[0mfiletosave\u001b[0m\u001b[0;34m,\u001b[0m \u001b[0mthresholds\u001b[0m\u001b[0;34m=\u001b[0m\u001b[0mthresholds\u001b[0m\u001b[0;34m)\u001b[0m\u001b[0;34m;\u001b[0m\u001b[0;34m\u001b[0m\u001b[0;34m\u001b[0m\u001b[0m\n\u001b[0m",
      "\u001b[0;32m~/Desktop/GitHub/rat_BrainPipe/ClearMap2/ClearMap/ImageProcessing/Experts/Cells.py\u001b[0m in \u001b[0;36mfilter_cells\u001b[0;34m(source, sink, thresholds)\u001b[0m\n\u001b[1;32m    671\u001b[0m         \u001b[0mt\u001b[0m \u001b[0;34m=\u001b[0m \u001b[0;34m(\u001b[0m\u001b[0mt\u001b[0m\u001b[0;34m,\u001b[0m \u001b[0;32mNone\u001b[0m\u001b[0;34m)\u001b[0m\u001b[0;34m;\u001b[0m\u001b[0;34m\u001b[0m\u001b[0;34m\u001b[0m\u001b[0m\n\u001b[1;32m    672\u001b[0m       \u001b[0;32mif\u001b[0m \u001b[0mt\u001b[0m\u001b[0;34m[\u001b[0m\u001b[0;36m0\u001b[0m\u001b[0;34m]\u001b[0m \u001b[0;32mis\u001b[0m \u001b[0;32mnot\u001b[0m \u001b[0;32mNone\u001b[0m\u001b[0;34m:\u001b[0m\u001b[0;34m\u001b[0m\u001b[0;34m\u001b[0m\u001b[0m\n\u001b[0;32m--> 673\u001b[0;31m         \u001b[0mids\u001b[0m \u001b[0;34m=\u001b[0m \u001b[0mnp\u001b[0m\u001b[0;34m.\u001b[0m\u001b[0mlogical_and\u001b[0m\u001b[0;34m(\u001b[0m\u001b[0mids\u001b[0m\u001b[0;34m,\u001b[0m \u001b[0mt\u001b[0m\u001b[0;34m[\u001b[0m\u001b[0;36m0\u001b[0m\u001b[0;34m]\u001b[0m \u001b[0;34m<=\u001b[0m \u001b[0msource\u001b[0m\u001b[0;34m[\u001b[0m\u001b[0mk\u001b[0m\u001b[0;34m]\u001b[0m\u001b[0;34m)\u001b[0m\u001b[0;34m\u001b[0m\u001b[0;34m\u001b[0m\u001b[0m\n\u001b[0m\u001b[1;32m    674\u001b[0m       \u001b[0;32mif\u001b[0m \u001b[0mt\u001b[0m\u001b[0;34m[\u001b[0m\u001b[0;36m1\u001b[0m\u001b[0;34m]\u001b[0m \u001b[0;32mis\u001b[0m \u001b[0;32mnot\u001b[0m \u001b[0;32mNone\u001b[0m\u001b[0;34m:\u001b[0m\u001b[0;34m\u001b[0m\u001b[0;34m\u001b[0m\u001b[0m\n\u001b[1;32m    675\u001b[0m         \u001b[0mids\u001b[0m \u001b[0;34m=\u001b[0m \u001b[0mnp\u001b[0m\u001b[0;34m.\u001b[0m\u001b[0mlogical_and\u001b[0m\u001b[0;34m(\u001b[0m\u001b[0mids\u001b[0m\u001b[0;34m,\u001b[0m \u001b[0mt\u001b[0m\u001b[0;34m[\u001b[0m\u001b[0;36m1\u001b[0m\u001b[0;34m]\u001b[0m \u001b[0;34m>\u001b[0m \u001b[0msource\u001b[0m\u001b[0;34m[\u001b[0m\u001b[0mk\u001b[0m\u001b[0;34m]\u001b[0m\u001b[0;34m)\u001b[0m\u001b[0;34m;\u001b[0m\u001b[0;34m\u001b[0m\u001b[0;34m\u001b[0m\u001b[0m\n",
      "\u001b[0;32m~/Desktop/GitHub/rat_BrainPipe/ClearMap2/ClearMap/IO/NPY.py\u001b[0m in \u001b[0;36m__getitem__\u001b[0;34m(self, *args)\u001b[0m\n\u001b[1;32m    160\u001b[0m   \u001b[0;31m### Data\u001b[0m\u001b[0;34m\u001b[0m\u001b[0;34m\u001b[0m\u001b[0;34m\u001b[0m\u001b[0m\n\u001b[1;32m    161\u001b[0m   \u001b[0;32mdef\u001b[0m \u001b[0m__getitem__\u001b[0m\u001b[0;34m(\u001b[0m\u001b[0mself\u001b[0m\u001b[0;34m,\u001b[0m \u001b[0;34m*\u001b[0m\u001b[0margs\u001b[0m\u001b[0;34m)\u001b[0m\u001b[0;34m:\u001b[0m\u001b[0;34m\u001b[0m\u001b[0;34m\u001b[0m\u001b[0m\n\u001b[0;32m--> 162\u001b[0;31m     \u001b[0;32mreturn\u001b[0m \u001b[0mself\u001b[0m\u001b[0;34m.\u001b[0m\u001b[0marray\u001b[0m\u001b[0;34m.\u001b[0m\u001b[0m__getitem__\u001b[0m\u001b[0;34m(\u001b[0m\u001b[0;34m*\u001b[0m\u001b[0margs\u001b[0m\u001b[0;34m)\u001b[0m\u001b[0;34m;\u001b[0m\u001b[0;34m\u001b[0m\u001b[0;34m\u001b[0m\u001b[0m\n\u001b[0m\u001b[1;32m    163\u001b[0m \u001b[0;34m\u001b[0m\u001b[0m\n\u001b[1;32m    164\u001b[0m   \u001b[0;32mdef\u001b[0m \u001b[0m__setitem__\u001b[0m\u001b[0;34m(\u001b[0m\u001b[0mself\u001b[0m\u001b[0;34m,\u001b[0m \u001b[0;34m*\u001b[0m\u001b[0margs\u001b[0m\u001b[0;34m)\u001b[0m\u001b[0;34m:\u001b[0m\u001b[0;34m\u001b[0m\u001b[0;34m\u001b[0m\u001b[0m\n",
      "\u001b[0;31mIndexError\u001b[0m: only integers, slices (`:`), ellipsis (`...`), numpy.newaxis (`None`) and integer or boolean arrays are valid indices"
     ]
    }
   ],
   "source": [
    "\n",
    "#directories and files\n",
    "a235 = ['/home/emilyjanedennis/Desktop/cells_raw.npy']\n",
    "thresholds = {'source' : 3,\n",
    "      'size'   : (30,120)\n",
    "      }\n",
    "filetosave= \"/home/emilyjanedennis/Desktop/a235_filtered.npy\"\n",
    "cells.filter_cells(source = a235, sink = filetosave, thresholds=thresholds);\n"
   ]
  },
  {
   "cell_type": "code",
   "execution_count": null,
   "metadata": {},
   "outputs": [],
   "source": []
  },
  {
   "cell_type": "code",
   "execution_count": null,
   "metadata": {},
   "outputs": [],
   "source": []
  },
  {
   "cell_type": "code",
   "execution_count": null,
   "metadata": {},
   "outputs": [],
   "source": []
  },
  {
   "cell_type": "code",
   "execution_count": null,
   "metadata": {},
   "outputs": [],
   "source": []
  }
 ],
 "metadata": {
  "kernelspec": {
   "display_name": "Python 3",
   "language": "python",
   "name": "python3"
  },
  "language_info": {
   "codemirror_mode": {
    "name": "ipython",
    "version": 3
   },
   "file_extension": ".py",
   "mimetype": "text/x-python",
   "name": "python",
   "nbconvert_exporter": "python",
   "pygments_lexer": "ipython3",
   "version": "3.6.8"
  },
  "toc": {
   "base_numbering": 1,
   "nav_menu": {},
   "number_sections": true,
   "sideBar": true,
   "skip_h1_title": false,
   "title_cell": "Table of Contents",
   "title_sidebar": "Contents",
   "toc_cell": false,
   "toc_position": {},
   "toc_section_display": true,
   "toc_window_display": false
  }
 },
 "nbformat": 4,
 "nbformat_minor": 4
}
